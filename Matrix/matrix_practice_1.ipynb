{
 "cells": [
  {
   "cell_type": "code",
   "execution_count": 1,
   "id": "629ae335-7580-46d4-858c-abce9f749845",
   "metadata": {},
   "outputs": [],
   "source": [
    "import sympy as sp"
   ]
  },
  {
   "cell_type": "code",
   "execution_count": 11,
   "id": "13d3d74d-a5b2-4887-97ce-16c46482519b",
   "metadata": {},
   "outputs": [
    {
     "data": {
      "text/latex": [
       "$\\displaystyle \\left[\\begin{matrix}5\\\\4\\end{matrix}\\right]$"
      ],
      "text/plain": [
       "Matrix([\n",
       "[5],\n",
       "[4]])"
      ]
     },
     "execution_count": 11,
     "metadata": {},
     "output_type": "execute_result"
    }
   ],
   "source": [
    "m1 = sp.Matrix(\n",
    "    [\n",
    "        [2, -3],\n",
    "        [-1, 4]\n",
    "    ]\n",
    ")\n",
    "\n",
    "m2 = sp.Matrix(\n",
    "    [\n",
    "        [-2],\n",
    "        [11]\n",
    "    ]\n",
    ")\n",
    "\n",
    "m1.inv() * m2"
   ]
  },
  {
   "cell_type": "code",
   "execution_count": 5,
   "id": "281a17bf-0ae2-4806-9bc9-95a1f4b56716",
   "metadata": {},
   "outputs": [],
   "source": []
  },
  {
   "cell_type": "code",
   "execution_count": 6,
   "id": "43a60d03-e4a4-4ef8-aa89-6d34105df15c",
   "metadata": {},
   "outputs": [
    {
     "data": {
      "text/latex": [
       "$\\displaystyle \\left[\\begin{matrix}25.0\\\\-30.0\\end{matrix}\\right]$"
      ],
      "text/plain": [
       "Matrix([\n",
       "[ 25.0],\n",
       "[-30.0]])"
      ]
     },
     "execution_count": 6,
     "metadata": {},
     "output_type": "execute_result"
    }
   ],
   "source": []
  },
  {
   "cell_type": "code",
   "execution_count": 9,
   "id": "6e59e3e6-0856-41ff-9cc6-e540a60bc273",
   "metadata": {},
   "outputs": [],
   "source": [
    "a_inv = [\n",
    "    [3, -5, 0],\n",
    "    [-2, 5, 2],\n",
    "    [0, 4, 5]\n",
    "]\n",
    "\n",
    "a_inv = sp.Matrix(a_inv)\n",
    "\n",
    "b = [\n",
    "    [3],\n",
    "    [5],\n",
    "    [-1]\n",
    "]\n",
    "b = sp.Matrix(b)"
   ]
  },
  {
   "cell_type": "code",
   "execution_count": 10,
   "id": "4afddd43-579b-4a03-bef6-41606ac47ed3",
   "metadata": {},
   "outputs": [
    {
     "data": {
      "text/latex": [
       "$\\displaystyle \\left[\\begin{matrix}-16\\\\17\\\\15\\end{matrix}\\right]$"
      ],
      "text/plain": [
       "Matrix([\n",
       "[-16],\n",
       "[ 17],\n",
       "[ 15]])"
      ]
     },
     "execution_count": 10,
     "metadata": {},
     "output_type": "execute_result"
    }
   ],
   "source": [
    "a_inv * b"
   ]
  },
  {
   "cell_type": "code",
   "execution_count": null,
   "id": "1ae9b3d7-bfdf-4d70-ab26-582ca79d75dc",
   "metadata": {},
   "outputs": [],
   "source": []
  }
 ],
 "metadata": {
  "kernelspec": {
   "display_name": "Math",
   "language": "python",
   "name": "math"
  },
  "language_info": {
   "codemirror_mode": {
    "name": "ipython",
    "version": 3
   },
   "file_extension": ".py",
   "mimetype": "text/x-python",
   "name": "python",
   "nbconvert_exporter": "python",
   "pygments_lexer": "ipython3",
   "version": "3.8.13"
  }
 },
 "nbformat": 4,
 "nbformat_minor": 5
}
