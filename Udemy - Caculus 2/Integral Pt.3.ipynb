{
 "cells": [
  {
   "cell_type": "code",
   "execution_count": 1,
   "metadata": {},
   "outputs": [],
   "source": [
    "from integral_functions import *"
   ]
  },
  {
   "cell_type": "code",
   "execution_count": 2,
   "metadata": {},
   "outputs": [],
   "source": [
    "from IPython.core.interactiveshell import InteractiveShell\n",
    "InteractiveShell.ast_node_interactivity = 'all'"
   ]
  },
  {
   "cell_type": "code",
   "execution_count": 3,
   "metadata": {},
   "outputs": [],
   "source": [
    "x, y, z= sp.symbols('x y z', real=True)\n",
    "a, b, c, d, s, k, t = sp.symbols('a b c d s k t', real=True)\n",
    "\n",
    "def reset_symbols():\n",
    "    global x, y, z, a, b, c, d, s, k, t\n",
    "    x, y, z = sp.symbols('x y z', real=True)\n",
    "    a, b, c, d, s, k, t = sp.symbols('a b c d s k t', real=True)"
   ]
  },
  {
   "cell_type": "markdown",
   "metadata": {
    "tags": []
   },
   "source": [
    "# Q1"
   ]
  },
  {
   "cell_type": "code",
   "execution_count": 4,
   "metadata": {},
   "outputs": [
    {
     "data": {
      "text/latex": [
       "$\\displaystyle 2 - \\sqrt[3]{y}$"
      ],
      "text/plain": [
       "2 - y**(1/3)"
      ]
     },
     "execution_count": 4,
     "metadata": {},
     "output_type": "execute_result"
    },
    {
     "data": {
      "text/plain": [
       "1"
      ]
     },
     "execution_count": 4,
     "metadata": {},
     "output_type": "execute_result"
    },
    {
     "data": {
      "text/latex": [
       "$\\displaystyle \\pi \\left(\\left(2 - \\sqrt[3]{y}\\right)^{2} - 1\\right)$"
      ],
      "text/plain": [
       "pi*((2 - y**(1/3))**2 - 1)"
      ]
     },
     "execution_count": 4,
     "metadata": {},
     "output_type": "execute_result"
    },
    {
     "data": {
      "text/latex": [
       "$\\displaystyle \\frac{3 \\pi}{5}$"
      ],
      "text/plain": [
       "3*pi/5"
      ]
     },
     "execution_count": 4,
     "metadata": {},
     "output_type": "execute_result"
    }
   ],
   "source": [
    "r1 = 2  - y ** sp.Rational(1,3)\n",
    "r1\n",
    "r2 = 2 - 1\n",
    "r2\n",
    "af = sp.pi*( (r1)**2 - (r2)**2 )\n",
    "af\n",
    "af.integrate((y, 0, 1))"
   ]
  },
  {
   "cell_type": "markdown",
   "metadata": {},
   "source": [
    "# Q2"
   ]
  },
  {
   "cell_type": "code",
   "execution_count": 5,
   "metadata": {},
   "outputs": [
    {
     "data": {
      "text/latex": [
       "$\\displaystyle \\pi \\left(4 - y\\right)$"
      ],
      "text/plain": [
       "pi*(4 - y)"
      ]
     },
     "execution_count": 5,
     "metadata": {},
     "output_type": "execute_result"
    },
    {
     "data": {
      "text/latex": [
       "$\\displaystyle 8 \\pi$"
      ],
      "text/plain": [
       "8*pi"
      ]
     },
     "execution_count": 5,
     "metadata": {},
     "output_type": "execute_result"
    }
   ],
   "source": [
    "r1 = 2\n",
    "r2 = sp.sqrt(y)\n",
    "af = sp.pi*( (r1)**2 - (r2)**2 )\n",
    "af\n",
    "af.integrate((y, 0, 4))"
   ]
  },
  {
   "cell_type": "markdown",
   "metadata": {},
   "source": [
    "# Q3"
   ]
  },
  {
   "cell_type": "code",
   "execution_count": 6,
   "metadata": {},
   "outputs": [
    {
     "data": {
      "text/latex": [
       "$\\displaystyle \\pi \\left(\\left(\\frac{y^{2}}{2} + 1\\right)^{2} - \\left(\\frac{y^{4}}{4} - \\frac{y^{2}}{2} + 1\\right)^{2}\\right)$"
      ],
      "text/plain": [
       "pi*((y**2/2 + 1)**2 - (y**4/4 - y**2/2 + 1)**2)"
      ]
     },
     "execution_count": 6,
     "metadata": {},
     "output_type": "execute_result"
    },
    {
     "data": {
      "text/latex": [
       "$\\displaystyle \\frac{1984 \\pi}{315}$"
      ],
      "text/plain": [
       "1984*pi/315"
      ]
     },
     "execution_count": 6,
     "metadata": {},
     "output_type": "execute_result"
    }
   ],
   "source": [
    "r1 = (y**2 / 2) - (-1)\n",
    "r2 = (y**4/4 - y**2/2) - (-1)\n",
    "af = sp.pi*( (r1)**2 - (r2)**2 )\n",
    "af\n",
    "af.integrate((y, -2, 2))"
   ]
  },
  {
   "cell_type": "markdown",
   "metadata": {},
   "source": [
    "# Q4"
   ]
  },
  {
   "cell_type": "code",
   "execution_count": 7,
   "metadata": {},
   "outputs": [
    {
     "data": {
      "text/latex": [
       "$\\displaystyle \\pi \\left(\\left(4 - \\frac{y^{2}}{2}\\right)^{2} - 4\\right)$"
      ],
      "text/plain": [
       "pi*((4 - y**2/2)**2 - 4)"
      ]
     },
     "execution_count": 7,
     "metadata": {},
     "output_type": "execute_result"
    },
    {
     "data": {
      "text/latex": [
       "$\\displaystyle \\frac{448 \\pi}{15}$"
      ],
      "text/plain": [
       "448*pi/15"
      ]
     },
     "execution_count": 7,
     "metadata": {},
     "output_type": "execute_result"
    }
   ],
   "source": [
    "r1 = 4 - (y**2/2)\n",
    "r2 = 4 - 2\n",
    "af = sp.pi*( (r1)**2 - (r2)**2 )\n",
    "af\n",
    "af.integrate((y, -2, 2))"
   ]
  },
  {
   "cell_type": "markdown",
   "metadata": {},
   "source": [
    "# Q5"
   ]
  },
  {
   "cell_type": "code",
   "execution_count": 8,
   "metadata": {},
   "outputs": [
    {
     "data": {
      "text/latex": [
       "$\\displaystyle 2 \\pi \\left(- y^{5} + 16 y\\right)$"
      ],
      "text/plain": [
       "2*pi*(-y**5 + 16*y)"
      ]
     },
     "execution_count": 8,
     "metadata": {},
     "output_type": "execute_result"
    },
    {
     "data": {
      "text/latex": [
       "$\\displaystyle \\frac{128 \\pi}{3}$"
      ],
      "text/plain": [
       "128*pi/3"
      ]
     },
     "execution_count": 8,
     "metadata": {},
     "output_type": "execute_result"
    }
   ],
   "source": [
    "expr = 2*sp.pi*(16*y-y**5)\n",
    "expr\n",
    "expr.integrate((y,0,2))"
   ]
  },
  {
   "cell_type": "code",
   "execution_count": 9,
   "metadata": {},
   "outputs": [
    {
     "data": {
      "text/latex": [
       "$\\displaystyle \\pi \\sqrt{x}$"
      ],
      "text/plain": [
       "pi*sqrt(x)"
      ]
     },
     "execution_count": 9,
     "metadata": {},
     "output_type": "execute_result"
    },
    {
     "data": {
      "text/latex": [
       "$\\displaystyle \\frac{128 \\pi}{3}$"
      ],
      "text/plain": [
       "128*pi/3"
      ]
     },
     "execution_count": 9,
     "metadata": {},
     "output_type": "execute_result"
    }
   ],
   "source": [
    "expr = sp.sqrt(x) * sp.pi\n",
    "expr\n",
    "expr.integrate((x,0,16))"
   ]
  },
  {
   "cell_type": "markdown",
   "metadata": {},
   "source": [
    "# Q6"
   ]
  },
  {
   "cell_type": "code",
   "execution_count": 10,
   "metadata": {},
   "outputs": [
    {
     "data": {
      "text/latex": [
       "$\\displaystyle 2 \\pi \\left(1 - \\sqrt[3]{y}\\right) \\left(1 - y\\right)$"
      ],
      "text/plain": [
       "2*pi*(1 - y**(1/3))*(1 - y)"
      ]
     },
     "execution_count": 10,
     "metadata": {},
     "output_type": "execute_result"
    }
   ],
   "source": [
    "af = 2*sp.pi*(1-y)*(1-sp.root(y,3))\n",
    "af"
   ]
  },
  {
   "cell_type": "code",
   "execution_count": 11,
   "metadata": {},
   "outputs": [
    {
     "data": {
      "text/latex": [
       "$\\displaystyle \\frac{5 \\pi}{14}$"
      ],
      "text/plain": [
       "5*pi/14"
      ]
     },
     "execution_count": 11,
     "metadata": {},
     "output_type": "execute_result"
    }
   ],
   "source": [
    "af.integrate((y, 0,1))"
   ]
  },
  {
   "cell_type": "markdown",
   "metadata": {
    "tags": []
   },
   "source": [
    "# Q7"
   ]
  },
  {
   "cell_type": "code",
   "execution_count": 12,
   "metadata": {},
   "outputs": [
    {
     "data": {
      "text/latex": [
       "$\\displaystyle 2 \\pi y \\left(\\sqrt{y} - \\frac{y^{3}}{32}\\right)$"
      ],
      "text/plain": [
       "2*pi*y*(sqrt(y) - y**3/32)"
      ]
     },
     "execution_count": 12,
     "metadata": {},
     "output_type": "execute_result"
    },
    {
     "data": {
      "text/latex": [
       "$\\displaystyle \\frac{64 \\pi}{5}$"
      ],
      "text/plain": [
       "64*pi/5"
      ]
     },
     "execution_count": 12,
     "metadata": {},
     "output_type": "execute_result"
    }
   ],
   "source": [
    "reset_symbols()\n",
    "r = y\n",
    "C = 2*sp.pi*r\n",
    "h = sp.sqrt(y) - y**3/32\n",
    "A = C*h\n",
    "A\n",
    "A.integrate((y,0,4))"
   ]
  },
  {
   "cell_type": "markdown",
   "metadata": {},
   "source": [
    "# Q8"
   ]
  },
  {
   "cell_type": "code",
   "execution_count": 13,
   "metadata": {},
   "outputs": [
    {
     "data": {
      "text/latex": [
       "$\\displaystyle 2 \\pi \\left(1 - \\sqrt{y}\\right) \\left(1 - y\\right)$"
      ],
      "text/plain": [
       "2*pi*(1 - sqrt(y))*(1 - y)"
      ]
     },
     "execution_count": 13,
     "metadata": {},
     "output_type": "execute_result"
    },
    {
     "data": {
      "text/latex": [
       "$\\displaystyle \\frac{7 \\pi}{15}$"
      ],
      "text/plain": [
       "7*pi/15"
      ]
     },
     "execution_count": 13,
     "metadata": {},
     "output_type": "execute_result"
    }
   ],
   "source": [
    "reset_symbols()\n",
    "r = 1-y\n",
    "C = 2*sp.pi*r\n",
    "h = 1 - y**sp.Rational(1,2)\n",
    "A = C*h\n",
    "A\n",
    "A.integrate((y,0,1))"
   ]
  },
  {
   "cell_type": "markdown",
   "metadata": {},
   "source": [
    "# Q9"
   ]
  },
  {
   "cell_type": "code",
   "execution_count": 14,
   "metadata": {},
   "outputs": [
    {
     "data": {
      "text/latex": [
       "$\\displaystyle 2 \\pi \\left(2 - \\sqrt[3]{y}\\right) \\left(2 - y\\right)$"
      ],
      "text/plain": [
       "2*pi*(2 - y**(1/3))*(2 - y)"
      ]
     },
     "execution_count": 14,
     "metadata": {},
     "output_type": "execute_result"
    },
    {
     "data": {
      "text/latex": [
       "$\\displaystyle \\frac{2 \\pi \\left(28 - 9 \\cdot \\sqrt[3]{2}\\right)}{7}$"
      ],
      "text/plain": [
       "2*pi*(28 - 9*2**(1/3))/7"
      ]
     },
     "execution_count": 14,
     "metadata": {},
     "output_type": "execute_result"
    }
   ],
   "source": [
    "reset_symbols()\n",
    "r = 2-y\n",
    "C = 2*sp.pi*r\n",
    "h = 2 - sp.root(y,3)\n",
    "A = C*h\n",
    "A\n",
    "A.integrate((y,0,2)).simplify()"
   ]
  },
  {
   "cell_type": "markdown",
   "metadata": {},
   "source": [
    "# Q10"
   ]
  },
  {
   "cell_type": "code",
   "execution_count": 15,
   "metadata": {},
   "outputs": [
    {
     "data": {
      "text/latex": [
       "$\\displaystyle 2 \\pi \\left(x - 1\\right) \\left(- x^{2} + 4 x - 3\\right)$"
      ],
      "text/plain": [
       "2*pi*(x - 1)*(-x**2 + 4*x - 3)"
      ]
     },
     "execution_count": 15,
     "metadata": {},
     "output_type": "execute_result"
    },
    {
     "data": {
      "text/latex": [
       "$\\displaystyle \\frac{8 \\pi}{3}$"
      ],
      "text/plain": [
       "8*pi/3"
      ]
     },
     "execution_count": 15,
     "metadata": {},
     "output_type": "execute_result"
    }
   ],
   "source": [
    "reset_symbols()\n",
    "r = x - 1\n",
    "C = 2*sp.pi*r\n",
    "h = (4*x - x**2) - 3\n",
    "A = C*h\n",
    "A\n",
    "A.integrate((x,1,3)).simplify()"
   ]
  },
  {
   "cell_type": "markdown",
   "metadata": {},
   "source": [
    "# Q11"
   ]
  },
  {
   "cell_type": "code",
   "execution_count": 16,
   "metadata": {},
   "outputs": [
    {
     "data": {
      "text/latex": [
       "$\\displaystyle 2 \\pi x \\left(\\sqrt{x} - \\frac{x}{2}\\right)$"
      ],
      "text/plain": [
       "2*pi*x*(sqrt(x) - x/2)"
      ]
     },
     "execution_count": 16,
     "metadata": {},
     "output_type": "execute_result"
    },
    {
     "data": {
      "text/latex": [
       "$\\displaystyle \\frac{64 \\pi}{15}$"
      ],
      "text/plain": [
       "64*pi/15"
      ]
     },
     "execution_count": 16,
     "metadata": {},
     "output_type": "execute_result"
    }
   ],
   "source": [
    "reset_symbols()\n",
    "r = x\n",
    "C = 2*sp.pi*r\n",
    "h = sp.sqrt(x) - x/2\n",
    "A = C*h\n",
    "A\n",
    "A.integrate((x,0,4)).simplify()"
   ]
  },
  {
   "cell_type": "markdown",
   "metadata": {},
   "source": [
    "# Q12"
   ]
  },
  {
   "cell_type": "code",
   "execution_count": 17,
   "metadata": {},
   "outputs": [
    {
     "data": {
      "text/latex": [
       "$\\displaystyle 2 \\pi \\left(x + 1\\right) \\left(- 2 x^{2} + 8 x - 6\\right)$"
      ],
      "text/plain": [
       "2*pi*(x + 1)*(-2*x**2 + 8*x - 6)"
      ]
     },
     "execution_count": 17,
     "metadata": {},
     "output_type": "execute_result"
    },
    {
     "data": {
      "text/latex": [
       "$\\displaystyle 16 \\pi$"
      ],
      "text/plain": [
       "16*pi"
      ]
     },
     "execution_count": 17,
     "metadata": {},
     "output_type": "execute_result"
    }
   ],
   "source": [
    "reset_symbols()\n",
    "r = x + 1\n",
    "C = 2*sp.pi*r\n",
    "h = (-x**2+6*x-5) - (x**2 - 2*x + 1)\n",
    "A = C*h\n",
    "A\n",
    "A.integrate((x,1,3)).simplify()"
   ]
  },
  {
   "cell_type": "markdown",
   "metadata": {},
   "source": [
    "# Q13"
   ]
  },
  {
   "cell_type": "code",
   "execution_count": 18,
   "metadata": {},
   "outputs": [
    {
     "data": {
      "text/latex": [
       "$\\displaystyle 2 \\pi \\left(3 - x\\right) \\left(6 - \\frac{2 x^{2}}{3}\\right)$"
      ],
      "text/plain": [
       "2*pi*(3 - x)*(6 - 2*x**2/3)"
      ]
     },
     "execution_count": 18,
     "metadata": {},
     "output_type": "execute_result"
    },
    {
     "data": {
      "text/latex": [
       "$\\displaystyle 45 \\pi$"
      ],
      "text/plain": [
       "45*pi"
      ]
     },
     "execution_count": 18,
     "metadata": {},
     "output_type": "execute_result"
    }
   ],
   "source": [
    "reset_symbols()\n",
    "r = 3-x\n",
    "C = 2*sp.pi*r\n",
    "h = (6-2*x**2/3) - (0)\n",
    "A = C*h\n",
    "A\n",
    "A.integrate((x,0,3)).simplify()"
   ]
  },
  {
   "cell_type": "markdown",
   "metadata": {},
   "source": [
    "# Q14"
   ]
  },
  {
   "cell_type": "code",
   "execution_count": 19,
   "metadata": {},
   "outputs": [
    {
     "data": {
      "text/latex": [
       "$\\displaystyle 2 \\pi \\left(x + 2\\right) \\left(- x^{2} + x + 2\\right)$"
      ],
      "text/plain": [
       "2*pi*(x + 2)*(-x**2 + x + 2)"
      ]
     },
     "execution_count": 19,
     "metadata": {},
     "output_type": "execute_result"
    },
    {
     "data": {
      "text/latex": [
       "$\\displaystyle \\frac{45 \\pi}{2}$"
      ],
      "text/plain": [
       "45*pi/2"
      ]
     },
     "execution_count": 19,
     "metadata": {},
     "output_type": "execute_result"
    }
   ],
   "source": [
    "reset_symbols()\n",
    "r = x - -2\n",
    "C = 2*sp.pi*r\n",
    "h = (x+2) - (x**2)\n",
    "A = C*h\n",
    "A\n",
    "A.integrate((x,-1,2)).simplify()"
   ]
  },
  {
   "cell_type": "markdown",
   "metadata": {},
   "source": [
    "# Q15"
   ]
  },
  {
   "cell_type": "code",
   "execution_count": 20,
   "metadata": {},
   "outputs": [
    {
     "data": {
      "text/latex": [
       "$\\displaystyle 3 x - 6$"
      ],
      "text/plain": [
       "3*x - 6"
      ]
     },
     "execution_count": 20,
     "metadata": {},
     "output_type": "execute_result"
    },
    {
     "data": {
      "text/latex": [
       "$\\displaystyle 54$"
      ],
      "text/plain": [
       "54"
      ]
     },
     "execution_count": 20,
     "metadata": {},
     "output_type": "execute_result"
    },
    {
     "data": {
      "text/latex": [
       "$\\displaystyle 6$"
      ],
      "text/plain": [
       "6"
      ]
     },
     "execution_count": 20,
     "metadata": {},
     "output_type": "execute_result"
    },
    {
     "data": {
      "text/latex": [
       "$\\displaystyle 7$"
      ],
      "text/plain": [
       "7"
      ]
     },
     "execution_count": 20,
     "metadata": {},
     "output_type": "execute_result"
    }
   ],
   "source": [
    "af= (2*x+1) - (-x+7)\n",
    "af\n",
    "A = af.integrate((x, 2, 8))\n",
    "A\n",
    "\n",
    "f = 2*x + 1\n",
    "g = -x + 7\n",
    "\n",
    "x_bar = (x * (f - g)).integrate((x, 2, 8)) / A\n",
    "x_bar\n",
    "\n",
    "y_bar = ((f**2 - g**2)/2).integrate((x, 2, 8)) / A\n",
    "y_bar"
   ]
  },
  {
   "cell_type": "markdown",
   "metadata": {},
   "source": [
    "# Q16"
   ]
  },
  {
   "cell_type": "code",
   "execution_count": 21,
   "metadata": {},
   "outputs": [
    {
     "data": {
      "text/latex": [
       "$\\displaystyle 4 - x^{2}$"
      ],
      "text/plain": [
       "4 - x**2"
      ]
     },
     "execution_count": 21,
     "metadata": {},
     "output_type": "execute_result"
    },
    {
     "data": {
      "text/latex": [
       "$\\displaystyle \\frac{32}{3}$"
      ],
      "text/plain": [
       "32/3"
      ]
     },
     "execution_count": 21,
     "metadata": {},
     "output_type": "execute_result"
    },
    {
     "data": {
      "text/latex": [
       "$\\displaystyle 0$"
      ],
      "text/plain": [
       "0"
      ]
     },
     "execution_count": 21,
     "metadata": {},
     "output_type": "execute_result"
    },
    {
     "data": {
      "text/latex": [
       "$\\displaystyle \\frac{8}{5}$"
      ],
      "text/plain": [
       "8/5"
      ]
     },
     "execution_count": 21,
     "metadata": {},
     "output_type": "execute_result"
    }
   ],
   "source": [
    "f = 4-x**2\n",
    "g = 0\n",
    "\n",
    "af= f - g\n",
    "af\n",
    "A = af.integrate((x, -2, 2))\n",
    "A\n",
    "\n",
    "x_bar = (x * (f - g)).integrate((x, -2, 2)) / A\n",
    "x_bar\n",
    "\n",
    "y_bar = ((f**2 - g**2)/2).integrate((x, -2, 2)) / A\n",
    "y_bar"
   ]
  },
  {
   "cell_type": "markdown",
   "metadata": {},
   "source": [
    "# Q17"
   ]
  },
  {
   "cell_type": "code",
   "execution_count": 22,
   "metadata": {},
   "outputs": [
    {
     "data": {
      "text/latex": [
       "$\\displaystyle 2 x + 4$"
      ],
      "text/plain": [
       "2*x + 4"
      ]
     },
     "execution_count": 22,
     "metadata": {},
     "output_type": "execute_result"
    },
    {
     "data": {
      "text/latex": [
       "$\\displaystyle 96$"
      ],
      "text/plain": [
       "96"
      ]
     },
     "execution_count": 22,
     "metadata": {},
     "output_type": "execute_result"
    },
    {
     "data": {
      "text/latex": [
       "$\\displaystyle \\frac{51}{8}$"
      ],
      "text/plain": [
       "51/8"
      ]
     },
     "execution_count": 22,
     "metadata": {},
     "output_type": "execute_result"
    },
    {
     "data": {
      "text/latex": [
       "$\\displaystyle \\frac{67}{8}$"
      ],
      "text/plain": [
       "67/8"
      ]
     },
     "execution_count": 22,
     "metadata": {},
     "output_type": "execute_result"
    }
   ],
   "source": [
    "f = 2*x+4\n",
    "g = 0\n",
    "\n",
    "af= f - g\n",
    "af\n",
    "A = af.integrate((x, 3, 9))\n",
    "A\n",
    "\n",
    "x_bar = (x * (f - g)).integrate((x, 3, 9)) / A\n",
    "x_bar\n",
    "\n",
    "y_bar = ((f**2 - g**2)/2).integrate((x, 3, 9)) / A\n",
    "y_bar"
   ]
  },
  {
   "cell_type": "markdown",
   "metadata": {},
   "source": [
    "# Q18"
   ]
  },
  {
   "cell_type": "code",
   "execution_count": 24,
   "metadata": {},
   "outputs": [
    {
     "data": {
      "text/latex": [
       "$\\displaystyle 14$"
      ],
      "text/plain": [
       "14"
      ]
     },
     "execution_count": 24,
     "metadata": {},
     "output_type": "execute_result"
    }
   ],
   "source": [
    "p1 = (5, 4)\n",
    "p2 = (7, 1)\n",
    "p3 = (-3, 2)\n",
    "find_triangle_area(p1, p2, p3)"
   ]
  },
  {
   "cell_type": "markdown",
   "metadata": {},
   "source": [
    "# Q19"
   ]
  },
  {
   "cell_type": "code",
   "execution_count": 26,
   "metadata": {},
   "outputs": [
    {
     "data": {
      "text/latex": [
       "$\\displaystyle 10$"
      ],
      "text/plain": [
       "10"
      ]
     },
     "execution_count": 26,
     "metadata": {},
     "output_type": "execute_result"
    }
   ],
   "source": [
    "p1 = (1, 5)\n",
    "p2 = (5, 1)\n",
    "p3 = (7, 4)\n",
    "find_triangle_area(p1, p2, p3)"
   ]
  },
  {
   "cell_type": "markdown",
   "metadata": {},
   "source": [
    "# Q20"
   ]
  },
  {
   "cell_type": "code",
   "execution_count": 28,
   "metadata": {},
   "outputs": [
    {
     "data": {
      "text/latex": [
       "$\\displaystyle \\frac{21}{2}$"
      ],
      "text/plain": [
       "21/2"
      ]
     },
     "execution_count": 28,
     "metadata": {},
     "output_type": "execute_result"
    }
   ],
   "source": [
    "p1 = (-3, 1)\n",
    "p2 = (0, 6)\n",
    "p3 = (3, 4)\n",
    "find_triangle_area(p1, p2, p3)"
   ]
  },
  {
   "cell_type": "code",
   "execution_count": null,
   "metadata": {},
   "outputs": [],
   "source": []
  }
 ],
 "metadata": {
  "kernelspec": {
   "display_name": "Math",
   "language": "python",
   "name": "math"
  },
  "language_info": {
   "codemirror_mode": {
    "name": "ipython",
    "version": 3
   },
   "file_extension": ".py",
   "mimetype": "text/x-python",
   "name": "python",
   "nbconvert_exporter": "python",
   "pygments_lexer": "ipython3",
   "version": "3.8.12"
  }
 },
 "nbformat": 4,
 "nbformat_minor": 4
}
