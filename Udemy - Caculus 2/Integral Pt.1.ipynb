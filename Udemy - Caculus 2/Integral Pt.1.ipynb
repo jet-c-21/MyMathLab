{
 "cells": [
  {
   "cell_type": "code",
   "execution_count": 1,
   "id": "a9dde556-b801-4566-88ba-20056a5ba42d",
   "metadata": {},
   "outputs": [],
   "source": [
    "import sympy as sp"
   ]
  },
  {
   "cell_type": "code",
   "execution_count": 2,
   "id": "dfa3e311-7bfa-4eab-915b-70e7388c424d",
   "metadata": {},
   "outputs": [],
   "source": [
    "from IPython.core.interactiveshell import InteractiveShell\n",
    "InteractiveShell.ast_node_interactivity = 'all'"
   ]
  },
  {
   "cell_type": "code",
   "execution_count": 3,
   "id": "35fe934f-d574-421c-ae9d-963cd5a0cb77",
   "metadata": {},
   "outputs": [],
   "source": [
    "x, y, z= sp.symbols('x y z', real=True)\n",
    "a, b, c, d, s, k, t = sp.symbols('a b c d s k t', real=True)\n",
    "\n",
    "def reset_symbols():\n",
    "    global x, y, z, a, b, c, d, s, k, t\n",
    "    x, y, z= sp.symbols('x y z', real=True)\n",
    "    a, b, c, d, s, k, t = sp.symbols('a b c d s k t', real=True)"
   ]
  },
  {
   "cell_type": "code",
   "execution_count": 4,
   "id": "e99b072b-57fb-4805-b86f-b7380e1f0398",
   "metadata": {},
   "outputs": [],
   "source": [
    "def show_integral(itg_f):\n",
    "    eq = sp.Eq(itg_f, itg_f.doit())\n",
    "    return eq"
   ]
  },
  {
   "cell_type": "code",
   "execution_count": 5,
   "id": "1cc43618-6141-4e54-8ccd-d798f684c82f",
   "metadata": {},
   "outputs": [],
   "source": [
    "def get_area_btw_curves_with_intv(eq1, eq2, interval):\n",
    "    integrand_1 = eq1.rhs\n",
    "    integrand_2 = eq2.rhs\n",
    "    ig_args = (x, interval[0], interval[1])\n",
    "\n",
    "    igd_1_area = integrand_1.integrate(ig_args)\n",
    "    igd_2_area = integrand_2.integrate(ig_args)\n",
    "\n",
    "    if igd_1_area > igd_2_area:\n",
    "        higher_igd = integrand_1\n",
    "        lower_igd = integrand_2\n",
    "    else:\n",
    "        higher_igd = integrand_2\n",
    "        lower_igd = integrand_1\n",
    "\n",
    "    return sp.Integral(higher_igd, ig_args) - sp.Integral(lower_igd, ig_args)"
   ]
  },
  {
   "cell_type": "code",
   "execution_count": 6,
   "id": "a278cacb-51d7-4e12-80a4-cb1a772e5caa",
   "metadata": {
    "tags": []
   },
   "outputs": [],
   "source": [
    "def get_area_btw_curves_up_down(eq1: sp.Equality, eq2: sp.Equality):\n",
    "    ans = sp.solve([eq1, eq2], (x, y))\n",
    "\n",
    "    integrand_1 = eq1.rhs\n",
    "    integrand_2 = eq2.rhs\n",
    "\n",
    "    f = sp.Integer(0)\n",
    "    for i in range(len(ans) - 1):\n",
    "        interval = [ans[i][0], ans[i + 1][0]]\n",
    "        ig_args = (x, interval[0], interval[1])\n",
    "\n",
    "        igd_1_area = integrand_1.integrate(ig_args)\n",
    "        igd_2_area = integrand_2.integrate(ig_args)\n",
    "\n",
    "        if igd_1_area > igd_2_area:\n",
    "            higher_igd = integrand_1\n",
    "            lower_igd = integrand_2\n",
    "        else:\n",
    "            higher_igd = integrand_2\n",
    "            lower_igd = integrand_1\n",
    "\n",
    "        new_term = sp.Integral(higher_igd, ig_args) - sp.Integral(lower_igd, ig_args)\n",
    "        f += new_term\n",
    "\n",
    "    return f\n",
    "\n",
    "\n",
    "def get_area_btw_curves_left_right(eq1: sp.Equality, eq2: sp.Equality):\n",
    "    ans = sp.solve([eq1, eq2], (x, y))\n",
    "#     print(ans)\n",
    "\n",
    "    integrand_1 = eq1.rhs\n",
    "    integrand_2 = eq2.rhs\n",
    "\n",
    "    f = sp.Integer(0)\n",
    "    for i in range(len(ans) - 1):\n",
    "        interval = [ans[i][1], ans[i + 1][1]]\n",
    "        ig_args = (y, interval[0], interval[1])\n",
    "\n",
    "        igd_1_area = integrand_1.integrate(ig_args)\n",
    "        igd_2_area = integrand_2.integrate(ig_args)\n",
    "\n",
    "        if igd_1_area > igd_2_area:\n",
    "            higher_igd = integrand_1\n",
    "            lower_igd = integrand_2\n",
    "        else:\n",
    "            higher_igd = integrand_2\n",
    "            lower_igd = integrand_1\n",
    "\n",
    "        new_term = sp.Integral(higher_igd, ig_args) - sp.Integral(lower_igd, ig_args)\n",
    "        f += new_term\n",
    "\n",
    "    return f\n",
    "\n",
    "\n",
    "def get_area_btw_curves(eq1: sp.Equality, eq2: sp.Equality, wrt='x'):\n",
    "    if wrt == 'x':\n",
    "        return get_area_btw_curves_up_down(eq1, eq2)\n",
    "    else:\n",
    "        return get_area_btw_curves_left_right(eq1, eq2)"
   ]
  },
  {
   "cell_type": "markdown",
   "id": "439fe1b6-35d8-45cf-bf2e-2ebbd3f6bb6e",
   "metadata": {},
   "source": [
    "# Q1"
   ]
  },
  {
   "cell_type": "code",
   "execution_count": 7,
   "id": "8f6fdecb-6302-458c-81d2-067393a5c096",
   "metadata": {},
   "outputs": [
    {
     "data": {
      "text/latex": [
       "$\\displaystyle y = \\sec^{2}{\\left(x \\right)}$"
      ],
      "text/plain": [
       "Eq(y, sec(x)**2)"
      ]
     },
     "execution_count": 7,
     "metadata": {},
     "output_type": "execute_result"
    }
   ],
   "source": [
    "eq1 = sp.Eq(y, sp.sec(x) ** 2)\n",
    "eq1"
   ]
  },
  {
   "cell_type": "code",
   "execution_count": 8,
   "id": "d5805982-0538-4879-91b3-5c152a233a5f",
   "metadata": {},
   "outputs": [
    {
     "data": {
      "text/latex": [
       "$\\displaystyle y = 1$"
      ],
      "text/plain": [
       "Eq(y, 1)"
      ]
     },
     "execution_count": 8,
     "metadata": {},
     "output_type": "execute_result"
    }
   ],
   "source": [
    "eq2 = sp.Eq(y, sp.Integer(1))\n",
    "eq2"
   ]
  },
  {
   "cell_type": "code",
   "execution_count": 9,
   "id": "440c4f44-c5d7-44db-ba0f-5bffbc444190",
   "metadata": {},
   "outputs": [],
   "source": [
    "x_interval = (sp.Integer(0), sp.pi/4)"
   ]
  },
  {
   "cell_type": "code",
   "execution_count": 10,
   "id": "60918464-1743-426f-8db7-5f72adce096d",
   "metadata": {},
   "outputs": [
    {
     "data": {
      "text/latex": [
       "$\\displaystyle - \\int\\limits_{0}^{\\frac{\\pi}{4}} 1\\, dx + \\int\\limits_{0}^{\\frac{\\pi}{4}} \\sec^{2}{\\left(x \\right)}\\, dx$"
      ],
      "text/plain": [
       "-Integral(1, (x, 0, pi/4)) + Integral(sec(x)**2, (x, 0, pi/4))"
      ]
     },
     "execution_count": 10,
     "metadata": {},
     "output_type": "execute_result"
    }
   ],
   "source": [
    "af = get_area_btw_curves_with_intv(eq1, eq2, x_interval)\n",
    "af"
   ]
  },
  {
   "cell_type": "code",
   "execution_count": 11,
   "id": "2ff4eaa6-fe92-49c0-a1ce-52092ade6f0d",
   "metadata": {},
   "outputs": [
    {
     "data": {
      "text/latex": [
       "$\\displaystyle 1 - \\frac{\\pi}{4}$"
      ],
      "text/plain": [
       "1 - pi/4"
      ]
     },
     "execution_count": 11,
     "metadata": {},
     "output_type": "execute_result"
    }
   ],
   "source": [
    "af.doit()"
   ]
  },
  {
   "cell_type": "markdown",
   "id": "06a2541d-0c6f-436e-8100-c2a604fcdd33",
   "metadata": {},
   "source": [
    "# Q2"
   ]
  },
  {
   "cell_type": "code",
   "execution_count": 12,
   "id": "33baf006-b5e8-4215-9306-a90eb9b7c90f",
   "metadata": {},
   "outputs": [
    {
     "data": {
      "text/latex": [
       "$\\displaystyle y = x^{3} + 2 x^{2} + 1$"
      ],
      "text/plain": [
       "Eq(y, x**3 + 2*x**2 + 1)"
      ]
     },
     "execution_count": 12,
     "metadata": {},
     "output_type": "execute_result"
    }
   ],
   "source": [
    "eq1 = sp.Eq(y, x**3 + 2*x**2 + 1)\n",
    "eq1"
   ]
  },
  {
   "cell_type": "code",
   "execution_count": 13,
   "id": "883bee7f-f415-49c1-97b6-05bb7fa5cfb0",
   "metadata": {},
   "outputs": [
    {
     "data": {
      "text/latex": [
       "$\\displaystyle y = x + 3$"
      ],
      "text/plain": [
       "Eq(y, x + 3)"
      ]
     },
     "execution_count": 13,
     "metadata": {},
     "output_type": "execute_result"
    }
   ],
   "source": [
    "eq2 = sp.Eq(y, x+3)\n",
    "eq2"
   ]
  },
  {
   "cell_type": "code",
   "execution_count": 14,
   "id": "11a7c0cc-e64b-4600-9789-67925354f85e",
   "metadata": {},
   "outputs": [
    {
     "data": {
      "text/latex": [
       "$\\displaystyle - \\int\\limits_{-1}^{1} \\left(x^{3} + 2 x^{2} + 1\\right)\\, dx - \\int\\limits_{-2}^{-1} \\left(x + 3\\right)\\, dx + \\int\\limits_{-2}^{-1} \\left(x^{3} + 2 x^{2} + 1\\right)\\, dx + \\int\\limits_{-1}^{1} \\left(x + 3\\right)\\, dx$"
      ],
      "text/plain": [
       "-Integral(x**3 + 2*x**2 + 1, (x, -1, 1)) - Integral(x + 3, (x, -2, -1)) + Integral(x**3 + 2*x**2 + 1, (x, -2, -1)) + Integral(x + 3, (x, -1, 1))"
      ]
     },
     "execution_count": 14,
     "metadata": {},
     "output_type": "execute_result"
    }
   ],
   "source": [
    "af = get_area_btw_curves(eq1, eq2)\n",
    "af"
   ]
  },
  {
   "cell_type": "code",
   "execution_count": 15,
   "id": "0dc8c5de-69f5-4c3b-a77b-f8be4c38fabd",
   "metadata": {},
   "outputs": [
    {
     "data": {
      "text/latex": [
       "$\\displaystyle \\frac{37}{12}$"
      ],
      "text/plain": [
       "37/12"
      ]
     },
     "execution_count": 15,
     "metadata": {},
     "output_type": "execute_result"
    }
   ],
   "source": [
    "af.doit()"
   ]
  },
  {
   "cell_type": "markdown",
   "id": "54ee98e9-719e-4e26-a1bd-73c355cda919",
   "metadata": {},
   "source": [
    "# Q3"
   ]
  },
  {
   "cell_type": "code",
   "execution_count": 16,
   "id": "8b392f7e-d5a7-42a6-aa9b-23b4e3a5a01a",
   "metadata": {},
   "outputs": [
    {
     "data": {
      "text/latex": [
       "$\\displaystyle y = - x^{2} + 4 x + 1$"
      ],
      "text/plain": [
       "Eq(y, -x**2 + 4*x + 1)"
      ]
     },
     "execution_count": 16,
     "metadata": {},
     "output_type": "execute_result"
    }
   ],
   "source": [
    "eq1 = sp.Eq(y, 1 + 4*x - x**2)\n",
    "eq1"
   ]
  },
  {
   "cell_type": "code",
   "execution_count": 17,
   "id": "e4d606df-2a23-4a4a-8f2d-947ad7b39d72",
   "metadata": {},
   "outputs": [
    {
     "data": {
      "text/latex": [
       "$\\displaystyle y = 6 - 2 x$"
      ],
      "text/plain": [
       "Eq(y, 6 - 2*x)"
      ]
     },
     "execution_count": 17,
     "metadata": {},
     "output_type": "execute_result"
    }
   ],
   "source": [
    "eq2 = sp.Eq(y, 6-2*x)\n",
    "eq2"
   ]
  },
  {
   "cell_type": "code",
   "execution_count": 18,
   "id": "fe756115-9812-493d-8020-8171604d7f83",
   "metadata": {},
   "outputs": [
    {
     "data": {
      "text/latex": [
       "$\\displaystyle - \\int\\limits_{1}^{5} \\left(6 - 2 x\\right)\\, dx + \\int\\limits_{1}^{5} \\left(- x^{2} + 4 x + 1\\right)\\, dx$"
      ],
      "text/plain": [
       "-Integral(6 - 2*x, (x, 1, 5)) + Integral(-x**2 + 4*x + 1, (x, 1, 5))"
      ]
     },
     "execution_count": 18,
     "metadata": {},
     "output_type": "execute_result"
    }
   ],
   "source": [
    "af = get_area_btw_curves(eq1, eq2)\n",
    "af"
   ]
  },
  {
   "cell_type": "code",
   "execution_count": 19,
   "id": "40f6ca13-0381-4612-9b33-4b81f2f5581e",
   "metadata": {},
   "outputs": [
    {
     "data": {
      "text/latex": [
       "$\\displaystyle \\frac{32}{3}$"
      ],
      "text/plain": [
       "32/3"
      ]
     },
     "execution_count": 19,
     "metadata": {},
     "output_type": "execute_result"
    }
   ],
   "source": [
    "af.doit()"
   ]
  },
  {
   "cell_type": "markdown",
   "id": "37228f77-13c7-46ef-9f77-958855f18806",
   "metadata": {},
   "source": [
    "# Q4"
   ]
  },
  {
   "cell_type": "code",
   "execution_count": 20,
   "id": "5ca46087-cb68-4b12-8e59-4d0920265c16",
   "metadata": {},
   "outputs": [
    {
     "data": {
      "text/latex": [
       "$\\displaystyle x = 3 y^{2}$"
      ],
      "text/plain": [
       "Eq(x, 3*y**2)"
      ]
     },
     "execution_count": 20,
     "metadata": {},
     "output_type": "execute_result"
    }
   ],
   "source": [
    "eq1 = sp.Eq(x, 3 * y ** 2)\n",
    "eq1"
   ]
  },
  {
   "cell_type": "code",
   "execution_count": 21,
   "id": "5f6106fc-a6ac-4322-90b3-fcd363b01c3b",
   "metadata": {},
   "outputs": [
    {
     "data": {
      "text/latex": [
       "$\\displaystyle x = y^{2} + 2$"
      ],
      "text/plain": [
       "Eq(x, y**2 + 2)"
      ]
     },
     "execution_count": 21,
     "metadata": {},
     "output_type": "execute_result"
    }
   ],
   "source": [
    "eq2 = sp.Eq(x, y ** 2 + 2)\n",
    "eq2"
   ]
  },
  {
   "cell_type": "code",
   "execution_count": 22,
   "id": "0c9bd101-e780-4758-a2cd-4a0c49f97eb0",
   "metadata": {},
   "outputs": [
    {
     "data": {
      "text/latex": [
       "$\\displaystyle \\frac{8}{3}$"
      ],
      "text/plain": [
       "8/3"
      ]
     },
     "execution_count": 22,
     "metadata": {},
     "output_type": "execute_result"
    }
   ],
   "source": [
    "af = get_area_btw_curves(eq1, eq2, 'y')\n",
    "af.doit()"
   ]
  },
  {
   "cell_type": "markdown",
   "id": "992e0d67-a981-4bba-915f-91fa54b0bfde",
   "metadata": {},
   "source": [
    "# Q5"
   ]
  },
  {
   "cell_type": "code",
   "execution_count": 23,
   "id": "1f3ef849-4e37-4868-b67c-7fdcafc7bb73",
   "metadata": {},
   "outputs": [
    {
     "data": {
      "text/latex": [
       "$\\displaystyle x = 2 y^{2} + 1$"
      ],
      "text/plain": [
       "Eq(x, 2*y**2 + 1)"
      ]
     },
     "execution_count": 23,
     "metadata": {},
     "output_type": "execute_result"
    }
   ],
   "source": [
    "eq1 = sp.Eq(x, 2*y**2+1)\n",
    "eq1"
   ]
  },
  {
   "cell_type": "code",
   "execution_count": 24,
   "id": "d5f5aa4a-1358-44c9-afe9-30c30f6ba840",
   "metadata": {},
   "outputs": [
    {
     "data": {
      "text/latex": [
       "$\\displaystyle x = y^{2} + 5$"
      ],
      "text/plain": [
       "Eq(x, y**2 + 5)"
      ]
     },
     "execution_count": 24,
     "metadata": {},
     "output_type": "execute_result"
    }
   ],
   "source": [
    "eq2 = sp.Eq(x, y ** 2 + 5)\n",
    "eq2"
   ]
  },
  {
   "cell_type": "code",
   "execution_count": 25,
   "id": "5b898ae7-0153-4810-9402-4b17c582515f",
   "metadata": {},
   "outputs": [
    {
     "data": {
      "text/latex": [
       "$\\displaystyle \\frac{32}{3}$"
      ],
      "text/plain": [
       "32/3"
      ]
     },
     "execution_count": 25,
     "metadata": {},
     "output_type": "execute_result"
    }
   ],
   "source": [
    "af = get_area_btw_curves(eq1, eq2, 'y')\n",
    "af.doit()"
   ]
  },
  {
   "cell_type": "markdown",
   "id": "9bb4f499-5246-4fb0-b082-9f83cbe8abbd",
   "metadata": {},
   "source": [
    "# Q6"
   ]
  },
  {
   "cell_type": "code",
   "execution_count": 26,
   "id": "bd49b284-68a4-4994-b75e-d8c73c9bfa76",
   "metadata": {},
   "outputs": [
    {
     "data": {
      "text/latex": [
       "$\\displaystyle x = y^{2} + y + 3$"
      ],
      "text/plain": [
       "Eq(x, y**2 + y + 3)"
      ]
     },
     "execution_count": 26,
     "metadata": {},
     "output_type": "execute_result"
    }
   ],
   "source": [
    "eq1 = sp.Eq(x, y**2+y+3)\n",
    "eq1"
   ]
  },
  {
   "cell_type": "code",
   "execution_count": 27,
   "id": "9d9c748a-5296-4515-a016-07d1d30730a5",
   "metadata": {},
   "outputs": [
    {
     "data": {
      "text/latex": [
       "$\\displaystyle x = 2 y^{2} + 2 y + 1$"
      ],
      "text/plain": [
       "Eq(x, 2*y**2 + 2*y + 1)"
      ]
     },
     "execution_count": 27,
     "metadata": {},
     "output_type": "execute_result"
    }
   ],
   "source": [
    "eq2 = sp.Eq(x, 2*y ** 2 + 2*y+1)\n",
    "eq2"
   ]
  },
  {
   "cell_type": "code",
   "execution_count": 28,
   "id": "095feed3-f7de-4496-bcdb-56f60b87b485",
   "metadata": {},
   "outputs": [
    {
     "data": {
      "text/latex": [
       "$\\displaystyle \\frac{9}{2}$"
      ],
      "text/plain": [
       "9/2"
      ]
     },
     "execution_count": 28,
     "metadata": {},
     "output_type": "execute_result"
    }
   ],
   "source": [
    "af = get_area_btw_curves(eq1, eq2, 'y')\n",
    "af.doit()"
   ]
  },
  {
   "cell_type": "markdown",
   "id": "965df098-3407-4958-84ab-301e1b91ae7a",
   "metadata": {},
   "source": [
    "# Q7"
   ]
  },
  {
   "cell_type": "code",
   "execution_count": 29,
   "id": "edfa70a8-b321-4cc5-a392-8c294e54419f",
   "metadata": {},
   "outputs": [
    {
     "data": {
      "text/latex": [
       "$\\displaystyle y = x^{3} - 3 x^{2} + 2 x$"
      ],
      "text/plain": [
       "Eq(y, x**3 - 3*x**2 + 2*x)"
      ]
     },
     "execution_count": 29,
     "metadata": {},
     "output_type": "execute_result"
    }
   ],
   "source": [
    "eq1 = sp.Eq(y, x**3-3*x**2+2*x)\n",
    "eq1"
   ]
  },
  {
   "cell_type": "code",
   "execution_count": 30,
   "id": "21649779-f52d-4ac7-b7ce-7b70f60806f5",
   "metadata": {},
   "outputs": [
    {
     "data": {
      "text/latex": [
       "$\\displaystyle y = 0$"
      ],
      "text/plain": [
       "Eq(y, 0)"
      ]
     },
     "execution_count": 30,
     "metadata": {},
     "output_type": "execute_result"
    }
   ],
   "source": [
    "eq2 = sp.Eq(y, 0)\n",
    "eq2"
   ]
  },
  {
   "cell_type": "code",
   "execution_count": 31,
   "id": "8445d30d-653a-4fa3-8c7f-1afcba4d8872",
   "metadata": {},
   "outputs": [
    {
     "data": {
      "text/latex": [
       "$\\displaystyle - \\int\\limits_{0}^{1} 0\\, dx + \\int\\limits_{1}^{2} 0\\, dx - \\int\\limits_{1}^{2} \\left(x^{3} - 3 x^{2} + 2 x\\right)\\, dx + \\int\\limits_{0}^{1} \\left(x^{3} - 3 x^{2} + 2 x\\right)\\, dx$"
      ],
      "text/plain": [
       "-Integral(0, (x, 0, 1)) + Integral(0, (x, 1, 2)) - Integral(x**3 - 3*x**2 + 2*x, (x, 1, 2)) + Integral(x**3 - 3*x**2 + 2*x, (x, 0, 1))"
      ]
     },
     "execution_count": 31,
     "metadata": {},
     "output_type": "execute_result"
    }
   ],
   "source": [
    "af = get_area_btw_curves(eq1, eq2)\n",
    "af"
   ]
  },
  {
   "cell_type": "code",
   "execution_count": 32,
   "id": "0597d2da-56e6-442a-8219-a487e7934a6a",
   "metadata": {},
   "outputs": [
    {
     "data": {
      "text/latex": [
       "$\\displaystyle \\frac{1}{2}$"
      ],
      "text/plain": [
       "1/2"
      ]
     },
     "execution_count": 32,
     "metadata": {},
     "output_type": "execute_result"
    }
   ],
   "source": [
    "af.doit()"
   ]
  },
  {
   "cell_type": "markdown",
   "id": "c57d9cb8-9da3-4e3e-90c4-90d6f42904f9",
   "metadata": {},
   "source": [
    "# Q8"
   ]
  },
  {
   "cell_type": "code",
   "execution_count": 33,
   "id": "35d7727e-0dae-47aa-b863-3162cdb468d8",
   "metadata": {},
   "outputs": [
    {
     "data": {
      "text/latex": [
       "$\\displaystyle y = x \\left(x - 3\\right)$"
      ],
      "text/plain": [
       "Eq(y, x*(x - 3))"
      ]
     },
     "execution_count": 33,
     "metadata": {},
     "output_type": "execute_result"
    }
   ],
   "source": [
    "eq1 = sp.Eq(y, x*(x-3))\n",
    "eq1"
   ]
  },
  {
   "cell_type": "code",
   "execution_count": 34,
   "id": "c6b66bde-c71b-43bf-a90c-f414066716c1",
   "metadata": {},
   "outputs": [
    {
     "data": {
      "text/latex": [
       "$\\displaystyle y = 0$"
      ],
      "text/plain": [
       "Eq(y, 0)"
      ]
     },
     "execution_count": 34,
     "metadata": {},
     "output_type": "execute_result"
    }
   ],
   "source": [
    "eq2 = sp.Eq(y, 0)\n",
    "eq2"
   ]
  },
  {
   "cell_type": "code",
   "execution_count": 35,
   "id": "226fa363-099e-41ed-94d4-ba1b89244182",
   "metadata": {},
   "outputs": [
    {
     "data": {
      "text/latex": [
       "$\\displaystyle - \\int\\limits_{0}^{5} 0\\, dx + \\int\\limits_{0}^{5} x \\left(x - 3\\right)\\, dx$"
      ],
      "text/plain": [
       "-Integral(0, (x, 0, 5)) + Integral(x*(x - 3), (x, 0, 5))"
      ]
     },
     "execution_count": 35,
     "metadata": {},
     "output_type": "execute_result"
    }
   ],
   "source": [
    "af = get_area_btw_curves_with_intv(eq1, eq2, (0, 5))\n",
    "af"
   ]
  },
  {
   "cell_type": "code",
   "execution_count": 36,
   "id": "1b20b2e7-0474-41a5-b14a-858331f30799",
   "metadata": {},
   "outputs": [
    {
     "data": {
      "text/latex": [
       "$\\displaystyle \\frac{25}{6}$"
      ],
      "text/plain": [
       "25/6"
      ]
     },
     "execution_count": 36,
     "metadata": {},
     "output_type": "execute_result"
    }
   ],
   "source": [
    "af.doit()"
   ]
  },
  {
   "cell_type": "markdown",
   "id": "e2f8858a-4a47-453a-9218-1262db7a50e5",
   "metadata": {},
   "source": [
    "# Q9"
   ]
  },
  {
   "cell_type": "code",
   "execution_count": 37,
   "id": "4d444562-8a3a-4ed5-a8e4-c8e3e66334f9",
   "metadata": {},
   "outputs": [
    {
     "data": {
      "text/latex": [
       "$\\displaystyle x = y^{2}$"
      ],
      "text/plain": [
       "Eq(x, y**2)"
      ]
     },
     "execution_count": 37,
     "metadata": {},
     "output_type": "execute_result"
    }
   ],
   "source": [
    "eq1 = sp.Eq(x, y**2)\n",
    "eq1"
   ]
  },
  {
   "cell_type": "code",
   "execution_count": 38,
   "id": "b720db57-c630-470b-a8be-22ce4282bbd9",
   "metadata": {},
   "outputs": [
    {
     "data": {
      "text/latex": [
       "$\\displaystyle x = y + 2$"
      ],
      "text/plain": [
       "Eq(x, y + 2)"
      ]
     },
     "execution_count": 38,
     "metadata": {},
     "output_type": "execute_result"
    }
   ],
   "source": [
    "eq2 = sp.Eq(x, y + 2)\n",
    "eq2"
   ]
  },
  {
   "cell_type": "code",
   "execution_count": 39,
   "id": "ac524d7c-de72-4f5c-8ccc-ca9a66aa0fc7",
   "metadata": {},
   "outputs": [
    {
     "data": {
      "text/latex": [
       "$\\displaystyle - \\int\\limits_{-1}^{2} y^{2}\\, dy + \\int\\limits_{-1}^{2} \\left(y + 2\\right)\\, dy = \\frac{9}{2}$"
      ],
      "text/plain": [
       "Eq(-Integral(y**2, (y, -1, 2)) + Integral(y + 2, (y, -1, 2)), 9/2)"
      ]
     },
     "execution_count": 39,
     "metadata": {},
     "output_type": "execute_result"
    }
   ],
   "source": [
    "af = get_area_btw_curves(eq1, eq2, 'y')\n",
    "show_integral(af)"
   ]
  },
  {
   "cell_type": "code",
   "execution_count": 40,
   "id": "24c16bd9-d95b-4630-8604-e3115f65ccf9",
   "metadata": {},
   "outputs": [
    {
     "data": {
      "text/latex": [
       "$\\displaystyle y = x^{2}$"
      ],
      "text/plain": [
       "Eq(y, x**2)"
      ]
     },
     "execution_count": 40,
     "metadata": {},
     "output_type": "execute_result"
    }
   ],
   "source": [
    "eq1 = sp.Eq(y, x**2)\n",
    "eq1"
   ]
  },
  {
   "cell_type": "code",
   "execution_count": 41,
   "id": "0199f67e-00c8-4e05-acb8-4eb5651fb89c",
   "metadata": {},
   "outputs": [
    {
     "data": {
      "text/latex": [
       "$\\displaystyle y = 25$"
      ],
      "text/plain": [
       "Eq(y, 25)"
      ]
     },
     "execution_count": 41,
     "metadata": {},
     "output_type": "execute_result"
    }
   ],
   "source": [
    "eq2 = sp.Eq(y, 25)\n",
    "eq2"
   ]
  },
  {
   "cell_type": "code",
   "execution_count": 42,
   "id": "1ecde3dc-f6e3-46e3-8ad3-241f36d747de",
   "metadata": {},
   "outputs": [
    {
     "data": {
      "text/latex": [
       "$\\displaystyle \\frac{500}{3}$"
      ],
      "text/plain": [
       "500/3"
      ]
     },
     "execution_count": 42,
     "metadata": {},
     "output_type": "execute_result"
    }
   ],
   "source": [
    "af = get_area_btw_curves(eq1, eq2)\n",
    "af.doit()"
   ]
  },
  {
   "cell_type": "code",
   "execution_count": 43,
   "id": "9cc7ef27-3fd6-4545-aa2b-fb56b33baec8",
   "metadata": {},
   "outputs": [
    {
     "data": {
      "text/latex": [
       "$\\displaystyle \\frac{250}{3}$"
      ],
      "text/plain": [
       "250/3"
      ]
     },
     "execution_count": 43,
     "metadata": {},
     "output_type": "execute_result"
    }
   ],
   "source": [
    "a = af.doit() / 2\n",
    "a"
   ]
  },
  {
   "cell_type": "code",
   "execution_count": 44,
   "id": "7673acc7-29a7-4339-b9c1-8a54045d3a38",
   "metadata": {},
   "outputs": [
    {
     "data": {
      "text/latex": [
       "$\\displaystyle y = k$"
      ],
      "text/plain": [
       "Eq(y, k)"
      ]
     },
     "execution_count": 44,
     "metadata": {},
     "output_type": "execute_result"
    }
   ],
   "source": [
    "eq3 = sp.Eq(y, k)\n",
    "eq3"
   ]
  },
  {
   "cell_type": "code",
   "execution_count": 45,
   "id": "b2454a66-ddcf-4cce-93d0-5887ae563fc4",
   "metadata": {},
   "outputs": [
    {
     "data": {
      "text/latex": [
       "$\\displaystyle y = x^{2}$"
      ],
      "text/plain": [
       "Eq(y, x**2)"
      ]
     },
     "execution_count": 45,
     "metadata": {},
     "output_type": "execute_result"
    },
    {
     "data": {
      "text/latex": [
       "$\\displaystyle y = 25$"
      ],
      "text/plain": [
       "Eq(y, 25)"
      ]
     },
     "execution_count": 45,
     "metadata": {},
     "output_type": "execute_result"
    },
    {
     "data": {
      "text/latex": [
       "$\\displaystyle y = k$"
      ],
      "text/plain": [
       "Eq(y, k)"
      ]
     },
     "execution_count": 45,
     "metadata": {},
     "output_type": "execute_result"
    }
   ],
   "source": [
    "eq1\n",
    "eq2\n",
    "eq3"
   ]
  },
  {
   "cell_type": "code",
   "execution_count": 46,
   "id": "58877e24-3d05-4324-8b90-c6e2a8e5ba78",
   "metadata": {},
   "outputs": [
    {
     "data": {
      "text/latex": [
       "$\\displaystyle x^{2} = k$"
      ],
      "text/plain": [
       "Eq(x**2, k)"
      ]
     },
     "execution_count": 46,
     "metadata": {},
     "output_type": "execute_result"
    }
   ],
   "source": [
    "eq4 = sp.Eq(eq1.rhs, eq3.rhs)\n",
    "eq4"
   ]
  },
  {
   "cell_type": "code",
   "execution_count": 47,
   "id": "029969fa-a6fa-4570-8fd8-3dbe4a3b80c1",
   "metadata": {},
   "outputs": [
    {
     "data": {
      "text/latex": [
       "$\\displaystyle \\left\\{- \\sqrt{k}, \\sqrt{k}\\right\\}$"
      ],
      "text/plain": [
       "{-sqrt(k), sqrt(k)}"
      ]
     },
     "execution_count": 47,
     "metadata": {},
     "output_type": "execute_result"
    }
   ],
   "source": [
    "k_val = sp.solveset(eq4, x)\n",
    "k_val"
   ]
  },
  {
   "cell_type": "code",
   "execution_count": 48,
   "id": "28eb09b1-e8fd-4033-a6a3-838327f9b7c8",
   "metadata": {},
   "outputs": [
    {
     "data": {
      "text/plain": [
       "(sqrt(k), -sqrt(k))"
      ]
     },
     "execution_count": 48,
     "metadata": {},
     "output_type": "execute_result"
    },
    {
     "data": {
      "text/plain": [
       "(x, -sqrt(k), sqrt(k))"
      ]
     },
     "execution_count": 48,
     "metadata": {},
     "output_type": "execute_result"
    }
   ],
   "source": [
    "itgd = k - x**2\n",
    "itv = tuple(k_val)\n",
    "itv\n",
    "itv = (x, itv[1], itv[0])\n",
    "itv"
   ]
  },
  {
   "cell_type": "code",
   "execution_count": 49,
   "id": "107aee56-9b2e-402f-a6e8-f3862c8cf0b7",
   "metadata": {},
   "outputs": [
    {
     "data": {
      "text/latex": [
       "$\\displaystyle \\frac{4 k^{\\frac{3}{2}}}{3}$"
      ],
      "text/plain": [
       "4*k**(3/2)/3"
      ]
     },
     "execution_count": 49,
     "metadata": {},
     "output_type": "execute_result"
    }
   ],
   "source": [
    "itgd.integrate(itv)"
   ]
  },
  {
   "cell_type": "code",
   "execution_count": 50,
   "id": "2372cd17-0c77-4156-be4c-4884d5a31e8c",
   "metadata": {},
   "outputs": [
    {
     "data": {
      "text/latex": [
       "$\\displaystyle \\frac{4 k^{\\frac{3}{2}}}{3} = \\frac{250}{3}$"
      ],
      "text/plain": [
       "Eq(4*k**(3/2)/3, 250/3)"
      ]
     },
     "execution_count": 50,
     "metadata": {},
     "output_type": "execute_result"
    }
   ],
   "source": [
    "eq5 = sp.Eq(itgd.integrate(itv), a)\n",
    "eq5 = eq5.simplify()\n",
    "eq5"
   ]
  },
  {
   "cell_type": "code",
   "execution_count": 51,
   "id": "158cd3c8-361e-4186-9c26-d9ad5f393f61",
   "metadata": {},
   "outputs": [
    {
     "data": {
      "text/latex": [
       "$\\displaystyle \\left\\{\\frac{25 \\sqrt[3]{2}}{2}\\right\\} \\cup \\left\\{C\\; \\middle|\\; C \\in \\left\\{- \\frac{25 \\sqrt[3]{2}}{4} - \\frac{25 \\sqrt[3]{2} \\sqrt{3} i}{4}, - \\frac{25 \\sqrt[3]{2}}{4} + \\frac{25 \\sqrt[3]{2} \\sqrt{3} i}{4}\\right\\} \\wedge C^{\\frac{3}{2}} - \\frac{125}{2} = 0 \\right\\}$"
      ],
      "text/plain": [
       "Union(ConditionSet(_C, Eq(_C**(3/2) - 125/2, 0), {-25*2**(1/3)/4 - 25*2**(1/3)*sqrt(3)*I/4, -25*2**(1/3)/4 + 25*2**(1/3)*sqrt(3)*I/4}), {25*2**(1/3)/2})"
      ]
     },
     "execution_count": 51,
     "metadata": {},
     "output_type": "execute_result"
    }
   ],
   "source": [
    "sp.solveset(eq5, k)"
   ]
  },
  {
   "cell_type": "code",
   "execution_count": 52,
   "id": "33385dea-e60d-4546-960b-daf06de6bd22",
   "metadata": {},
   "outputs": [
    {
     "data": {
      "text/latex": [
       "$\\displaystyle \\frac{25 \\sqrt[3]{2}}{2}$"
      ],
      "text/plain": [
       "25*2**(1/3)/2"
      ]
     },
     "execution_count": 52,
     "metadata": {},
     "output_type": "execute_result"
    }
   ],
   "source": [
    "sp.solve(eq5, k)[0]"
   ]
  },
  {
   "cell_type": "markdown",
   "id": "af46405e-84a3-460c-97bb-51a512c8b9dc",
   "metadata": {},
   "source": [
    "# Q10"
   ]
  },
  {
   "cell_type": "code",
   "execution_count": 53,
   "id": "b86cf17e-4186-4b2e-a687-e5986e0ca0bc",
   "metadata": {},
   "outputs": [
    {
     "data": {
      "text/latex": [
       "$\\displaystyle x = y^{2}$"
      ],
      "text/plain": [
       "Eq(x, y**2)"
      ]
     },
     "execution_count": 53,
     "metadata": {},
     "output_type": "execute_result"
    }
   ],
   "source": [
    "eq1 = sp.Eq(x, y**2)\n",
    "eq1"
   ]
  },
  {
   "cell_type": "code",
   "execution_count": 54,
   "id": "bb45628d-31a6-405f-89fe-349e48a1c1c6",
   "metadata": {},
   "outputs": [
    {
     "data": {
      "text/latex": [
       "$\\displaystyle x = 4$"
      ],
      "text/plain": [
       "Eq(x, 4)"
      ]
     },
     "execution_count": 54,
     "metadata": {},
     "output_type": "execute_result"
    }
   ],
   "source": [
    "eq2 = sp.Eq(x, 4)\n",
    "eq2"
   ]
  },
  {
   "cell_type": "code",
   "execution_count": 55,
   "id": "777afd8f-f852-4cbd-8cc8-baae955caa43",
   "metadata": {},
   "outputs": [
    {
     "data": {
      "text/latex": [
       "$\\displaystyle \\frac{32}{3}$"
      ],
      "text/plain": [
       "32/3"
      ]
     },
     "execution_count": 55,
     "metadata": {},
     "output_type": "execute_result"
    },
    {
     "data": {
      "text/latex": [
       "$\\displaystyle \\frac{16}{3}$"
      ],
      "text/plain": [
       "16/3"
      ]
     },
     "execution_count": 55,
     "metadata": {},
     "output_type": "execute_result"
    }
   ],
   "source": [
    "af = get_area_btw_curves(eq1, eq2, 'y')\n",
    "af.doit()\n",
    "area_we_want = af.doit() / 2\n",
    "area_we_want"
   ]
  },
  {
   "cell_type": "code",
   "execution_count": 56,
   "id": "deac55ee-a8fa-4142-82d2-4ad49507844a",
   "metadata": {},
   "outputs": [
    {
     "data": {
      "text/latex": [
       "$\\displaystyle y = k$"
      ],
      "text/plain": [
       "Eq(y, k)"
      ]
     },
     "execution_count": 56,
     "metadata": {},
     "output_type": "execute_result"
    }
   ],
   "source": [
    "eq3 = sp.Eq(y, k)\n",
    "eq3"
   ]
  },
  {
   "cell_type": "code",
   "execution_count": 57,
   "id": "e0074047-b4a0-4609-8037-11622fd81ccb",
   "metadata": {},
   "outputs": [
    {
     "data": {
      "text/latex": [
       "$\\displaystyle y^{2} = k$"
      ],
      "text/plain": [
       "Eq(y**2, k)"
      ]
     },
     "execution_count": 57,
     "metadata": {},
     "output_type": "execute_result"
    }
   ],
   "source": [
    "eq4 = sp.Eq(eq1.rhs, eq3.rhs)\n",
    "eq4"
   ]
  },
  {
   "cell_type": "code",
   "execution_count": 58,
   "id": "71fa02b7-705f-4851-8732-7d3919553e3b",
   "metadata": {},
   "outputs": [
    {
     "data": {
      "text/latex": [
       "$\\displaystyle \\left\\{- \\sqrt{k}, \\sqrt{k}\\right\\}$"
      ],
      "text/plain": [
       "{-sqrt(k), sqrt(k)}"
      ]
     },
     "execution_count": 58,
     "metadata": {},
     "output_type": "execute_result"
    },
    {
     "data": {
      "text/latex": [
       "$\\displaystyle k - y^{2}$"
      ],
      "text/plain": [
       "k - y**2"
      ]
     },
     "execution_count": 58,
     "metadata": {},
     "output_type": "execute_result"
    },
    {
     "data": {
      "text/plain": [
       "(sqrt(k), -sqrt(k))"
      ]
     },
     "execution_count": 58,
     "metadata": {},
     "output_type": "execute_result"
    },
    {
     "data": {
      "text/plain": [
       "(y, -sqrt(k), sqrt(k))"
      ]
     },
     "execution_count": 58,
     "metadata": {},
     "output_type": "execute_result"
    }
   ],
   "source": [
    "y_vals = sp.solveset(eq4, y)\n",
    "y_vals\n",
    "\n",
    "itgd = k - y**2\n",
    "itgd\n",
    "\n",
    "itv = tuple(y_vals)\n",
    "itv\n",
    "itv = (y, itv[1], itv[0])\n",
    "itv"
   ]
  },
  {
   "cell_type": "code",
   "execution_count": 59,
   "id": "ca35df79-aa65-4b02-8598-f4327ffe1bfb",
   "metadata": {},
   "outputs": [
    {
     "data": {
      "text/latex": [
       "$\\displaystyle \\frac{4 k^{\\frac{3}{2}}}{3}$"
      ],
      "text/plain": [
       "4*k**(3/2)/3"
      ]
     },
     "execution_count": 59,
     "metadata": {},
     "output_type": "execute_result"
    }
   ],
   "source": [
    "itgd.integrate(itv)"
   ]
  },
  {
   "cell_type": "code",
   "execution_count": 60,
   "id": "cc329ad8-d694-43dd-8a6a-85d8f57e8dbe",
   "metadata": {},
   "outputs": [
    {
     "data": {
      "text/latex": [
       "$\\displaystyle \\frac{4 k^{\\frac{3}{2}}}{3} = \\frac{16}{3}$"
      ],
      "text/plain": [
       "Eq(4*k**(3/2)/3, 16/3)"
      ]
     },
     "execution_count": 60,
     "metadata": {},
     "output_type": "execute_result"
    }
   ],
   "source": [
    "eq5 = sp.Eq(itgd.integrate(itv), area_we_want)\n",
    "eq5 = eq5.simplify()\n",
    "eq5"
   ]
  },
  {
   "cell_type": "code",
   "execution_count": 61,
   "id": "628589c4-7d71-4185-a7ca-4b92cc3ab4f0",
   "metadata": {},
   "outputs": [
    {
     "data": {
      "text/latex": [
       "$\\displaystyle \\left\\{2 \\sqrt[3]{2}\\right\\} \\cup \\left\\{C\\; \\middle|\\; C \\in \\left\\{- \\sqrt[3]{2} - \\sqrt[3]{2} \\sqrt{3} i, - \\sqrt[3]{2} + \\sqrt[3]{2} \\sqrt{3} i\\right\\} \\wedge C^{\\frac{3}{2}} - 4 = 0 \\right\\}$"
      ],
      "text/plain": [
       "Union(ConditionSet(_C, Eq(_C**(3/2) - 4, 0), {-2**(1/3) - 2**(1/3)*sqrt(3)*I, -2**(1/3) + 2**(1/3)*sqrt(3)*I}), {2*2**(1/3)})"
      ]
     },
     "execution_count": 61,
     "metadata": {},
     "output_type": "execute_result"
    },
    {
     "data": {
      "text/latex": [
       "$\\displaystyle 2 \\sqrt[3]{2}$"
      ],
      "text/plain": [
       "2*2**(1/3)"
      ]
     },
     "execution_count": 61,
     "metadata": {},
     "output_type": "execute_result"
    }
   ],
   "source": [
    "sp.solveset(eq5, k)\n",
    "sp.solve(eq5, k)[0]"
   ]
  },
  {
   "cell_type": "markdown",
   "id": "18ff36c6-57ff-440b-9434-065d7e3ce063",
   "metadata": {},
   "source": [
    "# Q11"
   ]
  },
  {
   "cell_type": "code",
   "execution_count": 62,
   "id": "138b44f9-52be-4a84-8793-f2f4bfdd114d",
   "metadata": {},
   "outputs": [],
   "source": [
    "reset_symbols()"
   ]
  },
  {
   "cell_type": "code",
   "execution_count": 63,
   "id": "27110333-7d84-4490-90cd-bcac54fac230",
   "metadata": {},
   "outputs": [
    {
     "name": "stdout",
     "output_type": "stream",
     "text": [
      "Eq1:\n"
     ]
    },
    {
     "data": {
      "text/latex": [
       "$\\displaystyle y = 4 - x^{2}$"
      ],
      "text/plain": [
       "Eq(y, 4 - x**2)"
      ]
     },
     "execution_count": 63,
     "metadata": {},
     "output_type": "execute_result"
    },
    {
     "name": "stdout",
     "output_type": "stream",
     "text": [
      "\n",
      "Eq2:\n"
     ]
    },
    {
     "data": {
      "text/latex": [
       "$\\displaystyle y = 1 - \\frac{x^{2}}{4}$"
      ],
      "text/plain": [
       "Eq(y, 1 - x**2/4)"
      ]
     },
     "execution_count": 63,
     "metadata": {},
     "output_type": "execute_result"
    },
    {
     "name": "stdout",
     "output_type": "stream",
     "text": [
      "\n"
     ]
    },
    {
     "data": {
      "text/latex": [
       "$\\displaystyle - \\int\\limits_{-2}^{2} \\left(1 - \\frac{x^{2}}{4}\\right)\\, dx + \\int\\limits_{-2}^{2} \\left(4 - x^{2}\\right)\\, dx = 8$"
      ],
      "text/plain": [
       "Eq(-Integral(1 - x**2/4, (x, -2, 2)) + Integral(4 - x**2, (x, -2, 2)), 8)"
      ]
     },
     "execution_count": 63,
     "metadata": {},
     "output_type": "execute_result"
    },
    {
     "name": "stdout",
     "output_type": "stream",
     "text": [
      "\n",
      "area_we_want: \n"
     ]
    },
    {
     "data": {
      "text/latex": [
       "$\\displaystyle 4$"
      ],
      "text/plain": [
       "4"
      ]
     },
     "execution_count": 63,
     "metadata": {},
     "output_type": "execute_result"
    },
    {
     "name": "stdout",
     "output_type": "stream",
     "text": [
      "\n",
      "Eq3:\n"
     ]
    },
    {
     "data": {
      "text/latex": [
       "$\\displaystyle y = a$"
      ],
      "text/plain": [
       "Eq(y, a)"
      ]
     },
     "execution_count": 63,
     "metadata": {},
     "output_type": "execute_result"
    },
    {
     "name": "stdout",
     "output_type": "stream",
     "text": [
      "\n",
      "Eq4:\n"
     ]
    },
    {
     "data": {
      "text/latex": [
       "$\\displaystyle 4 - x^{2} = a$"
      ],
      "text/plain": [
       "Eq(4 - x**2, a)"
      ]
     },
     "execution_count": 63,
     "metadata": {},
     "output_type": "execute_result"
    },
    {
     "name": "stdout",
     "output_type": "stream",
     "text": [
      "\n",
      "itgd:\n"
     ]
    },
    {
     "data": {
      "text/latex": [
       "$\\displaystyle a + x^{2} - 4$"
      ],
      "text/plain": [
       "a + x**2 - 4"
      ]
     },
     "execution_count": 63,
     "metadata": {},
     "output_type": "execute_result"
    },
    {
     "name": "stdout",
     "output_type": "stream",
     "text": [
      "\n",
      "x_vals:\n"
     ]
    },
    {
     "data": {
      "text/latex": [
       "$\\displaystyle \\left\\{- \\sqrt{4 - a}, \\sqrt{4 - a}\\right\\}$"
      ],
      "text/plain": [
       "{-sqrt(4 - a), sqrt(4 - a)}"
      ]
     },
     "execution_count": 63,
     "metadata": {},
     "output_type": "execute_result"
    },
    {
     "name": "stdout",
     "output_type": "stream",
     "text": [
      "\n"
     ]
    }
   ],
   "source": [
    "eq1 = sp.Eq(y, -x**2 + 4)\n",
    "print('Eq1:')\n",
    "eq1\n",
    "print()\n",
    "\n",
    "\n",
    "eq2 = sp.Eq(y, -sp.Rational(1/4) * x**2 + 1)\n",
    "print('Eq2:')\n",
    "eq2\n",
    "print()\n",
    "\n",
    "af = get_area_btw_curves(eq1, eq2)\n",
    "show_integral(af)\n",
    "print()\n",
    "\n",
    "area_we_want = af.doit() / 2\n",
    "print('area_we_want: ')\n",
    "area_we_want\n",
    "print()\n",
    "\n",
    "eq3 = sp.Eq(y, a)\n",
    "print('Eq3:')\n",
    "eq3\n",
    "print()\n",
    "\n",
    "\n",
    "eq4 = sp.Eq(eq1.rhs, eq3.rhs)\n",
    "print('Eq4:')\n",
    "eq4\n",
    "print()\n",
    "\n",
    "itgd = a - eq1.rhs\n",
    "print('itgd:')\n",
    "itgd\n",
    "print()\n",
    "\n",
    "x_vals = sp.solveset(eq4, x)\n",
    "print('x_vals:')\n",
    "x_vals\n",
    "print()"
   ]
  },
  {
   "cell_type": "code",
   "execution_count": 64,
   "id": "89efb59e-1638-4b49-a07f-c3d0ce91d83d",
   "metadata": {},
   "outputs": [
    {
     "name": "stdout",
     "output_type": "stream",
     "text": [
      "integral args:\n"
     ]
    },
    {
     "data": {
      "text/plain": [
       "(x, sqrt(4 - a), -sqrt(4 - a))"
      ]
     },
     "execution_count": 64,
     "metadata": {},
     "output_type": "execute_result"
    },
    {
     "name": "stdout",
     "output_type": "stream",
     "text": [
      "\n",
      "integral result:\n"
     ]
    },
    {
     "data": {
      "text/latex": [
       "$\\displaystyle - \\frac{2 \\left(4 - a\\right)^{\\frac{3}{2}}}{3} - 2 \\sqrt{4 - a} \\left(a - 4\\right)$"
      ],
      "text/plain": [
       "-2*(4 - a)**(3/2)/3 - 2*sqrt(4 - a)*(a - 4)"
      ]
     },
     "execution_count": 64,
     "metadata": {},
     "output_type": "execute_result"
    },
    {
     "name": "stdout",
     "output_type": "stream",
     "text": [
      "\n",
      "Eq5:\n"
     ]
    },
    {
     "data": {
      "text/latex": [
       "$\\displaystyle \\frac{4 \\left(4 - a\\right)^{\\frac{3}{2}}}{3} = 4$"
      ],
      "text/plain": [
       "Eq(4*(4 - a)**(3/2)/3, 4)"
      ]
     },
     "execution_count": 64,
     "metadata": {},
     "output_type": "execute_result"
    },
    {
     "name": "stdout",
     "output_type": "stream",
     "text": [
      "\n"
     ]
    },
    {
     "data": {
      "text/latex": [
       "$\\displaystyle \\left\\{4 - 3^{\\frac{2}{3}}\\right\\} \\cup \\left\\{C\\; \\middle|\\; C \\in \\left\\{\\frac{3^{\\frac{2}{3}}}{2} + 4 - \\frac{3 \\sqrt[6]{3} i}{2}, \\frac{3^{\\frac{2}{3}}}{2} + 4 + \\frac{3 \\sqrt[6]{3} i}{2}\\right\\} \\wedge \\left(4 - C\\right)^{\\frac{3}{2}} - 3 = 0 \\right\\}$"
      ],
      "text/plain": [
       "Union(ConditionSet(_C, Eq((4 - _C)**(3/2) - 3, 0), {3**(2/3)/2 + 4 - 3*3**(1/6)*I/2, 3**(2/3)/2 + 4 + 3*3**(1/6)*I/2}), {4 - 3**(2/3)})"
      ]
     },
     "execution_count": 64,
     "metadata": {},
     "output_type": "execute_result"
    },
    {
     "data": {
      "text/latex": [
       "$\\displaystyle 4 - 3^{\\frac{2}{3}}$"
      ],
      "text/plain": [
       "4 - 3**(2/3)"
      ]
     },
     "execution_count": 64,
     "metadata": {},
     "output_type": "execute_result"
    },
    {
     "data": {
      "text/latex": [
       "$\\displaystyle 1.9199161769481$"
      ],
      "text/plain": [
       "1.91991617694810"
      ]
     },
     "execution_count": 64,
     "metadata": {},
     "output_type": "execute_result"
    }
   ],
   "source": [
    "intv = tuple(x_vals)\n",
    "\n",
    "itg_args = (x, intv[0], intv[1])\n",
    "print('integral args:')\n",
    "itg_args\n",
    "print()\n",
    "\n",
    "print('integral result:')\n",
    "itgd.integrate(itg_args)\n",
    "print()\n",
    "\n",
    "eq5 = sp.Eq(itgd.integrate(itg_args), area_we_want)\n",
    "eq5 = eq5.simplify()\n",
    "print('Eq5:')\n",
    "eq5\n",
    "print()\n",
    "\n",
    "sp.solveset(eq5, a)\n",
    "ans = sp.solve(eq5, a)[0]\n",
    "ans\n",
    "sp.N(ans)"
   ]
  },
  {
   "cell_type": "markdown",
   "id": "a9c84fcb-5dda-4393-96a3-b8c24940a0cc",
   "metadata": {},
   "source": [
    "# Q12"
   ]
  },
  {
   "cell_type": "code",
   "execution_count": 65,
   "id": "055e30d2-9599-4ee9-887d-acddbd8161a2",
   "metadata": {},
   "outputs": [],
   "source": [
    "reset_symbols()"
   ]
  },
  {
   "cell_type": "code",
   "execution_count": 66,
   "id": "907163b0-4a28-440e-9a60-5880b2615b88",
   "metadata": {},
   "outputs": [],
   "source": [
    "def get_arc_len_itgd(f):\n",
    "    f_prime = f.diff()\n",
    "    return sp.sqrt(1 + f_prime ** 2)"
   ]
  },
  {
   "cell_type": "code",
   "execution_count": 67,
   "id": "127ee660-8b64-4ada-bd3a-6d1286f6abf5",
   "metadata": {},
   "outputs": [
    {
     "data": {
      "text/latex": [
       "$\\displaystyle x = \\frac{2 \\left(y - 1\\right)^{\\frac{3}{2}}}{3}$"
      ],
      "text/plain": [
       "Eq(x, 2*(y - 1)**(3/2)/3)"
      ]
     },
     "execution_count": 67,
     "metadata": {},
     "output_type": "execute_result"
    }
   ],
   "source": [
    "eq1 = sp.Eq(x, 2*(y-1)**sp.Rational(3/2) / 3)\n",
    "eq1"
   ]
  },
  {
   "cell_type": "code",
   "execution_count": 68,
   "id": "7d82881c-1a17-44a9-b821-3891978ee3a8",
   "metadata": {},
   "outputs": [
    {
     "data": {
      "text/latex": [
       "$\\displaystyle \\sqrt{y}$"
      ],
      "text/plain": [
       "sqrt(y)"
      ]
     },
     "execution_count": 68,
     "metadata": {},
     "output_type": "execute_result"
    }
   ],
   "source": [
    "al_itgd = get_arc_len_itgd(eq1.rhs)\n",
    "al_itgd"
   ]
  },
  {
   "cell_type": "code",
   "execution_count": 69,
   "id": "16d99de2-8ba5-4686-a6be-f18227b5e88a",
   "metadata": {},
   "outputs": [
    {
     "data": {
      "text/latex": [
       "$\\displaystyle \\int\\limits_{2}^{5} \\sqrt{y}\\, dy = - \\frac{4 \\sqrt{2}}{3} + \\frac{10 \\sqrt{5}}{3}$"
      ],
      "text/plain": [
       "Eq(Integral(sqrt(y), (y, 2, 5)), -4*sqrt(2)/3 + 10*sqrt(5)/3)"
      ]
     },
     "execution_count": 69,
     "metadata": {},
     "output_type": "execute_result"
    }
   ],
   "source": [
    "al_itg = sp.Integral(al_itgd, (y, 2, 5))\n",
    "show_integral(al_itg)"
   ]
  },
  {
   "cell_type": "code",
   "execution_count": 70,
   "id": "f707a7fb-ef80-48b6-a122-3f1e9b3d9f05",
   "metadata": {},
   "outputs": [
    {
     "data": {
      "text/latex": [
       "$\\displaystyle 5.56794184183517$"
      ],
      "text/plain": [
       "5.56794184183517"
      ]
     },
     "execution_count": 70,
     "metadata": {},
     "output_type": "execute_result"
    }
   ],
   "source": [
    "sp.N(al_itg.doit())"
   ]
  },
  {
   "cell_type": "markdown",
   "id": "098fa0aa-defa-4f30-b051-306d32a8a919",
   "metadata": {},
   "source": [
    "# Q12"
   ]
  },
  {
   "cell_type": "code",
   "execution_count": 71,
   "id": "cbd725a8-9482-40fd-917b-0759c2690d55",
   "metadata": {},
   "outputs": [],
   "source": [
    "reset_symbols()"
   ]
  },
  {
   "cell_type": "code",
   "execution_count": 72,
   "id": "931b67d6-cf72-4c67-a449-53535021d21b",
   "metadata": {},
   "outputs": [
    {
     "data": {
      "text/latex": [
       "$\\displaystyle \\frac{x^{4}}{8} + \\frac{1}{4 x^{2}}$"
      ],
      "text/plain": [
       "x**4/8 + 1/(4*x**2)"
      ]
     },
     "execution_count": 72,
     "metadata": {},
     "output_type": "execute_result"
    }
   ],
   "source": [
    "f = (x**4 + 2*x**(-2)) / 8\n",
    "f"
   ]
  },
  {
   "cell_type": "code",
   "execution_count": 73,
   "id": "3b5413f3-bf07-4273-b230-9facc379a1e6",
   "metadata": {},
   "outputs": [
    {
     "data": {
      "text/latex": [
       "$\\displaystyle \\sqrt{\\left(\\frac{x^{3}}{2} - \\frac{1}{2 x^{3}}\\right)^{2} + 1}$"
      ],
      "text/plain": [
       "sqrt((x**3/2 - 1/(2*x**3))**2 + 1)"
      ]
     },
     "execution_count": 73,
     "metadata": {},
     "output_type": "execute_result"
    }
   ],
   "source": [
    "al_itgd = get_arc_len_itgd(f)\n",
    "al_itgd"
   ]
  },
  {
   "cell_type": "code",
   "execution_count": 74,
   "id": "27ac4608-b314-48aa-ac74-2a66a8517122",
   "metadata": {},
   "outputs": [
    {
     "data": {
      "text/latex": [
       "$\\displaystyle \\int\\limits_{1}^{2} \\sqrt{\\left(\\frac{x^{3}}{2} - \\frac{1}{2 x^{3}}\\right)^{2} + 1}\\, dx = \\frac{\\int\\limits_{1}^{2} \\frac{\\left|{x^{4} - x^{2} + 1}\\right|}{x^{3}}\\, dx}{2} + \\frac{\\int\\limits_{1}^{2} \\frac{\\left|{x^{4} - x^{2} + 1}\\right|}{x}\\, dx}{2}$"
      ],
      "text/plain": [
       "Eq(Integral(sqrt((x**3/2 - 1/(2*x**3))**2 + 1), (x, 1, 2)), Integral(Abs(x**4 - x**2 + 1)/x**3, (x, 1, 2))/2 + Integral(Abs(x**4 - x**2 + 1)/x, (x, 1, 2))/2)"
      ]
     },
     "execution_count": 74,
     "metadata": {},
     "output_type": "execute_result"
    }
   ],
   "source": [
    "al_itg = sp.Integral(al_itgd, (x, 1, 2))\n",
    "show_integral(al_itg)"
   ]
  },
  {
   "cell_type": "code",
   "execution_count": 75,
   "id": "499ca802-bcce-4836-83d3-f74897efc1b1",
   "metadata": {},
   "outputs": [
    {
     "data": {
      "text/latex": [
       "$\\displaystyle \\frac{33}{16}$"
      ],
      "text/plain": [
       "33/16"
      ]
     },
     "execution_count": 75,
     "metadata": {},
     "output_type": "execute_result"
    }
   ],
   "source": [
    "ans = al_itg.doit().simplify()\n",
    "ans"
   ]
  },
  {
   "cell_type": "code",
   "execution_count": 76,
   "id": "81c88ff0-032a-4d95-a5a5-5b3644014289",
   "metadata": {},
   "outputs": [
    {
     "data": {
      "text/latex": [
       "$\\displaystyle 2.0625$"
      ],
      "text/plain": [
       "2.06250000000000"
      ]
     },
     "execution_count": 76,
     "metadata": {},
     "output_type": "execute_result"
    }
   ],
   "source": [
    "sp.N(ans)"
   ]
  },
  {
   "cell_type": "markdown",
   "id": "9bd8c938-30ee-46b5-a3d2-344a2deb2a1f",
   "metadata": {},
   "source": [
    "# Q13"
   ]
  },
  {
   "cell_type": "code",
   "execution_count": 77,
   "id": "5979dc1d-4aae-42d9-a940-d1e98143137b",
   "metadata": {},
   "outputs": [
    {
     "data": {
      "text/latex": [
       "$\\displaystyle \\frac{\\left(x^{2} + 2\\right)^{\\frac{3}{2}}}{3}$"
      ],
      "text/plain": [
       "(x**2 + 2)**(3/2)/3"
      ]
     },
     "execution_count": 77,
     "metadata": {},
     "output_type": "execute_result"
    },
    {
     "data": {
      "text/latex": [
       "$\\displaystyle \\sqrt{x^{2} \\left(x^{2} + 2\\right) + 1}$"
      ],
      "text/plain": [
       "sqrt(x**2*(x**2 + 2) + 1)"
      ]
     },
     "execution_count": 77,
     "metadata": {},
     "output_type": "execute_result"
    },
    {
     "data": {
      "text/latex": [
       "$\\displaystyle \\text{True}$"
      ],
      "text/plain": [
       "True"
      ]
     },
     "execution_count": 77,
     "metadata": {},
     "output_type": "execute_result"
    },
    {
     "data": {
      "text/latex": [
       "$\\displaystyle \\int\\limits_{0}^{3} \\sqrt{x^{2} \\left(x^{2} + 2\\right) + 1}\\, dx$"
      ],
      "text/plain": [
       "Integral(sqrt(x**2*(x**2 + 2) + 1), (x, 0, 3))"
      ]
     },
     "execution_count": 77,
     "metadata": {},
     "output_type": "execute_result"
    },
    {
     "data": {
      "text/latex": [
       "$\\displaystyle 12.0$"
      ],
      "text/plain": [
       "12.0000000000000"
      ]
     },
     "execution_count": 77,
     "metadata": {},
     "output_type": "execute_result"
    }
   ],
   "source": [
    "reset_symbols()\n",
    "\n",
    "f = (x**2 + 2) ** sp.Rational(3/2) / 3\n",
    "f\n",
    "\n",
    "al_itgd = get_arc_len_itgd(f)\n",
    "al_itgd\n",
    "\n",
    "al_itg = sp.Integral(al_itgd, (x, 0, 3))\n",
    "show_integral(al_itg)\n",
    "\n",
    "ans = al_itg.doit().simplify()\n",
    "ans\n",
    "\n",
    "sp.N(ans)"
   ]
  },
  {
   "cell_type": "code",
   "execution_count": 78,
   "id": "62b60918-53ca-4061-a3ec-2bcc636ea54c",
   "metadata": {},
   "outputs": [
    {
     "data": {
      "text/latex": [
       "$\\displaystyle 2 x^{\\frac{3}{2}}$"
      ],
      "text/plain": [
       "2*x**(3/2)"
      ]
     },
     "execution_count": 78,
     "metadata": {},
     "output_type": "execute_result"
    },
    {
     "data": {
      "text/latex": [
       "$\\displaystyle \\sqrt{9 x + 1}$"
      ],
      "text/plain": [
       "sqrt(9*x + 1)"
      ]
     },
     "execution_count": 78,
     "metadata": {},
     "output_type": "execute_result"
    },
    {
     "data": {
      "text/latex": [
       "$\\displaystyle \\int\\limits_{\\frac{1}{3}}^{7} \\sqrt{9 x + 1}\\, dx$"
      ],
      "text/plain": [
       "Integral(sqrt(9*x + 1), (x, 1/3, 7))"
      ]
     },
     "execution_count": 78,
     "metadata": {},
     "output_type": "execute_result"
    },
    {
     "data": {
      "text/latex": [
       "$\\displaystyle \\int\\limits_{\\frac{1}{3}}^{7} \\sqrt{9 x + 1}\\, dx = \\frac{112}{3}$"
      ],
      "text/plain": [
       "Eq(Integral(sqrt(9*x + 1), (x, 1/3, 7)), 112/3)"
      ]
     },
     "execution_count": 78,
     "metadata": {},
     "output_type": "execute_result"
    },
    {
     "data": {
      "text/latex": [
       "$\\displaystyle \\frac{112}{3}$"
      ],
      "text/plain": [
       "112/3"
      ]
     },
     "execution_count": 78,
     "metadata": {},
     "output_type": "execute_result"
    },
    {
     "data": {
      "text/latex": [
       "$\\displaystyle 37.3333333333333$"
      ],
      "text/plain": [
       "37.3333333333333"
      ]
     },
     "execution_count": 78,
     "metadata": {},
     "output_type": "execute_result"
    }
   ],
   "source": [
    "reset_symbols()\n",
    "\n",
    "f = 2*x**sp.Rational(3/2)\n",
    "f\n",
    "\n",
    "al_itgd = get_arc_len_itgd(f)\n",
    "al_itgd\n",
    "\n",
    "al_itg = sp.Integral(al_itgd, (x, sp.Rational(1, 3), sp.Integer(7)))\n",
    "al_itg\n",
    "show_integral(al_itg)\n",
    "\n",
    "ans = al_itg.doit().simplify()\n",
    "ans\n",
    "\n",
    "sp.N(ans)"
   ]
  },
  {
   "cell_type": "markdown",
   "id": "73054124-7554-41b4-8354-091db107bd7e",
   "metadata": {},
   "source": [
    "# Q14"
   ]
  },
  {
   "cell_type": "code",
   "execution_count": 79,
   "id": "49485af0-68d6-4f34-b464-13d7c9971f17",
   "metadata": {},
   "outputs": [],
   "source": [
    "reset_symbols()"
   ]
  },
  {
   "cell_type": "code",
   "execution_count": 80,
   "id": "fe4686e7-5c97-4909-a0ce-2fdbef023d72",
   "metadata": {},
   "outputs": [
    {
     "data": {
      "text/latex": [
       "$\\displaystyle \\frac{\\sqrt{y} \\left(y - 3\\right)}{3}$"
      ],
      "text/plain": [
       "sqrt(y)*(y - 3)/3"
      ]
     },
     "execution_count": 80,
     "metadata": {},
     "output_type": "execute_result"
    },
    {
     "data": {
      "text/latex": [
       "$\\displaystyle \\sqrt{\\left(\\frac{\\sqrt{y}}{3} + \\frac{y - 3}{6 \\sqrt{y}}\\right)^{2} + 1}$"
      ],
      "text/plain": [
       "sqrt((sqrt(y)/3 + (y - 3)/(6*sqrt(y)))**2 + 1)"
      ]
     },
     "execution_count": 80,
     "metadata": {},
     "output_type": "execute_result"
    },
    {
     "data": {
      "text/latex": [
       "$\\displaystyle \\int\\limits_{1}^{9} \\sqrt{\\left(\\frac{\\sqrt{y}}{3} + \\frac{y - 3}{6 \\sqrt{y}}\\right)^{2} + 1}\\, dy = \\frac{\\int\\limits_{1}^{9} \\frac{1}{\\sqrt{y}}\\, dy}{2} + \\frac{\\int\\limits_{1}^{9} \\sqrt{y}\\, dy}{2}$"
      ],
      "text/plain": [
       "Eq(Integral(sqrt((sqrt(y)/3 + (y - 3)/(6*sqrt(y)))**2 + 1), (y, 1, 9)), Integral(1/sqrt(y), (y, 1, 9))/2 + Integral(sqrt(y), (y, 1, 9))/2)"
      ]
     },
     "execution_count": 80,
     "metadata": {},
     "output_type": "execute_result"
    },
    {
     "data": {
      "text/latex": [
       "$\\displaystyle \\frac{32}{3}$"
      ],
      "text/plain": [
       "32/3"
      ]
     },
     "execution_count": 80,
     "metadata": {},
     "output_type": "execute_result"
    },
    {
     "data": {
      "text/latex": [
       "$\\displaystyle 10.6666666666667$"
      ],
      "text/plain": [
       "10.6666666666667"
      ]
     },
     "execution_count": 80,
     "metadata": {},
     "output_type": "execute_result"
    }
   ],
   "source": [
    "f = sp.sqrt(y) * (y - 3) / 3\n",
    "f\n",
    "\n",
    "al_itgd = get_arc_len_itgd(f)\n",
    "al_itgd\n",
    "\n",
    "al_itg = sp.Integral(al_itgd, (y, 1, 9))\n",
    "show_integral(al_itg)\n",
    "\n",
    "ans = al_itg.doit().simplify()\n",
    "ans\n",
    "\n",
    "sp.N(ans)"
   ]
  },
  {
   "cell_type": "markdown",
   "id": "3c48396e-ac2f-4a13-9355-0192de1e923a",
   "metadata": {},
   "source": [
    "# Q15"
   ]
  },
  {
   "cell_type": "code",
   "execution_count": 81,
   "id": "9974dbad-98d8-4e4f-8ed5-0492e12f7789",
   "metadata": {},
   "outputs": [
    {
     "data": {
      "text/latex": [
       "$\\displaystyle \\frac{y^{4} + 3}{6 y}$"
      ],
      "text/plain": [
       "(y**4 + 3)/(6*y)"
      ]
     },
     "execution_count": 81,
     "metadata": {},
     "output_type": "execute_result"
    },
    {
     "data": {
      "text/latex": [
       "$\\displaystyle \\sqrt{\\left(\\frac{2 y^{2}}{3} - \\frac{y^{4} + 3}{6 y^{2}}\\right)^{2} + 1}$"
      ],
      "text/plain": [
       "sqrt((2*y**2/3 - (y**4 + 3)/(6*y**2))**2 + 1)"
      ]
     },
     "execution_count": 81,
     "metadata": {},
     "output_type": "execute_result"
    },
    {
     "data": {
      "text/latex": [
       "$\\displaystyle \\int\\limits_{1}^{2} \\sqrt{\\left(\\frac{2 y^{2}}{3} - \\frac{y^{4} + 3}{6 y^{2}}\\right)^{2} + 1}\\, dy = \\frac{\\int\\limits_{1}^{2} \\frac{1}{y^{2}}\\, dy}{2} + \\frac{\\int\\limits_{1}^{2} y^{2}\\, dy}{2}$"
      ],
      "text/plain": [
       "Eq(Integral(sqrt((2*y**2/3 - (y**4 + 3)/(6*y**2))**2 + 1), (y, 1, 2)), Integral(y**(-2), (y, 1, 2))/2 + Integral(y**2, (y, 1, 2))/2)"
      ]
     },
     "execution_count": 81,
     "metadata": {},
     "output_type": "execute_result"
    },
    {
     "data": {
      "text/latex": [
       "$\\displaystyle \\frac{17}{12}$"
      ],
      "text/plain": [
       "17/12"
      ]
     },
     "execution_count": 81,
     "metadata": {},
     "output_type": "execute_result"
    },
    {
     "data": {
      "text/latex": [
       "$\\displaystyle 1.41666666666667$"
      ],
      "text/plain": [
       "1.41666666666667"
      ]
     },
     "execution_count": 81,
     "metadata": {},
     "output_type": "execute_result"
    }
   ],
   "source": [
    "reset_symbols()\n",
    "\n",
    "f = (y**4 + 3) / (6*y)\n",
    "f\n",
    "\n",
    "al_itgd = get_arc_len_itgd(f)\n",
    "al_itgd\n",
    "\n",
    "al_itg = sp.Integral(al_itgd, (y, 1, 2))\n",
    "show_integral(al_itg)\n",
    "\n",
    "ans = al_itg.doit().simplify()\n",
    "ans\n",
    "\n",
    "sp.N(ans)"
   ]
  },
  {
   "cell_type": "markdown",
   "id": "51d54765-925c-4178-81ab-80534d700112",
   "metadata": {},
   "source": [
    "# Q16"
   ]
  },
  {
   "cell_type": "code",
   "execution_count": 82,
   "id": "4af0ec04-e946-49fc-958b-aa089b619eb4",
   "metadata": {},
   "outputs": [
    {
     "data": {
      "text/latex": [
       "$\\displaystyle \\frac{2 \\left(y^{2} + 1\\right)^{\\frac{3}{2}}}{3}$"
      ],
      "text/plain": [
       "2*(y**2 + 1)**(3/2)/3"
      ]
     },
     "execution_count": 82,
     "metadata": {},
     "output_type": "execute_result"
    },
    {
     "data": {
      "text/latex": [
       "$\\displaystyle \\sqrt{4 y^{2} \\left(y^{2} + 1\\right) + 1}$"
      ],
      "text/plain": [
       "sqrt(4*y**2*(y**2 + 1) + 1)"
      ]
     },
     "execution_count": 82,
     "metadata": {},
     "output_type": "execute_result"
    },
    {
     "data": {
      "text/latex": [
       "$\\displaystyle \\text{True}$"
      ],
      "text/plain": [
       "True"
      ]
     },
     "execution_count": 82,
     "metadata": {},
     "output_type": "execute_result"
    },
    {
     "data": {
      "text/latex": [
       "$\\displaystyle \\int\\limits_{0}^{3} \\sqrt{4 y^{2} \\left(y^{2} + 1\\right) + 1}\\, dy$"
      ],
      "text/plain": [
       "Integral(sqrt(4*y**2*(y**2 + 1) + 1), (y, 0, 3))"
      ]
     },
     "execution_count": 82,
     "metadata": {},
     "output_type": "execute_result"
    },
    {
     "data": {
      "text/latex": [
       "$\\displaystyle 21.0$"
      ],
      "text/plain": [
       "21.0000000000000"
      ]
     },
     "execution_count": 82,
     "metadata": {},
     "output_type": "execute_result"
    }
   ],
   "source": [
    "reset_symbols()\n",
    "\n",
    "f = 2*(y**2 + 1)**sp.Rational(3,2) / 3\n",
    "f\n",
    "\n",
    "al_itgd = get_arc_len_itgd(f)\n",
    "al_itgd\n",
    "\n",
    "al_itg = sp.Integral(al_itgd, (y, 0, 3))\n",
    "show_integral(al_itg)\n",
    "\n",
    "ans = al_itg.doit().simplify()\n",
    "ans\n",
    "\n",
    "sp.N(ans)"
   ]
  },
  {
   "cell_type": "markdown",
   "id": "ea3aae6b-b796-43e4-b69c-f35665b4b085",
   "metadata": {},
   "source": [
    "# Q17"
   ]
  },
  {
   "cell_type": "code",
   "execution_count": 83,
   "id": "a8975659-916d-4fe9-bd20-27bacad1cd60",
   "metadata": {},
   "outputs": [
    {
     "data": {
      "text/latex": [
       "$\\displaystyle \\frac{y^{3}}{3} + \\frac{1}{4 y}$"
      ],
      "text/plain": [
       "y**3/3 + 1/(4*y)"
      ]
     },
     "execution_count": 83,
     "metadata": {},
     "output_type": "execute_result"
    },
    {
     "data": {
      "text/latex": [
       "$\\displaystyle \\sqrt{\\left(y^{2} - \\frac{1}{4 y^{2}}\\right)^{2} + 1}$"
      ],
      "text/plain": [
       "sqrt((y**2 - 1/(4*y**2))**2 + 1)"
      ]
     },
     "execution_count": 83,
     "metadata": {},
     "output_type": "execute_result"
    },
    {
     "data": {
      "text/latex": [
       "$\\displaystyle \\int\\limits_{1}^{3} \\sqrt{\\left(y^{2} - \\frac{1}{4 y^{2}}\\right)^{2} + 1}\\, dy = \\frac{\\int\\limits_{1}^{3} \\frac{\\left|{2 y^{2} - 2 y + 1}\\right|}{y^{2}}\\, dy}{4} + \\frac{\\int\\limits_{1}^{3} \\frac{2 \\left|{2 y^{2} - 2 y + 1}\\right|}{y}\\, dy}{4} + \\frac{\\int\\limits_{1}^{3} 2 \\left|{2 y^{2} - 2 y + 1}\\right|\\, dy}{4}$"
      ],
      "text/plain": [
       "Eq(Integral(sqrt((y**2 - 1/(4*y**2))**2 + 1), (y, 1, 3)), Integral(Abs(2*y**2 - 2*y + 1)/y**2, (y, 1, 3))/4 + Integral(2*Abs(2*y**2 - 2*y + 1)/y, (y, 1, 3))/4 + Integral(2*Abs(2*y**2 - 2*y + 1), (y, 1, 3))/4)"
      ]
     },
     "execution_count": 83,
     "metadata": {},
     "output_type": "execute_result"
    },
    {
     "data": {
      "text/latex": [
       "$\\displaystyle \\frac{53}{6}$"
      ],
      "text/plain": [
       "53/6"
      ]
     },
     "execution_count": 83,
     "metadata": {},
     "output_type": "execute_result"
    },
    {
     "data": {
      "text/latex": [
       "$\\displaystyle 8.83333333333333$"
      ],
      "text/plain": [
       "8.83333333333333"
      ]
     },
     "execution_count": 83,
     "metadata": {},
     "output_type": "execute_result"
    }
   ],
   "source": [
    "reset_symbols()\n",
    "\n",
    "f = y**3 / 3 + 1 / (4*y)\n",
    "f\n",
    "\n",
    "al_itgd = get_arc_len_itgd(f)\n",
    "al_itgd\n",
    "\n",
    "al_itg = sp.Integral(al_itgd, (y, 1, 3))\n",
    "show_integral(al_itg)\n",
    "\n",
    "ans = al_itg.doit().simplify()\n",
    "ans\n",
    "\n",
    "sp.N(ans)"
   ]
  },
  {
   "cell_type": "markdown",
   "id": "8b1ce82f-6ef5-4723-8a75-11460d79bad8",
   "metadata": {},
   "source": [
    "# Q18"
   ]
  },
  {
   "cell_type": "code",
   "execution_count": 84,
   "id": "7dc5a89a-9f51-46a9-a5c9-49789e367676",
   "metadata": {},
   "outputs": [],
   "source": [
    "def get_avg_h_of_itg(itg, itg_args):\n",
    "    a, b = itg_args[1], itg_args[2]\n",
    "    itg = itg.integrate(itg_args)\n",
    "    avg_h = itg / sp.Integer(b - a)\n",
    "    \n",
    "    return avg_h"
   ]
  },
  {
   "cell_type": "code",
   "execution_count": 85,
   "id": "06f03327-0806-4c52-8d3b-b614b2a06101",
   "metadata": {},
   "outputs": [
    {
     "data": {
      "text/latex": [
       "$\\displaystyle \\frac{11}{3}$"
      ],
      "text/plain": [
       "11/3"
      ]
     },
     "execution_count": 85,
     "metadata": {},
     "output_type": "execute_result"
    },
    {
     "data": {
      "text/latex": [
       "$\\displaystyle 3.66666666666667$"
      ],
      "text/plain": [
       "3.66666666666667"
      ]
     },
     "execution_count": 85,
     "metadata": {},
     "output_type": "execute_result"
    }
   ],
   "source": [
    "f = 5 + 2*x - x**2\n",
    "avg_h = get_avg_h_of_itg(f, (x, -2, 3))\n",
    "avg_h\n",
    "sp.N(avg_h)"
   ]
  },
  {
   "cell_type": "markdown",
   "id": "bcccba39-47b8-4051-89eb-ef7fbf743bab",
   "metadata": {},
   "source": [
    "# Q19"
   ]
  },
  {
   "cell_type": "code",
   "execution_count": 86,
   "id": "05c2e0f1-3eb0-4f1f-9a0a-af3a9543b382",
   "metadata": {},
   "outputs": [
    {
     "data": {
      "text/latex": [
       "$\\displaystyle \\frac{259}{4}$"
      ],
      "text/plain": [
       "259/4"
      ]
     },
     "execution_count": 86,
     "metadata": {},
     "output_type": "execute_result"
    },
    {
     "data": {
      "text/latex": [
       "$\\displaystyle 64.75$"
      ],
      "text/plain": [
       "64.7500000000000"
      ]
     },
     "execution_count": 86,
     "metadata": {},
     "output_type": "execute_result"
    }
   ],
   "source": [
    "f = x**3 + 4*x\n",
    "avg_h = get_avg_h_of_itg(f, (x, 2, 5))\n",
    "avg_h\n",
    "sp.N(avg_h)"
   ]
  },
  {
   "cell_type": "markdown",
   "id": "15fb7e0d-42ac-47f3-a571-300b49b80530",
   "metadata": {},
   "source": [
    "# Q20"
   ]
  },
  {
   "cell_type": "code",
   "execution_count": 87,
   "id": "ffa3dcf1-6bf0-4574-858c-fff4e618408d",
   "metadata": {},
   "outputs": [
    {
     "data": {
      "text/latex": [
       "$\\displaystyle 4 x e^{2 x^{2}}$"
      ],
      "text/plain": [
       "4*x*exp(2*x**2)"
      ]
     },
     "execution_count": 87,
     "metadata": {},
     "output_type": "execute_result"
    },
    {
     "data": {
      "text/latex": [
       "$\\displaystyle - \\frac{e^{2}}{2} + \\frac{e^{18}}{2}$"
      ],
      "text/plain": [
       "-exp(2)/2 + exp(18)/2"
      ]
     },
     "execution_count": 87,
     "metadata": {},
     "output_type": "execute_result"
    },
    {
     "data": {
      "text/latex": [
       "$\\displaystyle 32829980.8741372$"
      ],
      "text/plain": [
       "32829980.8741372"
      ]
     },
     "execution_count": 87,
     "metadata": {},
     "output_type": "execute_result"
    }
   ],
   "source": [
    "f = 4*x*sp.E**(2*x**2)\n",
    "f\n",
    "avg_h = get_avg_h_of_itg(f, (x, 1, 3))\n",
    "avg_h\n",
    "sp.N(avg_h)"
   ]
  },
  {
   "cell_type": "markdown",
   "id": "728087cb-cbb1-4e78-b554-423927733c70",
   "metadata": {},
   "source": [
    "# Q21"
   ]
  },
  {
   "cell_type": "code",
   "execution_count": 88,
   "id": "a2183085-b0dd-407a-a824-dca3271c66aa",
   "metadata": {},
   "outputs": [
    {
     "data": {
      "text/latex": [
       "$\\displaystyle x^{2}$"
      ],
      "text/plain": [
       "x**2"
      ]
     },
     "execution_count": 88,
     "metadata": {},
     "output_type": "execute_result"
    },
    {
     "data": {
      "text/latex": [
       "$\\displaystyle \\frac{31}{3}$"
      ],
      "text/plain": [
       "31/3"
      ]
     },
     "execution_count": 88,
     "metadata": {},
     "output_type": "execute_result"
    },
    {
     "data": {
      "text/latex": [
       "$\\displaystyle 10.3333333333333$"
      ],
      "text/plain": [
       "10.3333333333333"
      ]
     },
     "execution_count": 88,
     "metadata": {},
     "output_type": "execute_result"
    }
   ],
   "source": [
    "f = x**2\n",
    "f\n",
    "avg_h = get_avg_h_of_itg(f, (x, 1, 5))\n",
    "avg_h\n",
    "sp.N(avg_h)"
   ]
  },
  {
   "cell_type": "markdown",
   "id": "a33bd67b-4a2f-4648-865f-ab4ec9e054e2",
   "metadata": {},
   "source": [
    "# Q22"
   ]
  },
  {
   "cell_type": "code",
   "execution_count": 90,
   "id": "67acd12f-f622-438e-aa78-f7831a2484a3",
   "metadata": {},
   "outputs": [
    {
     "data": {
      "text/latex": [
       "$\\displaystyle \\left(x - 2\\right)^{2}$"
      ],
      "text/plain": [
       "(x - 2)**2"
      ]
     },
     "execution_count": 90,
     "metadata": {},
     "output_type": "execute_result"
    },
    {
     "data": {
      "text/latex": [
       "$\\displaystyle 4 - x$"
      ],
      "text/plain": [
       "4 - x"
      ]
     },
     "execution_count": 90,
     "metadata": {},
     "output_type": "execute_result"
    }
   ],
   "source": [
    "f = (x - 2)**2\n",
    "g = 4 - x\n",
    "f\n",
    "g"
   ]
  },
  {
   "cell_type": "code",
   "execution_count": 91,
   "id": "75e87b65-e76f-484a-aa95-5ceaf48b586c",
   "metadata": {},
   "outputs": [
    {
     "data": {
      "text/latex": [
       "$\\displaystyle x \\left(x - 4\\right) \\left(x - 3\\right)$"
      ],
      "text/plain": [
       "x*(x - 4)*(x - 3)"
      ]
     },
     "execution_count": 91,
     "metadata": {},
     "output_type": "execute_result"
    }
   ],
   "source": [
    "((g - f) * (4 - x)).factor()"
   ]
  },
  {
   "cell_type": "markdown",
   "id": "9434285d-8e89-4600-b35a-b6674d6fc6e6",
   "metadata": {},
   "source": [
    "# Q23"
   ]
  },
  {
   "cell_type": "code",
   "execution_count": 94,
   "id": "b595efef-8bfd-4ab1-910e-95603882a385",
   "metadata": {},
   "outputs": [
    {
     "data": {
      "text/latex": [
       "$\\displaystyle \\frac{\\pi \\left(1 - x\\right)^{2}}{8}$"
      ],
      "text/plain": [
       "pi*(1 - x)**2/8"
      ]
     },
     "execution_count": 94,
     "metadata": {},
     "output_type": "execute_result"
    }
   ],
   "source": [
    "expr = sp.pi * (1-x)**2 / 8\n",
    "expr"
   ]
  },
  {
   "cell_type": "code",
   "execution_count": 96,
   "id": "cc2e0c71-f9cb-4065-b1fd-52bc447542de",
   "metadata": {},
   "outputs": [
    {
     "data": {
      "text/latex": [
       "$\\displaystyle \\frac{\\pi}{24}$"
      ],
      "text/plain": [
       "pi/24"
      ]
     },
     "execution_count": 96,
     "metadata": {},
     "output_type": "execute_result"
    }
   ],
   "source": [
    "expr.integrate((x, 0, 1))"
   ]
  },
  {
   "cell_type": "markdown",
   "id": "63031bc6-28fe-4fca-b7db-6d1639840a74",
   "metadata": {},
   "source": [
    "# Q24"
   ]
  },
  {
   "cell_type": "code",
   "execution_count": 116,
   "id": "7c75160c-2525-4f21-b26a-54ead29ff316",
   "metadata": {},
   "outputs": [
    {
     "data": {
      "text/latex": [
       "$\\displaystyle \\pi y$"
      ],
      "text/plain": [
       "pi*y"
      ]
     },
     "execution_count": 116,
     "metadata": {},
     "output_type": "execute_result"
    }
   ],
   "source": [
    "expr = y * sp.pi\n",
    "expr"
   ]
  },
  {
   "cell_type": "code",
   "execution_count": 117,
   "id": "e46e9c28-14c8-4d3f-afbd-6bcc8a35844a",
   "metadata": {},
   "outputs": [
    {
     "data": {
      "text/latex": [
       "$\\displaystyle 6 \\pi$"
      ],
      "text/plain": [
       "6*pi"
      ]
     },
     "execution_count": 117,
     "metadata": {},
     "output_type": "execute_result"
    }
   ],
   "source": [
    "expr.integrate((y, 2, 4))"
   ]
  },
  {
   "cell_type": "markdown",
   "id": "0d34fc2b-b9db-4bb9-92cc-0ed850a150d5",
   "metadata": {},
   "source": [
    "# Q25"
   ]
  },
  {
   "cell_type": "code",
   "execution_count": 119,
   "id": "f2803dca-f3d6-41da-8421-58a0453ef81f",
   "metadata": {},
   "outputs": [],
   "source": [
    "reset_symbols()"
   ]
  },
  {
   "cell_type": "code",
   "execution_count": 120,
   "id": "c32f359b-d1a6-4b75-8b0f-4ad108271b96",
   "metadata": {},
   "outputs": [
    {
     "data": {
      "text/latex": [
       "$\\displaystyle x^{2} - \\frac{\\log{\\left(x \\right)}}{8}$"
      ],
      "text/plain": [
       "x**2 - log(x)/8"
      ]
     },
     "execution_count": 120,
     "metadata": {},
     "output_type": "execute_result"
    }
   ],
   "source": [
    "f = x**2 - sp.ln(x)/8\n",
    "f"
   ]
  },
  {
   "cell_type": "code",
   "execution_count": 122,
   "id": "83b940cc-8601-4e29-96fd-2da13dc6c233",
   "metadata": {},
   "outputs": [
    {
     "data": {
      "text/latex": [
       "$\\displaystyle 2 \\pi x \\sqrt{\\left(2 x - \\frac{1}{8 x}\\right)^{2} + 1}$"
      ],
      "text/plain": [
       "2*pi*x*sqrt((2*x - 1/(8*x))**2 + 1)"
      ]
     },
     "execution_count": 122,
     "metadata": {},
     "output_type": "execute_result"
    }
   ],
   "source": [
    "expr = 2*sp.pi*x*get_arc_len_itgd(f)\n",
    "expr"
   ]
  },
  {
   "cell_type": "code",
   "execution_count": 123,
   "id": "0fed7daa-0d3d-4d17-a9fa-fa4c20a83a06",
   "metadata": {},
   "outputs": [
    {
     "data": {
      "text/latex": [
       "$\\displaystyle \\int\\limits_{1}^{2} 2 \\pi x \\sqrt{\\left(2 x - \\frac{1}{8 x}\\right)^{2} + 1}\\, dx$"
      ],
      "text/plain": [
       "Integral(2*pi*x*sqrt((2*x - 1/(8*x))**2 + 1), (x, 1, 2))"
      ]
     },
     "execution_count": 123,
     "metadata": {},
     "output_type": "execute_result"
    }
   ],
   "source": [
    "itg = sp.Integral(expr, (x, 1, 2))\n",
    "itg"
   ]
  },
  {
   "cell_type": "code",
   "execution_count": 125,
   "id": "ca29c98e-ae83-4997-b6bf-fee7b7cbf69f",
   "metadata": {},
   "outputs": [
    {
     "data": {
      "text/latex": [
       "$\\displaystyle \\frac{115 \\pi}{12}$"
      ],
      "text/plain": [
       "115*pi/12"
      ]
     },
     "execution_count": 125,
     "metadata": {},
     "output_type": "execute_result"
    }
   ],
   "source": [
    "itg.doit().simplify()"
   ]
  },
  {
   "cell_type": "markdown",
   "id": "5e4f3661-7c45-422b-9fb6-68e2b9bce755",
   "metadata": {},
   "source": [
    "# Q26"
   ]
  },
  {
   "cell_type": "code",
   "execution_count": 129,
   "id": "c460940e-57f2-4976-b63f-b9f05cb0cf8a",
   "metadata": {},
   "outputs": [
    {
     "data": {
      "text/latex": [
       "$\\displaystyle 3 x + 1$"
      ],
      "text/plain": [
       "3*x + 1"
      ]
     },
     "execution_count": 129,
     "metadata": {},
     "output_type": "execute_result"
    },
    {
     "data": {
      "text/latex": [
       "$\\displaystyle 2 \\sqrt{10} \\pi \\left(3 x + 1\\right)$"
      ],
      "text/plain": [
       "2*sqrt(10)*pi*(3*x + 1)"
      ]
     },
     "execution_count": 129,
     "metadata": {},
     "output_type": "execute_result"
    },
    {
     "data": {
      "text/latex": [
       "$\\displaystyle 5 \\sqrt{10} \\pi$"
      ],
      "text/plain": [
       "5*sqrt(10)*pi"
      ]
     },
     "execution_count": 129,
     "metadata": {},
     "output_type": "execute_result"
    }
   ],
   "source": [
    "y = 3*x + 1\n",
    "y\n",
    "expr = 2*sp.pi*y*get_arc_len_itgd(y)\n",
    "expr\n",
    "itg = sp.Integral(expr, (x, 0, 1))\n",
    "itg.doit().simplify()"
   ]
  },
  {
   "cell_type": "markdown",
   "id": "244540c6-2601-4689-a297-811e856aa397",
   "metadata": {},
   "source": [
    "# Q27"
   ]
  },
  {
   "cell_type": "code",
   "execution_count": 131,
   "id": "d2ecb5e1-b428-4599-8bbb-1994766d52d3",
   "metadata": {},
   "outputs": [
    {
     "data": {
      "text/latex": [
       "$\\displaystyle \\sqrt{25 - x^{2}}$"
      ],
      "text/plain": [
       "sqrt(25 - x**2)"
      ]
     },
     "execution_count": 131,
     "metadata": {},
     "output_type": "execute_result"
    },
    {
     "data": {
      "text/latex": [
       "$\\displaystyle 2 \\pi \\sqrt{25 - x^{2}} \\sqrt{\\frac{x^{2}}{25 - x^{2}} + 1}$"
      ],
      "text/plain": [
       "2*pi*sqrt(25 - x**2)*sqrt(x**2/(25 - x**2) + 1)"
      ]
     },
     "execution_count": 131,
     "metadata": {},
     "output_type": "execute_result"
    },
    {
     "data": {
      "text/latex": [
       "$\\displaystyle 50 \\pi$"
      ],
      "text/plain": [
       "50*pi"
      ]
     },
     "execution_count": 131,
     "metadata": {},
     "output_type": "execute_result"
    }
   ],
   "source": [
    "y = sp.sqrt(25 - x**2)\n",
    "y\n",
    "expr = 2*sp.pi*y*get_arc_len_itgd(y)\n",
    "expr\n",
    "itg = sp.Integral(expr, (x, -2, 3))\n",
    "itg.doit().simplify()"
   ]
  },
  {
   "cell_type": "code",
   "execution_count": 133,
   "id": "c8f42f34-ecb3-4a39-98cf-0ed6e11c5428",
   "metadata": {},
   "outputs": [
    {
     "data": {
      "text/latex": [
       "$\\displaystyle \\frac{x^{2}}{2} - 1$"
      ],
      "text/plain": [
       "x**2/2 - 1"
      ]
     },
     "execution_count": 133,
     "metadata": {},
     "output_type": "execute_result"
    },
    {
     "data": {
      "text/latex": [
       "$\\displaystyle 2 \\pi x \\sqrt{x^{2} + 1}$"
      ],
      "text/plain": [
       "2*pi*x*sqrt(x**2 + 1)"
      ]
     },
     "execution_count": 133,
     "metadata": {},
     "output_type": "execute_result"
    },
    {
     "data": {
      "text/latex": [
       "$\\displaystyle \\frac{52 \\pi}{3}$"
      ],
      "text/plain": [
       "52*pi/3"
      ]
     },
     "execution_count": 133,
     "metadata": {},
     "output_type": "execute_result"
    }
   ],
   "source": [
    "y = x**2/2 - 1\n",
    "y\n",
    "expr = 2*sp.pi*x*get_arc_len_itgd(y)\n",
    "expr\n",
    "itg = sp.Integral(expr, (x, 0, 2*sp.sqrt(2)))\n",
    "itg.doit().simplify()"
   ]
  },
  {
   "cell_type": "code",
   "execution_count": null,
   "id": "22e60374-0869-40f1-b31b-74a66713b13a",
   "metadata": {},
   "outputs": [],
   "source": []
  },
  {
   "cell_type": "code",
   "execution_count": null,
   "id": "bce6416b-2b70-46fe-b467-686f564e9544",
   "metadata": {},
   "outputs": [],
   "source": []
  },
  {
   "cell_type": "code",
   "execution_count": null,
   "id": "6819580a-557e-40ca-ab23-89a42812c487",
   "metadata": {},
   "outputs": [],
   "source": []
  },
  {
   "cell_type": "code",
   "execution_count": null,
   "id": "aedcd932-feed-4984-82ae-a18a94c532e5",
   "metadata": {},
   "outputs": [],
   "source": []
  },
  {
   "cell_type": "code",
   "execution_count": null,
   "id": "b9d9a6b6-595c-4717-b8fa-8c4a25779666",
   "metadata": {},
   "outputs": [],
   "source": []
  },
  {
   "cell_type": "code",
   "execution_count": null,
   "id": "965225a6-87a5-4534-ba64-7056654fbbe6",
   "metadata": {},
   "outputs": [],
   "source": []
  },
  {
   "cell_type": "code",
   "execution_count": null,
   "id": "edf1bd34-26ca-433f-abd0-bad14d499984",
   "metadata": {},
   "outputs": [],
   "source": []
  },
  {
   "cell_type": "code",
   "execution_count": null,
   "id": "5a59886b-62a5-4519-9046-07b7567207f6",
   "metadata": {},
   "outputs": [],
   "source": []
  },
  {
   "cell_type": "code",
   "execution_count": null,
   "id": "5977bcfa-a1f5-4405-9d04-f8a402a1a06d",
   "metadata": {},
   "outputs": [],
   "source": []
  },
  {
   "cell_type": "code",
   "execution_count": null,
   "id": "ad81c730-e97c-4116-b38b-6a87861c915e",
   "metadata": {},
   "outputs": [],
   "source": []
  },
  {
   "cell_type": "code",
   "execution_count": null,
   "id": "8125a845-e419-4a90-bb7b-528acbdc7d8e",
   "metadata": {},
   "outputs": [],
   "source": []
  },
  {
   "cell_type": "code",
   "execution_count": null,
   "id": "fad8cbb8-b923-41c8-97e1-9c784806d848",
   "metadata": {},
   "outputs": [],
   "source": []
  },
  {
   "cell_type": "code",
   "execution_count": null,
   "id": "2d1c8290-b86a-4c99-939f-f4ed6f01fa13",
   "metadata": {},
   "outputs": [],
   "source": []
  },
  {
   "cell_type": "code",
   "execution_count": null,
   "id": "124c92d4-35a7-480e-91d3-6f8c90876e2f",
   "metadata": {},
   "outputs": [],
   "source": []
  },
  {
   "cell_type": "code",
   "execution_count": null,
   "id": "070335b3-8fc6-41a9-baf5-0efe1a93da12",
   "metadata": {},
   "outputs": [],
   "source": []
  },
  {
   "cell_type": "code",
   "execution_count": null,
   "id": "686f3102-6247-4315-ac90-0134de47c19a",
   "metadata": {},
   "outputs": [],
   "source": []
  },
  {
   "cell_type": "code",
   "execution_count": null,
   "id": "04d2476e-c59d-45b7-92b2-933f05adcd16",
   "metadata": {},
   "outputs": [],
   "source": []
  },
  {
   "cell_type": "code",
   "execution_count": null,
   "id": "cc2d09fe-7790-4d3c-89c3-5299326899a0",
   "metadata": {},
   "outputs": [],
   "source": []
  },
  {
   "cell_type": "code",
   "execution_count": null,
   "id": "9b469ff3-1f20-478c-a8df-30d2771bd83a",
   "metadata": {},
   "outputs": [],
   "source": []
  },
  {
   "cell_type": "code",
   "execution_count": null,
   "id": "0ea000e6-d05b-4fe2-a369-d9279ffb789b",
   "metadata": {},
   "outputs": [],
   "source": []
  },
  {
   "cell_type": "code",
   "execution_count": null,
   "id": "af91690b-a375-41b0-ba58-092c69a4ddd1",
   "metadata": {},
   "outputs": [],
   "source": []
  },
  {
   "cell_type": "code",
   "execution_count": null,
   "id": "d3b7e2d1-7994-43cd-b783-fc4f55da06d7",
   "metadata": {},
   "outputs": [],
   "source": []
  },
  {
   "cell_type": "code",
   "execution_count": null,
   "id": "dcb8b85d-ae1c-4a28-89f5-5d88dc7ab3b6",
   "metadata": {},
   "outputs": [],
   "source": []
  },
  {
   "cell_type": "code",
   "execution_count": null,
   "id": "dc5ea034-fa09-4499-b708-67595adf9055",
   "metadata": {},
   "outputs": [],
   "source": []
  }
 ],
 "metadata": {
  "kernelspec": {
   "display_name": "Math",
   "language": "python",
   "name": "math"
  },
  "language_info": {
   "codemirror_mode": {
    "name": "ipython",
    "version": 3
   },
   "file_extension": ".py",
   "mimetype": "text/x-python",
   "name": "python",
   "nbconvert_exporter": "python",
   "pygments_lexer": "ipython3",
   "version": "3.8.12"
  }
 },
 "nbformat": 4,
 "nbformat_minor": 5
}
