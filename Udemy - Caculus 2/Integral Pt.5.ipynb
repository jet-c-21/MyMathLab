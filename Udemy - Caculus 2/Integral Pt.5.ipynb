{
 "cells": [
  {
   "cell_type": "code",
   "execution_count": 1,
   "metadata": {},
   "outputs": [
    {
     "name": "stdout",
     "output_type": "stream",
     "text": [
      "Added /home/jet/my_home/PycharmProjects/MyMathLab to PATH\n"
     ]
    }
   ],
   "source": [
    "from IPython.core.interactiveshell import InteractiveShell\n",
    "InteractiveShell.ast_node_interactivity = 'all'\n",
    "\n",
    "# import self-made module\n",
    "import os, sys, pathlib\n",
    "file_path = os.path.abspath('')\n",
    "PROJECT_DIR = str(pathlib.Path(file_path).parent)\n",
    "sys.path.append(PROJECT_DIR)\n",
    "print(f\"Added {PROJECT_DIR} to PATH\")\n",
    "from athena import *\n",
    "\n",
    "# ult functions\n",
    "def reset_symbols():\n",
    "    global x, y, z, a, b, c, d, s, k, t, theta\n",
    "    x, y, z = sp.symbols('x y z', real=True)\n",
    "    a, b, c, d, s, k, t = sp.symbols('a b c d s k t', real=True)\n",
    "    theta = sp.Symbol('theta')"
   ]
  },
  {
   "cell_type": "markdown",
   "metadata": {},
   "source": [
    "# Q1"
   ]
  },
  {
   "cell_type": "code",
   "execution_count": 2,
   "metadata": {},
   "outputs": [
    {
     "data": {
      "text/latex": [
       "$\\displaystyle \\sqrt{t^{2} + 1}$"
      ],
      "text/plain": [
       "sqrt(t**2 + 1)"
      ]
     },
     "execution_count": 2,
     "metadata": {},
     "output_type": "execute_result"
    },
    {
     "data": {
      "text/latex": [
       "$\\displaystyle \\frac{\\log{\\left(1 + \\sqrt{2} \\right)} + \\sqrt{2}}{2}$"
      ],
      "text/plain": [
       "(log(1 + sqrt(2)) + sqrt(2))/2"
      ]
     },
     "execution_count": 2,
     "metadata": {},
     "output_type": "execute_result"
    }
   ],
   "source": [
    "x = t*sp.sin(t)\n",
    "y = t*sp.cos(t)\n",
    "\n",
    "dx_dt = x.diff()\n",
    "dy_dt = y.diff()\n",
    "\n",
    "arc_len_itgd = sp.sqrt(dx_dt**2 + dy_dt**2)\n",
    "arc_len_itgd = sp.trigsimp(arc_len_itgd)\n",
    "arc_len_itgd\n",
    "\n",
    "arc_len = arc_len_itgd.integrate((t, 0, 1))\n",
    "arc_len.factor()"
   ]
  },
  {
   "cell_type": "markdown",
   "metadata": {},
   "source": [
    "# Q2"
   ]
  },
  {
   "cell_type": "code",
   "execution_count": 3,
   "metadata": {},
   "outputs": [],
   "source": [
    "reset_symbols()"
   ]
  },
  {
   "cell_type": "code",
   "execution_count": 4,
   "metadata": {},
   "outputs": [
    {
     "data": {
      "text/latex": [
       "$\\displaystyle x = 2 \\sin{\\left(3 t + 1 \\right)}$"
      ],
      "text/plain": [
       "Eq(x, 2*sin(3*t + 1))"
      ]
     },
     "execution_count": 4,
     "metadata": {},
     "output_type": "execute_result"
    },
    {
     "data": {
      "text/latex": [
       "$\\displaystyle \\frac{\\operatorname{asin}{\\left(\\frac{x}{2} \\right)}}{3} - \\frac{1}{3}$"
      ],
      "text/plain": [
       "asin(x/2)/3 - 1/3"
      ]
     },
     "execution_count": 4,
     "metadata": {},
     "output_type": "execute_result"
    },
    {
     "data": {
      "text/latex": [
       "$\\displaystyle - \\frac{\\operatorname{asin}{\\left(\\frac{x}{2} \\right)}}{3} - \\frac{1}{3} + \\frac{\\pi}{3}$"
      ],
      "text/plain": [
       "-asin(x/2)/3 - 1/3 + pi/3"
      ]
     },
     "execution_count": 4,
     "metadata": {},
     "output_type": "execute_result"
    }
   ],
   "source": [
    "eq1 = sp.Eq(x, 2*sp.sin(1+3*t))\n",
    "eq1\n",
    "\n",
    "t_swx = sp.solve(eq1, t)\n",
    "for _ in t_swx:\n",
    "    _"
   ]
  },
  {
   "cell_type": "code",
   "execution_count": 5,
   "metadata": {},
   "outputs": [],
   "source": [
    "t_swx = t_swx[0]"
   ]
  },
  {
   "cell_type": "code",
   "execution_count": 6,
   "metadata": {},
   "outputs": [
    {
     "data": {
      "text/latex": [
       "$\\displaystyle 2 \\left(\\frac{\\operatorname{asin}{\\left(\\frac{x}{2} \\right)}}{3} - \\frac{1}{3}\\right)^{3}$"
      ],
      "text/plain": [
       "2*(asin(x/2)/3 - 1/3)**3"
      ]
     },
     "execution_count": 6,
     "metadata": {},
     "output_type": "execute_result"
    }
   ],
   "source": [
    "2*t_swx**3"
   ]
  },
  {
   "cell_type": "markdown",
   "metadata": {
    "tags": []
   },
   "source": [
    "# Q3"
   ]
  },
  {
   "cell_type": "code",
   "execution_count": 7,
   "metadata": {},
   "outputs": [
    {
     "data": {
      "text/latex": [
       "$\\displaystyle \\frac{3}{2 \\sqrt{3 t + 1} \\cdot \\left(3 t^{2} - 1\\right)}$"
      ],
      "text/plain": [
       "3/(2*sqrt(3*t + 1)*(3*t**2 - 1))"
      ]
     },
     "execution_count": 7,
     "metadata": {},
     "output_type": "execute_result"
    },
    {
     "data": {
      "text/latex": [
       "$\\displaystyle \\frac{3}{8}$"
      ],
      "text/plain": [
       "3/8"
      ]
     },
     "execution_count": 7,
     "metadata": {},
     "output_type": "execute_result"
    }
   ],
   "source": [
    "reset_symbols()\n",
    "x = t**3 - t\n",
    "dx_dt = x.diff()\n",
    "\n",
    "y = sp.sqrt(3*t+1)\n",
    "dy_dt = y.diff()\n",
    "\n",
    "dy_dx = dy_dt / dx_dt\n",
    "dy_dx\n",
    "\n",
    "t_val = 1\n",
    "dy_dx.subs(t, 1)"
   ]
  },
  {
   "cell_type": "code",
   "execution_count": 8,
   "metadata": {},
   "outputs": [
    {
     "data": {
      "text/latex": [
       "$\\displaystyle \\frac{\\cos^{2}{\\left(t \\right)}}{3}$"
      ],
      "text/plain": [
       "cos(t)**2/3"
      ]
     },
     "execution_count": 8,
     "metadata": {},
     "output_type": "execute_result"
    },
    {
     "data": {
      "text/latex": [
       "$\\displaystyle \\frac{\\cos^{2}{\\left(t \\right)}}{3}$"
      ],
      "text/plain": [
       "cos(t)**2/3"
      ]
     },
     "execution_count": 8,
     "metadata": {},
     "output_type": "execute_result"
    }
   ],
   "source": [
    "reset_symbols()\n",
    "x = 6*sp.tan(t)\n",
    "y = 2*t + 1\n",
    "t_val = t\n",
    "\n",
    "dx_dt = x.diff()\n",
    "dy_dt = y.diff()\n",
    "\n",
    "dy_dx = dy_dt / dx_dt\n",
    "dy_dx = sp.trigsimp(dy_dx)\n",
    "dy_dx\n",
    "\n",
    "dy_dx.subs(t, t_val)"
   ]
  },
  {
   "cell_type": "code",
   "execution_count": 9,
   "metadata": {},
   "outputs": [
    {
     "data": {
      "text/latex": [
       "$\\displaystyle - \\frac{t \\left(4 t + 1\\right)}{2}$"
      ],
      "text/plain": [
       "-t*(4*t + 1)/2"
      ]
     },
     "execution_count": 9,
     "metadata": {},
     "output_type": "execute_result"
    },
    {
     "data": {
      "text/latex": [
       "$\\displaystyle -9$"
      ],
      "text/plain": [
       "-9"
      ]
     },
     "execution_count": 9,
     "metadata": {},
     "output_type": "execute_result"
    }
   ],
   "source": [
    "reset_symbols()\n",
    "x = -2 * sp.log(-t)\n",
    "y = 2*t**2 + t\n",
    "t_val = 2\n",
    "\n",
    "dx_dt = x.diff()\n",
    "dy_dt = y.diff()\n",
    "\n",
    "dy_dx = dy_dt / dx_dt\n",
    "dy_dx = sp.trigsimp(dy_dx)\n",
    "dy_dx\n",
    "\n",
    "dy_dx.subs(t, t_val)"
   ]
  },
  {
   "cell_type": "code",
   "execution_count": 10,
   "metadata": {},
   "outputs": [
    {
     "data": {
      "text/latex": [
       "$\\displaystyle - \\frac{t}{\\sqrt{2 - t^{2}} \\cdot \\left(3 t^{2} - 6\\right)}$"
      ],
      "text/plain": [
       "-t/(sqrt(2 - t**2)*(3*t**2 - 6))"
      ]
     },
     "execution_count": 10,
     "metadata": {},
     "output_type": "execute_result"
    },
    {
     "data": {
      "text/latex": [
       "$\\displaystyle - \\frac{t}{\\sqrt{2 - t^{2}} \\cdot \\left(3 t^{2} - 6\\right)}$"
      ],
      "text/plain": [
       "-t/(sqrt(2 - t**2)*(3*t**2 - 6))"
      ]
     },
     "execution_count": 10,
     "metadata": {},
     "output_type": "execute_result"
    }
   ],
   "source": [
    "reset_symbols()\n",
    "x = t**3 - 6*t\n",
    "y = sp.sqrt(2 - t**2)\n",
    "t_val = t\n",
    "\n",
    "dx_dt = x.diff()\n",
    "dy_dt = y.diff()\n",
    "\n",
    "dy_dx = dy_dt / dx_dt\n",
    "dy_dx = sp.trigsimp(dy_dx)\n",
    "dy_dx\n",
    "\n",
    "dy_dx.subs(t, t_val)"
   ]
  },
  {
   "cell_type": "markdown",
   "metadata": {},
   "source": [
    "# Q4"
   ]
  },
  {
   "cell_type": "code",
   "execution_count": 11,
   "metadata": {},
   "outputs": [
    {
     "data": {
      "text/latex": [
       "$\\displaystyle 12 e^{2 t}$"
      ],
      "text/plain": [
       "12*exp(2*t)"
      ]
     },
     "execution_count": 11,
     "metadata": {},
     "output_type": "execute_result"
    }
   ],
   "source": [
    "reset_symbols()\n",
    "\n",
    "x = sp.E**t + 4\n",
    "y = sp.E**(4*t)\n",
    "\n",
    "dx_dt = x.diff()\n",
    "dy_dt = y.diff()\n",
    "\n",
    "dy_dx = dy_dt / dx_dt\n",
    "\n",
    "d2y_dx2 = dy_dx.diff() / dx_dt\n",
    "d2y_dx2"
   ]
  },
  {
   "cell_type": "code",
   "execution_count": 12,
   "metadata": {},
   "outputs": [
    {
     "data": {
      "text/latex": [
       "$\\displaystyle 2 - \\frac{3}{4 t^{3}}$"
      ],
      "text/plain": [
       "2 - 3/(4*t**3)"
      ]
     },
     "execution_count": 12,
     "metadata": {},
     "output_type": "execute_result"
    }
   ],
   "source": [
    "reset_symbols()\n",
    "\n",
    "x = t**2 - 16\n",
    "y = t**4 + 3*t\n",
    "\n",
    "dx_dt = x.diff()\n",
    "dy_dt = y.diff()\n",
    "\n",
    "dy_dx = dy_dt / dx_dt\n",
    "\n",
    "d2y_dx2 = dy_dx.diff() / dx_dt\n",
    "d2y_dx2.simplify()"
   ]
  },
  {
   "cell_type": "code",
   "execution_count": 13,
   "metadata": {},
   "outputs": [
    {
     "data": {
      "text/latex": [
       "$\\displaystyle \\sqrt[3]{t} - 6$"
      ],
      "text/plain": [
       "t**(1/3) - 6"
      ]
     },
     "execution_count": 13,
     "metadata": {},
     "output_type": "execute_result"
    },
    {
     "data": {
      "text/latex": [
       "$\\displaystyle \\sqrt{t} + 1$"
      ],
      "text/plain": [
       "sqrt(t) + 1"
      ]
     },
     "execution_count": 13,
     "metadata": {},
     "output_type": "execute_result"
    },
    {
     "data": {
      "text/latex": [
       "$\\displaystyle \\frac{3}{4 \\sqrt[6]{t}}$"
      ],
      "text/plain": [
       "3/(4*t**(1/6))"
      ]
     },
     "execution_count": 13,
     "metadata": {},
     "output_type": "execute_result"
    }
   ],
   "source": [
    "reset_symbols()\n",
    "\n",
    "x = sp.root(t, 3) - 6\n",
    "x\n",
    "y = sp.sqrt(t) + 1\n",
    "y\n",
    "\n",
    "dx_dt = x.diff()\n",
    "dy_dt = y.diff()\n",
    "\n",
    "dy_dx = dy_dt / dx_dt\n",
    "\n",
    "d2y_dx2 = dy_dx.diff() / dx_dt\n",
    "d2y_dx2.simplify()"
   ]
  },
  {
   "cell_type": "code",
   "execution_count": 14,
   "metadata": {},
   "outputs": [
    {
     "data": {
      "text/latex": [
       "$\\displaystyle \\sin{\\left(t \\right)}$"
      ],
      "text/plain": [
       "sin(t)"
      ]
     },
     "execution_count": 14,
     "metadata": {},
     "output_type": "execute_result"
    },
    {
     "data": {
      "text/latex": [
       "$\\displaystyle \\pi - \\cos{\\left(t \\right)}$"
      ],
      "text/plain": [
       "pi - cos(t)"
      ]
     },
     "execution_count": 14,
     "metadata": {},
     "output_type": "execute_result"
    },
    {
     "data": {
      "text/latex": [
       "$\\displaystyle \\frac{1}{\\cos^{3}{\\left(t \\right)}}$"
      ],
      "text/plain": [
       "cos(t)**(-3)"
      ]
     },
     "execution_count": 14,
     "metadata": {},
     "output_type": "execute_result"
    }
   ],
   "source": [
    "reset_symbols()\n",
    "\n",
    "x = sp.sin(t)\n",
    "x\n",
    "y = -sp.cos(t) + sp.pi\n",
    "y\n",
    "\n",
    "dx_dt = x.diff()\n",
    "dy_dt = y.diff()\n",
    "\n",
    "dy_dx = dy_dt / dx_dt\n",
    "\n",
    "d2y_dx2 = dy_dx.diff() / dx_dt\n",
    "sp.trigsimp(d2y_dx2)"
   ]
  },
  {
   "cell_type": "markdown",
   "metadata": {},
   "source": [
    "# Q5"
   ]
  },
  {
   "cell_type": "code",
   "execution_count": 15,
   "metadata": {},
   "outputs": [
    {
     "data": {
      "text/latex": [
       "$\\displaystyle \\cos{\\left(2 t \\right)}$"
      ],
      "text/plain": [
       "cos(2*t)"
      ]
     },
     "execution_count": 15,
     "metadata": {},
     "output_type": "execute_result"
    },
    {
     "data": {
      "text/latex": [
       "$\\displaystyle 6 t^{3}$"
      ],
      "text/plain": [
       "6*t**3"
      ]
     },
     "execution_count": 15,
     "metadata": {},
     "output_type": "execute_result"
    },
    {
     "data": {
      "text/latex": [
       "$\\displaystyle - 2 \\sin{\\left(2 t \\right)}$"
      ],
      "text/plain": [
       "-2*sin(2*t)"
      ]
     },
     "execution_count": 15,
     "metadata": {},
     "output_type": "execute_result"
    },
    {
     "data": {
      "text/latex": [
       "$\\displaystyle 18 t^{2}$"
      ],
      "text/plain": [
       "18*t**2"
      ]
     },
     "execution_count": 15,
     "metadata": {},
     "output_type": "execute_result"
    },
    {
     "data": {
      "text/latex": [
       "$\\displaystyle \\sqrt{324 t^{4} + 4 \\sin^{2}{\\left(2 t \\right)}}$"
      ],
      "text/plain": [
       "sqrt(324*t**4 + 4*sin(2*t)**2)"
      ]
     },
     "execution_count": 15,
     "metadata": {},
     "output_type": "execute_result"
    }
   ],
   "source": [
    "reset_symbols()\n",
    "\n",
    "x = sp.cos(2*t)\n",
    "x\n",
    "y = 6*t**3\n",
    "y\n",
    "\n",
    "dx_dt = x.diff()\n",
    "dx_dt\n",
    "\n",
    "dy_dt = y.diff()\n",
    "dy_dt\n",
    "\n",
    "\n",
    "arc_len_itgd = sp.sqrt((dx_dt**2) + (dy_dt**2))\n",
    "# arc_len_itgd = sp.trigsimp(arc_len_itgd)\n",
    "arc_len_itgd"
   ]
  },
  {
   "cell_type": "markdown",
   "metadata": {},
   "source": [
    "# Q6"
   ]
  },
  {
   "cell_type": "code",
   "execution_count": 16,
   "metadata": {},
   "outputs": [
    {
     "data": {
      "text/latex": [
       "$\\displaystyle \\sqrt{e^{- 2 t} + \\frac{100}{t^{6}}}$"
      ],
      "text/plain": [
       "sqrt(exp(-2*t) + 100/t**6)"
      ]
     },
     "execution_count": 16,
     "metadata": {},
     "output_type": "execute_result"
    }
   ],
   "source": [
    "reset_symbols()\n",
    "\n",
    "x = -5 / t**2\n",
    "y = sp.E ** (-t)\n",
    "\n",
    "dx_dt = x.diff()\n",
    "dy_dt = y.diff()\n",
    "\n",
    "arc_len_itgd = sp.sqrt((dx_dt**2) + (dy_dt**2))\n",
    "arc_len_itgd"
   ]
  },
  {
   "cell_type": "markdown",
   "metadata": {},
   "source": [
    "# Q7"
   ]
  },
  {
   "cell_type": "code",
   "execution_count": 17,
   "metadata": {},
   "outputs": [
    {
     "data": {
      "text/latex": [
       "$\\displaystyle \\sqrt{4 \\sin^{2}{\\left(t \\right)} \\cos^{2}{\\left(t \\right)} + 81}$"
      ],
      "text/plain": [
       "sqrt(4*sin(t)**2*cos(t)**2 + 81)"
      ]
     },
     "execution_count": 17,
     "metadata": {},
     "output_type": "execute_result"
    }
   ],
   "source": [
    "reset_symbols()\n",
    "\n",
    "x = sp.sin(t) ** 2\n",
    "y = -9*t\n",
    "\n",
    "dx_dt = x.diff()\n",
    "dy_dt = y.diff()\n",
    "\n",
    "arc_len_itgd = sp.sqrt((dx_dt**2) + (dy_dt**2))\n",
    "arc_len_itgd"
   ]
  },
  {
   "cell_type": "markdown",
   "metadata": {},
   "source": [
    "# Q8"
   ]
  },
  {
   "cell_type": "code",
   "execution_count": 18,
   "metadata": {},
   "outputs": [
    {
     "data": {
      "text/latex": [
       "$\\displaystyle t^{2}$"
      ],
      "text/plain": [
       "t**2"
      ]
     },
     "execution_count": 18,
     "metadata": {},
     "output_type": "execute_result"
    },
    {
     "data": {
      "text/latex": [
       "$\\displaystyle - 4 \\tan{\\left(t \\right)}$"
      ],
      "text/plain": [
       "-4*tan(t)"
      ]
     },
     "execution_count": 18,
     "metadata": {},
     "output_type": "execute_result"
    },
    {
     "data": {
      "text/latex": [
       "$\\displaystyle 2 t$"
      ],
      "text/plain": [
       "2*t"
      ]
     },
     "execution_count": 18,
     "metadata": {},
     "output_type": "execute_result"
    },
    {
     "data": {
      "text/latex": [
       "$\\displaystyle - 4 \\tan^{2}{\\left(t \\right)} - 4$"
      ],
      "text/plain": [
       "-4*tan(t)**2 - 4"
      ]
     },
     "execution_count": 18,
     "metadata": {},
     "output_type": "execute_result"
    },
    {
     "data": {
      "text/latex": [
       "$\\displaystyle \\sqrt{4 t^{2} + 16 \\tan^{4}{\\left(t \\right)} + 32 \\tan^{2}{\\left(t \\right)} + 16}$"
      ],
      "text/plain": [
       "sqrt(4*t**2 + 16*tan(t)**4 + 32*tan(t)**2 + 16)"
      ]
     },
     "execution_count": 18,
     "metadata": {},
     "output_type": "execute_result"
    }
   ],
   "source": [
    "reset_symbols()\n",
    "\n",
    "x = t**2\n",
    "x\n",
    "y = -4*sp.tan(t)\n",
    "y\n",
    "\n",
    "dx_dt = x.diff()\n",
    "dx_dt\n",
    "dy_dt = y.diff()\n",
    "dy_dt\n",
    "\n",
    "arc_len_itgd = sp.sqrt((dx_dt**2) + (dy_dt**2))\n",
    "arc_len_itgd.expand()"
   ]
  },
  {
   "cell_type": "code",
   "execution_count": 19,
   "metadata": {},
   "outputs": [
    {
     "data": {
      "text/latex": [
       "$\\displaystyle \\frac{16}{\\cos^{4}{\\left(t \\right)}}$"
      ],
      "text/plain": [
       "16/cos(t)**4"
      ]
     },
     "execution_count": 19,
     "metadata": {},
     "output_type": "execute_result"
    }
   ],
   "source": [
    "expr = 16*sp.tan(t)**4 + 32*sp.tan(t)**2 + 16\n",
    "expr.simplify()"
   ]
  },
  {
   "cell_type": "markdown",
   "metadata": {},
   "source": [
    "# Q9"
   ]
  },
  {
   "cell_type": "code",
   "execution_count": 20,
   "metadata": {},
   "outputs": [
    {
     "data": {
      "text/latex": [
       "$\\displaystyle 6 \\sqrt{2}$"
      ],
      "text/plain": [
       "6*sqrt(2)"
      ]
     },
     "execution_count": 20,
     "metadata": {},
     "output_type": "execute_result"
    }
   ],
   "source": [
    "v = (6, 6)\n",
    "x_coord = sp.Integer(v[0])\n",
    "y_coord = sp.Integer(v[1])\n",
    "mag = sp.sqrt(x_coord**2 + y_coord**2)\n",
    "mag"
   ]
  },
  {
   "cell_type": "markdown",
   "metadata": {},
   "source": [
    "# Q10"
   ]
  },
  {
   "cell_type": "code",
   "execution_count": 21,
   "metadata": {},
   "outputs": [
    {
     "data": {
      "text/latex": [
       "$\\displaystyle 7 t^{4}$"
      ],
      "text/plain": [
       "7*t**4"
      ]
     },
     "execution_count": 21,
     "metadata": {},
     "output_type": "execute_result"
    },
    {
     "data": {
      "text/latex": [
       "$\\displaystyle - 5 t^{9}$"
      ],
      "text/plain": [
       "-5*t**9"
      ]
     },
     "execution_count": 21,
     "metadata": {},
     "output_type": "execute_result"
    },
    {
     "data": {
      "text/latex": [
       "$\\displaystyle \\frac{224}{5}$"
      ],
      "text/plain": [
       "224/5"
      ]
     },
     "execution_count": 21,
     "metadata": {},
     "output_type": "execute_result"
    },
    {
     "data": {
      "text/latex": [
       "$\\displaystyle -512$"
      ],
      "text/plain": [
       "-512"
      ]
     },
     "execution_count": 21,
     "metadata": {},
     "output_type": "execute_result"
    },
    {
     "data": {
      "text/latex": [
       "$\\displaystyle 513.956262730595$"
      ],
      "text/plain": [
       "513.956262730595"
      ]
     },
     "execution_count": 21,
     "metadata": {},
     "output_type": "execute_result"
    }
   ],
   "source": [
    "reset_symbols()\n",
    "\n",
    "dx_dt = 7*t**4\n",
    "dx_dt\n",
    "\n",
    "dy_dt = -5*t**9\n",
    "dy_dt\n",
    "\n",
    "x_displ = dx_dt.integrate((t, 0, 2))\n",
    "x_displ\n",
    "y_displ = dy_dt.integrate((t, 0, 2))\n",
    "y_displ\n",
    "\n",
    "v = (x_displ, y_displ)\n",
    "get_magnitude_of_vector(v)"
   ]
  },
  {
   "cell_type": "markdown",
   "metadata": {},
   "source": [
    "# Q11"
   ]
  },
  {
   "cell_type": "code",
   "execution_count": 22,
   "metadata": {},
   "outputs": [
    {
     "data": {
      "text/latex": [
       "$\\displaystyle 10 t$"
      ],
      "text/plain": [
       "10*t"
      ]
     },
     "execution_count": 22,
     "metadata": {},
     "output_type": "execute_result"
    },
    {
     "data": {
      "text/latex": [
       "$\\displaystyle 6 t^{4}$"
      ],
      "text/plain": [
       "6*t**4"
      ]
     },
     "execution_count": 22,
     "metadata": {},
     "output_type": "execute_result"
    },
    {
     "data": {
      "text/latex": [
       "$\\displaystyle 20$"
      ],
      "text/plain": [
       "20"
      ]
     },
     "execution_count": 22,
     "metadata": {},
     "output_type": "execute_result"
    },
    {
     "data": {
      "text/latex": [
       "$\\displaystyle \\frac{192}{5}$"
      ],
      "text/plain": [
       "192/5"
      ]
     },
     "execution_count": 22,
     "metadata": {},
     "output_type": "execute_result"
    },
    {
     "data": {
      "text/plain": [
       "(12, 177/5)"
      ]
     },
     "execution_count": 22,
     "metadata": {},
     "output_type": "execute_result"
    }
   ],
   "source": [
    "reset_symbols()\n",
    "\n",
    "dx_dt = 10*t\n",
    "dx_dt\n",
    "\n",
    "dy_dt = 6*t**4\n",
    "dy_dt\n",
    "\n",
    "x_displ = dx_dt.integrate((t, 0, 2))\n",
    "x_displ\n",
    "y_displ = dy_dt.integrate((t, 0, 2))\n",
    "y_displ\n",
    "\n",
    "v = (-8 + x_displ, -3 + y_displ)\n",
    "v\n",
    "# get_magnitude_of_vector(v)"
   ]
  },
  {
   "cell_type": "markdown",
   "metadata": {},
   "source": [
    "# Q13"
   ]
  },
  {
   "cell_type": "code",
   "execution_count": 26,
   "metadata": {},
   "outputs": [
    {
     "data": {
      "text/latex": [
       "$\\displaystyle - 2 e^{t}$"
      ],
      "text/plain": [
       "-2*exp(t)"
      ]
     },
     "execution_count": 26,
     "metadata": {},
     "output_type": "execute_result"
    },
    {
     "data": {
      "text/latex": [
       "$\\displaystyle e^{t}$"
      ],
      "text/plain": [
       "exp(t)"
      ]
     },
     "execution_count": 26,
     "metadata": {},
     "output_type": "execute_result"
    },
    {
     "data": {
      "text/latex": [
       "$\\displaystyle - 2 e^{3} + 2 e^{2}$"
      ],
      "text/plain": [
       "-2*exp(3) + 2*exp(2)"
      ]
     },
     "execution_count": 26,
     "metadata": {},
     "output_type": "execute_result"
    },
    {
     "data": {
      "text/latex": [
       "$\\displaystyle - e^{2} + e^{3}$"
      ],
      "text/plain": [
       "-exp(2) + exp(3)"
      ]
     },
     "execution_count": 26,
     "metadata": {},
     "output_type": "execute_result"
    },
    {
     "data": {
      "text/plain": [
       "(-2*exp(3) + 2*exp(2), -exp(2) + exp(3))"
      ]
     },
     "execution_count": 26,
     "metadata": {},
     "output_type": "execute_result"
    },
    {
     "name": "stdout",
     "output_type": "stream",
     "text": [
      "[INFO] - Cannot convert val_1: -2*exp(3) + 2*exp(2), val_2: -exp(2) + exp(3) into float. Error: cannot create mpf from -2*exp(3) + 2*exp(2)\n"
     ]
    },
    {
     "data": {
      "text/latex": [
       "$\\displaystyle \\sqrt{\\left(- e^{2} + e^{3}\\right)^{2} + \\left(- 2 e^{3} + 2 e^{2}\\right)^{2}}$"
      ],
      "text/plain": [
       "sqrt((-exp(2) + exp(3))**2 + (-2*exp(3) + 2*exp(2))**2)"
      ]
     },
     "execution_count": 26,
     "metadata": {},
     "output_type": "execute_result"
    },
    {
     "data": {
      "text/latex": [
       "$\\displaystyle 28.3901941980613$"
      ],
      "text/plain": [
       "28.3901941980613"
      ]
     },
     "execution_count": 26,
     "metadata": {},
     "output_type": "execute_result"
    }
   ],
   "source": [
    "reset_symbols()\n",
    "\n",
    "dx_dt = -2*sp.E**t\n",
    "dx_dt\n",
    "\n",
    "dy_dt = sp.exp(t)\n",
    "dy_dt\n",
    "\n",
    "x_displ = dx_dt.integrate((t, 2, 3))\n",
    "x_displ\n",
    "\n",
    "y_displ = dy_dt.integrate((t, 2, 3))\n",
    "y_displ\n",
    "\n",
    "v = (x_displ, y_displ)\n",
    "v\n",
    "\n",
    "mag = get_magnitude_of_vector(v)\n",
    "mag\n",
    "sp.N(mag)"
   ]
  },
  {
   "cell_type": "markdown",
   "metadata": {},
   "source": [
    "# Q14"
   ]
  },
  {
   "cell_type": "code",
   "execution_count": 25,
   "metadata": {},
   "outputs": [
    {
     "data": {
      "text/latex": [
       "$\\displaystyle -12$"
      ],
      "text/plain": [
       "-12"
      ]
     },
     "execution_count": 25,
     "metadata": {},
     "output_type": "execute_result"
    },
    {
     "data": {
      "text/latex": [
       "$\\displaystyle - 5 t$"
      ],
      "text/plain": [
       "-5*t"
      ]
     },
     "execution_count": 25,
     "metadata": {},
     "output_type": "execute_result"
    },
    {
     "data": {
      "text/latex": [
       "$\\displaystyle -24$"
      ],
      "text/plain": [
       "-24"
      ]
     },
     "execution_count": 25,
     "metadata": {},
     "output_type": "execute_result"
    },
    {
     "data": {
      "text/latex": [
       "$\\displaystyle -40$"
      ],
      "text/plain": [
       "-40"
      ]
     },
     "execution_count": 25,
     "metadata": {},
     "output_type": "execute_result"
    },
    {
     "data": {
      "text/plain": [
       "(-25, -42)"
      ]
     },
     "execution_count": 25,
     "metadata": {},
     "output_type": "execute_result"
    }
   ],
   "source": [
    "reset_symbols()\n",
    "\n",
    "dx_dt = sp.Integer(-12)\n",
    "dx_dt\n",
    "\n",
    "dy_dt = -5*t\n",
    "dy_dt\n",
    "\n",
    "x_displ = dx_dt.integrate((t, 3, 5))\n",
    "x_displ\n",
    "\n",
    "y_displ = dy_dt.integrate((t, 3, 5))\n",
    "y_displ\n",
    "\n",
    "origin = (-1, -2)\n",
    "\n",
    "v = (origin[0] + x_displ, origin[1] + y_displ)\n",
    "v\n",
    "\n",
    "# mag = get_magnitude_of_vector(v)\n",
    "# mag\n",
    "# sp.N(mag)"
   ]
  },
  {
   "cell_type": "markdown",
   "metadata": {
    "tags": []
   },
   "source": [
    "## How to differentiate a expression with respect to a symbol that is not a free symbol of the expression in SymPy?"
   ]
  },
  {
   "cell_type": "markdown",
   "metadata": {},
   "source": [
    "### Sol 1"
   ]
  },
  {
   "cell_type": "code",
   "execution_count": 30,
   "metadata": {},
   "outputs": [],
   "source": [
    "x, y = sp.symbols('x, y', cls=sp.Function)"
   ]
  },
  {
   "cell_type": "code",
   "execution_count": 31,
   "metadata": {},
   "outputs": [
    {
     "data": {
      "text/latex": [
       "$\\displaystyle y{\\left(t \\right)} = 3 x^{2}{\\left(t \\right)} + x{\\left(t \\right)}$"
      ],
      "text/plain": [
       "Eq(y(t), 3*x(t)**2 + x(t))"
      ]
     },
     "execution_count": 31,
     "metadata": {},
     "output_type": "execute_result"
    }
   ],
   "source": [
    "eq = sp.Eq(y(t), 3*x(t)**2 + x(t))\n",
    "eq"
   ]
  },
  {
   "cell_type": "code",
   "execution_count": 32,
   "metadata": {},
   "outputs": [
    {
     "data": {
      "text/latex": [
       "$\\displaystyle \\frac{d}{d t} y{\\left(t \\right)} = \\left(6 x{\\left(t \\right)} + 1\\right) \\frac{d}{d t} x{\\left(t \\right)}$"
      ],
      "text/plain": [
       "Eq(Derivative(y(t), t), (6*x(t) + 1)*Derivative(x(t), t))"
      ]
     },
     "execution_count": 32,
     "metadata": {},
     "output_type": "execute_result"
    }
   ],
   "source": [
    "eq2 = sp.Eq(eq.lhs.diff(t), eq.rhs.diff(t))\n",
    "eq2.simplify()"
   ]
  },
  {
   "cell_type": "markdown",
   "metadata": {},
   "source": [
    "### Sol 3"
   ]
  },
  {
   "cell_type": "markdown",
   "metadata": {},
   "source": [
    "Alternatively, the `idiff` function was made for this purpose but it works with expressions like `f(x, y)` and can return the value of `dy/dx`. So first make your `Eq` and expression and then calculate the desired derivative:"
   ]
  },
  {
   "cell_type": "code",
   "execution_count": 35,
   "metadata": {},
   "outputs": [],
   "source": [
    "x, y, t = sp.symbols('x y t', real=True)"
   ]
  },
  {
   "cell_type": "code",
   "execution_count": 36,
   "metadata": {},
   "outputs": [
    {
     "data": {
      "text/latex": [
       "$\\displaystyle y = 3 x^{2} + x$"
      ],
      "text/plain": [
       "Eq(y, 3*x**2 + x)"
      ]
     },
     "execution_count": 36,
     "metadata": {},
     "output_type": "execute_result"
    }
   ],
   "source": [
    "eq = sp.Eq(y, 3 * x **2 + x)\n",
    "eq"
   ]
  },
  {
   "cell_type": "code",
   "execution_count": 37,
   "metadata": {},
   "outputs": [
    {
     "data": {
      "text/latex": [
       "$\\displaystyle - 3 x^{2} - x + y$"
      ],
      "text/plain": [
       "-3*x**2 - x + y"
      ]
     },
     "execution_count": 37,
     "metadata": {},
     "output_type": "execute_result"
    }
   ],
   "source": [
    "e = eq.rewrite(sp.Add)\n",
    "e"
   ]
  },
  {
   "cell_type": "code",
   "execution_count": 38,
   "metadata": {},
   "outputs": [
    {
     "data": {
      "text/latex": [
       "$\\displaystyle 6 x + 1$"
      ],
      "text/plain": [
       "6*x + 1"
      ]
     },
     "execution_count": 38,
     "metadata": {},
     "output_type": "execute_result"
    }
   ],
   "source": [
    "dy_dx = sp.idiff(e, y, x)\n",
    "dy_dx"
   ]
  },
  {
   "cell_type": "markdown",
   "metadata": {},
   "source": [
    "Note, too, that even in your equation (if you write it explicitly in terms of functions of `t`) you do not need to isolate `y(t)` -- you can differentiate and solve for it:"
   ]
  },
  {
   "cell_type": "code",
   "execution_count": 39,
   "metadata": {},
   "outputs": [],
   "source": [
    "from sympy.abc import t"
   ]
  },
  {
   "cell_type": "code",
   "execution_count": 42,
   "metadata": {},
   "outputs": [],
   "source": [
    "x, y = map(sp.Function,'xy')"
   ]
  },
  {
   "cell_type": "code",
   "execution_count": 43,
   "metadata": {},
   "outputs": [
    {
     "data": {
      "text/latex": [
       "$\\displaystyle \\left(y^{2}{\\left(t \\right)} - y{\\left(t \\right)} + 1\\right) x{\\left(t \\right)}$"
      ],
      "text/plain": [
       "(y(t)**2 - y(t) + 1)*x(t)"
      ]
     },
     "execution_count": 43,
     "metadata": {},
     "output_type": "execute_result"
    }
   ],
   "source": [
    "eq = x(t)*(y(t)**2 - y(t) + 1)\n",
    "eq"
   ]
  },
  {
   "cell_type": "code",
   "execution_count": 44,
   "metadata": {},
   "outputs": [
    {
     "data": {
      "text/latex": [
       "$\\displaystyle \\frac{d}{d t} y{\\left(t \\right)} = \\frac{\\left(- y^{2}{\\left(t \\right)} + y{\\left(t \\right)} - 1\\right) \\frac{d}{d t} x{\\left(t \\right)}}{\\left(2 y{\\left(t \\right)} - 1\\right) x{\\left(t \\right)}}$"
      ],
      "text/plain": [
       "Eq(Derivative(y(t), t), (-y(t)**2 + y(t) - 1)*Derivative(x(t), t)/((2*y(t) - 1)*x(t)))"
      ]
     },
     "execution_count": 44,
     "metadata": {},
     "output_type": "execute_result"
    }
   ],
   "source": [
    "yp=y(t).diff(t)\n",
    "sp.Eq(yp, sp.solve(eq.diff(t),yp)[0])"
   ]
  },
  {
   "cell_type": "markdown",
   "metadata": {},
   "source": [
    "# Q15"
   ]
  },
  {
   "cell_type": "code",
   "execution_count": 47,
   "metadata": {},
   "outputs": [
    {
     "ename": "AttributeError",
     "evalue": "module 'sympy' has no attribute 'theta'",
     "output_type": "error",
     "traceback": [
      "\u001b[0;31m---------------------------------------------------------------------------\u001b[0m",
      "\u001b[0;31mAttributeError\u001b[0m                            Traceback (most recent call last)",
      "Input \u001b[0;32mIn [47]\u001b[0m, in \u001b[0;36m<cell line: 1>\u001b[0;34m()\u001b[0m\n\u001b[0;32m----> 1\u001b[0m \u001b[43msp\u001b[49m\u001b[38;5;241;43m.\u001b[39;49m\u001b[43mtheta\u001b[49m\n",
      "\u001b[0;31mAttributeError\u001b[0m: module 'sympy' has no attribute 'theta'"
     ]
    }
   ],
   "source": [
    "sp.theta"
   ]
  },
  {
   "cell_type": "code",
   "execution_count": null,
   "metadata": {},
   "outputs": [],
   "source": []
  },
  {
   "cell_type": "code",
   "execution_count": null,
   "metadata": {},
   "outputs": [],
   "source": []
  },
  {
   "cell_type": "code",
   "execution_count": null,
   "metadata": {},
   "outputs": [],
   "source": []
  },
  {
   "cell_type": "code",
   "execution_count": null,
   "metadata": {},
   "outputs": [],
   "source": []
  },
  {
   "cell_type": "code",
   "execution_count": null,
   "metadata": {},
   "outputs": [],
   "source": []
  },
  {
   "cell_type": "code",
   "execution_count": null,
   "metadata": {},
   "outputs": [],
   "source": []
  },
  {
   "cell_type": "code",
   "execution_count": null,
   "metadata": {},
   "outputs": [],
   "source": []
  },
  {
   "cell_type": "code",
   "execution_count": null,
   "metadata": {},
   "outputs": [],
   "source": []
  },
  {
   "cell_type": "code",
   "execution_count": null,
   "metadata": {},
   "outputs": [],
   "source": []
  },
  {
   "cell_type": "code",
   "execution_count": null,
   "metadata": {},
   "outputs": [],
   "source": []
  },
  {
   "cell_type": "code",
   "execution_count": null,
   "metadata": {},
   "outputs": [],
   "source": []
  },
  {
   "cell_type": "code",
   "execution_count": null,
   "metadata": {},
   "outputs": [],
   "source": []
  },
  {
   "cell_type": "code",
   "execution_count": null,
   "metadata": {},
   "outputs": [],
   "source": []
  },
  {
   "cell_type": "code",
   "execution_count": null,
   "metadata": {},
   "outputs": [],
   "source": []
  },
  {
   "cell_type": "code",
   "execution_count": null,
   "metadata": {},
   "outputs": [],
   "source": []
  },
  {
   "cell_type": "code",
   "execution_count": null,
   "metadata": {},
   "outputs": [],
   "source": []
  },
  {
   "cell_type": "code",
   "execution_count": null,
   "metadata": {},
   "outputs": [],
   "source": []
  },
  {
   "cell_type": "code",
   "execution_count": null,
   "metadata": {},
   "outputs": [],
   "source": []
  }
 ],
 "metadata": {
  "kernelspec": {
   "display_name": "Math",
   "language": "python",
   "name": "math"
  },
  "language_info": {
   "codemirror_mode": {
    "name": "ipython",
    "version": 3
   },
   "file_extension": ".py",
   "mimetype": "text/x-python",
   "name": "python",
   "nbconvert_exporter": "python",
   "pygments_lexer": "ipython3",
   "version": "3.8.12"
  }
 },
 "nbformat": 4,
 "nbformat_minor": 4
}
