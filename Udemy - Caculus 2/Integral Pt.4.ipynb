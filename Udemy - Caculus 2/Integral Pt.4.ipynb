{
 "cells": [
  {
   "cell_type": "code",
   "execution_count": 1,
   "metadata": {},
   "outputs": [
    {
     "name": "stdout",
     "output_type": "stream",
     "text": [
      "Added /home/jet/my_home/PycharmProjects/MyMathLab to PATH\n"
     ]
    }
   ],
   "source": [
    "from IPython.core.interactiveshell import InteractiveShell\n",
    "InteractiveShell.ast_node_interactivity = 'all'\n",
    "\n",
    "# import self-made module\n",
    "import os, sys, pathlib\n",
    "file_path = os.path.abspath('')\n",
    "PROJECT_DIR = str(pathlib.Path(file_path).parent)\n",
    "sys.path.append(PROJECT_DIR)\n",
    "print(f\"Added {PROJECT_DIR} to PATH\")\n",
    "from athena import *\n",
    "\n",
    "# ult functions\n",
    "def reset_symbols():\n",
    "    global x, y, z, a, b, c, d, s, k, t\n",
    "    x, y, z = sp.symbols('x y z', real=True)\n",
    "    a, b, c, d, s, k, t = sp.symbols('a b c d s k t', real=True)"
   ]
  },
  {
   "cell_type": "markdown",
   "metadata": {
    "tags": []
   },
   "source": [
    "# Q1"
   ]
  },
  {
   "cell_type": "code",
   "execution_count": 2,
   "metadata": {},
   "outputs": [
    {
     "data": {
      "text/latex": [
       "$\\displaystyle 744.677049303581$"
      ],
      "text/plain": [
       "744.677049303581"
      ]
     },
     "execution_count": 2,
     "metadata": {},
     "output_type": "execute_result"
    }
   ],
   "source": [
    "pv = 500\n",
    "pv = sp.Integer(pv)\n",
    "n = 12\n",
    "t = 4\n",
    "r = 0.1\n",
    "fv = pv * (1 + r/n)**(n*t)\n",
    "fv"
   ]
  },
  {
   "cell_type": "markdown",
   "metadata": {},
   "source": [
    "# Q2"
   ]
  },
  {
   "cell_type": "code",
   "execution_count": 3,
   "metadata": {},
   "outputs": [
    {
     "data": {
      "text/latex": [
       "$\\displaystyle 14799.6124405003$"
      ],
      "text/plain": [
       "14799.6124405003"
      ]
     },
     "execution_count": 3,
     "metadata": {},
     "output_type": "execute_result"
    }
   ],
   "source": [
    "pv = 12000\n",
    "n = 12\n",
    "t = 6\n",
    "r = 0.035\n",
    "\n",
    "pv = sp.Integer(pv)\n",
    "n = sp.Integer(n)\n",
    "t = sp.Integer(t)\n",
    "\n",
    "fv = pv * (1 + r/n)**(n*t)\n",
    "sp.N(fv)"
   ]
  },
  {
   "cell_type": "markdown",
   "metadata": {},
   "source": [
    "# Q3"
   ]
  },
  {
   "cell_type": "code",
   "execution_count": 4,
   "metadata": {},
   "outputs": [
    {
     "data": {
      "text/latex": [
       "$\\displaystyle 22472.5085339536$"
      ],
      "text/plain": [
       "22472.5085339536"
      ]
     },
     "execution_count": 4,
     "metadata": {},
     "output_type": "execute_result"
    }
   ],
   "source": [
    "pv = 15000\n",
    "n = 12\n",
    "t = 9\n",
    "r = 0.045\n",
    "\n",
    "pv = sp.Integer(pv)\n",
    "n = sp.Integer(n)\n",
    "t = sp.Integer(t)\n",
    "\n",
    "fv = pv * (1 + r/n)**(n*t)\n",
    "sp.N(fv)"
   ]
  },
  {
   "cell_type": "markdown",
   "metadata": {},
   "source": [
    "# Q4"
   ]
  },
  {
   "cell_type": "code",
   "execution_count": 5,
   "metadata": {},
   "outputs": [
    {
     "data": {
      "text/latex": [
       "$\\displaystyle 4778.83837953601$"
      ],
      "text/plain": [
       "4778.83837953601"
      ]
     },
     "execution_count": 5,
     "metadata": {},
     "output_type": "execute_result"
    }
   ],
   "source": [
    "fv = 7345.25\n",
    "n = 52.1429\n",
    "t = 10\n",
    "r = 0.043\n",
    "\n",
    "fv = sp.Integer(fv)\n",
    "n = sp.Integer(n)\n",
    "t = sp.Integer(t)\n",
    "\n",
    "pv = fv / ((1 + r/n)**(n*t))\n",
    "pv"
   ]
  },
  {
   "cell_type": "markdown",
   "metadata": {},
   "source": [
    "# Q5"
   ]
  },
  {
   "cell_type": "code",
   "execution_count": 6,
   "metadata": {},
   "outputs": [
    {
     "data": {
      "text/latex": [
       "$\\displaystyle 17407.2857550669$"
      ],
      "text/plain": [
       "17407.2857550669"
      ]
     },
     "execution_count": 6,
     "metadata": {},
     "output_type": "execute_result"
    }
   ],
   "source": [
    "pv = 13900\n",
    "t = 5\n",
    "r = 0.045\n",
    "\n",
    "pv = sp.Integer(pv)\n",
    "\n",
    "fv = pv * (sp.E**(r*t))\n",
    "sp.N(fv)"
   ]
  },
  {
   "cell_type": "markdown",
   "metadata": {},
   "source": [
    "# Q6"
   ]
  },
  {
   "cell_type": "code",
   "execution_count": 7,
   "metadata": {},
   "outputs": [
    {
     "data": {
      "text/latex": [
       "$\\displaystyle 8924.99980320689$"
      ],
      "text/plain": [
       "8924.99980320689"
      ]
     },
     "execution_count": 7,
     "metadata": {},
     "output_type": "execute_result"
    }
   ],
   "source": [
    "fv = 10240.56\n",
    "t = 5\n",
    "r = 0.0275\n",
    "\n",
    "pv = sp.Integer(pv)\n",
    "\n",
    "pv = fv / (sp.E**(r*t))\n",
    "\n",
    "sp.N(pv)"
   ]
  },
  {
   "cell_type": "markdown",
   "metadata": {},
   "source": [
    "# Q7"
   ]
  },
  {
   "cell_type": "code",
   "execution_count": 8,
   "metadata": {},
   "outputs": [
    {
     "data": {
      "text/latex": [
       "$\\displaystyle 12000 e^{0.145 T - 0.145 t}$"
      ],
      "text/plain": [
       "12000*exp(0.145*T - 0.145*t)"
      ]
     },
     "execution_count": 8,
     "metadata": {},
     "output_type": "execute_result"
    },
    {
     "data": {
      "text/plain": [
       "[13.4609992039664]"
      ]
     },
     "execution_count": 8,
     "metadata": {},
     "output_type": "execute_result"
    }
   ],
   "source": [
    "reset_symbols()\n",
    "income_stream = 12000\n",
    "r = 0.145\n",
    "T = sp.Symbol('T', real=True)\n",
    "itgd = income_stream * sp.E ** (r * (T - t))\n",
    "itgd\n",
    "\n",
    "eq1 = sp.Eq(500000, sp.Integral(itgd, (t, 0, T)))\n",
    "eq2 = sp.Eq(500000, eq1.rhs.doit())\n",
    "sp.solve(eq2)"
   ]
  },
  {
   "cell_type": "markdown",
   "metadata": {},
   "source": [
    "# Q8"
   ]
  },
  {
   "cell_type": "code",
   "execution_count": 9,
   "metadata": {},
   "outputs": [
    {
     "data": {
      "text/latex": [
       "$\\displaystyle 67286.0576511638$"
      ],
      "text/plain": [
       "67286.0576511638"
      ]
     },
     "execution_count": 9,
     "metadata": {},
     "output_type": "execute_result"
    }
   ],
   "source": [
    "reset_symbols()\n",
    "income_stream = 12000\n",
    "r = sp.Rational(4.5, 100)\n",
    "# r\n",
    "n = 5\n",
    "n = sp.Integer(n)\n",
    "\n",
    "itgd = income_stream * (sp.E**(r * (n - t)))\n",
    "# itgd\n",
    "fv = itgd.integrate((t, 0, n))\n",
    "sp.N(fv)"
   ]
  },
  {
   "cell_type": "markdown",
   "metadata": {},
   "source": [
    "# Q9"
   ]
  },
  {
   "cell_type": "code",
   "execution_count": 10,
   "metadata": {},
   "outputs": [
    {
     "data": {
      "text/latex": [
       "$\\displaystyle 14501.5397537615$"
      ],
      "text/plain": [
       "14501.5397537615"
      ]
     },
     "execution_count": 10,
     "metadata": {},
     "output_type": "execute_result"
    },
    {
     "data": {
      "text/latex": [
       "$\\displaystyle 21633.755158488$"
      ],
      "text/plain": [
       "21633.7551584880"
      ]
     },
     "execution_count": 10,
     "metadata": {},
     "output_type": "execute_result"
    }
   ],
   "source": [
    "reset_symbols()\n",
    "income_stream = 1600 * sp.E ** (0.02*t)\n",
    "r = sp.Rational(4, 100)\n",
    "n = 10\n",
    "n = sp.Integer(n)\n",
    "\n",
    "pv_itgd = income_stream * (sp.E**(r * (- t)))\n",
    "pv = pv_itgd.integrate((t, 0, n))\n",
    "sp.N(pv)\n",
    "\n",
    "fv_itgd = income_stream * (sp.E**(r * (n - t)))\n",
    "fv = fv_itgd.integrate((t, 0, n))\n",
    "sp.N(fv)"
   ]
  },
  {
   "cell_type": "markdown",
   "metadata": {},
   "source": [
    "# Q10"
   ]
  },
  {
   "cell_type": "code",
   "execution_count": 11,
   "metadata": {},
   "outputs": [
    {
     "data": {
      "text/latex": [
       "$\\displaystyle 50807.1944345122$"
      ],
      "text/plain": [
       "50807.1944345122"
      ]
     },
     "execution_count": 11,
     "metadata": {},
     "output_type": "execute_result"
    }
   ],
   "source": [
    "reset_symbols()\n",
    "income_stream = 5600\n",
    "r = sp.Rational(4.9, 100)\n",
    "n = 12\n",
    "n = sp.Integer(n)\n",
    "\n",
    "pv_itgd = income_stream * (sp.E**(r * (- t)))\n",
    "pv = pv_itgd.integrate((t, 0, n))\n",
    "sp.N(pv)"
   ]
  },
  {
   "cell_type": "markdown",
   "metadata": {},
   "source": [
    "# Q11"
   ]
  },
  {
   "cell_type": "code",
   "execution_count": 12,
   "metadata": {},
   "outputs": [],
   "source": [
    "reset_symbols()"
   ]
  },
  {
   "cell_type": "code",
   "execution_count": 13,
   "metadata": {},
   "outputs": [
    {
     "data": {
      "text/latex": [
       "$\\displaystyle 0$"
      ],
      "text/plain": [
       "0"
      ]
     },
     "execution_count": 13,
     "metadata": {},
     "output_type": "execute_result"
    }
   ],
   "source": [
    "expr = x**3\n",
    "a = -1\n",
    "b = 1\n",
    "expr.integrate((x, a, b))"
   ]
  },
  {
   "cell_type": "code",
   "execution_count": 14,
   "metadata": {},
   "outputs": [
    {
     "data": {
      "text/latex": [
       "$\\displaystyle 1$"
      ],
      "text/plain": [
       "1"
      ]
     },
     "execution_count": 14,
     "metadata": {},
     "output_type": "execute_result"
    }
   ],
   "source": [
    "expr = x**3 * (10-x) / 5000\n",
    "a = 0\n",
    "b = 10\n",
    "expr.integrate((x, a, b))"
   ]
  },
  {
   "cell_type": "code",
   "execution_count": 15,
   "metadata": {},
   "outputs": [
    {
     "data": {
      "text/latex": [
       "$\\displaystyle - \\frac{11}{6250}$"
      ],
      "text/plain": [
       "-11/6250"
      ]
     },
     "execution_count": 15,
     "metadata": {},
     "output_type": "execute_result"
    }
   ],
   "source": [
    "expr = x**3 * (2-x) / 5000\n",
    "a = -1\n",
    "b = 3\n",
    "expr.integrate((x, a, b))"
   ]
  },
  {
   "cell_type": "code",
   "execution_count": 16,
   "metadata": {},
   "outputs": [
    {
     "data": {
      "text/latex": [
       "$\\displaystyle - \\frac{2357}{20000}$"
      ],
      "text/plain": [
       "-2357/20000"
      ]
     },
     "execution_count": 16,
     "metadata": {},
     "output_type": "execute_result"
    }
   ],
   "source": [
    "expr = x**3 * (2-x) / 2000\n",
    "a = 4\n",
    "b = 5\n",
    "expr.integrate((x, a, b))"
   ]
  },
  {
   "cell_type": "markdown",
   "metadata": {},
   "source": [
    "# Q12"
   ]
  },
  {
   "cell_type": "code",
   "execution_count": 17,
   "metadata": {},
   "outputs": [
    {
     "data": {
      "text/latex": [
       "$\\displaystyle \\frac{x^{3}}{4}$"
      ],
      "text/plain": [
       "x**3/4"
      ]
     },
     "execution_count": 17,
     "metadata": {},
     "output_type": "execute_result"
    },
    {
     "data": {
      "text/latex": [
       "$\\displaystyle \\frac{1}{16}$"
      ],
      "text/plain": [
       "1/16"
      ]
     },
     "execution_count": 17,
     "metadata": {},
     "output_type": "execute_result"
    }
   ],
   "source": [
    "f = x**3/4\n",
    "f\n",
    "a = 0\n",
    "b = 1\n",
    "f.integrate((x, a, b))"
   ]
  },
  {
   "cell_type": "markdown",
   "metadata": {},
   "source": [
    "# Q13"
   ]
  },
  {
   "cell_type": "code",
   "execution_count": 18,
   "metadata": {},
   "outputs": [
    {
     "data": {
      "text/latex": [
       "$\\displaystyle \\frac{2}{x^{2}}$"
      ],
      "text/plain": [
       "2/x**2"
      ]
     },
     "execution_count": 18,
     "metadata": {},
     "output_type": "execute_result"
    },
    {
     "name": "stdout",
     "output_type": "stream",
     "text": [
      "<class 'sympy.core.mul.Mul'>\n"
     ]
    },
    {
     "data": {
      "text/latex": [
       "$\\displaystyle \\frac{2}{3}$"
      ],
      "text/plain": [
       "2/3"
      ]
     },
     "execution_count": 18,
     "metadata": {},
     "output_type": "execute_result"
    }
   ],
   "source": [
    "f = 2/x**2\n",
    "f\n",
    "print(type(f))\n",
    "a = 1\n",
    "b = sp.Rational(3, 2)\n",
    "f.integrate((x, a, b))"
   ]
  },
  {
   "cell_type": "markdown",
   "metadata": {},
   "source": [
    "# Q14"
   ]
  },
  {
   "cell_type": "code",
   "execution_count": 19,
   "metadata": {},
   "outputs": [
    {
     "data": {
      "text/latex": [
       "$\\displaystyle \\frac{128 \\pi}{3}$"
      ],
      "text/plain": [
       "128*pi/3"
      ]
     },
     "execution_count": 19,
     "metadata": {},
     "output_type": "execute_result"
    },
    {
     "data": {
      "text/latex": [
       "$\\displaystyle 134.041286553165$"
      ],
      "text/plain": [
       "134.041286553165"
      ]
     },
     "execution_count": 19,
     "metadata": {},
     "output_type": "execute_result"
    }
   ],
   "source": [
    "reset_symbols()\n",
    "\n",
    "p1 = (0, 4)\n",
    "p2 = (8, 0)\n",
    "A = sp.Rational(8 * 4, 2)\n",
    "line = get_line_by_2p(p1, p2)\n",
    "\n",
    "\n",
    "f = line.rhs\n",
    "g = 0\n",
    "itgd = x * (f - g) / A\n",
    "x_bar = itgd.integrate((x, 0, 4))\n",
    "d = 2 * sp.pi * x_bar\n",
    "V = A*d\n",
    "V\n",
    "sp.N(V)"
   ]
  },
  {
   "cell_type": "markdown",
   "metadata": {},
   "source": [
    "# Q15"
   ]
  },
  {
   "cell_type": "code",
   "execution_count": 20,
   "metadata": {},
   "outputs": [
    {
     "data": {
      "text/latex": [
       "$\\displaystyle \\frac{75}{2}$"
      ],
      "text/plain": [
       "75/2"
      ]
     },
     "execution_count": 20,
     "metadata": {},
     "output_type": "execute_result"
    },
    {
     "data": {
      "text/latex": [
       "$\\displaystyle y = 15 - 3 x$"
      ],
      "text/plain": [
       "Eq(y, 15 - 3*x)"
      ]
     },
     "execution_count": 20,
     "metadata": {},
     "output_type": "execute_result"
    },
    {
     "data": {
      "text/latex": [
       "$\\displaystyle 125 \\pi$"
      ],
      "text/plain": [
       "125*pi"
      ]
     },
     "execution_count": 20,
     "metadata": {},
     "output_type": "execute_result"
    },
    {
     "data": {
      "text/latex": [
       "$\\displaystyle 392.699081698724$"
      ],
      "text/plain": [
       "392.699081698724"
      ]
     },
     "execution_count": 20,
     "metadata": {},
     "output_type": "execute_result"
    }
   ],
   "source": [
    "reset_symbols()\n",
    "\n",
    "p1 = (5, 0)\n",
    "p2 = (0, 15)\n",
    "A = sp.Rational(sum(p1) * sum(p2), 2)\n",
    "A\n",
    "line = get_line_by_2p(p1, p2)\n",
    "line\n",
    "\n",
    "f = line.rhs\n",
    "g = 0\n",
    "itgd = x * (f - g) / A\n",
    "x_bar = itgd.integrate((x, 0, 5))\n",
    "d = 2 * sp.pi * x_bar\n",
    "V = A*d\n",
    "V\n",
    "sp.N(V)"
   ]
  },
  {
   "cell_type": "markdown",
   "metadata": {},
   "source": [
    "# Q16"
   ]
  },
  {
   "cell_type": "code",
   "execution_count": 21,
   "metadata": {},
   "outputs": [
    {
     "data": {
      "text/latex": [
       "$\\displaystyle 18$"
      ],
      "text/plain": [
       "18"
      ]
     },
     "execution_count": 21,
     "metadata": {},
     "output_type": "execute_result"
    },
    {
     "data": {
      "text/latex": [
       "$\\displaystyle y = 12 - 4 x$"
      ],
      "text/plain": [
       "Eq(y, 12 - 4*x)"
      ]
     },
     "execution_count": 21,
     "metadata": {},
     "output_type": "execute_result"
    },
    {
     "data": {
      "text/latex": [
       "$\\displaystyle 36 \\pi$"
      ],
      "text/plain": [
       "36*pi"
      ]
     },
     "execution_count": 21,
     "metadata": {},
     "output_type": "execute_result"
    },
    {
     "data": {
      "text/latex": [
       "$\\displaystyle 113.097335529233$"
      ],
      "text/plain": [
       "113.097335529233"
      ]
     },
     "execution_count": 21,
     "metadata": {},
     "output_type": "execute_result"
    }
   ],
   "source": [
    "reset_symbols()\n",
    "\n",
    "p1 = (3, 0)\n",
    "p2 = (0, 12)\n",
    "A = sp.Rational(sum(p1) * sum(p2), 2)\n",
    "A\n",
    "line = get_line_by_2p(p1, p2)\n",
    "line\n",
    "\n",
    "f = line.rhs\n",
    "g = 0\n",
    "itgd = x * (f - g) / A\n",
    "x_bar = itgd.integrate((x, 0, 3))\n",
    "d = 2 * sp.pi * x_bar\n",
    "V = A*d\n",
    "V\n",
    "sp.N(V)"
   ]
  },
  {
   "cell_type": "markdown",
   "metadata": {},
   "source": [
    "# Q17"
   ]
  },
  {
   "cell_type": "code",
   "execution_count": 22,
   "metadata": {},
   "outputs": [
    {
     "data": {
      "text/latex": [
       "$\\displaystyle y = \\frac{3 \\sqrt{25 - x^{2}}}{5}$"
      ],
      "text/plain": [
       "Eq(y, 3*sqrt(25 - x**2)/5)"
      ]
     },
     "execution_count": 22,
     "metadata": {},
     "output_type": "execute_result"
    },
    {
     "data": {
      "text/latex": [
       "$\\displaystyle 9 - \\frac{9 x^{2}}{25}$"
      ],
      "text/plain": [
       "9 - 9*x**2/25"
      ]
     },
     "execution_count": 22,
     "metadata": {},
     "output_type": "execute_result"
    }
   ],
   "source": [
    "eq1 = sp.Eq(y, 3*sp.sin(sp.acos(x/5)))\n",
    "eq1.simplify()\n",
    "eq1.rhs ** 2"
   ]
  },
  {
   "cell_type": "markdown",
   "metadata": {},
   "source": [
    "# Q18"
   ]
  },
  {
   "cell_type": "code",
   "execution_count": 23,
   "metadata": {},
   "outputs": [
    {
     "data": {
      "text/plain": [
       "[-sqrt(y + 4), sqrt(y + 4)]"
      ]
     },
     "execution_count": 23,
     "metadata": {},
     "output_type": "execute_result"
    },
    {
     "data": {
      "text/latex": [
       "$\\displaystyle - y \\sqrt{y + 4}$"
      ],
      "text/plain": [
       "-y*sqrt(y + 4)"
      ]
     },
     "execution_count": 23,
     "metadata": {},
     "output_type": "execute_result"
    },
    {
     "data": {
      "text/latex": [
       "$\\displaystyle y \\sqrt{y + 4}$"
      ],
      "text/plain": [
       "y*sqrt(y + 4)"
      ]
     },
     "execution_count": 23,
     "metadata": {},
     "output_type": "execute_result"
    }
   ],
   "source": [
    "eq1 = sp.Eq(x, t**3 - 4*t)\n",
    "eq2 = sp.Eq(y, t**2 - 4)\n",
    "\n",
    "ys = list(sp.solve(eq2, t))\n",
    "ys\n",
    "\n",
    "eq1.subs(t, ys[0]).rhs.factor()\n",
    "eq1.subs(t, ys[1]).rhs.factor()"
   ]
  },
  {
   "cell_type": "markdown",
   "metadata": {},
   "source": [
    "# Q19"
   ]
  },
  {
   "cell_type": "code",
   "execution_count": 28,
   "metadata": {},
   "outputs": [
    {
     "data": {
      "text/latex": [
       "$\\displaystyle x = 2 \\cos{\\left(t \\right)}$"
      ],
      "text/plain": [
       "Eq(x, 2*cos(t))"
      ]
     },
     "execution_count": 28,
     "metadata": {},
     "output_type": "execute_result"
    },
    {
     "data": {
      "text/latex": [
       "$\\displaystyle y = 3 \\sin{\\left(t \\right)}$"
      ],
      "text/plain": [
       "Eq(y, 3*sin(t))"
      ]
     },
     "execution_count": 28,
     "metadata": {},
     "output_type": "execute_result"
    },
    {
     "data": {
      "text/plain": [
       "[-acos(x/2) + 2*pi, acos(x/2)]"
      ]
     },
     "execution_count": 28,
     "metadata": {},
     "output_type": "execute_result"
    }
   ],
   "source": [
    "reset_symbols()\n",
    "eq1 = sp.Eq(x, 2*sp.cos(t))\n",
    "eq2 = sp.Eq(y, 3*sp.sin(t))\n",
    "\n",
    "eq1\n",
    "eq2\n",
    "\n",
    "t_swx = list(sp.solve(eq1, t))\n",
    "t_swx"
   ]
  },
  {
   "cell_type": "code",
   "execution_count": 29,
   "metadata": {},
   "outputs": [
    {
     "data": {
      "text/latex": [
       "$\\displaystyle y^{2} = 9 - \\frac{9 x^{2}}{4}$"
      ],
      "text/plain": [
       "Eq(y**2, 9 - 9*x**2/4)"
      ]
     },
     "execution_count": 29,
     "metadata": {},
     "output_type": "execute_result"
    }
   ],
   "source": [
    "t_swx = t_swx[1]\n",
    "eq2 = eq2.subs(t, t_swx)\n",
    "eq2 = get_eq_sq_both_side(eq2)\n",
    "eq2"
   ]
  },
  {
   "cell_type": "markdown",
   "metadata": {},
   "source": [
    "# Q20"
   ]
  },
  {
   "cell_type": "code",
   "execution_count": 35,
   "metadata": {},
   "outputs": [
    {
     "data": {
      "text/latex": [
       "$\\displaystyle t \\cos{\\left(t \\right)} + \\sin{\\left(t \\right)}$"
      ],
      "text/plain": [
       "t*cos(t) + sin(t)"
      ]
     },
     "execution_count": 35,
     "metadata": {},
     "output_type": "execute_result"
    },
    {
     "data": {
      "text/latex": [
       "$\\displaystyle 2 t + 1$"
      ],
      "text/plain": [
       "2*t + 1"
      ]
     },
     "execution_count": 35,
     "metadata": {},
     "output_type": "execute_result"
    },
    {
     "data": {
      "text/latex": [
       "$\\displaystyle \\frac{2 t + 1}{t \\cos{\\left(t \\right)} + \\sin{\\left(t \\right)}}$"
      ],
      "text/plain": [
       "(2*t + 1)/(t*cos(t) + sin(t))"
      ]
     },
     "execution_count": 35,
     "metadata": {},
     "output_type": "execute_result"
    }
   ],
   "source": [
    "reset_symbols()\n",
    "x = t*sp.sin(t)\n",
    "y = t**2 + t\n",
    "\n",
    "x_dt = x.diff()\n",
    "x_dt\n",
    "\n",
    "y_dt = y.diff()\n",
    "y_dt\n",
    "\n",
    "y_dt / x_dt"
   ]
  },
  {
   "cell_type": "markdown",
   "metadata": {},
   "source": [
    "# Q21"
   ]
  },
  {
   "cell_type": "code",
   "execution_count": 37,
   "metadata": {},
   "outputs": [
    {
     "data": {
      "text/latex": [
       "$\\displaystyle 2 t$"
      ],
      "text/plain": [
       "2*t"
      ]
     },
     "execution_count": 37,
     "metadata": {},
     "output_type": "execute_result"
    },
    {
     "data": {
      "text/latex": [
       "$\\displaystyle 6 t - 1$"
      ],
      "text/plain": [
       "6*t - 1"
      ]
     },
     "execution_count": 37,
     "metadata": {},
     "output_type": "execute_result"
    },
    {
     "data": {
      "text/latex": [
       "$\\displaystyle \\frac{6 t - 1}{2 t}$"
      ],
      "text/plain": [
       "(6*t - 1)/(2*t)"
      ]
     },
     "execution_count": 37,
     "metadata": {},
     "output_type": "execute_result"
    }
   ],
   "source": [
    "reset_symbols()\n",
    "x = t**2\n",
    "y = 3*t**2 - t\n",
    "\n",
    "x_dt = x.diff()\n",
    "x_dt\n",
    "\n",
    "y_dt = y.diff()\n",
    "y_dt\n",
    "\n",
    "y_dt / x_dt"
   ]
  },
  {
   "cell_type": "markdown",
   "metadata": {},
   "source": [
    "# Q22"
   ]
  },
  {
   "cell_type": "code",
   "execution_count": 42,
   "metadata": {},
   "outputs": [
    {
     "data": {
      "text/latex": [
       "$\\displaystyle 4 \\cos{\\left(4 t \\right)}$"
      ],
      "text/plain": [
       "4*cos(4*t)"
      ]
     },
     "execution_count": 42,
     "metadata": {},
     "output_type": "execute_result"
    },
    {
     "data": {
      "text/latex": [
       "$\\displaystyle t^{2} - 4$"
      ],
      "text/plain": [
       "t**2 - 4"
      ]
     },
     "execution_count": 42,
     "metadata": {},
     "output_type": "execute_result"
    },
    {
     "data": {
      "text/latex": [
       "$\\displaystyle - 16 \\sin{\\left(4 t \\right)}$"
      ],
      "text/plain": [
       "-16*sin(4*t)"
      ]
     },
     "execution_count": 42,
     "metadata": {},
     "output_type": "execute_result"
    },
    {
     "data": {
      "text/latex": [
       "$\\displaystyle 2 t$"
      ],
      "text/plain": [
       "2*t"
      ]
     },
     "execution_count": 42,
     "metadata": {},
     "output_type": "execute_result"
    },
    {
     "data": {
      "text/latex": [
       "$\\displaystyle - \\frac{t}{8 \\sin{\\left(4 t \\right)}}$"
      ],
      "text/plain": [
       "-t/(8*sin(4*t))"
      ]
     },
     "execution_count": 42,
     "metadata": {},
     "output_type": "execute_result"
    }
   ],
   "source": [
    "reset_symbols()\n",
    "x = 4*sp.cos(4*t)\n",
    "x\n",
    "y = t**2 - 4\n",
    "y\n",
    "\n",
    "x_dt = x.diff()\n",
    "x_dt\n",
    "\n",
    "y_dt = y.diff()\n",
    "y_dt\n",
    "\n",
    "ans = y_dt / x_dt\n",
    "sp.trigsimp(ans)"
   ]
  },
  {
   "cell_type": "markdown",
   "metadata": {},
   "source": [
    "# Q23"
   ]
  },
  {
   "cell_type": "code",
   "execution_count": 44,
   "metadata": {},
   "outputs": [
    {
     "data": {
      "text/latex": [
       "$\\displaystyle 2 t \\cos{\\left(2 t \\right)} + \\sin{\\left(2 t \\right)}$"
      ],
      "text/plain": [
       "2*t*cos(2*t) + sin(2*t)"
      ]
     },
     "execution_count": 44,
     "metadata": {},
     "output_type": "execute_result"
    },
    {
     "data": {
      "text/latex": [
       "$\\displaystyle - 3 \\sin{\\left(9 t \\right)}$"
      ],
      "text/plain": [
       "-3*sin(9*t)"
      ]
     },
     "execution_count": 44,
     "metadata": {},
     "output_type": "execute_result"
    },
    {
     "data": {
      "text/latex": [
       "$\\displaystyle - \\frac{3 \\sin{\\left(9 t \\right)}}{2 t \\cos{\\left(2 t \\right)} + \\sin{\\left(2 t \\right)}}$"
      ],
      "text/plain": [
       "-3*sin(9*t)/(2*t*cos(2*t) + sin(2*t))"
      ]
     },
     "execution_count": 44,
     "metadata": {},
     "output_type": "execute_result"
    }
   ],
   "source": [
    "reset_symbols()\n",
    "x = t*sp.sin(2*t)\n",
    "y = sp.cos(9*t)/3\n",
    "\n",
    "x_dt = x.diff()\n",
    "x_dt\n",
    "\n",
    "y_dt = y.diff()\n",
    "y_dt\n",
    "\n",
    "y_dt / x_dt"
   ]
  },
  {
   "cell_type": "markdown",
   "metadata": {},
   "source": [
    "# Q24"
   ]
  },
  {
   "cell_type": "code",
   "execution_count": 58,
   "metadata": {},
   "outputs": [
    {
     "data": {
      "text/latex": [
       "$\\displaystyle \\frac{2 t}{3}$"
      ],
      "text/plain": [
       "2*t/3"
      ]
     },
     "execution_count": 58,
     "metadata": {},
     "output_type": "execute_result"
    },
    {
     "data": {
      "text/latex": [
       "$\\displaystyle \\frac{2}{9}$"
      ],
      "text/plain": [
       "2/9"
      ]
     },
     "execution_count": 58,
     "metadata": {},
     "output_type": "execute_result"
    }
   ],
   "source": [
    "reset_symbols()\n",
    "x = 3*t\n",
    "y = t**2\n",
    "\n",
    "dx_dt = x.diff()\n",
    "dy_dt = y.diff()\n",
    "\n",
    "dy_dx = dy_dt / dx_dt\n",
    "dy_dx\n",
    "\n",
    "d2y_dx2 = dy_dx.diff(t) / dx_dt\n",
    "d2y_dx2"
   ]
  },
  {
   "cell_type": "markdown",
   "metadata": {},
   "source": [
    "# Q25"
   ]
  },
  {
   "cell_type": "code",
   "execution_count": 61,
   "metadata": {},
   "outputs": [
    {
     "data": {
      "text/latex": [
       "$\\displaystyle \\frac{\\cos{\\left(t \\right)}}{8 t}$"
      ],
      "text/plain": [
       "cos(t)/(8*t)"
      ]
     },
     "execution_count": 61,
     "metadata": {},
     "output_type": "execute_result"
    },
    {
     "data": {
      "text/latex": [
       "$\\displaystyle - \\frac{t \\sin{\\left(t \\right)} + \\cos{\\left(t \\right)}}{64 t^{3}}$"
      ],
      "text/plain": [
       "-(t*sin(t) + cos(t))/(64*t**3)"
      ]
     },
     "execution_count": 61,
     "metadata": {},
     "output_type": "execute_result"
    }
   ],
   "source": [
    "reset_symbols()\n",
    "x = 4*t**2\n",
    "y = sp.sin(t)\n",
    "\n",
    "dx_dt = x.diff()\n",
    "dy_dt = y.diff()\n",
    "\n",
    "dy_dx = dy_dt / dx_dt\n",
    "dy_dx\n",
    "\n",
    "d2y_dx2 = dy_dx.diff(t) / dx_dt\n",
    "d2y_dx2.simplify()"
   ]
  },
  {
   "cell_type": "markdown",
   "metadata": {},
   "source": [
    "# Q26"
   ]
  },
  {
   "cell_type": "code",
   "execution_count": 65,
   "metadata": {},
   "outputs": [
    {
     "data": {
      "text/latex": [
       "$\\displaystyle \\frac{3 \\cdot \\left(2 t - 1\\right) \\cos{\\left(t^{2} - t \\right)}}{2 \\sin{\\left(2 t \\right)}}$"
      ],
      "text/plain": [
       "3*(2*t - 1)*cos(t**2 - t)/(2*sin(2*t))"
      ]
     },
     "execution_count": 65,
     "metadata": {},
     "output_type": "execute_result"
    },
    {
     "data": {
      "text/latex": [
       "$\\displaystyle \\frac{3 \\left(\\left(4 t - 2\\right) \\cos{\\left(2 t \\right)} \\cos{\\left(t \\left(t - 1\\right) \\right)} + \\left(\\left(2 t - 1\\right)^{2} \\sin{\\left(t \\left(t - 1\\right) \\right)} - 2 \\cos{\\left(t \\left(t - 1\\right) \\right)}\\right) \\sin{\\left(2 t \\right)}\\right)}{4 \\sin^{3}{\\left(2 t \\right)}}$"
      ],
      "text/plain": [
       "3*((4*t - 2)*cos(2*t)*cos(t*(t - 1)) + ((2*t - 1)**2*sin(t*(t - 1)) - 2*cos(t*(t - 1)))*sin(2*t))/(4*sin(2*t)**3)"
      ]
     },
     "execution_count": 65,
     "metadata": {},
     "output_type": "execute_result"
    }
   ],
   "source": [
    "reset_symbols()\n",
    "x = sp.cos(2*t)\n",
    "y = 3*sp.sin(t - t**2)\n",
    "\n",
    "dx_dt = x.diff()\n",
    "dy_dt = y.diff()\n",
    "\n",
    "dy_dx = dy_dt / dx_dt\n",
    "dy_dx\n",
    "\n",
    "d2y_dx2 = dy_dx.diff(t) / dx_dt\n",
    "d2y_dx2.simplify()"
   ]
  },
  {
   "cell_type": "markdown",
   "metadata": {},
   "source": [
    "# Q27"
   ]
  },
  {
   "cell_type": "code",
   "execution_count": 83,
   "metadata": {},
   "outputs": [
    {
     "data": {
      "text/latex": [
       "$\\displaystyle y = 3 x - 4$"
      ],
      "text/plain": [
       "Eq(y, 3*x - 4)"
      ]
     },
     "execution_count": 83,
     "metadata": {},
     "output_type": "execute_result"
    }
   ],
   "source": [
    "reset_symbols()\n",
    "\n",
    "t_val = 2\n",
    "\n",
    "x_f = t**2\n",
    "x_coord = x_f.subs(t, t_val)\n",
    "\n",
    "y_f = t**3\n",
    "y_coord = y_f.subs(t, t_val)\n",
    "\n",
    "dx_dt = x_f.diff()\n",
    "dy_dt = y_f.diff()\n",
    "\n",
    "m = dy_dt / dx_dt\n",
    "m = m.subs(t, t_val)\n",
    "\n",
    "line = sp.Eq(y, m*(x - x_coord) + y_coord)\n",
    "line"
   ]
  },
  {
   "cell_type": "markdown",
   "metadata": {},
   "source": [
    "# Q28"
   ]
  },
  {
   "cell_type": "code",
   "execution_count": 85,
   "metadata": {},
   "outputs": [
    {
     "data": {
      "text/latex": [
       "$\\displaystyle 2 t^{2} + 6$"
      ],
      "text/plain": [
       "2*t**2 + 6"
      ]
     },
     "execution_count": 85,
     "metadata": {},
     "output_type": "execute_result"
    },
    {
     "data": {
      "text/latex": [
       "$\\displaystyle t^{4}$"
      ],
      "text/plain": [
       "t**4"
      ]
     },
     "execution_count": 85,
     "metadata": {},
     "output_type": "execute_result"
    },
    {
     "data": {
      "text/latex": [
       "$\\displaystyle y = x - 7$"
      ],
      "text/plain": [
       "Eq(y, x - 7)"
      ]
     },
     "execution_count": 85,
     "metadata": {},
     "output_type": "execute_result"
    }
   ],
   "source": [
    "reset_symbols()\n",
    "\n",
    "t_val = -1\n",
    "\n",
    "x_f = 2*t**2+6\n",
    "x_f\n",
    "x_coord = x_f.subs(t, t_val)\n",
    "\n",
    "y_f = t**4\n",
    "y_f\n",
    "y_coord = y_f.subs(t, t_val)\n",
    "\n",
    "dx_dt = x_f.diff()\n",
    "dy_dt = y_f.diff()\n",
    "\n",
    "m = dy_dt / dx_dt\n",
    "m = m.subs(t, t_val)\n",
    "\n",
    "line = sp.Eq(y, m*(x - x_coord) + y_coord)\n",
    "line"
   ]
  },
  {
   "cell_type": "markdown",
   "metadata": {},
   "source": [
    "# Q29"
   ]
  },
  {
   "cell_type": "code",
   "execution_count": null,
   "metadata": {},
   "outputs": [],
   "source": [
    "reset_symbols()\n",
    "\n",
    "t_val = -1\n",
    "\n",
    "x_f = 2*t**2+6\n",
    "x_f\n",
    "x_coord = x_f.subs(t, t_val)\n",
    "\n",
    "y_f = t**4\n",
    "y_f\n",
    "y_coord = y_f.subs(t, t_val)\n",
    "\n",
    "dx_dt = x_f.diff()\n",
    "dy_dt = y_f.diff()\n",
    "\n",
    "m = dy_dt / dx_dt\n",
    "m = m.subs(t, t_val)\n",
    "\n",
    "line = sp.Eq(y, m*(x - x_coord) + y_coord)\n",
    "line"
   ]
  },
  {
   "cell_type": "markdown",
   "metadata": {},
   "source": [
    "# Q30"
   ]
  },
  {
   "cell_type": "code",
   "execution_count": 91,
   "metadata": {},
   "outputs": [
    {
     "data": {
      "text/latex": [
       "$\\displaystyle 7 e^{t}$"
      ],
      "text/plain": [
       "7*exp(t)"
      ]
     },
     "execution_count": 91,
     "metadata": {},
     "output_type": "execute_result"
    },
    {
     "data": {
      "text/latex": [
       "$\\displaystyle 9 e^{- t}$"
      ],
      "text/plain": [
       "9*exp(-t)"
      ]
     },
     "execution_count": 91,
     "metadata": {},
     "output_type": "execute_result"
    },
    {
     "data": {
      "text/latex": [
       "$\\displaystyle - \\frac{9 e^{- 2 t}}{7} = - \\frac{9}{7}$"
      ],
      "text/plain": [
       "Eq(-9*exp(-2*t)/7, -9/7)"
      ]
     },
     "execution_count": 91,
     "metadata": {},
     "output_type": "execute_result"
    },
    {
     "data": {
      "text/latex": [
       "$\\displaystyle 0$"
      ],
      "text/plain": [
       "0"
      ]
     },
     "execution_count": 91,
     "metadata": {},
     "output_type": "execute_result"
    }
   ],
   "source": [
    "reset_symbols()\n",
    "\n",
    "x_f = 7*sp.E**t\n",
    "x_f\n",
    "\n",
    "y_f = 9*sp.E**(-t)\n",
    "y_f\n",
    "\n",
    "dx_dt = x_f.diff()\n",
    "dy_dt = y_f.diff()\n",
    "\n",
    "m = dy_dt / dx_dt\n",
    "eq = sp.Eq(m, -sp.Rational(9, 7))\n",
    "eq\n",
    "\n",
    "sp.solve(eq, t)[0]"
   ]
  },
  {
   "cell_type": "code",
   "execution_count": null,
   "metadata": {},
   "outputs": [],
   "source": []
  }
 ],
 "metadata": {
  "kernelspec": {
   "display_name": "Math",
   "language": "python",
   "name": "math"
  },
  "language_info": {
   "codemirror_mode": {
    "name": "ipython",
    "version": 3
   },
   "file_extension": ".py",
   "mimetype": "text/x-python",
   "name": "python",
   "nbconvert_exporter": "python",
   "pygments_lexer": "ipython3",
   "version": "3.8.12"
  }
 },
 "nbformat": 4,
 "nbformat_minor": 4
}
