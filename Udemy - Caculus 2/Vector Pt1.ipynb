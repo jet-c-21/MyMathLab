{
 "cells": [
  {
   "cell_type": "code",
   "execution_count": 1,
   "metadata": {},
   "outputs": [
    {
     "name": "stdout",
     "output_type": "stream",
     "text": [
      "Added /home/jet/my_home/PycharmProjects/MyMathLab to PATH\n"
     ]
    }
   ],
   "source": [
    "from IPython.core.interactiveshell import InteractiveShell\n",
    "InteractiveShell.ast_node_interactivity = 'all'\n",
    "\n",
    "# import self-made module\n",
    "import os, sys, pathlib\n",
    "file_path = os.path.abspath('')\n",
    "PROJECT_DIR = str(pathlib.Path(file_path).parent)\n",
    "sys.path.append(PROJECT_DIR)\n",
    "print(f\"Added {PROJECT_DIR} to PATH\")\n",
    "from athena import *\n",
    "\n",
    "# ult functions\n",
    "def reset_symbols():\n",
    "    global x, y, z, a, b, c, d, s, k, t\n",
    "    x, y, z = sp.symbols('x y z', real=True)\n",
    "    a, b, c, d, s, k, t = sp.symbols('a b c d s k t', real=True)"
   ]
  },
  {
   "cell_type": "code",
   "execution_count": 2,
   "metadata": {},
   "outputs": [
    {
     "data": {
      "text/latex": [
       "$\\displaystyle 57.9946167919165$"
      ],
      "text/plain": [
       "57.9946167919165"
      ]
     },
     "execution_count": 2,
     "metadata": {},
     "output_type": "execute_result"
    }
   ],
   "source": [
    "v = (5, 8)\n",
    "deg = get_theata_from_vector(v)\n",
    "deg"
   ]
  },
  {
   "cell_type": "code",
   "execution_count": 3,
   "metadata": {},
   "outputs": [
    {
     "data": {
      "text/plain": [
       "(11.2763114494309, 4.10424171990802)"
      ]
     },
     "execution_count": 3,
     "metadata": {},
     "output_type": "execute_result"
    }
   ],
   "source": [
    "get_vector_from_mag_direct(12, 20)"
   ]
  },
  {
   "cell_type": "code",
   "execution_count": 4,
   "metadata": {},
   "outputs": [
    {
     "data": {
      "text/latex": [
       "$\\displaystyle 7.07106781186548$"
      ],
      "text/plain": [
       "7.07106781186548"
      ]
     },
     "execution_count": 4,
     "metadata": {},
     "output_type": "execute_result"
    },
    {
     "data": {
      "text/plain": [
       "sympy.core.numbers.Float"
      ]
     },
     "execution_count": 4,
     "metadata": {},
     "output_type": "execute_result"
    }
   ],
   "source": [
    "u = (1, 7)\n",
    "mag = get_magnitude_of_vector(u)\n",
    "mag\n",
    "type(mag)"
   ]
  },
  {
   "cell_type": "markdown",
   "metadata": {},
   "source": [
    "# Q1"
   ]
  },
  {
   "cell_type": "code",
   "execution_count": 5,
   "metadata": {},
   "outputs": [
    {
     "data": {
      "text/plain": [
       "(-5.96592783106262, -5.04060562973860)"
      ]
     },
     "execution_count": 5,
     "metadata": {},
     "output_type": "execute_result"
    }
   ],
   "source": [
    "v = get_vector_from_mag_direct(5, 170)\n",
    "w = get_vector_from_mag_direct(6, 260)\n",
    "\n",
    "ans = (v[0] + w[0], v[1] + w[1])\n",
    "ans"
   ]
  },
  {
   "cell_type": "markdown",
   "metadata": {},
   "source": [
    "# Q2"
   ]
  },
  {
   "cell_type": "code",
   "execution_count": 6,
   "metadata": {},
   "outputs": [
    {
     "data": {
      "text/plain": [
       "(-3.42955265594770, 3.21553724366851)"
      ]
     },
     "execution_count": 6,
     "metadata": {},
     "output_type": "execute_result"
    }
   ],
   "source": [
    "v = get_vector_from_mag_direct(7, 170)\n",
    "w = get_vector_from_mag_direct(4, 30)\n",
    "\n",
    "ans = (v[0] + w[0], v[1] + w[1])\n",
    "ans"
   ]
  },
  {
   "cell_type": "markdown",
   "metadata": {},
   "source": [
    "# Q3"
   ]
  },
  {
   "cell_type": "code",
   "execution_count": 7,
   "metadata": {},
   "outputs": [
    {
     "data": {
      "text/plain": [
       "(-1.38918542133544, 7.87846202409766)"
      ]
     },
     "execution_count": 7,
     "metadata": {},
     "output_type": "execute_result"
    },
    {
     "data": {
      "text/plain": [
       "(-2.59807621135332, -1.50000000000000)"
      ]
     },
     "execution_count": 7,
     "metadata": {},
     "output_type": "execute_result"
    },
    {
     "data": {
      "text/plain": [
       "(-3.98726163268876, 6.37846202409766)"
      ]
     },
     "execution_count": 7,
     "metadata": {},
     "output_type": "execute_result"
    },
    {
     "data": {
      "text/latex": [
       "$\\displaystyle 7.52216944241273$"
      ],
      "text/plain": [
       "7.52216944241273"
      ]
     },
     "execution_count": 7,
     "metadata": {},
     "output_type": "execute_result"
    },
    {
     "data": {
      "text/latex": [
       "$\\displaystyle 122.010052309214$"
      ],
      "text/plain": [
       "122.010052309214"
      ]
     },
     "execution_count": 7,
     "metadata": {},
     "output_type": "execute_result"
    }
   ],
   "source": [
    "v = get_vector_from_mag_direct(8, 100)\n",
    "# v = (round(v[0], 2), round(v[1], 2))\n",
    "v\n",
    "\n",
    "w = get_vector_from_mag_direct(3, 210)\n",
    "# w = (round(w[0], 2), round(w[1], 2))\n",
    "w\n",
    "\n",
    "u = (v[0] + w[0], v[1] + w[1])\n",
    "u\n",
    "\n",
    "mag = get_magnitude_of_vector(u)\n",
    "mag\n",
    "\n",
    "deg = get_theata_from_vector(u)\n",
    "deg"
   ]
  },
  {
   "cell_type": "markdown",
   "metadata": {},
   "source": [
    "# Q4"
   ]
  },
  {
   "cell_type": "code",
   "execution_count": 8,
   "metadata": {},
   "outputs": [
    {
     "data": {
      "text/plain": [
       "(270.320174615367, 189.280223995845)"
      ]
     },
     "execution_count": 8,
     "metadata": {},
     "output_type": "execute_result"
    },
    {
     "data": {
      "text/plain": [
       "(289.777747886720, -77.6457135307562)"
      ]
     },
     "execution_count": 8,
     "metadata": {},
     "output_type": "execute_result"
    }
   ],
   "source": [
    "a = get_vector_from_mag_direct(330, 35)\n",
    "b = get_vector_from_mag_direct(300, 360 - 15)\n",
    "\n",
    "a\n",
    "b"
   ]
  },
  {
   "cell_type": "markdown",
   "metadata": {},
   "source": [
    "# Q5"
   ]
  },
  {
   "cell_type": "code",
   "execution_count": 9,
   "metadata": {},
   "outputs": [
    {
     "data": {
      "text/latex": [
       "$\\displaystyle 4.58257569495584$"
      ],
      "text/plain": [
       "4.58257569495584"
      ]
     },
     "execution_count": 9,
     "metadata": {},
     "output_type": "execute_result"
    }
   ],
   "source": [
    "a = get_vector_from_mag_direct(5, 50)\n",
    "b = get_vector_from_mag_direct(4, 170)\n",
    "\n",
    "\n",
    "c = add_two_vector(a, b)\n",
    "mag = get_magnitude_of_vector(c)\n",
    "mag"
   ]
  },
  {
   "cell_type": "markdown",
   "metadata": {},
   "source": [
    "# Q6"
   ]
  },
  {
   "cell_type": "code",
   "execution_count": 10,
   "metadata": {},
   "outputs": [
    {
     "data": {
      "text/latex": [
       "$\\displaystyle 27.8607277622439$"
      ],
      "text/plain": [
       "27.8607277622439"
      ]
     },
     "execution_count": 10,
     "metadata": {},
     "output_type": "execute_result"
    }
   ],
   "source": [
    "a = get_vector_from_mag_direct(30, 45)\n",
    "b = get_vector_from_mag_direct(10, 270)\n",
    "\n",
    "\n",
    "c = add_two_vector(a, b)\n",
    "deg = get_theata_from_vector(c)\n",
    "deg"
   ]
  },
  {
   "cell_type": "markdown",
   "metadata": {},
   "source": [
    "# Q7"
   ]
  },
  {
   "cell_type": "code",
   "execution_count": 11,
   "metadata": {},
   "outputs": [
    {
     "data": {
      "text/latex": [
       "$\\displaystyle 161.565051177078$"
      ],
      "text/plain": [
       "161.565051177078"
      ]
     },
     "execution_count": 11,
     "metadata": {},
     "output_type": "execute_result"
    }
   ],
   "source": [
    "v = (-3, 1)\n",
    "get_theata_from_vector(v)"
   ]
  },
  {
   "cell_type": "markdown",
   "metadata": {},
   "source": [
    "# Q8"
   ]
  },
  {
   "cell_type": "code",
   "execution_count": 12,
   "metadata": {},
   "outputs": [
    {
     "data": {
      "text/latex": [
       "$\\displaystyle 17.3493515728975$"
      ],
      "text/plain": [
       "17.3493515728975"
      ]
     },
     "execution_count": 12,
     "metadata": {},
     "output_type": "execute_result"
    }
   ],
   "source": [
    "a = (4,0)\n",
    "b = get_vector_from_mag_direct(15, 60)\n",
    "c = add_two_vector(a, b)\n",
    "get_magnitude_of_vector(c)"
   ]
  },
  {
   "cell_type": "markdown",
   "metadata": {},
   "source": [
    "# Q9"
   ]
  },
  {
   "cell_type": "code",
   "execution_count": 13,
   "metadata": {},
   "outputs": [
    {
     "data": {
      "text/latex": [
       "$\\displaystyle - \\frac{2}{t^{2}}$"
      ],
      "text/plain": [
       "-2/t**2"
      ]
     },
     "execution_count": 13,
     "metadata": {},
     "output_type": "execute_result"
    },
    {
     "data": {
      "text/latex": [
       "$\\displaystyle 6 e^{2 t}$"
      ],
      "text/plain": [
       "6*exp(2*t)"
      ]
     },
     "execution_count": 13,
     "metadata": {},
     "output_type": "execute_result"
    }
   ],
   "source": [
    "reset_symbols()\n",
    "xt_f = 2/t\n",
    "yt_f = 3 * sp.E ** (2*t)\n",
    "\n",
    "xt_f.diff()\n",
    "yt_f.diff()"
   ]
  },
  {
   "cell_type": "code",
   "execution_count": 14,
   "metadata": {},
   "outputs": [
    {
     "data": {
      "text/latex": [
       "$\\displaystyle - \\frac{6}{\\left(t + 2\\right)^{3}}$"
      ],
      "text/plain": [
       "-6/(t + 2)**3"
      ]
     },
     "execution_count": 14,
     "metadata": {},
     "output_type": "execute_result"
    },
    {
     "data": {
      "text/latex": [
       "$\\displaystyle 9 e^{3 t}$"
      ],
      "text/plain": [
       "9*exp(3*t)"
      ]
     },
     "execution_count": 14,
     "metadata": {},
     "output_type": "execute_result"
    }
   ],
   "source": [
    "reset_symbols()\n",
    "xt_f = -3/(t+2)\n",
    "yt_f = sp.E ** (3*t)\n",
    "\n",
    "xt_f.diff().diff()\n",
    "yt_f.diff().diff()"
   ]
  },
  {
   "cell_type": "markdown",
   "metadata": {},
   "source": [
    "# Q10"
   ]
  },
  {
   "cell_type": "code",
   "execution_count": 15,
   "metadata": {},
   "outputs": [
    {
     "data": {
      "text/latex": [
       "$\\displaystyle 2 t^{3} + 2$"
      ],
      "text/plain": [
       "2*t**3 + 2"
      ]
     },
     "execution_count": 15,
     "metadata": {},
     "output_type": "execute_result"
    },
    {
     "data": {
      "text/latex": [
       "$\\displaystyle 4 - 4 t^{4}$"
      ],
      "text/plain": [
       "4 - 4*t**4"
      ]
     },
     "execution_count": 15,
     "metadata": {},
     "output_type": "execute_result"
    },
    {
     "name": "stdout",
     "output_type": "stream",
     "text": [
      "\n",
      "Velocity Vector (i, j):\n"
     ]
    },
    {
     "data": {
      "text/latex": [
       "$\\displaystyle 6 t^{2}$"
      ],
      "text/plain": [
       "6*t**2"
      ]
     },
     "execution_count": 15,
     "metadata": {},
     "output_type": "execute_result"
    },
    {
     "data": {
      "text/latex": [
       "$\\displaystyle - 16 t^{3}$"
      ],
      "text/plain": [
       "-16*t**3"
      ]
     },
     "execution_count": 15,
     "metadata": {},
     "output_type": "execute_result"
    },
    {
     "name": "stdout",
     "output_type": "stream",
     "text": [
      "\n",
      "Acceleration Vector (i, j):\n"
     ]
    },
    {
     "data": {
      "text/latex": [
       "$\\displaystyle 12 t$"
      ],
      "text/plain": [
       "12*t"
      ]
     },
     "execution_count": 15,
     "metadata": {},
     "output_type": "execute_result"
    },
    {
     "data": {
      "text/latex": [
       "$\\displaystyle - 48 t^{2}$"
      ],
      "text/plain": [
       "-48*t**2"
      ]
     },
     "execution_count": 15,
     "metadata": {},
     "output_type": "execute_result"
    },
    {
     "name": "stdout",
     "output_type": "stream",
     "text": [
      "\n",
      "Velocity Vector, when t=1:\n"
     ]
    },
    {
     "data": {
      "text/latex": [
       "$\\displaystyle 6$"
      ],
      "text/plain": [
       "6"
      ]
     },
     "execution_count": 15,
     "metadata": {},
     "output_type": "execute_result"
    },
    {
     "data": {
      "text/latex": [
       "$\\displaystyle -16$"
      ],
      "text/plain": [
       "-16"
      ]
     },
     "execution_count": 15,
     "metadata": {},
     "output_type": "execute_result"
    },
    {
     "name": "stdout",
     "output_type": "stream",
     "text": [
      "\n",
      "Acceleration Vector, when t=1:\n"
     ]
    },
    {
     "data": {
      "text/latex": [
       "$\\displaystyle 12$"
      ],
      "text/plain": [
       "12"
      ]
     },
     "execution_count": 15,
     "metadata": {},
     "output_type": "execute_result"
    },
    {
     "data": {
      "text/latex": [
       "$\\displaystyle -48$"
      ],
      "text/plain": [
       "-48"
      ]
     },
     "execution_count": 15,
     "metadata": {},
     "output_type": "execute_result"
    },
    {
     "name": "stdout",
     "output_type": "stream",
     "text": [
      "\n"
     ]
    }
   ],
   "source": [
    "reset_symbols()\n",
    "xt_f = 2*t**3 + 2\n",
    "yt_f = -4*t**4 + 4\n",
    "t_val = 1\n",
    "\n",
    "xt_f\n",
    "yt_f\n",
    "print()\n",
    "\n",
    "print('Velocity Vector (i, j):')\n",
    "xt_f_v = xt_f.diff()\n",
    "yt_f_v = yt_f.diff()\n",
    "\n",
    "xt_f_v\n",
    "yt_f_v\n",
    "print()\n",
    "\n",
    "print('Acceleration Vector (i, j):')\n",
    "xt_f_a = xt_f_v.diff()\n",
    "yt_f_a = yt_f_v.diff()\n",
    "\n",
    "xt_f_a\n",
    "yt_f_a\n",
    "print()\n",
    "\n",
    "print(f\"Velocity Vector, when t={t_val}:\")\n",
    "xt_f_v.subs(t, t_val)\n",
    "yt_f_v.subs(t, t_val)\n",
    "print()\n",
    "\n",
    "print(f\"Acceleration Vector, when t={t_val}:\")\n",
    "xt_f_a.subs(t, t_val)\n",
    "yt_f_a.subs(t, t_val)\n",
    "print()"
   ]
  },
  {
   "cell_type": "markdown",
   "metadata": {},
   "source": [
    "# Q11"
   ]
  },
  {
   "cell_type": "code",
   "execution_count": 18,
   "metadata": {},
   "outputs": [
    {
     "data": {
      "text/plain": [
       "(-5.43923101204883, -1.90348350068559)"
      ]
     },
     "execution_count": 18,
     "metadata": {},
     "output_type": "execute_result"
    },
    {
     "data": {
      "text/latex": [
       "$\\displaystyle 199.287724963123$"
      ],
      "text/plain": [
       "199.287724963123"
      ]
     },
     "execution_count": 18,
     "metadata": {},
     "output_type": "execute_result"
    }
   ],
   "source": [
    "a_v = get_vector_from_mag_direct(4, 170)\n",
    "b_v = get_vector_from_mag_direct(3, 240)\n",
    "c_v = add_two_vector(a_v, b_v)\n",
    "c_v\n",
    "\n",
    "angel = get_theata_from_vector(c_v)\n",
    "angel"
   ]
  },
  {
   "cell_type": "code",
   "execution_count": null,
   "metadata": {},
   "outputs": [],
   "source": []
  },
  {
   "cell_type": "code",
   "execution_count": null,
   "metadata": {},
   "outputs": [],
   "source": []
  },
  {
   "cell_type": "code",
   "execution_count": null,
   "metadata": {},
   "outputs": [],
   "source": []
  },
  {
   "cell_type": "code",
   "execution_count": null,
   "metadata": {},
   "outputs": [],
   "source": []
  },
  {
   "cell_type": "code",
   "execution_count": null,
   "metadata": {},
   "outputs": [],
   "source": []
  },
  {
   "cell_type": "code",
   "execution_count": null,
   "metadata": {},
   "outputs": [],
   "source": []
  },
  {
   "cell_type": "code",
   "execution_count": null,
   "metadata": {},
   "outputs": [],
   "source": []
  },
  {
   "cell_type": "code",
   "execution_count": null,
   "metadata": {},
   "outputs": [],
   "source": []
  },
  {
   "cell_type": "code",
   "execution_count": null,
   "metadata": {},
   "outputs": [],
   "source": []
  },
  {
   "cell_type": "code",
   "execution_count": null,
   "metadata": {},
   "outputs": [],
   "source": []
  },
  {
   "cell_type": "code",
   "execution_count": null,
   "metadata": {},
   "outputs": [],
   "source": []
  }
 ],
 "metadata": {
  "kernelspec": {
   "display_name": "Math",
   "language": "python",
   "name": "math"
  },
  "language_info": {
   "codemirror_mode": {
    "name": "ipython",
    "version": 3
   },
   "file_extension": ".py",
   "mimetype": "text/x-python",
   "name": "python",
   "nbconvert_exporter": "python",
   "pygments_lexer": "ipython3",
   "version": "3.8.12"
  }
 },
 "nbformat": 4,
 "nbformat_minor": 4
}
