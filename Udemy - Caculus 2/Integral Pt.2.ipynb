{
 "cells": [
  {
   "cell_type": "code",
   "execution_count": 1,
   "metadata": {},
   "outputs": [],
   "source": [
    "from integral_functions import *"
   ]
  },
  {
   "cell_type": "code",
   "execution_count": 2,
   "metadata": {},
   "outputs": [],
   "source": [
    "from IPython.core.interactiveshell import InteractiveShell\n",
    "InteractiveShell.ast_node_interactivity = 'all'"
   ]
  },
  {
   "cell_type": "code",
   "execution_count": 3,
   "metadata": {},
   "outputs": [],
   "source": [
    "x, y, z= sp.symbols('x y z', real=True)\n",
    "a, b, c, d, s, k, t = sp.symbols('a b c d s k t', real=True)\n",
    "\n",
    "def reset_symbols():\n",
    "    global x, y, z, a, b, c, d, s, k, t\n",
    "    x, y, z = sp.symbols('x y z', real=True)\n",
    "    a, b, c, d, s, k, t = sp.symbols('a b c d s k t', real=True)"
   ]
  },
  {
   "cell_type": "markdown",
   "metadata": {},
   "source": [
    "# Q1"
   ]
  },
  {
   "cell_type": "code",
   "execution_count": 4,
   "metadata": {},
   "outputs": [
    {
     "data": {
      "text/latex": [
       "$\\displaystyle \\pi x^{4}$"
      ],
      "text/plain": [
       "pi*x**4"
      ]
     },
     "execution_count": 4,
     "metadata": {},
     "output_type": "execute_result"
    },
    {
     "data": {
      "text/latex": [
       "$\\displaystyle \\frac{243 \\pi}{5}$"
      ],
      "text/plain": [
       "243*pi/5"
      ]
     },
     "execution_count": 4,
     "metadata": {},
     "output_type": "execute_result"
    }
   ],
   "source": [
    "y = x**2\n",
    "r = y\n",
    "expr = r**2*sp.pi\n",
    "expr\n",
    "expr.integrate((x, 0, 3))"
   ]
  },
  {
   "cell_type": "markdown",
   "metadata": {},
   "source": [
    "# Q2"
   ]
  },
  {
   "cell_type": "code",
   "execution_count": 7,
   "metadata": {},
   "outputs": [
    {
     "data": {
      "text/latex": [
       "$\\displaystyle \\pi \\left(9 - x^{2}\\right)$"
      ],
      "text/plain": [
       "pi*(9 - x**2)"
      ]
     },
     "execution_count": 7,
     "metadata": {},
     "output_type": "execute_result"
    },
    {
     "data": {
      "text/latex": [
       "$\\displaystyle \\frac{415 \\pi}{12}$"
      ],
      "text/plain": [
       "415*pi/12"
      ]
     },
     "execution_count": 7,
     "metadata": {},
     "output_type": "execute_result"
    }
   ],
   "source": [
    "y = sp.sqrt(9 - x**2)\n",
    "r = y\n",
    "expr = r**2*sp.pi\n",
    "expr\n",
    "expr.integrate((x, -sp.Rational(5, 2), sp.Rational(5,2)))"
   ]
  },
  {
   "cell_type": "markdown",
   "metadata": {},
   "source": [
    "# Q3"
   ]
  },
  {
   "cell_type": "code",
   "execution_count": 18,
   "metadata": {},
   "outputs": [],
   "source": [
    "reset_symbols()"
   ]
  },
  {
   "cell_type": "code",
   "execution_count": 23,
   "metadata": {},
   "outputs": [
    {
     "data": {
      "text/latex": [
       "$\\displaystyle 162 \\pi$"
      ],
      "text/plain": [
       "162*pi"
      ]
     },
     "execution_count": 23,
     "metadata": {},
     "output_type": "execute_result"
    }
   ],
   "source": [
    "x = 2*sp.sqrt(y)\n",
    "r = x\n",
    "expr = r**2*sp.pi\n",
    "expr.integrate((y, 0, 9))"
   ]
  },
  {
   "cell_type": "markdown",
   "metadata": {},
   "source": [
    "# Q4"
   ]
  },
  {
   "cell_type": "code",
   "execution_count": 29,
   "metadata": {},
   "outputs": [
    {
     "data": {
      "text/latex": [
       "$\\displaystyle \\sqrt{1 - y}$"
      ],
      "text/plain": [
       "sqrt(1 - y)"
      ]
     },
     "execution_count": 29,
     "metadata": {},
     "output_type": "execute_result"
    },
    {
     "data": {
      "text/latex": [
       "$\\displaystyle \\pi \\left(1 - y\\right)$"
      ],
      "text/plain": [
       "pi*(1 - y)"
      ]
     },
     "execution_count": 29,
     "metadata": {},
     "output_type": "execute_result"
    },
    {
     "data": {
      "text/latex": [
       "$\\displaystyle \\frac{\\pi}{2}$"
      ],
      "text/plain": [
       "pi/2"
      ]
     },
     "execution_count": 29,
     "metadata": {},
     "output_type": "execute_result"
    }
   ],
   "source": [
    "reset_symbols()\n",
    "f = 1 - x**2\n",
    "r = sp.sqrt(1 - y)\n",
    "r\n",
    "expr = r**2*sp.pi\n",
    "expr\n",
    "expr.integrate((y, 0, 1))"
   ]
  },
  {
   "cell_type": "markdown",
   "metadata": {},
   "source": [
    "# Q5"
   ]
  },
  {
   "cell_type": "code",
   "execution_count": 33,
   "metadata": {},
   "outputs": [
    {
     "data": {
      "text/latex": [
       "$\\displaystyle 5 \\pi y^{4}$"
      ],
      "text/plain": [
       "5*pi*y**4"
      ]
     },
     "execution_count": 33,
     "metadata": {},
     "output_type": "execute_result"
    },
    {
     "data": {
      "text/latex": [
       "$\\displaystyle \\frac{243 \\pi}{16}$"
      ],
      "text/plain": [
       "243*pi/16"
      ]
     },
     "execution_count": 33,
     "metadata": {},
     "output_type": "execute_result"
    }
   ],
   "source": [
    "r = sp.sqrt(5)*y**2\n",
    "expr = r**2*sp.pi\n",
    "expr\n",
    "\n",
    "expr.integrate((y, -sp.Rational(3,2), sp.Rational(3,2)))"
   ]
  },
  {
   "cell_type": "markdown",
   "metadata": {},
   "source": [
    "# Q6"
   ]
  },
  {
   "cell_type": "code",
   "execution_count": 35,
   "metadata": {},
   "outputs": [],
   "source": [
    "reset_symbols()"
   ]
  },
  {
   "cell_type": "code",
   "execution_count": 38,
   "metadata": {},
   "outputs": [
    {
     "data": {
      "text/latex": [
       "$\\displaystyle y^{\\frac{3}{2}}$"
      ],
      "text/plain": [
       "y**(3/2)"
      ]
     },
     "execution_count": 38,
     "metadata": {},
     "output_type": "execute_result"
    },
    {
     "data": {
      "text/latex": [
       "$\\displaystyle \\pi y^{3}$"
      ],
      "text/plain": [
       "pi*y**3"
      ]
     },
     "execution_count": 38,
     "metadata": {},
     "output_type": "execute_result"
    },
    {
     "data": {
      "text/latex": [
       "$\\displaystyle 64 \\pi$"
      ],
      "text/plain": [
       "64*pi"
      ]
     },
     "execution_count": 38,
     "metadata": {},
     "output_type": "execute_result"
    }
   ],
   "source": [
    "r = y**(sp.Rational(3,2))\n",
    "r\n",
    "expr = r**2*sp.pi\n",
    "expr\n",
    "expr.integrate((y, 0, 4))"
   ]
  },
  {
   "cell_type": "markdown",
   "metadata": {},
   "source": [
    "# Q7"
   ]
  },
  {
   "cell_type": "code",
   "execution_count": 42,
   "metadata": {},
   "outputs": [
    {
     "data": {
      "text/latex": [
       "$\\displaystyle 8 - \\frac{2 y}{3}$"
      ],
      "text/plain": [
       "8 - 2*y/3"
      ]
     },
     "execution_count": 42,
     "metadata": {},
     "output_type": "execute_result"
    },
    {
     "data": {
      "text/latex": [
       "$\\displaystyle \\pi \\left(8 - \\frac{2 y}{3}\\right)^{2}$"
      ],
      "text/plain": [
       "pi*(8 - 2*y/3)**2"
      ]
     },
     "execution_count": 42,
     "metadata": {},
     "output_type": "execute_result"
    },
    {
     "data": {
      "text/latex": [
       "$\\displaystyle 224 \\pi$"
      ],
      "text/plain": [
       "224*pi"
      ]
     },
     "execution_count": 42,
     "metadata": {},
     "output_type": "execute_result"
    }
   ],
   "source": [
    "r = 8 - 2*y/3\n",
    "r\n",
    "expr = r**2*sp.pi\n",
    "expr\n",
    "expr.integrate((y, 0, 6))"
   ]
  },
  {
   "cell_type": "markdown",
   "metadata": {},
   "source": [
    "# Q8"
   ]
  },
  {
   "cell_type": "code",
   "execution_count": 44,
   "metadata": {},
   "outputs": [
    {
     "data": {
      "text/latex": [
       "$\\displaystyle \\frac{x}{5} + 1$"
      ],
      "text/plain": [
       "x/5 + 1"
      ]
     },
     "execution_count": 44,
     "metadata": {},
     "output_type": "execute_result"
    },
    {
     "data": {
      "text/latex": [
       "$\\displaystyle \\pi \\left(\\frac{x}{5} + 1\\right)^{2}$"
      ],
      "text/plain": [
       "pi*(x/5 + 1)**2"
      ]
     },
     "execution_count": 44,
     "metadata": {},
     "output_type": "execute_result"
    },
    {
     "data": {
      "text/latex": [
       "$\\displaystyle \\frac{130 \\pi}{3}$"
      ],
      "text/plain": [
       "130*pi/3"
      ]
     },
     "execution_count": 44,
     "metadata": {},
     "output_type": "execute_result"
    }
   ],
   "source": [
    "r = x/5 + 1\n",
    "r\n",
    "expr = r**2*sp.pi\n",
    "expr\n",
    "expr.integrate((x, 0, 10))"
   ]
  },
  {
   "cell_type": "markdown",
   "metadata": {},
   "source": [
    "# Q9"
   ]
  },
  {
   "cell_type": "code",
   "execution_count": 47,
   "metadata": {},
   "outputs": [
    {
     "data": {
      "text/latex": [
       "$\\displaystyle \\pi \\left(4 - \\frac{y}{30}\\right)^{2}$"
      ],
      "text/plain": [
       "pi*(4 - y/30)**2"
      ]
     },
     "execution_count": 47,
     "metadata": {},
     "output_type": "execute_result"
    },
    {
     "data": {
      "text/latex": [
       "$\\displaystyle 370 \\pi$"
      ],
      "text/plain": [
       "370*pi"
      ]
     },
     "execution_count": 47,
     "metadata": {},
     "output_type": "execute_result"
    }
   ],
   "source": [
    "r = (120 - y)/30\n",
    "expr = r**2*sp.pi\n",
    "expr\n",
    "expr.integrate((y, 0, 30))"
   ]
  },
  {
   "cell_type": "markdown",
   "metadata": {},
   "source": [
    "# Q10"
   ]
  },
  {
   "cell_type": "code",
   "execution_count": 51,
   "metadata": {},
   "outputs": [
    {
     "data": {
      "text/latex": [
       "$\\displaystyle \\pi \\left(1 - \\frac{x^{4}}{16}\\right)$"
      ],
      "text/plain": [
       "pi*(1 - x**4/16)"
      ]
     },
     "execution_count": 51,
     "metadata": {},
     "output_type": "execute_result"
    },
    {
     "data": {
      "text/latex": [
       "$\\displaystyle \\frac{16 \\pi}{5}$"
      ],
      "text/plain": [
       "16*pi/5"
      ]
     },
     "execution_count": 51,
     "metadata": {},
     "output_type": "execute_result"
    }
   ],
   "source": [
    "expr = sp.pi * (1 - (x**2/4)**2)\n",
    "expr\n",
    "expr.integrate((x, -2, 2))"
   ]
  },
  {
   "cell_type": "markdown",
   "metadata": {},
   "source": [
    "# Q11"
   ]
  },
  {
   "cell_type": "code",
   "execution_count": 58,
   "metadata": {},
   "outputs": [
    {
     "data": {
      "text/latex": [
       "$\\displaystyle \\pi \\left(y^{\\frac{2}{3}} - y^{4}\\right)$"
      ],
      "text/plain": [
       "pi*(y**(2/3) - y**4)"
      ]
     },
     "execution_count": 58,
     "metadata": {},
     "output_type": "execute_result"
    }
   ],
   "source": [
    "expr = (y**sp.Rational(2,3) - y **4) * sp.pi\n",
    "expr"
   ]
  },
  {
   "cell_type": "code",
   "execution_count": 59,
   "metadata": {},
   "outputs": [
    {
     "data": {
      "text/latex": [
       "$\\displaystyle \\frac{2 \\pi}{5}$"
      ],
      "text/plain": [
       "2*pi/5"
      ]
     },
     "execution_count": 59,
     "metadata": {},
     "output_type": "execute_result"
    }
   ],
   "source": [
    "expr.integrate((y, 0, 1))"
   ]
  },
  {
   "cell_type": "markdown",
   "metadata": {},
   "source": [
    "# Q12"
   ]
  },
  {
   "cell_type": "code",
   "execution_count": 61,
   "metadata": {},
   "outputs": [
    {
     "data": {
      "text/latex": [
       "$\\displaystyle \\pi \\left(- x^{4} + \\left(- x^{2} + 4 x\\right)^{2}\\right)$"
      ],
      "text/plain": [
       "pi*(-x**4 + (-x**2 + 4*x)**2)"
      ]
     },
     "execution_count": 61,
     "metadata": {},
     "output_type": "execute_result"
    },
    {
     "data": {
      "text/latex": [
       "$\\displaystyle \\frac{32 \\pi}{3}$"
      ],
      "text/plain": [
       "32*pi/3"
      ]
     },
     "execution_count": 61,
     "metadata": {},
     "output_type": "execute_result"
    }
   ],
   "source": [
    "af = sp.pi * ( (4*x - x**2)**2 - (x**4) )\n",
    "af\n",
    "af.integrate((x, 0, 2))"
   ]
  },
  {
   "cell_type": "markdown",
   "metadata": {},
   "source": [
    "# Q13"
   ]
  },
  {
   "cell_type": "code",
   "execution_count": 64,
   "metadata": {},
   "outputs": [
    {
     "data": {
      "text/latex": [
       "$\\displaystyle \\pi \\left(- \\frac{y^{2}}{4} + 2 y\\right)$"
      ],
      "text/plain": [
       "pi*(-y**2/4 + 2*y)"
      ]
     },
     "execution_count": 64,
     "metadata": {},
     "output_type": "execute_result"
    },
    {
     "data": {
      "text/latex": [
       "$\\displaystyle \\frac{64 \\pi}{3}$"
      ],
      "text/plain": [
       "64*pi/3"
      ]
     },
     "execution_count": 64,
     "metadata": {},
     "output_type": "execute_result"
    }
   ],
   "source": [
    "af = sp.pi * (2*y - y**2 / 4)\n",
    "af\n",
    "af.integrate((y, 0, 8))"
   ]
  },
  {
   "cell_type": "markdown",
   "metadata": {},
   "source": [
    "# Q14"
   ]
  },
  {
   "cell_type": "code",
   "execution_count": 68,
   "metadata": {},
   "outputs": [
    {
     "data": {
      "text/latex": [
       "$\\displaystyle \\pi \\left(- \\left(4 - x\\right)^{2} + \\left(4 - \\frac{x^{2}}{3}\\right)^{2}\\right)$"
      ],
      "text/plain": [
       "pi*(-(4 - x)**2 + (4 - x**2/3)**2)"
      ]
     },
     "execution_count": 68,
     "metadata": {},
     "output_type": "execute_result"
    },
    {
     "data": {
      "text/latex": [
       "$\\displaystyle \\frac{42 \\pi}{5}$"
      ],
      "text/plain": [
       "42*pi/5"
      ]
     },
     "execution_count": 68,
     "metadata": {},
     "output_type": "execute_result"
    }
   ],
   "source": [
    "af = sp.pi*((4 - x**2/3)**2 - (4 - x)**2)\n",
    "af\n",
    "af.integrate((x, 0, 3))"
   ]
  },
  {
   "cell_type": "markdown",
   "metadata": {},
   "source": [
    "# Q15"
   ]
  },
  {
   "cell_type": "code",
   "execution_count": 72,
   "metadata": {},
   "outputs": [
    {
     "data": {
      "text/latex": [
       "$\\displaystyle \\pi \\left(- \\left(6 - 2 \\sqrt{x}\\right)^{2} + \\left(6 - \\frac{x}{2}\\right)^{2}\\right)$"
      ],
      "text/plain": [
       "pi*(-(6 - 2*sqrt(x))**2 + (6 - x/2)**2)"
      ]
     },
     "execution_count": 72,
     "metadata": {},
     "output_type": "execute_result"
    },
    {
     "data": {
      "text/latex": [
       "$\\displaystyle \\frac{351 \\pi}{4}$"
      ],
      "text/plain": [
       "351*pi/4"
      ]
     },
     "execution_count": 72,
     "metadata": {},
     "output_type": "execute_result"
    }
   ],
   "source": [
    "af = sp.pi*((6 - x/2)**2 - (6 - 2*sp.sqrt(x))**2)\n",
    "af\n",
    "af.integrate((x, 0, 9))"
   ]
  },
  {
   "cell_type": "code",
   "execution_count": 77,
   "metadata": {},
   "outputs": [
    {
     "data": {
      "text/latex": [
       "$\\displaystyle 24 \\sqrt{x} + \\frac{x^{2}}{4} - 10 x$"
      ],
      "text/plain": [
       "24*sqrt(x) + x**2/4 - 10*x"
      ]
     },
     "execution_count": 77,
     "metadata": {},
     "output_type": "execute_result"
    }
   ],
   "source": [
    "expr = (6 - x/2)**2 - (6 - 2*sp.sqrt(x))**2\n",
    "expr.expand()"
   ]
  },
  {
   "cell_type": "markdown",
   "metadata": {},
   "source": [
    "# Q16"
   ]
  },
  {
   "cell_type": "code",
   "execution_count": 79,
   "metadata": {},
   "outputs": [
    {
     "data": {
      "text/latex": [
       "$\\displaystyle \\pi \\left(\\left(3 y + 1\\right)^{2} - \\left(y^{2} + 1\\right)^{2}\\right)$"
      ],
      "text/plain": [
       "pi*((3*y + 1)**2 - (y**2 + 1)**2)"
      ]
     },
     "execution_count": 79,
     "metadata": {},
     "output_type": "execute_result"
    },
    {
     "data": {
      "text/latex": [
       "$\\displaystyle \\frac{207 \\pi}{5}$"
      ],
      "text/plain": [
       "207*pi/5"
      ]
     },
     "execution_count": 79,
     "metadata": {},
     "output_type": "execute_result"
    }
   ],
   "source": [
    "af = sp.pi*((3*y+1)**2 - (y**2+1)**2)\n",
    "af\n",
    "af.integrate((y, 0, 3))"
   ]
  },
  {
   "cell_type": "markdown",
   "metadata": {},
   "source": [
    "# Q17"
   ]
  },
  {
   "cell_type": "code",
   "execution_count": 82,
   "metadata": {},
   "outputs": [
    {
     "data": {
      "text/latex": [
       "$\\displaystyle \\pi \\left(\\left(5 - \\frac{1}{y + 1}\\right)^{2} - 1\\right)$"
      ],
      "text/plain": [
       "pi*((5 - 1/(y + 1))**2 - 1)"
      ]
     },
     "execution_count": 82,
     "metadata": {},
     "output_type": "execute_result"
    },
    {
     "data": {
      "text/latex": [
       "$\\displaystyle - 10 \\pi \\log{\\left(4 \\right)} - 10 \\pi \\log{\\left(2 \\right)} + \\frac{91 \\pi}{2}$"
      ],
      "text/plain": [
       "-10*pi*log(4) - 10*pi*log(2) + 91*pi/2"
      ]
     },
     "execution_count": 82,
     "metadata": {},
     "output_type": "execute_result"
    }
   ],
   "source": [
    "af = sp.pi*((5-1/(y+1))**2 - (1)**2)\n",
    "af\n",
    "af.integrate((y, -sp.Rational(3,4), 1))"
   ]
  },
  {
   "cell_type": "code",
   "execution_count": 83,
   "metadata": {},
   "outputs": [
    {
     "data": {
      "text/latex": [
       "$\\displaystyle 24 + \\frac{1}{y^{2} + 2 y + 1} - \\frac{10}{y + 1}$"
      ],
      "text/plain": [
       "24 + 1/(y**2 + 2*y + 1) - 10/(y + 1)"
      ]
     },
     "execution_count": 83,
     "metadata": {},
     "output_type": "execute_result"
    }
   ],
   "source": [
    "expr = ((5-1/(y+1))**2 - (1)**2)\n",
    "expr.expand()"
   ]
  },
  {
   "cell_type": "markdown",
   "metadata": {},
   "source": [
    "# Q18"
   ]
  },
  {
   "cell_type": "code",
   "execution_count": 85,
   "metadata": {},
   "outputs": [
    {
     "data": {
      "text/latex": [
       "$\\displaystyle \\pi \\left(8 \\cdot \\sqrt[3]{2} x^{\\frac{2}{3}} - x^{4}\\right)$"
      ],
      "text/plain": [
       "pi*(8*2**(1/3)*x**(2/3) - x**4)"
      ]
     },
     "execution_count": 85,
     "metadata": {},
     "output_type": "execute_result"
    },
    {
     "data": {
      "text/latex": [
       "$\\displaystyle \\frac{64 \\pi}{5}$"
      ],
      "text/plain": [
       "64*pi/5"
      ]
     },
     "execution_count": 85,
     "metadata": {},
     "output_type": "execute_result"
    }
   ],
   "source": [
    "af = sp.pi*(( (32*x)**sp.Rational(1,3) )**2 - x**4)\n",
    "af\n",
    "af.integrate((x, 0, 2))"
   ]
  },
  {
   "cell_type": "markdown",
   "metadata": {},
   "source": [
    "# Q19"
   ]
  },
  {
   "cell_type": "code",
   "execution_count": 88,
   "metadata": {},
   "outputs": [
    {
     "data": {
      "text/latex": [
       "$\\displaystyle \\pi \\left(1 - \\left(1 - x^{2}\\right)^{2}\\right)$"
      ],
      "text/plain": [
       "pi*(1 - (1 - x**2)**2)"
      ]
     },
     "execution_count": 88,
     "metadata": {},
     "output_type": "execute_result"
    },
    {
     "data": {
      "text/latex": [
       "$\\displaystyle \\frac{7 \\pi}{15}$"
      ],
      "text/plain": [
       "7*pi/15"
      ]
     },
     "execution_count": 88,
     "metadata": {},
     "output_type": "execute_result"
    }
   ],
   "source": [
    "af = sp.pi*(1**2 - ((1-x**2))**2)\n",
    "af\n",
    "af.integrate((x, 0, 1))"
   ]
  },
  {
   "cell_type": "markdown",
   "metadata": {},
   "source": [
    "# Q20"
   ]
  },
  {
   "cell_type": "code",
   "execution_count": 95,
   "metadata": {},
   "outputs": [
    {
     "data": {
      "text/latex": [
       "$\\displaystyle \\pi \\left(\\left(x^{2} + 1\\right)^{2} - 1\\right)$"
      ],
      "text/plain": [
       "pi*((x**2 + 1)**2 - 1)"
      ]
     },
     "execution_count": 95,
     "metadata": {},
     "output_type": "execute_result"
    },
    {
     "data": {
      "text/latex": [
       "$\\displaystyle \\frac{333 \\pi}{5}$"
      ],
      "text/plain": [
       "333*pi/5"
      ]
     },
     "execution_count": 95,
     "metadata": {},
     "output_type": "execute_result"
    }
   ],
   "source": [
    "r1 = x**2 + 1\n",
    "r2 = 1\n",
    "af = sp.pi*( (r1)**2 - (r2)**2 )\n",
    "af\n",
    "af.integrate((x, 0, 3))"
   ]
  },
  {
   "cell_type": "code",
   "execution_count": null,
   "metadata": {},
   "outputs": [],
   "source": []
  }
 ],
 "metadata": {
  "kernelspec": {
   "display_name": "Math",
   "language": "python",
   "name": "math"
  },
  "language_info": {
   "codemirror_mode": {
    "name": "ipython",
    "version": 3
   },
   "file_extension": ".py",
   "mimetype": "text/x-python",
   "name": "python",
   "nbconvert_exporter": "python",
   "pygments_lexer": "ipython3",
   "version": "3.8.12"
  }
 },
 "nbformat": 4,
 "nbformat_minor": 4
}
