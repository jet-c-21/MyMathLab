{
 "cells": [
  {
   "cell_type": "code",
   "execution_count": 1,
   "metadata": {},
   "outputs": [
    {
     "name": "stdout",
     "output_type": "stream",
     "text": [
      "Added /home/jet/my_home/PycharmProjects/MyMathLab to PATH\n"
     ]
    }
   ],
   "source": [
    "from IPython.core.interactiveshell import InteractiveShell\n",
    "InteractiveShell.ast_node_interactivity = 'all'\n",
    "\n",
    "# import self-made module\n",
    "import os, sys, pathlib\n",
    "file_path = os.path.abspath('')\n",
    "PROJECT_DIR = str(pathlib.Path(file_path).parent)\n",
    "sys.path.append(PROJECT_DIR)\n",
    "print(f\"Added {PROJECT_DIR} to PATH\")\n",
    "from athena import *\n",
    "\n",
    "# ult functions\n",
    "def reset_symbols():\n",
    "    global x, y, z, a, b, c, d, s, k, t, theta\n",
    "    x, y, z = sp.symbols('x y z', real=True)\n",
    "    a, b, c, d, s, k, t = sp.symbols('a b c d s k t', real=True)\n",
    "    theta = sp.Symbol('theta')"
   ]
  },
  {
   "cell_type": "markdown",
   "metadata": {},
   "source": [
    "# Q1"
   ]
  },
  {
   "cell_type": "code",
   "execution_count": 8,
   "metadata": {},
   "outputs": [
    {
     "data": {
      "text/latex": [
       "$\\displaystyle 3 \\theta \\sin{\\left(\\theta \\right)} \\cos{\\left(\\theta \\right)}$"
      ],
      "text/plain": [
       "3*theta*sin(theta)*cos(theta)"
      ]
     },
     "execution_count": 8,
     "metadata": {},
     "output_type": "execute_result"
    },
    {
     "data": {
      "text/latex": [
       "$\\displaystyle - 3 \\theta \\sin^{2}{\\left(\\theta \\right)} + 3 \\theta \\cos^{2}{\\left(\\theta \\right)} + 3 \\sin{\\left(\\theta \\right)} \\cos{\\left(\\theta \\right)}$"
      ],
      "text/plain": [
       "-3*theta*sin(theta)**2 + 3*theta*cos(theta)**2 + 3*sin(theta)*cos(theta)"
      ]
     },
     "execution_count": 8,
     "metadata": {},
     "output_type": "execute_result"
    },
    {
     "data": {
      "text/latex": [
       "$\\displaystyle - \\frac{3 \\pi}{2}$"
      ],
      "text/plain": [
       "-3*pi/2"
      ]
     },
     "execution_count": 8,
     "metadata": {},
     "output_type": "execute_result"
    }
   ],
   "source": [
    "# x = sp.Symbol('x', cls=sp.Function)\n",
    "x_theta = 3*theta*sp.sin(theta)*sp.cos(theta)\n",
    "x_theta\n",
    "x_theta_prime = x_theta.diff()\n",
    "x_theta_prime\n",
    "x_theta_prime.subs(theta, sp.pi/2)"
   ]
  },
  {
   "cell_type": "markdown",
   "metadata": {},
   "source": [
    "# Q2"
   ]
  },
  {
   "cell_type": "code",
   "execution_count": 10,
   "metadata": {},
   "outputs": [],
   "source": [
    "reset_symbols()"
   ]
  },
  {
   "cell_type": "code",
   "execution_count": 11,
   "metadata": {},
   "outputs": [
    {
     "data": {
      "text/latex": [
       "$\\displaystyle \\theta^{2} \\cos{\\left(\\theta \\right)} + 2 \\theta \\sin{\\left(\\theta \\right)}$"
      ],
      "text/plain": [
       "theta**2*cos(theta) + 2*theta*sin(theta)"
      ]
     },
     "execution_count": 11,
     "metadata": {},
     "output_type": "execute_result"
    }
   ],
   "source": [
    "y = theta**2*sp.sin(theta)\n",
    "y.diff()"
   ]
  },
  {
   "cell_type": "markdown",
   "metadata": {},
   "source": [
    "# Q3"
   ]
  },
  {
   "cell_type": "code",
   "execution_count": 13,
   "metadata": {},
   "outputs": [
    {
     "data": {
      "text/latex": [
       "$\\displaystyle \\left(2 \\sqrt{2} \\sqrt{\\theta} + 1\\right) \\sin{\\left(\\theta \\right)}$"
      ],
      "text/plain": [
       "(2*sqrt(2)*sqrt(theta) + 1)*sin(theta)"
      ]
     },
     "execution_count": 13,
     "metadata": {},
     "output_type": "execute_result"
    }
   ],
   "source": [
    "y = sp.sin(theta)*(sp.sqrt(8*theta)+1)\n",
    "y"
   ]
  },
  {
   "cell_type": "code",
   "execution_count": 15,
   "metadata": {},
   "outputs": [
    {
     "data": {
      "text/latex": [
       "$\\displaystyle \\left(2 \\sqrt{2} \\sqrt{\\theta} + 1\\right) \\cos{\\left(\\theta \\right)} + \\frac{\\sqrt{2} \\sin{\\left(\\theta \\right)}}{\\sqrt{\\theta}}$"
      ],
      "text/plain": [
       "(2*sqrt(2)*sqrt(theta) + 1)*cos(theta) + sqrt(2)*sin(theta)/sqrt(theta)"
      ]
     },
     "execution_count": 15,
     "metadata": {},
     "output_type": "execute_result"
    }
   ],
   "source": [
    "y_p = y.diff()\n",
    "y_p"
   ]
  },
  {
   "cell_type": "code",
   "execution_count": 16,
   "metadata": {},
   "outputs": [
    {
     "data": {
      "text/latex": [
       "$\\displaystyle 1 + 4 \\sqrt{\\pi}$"
      ],
      "text/plain": [
       "1 + 4*sqrt(pi)"
      ]
     },
     "execution_count": 16,
     "metadata": {},
     "output_type": "execute_result"
    }
   ],
   "source": [
    "y_p.subs(theta, 2*sp.pi)"
   ]
  },
  {
   "cell_type": "markdown",
   "metadata": {},
   "source": [
    "# Q3"
   ]
  },
  {
   "cell_type": "code",
   "execution_count": 19,
   "metadata": {},
   "outputs": [
    {
     "data": {
      "text/latex": [
       "$\\displaystyle \\left(\\theta + \\sin{\\left(6 \\theta \\right)}\\right) \\sin{\\left(\\theta \\right)}$"
      ],
      "text/plain": [
       "(theta + sin(6*theta))*sin(theta)"
      ]
     },
     "execution_count": 19,
     "metadata": {},
     "output_type": "execute_result"
    },
    {
     "data": {
      "text/latex": [
       "$\\displaystyle 5$"
      ],
      "text/plain": [
       "5"
      ]
     },
     "execution_count": 19,
     "metadata": {},
     "output_type": "execute_result"
    }
   ],
   "source": [
    "y = sp.sin(theta)*(sp.sin(6*theta) + theta)\n",
    "y\n",
    "y_p = y.diff()\n",
    "y_p.subs(theta, 3*sp.pi/2)"
   ]
  },
  {
   "cell_type": "markdown",
   "metadata": {},
   "source": [
    "# Q4"
   ]
  },
  {
   "cell_type": "code",
   "execution_count": 21,
   "metadata": {},
   "outputs": [
    {
     "data": {
      "text/latex": [
       "$\\displaystyle - 3 \\sin^{2}{\\left(\\theta \\right)} + 3 \\cos^{2}{\\left(\\theta \\right)}$"
      ],
      "text/plain": [
       "-3*sin(theta)**2 + 3*cos(theta)**2"
      ]
     },
     "execution_count": 21,
     "metadata": {},
     "output_type": "execute_result"
    }
   ],
   "source": [
    "x = 3*sp.sin(theta)*sp.cos(theta)\n",
    "x_p = x.diff()\n",
    "x_p"
   ]
  },
  {
   "cell_type": "markdown",
   "metadata": {},
   "source": [
    "# Q5"
   ]
  },
  {
   "cell_type": "code",
   "execution_count": 44,
   "metadata": {},
   "outputs": [
    {
     "data": {
      "text/latex": [
       "$\\displaystyle \\frac{\\theta \\cos{\\left(\\theta \\right)} + \\sin{\\left(\\theta \\right)}}{- \\theta \\sin{\\left(\\theta \\right)} + \\cos{\\left(\\theta \\right)}}$"
      ],
      "text/plain": [
       "(theta*cos(theta) + sin(theta))/(-theta*sin(theta) + cos(theta))"
      ]
     },
     "execution_count": 44,
     "metadata": {},
     "output_type": "execute_result"
    },
    {
     "data": {
      "text/latex": [
       "$\\displaystyle - \\frac{2}{\\pi}$"
      ],
      "text/plain": [
       "-2/pi"
      ]
     },
     "execution_count": 44,
     "metadata": {},
     "output_type": "execute_result"
    }
   ],
   "source": [
    "r = theta\n",
    "theta_val = sp.pi/2\n",
    "\n",
    "x = r*sp.cos(theta)\n",
    "y = r*sp.sin(theta)\n",
    "dx_dtheta = x.diff(theta)\n",
    "dy_dtheta = y.diff(theta)\n",
    "\n",
    "dy_dx = (dy_dtheta / dx_dtheta).simplify()\n",
    "dy_dx\n",
    "\n",
    "dy_dx.subs(theta, theta_val)"
   ]
  },
  {
   "cell_type": "markdown",
   "metadata": {},
   "source": [
    "# Q6"
   ]
  },
  {
   "cell_type": "code",
   "execution_count": 45,
   "metadata": {},
   "outputs": [
    {
     "data": {
      "text/latex": [
       "$\\displaystyle \\frac{\\theta \\cos{\\left(\\theta \\right)} + \\sin{\\left(\\theta \\right)}}{- \\theta \\sin{\\left(\\theta \\right)} + \\cos{\\left(\\theta \\right)}}$"
      ],
      "text/plain": [
       "(theta*cos(theta) + sin(theta))/(-theta*sin(theta) + cos(theta))"
      ]
     },
     "execution_count": 45,
     "metadata": {},
     "output_type": "execute_result"
    },
    {
     "data": {
      "text/latex": [
       "$\\displaystyle - \\frac{2}{\\pi}$"
      ],
      "text/plain": [
       "-2/pi"
      ]
     },
     "execution_count": 45,
     "metadata": {},
     "output_type": "execute_result"
    },
    {
     "data": {
      "text/latex": [
       "$\\displaystyle y - \\frac{\\pi}{2} = - \\frac{2 x}{\\pi}$"
      ],
      "text/plain": [
       "Eq(y - pi/2, -2*x/pi)"
      ]
     },
     "execution_count": 45,
     "metadata": {},
     "output_type": "execute_result"
    }
   ],
   "source": [
    "reset_symbols()\n",
    "\n",
    "r = theta\n",
    "theta_val = sp.pi/2\n",
    "\n",
    "x_theta = r*sp.cos(theta)\n",
    "y_theta = r*sp.sin(theta)\n",
    "dx_dtheta = x_theta.diff(theta)\n",
    "dy_dtheta = y_theta.diff(theta)\n",
    "\n",
    "dy_dx = (dy_dtheta / dx_dtheta).simplify()\n",
    "dy_dx\n",
    "\n",
    "slope = dy_dx.subs(theta, theta_val)\n",
    "slope\n",
    "\n",
    "x_coord = x_theta.subs(theta, theta_val)\n",
    "y_coord = y_theta.subs(theta, theta_val)\n",
    "\n",
    "line = sp.Eq(y - y_coord, (slope)*(x-x_coord))\n",
    "line"
   ]
  },
  {
   "cell_type": "markdown",
   "metadata": {},
   "source": [
    "# Q7"
   ]
  },
  {
   "cell_type": "code",
   "execution_count": 46,
   "metadata": {},
   "outputs": [
    {
     "data": {
      "text/latex": [
       "$\\displaystyle \\left(\\cos{\\left(\\theta \\right)} + 1\\right) \\cos{\\left(\\theta \\right)}$"
      ],
      "text/plain": [
       "(cos(theta) + 1)*cos(theta)"
      ]
     },
     "execution_count": 46,
     "metadata": {},
     "output_type": "execute_result"
    },
    {
     "data": {
      "text/latex": [
       "$\\displaystyle \\left(\\cos{\\left(\\theta \\right)} + 1\\right) \\sin{\\left(\\theta \\right)}$"
      ],
      "text/plain": [
       "(cos(theta) + 1)*sin(theta)"
      ]
     },
     "execution_count": 46,
     "metadata": {},
     "output_type": "execute_result"
    },
    {
     "data": {
      "text/latex": [
       "$\\displaystyle \\left\\{2 n \\pi\\; \\middle|\\; n \\in \\mathbb{Z}\\right\\} \\cup \\left\\{2 n \\pi + \\pi\\; \\middle|\\; n \\in \\mathbb{Z}\\right\\} \\cup \\left\\{2 n \\pi + \\frac{4 \\pi}{3}\\; \\middle|\\; n \\in \\mathbb{Z}\\right\\} \\cup \\left\\{2 n \\pi + \\frac{2 \\pi}{3}\\; \\middle|\\; n \\in \\mathbb{Z}\\right\\}$"
      ],
      "text/plain": [
       "Union(ImageSet(Lambda(_n, 2*_n*pi + pi), Integers), ImageSet(Lambda(_n, 2*_n*pi), Integers), ImageSet(Lambda(_n, 2*_n*pi + 4*pi/3), Integers), ImageSet(Lambda(_n, 2*_n*pi + 2*pi/3), Integers))"
      ]
     },
     "execution_count": 46,
     "metadata": {},
     "output_type": "execute_result"
    },
    {
     "data": {
      "text/latex": [
       "$\\displaystyle - \\frac{\\cos{\\left(\\theta \\right)} + \\cos{\\left(2 \\theta \\right)}}{\\sin{\\left(\\theta \\right)} + \\sin{\\left(2 \\theta \\right)}}$"
      ],
      "text/plain": [
       "-(cos(theta) + cos(2*theta))/(sin(theta) + sin(2*theta))"
      ]
     },
     "execution_count": 46,
     "metadata": {},
     "output_type": "execute_result"
    }
   ],
   "source": [
    "reset_symbols()\n",
    "\n",
    "r = 1 + sp.cos(theta)\n",
    "theta_val = sp.pi/3\n",
    "\n",
    "x_theta = r*sp.cos(theta)\n",
    "x_theta\n",
    "y_theta = r*sp.sin(theta)\n",
    "y_theta\n",
    "\n",
    "dx_dtheta = x_theta.diff(theta)\n",
    "dy_dtheta = y_theta.diff(theta)\n",
    "\n",
    "eq = sp.Eq(dx_dtheta, 0)\n",
    "sp.solveset(dx_dtheta)\n",
    "\n",
    "\n",
    "dy_dx = (dy_dtheta / dx_dtheta).simplify()\n",
    "dy_dx = sp.trigsimp(dy_dx)\n",
    "dy_dx\n",
    "\n",
    "# slope = dy_dx.subs(theta, theta_val)\n",
    "# slope\n",
    "\n",
    "# x_coord = x_theta.subs(theta, theta_val)\n",
    "# y_coord = y_theta.subs(theta, theta_val)\n",
    "\n",
    "# line = sp.Eq(y - y_coord, (slope)*(x-x_coord))\n",
    "# line"
   ]
  },
  {
   "cell_type": "markdown",
   "metadata": {},
   "source": [
    "# Q8"
   ]
  },
  {
   "cell_type": "code",
   "execution_count": 48,
   "metadata": {},
   "outputs": [
    {
     "data": {
      "text/latex": [
       "$\\displaystyle \\frac{- 2 \\sin{\\left(4 \\theta \\right)} + 3 \\sin{\\left(6 \\theta \\right)}}{2 \\cos{\\left(4 \\theta \\right)} + 3 \\cos{\\left(6 \\theta \\right)}}$"
      ],
      "text/plain": [
       "(-2*sin(4*theta) + 3*sin(6*theta))/(2*cos(4*theta) + 3*cos(6*theta))"
      ]
     },
     "execution_count": 48,
     "metadata": {},
     "output_type": "execute_result"
    },
    {
     "data": {
      "text/latex": [
       "$\\displaystyle \\frac{\\sqrt{3}}{2}$"
      ],
      "text/plain": [
       "sqrt(3)/2"
      ]
     },
     "execution_count": 48,
     "metadata": {},
     "output_type": "execute_result"
    },
    {
     "data": {
      "text/latex": [
       "$\\displaystyle y + 3 = \\frac{\\sqrt{3} \\left(x + \\sqrt{3}\\right)}{2}$"
      ],
      "text/plain": [
       "Eq(y + 3, sqrt(3)*(x + sqrt(3))/2)"
      ]
     },
     "execution_count": 48,
     "metadata": {},
     "output_type": "execute_result"
    }
   ],
   "source": [
    "reset_symbols()\n",
    "\n",
    "r = 4*sp.sin(5*theta)\n",
    "theta_val = sp.pi/3\n",
    "\n",
    "x_theta = r*sp.cos(theta)\n",
    "y_theta = r*sp.sin(theta)\n",
    "dx_dtheta = x_theta.diff(theta)\n",
    "dy_dtheta = y_theta.diff(theta)\n",
    "\n",
    "dy_dx = (dy_dtheta / dx_dtheta).simplify()\n",
    "dy_dx\n",
    "\n",
    "slope = dy_dx.subs(theta, theta_val)\n",
    "slope\n",
    "\n",
    "x_coord = x_theta.subs(theta, theta_val)\n",
    "y_coord = y_theta.subs(theta, theta_val)\n",
    "\n",
    "line = sp.Eq(y - y_coord, (slope)*(x-x_coord))\n",
    "line"
   ]
  },
  {
   "cell_type": "markdown",
   "metadata": {},
   "source": [
    "# Q9"
   ]
  },
  {
   "cell_type": "code",
   "execution_count": 60,
   "metadata": {},
   "outputs": [
    {
     "data": {
      "text/latex": [
       "$\\displaystyle \\left\\{\\theta\\; \\middle|\\; \\theta \\in \\mathbb{C} \\wedge \\theta + \\sin{\\left(\\theta \\right)} = 0 \\right\\}$"
      ],
      "text/plain": [
       "ConditionSet(theta, Eq(theta + sin(theta), 0), Complexes)"
      ]
     },
     "execution_count": 60,
     "metadata": {},
     "output_type": "execute_result"
    },
    {
     "data": {
      "text/latex": [
       "$\\displaystyle \\frac{\\theta^{2}}{2} + \\theta \\sin{\\left(\\theta \\right)} + \\frac{\\sin^{2}{\\left(\\theta \\right)}}{2}$"
      ],
      "text/plain": [
       "theta**2/2 + theta*sin(theta) + sin(theta)**2/2"
      ]
     },
     "execution_count": 60,
     "metadata": {},
     "output_type": "execute_result"
    }
   ],
   "source": [
    "r = theta+sp.sin(theta)\n",
    "sp.solveset(r)\n",
    "expr = (r)**2 /2\n",
    "expr.expand()"
   ]
  },
  {
   "cell_type": "markdown",
   "metadata": {},
   "source": [
    "# Q10"
   ]
  },
  {
   "cell_type": "code",
   "execution_count": 62,
   "metadata": {},
   "outputs": [],
   "source": [
    "def get_polar_itgd(r):\n",
    "    return r**2 / 2"
   ]
  },
  {
   "cell_type": "code",
   "execution_count": 65,
   "metadata": {},
   "outputs": [
    {
     "data": {
      "text/latex": [
       "$\\displaystyle 18 - \\frac{9 \\pi}{4}$"
      ],
      "text/plain": [
       "18 - 9*pi/4"
      ]
     },
     "execution_count": 65,
     "metadata": {},
     "output_type": "execute_result"
    },
    {
     "data": {
      "text/latex": [
       "$\\displaystyle 10.931416529423$"
      ],
      "text/plain": [
       "10.9314165294230"
      ]
     },
     "execution_count": 65,
     "metadata": {},
     "output_type": "execute_result"
    }
   ],
   "source": [
    "r1 = 3\n",
    "itgd_1 = get_polar_itgd(r1)\n",
    "\n",
    "r2 = 3 - 3 * sp.sin(theta)\n",
    "itgd_2 = get_polar_itgd(r2)\n",
    "\n",
    "expr = (itgd_1 - itgd_2)\n",
    "area = expr.integrate((theta, 0, sp.pi))\n",
    "area\n",
    "sp.N(area)"
   ]
  },
  {
   "cell_type": "markdown",
   "metadata": {},
   "source": [
    "# Q11"
   ]
  },
  {
   "cell_type": "code",
   "execution_count": 71,
   "metadata": {},
   "outputs": [
    {
     "data": {
      "text/latex": [
       "$\\displaystyle 4 \\cos{\\left(\\theta \\right)}$"
      ],
      "text/plain": [
       "4*cos(theta)"
      ]
     },
     "execution_count": 71,
     "metadata": {},
     "output_type": "execute_result"
    },
    {
     "data": {
      "text/latex": [
       "$\\displaystyle - \\sqrt{3} + \\frac{4 \\pi}{3}$"
      ],
      "text/plain": [
       "-sqrt(3) + 4*pi/3"
      ]
     },
     "execution_count": 71,
     "metadata": {},
     "output_type": "execute_result"
    },
    {
     "data": {
      "text/latex": [
       "$\\displaystyle 4 \\sin{\\left(2 \\theta \\right)}$"
      ],
      "text/plain": [
       "4*sin(2*theta)"
      ]
     },
     "execution_count": 71,
     "metadata": {},
     "output_type": "execute_result"
    },
    {
     "data": {
      "text/latex": [
       "$\\displaystyle - \\frac{3 \\sqrt{3}}{2} + 2 \\pi$"
      ],
      "text/plain": [
       "-3*sqrt(3)/2 + 2*pi"
      ]
     },
     "execution_count": 71,
     "metadata": {},
     "output_type": "execute_result"
    },
    {
     "data": {
      "text/latex": [
       "$\\displaystyle 3.68510909582627$"
      ],
      "text/plain": [
       "3.68510909582627"
      ]
     },
     "execution_count": 71,
     "metadata": {},
     "output_type": "execute_result"
    }
   ],
   "source": [
    "r1 = 4*sp.cos(theta)\n",
    "r1\n",
    "itgd_1 = get_polar_itgd(r1)\n",
    "itg_args_1 = (theta, sp.pi/6, sp.pi/2)\n",
    "a1 = itgd_1.integrate(itg_args_1)\n",
    "a1\n",
    "\n",
    "r2 = 4 * sp.sin(2*theta)\n",
    "r2\n",
    "itgd_2 = get_polar_itgd(r2)\n",
    "itg_args_2 = (theta, 0, sp.pi/6)\n",
    "a2 = itgd_2.integrate(itg_args_2)\n",
    "\n",
    "area = a1 + a2\n",
    "area\n",
    "sp.N(area)\n"
   ]
  },
  {
   "cell_type": "markdown",
   "metadata": {},
   "source": [
    "# Q12"
   ]
  },
  {
   "cell_type": "code",
   "execution_count": 75,
   "metadata": {},
   "outputs": [
    {
     "data": {
      "text/latex": [
       "$\\displaystyle \\pi - \\frac{3 \\sqrt{3}}{2}$"
      ],
      "text/plain": [
       "pi - 3*sqrt(3)/2"
      ]
     },
     "execution_count": 75,
     "metadata": {},
     "output_type": "execute_result"
    },
    {
     "data": {
      "text/latex": [
       "$\\displaystyle 0.543516442236477$"
      ],
      "text/plain": [
       "0.543516442236477"
      ]
     },
     "execution_count": 75,
     "metadata": {},
     "output_type": "execute_result"
    }
   ],
   "source": [
    "r = 2*sp.sin(theta) - 1\n",
    "area = get_polar_itgd(r).integrate((theta, sp.pi/6, sp.pi*5/6))\n",
    "area\n",
    "sp.N(area)"
   ]
  },
  {
   "cell_type": "markdown",
   "metadata": {},
   "source": [
    "# Q13"
   ]
  },
  {
   "cell_type": "code",
   "execution_count": 77,
   "metadata": {},
   "outputs": [
    {
     "data": {
      "text/latex": [
       "$\\displaystyle \\frac{3 \\pi}{2}$"
      ],
      "text/plain": [
       "3*pi/2"
      ]
     },
     "execution_count": 77,
     "metadata": {},
     "output_type": "execute_result"
    },
    {
     "data": {
      "text/latex": [
       "$\\displaystyle 4.71238898038469$"
      ],
      "text/plain": [
       "4.71238898038469"
      ]
     },
     "execution_count": 77,
     "metadata": {},
     "output_type": "execute_result"
    }
   ],
   "source": [
    "r = 1 + sp.cos(theta)\n",
    "area = get_polar_itgd(r).integrate((theta, 0, sp.pi*2))\n",
    "area\n",
    "sp.N(area)"
   ]
  },
  {
   "cell_type": "code",
   "execution_count": null,
   "metadata": {},
   "outputs": [],
   "source": []
  }
 ],
 "metadata": {
  "kernelspec": {
   "display_name": "Math",
   "language": "python",
   "name": "math"
  },
  "language_info": {
   "codemirror_mode": {
    "name": "ipython",
    "version": 3
   },
   "file_extension": ".py",
   "mimetype": "text/x-python",
   "name": "python",
   "nbconvert_exporter": "python",
   "pygments_lexer": "ipython3",
   "version": "3.8.12"
  }
 },
 "nbformat": 4,
 "nbformat_minor": 4
}
