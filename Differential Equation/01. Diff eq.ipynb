{
 "cells": [
  {
   "cell_type": "code",
   "execution_count": 1,
   "id": "12503e00-fdd2-4c10-b148-c20910279d7d",
   "metadata": {},
   "outputs": [
    {
     "name": "stdout",
     "output_type": "stream",
     "text": [
      "Added D:\\Dev\\MyMathLab to PATH\n"
     ]
    }
   ],
   "source": [
    "from IPython.core.interactiveshell import InteractiveShell\n",
    "InteractiveShell.ast_node_interactivity = 'all'\n",
    "\n",
    "# import self-made module\n",
    "import os, sys, pathlib\n",
    "file_path = os.path.abspath('')\n",
    "PROJECT_DIR = str(pathlib.Path(file_path).parent)\n",
    "sys.path.append(PROJECT_DIR)\n",
    "print(f\"Added {PROJECT_DIR} to PATH\")\n",
    "from athena import *\n",
    "from sympy.vector import CoordSys3D, gradient, curl, ParametricRegion, vector_integrate, scalar_potential\n",
    "from sympy.integrals.manualintegrate import integral_steps\n",
    "\n",
    "sp.init_printing()\n",
    "\n",
    "# ult functions\n",
    "def reset_symbols():\n",
    "    global x, y, z, a, b, c, d, e, f, g, h, r, s, k, t, u, v, theta, lmda, rho, phi\n",
    "    x, y, z = sp.symbols('x y z', real=True)\n",
    "    a, b, c, d, e, f, g, h, r, s, k, t, u, v = sp.symbols('a b c d e f g h r s k t u v', real=True)\n",
    "    theta = sp.Symbol('theta')\n",
    "    lmda = sp.Symbol('lambda')\n",
    "    rho = sp.Symbol('rho')\n",
    "    phi = sp.Symbol('phi')\n",
    "    \n",
    "\n",
    "reset_symbols()"
   ]
  },
  {
   "cell_type": "code",
   "execution_count": 4,
   "id": "62504887-e72b-4c7b-8781-449b434b4d80",
   "metadata": {},
   "outputs": [
    {
     "data": {
      "image/png": "[encoded data removed]",
      "text/latex": [
       "$\\displaystyle g{\\left(x \\right)}$"
      ],
      "text/plain": [
       "g(x)"
      ]
     },
     "execution_count": 4,
     "metadata": {},
     "output_type": "execute_result"
    },
    {
     "data": {
      "image/png": "[encoded data removed]",
      "text/latex": [
       "$\\displaystyle \\frac{d}{d x} g{\\left(x \\right)} = \\frac{3 x}{4 g{\\left(x \\right)}}$"
      ],
      "text/plain": [
       "d           3⋅x  \n",
       "──(g(x)) = ──────\n",
       "dx         4⋅g(x)"
      ]
     },
     "execution_count": 4,
     "metadata": {},
     "output_type": "execute_result"
    },
    {
     "data": {
      "image/png": "[encoded data removed]",
      "text/latex": [
       "$\\displaystyle \\left[ g{\\left(x \\right)} = - \\frac{\\sqrt{C_{1} + 3 x^{2}}}{2}, \\  g{\\left(x \\right)} = \\frac{\\sqrt{C_{1} + 3 x^{2}}}{2}\\right]$"
      ],
      "text/plain": [
       "⎡           ___________             ___________⎤\n",
       "⎢          ╱         2             ╱         2 ⎥\n",
       "⎢       -╲╱  C₁ + 3⋅x            ╲╱  C₁ + 3⋅x  ⎥\n",
       "⎢g(x) = ────────────────, g(x) = ──────────────⎥\n",
       "⎣              2                       2       ⎦"
      ]
     },
     "execution_count": 4,
     "metadata": {},
     "output_type": "execute_result"
    }
   ],
   "source": [
    "g = sp.Function('g')(x)\n",
    "g\n",
    "\n",
    "diff_eq = sp.Eq(g.diff(x), (3*x) / (4*g))\n",
    "diff_eq\n",
    "\n",
    "sp.dsolve(diff_eq, g)"
   ]
  },
  {
   "cell_type": "code",
   "execution_count": 8,
   "id": "112b82d8-f52f-4616-9cc8-b2b4173fa13f",
   "metadata": {},
   "outputs": [
    {
     "data": {
      "image/png": "[encoded data removed]",
      "text/latex": [
       "$\\displaystyle \\frac{d}{d x} y{\\left(x \\right)} = - \\frac{x}{y{\\left(x \\right)}}$"
      ],
      "text/plain": [
       "d          -x  \n",
       "──(y(x)) = ────\n",
       "dx         y(x)"
      ]
     },
     "execution_count": 8,
     "metadata": {},
     "output_type": "execute_result"
    },
    {
     "data": {
      "image/png": "[encoded data removed]",
      "text/latex": [
       "$\\displaystyle \\left[ y{\\left(x \\right)} = - \\sqrt{C_{1} - x^{2}}, \\  y{\\left(x \\right)} = \\sqrt{C_{1} - x^{2}}\\right]$"
      ],
      "text/plain": [
       "⎡           _________            _________⎤\n",
       "⎢          ╱       2            ╱       2 ⎥\n",
       "⎣y(x) = -╲╱  C₁ - x  , y(x) = ╲╱  C₁ - x  ⎦"
      ]
     },
     "execution_count": 8,
     "metadata": {},
     "output_type": "execute_result"
    }
   ],
   "source": [
    "y = sp.Function('y')(x)\n",
    "\n",
    "diff_eq = sp.Eq(y.diff(x), -x/y)\n",
    "diff_eq\n",
    "\n",
    "sp.dsolve(diff_eq, y)"
   ]
  },
  {
   "cell_type": "code",
   "execution_count": 12,
   "id": "a7b1a8d6-e541-4c1a-b625-5227b4d77114",
   "metadata": {},
   "outputs": [
    {
     "data": {
      "image/png": "[encoded data removed]",
      "text/latex": [
       "$\\displaystyle \\frac{d}{d x} f{\\left(x \\right)} = \\frac{3 f{\\left(x \\right)}}{x \\log{\\left(x \\right)}}$"
      ],
      "text/plain": [
       "d           3⋅f(x) \n",
       "──(f(x)) = ────────\n",
       "dx         x⋅log(x)"
      ]
     },
     "execution_count": 12,
     "metadata": {},
     "output_type": "execute_result"
    },
    {
     "data": {
      "image/png": "[encoded data removed]",
      "text/latex": [
       "$\\displaystyle f{\\left(x \\right)} = C_{1} \\log{\\left(x \\right)}^{3}$"
      ],
      "text/plain": [
       "             3   \n",
       "f(x) = C₁⋅log (x)"
      ]
     },
     "execution_count": 12,
     "metadata": {},
     "output_type": "execute_result"
    }
   ],
   "source": [
    "f = sp.Function('f')(x)\n",
    "\n",
    "diff_eq = sp.Eq(f.diff(x), (3*f) / (x*sp.ln(x)))\n",
    "diff_eq\n",
    "\n",
    "sp.dsolve(diff_eq, f)"
   ]
  },
  {
   "cell_type": "code",
   "execution_count": 13,
   "id": "db93895c-70c4-49ed-8203-8f27baeadfec",
   "metadata": {},
   "outputs": [
    {
     "data": {
      "image/png": "[encoded data removed]",
      "text/latex": [
       "$\\displaystyle \\frac{d}{d x} h{\\left(x \\right)} = \\frac{2 h{\\left(x \\right)}}{x \\log{\\left(x \\right)}}$"
      ],
      "text/plain": [
       "d           2⋅h(x) \n",
       "──(h(x)) = ────────\n",
       "dx         x⋅log(x)"
      ]
     },
     "execution_count": 13,
     "metadata": {},
     "output_type": "execute_result"
    },
    {
     "data": {
      "image/png": "[encoded data removed]",
      "text/latex": [
       "$\\displaystyle h{\\left(x \\right)} = C_{1} \\log{\\left(x \\right)}^{2}$"
      ],
      "text/plain": [
       "             2   \n",
       "h(x) = C₁⋅log (x)"
      ]
     },
     "execution_count": 13,
     "metadata": {},
     "output_type": "execute_result"
    }
   ],
   "source": [
    "h = sp.Function('h')(x)\n",
    "\n",
    "diff_eq = sp.Eq(h.diff(x), (2*h) / (x * sp.ln(x)))\n",
    "diff_eq\n",
    "\n",
    "sp.dsolve(diff_eq, h)"
   ]
  },
  {
   "cell_type": "code",
   "execution_count": 14,
   "id": "f3edd6c3-b441-43ed-8912-2a945ced024d",
   "metadata": {},
   "outputs": [
    {
     "data": {
      "image/png": "[encoded data removed]",
      "text/latex": [
       "$\\displaystyle \\frac{d}{d x} y{\\left(x \\right)} = x y^{2}{\\left(x \\right)}$"
      ],
      "text/plain": [
       "d             2   \n",
       "──(y(x)) = x⋅y (x)\n",
       "dx                "
      ]
     },
     "execution_count": 14,
     "metadata": {},
     "output_type": "execute_result"
    },
    {
     "data": {
      "image/png": "[encoded data removed]",
      "text/latex": [
       "$\\displaystyle y{\\left(x \\right)} = - \\frac{2}{C_{1} + x^{2}}$"
      ],
      "text/plain": [
       "         -2   \n",
       "y(x) = ───────\n",
       "             2\n",
       "       C₁ + x "
      ]
     },
     "execution_count": 14,
     "metadata": {},
     "output_type": "execute_result"
    }
   ],
   "source": [
    "y = sp.Function('y')(x)\n",
    "\n",
    "diff_eq = sp.Eq(y.diff(x), x*y**2)\n",
    "diff_eq\n",
    "\n",
    "sp.dsolve(diff_eq, y)"
   ]
  },
  {
   "cell_type": "code",
   "execution_count": 15,
   "id": "1bc2d1a3-faae-4c19-99c0-5e4ce7d4487d",
   "metadata": {},
   "outputs": [
    {
     "data": {
      "image/png": "[encoded data removed]",
      "text/latex": [
       "$\\displaystyle x^{2} \\frac{d}{d x} y{\\left(x \\right)} + e^{- y{\\left(x \\right)}} = 0$"
      ],
      "text/plain": [
       " 2 d           -y(x)    \n",
       "x ⋅──(y(x)) + ℯ      = 0\n",
       "   dx                   "
      ]
     },
     "execution_count": 15,
     "metadata": {},
     "output_type": "execute_result"
    },
    {
     "data": {
      "image/png": "[encoded data removed]",
      "text/latex": [
       "$\\displaystyle y{\\left(x \\right)} = \\log{\\left(C_{1} + \\frac{1}{x} \\right)}$"
      ],
      "text/plain": [
       "          ⎛     1⎞\n",
       "y(x) = log⎜C₁ + ─⎟\n",
       "          ⎝     x⎠"
      ]
     },
     "execution_count": 15,
     "metadata": {},
     "output_type": "execute_result"
    }
   ],
   "source": [
    "y = sp.Function('y')(x)\n",
    "\n",
    "diff_eq = sp.Eq(x**2 * y.diff(x) + sp.E**(-y), 0)\n",
    "diff_eq\n",
    "\n",
    "sp.dsolve(diff_eq, y)"
   ]
  },
  {
   "cell_type": "code",
   "execution_count": 16,
   "id": "d4671adb-eddf-4f91-9063-f94e40af7cf1",
   "metadata": {},
   "outputs": [
    {
     "data": {
      "image/png": "[encoded data removed]",
      "text/latex": [
       "$\\displaystyle \\frac{d}{d x} y{\\left(x \\right)} = - 4 x - 2 y{\\left(x \\right)} - 2$"
      ],
      "text/plain": [
       "d                           \n",
       "──(y(x)) = -4⋅x - 2⋅y(x) - 2\n",
       "dx                          "
      ]
     },
     "execution_count": 16,
     "metadata": {},
     "output_type": "execute_result"
    },
    {
     "data": {
      "image/png": "[encoded data removed]",
      "text/latex": [
       "$\\displaystyle y{\\left(x \\right)} = C_{1} e^{- 2 x} - 2 x$"
      ],
      "text/plain": [
       "           -2⋅x      \n",
       "y(x) = C₁⋅ℯ     - 2⋅x"
      ]
     },
     "execution_count": 16,
     "metadata": {},
     "output_type": "execute_result"
    }
   ],
   "source": [
    "y = sp.Function('y')(x)\n",
    "\n",
    "diff_eq = sp.Eq(y.diff(x), -4*x-2*y-2)\n",
    "diff_eq\n",
    "\n",
    "sp.dsolve(diff_eq, y)"
   ]
  },
  {
   "cell_type": "code",
   "execution_count": 17,
   "id": "cb4014fb-74d1-468c-b4d9-2e23d3839e4e",
   "metadata": {},
   "outputs": [
    {
     "data": {
      "image/png": "[encoded data removed]",
      "text/latex": [
       "$\\displaystyle \\frac{d}{d x} y{\\left(x \\right)} = 4 y{\\left(x \\right)}$"
      ],
      "text/plain": [
       "d                \n",
       "──(y(x)) = 4⋅y(x)\n",
       "dx               "
      ]
     },
     "execution_count": 17,
     "metadata": {},
     "output_type": "execute_result"
    },
    {
     "data": {
      "image/png": "[encoded data removed]",
      "text/latex": [
       "$\\displaystyle y{\\left(x \\right)} = C_{1} e^{4 x}$"
      ],
      "text/plain": [
       "           4⋅x\n",
       "y(x) = C₁⋅ℯ   "
      ]
     },
     "execution_count": 17,
     "metadata": {},
     "output_type": "execute_result"
    }
   ],
   "source": [
    "y = sp.Function('y')(x)\n",
    "\n",
    "diff_eq = sp.Eq(y.diff(x), 4*y)\n",
    "diff_eq\n",
    "\n",
    "sp.dsolve(diff_eq, y)"
   ]
  },
  {
   "cell_type": "code",
   "execution_count": 18,
   "id": "9942bda3-4863-4bbc-9b6a-1a28eacc136a",
   "metadata": {},
   "outputs": [
    {
     "data": {
      "image/png": "[encoded data removed]",
      "text/latex": [
       "$\\displaystyle \\frac{d}{d x} y{\\left(x \\right)} = x - y{\\left(x \\right)}$"
      ],
      "text/plain": [
       "d                  \n",
       "──(y(x)) = x - y(x)\n",
       "dx                 "
      ]
     },
     "execution_count": 18,
     "metadata": {},
     "output_type": "execute_result"
    },
    {
     "data": {
      "image/png": "[encoded data removed]",
      "text/latex": [
       "$\\displaystyle y{\\left(x \\right)} = C_{1} e^{- x} + x - 1$"
      ],
      "text/plain": [
       "           -x        \n",
       "y(x) = C₁⋅ℯ   + x - 1"
      ]
     },
     "execution_count": 18,
     "metadata": {},
     "output_type": "execute_result"
    }
   ],
   "source": [
    "y = sp.Function('y')(x)\n",
    "\n",
    "diff_eq = sp.Eq(y.diff(x), x-y)\n",
    "diff_eq\n",
    "\n",
    "sp.dsolve(diff_eq, y)"
   ]
  },
  {
   "cell_type": "code",
   "execution_count": null,
   "id": "f9c13982-3737-44d2-a561-c21f9e4dd66f",
   "metadata": {},
   "outputs": [],
   "source": []
  }
 ],
 "metadata": {
  "kernelspec": {
   "display_name": "Math",
   "language": "python",
   "name": "math"
  },
  "language_info": {
   "codemirror_mode": {
    "name": "ipython",
    "version": 3
   },
   "file_extension": ".py",
   "mimetype": "text/x-python",
   "name": "python",
   "nbconvert_exporter": "python",
   "pygments_lexer": "ipython3",
   "version": "3.8.13"
  }
 },
 "nbformat": 4,
 "nbformat_minor": 5
}
