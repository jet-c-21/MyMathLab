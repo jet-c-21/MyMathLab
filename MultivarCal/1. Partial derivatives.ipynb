{
 "cells": [
  {
   "cell_type": "code",
   "execution_count": 2,
   "id": "e70ac06b-3981-400e-bad8-ad87ded638fc",
   "metadata": {},
   "outputs": [
    {
     "name": "stdout",
     "output_type": "stream",
     "text": [
      "Added D:\\Dev\\MyMathLab to PATH\n"
     ]
    }
   ],
   "source": [
    "from IPython.core.interactiveshell import InteractiveShell\n",
    "InteractiveShell.ast_node_interactivity = 'all'\n",
    "\n",
    "# import self-made module\n",
    "import os, sys, pathlib\n",
    "file_path = os.path.abspath('')\n",
    "PROJECT_DIR = str(pathlib.Path(file_path).parent)\n",
    "sys.path.append(PROJECT_DIR)\n",
    "print(f\"Added {PROJECT_DIR} to PATH\")\n",
    "from athena import *\n",
    "\n",
    "# ult functions\n",
    "def reset_symbols():\n",
    "    global x, y, z, a, b, c, d, s, k, t, theta\n",
    "    x, y, z = sp.symbols('x y z', real=True)\n",
    "    a, b, c, d, s, k, t = sp.symbols('a b c d s k t', real=True)\n",
    "    theta = sp.Symbol('theta')"
   ]
  },
  {
   "cell_type": "code",
   "execution_count": 6,
   "id": "6c58ac95-fe57-490c-a027-b795f59937e2",
   "metadata": {},
   "outputs": [
    {
     "data": {
      "text/latex": [
       "$\\displaystyle \\frac{x + \\log{\\left(x \\right)}}{\\sin{\\left(y \\right)}}$"
      ],
      "text/plain": [
       "(x + log(x))/sin(y)"
      ]
     },
     "execution_count": 6,
     "metadata": {},
     "output_type": "execute_result"
    }
   ],
   "source": [
    "expr = (x + sp.ln(x)) / (sp.sin(y))\n",
    "expr"
   ]
  },
  {
   "cell_type": "code",
   "execution_count": 7,
   "id": "92d2555a-f227-49bf-a4df-aca86adf74d3",
   "metadata": {},
   "outputs": [
    {
     "data": {
      "text/latex": [
       "$\\displaystyle \\frac{1 + \\frac{1}{x}}{\\sin{\\left(y \\right)}}$"
      ],
      "text/plain": [
       "(1 + 1/x)/sin(y)"
      ]
     },
     "execution_count": 7,
     "metadata": {},
     "output_type": "execute_result"
    }
   ],
   "source": [
    "expr.diff(x)"
   ]
  },
  {
   "cell_type": "code",
   "execution_count": 8,
   "id": "af083cb8-4e3c-4950-ae99-b96929290f50",
   "metadata": {},
   "outputs": [
    {
     "data": {
      "text/latex": [
       "$\\displaystyle y^{2} \\log{\\left(\\sin{\\left(x \\right)} \\right)}$"
      ],
      "text/plain": [
       "y**2*log(sin(x))"
      ]
     },
     "execution_count": 8,
     "metadata": {},
     "output_type": "execute_result"
    }
   ],
   "source": [
    "expr = y**2*sp.ln(sp.sin(x))\n",
    "expr"
   ]
  },
  {
   "cell_type": "code",
   "execution_count": 9,
   "id": "1c916517-84d9-42b9-b6a5-dbbc0a2f34d5",
   "metadata": {},
   "outputs": [
    {
     "data": {
      "text/latex": [
       "$\\displaystyle 2 y \\log{\\left(\\sin{\\left(x \\right)} \\right)}$"
      ],
      "text/plain": [
       "2*y*log(sin(x))"
      ]
     },
     "execution_count": 9,
     "metadata": {},
     "output_type": "execute_result"
    }
   ],
   "source": [
    "expr.diff(y)"
   ]
  },
  {
   "cell_type": "code",
   "execution_count": 10,
   "id": "0e434893-e7cb-4dd7-b13a-b796ce534730",
   "metadata": {},
   "outputs": [
    {
     "data": {
      "text/latex": [
       "$\\displaystyle 2^{a} \\left(b + 1\\right)$"
      ],
      "text/plain": [
       "2**a*(b + 1)"
      ]
     },
     "execution_count": 10,
     "metadata": {},
     "output_type": "execute_result"
    }
   ],
   "source": [
    "expr = 2 ** a*(1+b)\n",
    "expr"
   ]
  },
  {
   "cell_type": "code",
   "execution_count": 11,
   "id": "30ac7ae2-5fbe-48d7-b0bf-9f8e9da68fc6",
   "metadata": {},
   "outputs": [
    {
     "data": {
      "text/latex": [
       "$\\displaystyle 2^{a}$"
      ],
      "text/plain": [
       "2**a"
      ]
     },
     "execution_count": 11,
     "metadata": {},
     "output_type": "execute_result"
    }
   ],
   "source": [
    "expr.diff(b)"
   ]
  },
  {
   "cell_type": "code",
   "execution_count": 12,
   "id": "af5af3c2-7b76-40bb-9be6-d72962833158",
   "metadata": {},
   "outputs": [
    {
     "data": {
      "text/latex": [
       "$\\displaystyle - y^{2} \\sin{\\left(x \\right)}$"
      ],
      "text/plain": [
       "-y**2*sin(x)"
      ]
     },
     "execution_count": 12,
     "metadata": {},
     "output_type": "execute_result"
    }
   ],
   "source": [
    "expr = y**2*sp.sin(x)\n",
    "expr.diff(x,x)"
   ]
  },
  {
   "cell_type": "code",
   "execution_count": 15,
   "id": "317cad8f-7968-41d9-b4ae-c80e63a2f590",
   "metadata": {},
   "outputs": [
    {
     "data": {
      "text/latex": [
       "$\\displaystyle 1$"
      ],
      "text/plain": [
       "1"
      ]
     },
     "execution_count": 15,
     "metadata": {},
     "output_type": "execute_result"
    }
   ],
   "source": [
    "expr = x**2 + y**2 + x*y\n",
    "expr.diff(x,y)"
   ]
  },
  {
   "cell_type": "code",
   "execution_count": 17,
   "id": "f39f2241-4a16-4069-bae6-7f87065280e9",
   "metadata": {},
   "outputs": [
    {
     "data": {
      "text/latex": [
       "$\\displaystyle \\sin{\\left(x \\right)}$"
      ],
      "text/plain": [
       "sin(x)"
      ]
     },
     "execution_count": 17,
     "metadata": {},
     "output_type": "execute_result"
    }
   ],
   "source": [
    "expr = sp.cos(x)  + sp.sin(y)\n",
    "expr.diff(x,x,x)"
   ]
  },
  {
   "cell_type": "code",
   "execution_count": 18,
   "id": "286ba1bd-5e45-450e-8c86-8f7f64b897dc",
   "metadata": {},
   "outputs": [
    {
     "data": {
      "text/latex": [
       "$\\displaystyle \\frac{2 x y^{2 x} \\left(2 x - 1\\right)}{y^{2}}$"
      ],
      "text/plain": [
       "2*x*y**(2*x)*(2*x - 1)/y**2"
      ]
     },
     "execution_count": 18,
     "metadata": {},
     "output_type": "execute_result"
    }
   ],
   "source": [
    "expr = y ** (2*x)\n",
    "expr.diff(y,y)"
   ]
  },
  {
   "cell_type": "code",
   "execution_count": null,
   "id": "cebeb2a5-0d04-40af-9312-d47b89eaae90",
   "metadata": {},
   "outputs": [],
   "source": []
  }
 ],
 "metadata": {
  "kernelspec": {
   "display_name": "Math",
   "language": "python",
   "name": "math"
  },
  "language_info": {
   "codemirror_mode": {
    "name": "ipython",
    "version": 3
   },
   "file_extension": ".py",
   "mimetype": "text/x-python",
   "name": "python",
   "nbconvert_exporter": "python",
   "pygments_lexer": "ipython3",
   "version": "3.8.13"
  }
 },
 "nbformat": 4,
 "nbformat_minor": 5
}
