{
 "cells": [
  {
   "cell_type": "code",
   "execution_count": 1,
   "id": "7767c75c-023d-459e-b26e-123fdf9d0092",
   "metadata": {},
   "outputs": [
    {
     "name": "stdout",
     "output_type": "stream",
     "text": [
      "Added D:\\Dev\\MyMathLab to PATH\n"
     ]
    }
   ],
   "source": [
    "from IPython.core.interactiveshell import InteractiveShell\n",
    "InteractiveShell.ast_node_interactivity = 'all'\n",
    "\n",
    "# import self-made module\n",
    "import os, sys, pathlib\n",
    "file_path = os.path.abspath('')\n",
    "PROJECT_DIR = str(pathlib.Path(file_path).parent)\n",
    "sys.path.append(PROJECT_DIR)\n",
    "print(f\"Added {PROJECT_DIR} to PATH\")\n",
    "from athena import *\n",
    "\n",
    "# ult functions\n",
    "def reset_symbols():\n",
    "    global x, y, z, a, b, c, d, s, k, t, theta\n",
    "    x, y, z = sp.symbols('x y z', real=True)\n",
    "    a, b, c, d, s, k, t = sp.symbols('a b c d s k t', real=True)\n",
    "    theta = sp.Symbol('theta')"
   ]
  },
  {
   "cell_type": "code",
   "execution_count": 18,
   "id": "869d944e-a5ef-4fc5-85ee-58268f12ac57",
   "metadata": {},
   "outputs": [
    {
     "data": {
      "text/latex": [
       "$\\displaystyle \\left[\\begin{matrix}y + z\\\\\\cos{\\left(y z \\right)}\\\\x^{2} - 1\\end{matrix}\\right]$"
      ],
      "text/plain": [
       "Matrix([\n",
       "[   y + z],\n",
       "[cos(y*z)],\n",
       "[x**2 - 1]])"
      ]
     },
     "execution_count": 18,
     "metadata": {},
     "output_type": "execute_result"
    },
    {
     "data": {
      "text/latex": [
       "$\\displaystyle \\left[\\begin{matrix}0 & 1 & 1\\\\0 & - z \\sin{\\left(y z \\right)} & - y \\sin{\\left(y z \\right)}\\\\2 x & 0 & 0\\end{matrix}\\right]$"
      ],
      "text/plain": [
       "Matrix([\n",
       "[  0,           1,           1],\n",
       "[  0, -z*sin(y*z), -y*sin(y*z)],\n",
       "[2*x,           0,           0]])"
      ]
     },
     "execution_count": 18,
     "metadata": {},
     "output_type": "execute_result"
    }
   ],
   "source": [
    "f = sp.Matrix([y+z, sp.cos(y*z), x**2 - 1])\n",
    "f\n",
    "f.jacobian(sorted(list(f.free_symbols), key=lambda x: x.name))"
   ]
  },
  {
   "cell_type": "code",
   "execution_count": 20,
   "id": "b8c5399a-7aa6-4d2c-93dc-948dd7a91eae",
   "metadata": {},
   "outputs": [
    {
     "data": {
      "text/latex": [
       "$\\displaystyle \\left[\\begin{matrix}- x^{2} + y\\\\x y^{2} + 2 x\\\\x^{3} - y^{2} + y\\end{matrix}\\right]$"
      ],
      "text/plain": [
       "Matrix([\n",
       "[      -x**2 + y],\n",
       "[   x*y**2 + 2*x],\n",
       "[x**3 - y**2 + y]])"
      ]
     },
     "execution_count": 20,
     "metadata": {},
     "output_type": "execute_result"
    },
    {
     "data": {
      "text/latex": [
       "$\\displaystyle \\left[\\begin{matrix}- 2 x & 1\\\\y^{2} + 2 & 2 x y\\\\3 x^{2} & 1 - 2 y\\end{matrix}\\right]$"
      ],
      "text/plain": [
       "Matrix([\n",
       "[    -2*x,       1],\n",
       "[y**2 + 2,   2*x*y],\n",
       "[  3*x**2, 1 - 2*y]])"
      ]
     },
     "execution_count": 20,
     "metadata": {},
     "output_type": "execute_result"
    }
   ],
   "source": [
    "f = sp.Matrix([y-x**2, 2*x + y**2 * x, x**3 + y - y**2])\n",
    "f\n",
    "f.jacobian(sorted(list(f.free_symbols), key=lambda x: x.name))"
   ]
  },
  {
   "cell_type": "code",
   "execution_count": 21,
   "id": "c5746920-d72e-42f1-9d30-83b9aa7cbc35",
   "metadata": {},
   "outputs": [
    {
     "data": {
      "text/latex": [
       "$\\displaystyle \\left[\\begin{matrix}y \\sin{\\left(z \\right)}\\\\x^{3} - x z\\\\x y + 3\\end{matrix}\\right]$"
      ],
      "text/plain": [
       "Matrix([\n",
       "[  y*sin(z)],\n",
       "[x**3 - x*z],\n",
       "[   x*y + 3]])"
      ]
     },
     "execution_count": 21,
     "metadata": {},
     "output_type": "execute_result"
    },
    {
     "data": {
      "text/latex": [
       "$\\displaystyle \\left[\\begin{matrix}0 & \\sin{\\left(z \\right)} & y \\cos{\\left(z \\right)}\\\\3 x^{2} - z & 0 & - x\\\\y & x & 0\\end{matrix}\\right]$"
      ],
      "text/plain": [
       "Matrix([\n",
       "[         0, sin(z), y*cos(z)],\n",
       "[3*x**2 - z,      0,       -x],\n",
       "[         y,      x,        0]])"
      ]
     },
     "execution_count": 21,
     "metadata": {},
     "output_type": "execute_result"
    }
   ],
   "source": [
    "f = sp.Matrix([y*sp.sin(z), x**3 - x*z, 3+x*y])\n",
    "f\n",
    "f.jacobian(sorted(list(f.free_symbols), key=lambda x: x.name))"
   ]
  },
  {
   "cell_type": "code",
   "execution_count": 22,
   "id": "f81cdccc-b15d-4cc6-a1c2-ed5fe2ce4275",
   "metadata": {},
   "outputs": [
    {
     "data": {
      "text/latex": [
       "$\\displaystyle \\left[\\begin{matrix}x z - \\sin{\\left(y \\right)}\\\\x + y^{2}\\end{matrix}\\right]$"
      ],
      "text/plain": [
       "Matrix([\n",
       "[x*z - sin(y)],\n",
       "[    x + y**2]])"
      ]
     },
     "execution_count": 22,
     "metadata": {},
     "output_type": "execute_result"
    },
    {
     "data": {
      "text/latex": [
       "$\\displaystyle \\left[\\begin{matrix}z & - \\cos{\\left(y \\right)} & x\\\\1 & 2 y & 0\\end{matrix}\\right]$"
      ],
      "text/plain": [
       "Matrix([\n",
       "[z, -cos(y), x],\n",
       "[1,     2*y, 0]])"
      ]
     },
     "execution_count": 22,
     "metadata": {},
     "output_type": "execute_result"
    }
   ],
   "source": [
    "f = sp.Matrix([x*z - sp.sin(y), y**2 + x])\n",
    "f\n",
    "f.jacobian(sorted(list(f.free_symbols), key=lambda x: x.name))"
   ]
  },
  {
   "cell_type": "code",
   "execution_count": 26,
   "id": "f24b8aed-c8fd-4d1a-9a53-9764fc657ce7",
   "metadata": {},
   "outputs": [
    {
     "data": {
      "text/latex": [
       "$\\displaystyle \\left[\\begin{matrix}3 x^{2} - 4 & 0\\\\0 & 3 y^{2} - 4\\end{matrix}\\right]$"
      ],
      "text/plain": [
       "Matrix([\n",
       "[3*x**2 - 4,          0],\n",
       "[         0, 3*y**2 - 4]])"
      ]
     },
     "execution_count": 26,
     "metadata": {},
     "output_type": "execute_result"
    },
    {
     "data": {
      "text/latex": [
       "$\\displaystyle 9 x^{2} y^{2} - 12 x^{2} - 12 y^{2} + 16$"
      ],
      "text/plain": [
       "9*x**2*y**2 - 12*x**2 - 12*y**2 + 16"
      ]
     },
     "execution_count": 26,
     "metadata": {},
     "output_type": "execute_result"
    }
   ],
   "source": [
    "f = sp.Matrix([(3*x**2 - 4, 0), (0, 3*y**2 - 4)])\n",
    "f\n",
    "f.det()"
   ]
  },
  {
   "cell_type": "code",
   "execution_count": null,
   "id": "087843c1-69bc-4aa9-8dd6-29855375ffa9",
   "metadata": {},
   "outputs": [],
   "source": []
  }
 ],
 "metadata": {
  "kernelspec": {
   "display_name": "Math",
   "language": "python",
   "name": "math"
  },
  "language_info": {
   "codemirror_mode": {
    "name": "ipython",
    "version": 3
   },
   "file_extension": ".py",
   "mimetype": "text/x-python",
   "name": "python",
   "nbconvert_exporter": "python",
   "pygments_lexer": "ipython3",
   "version": "3.8.13"
  }
 },
 "nbformat": 4,
 "nbformat_minor": 5
}
