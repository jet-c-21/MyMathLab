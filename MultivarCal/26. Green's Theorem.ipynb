{
 "cells": [
  {
   "cell_type": "code",
   "execution_count": 1,
   "id": "21d43909-9cfa-4ee1-8e41-676fc6083a16",
   "metadata": {},
   "outputs": [
    {
     "name": "stdout",
     "output_type": "stream",
     "text": [
      "Added D:\\Dev\\Code\\MyMathLab to PATH\n"
     ]
    }
   ],
   "source": [
    "from IPython.core.interactiveshell import InteractiveShell\n",
    "InteractiveShell.ast_node_interactivity = 'all'\n",
    "\n",
    "# import self-made module\n",
    "import os, sys, pathlib\n",
    "file_path = os.path.abspath('')\n",
    "PROJECT_DIR = str(pathlib.Path(file_path).parent)\n",
    "sys.path.append(PROJECT_DIR)\n",
    "print(f\"Added {PROJECT_DIR} to PATH\")\n",
    "from athena import *\n",
    "from sympy.vector import CoordSys3D, gradient, curl, ParametricRegion, vector_integrate, scalar_potential\n",
    "from sympy.integrals.manualintegrate import integral_steps\n",
    "\n",
    "sp.init_printing()\n",
    "\n",
    "# ult functions\n",
    "def reset_symbols():\n",
    "    global x, y, z, a, b, c, d, e, f, g, h, r, s, k, t, u, v, theta, lmda, rho, phi\n",
    "    x, y, z = sp.symbols('x y z', real=True)\n",
    "    a, b, c, d, e, f, g, h, r, s, k, t, u, v = sp.symbols('a b c d e f g h r s k t u v', real=True)\n",
    "    theta = sp.Symbol('theta')\n",
    "    lmda = sp.Symbol('lambda')\n",
    "    rho = sp.Symbol('rho')\n",
    "    phi = sp.Symbol('phi')\n",
    "    \n",
    "\n",
    "reset_symbols()"
   ]
  },
  {
   "cell_type": "code",
   "execution_count": 2,
   "id": "4080b61a-2cad-4967-9826-7b814c0b3956",
   "metadata": {},
   "outputs": [
    {
     "data": {
      "image/png": "[encoded data removed]",
      "text/latex": [
       "$\\displaystyle \\left(x^{2} - y^{2}\\right)\\mathbf{\\hat{i}_{.}} + \\left(2 x y\\right)\\mathbf{\\hat{j}_{.}}$"
      ],
      "text/plain": [
       "⎛ 2    2⎞                   \n",
       "⎝x  - y ⎠ i_.  + (2⋅x⋅y) j_."
      ]
     },
     "execution_count": 2,
     "metadata": {},
     "output_type": "execute_result"
    },
    {
     "data": {
      "image/png": "[encoded data removed]",
      "text/latex": [
       "$\\displaystyle 4 y$"
      ],
      "text/plain": [
       "4⋅y"
      ]
     },
     "execution_count": 2,
     "metadata": {},
     "output_type": "execute_result"
    },
    {
     "data": {
      "image/png": "[encoded data removed]",
      "text/latex": [
       "$\\displaystyle \\frac{16}{15}$"
      ],
      "text/plain": [
       "16\n",
       "──\n",
       "15"
      ]
     },
     "execution_count": 2,
     "metadata": {},
     "output_type": "execute_result"
    }
   ],
   "source": [
    "C = CoordSys3D('.')\n",
    "vf = (x**2 - y**2) * C.i + (2*x*y) * C.j\n",
    "vf\n",
    "\n",
    "Q = vf.coeff(C.j)\n",
    "Q_dx = Q.diff(x)\n",
    "\n",
    "P = vf.coeff(C.i)\n",
    "P_dy = P.diff(y)\n",
    "\n",
    "integrand = Q_dx - P_dy\n",
    "integrand\n",
    "\n",
    "integrand.integrate((y, 2*x**2, 2*x), (x, 0, 1))"
   ]
  },
  {
   "cell_type": "code",
   "execution_count": 3,
   "id": "04f038a3-eff2-4be9-aa7f-e0478cd8d448",
   "metadata": {},
   "outputs": [
    {
     "data": {
      "image/png": "[encoded data removed]",
      "text/latex": [
       "$\\displaystyle \\left(2 y\\right)\\mathbf{\\hat{i}_{.}} + \\left(- 3 x\\right)\\mathbf{\\hat{j}_{.}}$"
      ],
      "text/plain": [
       "(2⋅y) i_. + (-3⋅x) j_."
      ]
     },
     "execution_count": 3,
     "metadata": {},
     "output_type": "execute_result"
    },
    {
     "data": {
      "image/png": "[encoded data removed]",
      "text/latex": [
       "$\\displaystyle -5$"
      ],
      "text/plain": [
       "-5"
      ]
     },
     "execution_count": 3,
     "metadata": {},
     "output_type": "execute_result"
    },
    {
     "data": {
      "image/png": "[encoded data removed]",
      "text/latex": [
       "$\\displaystyle - 5 \\pi$"
      ],
      "text/plain": [
       "-5⋅π"
      ]
     },
     "execution_count": 3,
     "metadata": {},
     "output_type": "execute_result"
    }
   ],
   "source": [
    "C = CoordSys3D('.')\n",
    "vf = (2*y) * C.i + (-3*x) * C.j\n",
    "vf\n",
    "\n",
    "Q = vf.coeff(C.j)\n",
    "Q_dx = Q.diff(x)\n",
    "\n",
    "P = vf.coeff(C.i)\n",
    "P_dy = P.diff(y)\n",
    "\n",
    "integrand = Q_dx - P_dy\n",
    "integrand\n",
    "\n",
    "integrand.integrate((y, -sp.sqrt(1-x**2), sp.sqrt(1-x**2)), (x, -1, 1))"
   ]
  },
  {
   "cell_type": "code",
   "execution_count": 4,
   "id": "4a445ac0-3a36-49f9-8d34-8853a154f1fa",
   "metadata": {},
   "outputs": [
    {
     "data": {
      "image/png": "[encoded data removed]",
      "text/latex": [
       "$\\displaystyle \\sin{\\left(y \\right)}$"
      ],
      "text/plain": [
       "sin(y)"
      ]
     },
     "execution_count": 4,
     "metadata": {},
     "output_type": "execute_result"
    },
    {
     "data": {
      "image/png": "[encoded data removed]",
      "text/latex": [
       "$\\displaystyle - \\cos{\\left(y \\right)}$"
      ],
      "text/plain": [
       "-cos(y)"
      ]
     },
     "execution_count": 4,
     "metadata": {},
     "output_type": "execute_result"
    },
    {
     "data": {
      "image/png": "[encoded data removed]",
      "text/latex": [
       "$\\displaystyle 10 x y^{2}$"
      ],
      "text/plain": [
       "      2\n",
       "10⋅x⋅y "
      ]
     },
     "execution_count": 4,
     "metadata": {},
     "output_type": "execute_result"
    },
    {
     "data": {
      "image/png": "[encoded data removed]",
      "text/latex": [
       "$\\displaystyle 5 x^{2} y^{2}$"
      ],
      "text/plain": [
       "   2  2\n",
       "5⋅x ⋅y "
      ]
     },
     "execution_count": 4,
     "metadata": {},
     "output_type": "execute_result"
    }
   ],
   "source": [
    "expr = sp.sin(y)\n",
    "expr\n",
    "expr.integrate(y)\n",
    "\n",
    "expr = 10*x*y**2\n",
    "expr\n",
    "expr.integrate(x)\n"
   ]
  },
  {
   "cell_type": "code",
   "execution_count": 5,
   "id": "935a6102-a863-4ffa-96ac-e83d1696d267",
   "metadata": {},
   "outputs": [
    {
     "data": {
      "image/png": "[encoded data removed]",
      "text/latex": [
       "$\\displaystyle \\left(e^{x y}\\right)\\mathbf{\\hat{i}_{.}} + \\left(e^{x} + e^{y}\\right)\\mathbf{\\hat{j}_{.}}$"
      ],
      "text/plain": [
       "⎛ x⋅y⎞        ⎛ x    y⎞     \n",
       "⎝ℯ   ⎠ i_.  + ⎝ℯ  + ℯ ⎠ j_. "
      ]
     },
     "execution_count": 5,
     "metadata": {},
     "output_type": "execute_result"
    },
    {
     "data": {
      "image/png": "[encoded data removed]",
      "text/latex": [
       "$\\displaystyle - x e^{x y} + e^{x}$"
      ],
      "text/plain": [
       "     x⋅y    x\n",
       "- x⋅ℯ    + ℯ "
      ]
     },
     "execution_count": 5,
     "metadata": {},
     "output_type": "execute_result"
    }
   ],
   "source": [
    "C = CoordSys3D('.')\n",
    "vf = (sp.E**(x*y)) * C.i + (sp.E**x + sp.E**y) * C.j\n",
    "vf\n",
    "\n",
    "Q = vf.coeff(C.j)\n",
    "Q_dx = Q.diff(x)\n",
    "\n",
    "P = vf.coeff(C.i)\n",
    "P_dy = P.diff(y)\n",
    "\n",
    "integrand = Q_dx - P_dy\n",
    "integrand"
   ]
  },
  {
   "cell_type": "code",
   "execution_count": 9,
   "id": "f1fd099b-bdf7-45a4-9dd0-80e47d8b393b",
   "metadata": {},
   "outputs": [
    {
     "data": {
      "image/png": "[encoded data removed]",
      "text/latex": [
       "$\\displaystyle \\left(x^{2} y\\right)\\mathbf{\\hat{i}_{.}} + \\left(- y^{2}\\right)\\mathbf{\\hat{j}_{.}}$"
      ],
      "text/plain": [
       "⎛ 2  ⎞        ⎛  2⎞     \n",
       "⎝x ⋅y⎠ i_.  + ⎝-y ⎠ j_. "
      ]
     },
     "execution_count": 9,
     "metadata": {},
     "output_type": "execute_result"
    },
    {
     "data": {
      "image/png": "[encoded data removed]",
      "text/latex": [
       "$\\displaystyle 0$"
      ],
      "text/plain": [
       "0"
      ]
     },
     "execution_count": 9,
     "metadata": {},
     "output_type": "execute_result"
    },
    {
     "data": {
      "image/png": "[encoded data removed]",
      "text/latex": [
       "$\\displaystyle x^{2}$"
      ],
      "text/plain": [
       " 2\n",
       "x "
      ]
     },
     "execution_count": 9,
     "metadata": {},
     "output_type": "execute_result"
    },
    {
     "data": {
      "image/png": "[encoded data removed]",
      "text/latex": [
       "$\\displaystyle - x^{2}$"
      ],
      "text/plain": [
       "  2\n",
       "-x "
      ]
     },
     "execution_count": 9,
     "metadata": {},
     "output_type": "execute_result"
    },
    {
     "data": {
      "image/png": "[encoded data removed]",
      "text/latex": [
       "$\\displaystyle - \\frac{512}{35}$"
      ],
      "text/plain": [
       "-512 \n",
       "─────\n",
       "  35 "
      ]
     },
     "execution_count": 9,
     "metadata": {},
     "output_type": "execute_result"
    }
   ],
   "source": [
    "C = CoordSys3D('.')\n",
    "vf = (x**2 * y) * C.i + (-y**2) * C.j\n",
    "vf\n",
    "\n",
    "Q = vf.coeff(C.j)\n",
    "Q_dx = Q.diff(x)\n",
    "Q_dx\n",
    "\n",
    "P = vf.coeff(C.i)\n",
    "P_dy = P.diff(y)\n",
    "P_dy\n",
    "\n",
    "integrand = Q_dx - P_dy\n",
    "integrand\n",
    "\n",
    "integrand.integrate( (y, ((x**2-4)*(x**2-1)), 4-x**2), (x, -2, 2) )"
   ]
  },
  {
   "cell_type": "markdown",
   "id": "bfd9bc22-c669-4012-8e02-e71ffd53e379",
   "metadata": {},
   "source": [
    "# Normal Form of Green's theorem"
   ]
  },
  {
   "cell_type": "code",
   "execution_count": 15,
   "id": "5f17772b-936c-4bce-b656-57709bafb9e1",
   "metadata": {},
   "outputs": [
    {
     "data": {
      "image/png": "[encoded data removed]",
      "text/latex": [
       "$\\displaystyle \\left(x^{2} y^{2}\\right)\\mathbf{\\hat{i}_{.}} + \\left(- 2 x y - 5 y^{4}\\right)\\mathbf{\\hat{j}_{.}}$"
      ],
      "text/plain": [
       "⎛ 2  2⎞        ⎛            4⎞     \n",
       "⎝x ⋅y ⎠ i_.  + ⎝-2⋅x⋅y - 5⋅y ⎠ j_. "
      ]
     },
     "execution_count": 15,
     "metadata": {},
     "output_type": "execute_result"
    },
    {
     "data": {
      "image/png": "[encoded data removed]",
      "text/latex": [
       "$\\displaystyle - x^{2} y^{2}$"
      ],
      "text/plain": [
       "  2  2\n",
       "-x ⋅y "
      ]
     },
     "execution_count": 15,
     "metadata": {},
     "output_type": "execute_result"
    },
    {
     "data": {
      "image/png": "[encoded data removed]",
      "text/latex": [
       "$\\displaystyle - 2 x^{2} y$"
      ],
      "text/plain": [
       "    2  \n",
       "-2⋅x ⋅y"
      ]
     },
     "execution_count": 15,
     "metadata": {},
     "output_type": "execute_result"
    },
    {
     "data": {
      "image/png": "[encoded data removed]",
      "text/latex": [
       "$\\displaystyle - 2 x y - 5 y^{4}$"
      ],
      "text/plain": [
       "            4\n",
       "-2⋅x⋅y - 5⋅y "
      ]
     },
     "execution_count": 15,
     "metadata": {},
     "output_type": "execute_result"
    },
    {
     "data": {
      "image/png": "[encoded data removed]",
      "text/latex": [
       "$\\displaystyle - 2 y$"
      ],
      "text/plain": [
       "-2⋅y"
      ]
     },
     "execution_count": 15,
     "metadata": {},
     "output_type": "execute_result"
    },
    {
     "data": {
      "image/png": "[encoded data removed]",
      "text/latex": [
       "$\\displaystyle - 2 y \\left(x^{2} + 1\\right)$"
      ],
      "text/plain": [
       "     ⎛ 2    ⎞\n",
       "-2⋅y⋅⎝x  + 1⎠"
      ]
     },
     "execution_count": 15,
     "metadata": {},
     "output_type": "execute_result"
    }
   ],
   "source": [
    "C = CoordSys3D('.')\n",
    "vf = (x**2 * y**2) * C.i + (-5*y**4 - 2 *x *y) * C.j\n",
    "vf\n",
    "\n",
    "Q = - vf.coeff(C.i)\n",
    "Q\n",
    "Q_dy = Q.diff(y)\n",
    "Q_dy\n",
    "\n",
    "P = vf.coeff(C.j)\n",
    "P\n",
    "P_dx = P.diff(x)\n",
    "P_dx\n",
    "\n",
    "integrand = P_dx + Q_dy\n",
    "integrand.factor()"
   ]
  },
  {
   "cell_type": "code",
   "execution_count": 16,
   "id": "55d21bca-010f-46fd-a957-192410997f89",
   "metadata": {},
   "outputs": [
    {
     "data": {
      "image/png": "[encoded data removed]",
      "text/latex": [
       "$\\displaystyle 2 x y^{3}$"
      ],
      "text/plain": [
       "     3\n",
       "2⋅x⋅y "
      ]
     },
     "execution_count": 16,
     "metadata": {},
     "output_type": "execute_result"
    }
   ],
   "source": [
    "(2*y**3).integrate(x)"
   ]
  },
  {
   "cell_type": "code",
   "execution_count": null,
   "id": "1a2ee3a8-3a22-46c9-94a9-d175d9c8b4ab",
   "metadata": {},
   "outputs": [],
   "source": []
  },
  {
   "cell_type": "code",
   "execution_count": null,
   "id": "eeb6f4df-273e-4dee-aacc-c3d563bf81e4",
   "metadata": {},
   "outputs": [],
   "source": []
  }
 ],
 "metadata": {
  "kernelspec": {
   "display_name": "Math",
   "language": "python",
   "name": "math"
  },
  "language_info": {
   "codemirror_mode": {
    "name": "ipython",
    "version": 3
   },
   "file_extension": ".py",
   "mimetype": "text/x-python",
   "name": "python",
   "nbconvert_exporter": "python",
   "pygments_lexer": "ipython3",
   "version": "3.8.13"
  }
 },
 "nbformat": 4,
 "nbformat_minor": 5
}
