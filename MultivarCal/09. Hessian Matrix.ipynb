{
 "cells": [
  {
   "cell_type": "code",
   "execution_count": 1,
   "id": "570696b4-2cab-4b7b-9c04-03f0bf0148cb",
   "metadata": {},
   "outputs": [
    {
     "name": "stdout",
     "output_type": "stream",
     "text": [
      "Added D:\\Dev\\MyMathLab to PATH\n"
     ]
    }
   ],
   "source": [
    "from IPython.core.interactiveshell import InteractiveShell\n",
    "InteractiveShell.ast_node_interactivity = 'all'\n",
    "\n",
    "# import self-made module\n",
    "import os, sys, pathlib\n",
    "file_path = os.path.abspath('')\n",
    "PROJECT_DIR = str(pathlib.Path(file_path).parent)\n",
    "sys.path.append(PROJECT_DIR)\n",
    "print(f\"Added {PROJECT_DIR} to PATH\")\n",
    "from athena import *\n",
    "\n",
    "# ult functions\n",
    "def reset_symbols():\n",
    "    global x, y, z, a, b, c, d, s, k, t, theta\n",
    "    x, y, z = sp.symbols('x y z', real=True)\n",
    "    a, b, c, d, s, k, t = sp.symbols('a b c d s k t', real=True)\n",
    "    theta = sp.Symbol('theta')"
   ]
  },
  {
   "cell_type": "code",
   "execution_count": 2,
   "id": "32545f0c-54ae-4d01-bf5c-cd63291f6704",
   "metadata": {},
   "outputs": [],
   "source": [
    "from sympy import Function, hessian, pprint"
   ]
  },
  {
   "cell_type": "code",
   "execution_count": 5,
   "id": "f9826749-883c-437b-9b25-e51b0d6fb931",
   "metadata": {},
   "outputs": [
    {
     "data": {
      "text/latex": [
       "$\\displaystyle \\log{\\left(x \\right)} \\log{\\left(y \\right)}$"
      ],
      "text/plain": [
       "log(x)*log(y)"
      ]
     },
     "execution_count": 5,
     "metadata": {},
     "output_type": "execute_result"
    },
    {
     "data": {
      "text/latex": [
       "$\\displaystyle \\left[\\begin{matrix}- \\frac{\\log{\\left(y \\right)}}{x^{2}} & \\frac{1}{x y}\\\\\\frac{1}{x y} & - \\frac{\\log{\\left(x \\right)}}{y^{2}}\\end{matrix}\\right]$"
      ],
      "text/plain": [
       "Matrix([\n",
       "[-log(y)/x**2,      1/(x*y)],\n",
       "[     1/(x*y), -log(x)/y**2]])"
      ]
     },
     "execution_count": 5,
     "metadata": {},
     "output_type": "execute_result"
    }
   ],
   "source": [
    "f = sp.ln(x) * sp.ln(y)\n",
    "f\n",
    "\n",
    "hessian(f, sorted(list(f.free_symbols), key=lambda x: x.name))"
   ]
  },
  {
   "cell_type": "code",
   "execution_count": 6,
   "id": "6c102401-064c-4b5a-9637-3481b2e20fb2",
   "metadata": {},
   "outputs": [
    {
     "data": {
      "text/latex": [
       "$\\displaystyle \\sin{\\left(y \\right)} + \\cos{\\left(x \\right)}$"
      ],
      "text/plain": [
       "sin(y) + cos(x)"
      ]
     },
     "execution_count": 6,
     "metadata": {},
     "output_type": "execute_result"
    },
    {
     "data": {
      "text/latex": [
       "$\\displaystyle \\left[\\begin{matrix}- \\cos{\\left(x \\right)} & 0\\\\0 & - \\sin{\\left(y \\right)}\\end{matrix}\\right]$"
      ],
      "text/plain": [
       "Matrix([\n",
       "[-cos(x),       0],\n",
       "[      0, -sin(y)]])"
      ]
     },
     "execution_count": 6,
     "metadata": {},
     "output_type": "execute_result"
    }
   ],
   "source": [
    "f = sp.cos(x) + sp.sin(y)\n",
    "f\n",
    "\n",
    "hessian(f, sorted(list(f.free_symbols), key=lambda x: x.name))"
   ]
  },
  {
   "cell_type": "code",
   "execution_count": null,
   "id": "5a42b925-e212-450d-a8c8-b6c74c3219db",
   "metadata": {},
   "outputs": [],
   "source": []
  }
 ],
 "metadata": {
  "kernelspec": {
   "display_name": "Math",
   "language": "python",
   "name": "math"
  },
  "language_info": {
   "codemirror_mode": {
    "name": "ipython",
    "version": 3
   },
   "file_extension": ".py",
   "mimetype": "text/x-python",
   "name": "python",
   "nbconvert_exporter": "python",
   "pygments_lexer": "ipython3",
   "version": "3.8.13"
  }
 },
 "nbformat": 4,
 "nbformat_minor": 5
}
