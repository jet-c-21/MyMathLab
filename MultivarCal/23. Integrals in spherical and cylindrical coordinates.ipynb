{
 "cells": [
  {
   "cell_type": "code",
   "execution_count": 5,
   "id": "7f0e4268-5d3f-42e8-aec4-8787f83cf042",
   "metadata": {},
   "outputs": [
    {
     "name": "stdout",
     "output_type": "stream",
     "text": [
      "Added D:\\Dev\\MyMathLab to PATH\n"
     ]
    }
   ],
   "source": [
    "from IPython.core.interactiveshell import InteractiveShell\n",
    "InteractiveShell.ast_node_interactivity = 'all'\n",
    "\n",
    "# import self-made module\n",
    "import os, sys, pathlib\n",
    "file_path = os.path.abspath('')\n",
    "PROJECT_DIR = str(pathlib.Path(file_path).parent)\n",
    "sys.path.append(PROJECT_DIR)\n",
    "print(f\"Added {PROJECT_DIR} to PATH\")\n",
    "from athena import *\n",
    "from sympy.vector import CoordSys3D, gradient, curl, ParametricRegion, vector_integrate, scalar_potential\n",
    "from sympy.integrals.manualintegrate import integral_steps\n",
    "\n",
    "sp.init_printing()\n",
    "\n",
    "# ult functions\n",
    "def reset_symbols():\n",
    "    global x, y, z, a, b, c, d, e, f, g, h, r, s, k, t, u, v, theta, lmda, rho, phi\n",
    "    x, y, z = sp.symbols('x y z', real=True)\n",
    "    a, b, c, d, e, f, g, h, r, s, k, t, u, v = sp.symbols('a b c d e f g h r s k t u v', real=True)\n",
    "    theta = sp.Symbol('theta')\n",
    "    lmda = sp.Symbol('lambda')\n",
    "    rho = sp.Symbol('rho')\n",
    "    phi = sp.Symbol('phi')\n",
    "    \n",
    "\n",
    "reset_symbols()"
   ]
  },
  {
   "cell_type": "code",
   "execution_count": 21,
   "id": "d4b92e3c-3fe5-411e-a8cf-4e4adc9ad9d1",
   "metadata": {},
   "outputs": [
    {
     "data": {
      "image/png": "[encoded data removed]",
      "text/latex": [
       "$\\displaystyle - \\rho^{2} \\sin^{2}{\\left(\\phi \\right)} \\cos^{2}{\\left(\\theta \\right)} + \\rho \\cos{\\left(\\phi \\right)}$"
      ],
      "text/plain": [
       "   2    2       2              \n",
       "- ρ ⋅sin (φ)⋅cos (θ) + ρ⋅cos(φ)"
      ]
     },
     "execution_count": 21,
     "metadata": {},
     "output_type": "execute_result"
    },
    {
     "data": {
      "image/png": "[encoded data removed]",
      "text/latex": [
       "$\\displaystyle \\left(- \\rho^{2} \\sin^{2}{\\left(\\phi \\right)} \\cos^{2}{\\left(\\theta \\right)} + \\rho \\cos{\\left(\\phi \\right)}\\right) \\left|{\\rho^{2} \\sin{\\left(\\phi \\right)}}\\right|$"
      ],
      "text/plain": [
       "⎛   2    2       2              ⎞ │ 2       │\n",
       "⎝- ρ ⋅sin (φ)⋅cos (θ) + ρ⋅cos(φ)⎠⋅│ρ ⋅sin(φ)│"
      ]
     },
     "execution_count": 21,
     "metadata": {},
     "output_type": "execute_result"
    }
   ],
   "source": [
    "x_sph_c = rho * sp.sin(phi) * sp.cos(theta)\n",
    "y_sph_c = rho * sp.sin(phi) * sp.sin(theta)\n",
    "z_sph_c = rho * sp.cos(phi)\n",
    "\n",
    "sph_m = sp.Matrix([x_sph_c, y_sph_c, z_sph_c]).jacobian([rho, theta, phi])\n",
    "\n",
    "f = z_sph_c - x_sph_c**2\n",
    "f\n",
    "\n",
    "f * sp.Abs(sph_m.det()).factor().simplify()"
   ]
  },
  {
   "cell_type": "code",
   "execution_count": 23,
   "id": "21d431a0-dae2-4c7f-8b3e-b8963391f577",
   "metadata": {},
   "outputs": [
    {
     "data": {
      "image/png": "[encoded data removed]",
      "text/latex": [
       "$\\displaystyle \\rho \\sin{\\left(\\phi \\right)}$"
      ],
      "text/plain": [
       "ρ⋅sin(φ)"
      ]
     },
     "execution_count": 23,
     "metadata": {},
     "output_type": "execute_result"
    },
    {
     "data": {
      "image/png": "[encoded data removed]",
      "text/latex": [
       "$\\displaystyle \\rho \\sin{\\left(\\phi \\right)} \\left|{\\rho^{2} \\sin{\\left(\\phi \\right)}}\\right|$"
      ],
      "text/plain": [
       "         │ 2       │\n",
       "ρ⋅sin(φ)⋅│ρ ⋅sin(φ)│"
      ]
     },
     "execution_count": 23,
     "metadata": {},
     "output_type": "execute_result"
    }
   ],
   "source": [
    "x_sph_c = rho * sp.sin(phi) * sp.cos(theta)\n",
    "y_sph_c = rho * sp.sin(phi) * sp.sin(theta)\n",
    "z_sph_c = rho * sp.cos(phi)\n",
    "\n",
    "sph_m = sp.Matrix([x_sph_c, y_sph_c, z_sph_c]).jacobian([rho, theta, phi])\n",
    "\n",
    "f = rho * sp.sin(phi)\n",
    "f\n",
    "\n",
    "f * sp.Abs(sph_m.det()).factor().simplify()"
   ]
  },
  {
   "cell_type": "code",
   "execution_count": 25,
   "id": "7756ec31-1579-431a-8a1b-bbfb2a242f31",
   "metadata": {},
   "outputs": [
    {
     "data": {
      "image/png": "[encoded data removed]",
      "text/latex": [
       "$\\displaystyle r z \\sin{\\left(\\theta \\right)}$"
      ],
      "text/plain": [
       "r⋅z⋅sin(θ)"
      ]
     },
     "execution_count": 25,
     "metadata": {},
     "output_type": "execute_result"
    },
    {
     "data": {
      "image/png": "[encoded data removed]",
      "text/latex": [
       "$\\displaystyle r z \\sin{\\left(\\theta \\right)} \\left|{r}\\right|$"
      ],
      "text/plain": [
       "r⋅z⋅sin(θ)⋅│r│"
      ]
     },
     "execution_count": 25,
     "metadata": {},
     "output_type": "execute_result"
    }
   ],
   "source": [
    "x_cyl_c = r * sp.cos(theta)\n",
    "y_cyl_c = r * sp.sin(theta)\n",
    "z_cyl_c = z\n",
    "cyl_var = [r, theta, z]\n",
    "\n",
    "cyl_m = sp.Matrix([x_cyl_c, y_cyl_c, z_cyl_c]).jacobian(cyl_var)\n",
    "\n",
    "f = y_cyl_c * z_cyl_c\n",
    "f\n",
    "\n",
    "f * sp.Abs(cyl_m.det()).factor().simplify()"
   ]
  },
  {
   "cell_type": "code",
   "execution_count": null,
   "id": "8b8823ec-da83-4f16-9f47-258c7a54ae6a",
   "metadata": {},
   "outputs": [],
   "source": []
  }
 ],
 "metadata": {
  "kernelspec": {
   "display_name": "Math",
   "language": "python",
   "name": "math"
  },
  "language_info": {
   "codemirror_mode": {
    "name": "ipython",
    "version": 3
   },
   "file_extension": ".py",
   "mimetype": "text/x-python",
   "name": "python",
   "nbconvert_exporter": "python",
   "pygments_lexer": "ipython3",
   "version": "3.8.13"
  }
 },
 "nbformat": 4,
 "nbformat_minor": 5
}
