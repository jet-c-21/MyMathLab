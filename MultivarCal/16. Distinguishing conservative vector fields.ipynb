{
 "cells": [
  {
   "cell_type": "code",
   "execution_count": 5,
   "id": "3e06b0ab-b2b0-4f15-82c0-6b0fa9030e65",
   "metadata": {},
   "outputs": [
    {
     "name": "stdout",
     "output_type": "stream",
     "text": [
      "Added D:\\Dev\\Code\\MyMathLab to PATH\n"
     ]
    }
   ],
   "source": [
    "from IPython.core.interactiveshell import InteractiveShell\n",
    "InteractiveShell.ast_node_interactivity = 'all'\n",
    "\n",
    "# import self-made module\n",
    "import os, sys, pathlib\n",
    "file_path = os.path.abspath('')\n",
    "PROJECT_DIR = str(pathlib.Path(file_path).parent)\n",
    "sys.path.append(PROJECT_DIR)\n",
    "print(f\"Added {PROJECT_DIR} to PATH\")\n",
    "from athena import *\n",
    "from sympy.vector import CoordSys3D, gradient, curl, ParametricRegion, vector_integrate, scalar_potential\n",
    "from sympy.integrals.manualintegrate import integral_steps\n",
    "\n",
    "sp.init_printing()\n",
    "\n",
    "# ult functions\n",
    "def reset_symbols():\n",
    "    global x, y, z, a, b, c, d, e, f, g, h, s, k, t, theta, lmda\n",
    "    x, y, z = sp.symbols('x y z', real=True)\n",
    "    a, b, c, d, e, f, g, h, s, k, t = sp.symbols('a b c d e f g h s k t', real=True)\n",
    "    theta = sp.Symbol('theta')\n",
    "    lmda = sp.Symbol('lambda')\n",
    "\n",
    "reset_symbols()"
   ]
  },
  {
   "cell_type": "code",
   "execution_count": 7,
   "id": "d8bd46e3-a91b-45cd-a817-6de1ff669d78",
   "metadata": {},
   "outputs": [
    {
     "data": {
      "image/png": "[encoded data removed]",
      "text/latex": [
       "$\\displaystyle \\left(\\mathbf{{x}_{.}}^{2} \\mathbf{{y}_{.}} + 3\\right)\\mathbf{\\hat{i}_{.}} + \\left(\\mathbf{{x}_{.}} \\mathbf{{y}_{.}}^{2}\\right)\\mathbf{\\hat{j}_{.}}$"
      ],
      "text/plain": [
       "⎛   2        ⎞        ⎛       2⎞     \n",
       "⎝x_. ⋅y_. + 3⎠ i_.  + ⎝x_.⋅y_. ⎠ j_. "
      ]
     },
     "execution_count": 7,
     "metadata": {},
     "output_type": "execute_result"
    },
    {
     "ename": "ValueError",
     "evalue": "Field is not conservative",
     "output_type": "error",
     "traceback": [
      "\u001b[1;31m---------------------------------------------------------------------------\u001b[0m",
      "\u001b[1;31mValueError\u001b[0m                                Traceback (most recent call last)",
      "Cell \u001b[1;32mIn [7], line 5\u001b[0m\n\u001b[0;32m      2\u001b[0m f \u001b[38;5;241m=\u001b[39m (C\u001b[38;5;241m.\u001b[39mx\u001b[38;5;241m*\u001b[39m\u001b[38;5;241m*\u001b[39m\u001b[38;5;241m2\u001b[39m \u001b[38;5;241m*\u001b[39m C\u001b[38;5;241m.\u001b[39my \u001b[38;5;241m+\u001b[39m \u001b[38;5;241m3\u001b[39m) \u001b[38;5;241m*\u001b[39m C\u001b[38;5;241m.\u001b[39mi \u001b[38;5;241m+\u001b[39m (C\u001b[38;5;241m.\u001b[39mx \u001b[38;5;241m*\u001b[39m C\u001b[38;5;241m.\u001b[39my\u001b[38;5;241m*\u001b[39m\u001b[38;5;241m*\u001b[39m\u001b[38;5;241m2\u001b[39m) \u001b[38;5;241m*\u001b[39m C\u001b[38;5;241m.\u001b[39mj\n\u001b[0;32m      3\u001b[0m f\n\u001b[1;32m----> 5\u001b[0m scalar_potential(f, C)\n",
      "File \u001b[1;32mD:\\Dev\\anaconda3\\envs\\math\\lib\\site-packages\\sympy\\vector\\functions.py:305\u001b[0m, in \u001b[0;36mscalar_potential\u001b[1;34m(field, coord_sys)\u001b[0m\n\u001b[0;32m    303\u001b[0m \u001b[38;5;66;03m# Check whether field is conservative\u001b[39;00m\n\u001b[0;32m    304\u001b[0m \u001b[38;5;28;01mif\u001b[39;00m \u001b[38;5;129;01mnot\u001b[39;00m is_conservative(field):\n\u001b[1;32m--> 305\u001b[0m     \u001b[38;5;28;01mraise\u001b[39;00m \u001b[38;5;167;01mValueError\u001b[39;00m(\u001b[38;5;124m\"\u001b[39m\u001b[38;5;124mField is not conservative\u001b[39m\u001b[38;5;124m\"\u001b[39m)\n\u001b[0;32m    306\u001b[0m \u001b[38;5;28;01mif\u001b[39;00m field \u001b[38;5;241m==\u001b[39m Vector\u001b[38;5;241m.\u001b[39mzero:\n\u001b[0;32m    307\u001b[0m     \u001b[38;5;28;01mreturn\u001b[39;00m S\u001b[38;5;241m.\u001b[39mZero\n",
      "\u001b[1;31mValueError\u001b[0m: Field is not conservative"
     ]
    }
   ],
   "source": [
    "C = CoordSys3D('.')\n",
    "f = (C.x**2 * C.y + 3) * C.i + (C.x * C.y**2) * C.j\n",
    "f\n",
    "\n",
    "scalar_potential(f, C)"
   ]
  },
  {
   "cell_type": "code",
   "execution_count": 12,
   "id": "c50d70ac-9caf-40a9-99c6-5bdafe6fba8c",
   "metadata": {},
   "outputs": [
    {
     "data": {
      "image/png": "[encoded data removed]",
      "text/latex": [
       "$\\displaystyle \\sin{\\left(2 \\mathbf{{x}_{.}} \\right)}$"
      ],
      "text/plain": [
       "sin(2⋅x_.)"
      ]
     },
     "execution_count": 12,
     "metadata": {},
     "output_type": "execute_result"
    },
    {
     "data": {
      "image/png": "[encoded data removed]",
      "text/latex": [
       "$\\displaystyle \\sin{\\left(2 \\mathbf{{x}_{.}} \\right)}$"
      ],
      "text/plain": [
       "sin(2⋅x_.)"
      ]
     },
     "execution_count": 12,
     "metadata": {},
     "output_type": "execute_result"
    },
    {
     "data": {
      "image/png": "[encoded data removed]",
      "text/latex": [
       "$\\displaystyle \\mathbf{{y}_{.}} \\left(- \\mathbf{{y}_{.}} + \\sin^{2}{\\left(\\mathbf{{x}_{.}} \\right)}\\right)$"
      ],
      "text/plain": [
       "    ⎛          2     ⎞\n",
       "y_.⋅⎝-y_. + sin (x_.)⎠"
      ]
     },
     "execution_count": 12,
     "metadata": {},
     "output_type": "execute_result"
    }
   ],
   "source": [
    "P = C.y * sp.sin(2 * C.x)\n",
    "Q = sp.sin(C.x)**2 - 2 * C.y\n",
    "\n",
    "F = P * C.i + Q * C.j\n",
    "\n",
    "P.diff(C.y).simplify()\n",
    "Q.diff(C.x).simplify()\n",
    "\n",
    "scalar_potential(F, C).simplify()"
   ]
  },
  {
   "cell_type": "code",
   "execution_count": 13,
   "id": "31e860bb-4657-4c67-9075-8b6eb298ace2",
   "metadata": {},
   "outputs": [
    {
     "data": {
      "image/png": "[encoded data removed]",
      "text/latex": [
       "$\\displaystyle e^{\\mathbf{{y}_{.}}} + 1$"
      ],
      "text/plain": [
       " y_.    \n",
       "ℯ    + 1"
      ]
     },
     "execution_count": 13,
     "metadata": {},
     "output_type": "execute_result"
    },
    {
     "data": {
      "image/png": "[encoded data removed]",
      "text/latex": [
       "$\\displaystyle 2 \\mathbf{{y}_{.}}^{3}$"
      ],
      "text/plain": [
       "     3\n",
       "2⋅y_. "
      ]
     },
     "execution_count": 13,
     "metadata": {},
     "output_type": "execute_result"
    },
    {
     "ename": "ValueError",
     "evalue": "Field is not conservative",
     "output_type": "error",
     "traceback": [
      "\u001b[1;31m---------------------------------------------------------------------------\u001b[0m",
      "\u001b[1;31mValueError\u001b[0m                                Traceback (most recent call last)",
      "Cell \u001b[1;32mIn [13], line 9\u001b[0m\n\u001b[0;32m      6\u001b[0m P\u001b[38;5;241m.\u001b[39mdiff(C\u001b[38;5;241m.\u001b[39my)\u001b[38;5;241m.\u001b[39msimplify()\n\u001b[0;32m      7\u001b[0m Q\u001b[38;5;241m.\u001b[39mdiff(C\u001b[38;5;241m.\u001b[39mx)\u001b[38;5;241m.\u001b[39msimplify()\n\u001b[1;32m----> 9\u001b[0m scalar_potential(F, C)\u001b[38;5;241m.\u001b[39msimplify()\n",
      "File \u001b[1;32mD:\\Dev\\anaconda3\\envs\\math\\lib\\site-packages\\sympy\\vector\\functions.py:305\u001b[0m, in \u001b[0;36mscalar_potential\u001b[1;34m(field, coord_sys)\u001b[0m\n\u001b[0;32m    303\u001b[0m \u001b[38;5;66;03m# Check whether field is conservative\u001b[39;00m\n\u001b[0;32m    304\u001b[0m \u001b[38;5;28;01mif\u001b[39;00m \u001b[38;5;129;01mnot\u001b[39;00m is_conservative(field):\n\u001b[1;32m--> 305\u001b[0m     \u001b[38;5;28;01mraise\u001b[39;00m \u001b[38;5;167;01mValueError\u001b[39;00m(\u001b[38;5;124m\"\u001b[39m\u001b[38;5;124mField is not conservative\u001b[39m\u001b[38;5;124m\"\u001b[39m)\n\u001b[0;32m    306\u001b[0m \u001b[38;5;28;01mif\u001b[39;00m field \u001b[38;5;241m==\u001b[39m Vector\u001b[38;5;241m.\u001b[39mzero:\n\u001b[0;32m    307\u001b[0m     \u001b[38;5;28;01mreturn\u001b[39;00m S\u001b[38;5;241m.\u001b[39mZero\n",
      "\u001b[1;31mValueError\u001b[0m: Field is not conservative"
     ]
    }
   ],
   "source": [
    "P = sp.E**C.y + C.y\n",
    "Q = 2 * C.x * C.y ** 3\n",
    "\n",
    "F = P * C.i + Q * C.j\n",
    "\n",
    "P.diff(C.y).simplify()\n",
    "Q.diff(C.x).simplify()\n",
    "\n",
    "scalar_potential(F, C).simplify()"
   ]
  },
  {
   "cell_type": "code",
   "execution_count": 14,
   "id": "401f864b-bf57-49f9-aa95-d8981d398c8f",
   "metadata": {},
   "outputs": [
    {
     "data": {
      "image/png": "[encoded data removed]",
      "text/latex": [
       "$\\displaystyle e^{\\mathbf{{y}_{.}}}$"
      ],
      "text/plain": [
       " y_.\n",
       "ℯ   "
      ]
     },
     "execution_count": 14,
     "metadata": {},
     "output_type": "execute_result"
    },
    {
     "data": {
      "image/png": "[encoded data removed]",
      "text/latex": [
       "$\\displaystyle \\mathbf{{x}_{.}} e^{\\mathbf{{y}_{.}}} + 1$"
      ],
      "text/plain": [
       "     y_.    \n",
       "x_.⋅ℯ    + 1"
      ]
     },
     "execution_count": 14,
     "metadata": {},
     "output_type": "execute_result"
    },
    {
     "data": {
      "image/png": "[encoded data removed]",
      "text/latex": [
       "$\\displaystyle \\left(e^{\\mathbf{{y}_{.}}}\\right)\\mathbf{\\hat{i}_{.}} + \\left(\\mathbf{{x}_{.}} e^{\\mathbf{{y}_{.}}} + 1\\right)\\mathbf{\\hat{j}_{.}}$"
      ],
      "text/plain": [
       "⎛ y_.⎞        ⎛     y_.    ⎞     \n",
       "⎝ℯ   ⎠ i_.  + ⎝x_.⋅ℯ    + 1⎠ j_. "
      ]
     },
     "execution_count": 14,
     "metadata": {},
     "output_type": "execute_result"
    },
    {
     "data": {
      "image/png": "[encoded data removed]",
      "text/latex": [
       "$\\displaystyle e^{\\mathbf{{y}_{.}}}$"
      ],
      "text/plain": [
       " y_.\n",
       "ℯ   "
      ]
     },
     "execution_count": 14,
     "metadata": {},
     "output_type": "execute_result"
    },
    {
     "data": {
      "image/png": "[encoded data removed]",
      "text/latex": [
       "$\\displaystyle e^{\\mathbf{{y}_{.}}}$"
      ],
      "text/plain": [
       " y_.\n",
       "ℯ   "
      ]
     },
     "execution_count": 14,
     "metadata": {},
     "output_type": "execute_result"
    },
    {
     "data": {
      "image/png": "[encoded data removed]",
      "text/latex": [
       "$\\displaystyle \\mathbf{{x}_{.}} e^{\\mathbf{{y}_{.}}} + \\mathbf{{y}_{.}}$"
      ],
      "text/plain": [
       "     y_.      \n",
       "x_.⋅ℯ    + y_."
      ]
     },
     "execution_count": 14,
     "metadata": {},
     "output_type": "execute_result"
    }
   ],
   "source": [
    "P = sp.E**C.y\n",
    "P\n",
    "\n",
    "Q = C.x * sp.E**C.y + 1\n",
    "Q\n",
    "\n",
    "F = P * C.i + Q * C.j\n",
    "F\n",
    "\n",
    "P.diff(C.y).simplify()\n",
    "Q.diff(C.x).simplify()\n",
    "\n",
    "scalar_potential(F, C).simplify()"
   ]
  },
  {
   "cell_type": "code",
   "execution_count": null,
   "id": "1594eb71-5935-4e8a-a3cd-83f2b0445f76",
   "metadata": {},
   "outputs": [],
   "source": []
  }
 ],
 "metadata": {
  "kernelspec": {
   "display_name": "Math",
   "language": "python",
   "name": "math"
  },
  "language_info": {
   "codemirror_mode": {
    "name": "ipython",
    "version": 3
   },
   "file_extension": ".py",
   "mimetype": "text/x-python",
   "name": "python",
   "nbconvert_exporter": "python",
   "pygments_lexer": "ipython3",
   "version": "3.8.13"
  }
 },
 "nbformat": 4,
 "nbformat_minor": 5
}
