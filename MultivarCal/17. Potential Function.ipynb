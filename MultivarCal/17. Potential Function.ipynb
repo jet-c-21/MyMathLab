{
 "cells": [
  {
   "cell_type": "code",
   "execution_count": 1,
   "id": "407107ba-3e3f-4580-a57a-11e0ddd664eb",
   "metadata": {},
   "outputs": [
    {
     "name": "stdout",
     "output_type": "stream",
     "text": [
      "Added D:\\Dev\\Code\\MyMathLab to PATH\n"
     ]
    }
   ],
   "source": [
    "from IPython.core.interactiveshell import InteractiveShell\n",
    "InteractiveShell.ast_node_interactivity = 'all'\n",
    "\n",
    "# import self-made module\n",
    "import os, sys, pathlib\n",
    "file_path = os.path.abspath('')\n",
    "PROJECT_DIR = str(pathlib.Path(file_path).parent)\n",
    "sys.path.append(PROJECT_DIR)\n",
    "print(f\"Added {PROJECT_DIR} to PATH\")\n",
    "from athena import *\n",
    "from sympy.vector import CoordSys3D, gradient, curl, ParametricRegion, vector_integrate, scalar_potential\n",
    "from sympy.integrals.manualintegrate import integral_steps\n",
    "\n",
    "sp.init_printing()\n",
    "\n",
    "# ult functions\n",
    "def reset_symbols():\n",
    "    global x, y, z, a, b, c, d, e, f, g, h, s, k, t, theta, lmda\n",
    "    x, y, z = sp.symbols('x y z', real=True)\n",
    "    a, b, c, d, e, f, g, h, s, k, t = sp.symbols('a b c d e f g h s k t', real=True)\n",
    "    theta = sp.Symbol('theta')\n",
    "    lmda = sp.Symbol('lambda')\n",
    "\n",
    "reset_symbols()"
   ]
  },
  {
   "cell_type": "code",
   "execution_count": 3,
   "id": "24ed0c67-feda-4886-9331-bd66acebf5ae",
   "metadata": {},
   "outputs": [
    {
     "data": {
      "image/png": "[encoded data removed]",
      "text/latex": [
       "$\\displaystyle \\left(10 \\mathbf{{x}_{.}} + 2 \\mathbf{{y}_{.}}\\right)\\mathbf{\\hat{i}_{.}} + \\left(2 \\mathbf{{x}_{.}} - 2 \\mathbf{{y}_{.}}\\right)\\mathbf{\\hat{j}_{.}}$"
      ],
      "text/plain": [
       "(10⋅x_. + 2⋅y_.) i_. + (2⋅x_. - 2⋅y_.) j_."
      ]
     },
     "execution_count": 3,
     "metadata": {},
     "output_type": "execute_result"
    },
    {
     "data": {
      "image/png": "[encoded data removed]",
      "text/latex": [
       "$\\displaystyle 5 \\mathbf{{x}_{.}}^{2} + 2 \\mathbf{{x}_{.}} \\mathbf{{y}_{.}} - \\mathbf{{y}_{.}}^{2}$"
      ],
      "text/plain": [
       "     2                  2\n",
       "5⋅x_.  + 2⋅x_.⋅y_. - y_. "
      ]
     },
     "execution_count": 3,
     "metadata": {},
     "output_type": "execute_result"
    }
   ],
   "source": [
    "C = CoordSys3D('.')\n",
    "\n",
    "f = (10*C.x + 2 * C.y) * C.i + (-2 * C.y + 2 * C.x) * C.j\n",
    "f\n",
    "\n",
    "scalar_potential(f, C)"
   ]
  },
  {
   "cell_type": "code",
   "execution_count": 4,
   "id": "abec9309-80ab-4c18-973f-1a5e86d5622f",
   "metadata": {},
   "outputs": [
    {
     "data": {
      "image/png": "[encoded data removed]",
      "text/latex": [
       "$\\displaystyle \\left(- \\sin{\\left(\\mathbf{{x}_{.}} \\right)}\\right)\\mathbf{\\hat{i}_{.}} + \\left(4 e^{4 \\mathbf{{y}_{.}}}\\right)\\mathbf{\\hat{j}_{.}}$"
      ],
      "text/plain": [
       "                  ⎛   4⋅y_.⎞     \n",
       "(-sin(x_.)) i_. + ⎝4⋅ℯ     ⎠ j_. "
      ]
     },
     "execution_count": 4,
     "metadata": {},
     "output_type": "execute_result"
    },
    {
     "data": {
      "image/png": "[encoded data removed]",
      "text/latex": [
       "$\\displaystyle e^{4 \\mathbf{{y}_{.}}} + \\cos{\\left(x_0 \\right)}$"
      ],
      "text/plain": [
       " 4⋅y_.          \n",
       "ℯ      + cos(x0)"
      ]
     },
     "execution_count": 4,
     "metadata": {},
     "output_type": "execute_result"
    }
   ],
   "source": [
    "C = CoordSys3D('.')\n",
    "\n",
    "f = (-sp.sin(C.x)) * C.i + (4*sp.E**(4*C.y)) * C.j\n",
    "f\n",
    "\n",
    "scalar_potential(f, C)"
   ]
  },
  {
   "cell_type": "code",
   "execution_count": 11,
   "id": "e22dfe66-1246-47c6-b19d-a9478ddf2c70",
   "metadata": {},
   "outputs": [
    {
     "data": {
      "image/png": "[encoded data removed]",
      "text/latex": [
       "$\\displaystyle \\left(\\cos{\\left(\\mathbf{{y}_{.}} \\right)}\\right)\\mathbf{\\hat{i}_{.}} + \\left(- \\mathbf{{x}_{.}} \\sin{\\left(\\mathbf{{y}_{.}} \\right)} + \\mathbf{{y}_{.}} \\cos{\\left(\\mathbf{{y}_{.}} \\right)} + \\sin{\\left(\\mathbf{{y}_{.}} \\right)}\\right)\\mathbf{\\hat{j}_{.}}$"
      ],
      "text/plain": [
       "(cos(y_.)) i_. + (-x_.⋅sin(y_.) + y_.⋅cos(y_.) + sin(y_.)) j_."
      ]
     },
     "execution_count": 11,
     "metadata": {},
     "output_type": "execute_result"
    },
    {
     "data": {
      "image/png": "[encoded data removed]",
      "text/latex": [
       "$\\displaystyle \\mathbf{{x}_{.}} \\cos{\\left(\\mathbf{{y}_{.}} \\right)} + \\mathbf{{y}_{.}} \\sin{\\left(\\mathbf{{y}_{.}} \\right)}$"
      ],
      "text/plain": [
       "x_.⋅cos(y_.) + y_.⋅sin(y_.)"
      ]
     },
     "execution_count": 11,
     "metadata": {},
     "output_type": "execute_result"
    }
   ],
   "source": [
    "C = CoordSys3D('.')\n",
    "\n",
    "f = (sp.cos(C.y)) * C.i + ((-C.x*sp.sin(C.y)) + (sp.sin(C.y)) + (C.y*sp.cos(C.y))) * C.j\n",
    "f\n",
    "\n",
    "scalar_potential(f, C)"
   ]
  },
  {
   "cell_type": "code",
   "execution_count": 14,
   "id": "1dd80c4e-d37b-490e-bfb5-a1f59f6c9a7d",
   "metadata": {},
   "outputs": [
    {
     "data": {
      "image/png": "[encoded data removed]",
      "text/latex": [
       "$\\displaystyle \\left(\\frac{\\mathbf{{y}_{.}}}{\\mathbf{{x}_{.}}}\\right)\\mathbf{\\hat{i}_{.}} + \\left(\\log{\\left(2 \\mathbf{{x}_{.}} \\right)}\\right)\\mathbf{\\hat{j}_{.}}$"
      ],
      "text/plain": [
       "⎛y_.⎞                       \n",
       "⎜───⎟ i_. + (log(2⋅x_.)) j_.\n",
       "⎝x_.⎠                       "
      ]
     },
     "execution_count": 14,
     "metadata": {},
     "output_type": "execute_result"
    },
    {
     "data": {
      "image/png": "[encoded data removed]",
      "text/latex": [
       "$\\displaystyle \\mathbf{{y}_{.}} \\log{\\left(2 \\mathbf{{x}_{.}} \\right)}$"
      ],
      "text/plain": [
       "y_.⋅log(2⋅x_.)"
      ]
     },
     "execution_count": 14,
     "metadata": {},
     "output_type": "execute_result"
    }
   ],
   "source": [
    "C = CoordSys3D('.')\n",
    "\n",
    "f = (C.y / C.x) * C.i + (sp.ln(2 * C.x)) * C.j\n",
    "f\n",
    "\n",
    "scalar_potential(f, C).simplify()"
   ]
  },
  {
   "cell_type": "code",
   "execution_count": null,
   "id": "8777fa6b-26bf-4f3e-8f93-45d6d168f0ac",
   "metadata": {},
   "outputs": [],
   "source": []
  }
 ],
 "metadata": {
  "kernelspec": {
   "display_name": "Math",
   "language": "python",
   "name": "math"
  },
  "language_info": {
   "codemirror_mode": {
    "name": "ipython",
    "version": 3
   },
   "file_extension": ".py",
   "mimetype": "text/x-python",
   "name": "python",
   "nbconvert_exporter": "python",
   "pygments_lexer": "ipython3",
   "version": "3.8.13"
  }
 },
 "nbformat": 4,
 "nbformat_minor": 5
}
