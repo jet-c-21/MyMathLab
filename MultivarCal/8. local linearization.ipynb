{
 "cells": [
  {
   "cell_type": "code",
   "execution_count": 1,
   "id": "e637e67b-e0b3-4ca8-b349-2460e5c4196e",
   "metadata": {},
   "outputs": [
    {
     "name": "stdout",
     "output_type": "stream",
     "text": [
      "Added /Users/puff/my_home/dev/Side_Projects/MyMathLab to PATH\n"
     ]
    }
   ],
   "source": [
    "from IPython.core.interactiveshell import InteractiveShell\n",
    "InteractiveShell.ast_node_interactivity = 'all'\n",
    "\n",
    "# import self-made module\n",
    "import os, sys, pathlib\n",
    "file_path = os.path.abspath('')\n",
    "PROJECT_DIR = str(pathlib.Path(file_path).parent)\n",
    "sys.path.append(PROJECT_DIR)\n",
    "print(f\"Added {PROJECT_DIR} to PATH\")\n",
    "from athena import *\n",
    "\n",
    "# ult functions\n",
    "def reset_symbols():\n",
    "    global x, y, z, a, b, c, d, s, k, t, theta\n",
    "    x, y, z = sp.symbols('x y z', real=True)\n",
    "    a, b, c, d, s, k, t = sp.symbols('a b c d s k t', real=True)\n",
    "    theta = sp.Symbol('theta')"
   ]
  },
  {
   "cell_type": "code",
   "execution_count": 2,
   "id": "7aba7ce7-19f9-4df0-bbfc-b0309905f6ec",
   "metadata": {},
   "outputs": [],
   "source": [
    "from sympy.vector import Del, CoordSys3D, gradient"
   ]
  },
  {
   "cell_type": "code",
   "execution_count": 3,
   "id": "c1421a17-622a-4332-9bb2-698ff2d1db01",
   "metadata": {},
   "outputs": [
    {
     "data": {
      "text/latex": [
       "$\\displaystyle z e^{x^{2} - y^{3}}$"
      ],
      "text/plain": [
       "z*exp(x**2 - y**3)"
      ]
     },
     "execution_count": 3,
     "metadata": {},
     "output_type": "execute_result"
    }
   ],
   "source": [
    "f = z * sp.E ** ((x ** 2) - y**3)\n",
    "f"
   ]
  },
  {
   "cell_type": "code",
   "execution_count": 4,
   "id": "c4a1a962-15f7-4f6a-a950-9b987a5403b3",
   "metadata": {},
   "outputs": [
    {
     "data": {
      "text/latex": [
       "$\\displaystyle \\mathbf{{z}_{c}} e^{\\mathbf{{x}_{c}}^{2} - \\mathbf{{y}_{c}}^{3}}$"
      ],
      "text/plain": [
       "c.z*exp(c.x**2 - c.y**3)"
      ]
     },
     "execution_count": 4,
     "metadata": {},
     "output_type": "execute_result"
    },
    {
     "data": {
      "text/latex": [
       "$\\displaystyle \\left(2 \\mathbf{{x}_{c}} \\mathbf{{z}_{c}} e^{\\mathbf{{x}_{c}}^{2} - \\mathbf{{y}_{c}}^{3}}\\right)\\mathbf{\\hat{i}_{c}} + \\left(- 3 \\mathbf{{y}_{c}}^{2} \\mathbf{{z}_{c}} e^{\\mathbf{{x}_{c}}^{2} - \\mathbf{{y}_{c}}^{3}}\\right)\\mathbf{\\hat{j}_{c}} + \\left(e^{\\mathbf{{x}_{c}}^{2} - \\mathbf{{y}_{c}}^{3}}\\right)\\mathbf{\\hat{k}_{c}}$"
      ],
      "text/plain": [
       "(2*c.x*c.z*exp(c.x**2 - c.y**3))*c.i + (-3*c.y**2*c.z*exp(c.x**2 - c.y**3))*c.j + (exp(c.x**2 - c.y**3))*c.k"
      ]
     },
     "execution_count": 4,
     "metadata": {},
     "output_type": "execute_result"
    },
    {
     "data": {
      "text/latex": [
       "$\\displaystyle \\left(2 \\mathbf{{x}_{c}} \\mathbf{{z}_{c}} e^{\\mathbf{{x}_{c}}^{2} - \\mathbf{{y}_{c}}^{3}}\\right)\\mathbf{\\hat{i}_{c}} + \\left(- 3 \\mathbf{{y}_{c}}^{2} \\mathbf{{z}_{c}} e^{\\mathbf{{x}_{c}}^{2} - \\mathbf{{y}_{c}}^{3}}\\right)\\mathbf{\\hat{j}_{c}} + \\left(e^{\\mathbf{{x}_{c}}^{2} - \\mathbf{{y}_{c}}^{3}}\\right)\\mathbf{\\hat{k}_{c}}$"
      ],
      "text/plain": [
       "(2*c.x*c.z*exp(c.x**2 - c.y**3))*c.i + (-3*c.y**2*c.z*exp(c.x**2 - c.y**3))*c.j + (exp(c.x**2 - c.y**3))*c.k"
      ]
     },
     "execution_count": 4,
     "metadata": {},
     "output_type": "execute_result"
    }
   ],
   "source": [
    "C = CoordSys3D('c')\n",
    "f = C.z * sp.E ** ( C.x **2 - C.y ** 3)\n",
    "f\n",
    "gradient(f)\n",
    "\n",
    "gradient(f)"
   ]
  },
  {
   "cell_type": "code",
   "execution_count": null,
   "id": "2ae14784-1c2a-4273-8d8c-88dab283c86d",
   "metadata": {},
   "outputs": [],
   "source": []
  },
  {
   "cell_type": "code",
   "execution_count": 5,
   "id": "590a4b46-ecc0-4831-bf81-757336d06f9e",
   "metadata": {},
   "outputs": [],
   "source": [
    "delop = Del()"
   ]
  },
  {
   "cell_type": "code",
   "execution_count": 6,
   "id": "32523af9-e102-46e4-b419-7e9d83ff9979",
   "metadata": {},
   "outputs": [
    {
     "data": {
      "text/latex": [
       "$\\displaystyle \\left(\\frac{\\partial}{\\partial \\mathbf{{x}_{c}}} \\mathbf{{z}_{c}} e^{\\mathbf{{x}_{c}}^{2} - \\mathbf{{y}_{c}}^{3}}\\right)\\mathbf{\\hat{i}_{c}} + \\left(\\frac{\\partial}{\\partial \\mathbf{{y}_{c}}} \\mathbf{{z}_{c}} e^{\\mathbf{{x}_{c}}^{2} - \\mathbf{{y}_{c}}^{3}}\\right)\\mathbf{\\hat{j}_{c}} + \\left(\\frac{\\partial}{\\partial \\mathbf{{z}_{c}}} \\mathbf{{z}_{c}} e^{\\mathbf{{x}_{c}}^{2} - \\mathbf{{y}_{c}}^{3}}\\right)\\mathbf{\\hat{k}_{c}}$"
      ],
      "text/plain": [
       "(Derivative(c.z*exp(c.x**2 - c.y**3), c.x))*c.i + (Derivative(c.z*exp(c.x**2 - c.y**3), c.y))*c.j + (Derivative(c.z*exp(c.x**2 - c.y**3), c.z))*c.k"
      ]
     },
     "execution_count": 6,
     "metadata": {},
     "output_type": "execute_result"
    }
   ],
   "source": [
    "delop(f)"
   ]
  },
  {
   "cell_type": "code",
   "execution_count": null,
   "id": "f43151d6-87dd-4baa-8b1f-727583a809e0",
   "metadata": {},
   "outputs": [],
   "source": []
  }
 ],
 "metadata": {
  "kernelspec": {
   "display_name": "Math",
   "language": "python",
   "name": "math"
  },
  "language_info": {
   "codemirror_mode": {
    "name": "ipython",
    "version": 3
   },
   "file_extension": ".py",
   "mimetype": "text/x-python",
   "name": "python",
   "nbconvert_exporter": "python",
   "pygments_lexer": "ipython3",
   "version": "3.8.13"
  }
 },
 "nbformat": 4,
 "nbformat_minor": 5
}
