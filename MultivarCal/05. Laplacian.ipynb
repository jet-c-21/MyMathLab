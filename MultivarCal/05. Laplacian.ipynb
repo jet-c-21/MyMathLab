{
 "cells": [
  {
   "cell_type": "code",
   "execution_count": 3,
   "id": "c0129c12-8b60-47f5-9eb9-3ed79f1f8199",
   "metadata": {},
   "outputs": [
    {
     "name": "stdout",
     "output_type": "stream",
     "text": [
      "Added /Users/puff/my_home/dev/Side_Projects/MyMathLab to PATH\n"
     ]
    }
   ],
   "source": [
    "from IPython.core.interactiveshell import InteractiveShell\n",
    "InteractiveShell.ast_node_interactivity = 'all'\n",
    "\n",
    "# import self-made module\n",
    "import os, sys, pathlib\n",
    "file_path = os.path.abspath('')\n",
    "PROJECT_DIR = str(pathlib.Path(file_path).parent)\n",
    "sys.path.append(PROJECT_DIR)\n",
    "print(f\"Added {PROJECT_DIR} to PATH\")\n",
    "from athena import *\n",
    "\n",
    "# ult functions\n",
    "def reset_symbols():\n",
    "    global x, y, z, a, b, c, d, s, k, t, theta\n",
    "    x, y, z = sp.symbols('x y z', real=True)\n",
    "    a, b, c, d, s, k, t = sp.symbols('a b c d s k t', real=True)\n",
    "    theta = sp.Symbol('theta')"
   ]
  },
  {
   "cell_type": "code",
   "execution_count": 4,
   "id": "145437f5-1d37-4431-bbf3-dce79e80fe5a",
   "metadata": {},
   "outputs": [],
   "source": [
    "from sympy.vector import CoordSys3D, gradient, Laplacian, divergence"
   ]
  },
  {
   "cell_type": "code",
   "execution_count": 5,
   "id": "b822e957-a431-4f36-870b-4b1ec829aee1",
   "metadata": {},
   "outputs": [
    {
     "data": {
      "text/latex": [
       "$\\displaystyle \\sin{\\left(\\frac{\\mathbf{{y}_{c}}}{2} \\right)} \\cos{\\left(\\frac{\\mathbf{{x}_{c}}}{2} \\right)} + 3$"
      ],
      "text/plain": [
       "sin(c.y/2)*cos(c.x/2) + 3"
      ]
     },
     "execution_count": 5,
     "metadata": {},
     "output_type": "execute_result"
    },
    {
     "data": {
      "text/latex": [
       "$\\displaystyle \\left(- \\frac{\\sin{\\left(\\frac{\\mathbf{{x}_{c}}}{2} \\right)} \\sin{\\left(\\frac{\\mathbf{{y}_{c}}}{2} \\right)}}{2}\\right)\\mathbf{\\hat{i}_{c}} + \\left(\\frac{\\cos{\\left(\\frac{\\mathbf{{x}_{c}}}{2} \\right)} \\cos{\\left(\\frac{\\mathbf{{y}_{c}}}{2} \\right)}}{2}\\right)\\mathbf{\\hat{j}_{c}}$"
      ],
      "text/plain": [
       "(-sin(c.x/2)*sin(c.y/2)/2)*c.i + (cos(c.x/2)*cos(c.y/2)/2)*c.j"
      ]
     },
     "execution_count": 5,
     "metadata": {},
     "output_type": "execute_result"
    }
   ],
   "source": [
    "C = CoordSys3D('c')\n",
    "f = 3 + sp.cos(C.x / 2) * sp.sin(C.y / 2)\n",
    "f\n",
    "gradient(f)"
   ]
  },
  {
   "cell_type": "code",
   "execution_count": 6,
   "id": "49d82ff4-a35b-4968-bc7a-eeb40d46c6c7",
   "metadata": {},
   "outputs": [
    {
     "data": {
      "text/latex": [
       "$\\displaystyle - \\frac{\\sin{\\left(\\frac{\\mathbf{{y}_{c}}}{2} \\right)} \\cos{\\left(\\frac{\\mathbf{{x}_{c}}}{2} \\right)}}{2}$"
      ],
      "text/plain": [
       "-sin(c.y/2)*cos(c.x/2)/2"
      ]
     },
     "execution_count": 6,
     "metadata": {},
     "output_type": "execute_result"
    }
   ],
   "source": [
    "Laplacian(f).doit()"
   ]
  },
  {
   "cell_type": "code",
   "execution_count": 7,
   "id": "d6e20ae1-d265-455b-9f88-0cc62696f243",
   "metadata": {},
   "outputs": [
    {
     "data": {
      "text/latex": [
       "$\\displaystyle - \\frac{\\sin{\\left(\\frac{\\mathbf{{y}_{c}}}{2} \\right)} \\cos{\\left(\\frac{\\mathbf{{x}_{c}}}{2} \\right)}}{2}$"
      ],
      "text/plain": [
       "-sin(c.y/2)*cos(c.x/2)/2"
      ]
     },
     "execution_count": 7,
     "metadata": {},
     "output_type": "execute_result"
    }
   ],
   "source": [
    "divergence(gradient(f))"
   ]
  },
  {
   "cell_type": "code",
   "execution_count": null,
   "id": "cba9c64d-7a10-489c-91d7-081f69cb0761",
   "metadata": {},
   "outputs": [],
   "source": []
  },
  {
   "cell_type": "code",
   "execution_count": 10,
   "id": "562eb987-6fdc-4b86-a143-3ea0f10733e3",
   "metadata": {},
   "outputs": [
    {
     "data": {
      "text/latex": [
       "$\\displaystyle \\left(e^{\\mathbf{{x}_{c}}} \\sin{\\left(\\mathbf{{y}_{c}} \\right)}\\right)\\mathbf{\\hat{i}_{c}} + \\left(e^{\\mathbf{{x}_{c}}} \\cos{\\left(\\mathbf{{y}_{c}} \\right)}\\right)\\mathbf{\\hat{j}_{c}}$"
      ],
      "text/plain": [
       "(exp(c.x)*sin(c.y))*c.i + (exp(c.x)*cos(c.y))*c.j"
      ]
     },
     "execution_count": 10,
     "metadata": {},
     "output_type": "execute_result"
    },
    {
     "data": {
      "text/latex": [
       "$\\displaystyle 0$"
      ],
      "text/plain": [
       "0"
      ]
     },
     "execution_count": 10,
     "metadata": {},
     "output_type": "execute_result"
    }
   ],
   "source": [
    "f = sp.E ** C.x * sp.sin(C.y)\n",
    "gradient(f)\n",
    "\n",
    "divergence(gradient(f))"
   ]
  },
  {
   "cell_type": "code",
   "execution_count": 11,
   "id": "67d25f36-2fa5-4bcc-b8f0-32c77ab9577b",
   "metadata": {},
   "outputs": [
    {
     "data": {
      "text/latex": [
       "$\\displaystyle \\mathbf{{x}_{c}}^{2} \\mathbf{{y}_{c}}^{3} + \\cos{\\left(\\mathbf{{x}_{c}} \\mathbf{{y}_{c}} \\right)}$"
      ],
      "text/plain": [
       "c.x**2*c.y**3 + cos(c.x*c.y)"
      ]
     },
     "execution_count": 11,
     "metadata": {},
     "output_type": "execute_result"
    },
    {
     "data": {
      "text/latex": [
       "$\\displaystyle \\Delta \\left(\\mathbf{{x}_{c}}^{2} \\mathbf{{y}_{c}}^{3} + \\cos{\\left(\\mathbf{{x}_{c}} \\mathbf{{y}_{c}} \\right)}\\right)$"
      ],
      "text/plain": [
       "Laplacian(c.x**2*c.y**3 + cos(c.x*c.y))"
      ]
     },
     "execution_count": 11,
     "metadata": {},
     "output_type": "execute_result"
    },
    {
     "data": {
      "text/latex": [
       "$\\displaystyle \\mathbf{{x}_{c}}^{2} \\cdot \\left(6 \\mathbf{{y}_{c}} - \\cos{\\left(\\mathbf{{x}_{c}} \\mathbf{{y}_{c}} \\right)}\\right) + \\mathbf{{y}_{c}}^{2} \\cdot \\left(2 \\mathbf{{y}_{c}} - \\cos{\\left(\\mathbf{{x}_{c}} \\mathbf{{y}_{c}} \\right)}\\right)$"
      ],
      "text/plain": [
       "c.x**2*(6*c.y - cos(c.x*c.y)) + c.y**2*(2*c.y - cos(c.x*c.y))"
      ]
     },
     "execution_count": 11,
     "metadata": {},
     "output_type": "execute_result"
    }
   ],
   "source": [
    "f = sp.cos(C.x * C.y) + C.y ** 3 * C.x ** 2\n",
    "f\n",
    "lap = Laplacian(f)\n",
    "lap\n",
    "\n",
    "lap.doit()"
   ]
  },
  {
   "cell_type": "code",
   "execution_count": null,
   "id": "7fc6064c-c212-4983-aef6-a4f33e256b58",
   "metadata": {},
   "outputs": [],
   "source": []
  },
  {
   "cell_type": "code",
   "execution_count": 12,
   "id": "122b1ab1-32a2-4115-82b3-a0fff852fcf9",
   "metadata": {},
   "outputs": [
    {
     "data": {
      "text/latex": [
       "$\\displaystyle e^{\\mathbf{{x}_{c}} + \\mathbf{{y}_{c}}} + e^{- x - y}$"
      ],
      "text/plain": [
       "exp(c.x + c.y) + exp(-x - y)"
      ]
     },
     "execution_count": 12,
     "metadata": {},
     "output_type": "execute_result"
    },
    {
     "data": {
      "text/latex": [
       "$\\displaystyle \\Delta \\left(e^{\\mathbf{{x}_{c}} + \\mathbf{{y}_{c}}} + e^{- x - y}\\right)$"
      ],
      "text/plain": [
       "Laplacian(exp(c.x + c.y) + exp(-x - y))"
      ]
     },
     "execution_count": 12,
     "metadata": {},
     "output_type": "execute_result"
    },
    {
     "data": {
      "text/latex": [
       "$\\displaystyle 2 e^{\\mathbf{{x}_{c}} + \\mathbf{{y}_{c}}}$"
      ],
      "text/plain": [
       "2*exp(c.x + c.y)"
      ]
     },
     "execution_count": 12,
     "metadata": {},
     "output_type": "execute_result"
    }
   ],
   "source": [
    "f = sp.E ** (C.x + C.y) + sp.E ** -(x+y)\n",
    "f\n",
    "lap = Laplacian(f)\n",
    "lap\n",
    "\n",
    "lap.doit()"
   ]
  },
  {
   "cell_type": "code",
   "execution_count": null,
   "id": "c4636dcc-306d-47fe-b783-8532f4d63847",
   "metadata": {},
   "outputs": [],
   "source": []
  },
  {
   "cell_type": "code",
   "execution_count": 13,
   "id": "45c0e570-6a48-4b40-abf3-4a2b7631dbc3",
   "metadata": {},
   "outputs": [
    {
     "data": {
      "text/latex": [
       "$\\displaystyle \\mathbf{{x}_{c}}^{2} \\mathbf{{z}_{c}}^{4} + \\mathbf{{x}_{c}} - \\mathbf{{y}_{c}}^{3} \\mathbf{{z}_{c}}^{2}$"
      ],
      "text/plain": [
       "c.x**2*c.z**4 + c.x - c.y**3*c.z**2"
      ]
     },
     "execution_count": 13,
     "metadata": {},
     "output_type": "execute_result"
    },
    {
     "data": {
      "text/latex": [
       "$\\displaystyle \\Delta \\left(\\mathbf{{x}_{c}}^{2} \\mathbf{{z}_{c}}^{4} + \\mathbf{{x}_{c}} - \\mathbf{{y}_{c}}^{3} \\mathbf{{z}_{c}}^{2}\\right)$"
      ],
      "text/plain": [
       "Laplacian(c.x**2*c.z**4 + c.x - c.y**3*c.z**2)"
      ]
     },
     "execution_count": 13,
     "metadata": {},
     "output_type": "execute_result"
    },
    {
     "data": {
      "text/latex": [
       "$\\displaystyle - 6 \\mathbf{{y}_{c}} \\mathbf{{z}_{c}}^{2} + 2 \\mathbf{{z}_{c}}^{4} + 2 \\cdot \\left(6 \\mathbf{{x}_{c}}^{2} \\mathbf{{z}_{c}}^{2} - \\mathbf{{y}_{c}}^{3}\\right)$"
      ],
      "text/plain": [
       "-6*c.y*c.z**2 + 2*c.z**4 + 2*(6*c.x**2*c.z**2 - c.y**3)"
      ]
     },
     "execution_count": 13,
     "metadata": {},
     "output_type": "execute_result"
    }
   ],
   "source": [
    "f = C.x**2 * C.z**4 - C.z**2 * C.y**3 + C.x\n",
    "f\n",
    "lap = Laplacian(f)\n",
    "lap\n",
    "\n",
    "lap.doit()"
   ]
  },
  {
   "cell_type": "code",
   "execution_count": null,
   "id": "58714d35-173d-4b9c-af61-3fafe89bd97d",
   "metadata": {},
   "outputs": [],
   "source": []
  },
  {
   "cell_type": "code",
   "execution_count": 14,
   "id": "a0903293-4e7c-4cc0-9294-937c0f59e631",
   "metadata": {},
   "outputs": [
    {
     "data": {
      "text/latex": [
       "$\\displaystyle 2 e^{\\mathbf{{x}_{c}}} \\sin{\\left(\\mathbf{{y}_{c}} \\right)}$"
      ],
      "text/plain": [
       "2*exp(c.x)*sin(c.y)"
      ]
     },
     "execution_count": 14,
     "metadata": {},
     "output_type": "execute_result"
    },
    {
     "data": {
      "text/latex": [
       "$\\displaystyle \\Delta \\left(2 e^{\\mathbf{{x}_{c}}} \\sin{\\left(\\mathbf{{y}_{c}} \\right)}\\right)$"
      ],
      "text/plain": [
       "Laplacian(2*exp(c.x)*sin(c.y))"
      ]
     },
     "execution_count": 14,
     "metadata": {},
     "output_type": "execute_result"
    },
    {
     "data": {
      "text/latex": [
       "$\\displaystyle 0$"
      ],
      "text/plain": [
       "0"
      ]
     },
     "execution_count": 14,
     "metadata": {},
     "output_type": "execute_result"
    }
   ],
   "source": [
    "f = 2 * sp.E**C.x * sp.sin(C.y)\n",
    "f\n",
    "lap = Laplacian(f)\n",
    "lap\n",
    "\n",
    "lap.doit()"
   ]
  },
  {
   "cell_type": "code",
   "execution_count": null,
   "id": "3219c863-8175-45e4-a7b1-b40cb559576d",
   "metadata": {},
   "outputs": [],
   "source": []
  }
 ],
 "metadata": {
  "kernelspec": {
   "display_name": "Math",
   "language": "python",
   "name": "math"
  },
  "language_info": {
   "codemirror_mode": {
    "name": "ipython",
    "version": 3
   },
   "file_extension": ".py",
   "mimetype": "text/x-python",
   "name": "python",
   "nbconvert_exporter": "python",
   "pygments_lexer": "ipython3",
   "version": "3.8.13"
  }
 },
 "nbformat": 4,
 "nbformat_minor": 5
}
