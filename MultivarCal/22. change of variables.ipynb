{
 "cells": [
  {
   "cell_type": "code",
   "execution_count": 1,
   "id": "422e39be-0070-4269-969f-c831c2f54151",
   "metadata": {},
   "outputs": [
    {
     "name": "stdout",
     "output_type": "stream",
     "text": [
      "Added /Users/puff/my_home/dev/Side_Projects/MyMathLab to PATH\n"
     ]
    }
   ],
   "source": [
    "from IPython.core.interactiveshell import InteractiveShell\n",
    "InteractiveShell.ast_node_interactivity = 'all'\n",
    "\n",
    "# import self-made module\n",
    "import os, sys, pathlib\n",
    "file_path = os.path.abspath('')\n",
    "PROJECT_DIR = str(pathlib.Path(file_path).parent)\n",
    "sys.path.append(PROJECT_DIR)\n",
    "print(f\"Added {PROJECT_DIR} to PATH\")\n",
    "from athena import *\n",
    "from sympy.vector import CoordSys3D, gradient, curl, ParametricRegion, vector_integrate, scalar_potential\n",
    "from sympy.integrals.manualintegrate import integral_steps\n",
    "\n",
    "sp.init_printing()\n",
    "\n",
    "# ult functions\n",
    "def reset_symbols():\n",
    "    global x, y, z, a, b, c, d, e, f, g, h, r, s, k, t, u, v, theta, lmda\n",
    "    x, y, z = sp.symbols('x y z', real=True)\n",
    "    a, b, c, d, e, f, g, h, r, s, k, t, u, v = sp.symbols('a b c d e f g h r s k t u v', real=True)\n",
    "    theta = sp.Symbol('theta')\n",
    "    lmda = sp.Symbol('lambda')\n",
    "\n",
    "reset_symbols()"
   ]
  },
  {
   "cell_type": "code",
   "execution_count": 2,
   "id": "40c77186-fa5c-480e-aa0d-c185fe0bf907",
   "metadata": {},
   "outputs": [
    {
     "data": {
      "image/png": "[encoded data removed]",
      "text/latex": [
       "$\\displaystyle - 2 u^{2} + 15 u v + u + 27 v^{2} - 2 v$"
      ],
      "text/plain": [
       "     2                    2      \n",
       "- 2⋅u  + 15⋅u⋅v + u + 27⋅v  - 2⋅v"
      ]
     },
     "execution_count": 2,
     "metadata": {},
     "output_type": "execute_result"
    }
   ],
   "source": [
    "C = x**2 - 3*x*y + y\n",
    "C.subs({x:3*v+2*u, y:u-2*v}).factor()"
   ]
  },
  {
   "cell_type": "code",
   "execution_count": 3,
   "id": "e860c795-fdf9-4460-9ea3-8bc6cea29d60",
   "metadata": {},
   "outputs": [
    {
     "data": {
      "image/png": "[encoded data removed]",
      "text/latex": [
       "$\\displaystyle \\frac{u v}{2} - \\frac{v^{2}}{4}$"
      ],
      "text/plain": [
       "       2\n",
       "u⋅v   v \n",
       "─── - ──\n",
       " 2    4 "
      ]
     },
     "execution_count": 3,
     "metadata": {},
     "output_type": "execute_result"
    }
   ],
   "source": [
    "C = x**2 - y**2\n",
    "C.subs({x: u/2, y: u/2 - v/2}).factor().expand()"
   ]
  },
  {
   "cell_type": "code",
   "execution_count": 4,
   "id": "3fcb499e-cba1-429c-ad43-4a241387bab1",
   "metadata": {},
   "outputs": [
    {
     "data": {
      "image/png": "[encoded data removed]",
      "text/latex": [
       "$\\displaystyle r^{3} \\cos{\\left(\\theta \\right)}$"
      ],
      "text/plain": [
       " 3       \n",
       "r ⋅cos(θ)"
      ]
     },
     "execution_count": 4,
     "metadata": {},
     "output_type": "execute_result"
    }
   ],
   "source": [
    "C = x**3 + x*y**2\n",
    "C.subs({x: r*sp.cos(theta), y: r*sp.sin(theta)}).simplify()"
   ]
  },
  {
   "cell_type": "code",
   "execution_count": 5,
   "id": "d0beae28-09cf-46b8-9cb2-81f467833452",
   "metadata": {},
   "outputs": [
    {
     "data": {
      "image/png": "[encoded data removed]",
      "text/latex": [
       "$\\displaystyle \\frac{u}{2} - \\frac{v}{4} - 1$"
      ],
      "text/plain": [
       "u   v    \n",
       "─ - ─ - 1\n",
       "2   4    "
      ]
     },
     "execution_count": 5,
     "metadata": {},
     "output_type": "execute_result"
    }
   ],
   "source": [
    "C = y + x/2 - 1\n",
    "C.subs({x: u/3 + v/2, y: u/3 - v/2})"
   ]
  },
  {
   "cell_type": "code",
   "execution_count": null,
   "id": "f9aa4b2c-5b49-4c67-847e-d4d56279f75e",
   "metadata": {},
   "outputs": [],
   "source": []
  },
  {
   "cell_type": "code",
   "execution_count": 12,
   "id": "0833ec3c-1084-4866-bd89-f7c7ac4f9a0b",
   "metadata": {},
   "outputs": [
    {
     "data": {
      "image/png": "[encoded data removed]",
      "text/latex": [
       "$\\displaystyle 4 x + 6 y$"
      ],
      "text/plain": [
       "4⋅x + 6⋅y"
      ]
     },
     "execution_count": 12,
     "metadata": {},
     "output_type": "execute_result"
    },
    {
     "data": {
      "image/png": "[encoded data removed]",
      "text/latex": [
       "$\\displaystyle \\frac{u}{16} + \\frac{5 v}{192}$"
      ],
      "text/plain": [
       "u    5⋅v\n",
       "── + ───\n",
       "16   192"
      ]
     },
     "execution_count": 12,
     "metadata": {},
     "output_type": "execute_result"
    }
   ],
   "source": [
    "integrand = 4*x + 6*y\n",
    "integrand\n",
    "\n",
    "x_of_uv = u/4 + v/16\n",
    "y_of_uv = u/3 + v/6\n",
    "\n",
    "R = sp.Matrix([x_of_uv, y_of_uv])\n",
    "\n",
    "integrand = integrand.subs({x: x_of_uv, y: y_of_uv}) * sp.Abs(R.jacobian([u,v]).det())\n",
    "integrand"
   ]
  },
  {
   "cell_type": "code",
   "execution_count": 13,
   "id": "95972bbe-9810-451f-b60b-8e24d93786dd",
   "metadata": {},
   "outputs": [
    {
     "data": {
      "image/png": "[encoded data removed]",
      "text/latex": [
       "$\\displaystyle - x + 3 y$"
      ],
      "text/plain": [
       "-x + 3⋅y"
      ]
     },
     "execution_count": 13,
     "metadata": {},
     "output_type": "execute_result"
    },
    {
     "data": {
      "image/png": "[encoded data removed]",
      "text/latex": [
       "$\\displaystyle \\left(6 v^{2} + 2\\right) \\left(- u^{2} + 6 u + v^{3} + v\\right)$"
      ],
      "text/plain": [
       "⎛   2    ⎞ ⎛   2          3    ⎞\n",
       "⎝6⋅v  + 2⎠⋅⎝- u  + 6⋅u + v  + v⎠"
      ]
     },
     "execution_count": 13,
     "metadata": {},
     "output_type": "execute_result"
    }
   ],
   "source": [
    "integrand = -x + 3*y\n",
    "integrand\n",
    "\n",
    "x_of_uv = - v**3 + u**2 - v\n",
    "y_of_uv = 2*u\n",
    "\n",
    "R = sp.Matrix([x_of_uv, y_of_uv])\n",
    "\n",
    "integrand = integrand.subs({x: x_of_uv, y: y_of_uv}) * sp.Abs(R.jacobian([u,v]).det())\n",
    "integrand"
   ]
  },
  {
   "cell_type": "code",
   "execution_count": 14,
   "id": "89222333-26c0-4bca-afcd-be80396b3339",
   "metadata": {},
   "outputs": [
    {
     "data": {
      "image/png": "[encoded data removed]",
      "text/latex": [
       "$\\displaystyle x - y$"
      ],
      "text/plain": [
       "x - y"
      ]
     },
     "execution_count": 14,
     "metadata": {},
     "output_type": "execute_result"
    },
    {
     "data": {
      "image/png": "[encoded data removed]",
      "text/latex": [
       "$\\displaystyle - 4 v e^{u}$"
      ],
      "text/plain": [
       "      u\n",
       "-4⋅v⋅ℯ "
      ]
     },
     "execution_count": 14,
     "metadata": {},
     "output_type": "execute_result"
    }
   ],
   "source": [
    "integrand = x - y\n",
    "integrand\n",
    "\n",
    "x_of_uv = sp.E ** u - v\n",
    "y_of_uv = sp.E ** u + v\n",
    "\n",
    "R = sp.Matrix([x_of_uv, y_of_uv])\n",
    "\n",
    "integrand = integrand.subs({x: x_of_uv, y: y_of_uv}) * sp.Abs(R.jacobian([u,v]).det())\n",
    "integrand"
   ]
  },
  {
   "cell_type": "code",
   "execution_count": 16,
   "id": "87914773-bfad-496e-ada3-b45bc7660a03",
   "metadata": {},
   "outputs": [
    {
     "data": {
      "image/png": "[encoded data removed]",
      "text/latex": [
       "$\\displaystyle e^{x^{2} + y^{2}}$"
      ],
      "text/plain": [
       "  2    2\n",
       " x  + y \n",
       "ℯ       "
      ]
     },
     "execution_count": 16,
     "metadata": {},
     "output_type": "execute_result"
    },
    {
     "data": {
      "image/png": "[encoded data removed]",
      "text/latex": [
       "$\\displaystyle e^{u^{2}} \\left|{u}\\right|$"
      ],
      "text/plain": [
       " ⎛ 2⎞    \n",
       " ⎝u ⎠    \n",
       "ℯ    ⋅│u│"
      ]
     },
     "execution_count": 16,
     "metadata": {},
     "output_type": "execute_result"
    }
   ],
   "source": [
    "integrand = sp.E ** (x**2 + y**2)\n",
    "integrand\n",
    "\n",
    "x_of_uv = u * sp.cos(v)\n",
    "y_of_uv = u * sp.sin(v)\n",
    "\n",
    "R = sp.Matrix([x_of_uv, y_of_uv])\n",
    "\n",
    "integrand = integrand.subs({x: x_of_uv, y: y_of_uv}) * sp.Abs(R.jacobian([u,v]).det())\n",
    "integrand.simplify()"
   ]
  },
  {
   "cell_type": "code",
   "execution_count": null,
   "id": "bdef10bd-09ba-4eaf-93d0-5694327e898b",
   "metadata": {},
   "outputs": [],
   "source": []
  }
 ],
 "metadata": {
  "kernelspec": {
   "display_name": "Math",
   "language": "python",
   "name": "math"
  },
  "language_info": {
   "codemirror_mode": {
    "name": "ipython",
    "version": 3
   },
   "file_extension": ".py",
   "mimetype": "text/x-python",
   "name": "python",
   "nbconvert_exporter": "python",
   "pygments_lexer": "ipython3",
   "version": "3.8.13"
  }
 },
 "nbformat": 4,
 "nbformat_minor": 5
}
