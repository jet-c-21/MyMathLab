{
 "cells": [
  {
   "cell_type": "code",
   "execution_count": 1,
   "id": "b60064fc-0bc4-4c80-a5d9-19ef610ddb7e",
   "metadata": {},
   "outputs": [
    {
     "name": "stdout",
     "output_type": "stream",
     "text": [
      "Added /Users/puff/my_home/dev/Side_Projects/MyMathLab to PATH\n"
     ]
    }
   ],
   "source": [
    "from IPython.core.interactiveshell import InteractiveShell\n",
    "InteractiveShell.ast_node_interactivity = 'all'\n",
    "\n",
    "# import self-made module\n",
    "import os, sys, pathlib\n",
    "file_path = os.path.abspath('')\n",
    "PROJECT_DIR = str(pathlib.Path(file_path).parent)\n",
    "sys.path.append(PROJECT_DIR)\n",
    "print(f\"Added {PROJECT_DIR} to PATH\")\n",
    "from athena import *\n",
    "\n",
    "# ult functions\n",
    "def reset_symbols():\n",
    "    global x, y, z, a, b, c, d, s, k, t, theta\n",
    "    x, y, z = sp.symbols('x y z', real=True)\n",
    "    a, b, c, d, s, k, t = sp.symbols('a b c d s k t', real=True)\n",
    "    theta = sp.Symbol('theta')"
   ]
  },
  {
   "cell_type": "code",
   "execution_count": 2,
   "id": "8f3b1fbf-9fcf-4513-9db1-4d9afac32b32",
   "metadata": {},
   "outputs": [
    {
     "data": {
      "text/latex": [
       "$\\displaystyle 6 x y - 6 x$"
      ],
      "text/plain": [
       "6*x*y - 6*x"
      ]
     },
     "execution_count": 2,
     "metadata": {},
     "output_type": "execute_result"
    },
    {
     "data": {
      "text/latex": [
       "$\\displaystyle 3 x^{2} - 3 y^{2} - 6 y$"
      ],
      "text/plain": [
       "3*x**2 - 3*y**2 - 6*y"
      ]
     },
     "execution_count": 2,
     "metadata": {},
     "output_type": "execute_result"
    },
    {
     "data": {
      "text/plain": [
       "[{x: 0, y: -2}, {x: 0, y: 0}, {x: -sqrt(3), y: 1}, {x: sqrt(3), y: 1}]"
      ]
     },
     "execution_count": 2,
     "metadata": {},
     "output_type": "execute_result"
    },
    {
     "data": {
      "text/plain": [
       "[(0, -2), (0, 0), (-sqrt(3), 1), (sqrt(3), 1)]"
      ]
     },
     "execution_count": 2,
     "metadata": {},
     "output_type": "execute_result"
    }
   ],
   "source": [
    "f1 = 6*x*y - 6*x\n",
    "f1\n",
    "\n",
    "f2 = 3*x**2 - 3*y**2 - 6*y\n",
    "f2\n",
    "\n",
    "sp.solve([f1, f2])\n",
    "sp.solve([f1, f2], (x,y))"
   ]
  },
  {
   "cell_type": "code",
   "execution_count": null,
   "id": "dce18846-458f-4363-abc3-2d5b6d881160",
   "metadata": {},
   "outputs": [],
   "source": []
  },
  {
   "cell_type": "code",
   "execution_count": 5,
   "id": "010980f5-6a65-4ce0-8874-6c76edb4814e",
   "metadata": {},
   "outputs": [
    {
     "data": {
      "text/latex": [
       "$\\displaystyle - \\cos^{2}{\\left(y \\right)}$"
      ],
      "text/plain": [
       "-cos(y)**2"
      ]
     },
     "execution_count": 5,
     "metadata": {},
     "output_type": "execute_result"
    },
    {
     "data": {
      "text/latex": [
       "$\\displaystyle -1$"
      ],
      "text/plain": [
       "-1"
      ]
     },
     "execution_count": 5,
     "metadata": {},
     "output_type": "execute_result"
    },
    {
     "data": {
      "text/latex": [
       "$\\displaystyle 0$"
      ],
      "text/plain": [
       "0"
      ]
     },
     "execution_count": 5,
     "metadata": {},
     "output_type": "execute_result"
    }
   ],
   "source": [
    "f = x*sp.sin(y) + (y -1)**2\n",
    "val_dict = {x:2, y:0}\n",
    "\n",
    "spdt = f.diff(x,x) * f.diff(y,y) - f.diff(x,y) ** 2\n",
    "spdt\n",
    "\n",
    "spdt.subs(val_dict)\n",
    "\n",
    "f.diff(x,x).subs(val_dict)"
   ]
  },
  {
   "cell_type": "code",
   "execution_count": 6,
   "id": "57c34d0c-1bf8-45bd-b8a9-60261346d623",
   "metadata": {},
   "outputs": [
    {
     "data": {
      "text/latex": [
       "$\\displaystyle - 72 \\sin{\\left(3 x \\right)} \\cos{\\left(2 y \\right)}$"
      ],
      "text/plain": [
       "-72*sin(3*x)*cos(2*y)"
      ]
     },
     "execution_count": 6,
     "metadata": {},
     "output_type": "execute_result"
    },
    {
     "data": {
      "text/latex": [
       "$\\displaystyle 72$"
      ],
      "text/plain": [
       "72"
      ]
     },
     "execution_count": 6,
     "metadata": {},
     "output_type": "execute_result"
    },
    {
     "data": {
      "text/latex": [
       "$\\displaystyle -18$"
      ],
      "text/plain": [
       "-18"
      ]
     },
     "execution_count": 6,
     "metadata": {},
     "output_type": "execute_result"
    }
   ],
   "source": [
    "f = 2 * sp.sin(3*x) - sp.cos(2*y)\n",
    "val_dict = {x:5*sp.pi / 6, y:3*sp.pi/2}\n",
    "\n",
    "spdt = f.diff(x,x) * f.diff(y,y) - f.diff(x,y) ** 2\n",
    "spdt\n",
    "\n",
    "spdt.subs(val_dict)\n",
    "\n",
    "f.diff(x,x).subs(val_dict)"
   ]
  },
  {
   "cell_type": "code",
   "execution_count": 7,
   "id": "38b5a9b5-d124-4f88-bacc-63164478a6fb",
   "metadata": {},
   "outputs": [
    {
     "data": {
      "text/latex": [
       "$\\displaystyle \\left(\\sin{\\left(x - y \\right)} - \\sin{\\left(x + y \\right)}\\right)^{2} - \\left(\\sin{\\left(x - y \\right)} + \\sin{\\left(x + y \\right)}\\right)^{2}$"
      ],
      "text/plain": [
       "(sin(x - y) - sin(x + y))**2 - (sin(x - y) + sin(x + y))**2"
      ]
     },
     "execution_count": 7,
     "metadata": {},
     "output_type": "execute_result"
    },
    {
     "data": {
      "text/latex": [
       "$\\displaystyle 4$"
      ],
      "text/plain": [
       "4"
      ]
     },
     "execution_count": 7,
     "metadata": {},
     "output_type": "execute_result"
    },
    {
     "data": {
      "text/latex": [
       "$\\displaystyle 2$"
      ],
      "text/plain": [
       "2"
      ]
     },
     "execution_count": 7,
     "metadata": {},
     "output_type": "execute_result"
    }
   ],
   "source": [
    "f = sp.sin(x+y) - sp.sin(x-y)\n",
    "val_dict = {x:3*sp.pi, y:sp.pi/2}\n",
    "\n",
    "spdt = f.diff(x,x) * f.diff(y,y) - f.diff(x,y) ** 2\n",
    "spdt\n",
    "\n",
    "spdt.subs(val_dict)\n",
    "\n",
    "f.diff(x,x).subs(val_dict)"
   ]
  },
  {
   "cell_type": "code",
   "execution_count": 8,
   "id": "96816742-fa15-40c2-9185-20c721b6cd53",
   "metadata": {},
   "outputs": [
    {
     "data": {
      "text/latex": [
       "$\\displaystyle - 4 x^{2} e^{2 y} + 2 \\left(x^{2} e^{y} - 6 y\\right) e^{y}$"
      ],
      "text/plain": [
       "-4*x**2*exp(2*y) + 2*(x**2*exp(y) - 6*y)*exp(y)"
      ]
     },
     "execution_count": 8,
     "metadata": {},
     "output_type": "execute_result"
    },
    {
     "data": {
      "text/latex": [
       "$\\displaystyle 0$"
      ],
      "text/plain": [
       "0"
      ]
     },
     "execution_count": 8,
     "metadata": {},
     "output_type": "execute_result"
    },
    {
     "data": {
      "text/latex": [
       "$\\displaystyle 2$"
      ],
      "text/plain": [
       "2"
      ]
     },
     "execution_count": 8,
     "metadata": {},
     "output_type": "execute_result"
    }
   ],
   "source": [
    "f = x**2 * sp.E ** y - y**3\n",
    "val_dict = {x:0, y:0}\n",
    "\n",
    "spdt = f.diff(x,x) * f.diff(y,y) - f.diff(x,y) ** 2\n",
    "spdt\n",
    "\n",
    "spdt.subs(val_dict)\n",
    "\n",
    "f.diff(x,x).subs(val_dict)"
   ]
  },
  {
   "cell_type": "code",
   "execution_count": 9,
   "id": "50509083-25e1-4757-a062-dc327171116c",
   "metadata": {},
   "outputs": [
    {
     "data": {
      "text/latex": [
       "$\\displaystyle 2$"
      ],
      "text/plain": [
       "2"
      ]
     },
     "execution_count": 9,
     "metadata": {},
     "output_type": "execute_result"
    },
    {
     "data": {
      "text/latex": [
       "$\\displaystyle s$"
      ],
      "text/plain": [
       "s"
      ]
     },
     "execution_count": 9,
     "metadata": {},
     "output_type": "execute_result"
    },
    {
     "data": {
      "text/latex": [
       "$\\displaystyle 2$"
      ],
      "text/plain": [
       "2"
      ]
     },
     "execution_count": 9,
     "metadata": {},
     "output_type": "execute_result"
    }
   ],
   "source": [
    "f = x**2 + y**2 + s*x*y\n",
    "\n",
    "f.diff(x,x)\n",
    "f.diff(x,y)\n",
    "f.diff(y,y)"
   ]
  },
  {
   "cell_type": "code",
   "execution_count": null,
   "id": "e9a73179-a542-41bd-b434-e5346485d035",
   "metadata": {},
   "outputs": [],
   "source": []
  },
  {
   "cell_type": "code",
   "execution_count": 10,
   "id": "0e955906-88a1-4128-8f5a-d58ebdc3c43c",
   "metadata": {},
   "outputs": [
    {
     "data": {
      "text/latex": [
       "$\\displaystyle x^{4} - 4 x^{2} + y^{2}$"
      ],
      "text/plain": [
       "x**4 - 4*x**2 + y**2"
      ]
     },
     "execution_count": 10,
     "metadata": {},
     "output_type": "execute_result"
    },
    {
     "name": "stdout",
     "output_type": "stream",
     "text": [
      "\n"
     ]
    },
    {
     "data": {
      "text/latex": [
       "$\\displaystyle 4 x^{3} - 8 x$"
      ],
      "text/plain": [
       "4*x**3 - 8*x"
      ]
     },
     "execution_count": 10,
     "metadata": {},
     "output_type": "execute_result"
    },
    {
     "data": {
      "text/latex": [
       "$\\displaystyle 2 y$"
      ],
      "text/plain": [
       "2*y"
      ]
     },
     "execution_count": 10,
     "metadata": {},
     "output_type": "execute_result"
    },
    {
     "name": "stdout",
     "output_type": "stream",
     "text": [
      "Sol Set - 1\n",
      "x:\n"
     ]
    },
    {
     "data": {
      "text/latex": [
       "$\\displaystyle 0$"
      ],
      "text/plain": [
       "0"
      ]
     },
     "execution_count": 10,
     "metadata": {},
     "output_type": "execute_result"
    },
    {
     "name": "stdout",
     "output_type": "stream",
     "text": [
      "y:\n"
     ]
    },
    {
     "data": {
      "text/latex": [
       "$\\displaystyle 0$"
      ],
      "text/plain": [
       "0"
      ]
     },
     "execution_count": 10,
     "metadata": {},
     "output_type": "execute_result"
    },
    {
     "name": "stdout",
     "output_type": "stream",
     "text": [
      "\n",
      "Sol Set - 2\n",
      "x:\n"
     ]
    },
    {
     "data": {
      "text/latex": [
       "$\\displaystyle - \\sqrt{2}$"
      ],
      "text/plain": [
       "-sqrt(2)"
      ]
     },
     "execution_count": 10,
     "metadata": {},
     "output_type": "execute_result"
    },
    {
     "name": "stdout",
     "output_type": "stream",
     "text": [
      "y:\n"
     ]
    },
    {
     "data": {
      "text/latex": [
       "$\\displaystyle 0$"
      ],
      "text/plain": [
       "0"
      ]
     },
     "execution_count": 10,
     "metadata": {},
     "output_type": "execute_result"
    },
    {
     "name": "stdout",
     "output_type": "stream",
     "text": [
      "\n",
      "Sol Set - 3\n",
      "x:\n"
     ]
    },
    {
     "data": {
      "text/latex": [
       "$\\displaystyle \\sqrt{2}$"
      ],
      "text/plain": [
       "sqrt(2)"
      ]
     },
     "execution_count": 10,
     "metadata": {},
     "output_type": "execute_result"
    },
    {
     "name": "stdout",
     "output_type": "stream",
     "text": [
      "y:\n"
     ]
    },
    {
     "data": {
      "text/latex": [
       "$\\displaystyle 0$"
      ],
      "text/plain": [
       "0"
      ]
     },
     "execution_count": 10,
     "metadata": {},
     "output_type": "execute_result"
    },
    {
     "name": "stdout",
     "output_type": "stream",
     "text": [
      "\n",
      "\n"
     ]
    },
    {
     "data": {
      "text/latex": [
       "$\\displaystyle 4 \\cdot \\left(3 x^{2} - 2\\right)$"
      ],
      "text/plain": [
       "4*(3*x**2 - 2)"
      ]
     },
     "execution_count": 10,
     "metadata": {},
     "output_type": "execute_result"
    },
    {
     "data": {
      "text/latex": [
       "$\\displaystyle 2$"
      ],
      "text/plain": [
       "2"
      ]
     },
     "execution_count": 10,
     "metadata": {},
     "output_type": "execute_result"
    },
    {
     "data": {
      "text/latex": [
       "$\\displaystyle 0$"
      ],
      "text/plain": [
       "0"
      ]
     },
     "execution_count": 10,
     "metadata": {},
     "output_type": "execute_result"
    },
    {
     "name": "stdout",
     "output_type": "stream",
     "text": [
      "\n"
     ]
    },
    {
     "data": {
      "text/latex": [
       "$\\displaystyle 8 \\cdot \\left(3 x^{2} - 2\\right)$"
      ],
      "text/plain": [
       "8*(3*x**2 - 2)"
      ]
     },
     "execution_count": 10,
     "metadata": {},
     "output_type": "execute_result"
    }
   ],
   "source": [
    "f = x**4 - 4 * x**2 + y**2\n",
    "f\n",
    "print()\n",
    "\n",
    " \n",
    "\n",
    "f.diff(x)\n",
    "f.diff(y)\n",
    "for i, s in enumerate(sp.solve([f.diff(x), f.diff(y)]), start=1):\n",
    "    print(f\"Sol Set - {i}\")\n",
    "    for k, v in s.items():\n",
    "        print(f\"{k}:\")\n",
    "        v.simplify()\n",
    "    print()\n",
    "print()\n",
    "\n",
    " \n",
    "\n",
    "f.diff(x,x)\n",
    "f.diff(y,y)\n",
    "f.diff(x,y)\n",
    "print()\n",
    "\n",
    " \n",
    "\n",
    "f.diff(x,x)*f.diff(y,y) - f.diff(x,y)**2\n"
   ]
  },
  {
   "cell_type": "code",
   "execution_count": 11,
   "id": "b8579292-0fb8-4b39-8215-30781bd8679e",
   "metadata": {},
   "outputs": [
    {
     "data": {
      "text/latex": [
       "$\\displaystyle x^{2} y - x^{2} - x y^{2} - y^{2}$"
      ],
      "text/plain": [
       "x**2*y - x**2 - x*y**2 - y**2"
      ]
     },
     "execution_count": 11,
     "metadata": {},
     "output_type": "execute_result"
    },
    {
     "name": "stdout",
     "output_type": "stream",
     "text": [
      "\n"
     ]
    },
    {
     "data": {
      "text/latex": [
       "$\\displaystyle 2 x y - 2 x - y^{2}$"
      ],
      "text/plain": [
       "2*x*y - 2*x - y**2"
      ]
     },
     "execution_count": 11,
     "metadata": {},
     "output_type": "execute_result"
    },
    {
     "data": {
      "text/latex": [
       "$\\displaystyle x^{2} - 2 x y - 2 y$"
      ],
      "text/plain": [
       "x**2 - 2*x*y - 2*y"
      ]
     },
     "execution_count": 11,
     "metadata": {},
     "output_type": "execute_result"
    },
    {
     "name": "stdout",
     "output_type": "stream",
     "text": [
      "Sol Set - 1\n",
      "x:\n"
     ]
    },
    {
     "data": {
      "text/latex": [
       "$\\displaystyle - \\frac{2}{3}$"
      ],
      "text/plain": [
       "-2/3"
      ]
     },
     "execution_count": 11,
     "metadata": {},
     "output_type": "execute_result"
    },
    {
     "name": "stdout",
     "output_type": "stream",
     "text": [
      "y:\n"
     ]
    },
    {
     "data": {
      "text/latex": [
       "$\\displaystyle \\frac{2}{3}$"
      ],
      "text/plain": [
       "2/3"
      ]
     },
     "execution_count": 11,
     "metadata": {},
     "output_type": "execute_result"
    },
    {
     "name": "stdout",
     "output_type": "stream",
     "text": [
      "\n",
      "Sol Set - 2\n",
      "x:\n"
     ]
    },
    {
     "data": {
      "text/latex": [
       "$\\displaystyle 0$"
      ],
      "text/plain": [
       "0"
      ]
     },
     "execution_count": 11,
     "metadata": {},
     "output_type": "execute_result"
    },
    {
     "name": "stdout",
     "output_type": "stream",
     "text": [
      "y:\n"
     ]
    },
    {
     "data": {
      "text/latex": [
       "$\\displaystyle 0$"
      ],
      "text/plain": [
       "0"
      ]
     },
     "execution_count": 11,
     "metadata": {},
     "output_type": "execute_result"
    },
    {
     "name": "stdout",
     "output_type": "stream",
     "text": [
      "\n",
      "Sol Set - 3\n",
      "x:\n"
     ]
    },
    {
     "data": {
      "text/latex": [
       "$\\displaystyle 1 + \\sqrt{5}$"
      ],
      "text/plain": [
       "1 + sqrt(5)"
      ]
     },
     "execution_count": 11,
     "metadata": {},
     "output_type": "execute_result"
    },
    {
     "name": "stdout",
     "output_type": "stream",
     "text": [
      "y:\n"
     ]
    },
    {
     "data": {
      "text/latex": [
       "$\\displaystyle -1 + \\sqrt{5}$"
      ],
      "text/plain": [
       "-1 + sqrt(5)"
      ]
     },
     "execution_count": 11,
     "metadata": {},
     "output_type": "execute_result"
    },
    {
     "name": "stdout",
     "output_type": "stream",
     "text": [
      "\n",
      "Sol Set - 4\n",
      "x:\n"
     ]
    },
    {
     "data": {
      "text/latex": [
       "$\\displaystyle 1 - \\sqrt{5}$"
      ],
      "text/plain": [
       "1 - sqrt(5)"
      ]
     },
     "execution_count": 11,
     "metadata": {},
     "output_type": "execute_result"
    },
    {
     "name": "stdout",
     "output_type": "stream",
     "text": [
      "y:\n"
     ]
    },
    {
     "data": {
      "text/latex": [
       "$\\displaystyle - \\sqrt{5} - 1$"
      ],
      "text/plain": [
       "-sqrt(5) - 1"
      ]
     },
     "execution_count": 11,
     "metadata": {},
     "output_type": "execute_result"
    },
    {
     "name": "stdout",
     "output_type": "stream",
     "text": [
      "\n",
      "\n"
     ]
    },
    {
     "data": {
      "text/latex": [
       "$\\displaystyle 2 \\left(y - 1\\right)$"
      ],
      "text/plain": [
       "2*(y - 1)"
      ]
     },
     "execution_count": 11,
     "metadata": {},
     "output_type": "execute_result"
    },
    {
     "data": {
      "text/latex": [
       "$\\displaystyle - 2 \\left(x + 1\\right)$"
      ],
      "text/plain": [
       "-2*(x + 1)"
      ]
     },
     "execution_count": 11,
     "metadata": {},
     "output_type": "execute_result"
    },
    {
     "data": {
      "text/latex": [
       "$\\displaystyle 2 \\left(x - y\\right)$"
      ],
      "text/plain": [
       "2*(x - y)"
      ]
     },
     "execution_count": 11,
     "metadata": {},
     "output_type": "execute_result"
    },
    {
     "name": "stdout",
     "output_type": "stream",
     "text": [
      "\n"
     ]
    },
    {
     "data": {
      "text/latex": [
       "$\\displaystyle - 4 \\left(x + 1\\right) \\left(y - 1\\right) - 4 \\left(x - y\\right)^{2}$"
      ],
      "text/plain": [
       "-4*(x + 1)*(y - 1) - 4*(x - y)**2"
      ]
     },
     "execution_count": 11,
     "metadata": {},
     "output_type": "execute_result"
    }
   ],
   "source": [
    "f = x**2*y - y**2*x - x**2 - y**2\n",
    "f\n",
    "print()\n",
    "\n",
    " \n",
    "\n",
    "f.diff(x)\n",
    "f.diff(y)\n",
    "for i, s in enumerate(sp.solve([f.diff(x), f.diff(y)]), start=1):\n",
    "    print(f\"Sol Set - {i}\")\n",
    "    for k, v in s.items():\n",
    "        print(f\"{k}:\")\n",
    "        v.simplify()\n",
    "    print()\n",
    "print()\n",
    "\n",
    " \n",
    "\n",
    "f.diff(x,x)\n",
    "f.diff(y,y)\n",
    "f.diff(x,y)\n",
    "print()\n",
    "\n",
    " \n",
    "\n",
    "f.diff(x,x)*f.diff(y,y) - f.diff(x,y)**2"
   ]
  },
  {
   "cell_type": "code",
   "execution_count": null,
   "id": "c86979ec-f9a6-4786-a419-a3650aee046c",
   "metadata": {},
   "outputs": [],
   "source": []
  }
 ],
 "metadata": {
  "kernelspec": {
   "display_name": "Math",
   "language": "python",
   "name": "math"
  },
  "language_info": {
   "codemirror_mode": {
    "name": "ipython",
    "version": 3
   },
   "file_extension": ".py",
   "mimetype": "text/x-python",
   "name": "python",
   "nbconvert_exporter": "python",
   "pygments_lexer": "ipython3",
   "version": "3.8.13"
  }
 },
 "nbformat": 4,
 "nbformat_minor": 5
}
