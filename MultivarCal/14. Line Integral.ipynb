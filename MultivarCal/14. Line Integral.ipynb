{
 "cells": [
  {
   "cell_type": "code",
   "execution_count": 1,
   "id": "5877392b-9aa4-4c62-a64b-82bc95e8d947",
   "metadata": {},
   "outputs": [
    {
     "name": "stdout",
     "output_type": "stream",
     "text": [
      "Added D:\\Dev\\Code\\MyMathLab to PATH\n"
     ]
    }
   ],
   "source": [
    "from IPython.core.interactiveshell import InteractiveShell\n",
    "InteractiveShell.ast_node_interactivity = 'all'\n",
    "\n",
    "# import self-made module\n",
    "import os, sys, pathlib\n",
    "file_path = os.path.abspath('')\n",
    "PROJECT_DIR = str(pathlib.Path(file_path).parent)\n",
    "sys.path.append(PROJECT_DIR)\n",
    "print(f\"Added {PROJECT_DIR} to PATH\")\n",
    "from athena import *\n",
    "from sympy.vector import CoordSys3D, gradient, curl\n",
    "\n",
    "sp.init_printing()\n",
    "\n",
    "# ult functions\n",
    "def reset_symbols():\n",
    "    global x, y, z, a, b, c, d, e, f, g, h, s, k, t, theta, lmda\n",
    "    x, y, z = sp.symbols('x y z', real=True)\n",
    "    a, b, c, d, e, f, g, h, s, k, t = sp.symbols('a b c d e f g h s k t', real=True)\n",
    "    theta = sp.Symbol('theta')\n",
    "    lmda = sp.Symbol('lambda')\n",
    "\n",
    "reset_symbols()"
   ]
  },
  {
   "cell_type": "code",
   "execution_count": 2,
   "id": "51235eb8-72a8-4702-ace4-30ebae2064ac",
   "metadata": {},
   "outputs": [
    {
     "data": {
      "image/png": "[encoded data removed]",
      "text/latex": [
       "$\\displaystyle \\operatorname{Curve}\\left(\\left( 6 t, \\  t\\right), \\left( t, \\  -1, \\  1\\right)\\right)$"
      ],
      "text/plain": [
       "Curve((6*t, t), (t, -1, 1))"
      ]
     },
     "execution_count": 2,
     "metadata": {},
     "output_type": "execute_result"
    },
    {
     "data": {
      "image/png": "[encoded data removed]",
      "text/latex": [
       "$\\displaystyle 24 \\sqrt{37}$"
      ],
      "text/plain": [
       "24⋅√37"
      ]
     },
     "execution_count": 2,
     "metadata": {},
     "output_type": "execute_result"
    }
   ],
   "source": [
    "curve = sp.Curve((6*t, t), (t, -1, 1))\n",
    "curve\n",
    "sp.line_integrate(x**2, curve, [x, y])"
   ]
  },
  {
   "cell_type": "code",
   "execution_count": 3,
   "id": "5ea5b5a4-dc81-47f1-b8d9-20f5aca392bb",
   "metadata": {},
   "outputs": [
    {
     "data": {
      "image/png": "[encoded data removed]",
      "text/latex": [
       "$\\displaystyle \\operatorname{Curve}\\left(\\left( - t, \\  2 t^{2}\\right), \\left( t, \\  1, \\  2\\right)\\right)$"
      ],
      "text/plain": [
       "Curve((-t, 2*t**2), (t, 1, 2))"
      ]
     },
     "execution_count": 3,
     "metadata": {},
     "output_type": "execute_result"
    },
    {
     "data": {
      "image/png": "[encoded data removed]",
      "text/latex": [
       "$\\displaystyle - 2 \\int\\limits_{1}^{2} \\frac{\\sqrt{16 t^{2} + 1}}{2 t - 1}\\, dt + 6 \\int\\limits_{1}^{2} \\frac{t \\sqrt{16 t^{2} + 1}}{2 t - 1}\\, dt$"
      ],
      "text/plain": [
       "    2                       2                    \n",
       "    ⌠                       ⌠                    \n",
       "    ⎮    ___________        ⎮      ___________   \n",
       "    ⎮   ╱     2             ⎮     ╱     2        \n",
       "    ⎮ ╲╱  16⋅t  + 1         ⎮ t⋅╲╱  16⋅t  + 1    \n",
       "- 2⋅⎮ ────────────── dt + 6⋅⎮ ──────────────── dt\n",
       "    ⎮    2⋅t - 1            ⎮     2⋅t - 1        \n",
       "    ⌡                       ⌡                    \n",
       "    1                       1                    "
      ]
     },
     "execution_count": 3,
     "metadata": {},
     "output_type": "execute_result"
    }
   ],
   "source": [
    "curve = sp.Curve((-t, 2*t**2), (t, 1, 2))\n",
    "curve\n",
    "\n",
    "f = (2*x + 3*y) / (x+y)\n",
    "sp.line_integrate(f, curve, [x, y]).simplify()"
   ]
  },
  {
   "cell_type": "code",
   "execution_count": 4,
   "id": "e0764786-5f65-491b-bb9b-bf5352ba2335",
   "metadata": {},
   "outputs": [
    {
     "data": {
      "image/png": "[encoded data removed]",
      "text/latex": [
       "$\\displaystyle \\operatorname{Curve}\\left(\\left( \\cos{\\left(t \\right)}, \\  \\sin{\\left(t \\right)} - 1\\right), \\left( t, \\  0, \\  2 \\pi\\right)\\right)$"
      ],
      "text/plain": [
       "Curve((cos(t), sin(t) - 1), (t, 0, 2*pi))"
      ]
     },
     "execution_count": 4,
     "metadata": {},
     "output_type": "execute_result"
    },
    {
     "data": {
      "image/png": "[encoded data removed]",
      "text/latex": [
       "$\\displaystyle 2 \\pi$"
      ],
      "text/plain": [
       "2⋅π"
      ]
     },
     "execution_count": 4,
     "metadata": {},
     "output_type": "execute_result"
    }
   ],
   "source": [
    "curve = sp.Curve((sp.cos(t), sp.sin(t) - 1), (t, 0, 2*sp.pi))\n",
    "curve\n",
    "\n",
    "f = -y\n",
    "sp.line_integrate(f, curve, [x, y]).simplify()"
   ]
  },
  {
   "cell_type": "code",
   "execution_count": 5,
   "id": "da1d4885-6da1-4f8f-a23c-38c20453b6c0",
   "metadata": {},
   "outputs": [
    {
     "data": {
      "image/png": "[encoded data removed]",
      "text/latex": [
       "$\\displaystyle \\operatorname{Curve}\\left(\\left( t, \\  t\\right), \\left( t, \\  0, \\  \\pi\\right)\\right)$"
      ],
      "text/plain": [
       "Curve((t, t), (t, 0, pi))"
      ]
     },
     "execution_count": 5,
     "metadata": {},
     "output_type": "execute_result"
    },
    {
     "data": {
      "image/png": "[encoded data removed]",
      "text/latex": [
       "$\\displaystyle 4 \\sqrt{2}$"
      ],
      "text/plain": [
       "4⋅√2"
      ]
     },
     "execution_count": 5,
     "metadata": {},
     "output_type": "execute_result"
    }
   ],
   "source": [
    "curve = sp.Curve((t, t), (t, 0, sp.pi))\n",
    "curve\n",
    "\n",
    "f = sp.sin(x) + sp.sin(y)\n",
    "sp.line_integrate(f, curve, [x, y]).simplify()"
   ]
  },
  {
   "cell_type": "code",
   "execution_count": null,
   "id": "0e7bed0b-a3dc-4972-8899-c60a3b62dad4",
   "metadata": {},
   "outputs": [],
   "source": []
  },
  {
   "cell_type": "code",
   "execution_count": 6,
   "id": "cc04cac8-c5e0-42b6-a72e-66cbaf3ac707",
   "metadata": {},
   "outputs": [
    {
     "data": {
      "image/png": "[encoded data removed]",
      "text/latex": [
       "$\\displaystyle \\frac{\\partial}{\\partial x} y = \\sqrt{1 - x^{2}}$"
      ],
      "text/plain": [
       "  ⎛       ________⎞\n",
       "∂ ⎜      ╱      2 ⎟\n",
       "──⎝y = ╲╱  1 - x  ⎠\n",
       "∂x                 "
      ]
     },
     "execution_count": 6,
     "metadata": {},
     "output_type": "execute_result"
    }
   ],
   "source": [
    "eq = sp.Eq(y, sp.sqrt(1 - x**2))\n",
    "sp.Derivative(eq, x)"
   ]
  },
  {
   "cell_type": "code",
   "execution_count": 7,
   "id": "2cf86b4d-1ba0-49f3-a540-d96d71c9be6a",
   "metadata": {},
   "outputs": [
    {
     "data": {
      "image/png": "[encoded data removed]",
      "text/latex": [
       "$\\displaystyle \\sqrt{\\frac{1}{1 - x^{2}}}$"
      ],
      "text/plain": [
       "     ________\n",
       "    ╱   1    \n",
       "   ╱  ────── \n",
       "  ╱        2 \n",
       "╲╱    1 - x  "
      ]
     },
     "execution_count": 7,
     "metadata": {},
     "output_type": "execute_result"
    },
    {
     "data": {
      "image/png": "[encoded data removed]",
      "text/latex": [
       "$\\displaystyle \\pi$"
      ],
      "text/plain": [
       "π"
      ]
     },
     "execution_count": 7,
     "metadata": {},
     "output_type": "execute_result"
    }
   ],
   "source": [
    "expr = sp.sqrt(1/(1-x**2))\n",
    "expr\n",
    "expr.integrate((x, -1, 1))"
   ]
  },
  {
   "cell_type": "code",
   "execution_count": 8,
   "id": "ad5be954-b18a-491f-aa86-31e139047e5c",
   "metadata": {},
   "outputs": [
    {
     "data": {
      "image/png": "[encoded data removed]",
      "text/latex": [
       "$\\displaystyle dx \\cos{\\left(x \\right)}$"
      ],
      "text/plain": [
       "dx⋅cos(x)"
      ]
     },
     "execution_count": 8,
     "metadata": {},
     "output_type": "execute_result"
    },
    {
     "data": {
      "image/png": "[encoded data removed]",
      "text/latex": [
       "$\\displaystyle \\sqrt{\\cos^{2}{\\left(x \\right)} + 1} \\sqrt{dx^{2}}$"
      ],
      "text/plain": [
       "   _____________    _____\n",
       "  ╱    2           ╱   2 \n",
       "╲╱  cos (x) + 1 ⋅╲╱  dx  "
      ]
     },
     "execution_count": 8,
     "metadata": {},
     "output_type": "execute_result"
    }
   ],
   "source": [
    "dy, dx = sp.symbols('dy dx')\n",
    "f = sp.sin(x)\n",
    "eq = sp.Eq(dy/dx, f.diff(*f.free_symbols))\n",
    "dy = sp.solve(eq, dy)[0]\n",
    "dy\n",
    "\n",
    "expr = sp.sqrt(dx**2 + dy**2)\n",
    "expr.simplify()"
   ]
  },
  {
   "cell_type": "code",
   "execution_count": 9,
   "id": "2e160c75-752c-4a5c-b993-a16310ecc5f0",
   "metadata": {},
   "outputs": [
    {
     "data": {
      "image/png": "[encoded data removed]",
      "text/latex": [
       "$\\displaystyle 2 dy y$"
      ],
      "text/plain": [
       "2⋅dy⋅y"
      ]
     },
     "execution_count": 9,
     "metadata": {},
     "output_type": "execute_result"
    },
    {
     "data": {
      "image/png": "[encoded data removed]",
      "text/latex": [
       "$\\displaystyle \\sqrt{4 y^{2} + 1} \\sqrt{dy^{2}}$"
      ],
      "text/plain": [
       "   __________    _____\n",
       "  ╱    2        ╱   2 \n",
       "╲╱  4⋅y  + 1 ⋅╲╱  dy  "
      ]
     },
     "execution_count": 9,
     "metadata": {},
     "output_type": "execute_result"
    }
   ],
   "source": [
    "dy, dx = sp.symbols('dy dx')\n",
    "f = y**2\n",
    "eq = sp.Eq(dx/dy, f.diff(*f.free_symbols))\n",
    "dx = sp.solve(eq, dx)[0]\n",
    "dx\n",
    "\n",
    "expr = sp.sqrt(dx**2 + dy**2)\n",
    "expr.simplify()"
   ]
  },
  {
   "cell_type": "code",
   "execution_count": 10,
   "id": "57eb6458-40d6-4578-83d4-627cf5703b13",
   "metadata": {},
   "outputs": [
    {
     "data": {
      "image/png": "[encoded data removed]",
      "text/latex": [
       "$\\displaystyle \\sqrt{\\cos^{2}{\\left(x \\right)} + 1}$"
      ],
      "text/plain": [
       "   _____________\n",
       "  ╱    2        \n",
       "╲╱  cos (x) + 1 "
      ]
     },
     "execution_count": 10,
     "metadata": {},
     "output_type": "execute_result"
    },
    {
     "data": {
      "image/png": "[encoded data removed]",
      "text/latex": [
       "$\\displaystyle \\int\\limits_{0}^{2 \\pi} \\sqrt{\\cos^{2}{\\left(x \\right)} + 1}\\, dx$"
      ],
      "text/plain": [
       "2⋅π                    \n",
       " ⌠                     \n",
       " ⎮     _____________   \n",
       " ⎮    ╱    2           \n",
       " ⎮  ╲╱  cos (x) + 1  dx\n",
       " ⌡                     \n",
       " 0                     "
      ]
     },
     "execution_count": 10,
     "metadata": {},
     "output_type": "execute_result"
    },
    {
     "data": {
      "image/png": "[encoded data removed]",
      "text/latex": [
       "$\\displaystyle \\int\\limits_{0}^{2 \\pi} \\sqrt{\\cos^{2}{\\left(x \\right)} + 1}\\, dx$"
      ],
      "text/plain": [
       "2⋅π                    \n",
       " ⌠                     \n",
       " ⎮     _____________   \n",
       " ⎮    ╱    2           \n",
       " ⎮  ╲╱  cos (x) + 1  dx\n",
       " ⌡                     \n",
       " 0                     "
      ]
     },
     "execution_count": 10,
     "metadata": {},
     "output_type": "execute_result"
    }
   ],
   "source": [
    "expr = sp.sqrt(1 + sp.sin(x).diff(x) ** 2)\n",
    "expr\n",
    "itg = expr.integrate((x, 0, sp.pi * 2))\n",
    "itg\n",
    "itg.doit()"
   ]
  },
  {
   "cell_type": "code",
   "execution_count": 11,
   "id": "9ad640d7-cf98-46e6-9dd3-0651e2079fb4",
   "metadata": {},
   "outputs": [
    {
     "data": {
      "image/png": "[encoded data removed]",
      "text/latex": [
       "$\\displaystyle \\sqrt{2}$"
      ],
      "text/plain": [
       "√2"
      ]
     },
     "execution_count": 11,
     "metadata": {},
     "output_type": "execute_result"
    },
    {
     "data": {
      "image/png": "[encoded data removed]",
      "text/latex": [
       "$\\displaystyle \\sqrt{2}$"
      ],
      "text/plain": [
       "√2"
      ]
     },
     "execution_count": 11,
     "metadata": {},
     "output_type": "execute_result"
    }
   ],
   "source": [
    "expr = sp.sqrt(sp.cos(x) ** 2 + 1)\n",
    "expr.subs({x:sp.pi*2})\n",
    "expr.subs({x:0})"
   ]
  },
  {
   "cell_type": "code",
   "execution_count": null,
   "id": "6eace65f-0e65-4319-9456-ac84289eee1d",
   "metadata": {},
   "outputs": [],
   "source": []
  },
  {
   "cell_type": "code",
   "execution_count": 12,
   "id": "d4a0d6bb-b74f-412f-b841-408ebea22b2f",
   "metadata": {},
   "outputs": [
    {
     "data": {
      "image/png": "[encoded data removed]",
      "text/latex": [
       "$\\displaystyle \\operatorname{Curve}\\left(\\left( t^{3} - 3 t, \\  3 t^{2}\\right), \\left( t, \\  -2, \\  2\\right)\\right)$"
      ],
      "text/plain": [
       "Curve((t**3 - 3*t, 3*t**2), (t, -2, 2))"
      ]
     },
     "execution_count": 12,
     "metadata": {},
     "output_type": "execute_result"
    },
    {
     "data": {
      "image/png": "[encoded data removed]",
      "text/latex": [
       "$\\displaystyle 3 \\left(\\int\\limits_{-2}^{2} 1\\, dt + \\int\\limits_{-2}^{2} t^{2}\\, dt\\right)$"
      ],
      "text/plain": [
       "  ⎛          2       ⎞\n",
       "  ⎜2         ⌠       ⎟\n",
       "  ⎜⌠         ⎮   2   ⎟\n",
       "3⋅⎜⎮  1 dt + ⎮  t  dt⎟\n",
       "  ⎜⌡         ⌡       ⎟\n",
       "  ⎝-2        -2      ⎠"
      ]
     },
     "execution_count": 12,
     "metadata": {},
     "output_type": "execute_result"
    },
    {
     "data": {
      "image/png": "[encoded data removed]",
      "text/latex": [
       "$\\displaystyle 28.0$"
      ],
      "text/plain": [
       "28.0000000000000"
      ]
     },
     "execution_count": 12,
     "metadata": {},
     "output_type": "execute_result"
    }
   ],
   "source": [
    "curve = sp.Curve((t**3-3*t, 3*t**2), (t, -2, 2))\n",
    "curve\n",
    "curve.length\n",
    "curve.length.evalf()"
   ]
  },
  {
   "cell_type": "code",
   "execution_count": null,
   "id": "46032d1e-e948-4875-93b8-91c4ab8f2b21",
   "metadata": {},
   "outputs": [],
   "source": []
  },
  {
   "cell_type": "code",
   "execution_count": 18,
   "id": "571e266c-1d55-4611-a45d-f972f0882dbe",
   "metadata": {},
   "outputs": [
    {
     "data": {
      "image/png": "[encoded data removed]",
      "text/latex": [
       "$\\displaystyle \\operatorname{Curve}\\left(\\left( t \\cos{\\left(t \\right)}, \\  t \\sin{\\left(t \\right)}\\right), \\left( t, \\  0, \\  2 \\pi\\right)\\right)$"
      ],
      "text/plain": [
       "Curve((t*cos(t), t*sin(t)), (t, 0, 2*pi))"
      ]
     },
     "execution_count": 18,
     "metadata": {},
     "output_type": "execute_result"
    },
    {
     "data": {
      "image/png": "[encoded data removed]",
      "text/latex": [
       "$\\displaystyle \\int\\limits_{0}^{2 \\pi} \\sqrt{t^{2} + 1}\\, dt$"
      ],
      "text/plain": [
       "2⋅π               \n",
       " ⌠                \n",
       " ⎮     ________   \n",
       " ⎮    ╱  2        \n",
       " ⎮  ╲╱  t  + 1  dt\n",
       " ⌡                \n",
       " 0                "
      ]
     },
     "execution_count": 18,
     "metadata": {},
     "output_type": "execute_result"
    }
   ],
   "source": [
    "curve = sp.Curve((t*sp.cos(t), t*sp.sin(t)), (t, 0, 2*sp.pi))\n",
    "curve\n",
    "curve.length.simplify()"
   ]
  },
  {
   "cell_type": "code",
   "execution_count": null,
   "id": "2c67277a-e3b6-4bda-81e5-1828c3dbdaa2",
   "metadata": {},
   "outputs": [],
   "source": []
  },
  {
   "cell_type": "code",
   "execution_count": 20,
   "id": "e931b53e-2c1d-4236-b1dd-98489e3d3450",
   "metadata": {},
   "outputs": [
    {
     "data": {
      "image/png": "[encoded data removed]",
      "text/latex": [
       "$\\displaystyle \\operatorname{Curve}\\left(\\left( 2 \\cos{\\left(t \\right)}, \\  2 \\sin{\\left(t \\right)}\\right), \\left( t, \\  0, \\  \\frac{\\pi}{2}\\right)\\right)$"
      ],
      "text/plain": [
       "Curve((2*cos(t), 2*sin(t)), (t, 0, pi/2))"
      ]
     },
     "execution_count": 20,
     "metadata": {},
     "output_type": "execute_result"
    },
    {
     "data": {
      "image/png": "[encoded data removed]",
      "text/latex": [
       "$\\displaystyle 8$"
      ],
      "text/plain": [
       "8"
      ]
     },
     "execution_count": 20,
     "metadata": {},
     "output_type": "execute_result"
    }
   ],
   "source": [
    "curve = sp.Curve((2*sp.cos(t), 2*sp.sin(t)), (t, 0, sp.pi/2))\n",
    "curve\n",
    "\n",
    "f = x + y\n",
    "sp.line_integrate(f, curve, [x, y]).simplify()"
   ]
  },
  {
   "cell_type": "code",
   "execution_count": 27,
   "id": "6fe07966-f4d4-4d2f-b62b-68155ec1b44f",
   "metadata": {},
   "outputs": [
    {
     "data": {
      "text/latex": [
       "$\\displaystyle \\left[\\begin{matrix}- 2 \\sin{\\left(t \\right)}\\\\2 \\cos{\\left(t \\right)}\\end{matrix}\\right]$"
      ],
      "text/plain": [
       "⎡-2⋅sin(t)⎤\n",
       "⎢         ⎥\n",
       "⎣2⋅cos(t) ⎦"
      ]
     },
     "execution_count": 27,
     "metadata": {},
     "output_type": "execute_result"
    },
    {
     "data": {
      "image/png": "[encoded data removed]",
      "text/latex": [
       "$\\displaystyle 2$"
      ],
      "text/plain": [
       "2"
      ]
     },
     "execution_count": 27,
     "metadata": {},
     "output_type": "execute_result"
    }
   ],
   "source": [
    "r = sp.Matrix([2*sp.cos(t), 2*sp.sin(t)])\n",
    "\n",
    "r_dt = r.diff(t)\n",
    "r_dt\n",
    "\n",
    "sp.sqrt(r_dt[0]**2 + r_dt[1]**2).simplify()"
   ]
  },
  {
   "cell_type": "code",
   "execution_count": null,
   "id": "f64ce33f-d87e-493f-b402-51643d3b89cc",
   "metadata": {},
   "outputs": [],
   "source": []
  },
  {
   "cell_type": "code",
   "execution_count": 134,
   "id": "45ca3628-3cbf-4a70-a9f3-5d04d45248ea",
   "metadata": {},
   "outputs": [
    {
     "data": {
      "text/latex": [
       "$\\displaystyle \\left[\\begin{matrix}t^{4} - \\frac{1}{t^{2}}\\\\2 t\\end{matrix}\\right]$"
      ],
      "text/plain": [
       "⎡ 4   1 ⎤\n",
       "⎢t  - ──⎥\n",
       "⎢      2⎥\n",
       "⎢     t ⎥\n",
       "⎢       ⎥\n",
       "⎣  2⋅t  ⎦"
      ]
     },
     "execution_count": 134,
     "metadata": {},
     "output_type": "execute_result"
    },
    {
     "data": {
      "image/png": "[encoded data removed]",
      "text/latex": [
       "$\\displaystyle \\sqrt{4 t^{2} + \\left(t^{4} - \\frac{1}{t^{2}}\\right)^{2}}$"
      ],
      "text/plain": [
       "      ___________________\n",
       "     ╱                 2 \n",
       "    ╱     2   ⎛ 4   1 ⎞  \n",
       "   ╱   4⋅t  + ⎜t  - ──⎟  \n",
       "  ╱           ⎜      2⎟  \n",
       "╲╱            ⎝     t ⎠  "
      ]
     },
     "execution_count": 134,
     "metadata": {},
     "output_type": "execute_result"
    },
    {
     "data": {
      "image/png": "[encoded data removed]",
      "text/latex": [
       "$\\displaystyle \\sqrt{t^{8} + 2 t^{2} + \\frac{1}{t^{4}}}$"
      ],
      "text/plain": [
       "     ________________\n",
       "    ╱  8      2   1  \n",
       "   ╱  t  + 2⋅t  + ── \n",
       "  ╱                4 \n",
       "╲╱                t  "
      ]
     },
     "execution_count": 134,
     "metadata": {},
     "output_type": "execute_result"
    },
    {
     "data": {
      "text/plain": [
       "False"
      ]
     },
     "execution_count": 134,
     "metadata": {},
     "output_type": "execute_result"
    },
    {
     "data": {
      "image/png": "[encoded data removed]",
      "text/latex": [
       "$\\displaystyle t^{4} + \\frac{1}{t^{2}}$"
      ],
      "text/plain": [
       " 4   1 \n",
       "t  + ──\n",
       "      2\n",
       "     t "
      ]
     },
     "execution_count": 134,
     "metadata": {},
     "output_type": "execute_result"
    }
   ],
   "source": [
    "s = sp.Matrix( [1/t + sp.Rational(1, 5) * t**5, t**2])\n",
    "s_dt = s.diff(t)\n",
    "s_dt\n",
    "\n",
    "s_dt_mag = sp.sqrt( s_dt[0] ** 2 + s_dt[1] ** 2)\n",
    "s_dt_mag\n",
    "s_dt_mag.expand()\n",
    "\n",
    "expr1 = s_dt_mag.expand()\n",
    "expr2 = t**4 + 1/t**2\n",
    "\n",
    "expr1.equals(expr2)\n",
    "expr2"
   ]
  },
  {
   "cell_type": "code",
   "execution_count": 135,
   "id": "b08d0d04-4dac-4cf7-837a-07eca14e77e6",
   "metadata": {},
   "outputs": [
    {
     "data": {
      "image/png": "[encoded data removed]",
      "text/latex": [
       "$\\displaystyle t^{4} + \\frac{1}{t^{2}}$"
      ],
      "text/plain": [
       " 4   1 \n",
       "t  + ──\n",
       "      2\n",
       "     t "
      ]
     },
     "execution_count": 135,
     "metadata": {},
     "output_type": "execute_result"
    },
    {
     "data": {
      "image/png": "[encoded data removed]",
      "text/latex": [
       "$\\displaystyle \\sqrt{\\left(t^{4} + \\frac{1}{t^{2}}\\right)^{2}}$"
      ],
      "text/plain": [
       "      ____________\n",
       "     ╱          2 \n",
       "    ╱  ⎛ 4   1 ⎞  \n",
       "   ╱   ⎜t  + ──⎟  \n",
       "  ╱    ⎜      2⎟  \n",
       "╲╱     ⎝     t ⎠  "
      ]
     },
     "execution_count": 135,
     "metadata": {},
     "output_type": "execute_result"
    },
    {
     "data": {
      "image/png": "[encoded data removed]",
      "text/latex": [
       "$\\displaystyle t^{4} + \\frac{1}{t^{2}} = \\sqrt{\\left(t^{4} + \\frac{1}{t^{2}}\\right)^{2}}$"
      ],
      "text/plain": [
       "                ____________\n",
       "               ╱          2 \n",
       " 4   1        ╱  ⎛ 4   1 ⎞  \n",
       "t  + ── =    ╱   ⎜t  + ──⎟  \n",
       "      2     ╱    ⎜      2⎟  \n",
       "     t    ╲╱     ⎝     t ⎠  "
      ]
     },
     "execution_count": 135,
     "metadata": {},
     "output_type": "execute_result"
    },
    {
     "name": "stdout",
     "output_type": "stream",
     "text": [
      "whether equals:\n"
     ]
    },
    {
     "data": {
      "text/plain": [
       "True"
      ]
     },
     "execution_count": 135,
     "metadata": {},
     "output_type": "execute_result"
    },
    {
     "name": "stdout",
     "output_type": "stream",
     "text": [
      "\n",
      "After expand(): \n"
     ]
    },
    {
     "data": {
      "image/png": "[encoded data removed]",
      "text/latex": [
       "$\\displaystyle t^{4} + \\frac{1}{t^{2}} = \\sqrt{t^{8} + 2 t^{2} + \\frac{1}{t^{4}}}$"
      ],
      "text/plain": [
       "               ________________\n",
       " 4   1        ╱  8      2   1  \n",
       "t  + ── =    ╱  t  + 2⋅t  + ── \n",
       "      2     ╱                4 \n",
       "     t    ╲╱                t  "
      ]
     },
     "execution_count": 135,
     "metadata": {},
     "output_type": "execute_result"
    },
    {
     "name": "stdout",
     "output_type": "stream",
     "text": [
      "whether equals:\n"
     ]
    },
    {
     "data": {
      "text/plain": [
       "False"
      ]
     },
     "execution_count": 135,
     "metadata": {},
     "output_type": "execute_result"
    }
   ],
   "source": [
    "initial_expr = 1 / (t**2) + t**4\n",
    "initial_expr\n",
    "\n",
    "sq_sqrt_expr = sp.sqrt(initial_expr**2)\n",
    "sq_sqrt_expr\n",
    "\n",
    "eq1 = sp.Eq(initial_expr, sq_sqrt_expr)\n",
    "eq1\n",
    "print('whether equals:')\n",
    "eq1.lhs.equals(eq1.rhs)\n",
    "\n",
    "print('\\nAfter expand(): ')\n",
    "eq2 = sp.Eq(initial_expr, sq_sqrt_expr.expand())\n",
    "eq2\n",
    "print('whether equals:')\n",
    "eq2.lhs.equals(eq2.rhs)"
   ]
  },
  {
   "cell_type": "code",
   "execution_count": 139,
   "id": "47f4e868-ded0-4ff5-991d-f4c321e5e88b",
   "metadata": {},
   "outputs": [
    {
     "data": {
      "image/png": "[encoded data removed]",
      "text/latex": [
       "$\\displaystyle t^{4} + \\frac{1}{t^{2}}$"
      ],
      "text/plain": [
       " 4   1 \n",
       "t  + ──\n",
       "      2\n",
       "     t "
      ]
     },
     "execution_count": 139,
     "metadata": {},
     "output_type": "execute_result"
    },
    {
     "data": {
      "image/png": "[encoded data removed]",
      "text/latex": [
       "$\\displaystyle \\sqrt{\\left(t^{4} + \\frac{1}{t^{2}}\\right)^{2}}$"
      ],
      "text/plain": [
       "      ____________\n",
       "     ╱          2 \n",
       "    ╱  ⎛ 4   1 ⎞  \n",
       "   ╱   ⎜t  + ──⎟  \n",
       "  ╱    ⎜      2⎟  \n",
       "╲╱     ⎝     t ⎠  "
      ]
     },
     "execution_count": 139,
     "metadata": {},
     "output_type": "execute_result"
    },
    {
     "data": {
      "image/png": "[encoded data removed]",
      "text/latex": [
       "$\\displaystyle \\sqrt{t^{8} + 2 t^{2} + \\frac{1}{t^{4}}}$"
      ],
      "text/plain": [
       "     ________________\n",
       "    ╱  8      2   1  \n",
       "   ╱  t  + 2⋅t  + ── \n",
       "  ╱                4 \n",
       "╲╱                t  "
      ]
     },
     "execution_count": 139,
     "metadata": {},
     "output_type": "execute_result"
    },
    {
     "name": "stdout",
     "output_type": "stream",
     "text": [
      "if equals = False\n"
     ]
    }
   ],
   "source": [
    "expr =  1 / (t**2) + t**4\n",
    "expr\n",
    "\n",
    "sq_sqrt_expr = sp.sqrt(initial_expr**2)\n",
    "sq_sqrt_expr\n",
    "sq_sqrt_expr.expand()\n",
    "\n",
    "if_equal = sq_sqrt_expr.equals(sq_sqrt_expr.expand())\n",
    "print(f\"if equals = {if_equal}\")"
   ]
  },
  {
   "cell_type": "code",
   "execution_count": null,
   "id": "a42c0589-7c98-4bfd-9fec-fbb3c6982eb3",
   "metadata": {},
   "outputs": [],
   "source": []
  },
  {
   "cell_type": "code",
   "execution_count": 60,
   "id": "018358d0-debc-4e84-a24e-c8f06c5fec62",
   "metadata": {},
   "outputs": [
    {
     "data": {
      "image/png": "[encoded data removed]",
      "text/latex": [
       "$\\displaystyle \\left(\\frac{t^{5}}{5} + \\frac{1}{t}\\right)\\mathbf{\\hat{i}_{.}} + \\left(t^{2}\\right)\\mathbf{\\hat{j}_{.}}$"
      ],
      "text/plain": [
       "⎛ 5    ⎞       ⎛ 2⎞     \n",
       "⎜t    1⎟ i_. + ⎝t ⎠ j_. \n",
       "⎜── + ─⎟                \n",
       "⎝5    t⎠                "
      ]
     },
     "execution_count": 60,
     "metadata": {},
     "output_type": "execute_result"
    },
    {
     "data": {
      "image/png": "[encoded data removed]",
      "text/latex": [
       "$\\displaystyle \\left(t^{4} - \\frac{1}{t^{2}}\\right)\\mathbf{\\hat{i}_{.}} + \\left(2 t\\right)\\mathbf{\\hat{j}_{.}}$"
      ],
      "text/plain": [
       "⎛ 4   1 ⎞                \n",
       "⎜t  - ──⎟ i_. + (2⋅t) j_.\n",
       "⎜      2⎟                \n",
       "⎝     t ⎠                "
      ]
     },
     "execution_count": 60,
     "metadata": {},
     "output_type": "execute_result"
    },
    {
     "data": {
      "image/png": "[encoded data removed]",
      "text/latex": [
       "$\\displaystyle \\sqrt{t^{8} + 2 t^{2} + \\frac{1}{t^{4}}}$"
      ],
      "text/plain": [
       "     ________________\n",
       "    ╱  8      2   1  \n",
       "   ╱  t  + 2⋅t  + ── \n",
       "  ╱                4 \n",
       "╲╱                t  "
      ]
     },
     "execution_count": 60,
     "metadata": {},
     "output_type": "execute_result"
    }
   ],
   "source": [
    "C = CoordSys3D('.')\n",
    "\n",
    "s = (1/t + t**5/5)*C.i + (t**2)*C.j\n",
    "s\n",
    "s_prime = s.diff(t)\n",
    "s_prime\n",
    "s_prime.magnitude().expand()"
   ]
  },
  {
   "cell_type": "code",
   "execution_count": null,
   "id": "8a62ba10-c348-4e75-bc16-197a1e01a771",
   "metadata": {},
   "outputs": [],
   "source": []
  },
  {
   "cell_type": "code",
   "execution_count": 140,
   "id": "25305db1-6f66-416e-97fb-3dc47bd7b7fe",
   "metadata": {},
   "outputs": [
    {
     "data": {
      "image/png": "[encoded data removed]",
      "text/latex": [
       "$\\displaystyle \\sqrt{t^{8} + 2 t^{2} + \\frac{1}{t^{4}}}$"
      ],
      "text/plain": [
       "     ________________\n",
       "    ╱  8      2   1  \n",
       "   ╱  t  + 2⋅t  + ── \n",
       "  ╱                4 \n",
       "╲╱                t  "
      ]
     },
     "execution_count": 140,
     "metadata": {},
     "output_type": "execute_result"
    }
   ],
   "source": [
    "m = s_prime.to_matrix(C)\n",
    "\n",
    "sp.sqrt(m[0]**2 + m[1]**2).expand()"
   ]
  },
  {
   "cell_type": "code",
   "execution_count": null,
   "id": "069e3ff2-bc42-4827-b704-6dc55cf0c467",
   "metadata": {},
   "outputs": [],
   "source": []
  },
  {
   "cell_type": "code",
   "execution_count": 42,
   "id": "20d079cb-094f-437d-a610-62cb891994e0",
   "metadata": {},
   "outputs": [
    {
     "data": {
      "text/plain": [
       "False"
      ]
     },
     "execution_count": 42,
     "metadata": {},
     "output_type": "execute_result"
    }
   ],
   "source": [
    "s_prime.magnitude() == (1/t**2 + t**4)"
   ]
  },
  {
   "cell_type": "code",
   "execution_count": 50,
   "id": "b185123b-76cc-4a2e-b2ba-6b4ef24b1f81",
   "metadata": {},
   "outputs": [
    {
     "data": {
      "image/png": "[encoded data removed]",
      "text/latex": [
       "$\\displaystyle \\frac{t^{6} - \\sqrt{t^{12} + 2 t^{6} + 1} + 1}{t^{2}}$"
      ],
      "text/plain": [
       "        ________________    \n",
       " 6     ╱  12      6         \n",
       "t  - ╲╱  t   + 2⋅t  + 1  + 1\n",
       "────────────────────────────\n",
       "              2             \n",
       "             t              "
      ]
     },
     "execution_count": 50,
     "metadata": {},
     "output_type": "execute_result"
    }
   ],
   "source": [
    "sp.simplify((1/t**2 + t**4) - s_prime.magnitude())"
   ]
  },
  {
   "cell_type": "code",
   "execution_count": 45,
   "id": "acb476a4-9eae-4f5f-80cf-51c524e61012",
   "metadata": {},
   "outputs": [
    {
     "data": {
      "image/png": "[encoded data removed]",
      "text/latex": [
       "$\\displaystyle 2$"
      ],
      "text/plain": [
       "2"
      ]
     },
     "execution_count": 45,
     "metadata": {},
     "output_type": "execute_result"
    }
   ],
   "source": [
    "s_prime.magnitude().subs(t, 1)"
   ]
  },
  {
   "cell_type": "code",
   "execution_count": 141,
   "id": "d3ffc594-9ba0-49f1-9713-53b1c8e93cc2",
   "metadata": {},
   "outputs": [
    {
     "data": {
      "image/png": "[encoded data removed]",
      "text/latex": [
       "$\\displaystyle \\operatorname{Curve}\\left(\\left( \\frac{t^{5}}{5} + \\frac{1}{t}, \\  t^{2}\\right), \\left( t, \\  1, \\  2\\right)\\right)$"
      ],
      "text/plain": [
       "Curve((t**5/5 + 1/t, t**2), (t, 1, 2))"
      ]
     },
     "execution_count": 141,
     "metadata": {},
     "output_type": "execute_result"
    },
    {
     "data": {
      "image/png": "[encoded data removed]",
      "text/latex": [
       "$\\displaystyle \\frac{38331}{140}$"
      ],
      "text/plain": [
       "38331\n",
       "─────\n",
       " 140 "
      ]
     },
     "execution_count": 141,
     "metadata": {},
     "output_type": "execute_result"
    }
   ],
   "source": [
    "curve = sp.Curve((1/t + t**5/5, t**2), (t, 1, 2))\n",
    "curve\n",
    "\n",
    "f = x*y**2\n",
    "sp.line_integrate(f, curve, [x, y]).simplify()"
   ]
  },
  {
   "cell_type": "code",
   "execution_count": null,
   "id": "832d37fa-b7d3-4aea-af52-a01555e7badc",
   "metadata": {},
   "outputs": [],
   "source": []
  }
 ],
 "metadata": {
  "kernelspec": {
   "display_name": "Math",
   "language": "python",
   "name": "math"
  },
  "language_info": {
   "codemirror_mode": {
    "name": "ipython",
    "version": 3
   },
   "file_extension": ".py",
   "mimetype": "text/x-python",
   "name": "python",
   "nbconvert_exporter": "python",
   "pygments_lexer": "ipython3",
   "version": "3.8.13"
  }
 },
 "nbformat": 4,
 "nbformat_minor": 5
}
