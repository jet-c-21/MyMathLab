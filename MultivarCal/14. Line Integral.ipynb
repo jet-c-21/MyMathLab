{
 "cells": [
  {
   "cell_type": "code",
   "execution_count": 1,
   "id": "5877392b-9aa4-4c62-a64b-82bc95e8d947",
   "metadata": {},
   "outputs": [
    {
     "name": "stdout",
     "output_type": "stream",
     "text": [
      "Added D:\\Dev\\MyMathLab to PATH\n"
     ]
    }
   ],
   "source": [
    "from IPython.core.interactiveshell import InteractiveShell\n",
    "InteractiveShell.ast_node_interactivity = 'all'\n",
    "\n",
    "# import self-made module\n",
    "import os, sys, pathlib\n",
    "file_path = os.path.abspath('')\n",
    "PROJECT_DIR = str(pathlib.Path(file_path).parent)\n",
    "sys.path.append(PROJECT_DIR)\n",
    "print(f\"Added {PROJECT_DIR} to PATH\")\n",
    "from athena import *\n",
    "from sympy.vector import CoordSys3D, gradient, curl\n",
    "\n",
    "sp.init_printing()\n",
    "\n",
    "# ult functions\n",
    "def reset_symbols():\n",
    "    global x, y, z, a, b, c, d, e, f, g, h, s, k, t, theta, lmda\n",
    "    x, y, z = sp.symbols('x y z', real=True)\n",
    "    a, b, c, d, e, f, g, h, s, k, t = sp.symbols('a b c d e f g h s k t', real=True)\n",
    "    theta = sp.Symbol('theta')\n",
    "    lmda = sp.Symbol('lambda')\n",
    "\n",
    "reset_symbols()"
   ]
  },
  {
   "cell_type": "code",
   "execution_count": 4,
   "id": "51235eb8-72a8-4702-ace4-30ebae2064ac",
   "metadata": {},
   "outputs": [
    {
     "data": {
      "image/png": "[encoded data removed]",
      "text/latex": [
       "$\\displaystyle \\operatorname{Curve}\\left(\\left( 6 t, \\  t\\right), \\left( t, \\  -1, \\  1\\right)\\right)$"
      ],
      "text/plain": [
       "Curve((6*t, t), (t, -1, 1))"
      ]
     },
     "execution_count": 4,
     "metadata": {},
     "output_type": "execute_result"
    },
    {
     "data": {
      "image/png": "[encoded data removed]",
      "text/latex": [
       "$\\displaystyle 24 \\sqrt{37}$"
      ],
      "text/plain": [
       "24⋅√37"
      ]
     },
     "execution_count": 4,
     "metadata": {},
     "output_type": "execute_result"
    }
   ],
   "source": [
    "curve = sp.Curve((6*t, t), (t, -1, 1))\n",
    "curve\n",
    "sp.line_integrate(x**2, curve, [x, y])"
   ]
  },
  {
   "cell_type": "code",
   "execution_count": 7,
   "id": "5ea5b5a4-dc81-47f1-b8d9-20f5aca392bb",
   "metadata": {},
   "outputs": [
    {
     "data": {
      "image/png": "[encoded data removed]",
      "text/latex": [
       "$\\displaystyle \\operatorname{Curve}\\left(\\left( - t, \\  2 t^{2}\\right), \\left( t, \\  1, \\  2\\right)\\right)$"
      ],
      "text/plain": [
       "Curve((-t, 2*t**2), (t, 1, 2))"
      ]
     },
     "execution_count": 7,
     "metadata": {},
     "output_type": "execute_result"
    },
    {
     "data": {
      "image/png": "[encoded data removed]",
      "text/latex": [
       "$\\displaystyle - 2 \\int\\limits_{1}^{2} \\frac{\\sqrt{16 t^{2} + 1}}{2 t - 1}\\, dt + 6 \\int\\limits_{1}^{2} \\frac{t \\sqrt{16 t^{2} + 1}}{2 t - 1}\\, dt$"
      ],
      "text/plain": [
       "    2                       2                    \n",
       "    ⌠                       ⌠                    \n",
       "    ⎮    ___________        ⎮      ___________   \n",
       "    ⎮   ╱     2             ⎮     ╱     2        \n",
       "    ⎮ ╲╱  16⋅t  + 1         ⎮ t⋅╲╱  16⋅t  + 1    \n",
       "- 2⋅⎮ ────────────── dt + 6⋅⎮ ──────────────── dt\n",
       "    ⎮    2⋅t - 1            ⎮     2⋅t - 1        \n",
       "    ⌡                       ⌡                    \n",
       "    1                       1                    "
      ]
     },
     "execution_count": 7,
     "metadata": {},
     "output_type": "execute_result"
    }
   ],
   "source": [
    "curve = sp.Curve((-t, 2*t**2), (t, 1, 2))\n",
    "curve\n",
    "\n",
    "f = (2*x + 3*y) / (x+y)\n",
    "sp.line_integrate(f, curve, [x, y]).simplify()"
   ]
  },
  {
   "cell_type": "code",
   "execution_count": 8,
   "id": "e0764786-5f65-491b-bb9b-bf5352ba2335",
   "metadata": {},
   "outputs": [
    {
     "data": {
      "image/png": "[encoded data removed]",
      "text/latex": [
       "$\\displaystyle \\operatorname{Curve}\\left(\\left( \\cos{\\left(t \\right)}, \\  \\sin{\\left(t \\right)} - 1\\right), \\left( t, \\  0, \\  2 \\pi\\right)\\right)$"
      ],
      "text/plain": [
       "Curve((cos(t), sin(t) - 1), (t, 0, 2*pi))"
      ]
     },
     "execution_count": 8,
     "metadata": {},
     "output_type": "execute_result"
    },
    {
     "data": {
      "image/png": "[encoded data removed]",
      "text/latex": [
       "$\\displaystyle 2 \\pi$"
      ],
      "text/plain": [
       "2⋅π"
      ]
     },
     "execution_count": 8,
     "metadata": {},
     "output_type": "execute_result"
    }
   ],
   "source": [
    "curve = sp.Curve((sp.cos(t), sp.sin(t) - 1), (t, 0, 2*sp.pi))\n",
    "curve\n",
    "\n",
    "f = -y\n",
    "sp.line_integrate(f, curve, [x, y]).simplify()"
   ]
  },
  {
   "cell_type": "code",
   "execution_count": 9,
   "id": "da1d4885-6da1-4f8f-a23c-38c20453b6c0",
   "metadata": {},
   "outputs": [
    {
     "data": {
      "image/png": "[encoded data removed]",
      "text/latex": [
       "$\\displaystyle \\operatorname{Curve}\\left(\\left( t, \\  t\\right), \\left( t, \\  0, \\  \\pi\\right)\\right)$"
      ],
      "text/plain": [
       "Curve((t, t), (t, 0, pi))"
      ]
     },
     "execution_count": 9,
     "metadata": {},
     "output_type": "execute_result"
    },
    {
     "data": {
      "image/png": "[encoded data removed]",
      "text/latex": [
       "$\\displaystyle 4 \\sqrt{2}$"
      ],
      "text/plain": [
       "4⋅√2"
      ]
     },
     "execution_count": 9,
     "metadata": {},
     "output_type": "execute_result"
    }
   ],
   "source": [
    "curve = sp.Curve((t, t), (t, 0, sp.pi))\n",
    "curve\n",
    "\n",
    "f = sp.sin(x) + sp.sin(y)\n",
    "sp.line_integrate(f, curve, [x, y]).simplify()"
   ]
  },
  {
   "cell_type": "code",
   "execution_count": null,
   "id": "0e7bed0b-a3dc-4972-8899-c60a3b62dad4",
   "metadata": {},
   "outputs": [],
   "source": []
  }
 ],
 "metadata": {
  "kernelspec": {
   "display_name": "Math",
   "language": "python",
   "name": "math"
  },
  "language_info": {
   "codemirror_mode": {
    "name": "ipython",
    "version": 3
   },
   "file_extension": ".py",
   "mimetype": "text/x-python",
   "name": "python",
   "nbconvert_exporter": "python",
   "pygments_lexer": "ipython3",
   "version": "3.8.13"
  }
 },
 "nbformat": 4,
 "nbformat_minor": 5
}
