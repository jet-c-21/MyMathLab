{
 "cells": [
  {
   "cell_type": "code",
   "execution_count": 1,
   "id": "5877392b-9aa4-4c62-a64b-82bc95e8d947",
   "metadata": {},
   "outputs": [
    {
     "name": "stdout",
     "output_type": "stream",
     "text": [
      "Added /Users/puff/my_home/dev/Side_Projects/MyMathLab to PATH\n"
     ]
    }
   ],
   "source": [
    "from IPython.core.interactiveshell import InteractiveShell\n",
    "InteractiveShell.ast_node_interactivity = 'all'\n",
    "\n",
    "# import self-made module\n",
    "import os, sys, pathlib\n",
    "file_path = os.path.abspath('')\n",
    "PROJECT_DIR = str(pathlib.Path(file_path).parent)\n",
    "sys.path.append(PROJECT_DIR)\n",
    "print(f\"Added {PROJECT_DIR} to PATH\")\n",
    "from athena import *\n",
    "from sympy.vector import CoordSys3D, gradient, curl\n",
    "\n",
    "sp.init_printing()\n",
    "\n",
    "# ult functions\n",
    "def reset_symbols():\n",
    "    global x, y, z, a, b, c, d, e, f, g, h, s, k, t, theta, lmda\n",
    "    x, y, z = sp.symbols('x y z', real=True)\n",
    "    a, b, c, d, e, f, g, h, s, k, t = sp.symbols('a b c d e f g h s k t', real=True)\n",
    "    theta = sp.Symbol('theta')\n",
    "    lmda = sp.Symbol('lambda')\n",
    "\n",
    "reset_symbols()"
   ]
  },
  {
   "cell_type": "code",
   "execution_count": 2,
   "id": "51235eb8-72a8-4702-ace4-30ebae2064ac",
   "metadata": {},
   "outputs": [
    {
     "data": {
      "image/png": "[encoded data removed]",
      "text/latex": [
       "$\\displaystyle \\operatorname{Curve}\\left(\\left( 6 t, \\  t\\right), \\left( t, \\  -1, \\  1\\right)\\right)$"
      ],
      "text/plain": [
       "Curve((6*t, t), (t, -1, 1))"
      ]
     },
     "execution_count": 2,
     "metadata": {},
     "output_type": "execute_result"
    },
    {
     "data": {
      "image/png": "[encoded data removed]",
      "text/latex": [
       "$\\displaystyle 24 \\sqrt{37}$"
      ],
      "text/plain": [
       "24⋅√37"
      ]
     },
     "execution_count": 2,
     "metadata": {},
     "output_type": "execute_result"
    }
   ],
   "source": [
    "curve = sp.Curve((6*t, t), (t, -1, 1))\n",
    "curve\n",
    "sp.line_integrate(x**2, curve, [x, y])"
   ]
  },
  {
   "cell_type": "code",
   "execution_count": 3,
   "id": "5ea5b5a4-dc81-47f1-b8d9-20f5aca392bb",
   "metadata": {},
   "outputs": [
    {
     "data": {
      "image/png": "[encoded data removed]",
      "text/latex": [
       "$\\displaystyle \\operatorname{Curve}\\left(\\left( - t, \\  2 t^{2}\\right), \\left( t, \\  1, \\  2\\right)\\right)$"
      ],
      "text/plain": [
       "Curve((-t, 2*t**2), (t, 1, 2))"
      ]
     },
     "execution_count": 3,
     "metadata": {},
     "output_type": "execute_result"
    },
    {
     "data": {
      "image/png": "[encoded data removed]",
      "text/latex": [
       "$\\displaystyle - 2 \\int\\limits_{1}^{2} \\frac{\\sqrt{16 t^{2} + 1}}{2 t - 1}\\, dt + 6 \\int\\limits_{1}^{2} \\frac{t \\sqrt{16 t^{2} + 1}}{2 t - 1}\\, dt$"
      ],
      "text/plain": [
       "    2                       2                    \n",
       "    ⌠                       ⌠                    \n",
       "    ⎮    ___________        ⎮      ___________   \n",
       "    ⎮   ╱     2             ⎮     ╱     2        \n",
       "    ⎮ ╲╱  16⋅t  + 1         ⎮ t⋅╲╱  16⋅t  + 1    \n",
       "- 2⋅⎮ ────────────── dt + 6⋅⎮ ──────────────── dt\n",
       "    ⎮    2⋅t - 1            ⎮     2⋅t - 1        \n",
       "    ⌡                       ⌡                    \n",
       "    1                       1                    "
      ]
     },
     "execution_count": 3,
     "metadata": {},
     "output_type": "execute_result"
    }
   ],
   "source": [
    "curve = sp.Curve((-t, 2*t**2), (t, 1, 2))\n",
    "curve\n",
    "\n",
    "f = (2*x + 3*y) / (x+y)\n",
    "sp.line_integrate(f, curve, [x, y]).simplify()"
   ]
  },
  {
   "cell_type": "code",
   "execution_count": 4,
   "id": "e0764786-5f65-491b-bb9b-bf5352ba2335",
   "metadata": {},
   "outputs": [
    {
     "data": {
      "image/png": "[encoded data removed]",
      "text/latex": [
       "$\\displaystyle \\operatorname{Curve}\\left(\\left( \\cos{\\left(t \\right)}, \\  \\sin{\\left(t \\right)} - 1\\right), \\left( t, \\  0, \\  2 \\pi\\right)\\right)$"
      ],
      "text/plain": [
       "Curve((cos(t), sin(t) - 1), (t, 0, 2*pi))"
      ]
     },
     "execution_count": 4,
     "metadata": {},
     "output_type": "execute_result"
    },
    {
     "data": {
      "image/png": "[encoded data removed]",
      "text/latex": [
       "$\\displaystyle 2 \\pi$"
      ],
      "text/plain": [
       "2⋅π"
      ]
     },
     "execution_count": 4,
     "metadata": {},
     "output_type": "execute_result"
    }
   ],
   "source": [
    "curve = sp.Curve((sp.cos(t), sp.sin(t) - 1), (t, 0, 2*sp.pi))\n",
    "curve\n",
    "\n",
    "f = -y\n",
    "sp.line_integrate(f, curve, [x, y]).simplify()"
   ]
  },
  {
   "cell_type": "code",
   "execution_count": 5,
   "id": "da1d4885-6da1-4f8f-a23c-38c20453b6c0",
   "metadata": {},
   "outputs": [
    {
     "data": {
      "image/png": "[encoded data removed]",
      "text/latex": [
       "$\\displaystyle \\operatorname{Curve}\\left(\\left( t, \\  t\\right), \\left( t, \\  0, \\  \\pi\\right)\\right)$"
      ],
      "text/plain": [
       "Curve((t, t), (t, 0, pi))"
      ]
     },
     "execution_count": 5,
     "metadata": {},
     "output_type": "execute_result"
    },
    {
     "data": {
      "image/png": "[encoded data removed]",
      "text/latex": [
       "$\\displaystyle 4 \\sqrt{2}$"
      ],
      "text/plain": [
       "4⋅√2"
      ]
     },
     "execution_count": 5,
     "metadata": {},
     "output_type": "execute_result"
    }
   ],
   "source": [
    "curve = sp.Curve((t, t), (t, 0, sp.pi))\n",
    "curve\n",
    "\n",
    "f = sp.sin(x) + sp.sin(y)\n",
    "sp.line_integrate(f, curve, [x, y]).simplify()"
   ]
  },
  {
   "cell_type": "code",
   "execution_count": null,
   "id": "0e7bed0b-a3dc-4972-8899-c60a3b62dad4",
   "metadata": {},
   "outputs": [],
   "source": []
  },
  {
   "cell_type": "code",
   "execution_count": 9,
   "id": "cc04cac8-c5e0-42b6-a72e-66cbaf3ac707",
   "metadata": {},
   "outputs": [
    {
     "data": {
      "image/png": "[encoded data removed]",
      "text/latex": [
       "$\\displaystyle \\frac{\\partial}{\\partial x} y = \\sqrt{1 - x^{2}}$"
      ],
      "text/plain": [
       "  ⎛       ________⎞\n",
       "∂ ⎜      ╱      2 ⎟\n",
       "──⎝y = ╲╱  1 - x  ⎠\n",
       "∂x                 "
      ]
     },
     "execution_count": 9,
     "metadata": {},
     "output_type": "execute_result"
    }
   ],
   "source": [
    "eq = sp.Eq(y, sp.sqrt(1 - x**2))\n",
    "sp.Derivative(eq, x)"
   ]
  },
  {
   "cell_type": "code",
   "execution_count": 14,
   "id": "2cf86b4d-1ba0-49f3-a540-d96d71c9be6a",
   "metadata": {},
   "outputs": [
    {
     "data": {
      "image/png": "[encoded data removed]",
      "text/latex": [
       "$\\displaystyle \\sqrt{\\frac{1}{1 - x^{2}}}$"
      ],
      "text/plain": [
       "     ________\n",
       "    ╱   1    \n",
       "   ╱  ────── \n",
       "  ╱        2 \n",
       "╲╱    1 - x  "
      ]
     },
     "execution_count": 14,
     "metadata": {},
     "output_type": "execute_result"
    },
    {
     "data": {
      "image/png": "[encoded data removed]",
      "text/latex": [
       "$\\displaystyle \\pi$"
      ],
      "text/plain": [
       "π"
      ]
     },
     "execution_count": 14,
     "metadata": {},
     "output_type": "execute_result"
    }
   ],
   "source": [
    "expr = sp.sqrt(1/(1-x**2))\n",
    "expr\n",
    "expr.integrate((x, -1, 1))"
   ]
  },
  {
   "cell_type": "code",
   "execution_count": 25,
   "id": "ad5be954-b18a-491f-aa86-31e139047e5c",
   "metadata": {},
   "outputs": [
    {
     "data": {
      "image/png": "[encoded data removed]",
      "text/latex": [
       "$\\displaystyle dx \\cos{\\left(x \\right)}$"
      ],
      "text/plain": [
       "dx⋅cos(x)"
      ]
     },
     "execution_count": 25,
     "metadata": {},
     "output_type": "execute_result"
    },
    {
     "data": {
      "image/png": "[encoded data removed]",
      "text/latex": [
       "$\\displaystyle \\sqrt{\\cos^{2}{\\left(x \\right)} + 1} \\sqrt{dx^{2}}$"
      ],
      "text/plain": [
       "   _____________    _____\n",
       "  ╱    2           ╱   2 \n",
       "╲╱  cos (x) + 1 ⋅╲╱  dx  "
      ]
     },
     "execution_count": 25,
     "metadata": {},
     "output_type": "execute_result"
    }
   ],
   "source": [
    "dy, dx = sp.symbols('dy dx')\n",
    "f = sp.sin(x)\n",
    "eq = sp.Eq(dy/dx, f.diff(*f.free_symbols))\n",
    "dy = sp.solve(eq, dy)[0]\n",
    "dy\n",
    "\n",
    "expr = sp.sqrt(dx**2 + dy**2)\n",
    "expr.simplify()"
   ]
  },
  {
   "cell_type": "code",
   "execution_count": 27,
   "id": "2e160c75-752c-4a5c-b993-a16310ecc5f0",
   "metadata": {},
   "outputs": [
    {
     "data": {
      "image/png": "[encoded data removed]",
      "text/latex": [
       "$\\displaystyle 2 dy y$"
      ],
      "text/plain": [
       "2⋅dy⋅y"
      ]
     },
     "execution_count": 27,
     "metadata": {},
     "output_type": "execute_result"
    },
    {
     "data": {
      "image/png": "[encoded data removed]",
      "text/latex": [
       "$\\displaystyle \\sqrt{4 y^{2} + 1} \\sqrt{dy^{2}}$"
      ],
      "text/plain": [
       "   __________    _____\n",
       "  ╱    2        ╱   2 \n",
       "╲╱  4⋅y  + 1 ⋅╲╱  dy  "
      ]
     },
     "execution_count": 27,
     "metadata": {},
     "output_type": "execute_result"
    }
   ],
   "source": [
    "dy, dx = sp.symbols('dy dx')\n",
    "f = y**2\n",
    "eq = sp.Eq(dx/dy, f.diff(*f.free_symbols))\n",
    "dx = sp.solve(eq, dx)[0]\n",
    "dx\n",
    "\n",
    "expr = sp.sqrt(dx**2 + dy**2)\n",
    "expr.simplify()"
   ]
  },
  {
   "cell_type": "code",
   "execution_count": 38,
   "id": "57eb6458-40d6-4578-83d4-627cf5703b13",
   "metadata": {},
   "outputs": [
    {
     "data": {
      "image/png": "[encoded data removed]",
      "text/latex": [
       "$\\displaystyle \\sqrt{\\cos^{2}{\\left(x \\right)} + 1}$"
      ],
      "text/plain": [
       "   _____________\n",
       "  ╱    2        \n",
       "╲╱  cos (x) + 1 "
      ]
     },
     "execution_count": 38,
     "metadata": {},
     "output_type": "execute_result"
    },
    {
     "data": {
      "image/png": "[encoded data removed]",
      "text/latex": [
       "$\\displaystyle \\int\\limits_{0}^{2 \\pi} \\sqrt{\\cos^{2}{\\left(x \\right)} + 1}\\, dx$"
      ],
      "text/plain": [
       "2⋅π                    \n",
       " ⌠                     \n",
       " ⎮     _____________   \n",
       " ⎮    ╱    2           \n",
       " ⎮  ╲╱  cos (x) + 1  dx\n",
       " ⌡                     \n",
       " 0                     "
      ]
     },
     "execution_count": 38,
     "metadata": {},
     "output_type": "execute_result"
    },
    {
     "data": {
      "image/png": "[encoded data removed]",
      "text/latex": [
       "$\\displaystyle \\int\\limits_{0}^{2 \\pi} \\sqrt{\\cos^{2}{\\left(x \\right)} + 1}\\, dx$"
      ],
      "text/plain": [
       "2⋅π                    \n",
       " ⌠                     \n",
       " ⎮     _____________   \n",
       " ⎮    ╱    2           \n",
       " ⎮  ╲╱  cos (x) + 1  dx\n",
       " ⌡                     \n",
       " 0                     "
      ]
     },
     "execution_count": 38,
     "metadata": {},
     "output_type": "execute_result"
    }
   ],
   "source": [
    "expr = sp.sqrt(1 + sp.sin(x).diff(x) ** 2)\n",
    "expr\n",
    "itg = expr.integrate((x, 0, sp.pi * 2))\n",
    "itg\n",
    "itg.doit()"
   ]
  },
  {
   "cell_type": "code",
   "execution_count": 36,
   "id": "9ad640d7-cf98-46e6-9dd3-0651e2079fb4",
   "metadata": {},
   "outputs": [
    {
     "data": {
      "image/png": "[encoded data removed]",
      "text/latex": [
       "$\\displaystyle \\sqrt{2}$"
      ],
      "text/plain": [
       "√2"
      ]
     },
     "execution_count": 36,
     "metadata": {},
     "output_type": "execute_result"
    },
    {
     "data": {
      "image/png": "[encoded data removed]",
      "text/latex": [
       "$\\displaystyle \\sqrt{2}$"
      ],
      "text/plain": [
       "√2"
      ]
     },
     "execution_count": 36,
     "metadata": {},
     "output_type": "execute_result"
    }
   ],
   "source": [
    "expr = sp.sqrt(sp.cos(x) ** 2 + 1)\n",
    "expr.subs({x:sp.pi*2})\n",
    "expr.subs({x:0})"
   ]
  },
  {
   "cell_type": "markdown",
   "id": "b0d4df66-837d-4559-bb55-423861581f37",
   "metadata": {},
   "source": [
    "# Arch Length"
   ]
  },
  {
   "cell_type": "code",
   "execution_count": 48,
   "id": "d4a0d6bb-b74f-412f-b841-408ebea22b2f",
   "metadata": {},
   "outputs": [
    {
     "data": {
      "image/png": "[encoded data removed]",
      "text/latex": [
       "$\\displaystyle \\operatorname{Curve}\\left(\\left( t^{3} - 3 t, \\  3 t^{2}\\right), \\left( t, \\  -2, \\  2\\right)\\right)$"
      ],
      "text/plain": [
       "Curve((t**3 - 3*t, 3*t**2), (t, -2, 2))"
      ]
     },
     "execution_count": 48,
     "metadata": {},
     "output_type": "execute_result"
    },
    {
     "data": {
      "image/png": "[encoded data removed]",
      "text/latex": [
       "$\\displaystyle 3 \\left(\\int\\limits_{-2}^{2} 1\\, dt + \\int\\limits_{-2}^{2} t^{2}\\, dt\\right)$"
      ],
      "text/plain": [
       "  ⎛          2       ⎞\n",
       "  ⎜2         ⌠       ⎟\n",
       "  ⎜⌠         ⎮   2   ⎟\n",
       "3⋅⎜⎮  1 dt + ⎮  t  dt⎟\n",
       "  ⎜⌡         ⌡       ⎟\n",
       "  ⎝-2        -2      ⎠"
      ]
     },
     "execution_count": 48,
     "metadata": {},
     "output_type": "execute_result"
    },
    {
     "data": {
      "image/png": "[encoded data removed]",
      "text/latex": [
       "$\\displaystyle 28.0$"
      ],
      "text/plain": [
       "28.0000000000000"
      ]
     },
     "execution_count": 48,
     "metadata": {},
     "output_type": "execute_result"
    }
   ],
   "source": [
    "curve = sp.Curve((t**3-3*t, 3*t**2), (t, -2, 2))\n",
    "curve\n",
    "curve.length\n",
    "curve.length.evalf()"
   ]
  },
  {
   "cell_type": "code",
   "execution_count": null,
   "id": "46032d1e-e948-4875-93b8-91c4ab8f2b21",
   "metadata": {},
   "outputs": [],
   "source": []
  }
 ],
 "metadata": {
  "kernelspec": {
   "display_name": "Math",
   "language": "python",
   "name": "math"
  },
  "language_info": {
   "codemirror_mode": {
    "name": "ipython",
    "version": 3
   },
   "file_extension": ".py",
   "mimetype": "text/x-python",
   "name": "python",
   "nbconvert_exporter": "python",
   "pygments_lexer": "ipython3",
   "version": "3.8.13"
  }
 },
 "nbformat": 4,
 "nbformat_minor": 5
}
