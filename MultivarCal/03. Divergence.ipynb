{
 "cells": [
  {
   "cell_type": "code",
   "execution_count": 5,
   "id": "74245489-5f0a-4db1-87ac-a4c1c4282425",
   "metadata": {},
   "outputs": [
    {
     "name": "stdout",
     "output_type": "stream",
     "text": [
      "Added D:\\Dev\\Code\\MyMathLab to PATH\n"
     ]
    }
   ],
   "source": [
    "from IPython.core.interactiveshell import InteractiveShell\n",
    "InteractiveShell.ast_node_interactivity = 'all'\n",
    "\n",
    "# import self-made module\n",
    "import os, sys, pathlib\n",
    "file_path = os.path.abspath('')\n",
    "PROJECT_DIR = str(pathlib.Path(file_path).parent)\n",
    "sys.path.append(PROJECT_DIR)\n",
    "print(f\"Added {PROJECT_DIR} to PATH\")\n",
    "from athena import *\n",
    "from sympy.vector import CoordSys3D, Del, gradient, divergence, curl, ParametricRegion, vector_integrate, scalar_potential\n",
    "from sympy.integrals.manualintegrate import integral_steps\n",
    "\n",
    "sp.init_printing()\n",
    "\n",
    "# ult functions\n",
    "def reset_symbols():\n",
    "    global x, y, z, a, b, c, d, e, f, g, h, r, s, k, t, u, v, theta, lmda, rho, phi\n",
    "    x, y, z = sp.symbols('x y z', real=True)\n",
    "    a, b, c, d, e, f, g, h, r, s, k, t, u, v = sp.symbols('a b c d e f g h r s k t u v', real=True)\n",
    "    theta = sp.Symbol('theta')\n",
    "    lmda = sp.Symbol('lambda')\n",
    "    rho = sp.Symbol('rho')\n",
    "    phi = sp.Symbol('phi')\n",
    "    \n",
    "\n",
    "reset_symbols()"
   ]
  },
  {
   "cell_type": "code",
   "execution_count": 11,
   "id": "7a85b09b-a51c-4635-adf6-1c4d01ec1082",
   "metadata": {},
   "outputs": [
    {
     "data": {
      "image/png": "[encoded data removed]",
      "text/latex": [
       "$\\displaystyle 4 \\mathbf{{x}_{.}}$"
      ],
      "text/plain": [
       "4⋅x_."
      ]
     },
     "execution_count": 11,
     "metadata": {},
     "output_type": "execute_result"
    },
    {
     "data": {
      "image/png": "[encoded data removed]",
      "text/latex": [
       "$\\displaystyle 4 \\mathbf{{x}_{.}}$"
      ],
      "text/plain": [
       "4⋅x_."
      ]
     },
     "execution_count": 11,
     "metadata": {},
     "output_type": "execute_result"
    }
   ],
   "source": [
    "C = CoordSys3D('.')\n",
    "vf = (C.x**2 - C.y**2) * C.i + (2*C.x*C.y) * C.j\n",
    "\n",
    "del_op = Del()\n",
    "del_op.dot(vf).doit()\n",
    "\n",
    "divergence(vf)"
   ]
  },
  {
   "cell_type": "code",
   "execution_count": null,
   "id": "2f892bdd-7270-4268-afb6-8c093db2e13d",
   "metadata": {},
   "outputs": [],
   "source": []
  },
  {
   "cell_type": "code",
   "execution_count": null,
   "id": "015f9723-cd3e-4855-8dd9-151190742fc3",
   "metadata": {},
   "outputs": [],
   "source": []
  },
  {
   "cell_type": "code",
   "execution_count": 5,
   "id": "07d6d34d-c1c9-4ea3-b84c-243ae92ebf5a",
   "metadata": {},
   "outputs": [
    {
     "data": {
      "text/latex": [
       "$\\displaystyle 2 x + 2 y$"
      ],
      "text/plain": [
       "2*x + 2*y"
      ]
     },
     "execution_count": 5,
     "metadata": {},
     "output_type": "execute_result"
    },
    {
     "data": {
      "text/latex": [
       "$\\displaystyle -2$"
      ],
      "text/plain": [
       "-2"
      ]
     },
     "execution_count": 5,
     "metadata": {},
     "output_type": "execute_result"
    }
   ],
   "source": [
    "p_comp = x**2\n",
    "q_comp = y**2\n",
    "\n",
    "p_comp_dx = p_comp.diff(x)\n",
    "q_comp_dy = q_comp.diff(y)\n",
    "\n",
    "divergence = p_comp_dx + q_comp_dy\n",
    "divergence\n",
    "divergence.subs({x: -2, y: 1})"
   ]
  },
  {
   "cell_type": "code",
   "execution_count": 6,
   "id": "8b2118ba-0646-4788-b578-3c27e3952ec8",
   "metadata": {},
   "outputs": [
    {
     "data": {
      "text/latex": [
       "$\\displaystyle e^{y} + 1$"
      ],
      "text/plain": [
       "exp(y) + 1"
      ]
     },
     "execution_count": 6,
     "metadata": {},
     "output_type": "execute_result"
    }
   ],
   "source": [
    "p_comp = x * (sp.E ** y)\n",
    "q_comp = sp.cos(x*z)\n",
    "r_comp = x + z\n",
    "\n",
    "p_comp_dx = p_comp.diff(x)\n",
    "q_comp_dy = q_comp.diff(y)\n",
    "r_comp_dz = r_comp.diff(z)\n",
    "\n",
    "divergence = p_comp_dx + q_comp_dy + r_comp_dz\n",
    "divergence"
   ]
  },
  {
   "cell_type": "code",
   "execution_count": 7,
   "id": "cb851992-9768-4f58-a96f-69f74ba93528",
   "metadata": {},
   "outputs": [
    {
     "data": {
      "text/latex": [
       "$\\displaystyle 3 - 2 z$"
      ],
      "text/plain": [
       "3 - 2*z"
      ]
     },
     "execution_count": 7,
     "metadata": {},
     "output_type": "execute_result"
    },
    {
     "data": {
      "text/latex": [
       "$\\displaystyle -3$"
      ],
      "text/plain": [
       "-3"
      ]
     },
     "execution_count": 7,
     "metadata": {},
     "output_type": "execute_result"
    }
   ],
   "source": [
    "p_comp = x\n",
    "q_comp = 2*y\n",
    "r_comp = -z**2\n",
    "\n",
    "p_comp_dx = p_comp.diff(x)\n",
    "q_comp_dy = q_comp.diff(y)\n",
    "r_comp_dz = r_comp.diff(z)\n",
    "\n",
    "divergence = p_comp_dx + q_comp_dy + r_comp_dz\n",
    "divergence\n",
    "divergence.subs({x: 0, y: 2, z: 3})"
   ]
  },
  {
   "cell_type": "code",
   "execution_count": 8,
   "id": "4ab1b7a3-cc49-4956-ad45-e88ca669e994",
   "metadata": {},
   "outputs": [
    {
     "data": {
      "text/latex": [
       "$\\displaystyle 2 y + 1$"
      ],
      "text/plain": [
       "2*y + 1"
      ]
     },
     "execution_count": 8,
     "metadata": {},
     "output_type": "execute_result"
    }
   ],
   "source": [
    "p_comp = x\n",
    "q_comp = y**2\n",
    "\n",
    "p_comp_dx = p_comp.diff(x)\n",
    "q_comp_dy = q_comp.diff(y)\n",
    "\n",
    "divergence = p_comp_dx + q_comp_dy\n",
    "divergence"
   ]
  },
  {
   "cell_type": "code",
   "execution_count": 9,
   "id": "eaecc31a-3aeb-4caa-ac2e-a28ede3ed9a3",
   "metadata": {},
   "outputs": [
    {
     "data": {
      "text/latex": [
       "$\\displaystyle \\left(\\mathbf{{x}_{R}} \\mathbf{{y}_{R}} \\mathbf{{z}_{R}}\\right)\\mathbf{\\hat{i}_{R}} + \\left(\\mathbf{{x}_{R}} \\mathbf{{y}_{R}} \\mathbf{{z}_{R}}\\right)\\mathbf{\\hat{j}_{R}} + \\left(\\mathbf{{x}_{R}} \\mathbf{{y}_{R}} \\mathbf{{z}_{R}}\\right)\\mathbf{\\hat{k}_{R}}$"
      ],
      "text/plain": [
       "R.x*R.y*R.z*R.i + R.x*R.y*R.z*R.j + R.x*R.y*R.z*R.k"
      ]
     },
     "execution_count": 9,
     "metadata": {},
     "output_type": "execute_result"
    }
   ],
   "source": [
    "R = sp.vector.CoordSys3D('R')\n",
    "v1 = R.x*R.y*R.z * (R.i+R.j+R.k)\n",
    "v1"
   ]
  },
  {
   "cell_type": "code",
   "execution_count": 11,
   "id": "bca96b58-a2c4-488a-9fb4-b3adc1dc3275",
   "metadata": {},
   "outputs": [],
   "source": [
    "from sympy.vector import divergence, CoordSys3D"
   ]
  },
  {
   "cell_type": "code",
   "execution_count": 15,
   "id": "c762e3a5-f727-49aa-8a3f-683a57575329",
   "metadata": {},
   "outputs": [
    {
     "data": {
      "text/latex": [
       "$\\displaystyle \\left(\\mathbf{{x}_{c}} \\mathbf{{y}_{c}} \\mathbf{{z}_{c}}\\right)\\mathbf{\\hat{i}_{c}} + \\left(\\mathbf{{x}_{c}} \\mathbf{{y}_{c}} \\mathbf{{z}_{c}}\\right)\\mathbf{\\hat{j}_{c}} + \\left(\\mathbf{{x}_{c}} \\mathbf{{y}_{c}} \\mathbf{{z}_{c}}\\right)\\mathbf{\\hat{k}_{c}}$"
      ],
      "text/plain": [
       "c.x*c.y*c.z*c.i + c.x*c.y*c.z*c.j + c.x*c.y*c.z*c.k"
      ]
     },
     "execution_count": 15,
     "metadata": {},
     "output_type": "execute_result"
    },
    {
     "data": {
      "text/latex": [
       "$\\displaystyle \\left(\\mathbf{{x}_{c}}^{2} - \\mathbf{{y}_{c}}^{2}\\right)\\mathbf{\\hat{i}_{c}} + \\left(2 \\mathbf{{x}_{c}} \\mathbf{{y}_{c}}\\right)\\mathbf{\\hat{j}_{c}}$"
      ],
      "text/plain": [
       "(c.x**2 - c.y**2)*c.i + 2*c.x*c.y*c.j"
      ]
     },
     "execution_count": 15,
     "metadata": {},
     "output_type": "execute_result"
    },
    {
     "data": {
      "text/latex": [
       "$\\displaystyle 4 \\mathbf{{x}_{c}}$"
      ],
      "text/plain": [
       "4*c.x"
      ]
     },
     "execution_count": 15,
     "metadata": {},
     "output_type": "execute_result"
    }
   ],
   "source": [
    "C = CoordSys3D('c')\n",
    "C.x*C.y*C.z * (C.i + C.j + C.k)\n",
    "\n",
    "f = (C.x**2 - C.y ** 2) * C.i + (2 * C.x * C.y) * C.j\n",
    "f\n",
    "divergence(f)"
   ]
  },
  {
   "cell_type": "code",
   "execution_count": null,
   "id": "361b7770-28c5-4534-b578-c4b21e72ba64",
   "metadata": {},
   "outputs": [],
   "source": []
  }
 ],
 "metadata": {
  "kernelspec": {
   "display_name": "Math",
   "language": "python",
   "name": "math"
  },
  "language_info": {
   "codemirror_mode": {
    "name": "ipython",
    "version": 3
   },
   "file_extension": ".py",
   "mimetype": "text/x-python",
   "name": "python",
   "nbconvert_exporter": "python",
   "pygments_lexer": "ipython3",
   "version": "3.8.13"
  }
 },
 "nbformat": 4,
 "nbformat_minor": 5
}
