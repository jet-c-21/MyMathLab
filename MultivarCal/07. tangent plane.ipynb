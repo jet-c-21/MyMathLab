{
 "cells": [
  {
   "cell_type": "code",
   "execution_count": 1,
   "id": "86f6f98b-3429-4bae-b19b-bc62e2542eb6",
   "metadata": {},
   "outputs": [
    {
     "name": "stdout",
     "output_type": "stream",
     "text": [
      "Added D:\\Dev\\MyMathLab to PATH\n"
     ]
    }
   ],
   "source": [
    "from IPython.core.interactiveshell import InteractiveShell\n",
    "InteractiveShell.ast_node_interactivity = 'all'\n",
    "\n",
    "# import self-made module\n",
    "import os, sys, pathlib\n",
    "file_path = os.path.abspath('')\n",
    "PROJECT_DIR = str(pathlib.Path(file_path).parent)\n",
    "sys.path.append(PROJECT_DIR)\n",
    "print(f\"Added {PROJECT_DIR} to PATH\")\n",
    "from athena import *\n",
    "\n",
    "# ult functions\n",
    "def reset_symbols():\n",
    "    global x, y, z, a, b, c, d, s, k, t, theta\n",
    "    x, y, z = sp.symbols('x y z', real=True)\n",
    "    a, b, c, d, s, k, t = sp.symbols('a b c d s k t', real=True)\n",
    "    theta = sp.Symbol('theta')"
   ]
  },
  {
   "cell_type": "code",
   "execution_count": 8,
   "id": "8872fab4-4baf-485a-829e-fbf5fdf7f1aa",
   "metadata": {},
   "outputs": [
    {
     "data": {
      "text/latex": [
       "$\\displaystyle 2 y - 3 z + \\log{\\left(x + y \\right)} - \\frac{3}{2} + \\log{\\left(4 \\right)}$"
      ],
      "text/plain": [
       "2*y - 3*z + log(x + y) - 3/2 + log(4)"
      ]
     },
     "execution_count": 8,
     "metadata": {},
     "output_type": "execute_result"
    },
    {
     "data": {
      "text/latex": [
       "$\\displaystyle 4$"
      ],
      "text/plain": [
       "4"
      ]
     },
     "execution_count": 8,
     "metadata": {},
     "output_type": "execute_result"
    },
    {
     "data": {
      "text/latex": [
       "$\\displaystyle 6$"
      ],
      "text/plain": [
       "6"
      ]
     },
     "execution_count": 8,
     "metadata": {},
     "output_type": "execute_result"
    }
   ],
   "source": [
    "f = 2*y - 3*z + sp.ln(x+y) - sp.Number(3) / sp.Number(2) - sp.ln((sp.Number(1) / sp.Number(4)))\n",
    "f\n",
    "\n",
    "sub_dict = {x:sp.Number(-1) / sp.Number(2), y: sp.Number(3) / sp.Number(4)}\n",
    "\n",
    "f.diff(x).subs(sub_dict)\n",
    "f.diff(y).subs(sub_dict)"
   ]
  },
  {
   "cell_type": "code",
   "execution_count": 10,
   "id": "18006e81-0aee-4504-9004-778726cf304d",
   "metadata": {},
   "outputs": [
    {
     "data": {
      "text/latex": [
       "$\\displaystyle x^{3} - y z + \\sin{\\left(x \\right)} - \\pi^{3} + 20$"
      ],
      "text/plain": [
       "x**3 - y*z + sin(x) - pi**3 + 20"
      ]
     },
     "execution_count": 10,
     "metadata": {},
     "output_type": "execute_result"
    },
    {
     "data": {
      "text/latex": [
       "$\\displaystyle -1 + 3 \\pi^{2}$"
      ],
      "text/plain": [
       "-1 + 3*pi**2"
      ]
     },
     "execution_count": 10,
     "metadata": {},
     "output_type": "execute_result"
    },
    {
     "data": {
      "text/latex": [
       "$\\displaystyle -5$"
      ],
      "text/plain": [
       "-5"
      ]
     },
     "execution_count": 10,
     "metadata": {},
     "output_type": "execute_result"
    },
    {
     "data": {
      "text/latex": [
       "$\\displaystyle -4$"
      ],
      "text/plain": [
       "-4"
      ]
     },
     "execution_count": 10,
     "metadata": {},
     "output_type": "execute_result"
    }
   ],
   "source": [
    "f = x**3 - y*z + sp.sin(x) - sp.pi**3 + 20\n",
    "f\n",
    "\n",
    "sub_dict = {x:sp.pi, y: 4, z: 5}\n",
    "\n",
    "f.diff(x).subs(sub_dict)\n",
    "f.diff(y).subs(sub_dict)\n",
    "f.diff(z).subs(sub_dict)"
   ]
  },
  {
   "cell_type": "code",
   "execution_count": 11,
   "id": "8773092c-22f3-4fe8-a214-c81a4d1b8c8e",
   "metadata": {},
   "outputs": [
    {
     "data": {
      "text/latex": [
       "$\\displaystyle \\sin{\\left(x y \\right)}$"
      ],
      "text/plain": [
       "sin(x*y)"
      ]
     },
     "execution_count": 11,
     "metadata": {},
     "output_type": "execute_result"
    },
    {
     "data": {
      "text/latex": [
       "$\\displaystyle \\pi$"
      ],
      "text/plain": [
       "pi"
      ]
     },
     "execution_count": 11,
     "metadata": {},
     "output_type": "execute_result"
    },
    {
     "data": {
      "text/latex": [
       "$\\displaystyle 0$"
      ],
      "text/plain": [
       "0"
      ]
     },
     "execution_count": 11,
     "metadata": {},
     "output_type": "execute_result"
    }
   ],
   "source": [
    "f = sp.sin(x*y)\n",
    "f\n",
    "\n",
    "sub_dict = {x:0, y:sp.pi}\n",
    "\n",
    "f.diff(x).subs(sub_dict)\n",
    "f.diff(y).subs(sub_dict)"
   ]
  },
  {
   "cell_type": "code",
   "execution_count": 12,
   "id": "d7dabc44-45df-41ce-b672-2717eb9e40ba",
   "metadata": {},
   "outputs": [
    {
     "data": {
      "text/latex": [
       "$\\displaystyle - y^{2} + y e^{2 x}$"
      ],
      "text/plain": [
       "-y**2 + y*exp(2*x)"
      ]
     },
     "execution_count": 12,
     "metadata": {},
     "output_type": "execute_result"
    },
    {
     "data": {
      "text/latex": [
       "$\\displaystyle 10 e^{2}$"
      ],
      "text/plain": [
       "10*exp(2)"
      ]
     },
     "execution_count": 12,
     "metadata": {},
     "output_type": "execute_result"
    },
    {
     "data": {
      "text/latex": [
       "$\\displaystyle -10 + e^{2}$"
      ],
      "text/plain": [
       "-10 + exp(2)"
      ]
     },
     "execution_count": 12,
     "metadata": {},
     "output_type": "execute_result"
    }
   ],
   "source": [
    "f = y * sp.E ** (2*x) - y**2\n",
    "f\n",
    "\n",
    "sub_dict = {x:1, y:5}\n",
    "\n",
    "f.diff(x).subs(sub_dict)\n",
    "f.diff(y).subs(sub_dict)"
   ]
  },
  {
   "cell_type": "code",
   "execution_count": null,
   "id": "a1df55c7-64e4-454d-9a94-83228709e03c",
   "metadata": {},
   "outputs": [],
   "source": []
  },
  {
   "cell_type": "code",
   "execution_count": null,
   "id": "4c5655ba-efcf-46ff-b12b-d5c15523d2f7",
   "metadata": {},
   "outputs": [],
   "source": []
  },
  {
   "cell_type": "code",
   "execution_count": null,
   "id": "eb5365e6-ac1c-4331-8501-ffc9efca6c39",
   "metadata": {},
   "outputs": [],
   "source": []
  },
  {
   "cell_type": "code",
   "execution_count": null,
   "id": "1326b304-b776-4741-89bf-ce6973d9b25e",
   "metadata": {},
   "outputs": [],
   "source": []
  }
 ],
 "metadata": {
  "kernelspec": {
   "display_name": "Math",
   "language": "python",
   "name": "math"
  },
  "language_info": {
   "codemirror_mode": {
    "name": "ipython",
    "version": 3
   },
   "file_extension": ".py",
   "mimetype": "text/x-python",
   "name": "python",
   "nbconvert_exporter": "python",
   "pygments_lexer": "ipython3",
   "version": "3.8.13"
  }
 },
 "nbformat": 4,
 "nbformat_minor": 5
}
