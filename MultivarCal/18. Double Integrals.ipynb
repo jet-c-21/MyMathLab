{
 "cells": [
  {
   "cell_type": "code",
   "execution_count": 1,
   "id": "389dc4d5-e452-463e-9d42-8777e7cfee19",
   "metadata": {},
   "outputs": [
    {
     "name": "stdout",
     "output_type": "stream",
     "text": [
      "Added D:\\Dev\\MyMathLab to PATH\n"
     ]
    }
   ],
   "source": [
    "from IPython.core.interactiveshell import InteractiveShell\n",
    "InteractiveShell.ast_node_interactivity = 'all'\n",
    "\n",
    "# import self-made module\n",
    "import os, sys, pathlib\n",
    "file_path = os.path.abspath('')\n",
    "PROJECT_DIR = str(pathlib.Path(file_path).parent)\n",
    "sys.path.append(PROJECT_DIR)\n",
    "print(f\"Added {PROJECT_DIR} to PATH\")\n",
    "from athena import *\n",
    "from sympy.vector import CoordSys3D, gradient, curl, ParametricRegion, vector_integrate, scalar_potential\n",
    "from sympy.integrals.manualintegrate import integral_steps\n",
    "\n",
    "sp.init_printing()\n",
    "\n",
    "# ult functions\n",
    "def reset_symbols():\n",
    "    global x, y, z, a, b, c, d, e, f, g, h, s, k, t, theta, lmda\n",
    "    x, y, z = sp.symbols('x y z', real=True)\n",
    "    a, b, c, d, e, f, g, h, s, k, t = sp.symbols('a b c d e f g h s k t', real=True)\n",
    "    theta = sp.Symbol('theta')\n",
    "    lmda = sp.Symbol('lambda')\n",
    "\n",
    "reset_symbols()"
   ]
  },
  {
   "cell_type": "code",
   "execution_count": 7,
   "id": "b53bd23f-5cfb-4972-a302-96e4ae42dde7",
   "metadata": {},
   "outputs": [
    {
     "data": {
      "image/png": "[encoded data removed]",
      "text/latex": [
       "$\\displaystyle \\int\\limits_{-2}^{0}\\int\\limits_{0}^{1} \\left(x^{2} + x y - y^{2}\\right)\\, dy\\, dx$"
      ],
      "text/plain": [
       "0  1                      \n",
       "⌠  ⌠                      \n",
       "⎮  ⎮ ⎛ 2          2⎞      \n",
       "⎮  ⎮ ⎝x  + x⋅y - y ⎠ dy dx\n",
       "⌡  ⌡                      \n",
       "-2 0                      "
      ]
     },
     "execution_count": 7,
     "metadata": {},
     "output_type": "execute_result"
    },
    {
     "data": {
      "image/png": "[encoded data removed]",
      "text/latex": [
       "$\\displaystyle 1$"
      ],
      "text/plain": [
       "1"
      ]
     },
     "execution_count": 7,
     "metadata": {},
     "output_type": "execute_result"
    },
    {
     "data": {
      "image/png": "[encoded data removed]",
      "text/latex": [
       "$\\displaystyle 1$"
      ],
      "text/plain": [
       "1"
      ]
     },
     "execution_count": 7,
     "metadata": {},
     "output_type": "execute_result"
    },
    {
     "data": {
      "image/png": "[encoded data removed]",
      "text/latex": [
       "$\\displaystyle 1$"
      ],
      "text/plain": [
       "1"
      ]
     },
     "execution_count": 7,
     "metadata": {},
     "output_type": "execute_result"
    }
   ],
   "source": [
    "integrand = x*y + x**2 - y**2\n",
    "sp.Integral(integrand, (y , 0, 1), (x, -2, 0))\n",
    "\n",
    "sp.Integral(integrand, (y , 0, 1), (x, -2, 0)).doit()\n",
    "\n",
    "sp.integrate(integrand, (y , 0, 1), (x, -2, 0))\n",
    "\n",
    "integrand.integrate((y , 0, 1), (x, -2, 0))"
   ]
  },
  {
   "cell_type": "code",
   "execution_count": 12,
   "id": "a697815f-af6a-41c6-a681-d6a9ba9e0654",
   "metadata": {},
   "outputs": [
    {
     "data": {
      "image/png": "[encoded data removed]",
      "text/latex": [
       "$\\displaystyle y e^{4 x}$"
      ],
      "text/plain": [
       "   4⋅x\n",
       "y⋅ℯ   "
      ]
     },
     "execution_count": 12,
     "metadata": {},
     "output_type": "execute_result"
    },
    {
     "data": {
      "image/png": "[encoded data removed]",
      "text/latex": [
       "$\\displaystyle - \\frac{3 e^{12}}{2} + \\frac{3 e^{20}}{2}$"
      ],
      "text/plain": [
       "     12      20\n",
       "  3⋅ℯ     3⋅ℯ  \n",
       "- ───── + ─────\n",
       "    2       2  "
      ]
     },
     "execution_count": 12,
     "metadata": {},
     "output_type": "execute_result"
    }
   ],
   "source": [
    "integrand = y*sp.E**(4*x)\n",
    "integrand\n",
    "\n",
    "integrand.integrate((y, 2, 4), (x, 3, 5))"
   ]
  },
  {
   "cell_type": "code",
   "execution_count": 16,
   "id": "9b45b0f8-3a29-4f34-9bd7-40a94c6b90cc",
   "metadata": {},
   "outputs": [
    {
     "data": {
      "image/png": "[encoded data removed]",
      "text/latex": [
       "$\\displaystyle \\sin{\\left(y \\right)} \\cos{\\left(x \\right)}$"
      ],
      "text/plain": [
       "sin(y)⋅cos(x)"
      ]
     },
     "execution_count": 16,
     "metadata": {},
     "output_type": "execute_result"
    },
    {
     "data": {
      "image/png": "[encoded data removed]",
      "text/latex": [
       "$\\displaystyle 2$"
      ],
      "text/plain": [
       "2"
      ]
     },
     "execution_count": 16,
     "metadata": {},
     "output_type": "execute_result"
    }
   ],
   "source": [
    "integrand = sp.cos(x) * sp.sin(y)\n",
    "integrand\n",
    "\n",
    "integrand.integrate((x, 0, sp.pi/2), (y, 0, sp.pi))"
   ]
  },
  {
   "cell_type": "code",
   "execution_count": null,
   "id": "0b53a9f3-49eb-464a-a3fe-5cf920eb3064",
   "metadata": {},
   "outputs": [],
   "source": [
    "integrand = x**2 / y\n",
    "integrand\n",
    "\n",
    "integrand.integrate((y, 0, sp.pi/2), (x, 0, sp.pi))"
   ]
  }
 ],
 "metadata": {
  "kernelspec": {
   "display_name": "Math",
   "language": "python",
   "name": "math"
  },
  "language_info": {
   "codemirror_mode": {
    "name": "ipython",
    "version": 3
   },
   "file_extension": ".py",
   "mimetype": "text/x-python",
   "name": "python",
   "nbconvert_exporter": "python",
   "pygments_lexer": "ipython3",
   "version": "3.8.13"
  }
 },
 "nbformat": 4,
 "nbformat_minor": 5
}
