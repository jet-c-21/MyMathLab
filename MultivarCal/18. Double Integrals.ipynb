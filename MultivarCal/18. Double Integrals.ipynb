{
 "cells": [
  {
   "cell_type": "code",
   "execution_count": 1,
   "id": "389dc4d5-e452-463e-9d42-8777e7cfee19",
   "metadata": {},
   "outputs": [
    {
     "name": "stdout",
     "output_type": "stream",
     "text": [
      "Added D:\\Dev\\MyMathLab to PATH\n"
     ]
    }
   ],
   "source": [
    "from IPython.core.interactiveshell import InteractiveShell\n",
    "InteractiveShell.ast_node_interactivity = 'all'\n",
    "\n",
    "# import self-made module\n",
    "import os, sys, pathlib\n",
    "file_path = os.path.abspath('')\n",
    "PROJECT_DIR = str(pathlib.Path(file_path).parent)\n",
    "sys.path.append(PROJECT_DIR)\n",
    "print(f\"Added {PROJECT_DIR} to PATH\")\n",
    "from athena import *\n",
    "from sympy.vector import CoordSys3D, gradient, curl, ParametricRegion, vector_integrate, scalar_potential\n",
    "from sympy.integrals.manualintegrate import integral_steps\n",
    "\n",
    "sp.init_printing()\n",
    "\n",
    "# ult functions\n",
    "def reset_symbols():\n",
    "    global x, y, z, a, b, c, d, e, f, g, h, s, k, t, theta, lmda\n",
    "    x, y, z = sp.symbols('x y z', real=True)\n",
    "    a, b, c, d, e, f, g, h, s, k, t = sp.symbols('a b c d e f g h s k t', real=True)\n",
    "    theta = sp.Symbol('theta')\n",
    "    lmda = sp.Symbol('lambda')\n",
    "\n",
    "reset_symbols()"
   ]
  },
  {
   "cell_type": "code",
   "execution_count": 2,
   "id": "b53bd23f-5cfb-4972-a302-96e4ae42dde7",
   "metadata": {},
   "outputs": [
    {
     "data": {
      "image/png": "[encoded data removed]",
      "text/latex": [
       "$\\displaystyle \\int\\limits_{-2}^{0}\\int\\limits_{0}^{1} \\left(x^{2} + x y - y^{2}\\right)\\, dy\\, dx$"
      ],
      "text/plain": [
       "0  1                      \n",
       "⌠  ⌠                      \n",
       "⎮  ⎮ ⎛ 2          2⎞      \n",
       "⎮  ⎮ ⎝x  + x⋅y - y ⎠ dy dx\n",
       "⌡  ⌡                      \n",
       "-2 0                      "
      ]
     },
     "execution_count": 2,
     "metadata": {},
     "output_type": "execute_result"
    },
    {
     "data": {
      "image/png": "[encoded data removed]",
      "text/latex": [
       "$\\displaystyle 1$"
      ],
      "text/plain": [
       "1"
      ]
     },
     "execution_count": 2,
     "metadata": {},
     "output_type": "execute_result"
    },
    {
     "data": {
      "image/png": "[encoded data removed]",
      "text/latex": [
       "$\\displaystyle 1$"
      ],
      "text/plain": [
       "1"
      ]
     },
     "execution_count": 2,
     "metadata": {},
     "output_type": "execute_result"
    },
    {
     "data": {
      "image/png": "[encoded data removed]",
      "text/latex": [
       "$\\displaystyle 1$"
      ],
      "text/plain": [
       "1"
      ]
     },
     "execution_count": 2,
     "metadata": {},
     "output_type": "execute_result"
    }
   ],
   "source": [
    "integrand = x*y + x**2 - y**2\n",
    "sp.Integral(integrand, (y , 0, 1), (x, -2, 0))\n",
    "\n",
    "sp.Integral(integrand, (y , 0, 1), (x, -2, 0)).doit()\n",
    "\n",
    "sp.integrate(integrand, (y , 0, 1), (x, -2, 0))\n",
    "\n",
    "integrand.integrate((y , 0, 1), (x, -2, 0))"
   ]
  },
  {
   "cell_type": "code",
   "execution_count": 3,
   "id": "a697815f-af6a-41c6-a681-d6a9ba9e0654",
   "metadata": {},
   "outputs": [
    {
     "data": {
      "image/png": "[encoded data removed]",
      "text/latex": [
       "$\\displaystyle y e^{4 x}$"
      ],
      "text/plain": [
       "   4⋅x\n",
       "y⋅ℯ   "
      ]
     },
     "execution_count": 3,
     "metadata": {},
     "output_type": "execute_result"
    },
    {
     "data": {
      "image/png": "[encoded data removed]",
      "text/latex": [
       "$\\displaystyle - \\frac{3 e^{12}}{2} + \\frac{3 e^{20}}{2}$"
      ],
      "text/plain": [
       "     12      20\n",
       "  3⋅ℯ     3⋅ℯ  \n",
       "- ───── + ─────\n",
       "    2       2  "
      ]
     },
     "execution_count": 3,
     "metadata": {},
     "output_type": "execute_result"
    }
   ],
   "source": [
    "integrand = y*sp.E**(4*x)\n",
    "integrand\n",
    "\n",
    "integrand.integrate((y, 2, 4), (x, 3, 5))"
   ]
  },
  {
   "cell_type": "code",
   "execution_count": 4,
   "id": "9b45b0f8-3a29-4f34-9bd7-40a94c6b90cc",
   "metadata": {},
   "outputs": [
    {
     "data": {
      "image/png": "[encoded data removed]",
      "text/latex": [
       "$\\displaystyle \\sin{\\left(y \\right)} \\cos{\\left(x \\right)}$"
      ],
      "text/plain": [
       "sin(y)⋅cos(x)"
      ]
     },
     "execution_count": 4,
     "metadata": {},
     "output_type": "execute_result"
    },
    {
     "data": {
      "image/png": "[encoded data removed]",
      "text/latex": [
       "$\\displaystyle 2$"
      ],
      "text/plain": [
       "2"
      ]
     },
     "execution_count": 4,
     "metadata": {},
     "output_type": "execute_result"
    }
   ],
   "source": [
    "integrand = sp.cos(x) * sp.sin(y)\n",
    "integrand\n",
    "\n",
    "integrand.integrate((x, 0, sp.pi/2), (y, 0, sp.pi))"
   ]
  },
  {
   "cell_type": "code",
   "execution_count": 5,
   "id": "0b53a9f3-49eb-464a-a3fe-5cf920eb3064",
   "metadata": {},
   "outputs": [
    {
     "data": {
      "image/png": "[encoded data removed]",
      "text/latex": [
       "$\\displaystyle x^{2} y$"
      ],
      "text/plain": [
       " 2  \n",
       "x ⋅y"
      ]
     },
     "execution_count": 5,
     "metadata": {},
     "output_type": "execute_result"
    },
    {
     "data": {
      "image/png": "[encoded data removed]",
      "text/latex": [
       "$\\displaystyle \\frac{\\pi^{5}}{24}$"
      ],
      "text/plain": [
       " 5\n",
       "π \n",
       "──\n",
       "24"
      ]
     },
     "execution_count": 5,
     "metadata": {},
     "output_type": "execute_result"
    }
   ],
   "source": [
    "integrand = x**2 * y\n",
    "integrand\n",
    "\n",
    "integrand.integrate((y, 0, sp.pi/2), (x, 0, sp.pi))"
   ]
  },
  {
   "cell_type": "code",
   "execution_count": 6,
   "id": "a23cb8f3-ea20-4457-8311-e02454496191",
   "metadata": {},
   "outputs": [
    {
     "data": {
      "image/png": "[encoded data removed]",
      "text/latex": [
       "$\\displaystyle 3 x + 2 y$"
      ],
      "text/plain": [
       "3⋅x + 2⋅y"
      ]
     },
     "execution_count": 6,
     "metadata": {},
     "output_type": "execute_result"
    },
    {
     "data": {
      "image/png": "[encoded data removed]",
      "text/latex": [
       "$\\displaystyle \\frac{1}{5}$"
      ],
      "text/plain": [
       "1/5"
      ]
     },
     "execution_count": 6,
     "metadata": {},
     "output_type": "execute_result"
    }
   ],
   "source": [
    "integrand = 3*x + 2*y\n",
    "integrand\n",
    "\n",
    "integrand.integrate((x, -y**2, 0), (y, 0, 1))"
   ]
  },
  {
   "cell_type": "code",
   "execution_count": 7,
   "id": "eb03b1db-bbe7-419f-8f4b-7ade0976a9f7",
   "metadata": {},
   "outputs": [
    {
     "data": {
      "image/png": "[encoded data removed]",
      "text/latex": [
       "$\\displaystyle \\cos{\\left(x \\right)} + 3$"
      ],
      "text/plain": [
       "cos(x) + 3"
      ]
     },
     "execution_count": 7,
     "metadata": {},
     "output_type": "execute_result"
    },
    {
     "data": {
      "image/png": "[encoded data removed]",
      "text/latex": [
       "$\\displaystyle 6 + 6 \\pi$"
      ],
      "text/plain": [
       "6 + 6⋅π"
      ]
     },
     "execution_count": 7,
     "metadata": {},
     "output_type": "execute_result"
    }
   ],
   "source": [
    "integrand = 3 + sp.cos(x)\n",
    "integrand\n",
    "\n",
    "integrand.integrate((y, sp.sin(x), 2), (x, -sp.pi, 0))"
   ]
  },
  {
   "cell_type": "code",
   "execution_count": 8,
   "id": "a84d86e3-3ee1-4782-9f5f-4cad375a7105",
   "metadata": {},
   "outputs": [
    {
     "data": {
      "image/png": "[encoded data removed]",
      "text/latex": [
       "$\\displaystyle 2 x - \\sin{\\left(y \\right)}$"
      ],
      "text/plain": [
       "2⋅x - sin(y)"
      ]
     },
     "execution_count": 8,
     "metadata": {},
     "output_type": "execute_result"
    },
    {
     "data": {
      "image/png": "[encoded data removed]",
      "text/latex": [
       "$\\displaystyle 0$"
      ],
      "text/plain": [
       "0"
      ]
     },
     "execution_count": 8,
     "metadata": {},
     "output_type": "execute_result"
    }
   ],
   "source": [
    "integrand = 2*x - sp.sin(y)\n",
    "integrand\n",
    "\n",
    "integrand.integrate((x, 0, sp.sin(y)), (y, 0, sp.pi))\n",
    "# integrand.integrate((y, 0, sp.pi), (x, 0, sp.sin(y)))"
   ]
  },
  {
   "cell_type": "code",
   "execution_count": 9,
   "id": "2a6b123d-da1f-4be7-b63b-ba0e564c0c72",
   "metadata": {},
   "outputs": [
    {
     "data": {
      "image/png": "[encoded data removed]",
      "text/latex": [
       "$\\displaystyle - 2 x + 2 y$"
      ],
      "text/plain": [
       "-2⋅x + 2⋅y"
      ]
     },
     "execution_count": 9,
     "metadata": {},
     "output_type": "execute_result"
    },
    {
     "data": {
      "image/png": "[encoded data removed]",
      "text/latex": [
       "$\\displaystyle - \\frac{e^{2}}{2} - 4 \\log{\\left(2 \\right)} + 6$"
      ],
      "text/plain": [
       "   2               \n",
       "  ℯ                \n",
       "- ── - 4⋅log(2) + 6\n",
       "  2                "
      ]
     },
     "execution_count": 9,
     "metadata": {},
     "output_type": "execute_result"
    }
   ],
   "source": [
    "integrand = -2*x + 2*y\n",
    "integrand\n",
    "\n",
    "integrand.integrate((y, 0, sp.E**x), (x, 1, sp.ln(2)))\n",
    "# integrand.integrate((x, 1, sp.ln(2)), (y, 0, sp.E**x)).simplify()"
   ]
  },
  {
   "cell_type": "code",
   "execution_count": 10,
   "id": "0185189e-1fff-401c-86bb-0749d456b2dd",
   "metadata": {},
   "outputs": [
    {
     "data": {
      "image/png": "[encoded data removed]",
      "text/latex": [
       "$\\displaystyle 2 \\sin{\\left(y \\right)} + 4$"
      ],
      "text/plain": [
       "2⋅sin(y) + 4"
      ]
     },
     "execution_count": 10,
     "metadata": {},
     "output_type": "execute_result"
    }
   ],
   "source": [
    "integrand = x + sp.sin(y) + 1\n",
    "integrand.integrate((x, 0, 2))"
   ]
  },
  {
   "cell_type": "code",
   "execution_count": 11,
   "id": "69a5870b-a3b4-4c0b-bdae-1eb934ee5280",
   "metadata": {},
   "outputs": [
    {
     "data": {
      "image/png": "[encoded data removed]",
      "text/latex": [
       "$\\displaystyle 4 \\pi$"
      ],
      "text/plain": [
       "4⋅π"
      ]
     },
     "execution_count": 11,
     "metadata": {},
     "output_type": "execute_result"
    }
   ],
   "source": [
    "f = sp.cos(y) * x ** 2 + 1\n",
    "f.integrate((x, -1, 1), (y, -sp.pi, sp.pi))"
   ]
  },
  {
   "cell_type": "code",
   "execution_count": null,
   "id": "a18b8201-c59d-4d8f-8a3a-13144ec846e2",
   "metadata": {},
   "outputs": [],
   "source": []
  }
 ],
 "metadata": {
  "kernelspec": {
   "display_name": "Math",
   "language": "python",
   "name": "math"
  },
  "language_info": {
   "codemirror_mode": {
    "name": "ipython",
    "version": 3
   },
   "file_extension": ".py",
   "mimetype": "text/x-python",
   "name": "python",
   "nbconvert_exporter": "python",
   "pygments_lexer": "ipython3",
   "version": "3.8.13"
  }
 },
 "nbformat": 4,
 "nbformat_minor": 5
}