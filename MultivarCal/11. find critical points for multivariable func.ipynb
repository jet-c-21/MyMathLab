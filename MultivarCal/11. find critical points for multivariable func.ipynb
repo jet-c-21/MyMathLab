{
 "cells": [
  {
   "cell_type": "code",
   "execution_count": 1,
   "id": "614cca5c-fad1-4d97-9936-9a37fe0c08a4",
   "metadata": {},
   "outputs": [
    {
     "name": "stdout",
     "output_type": "stream",
     "text": [
      "Added D:\\Dev\\MyMathLab to PATH\n"
     ]
    }
   ],
   "source": [
    "from IPython.core.interactiveshell import InteractiveShell\n",
    "InteractiveShell.ast_node_interactivity = 'all'\n",
    "\n",
    "# import self-made module\n",
    "import os, sys, pathlib\n",
    "file_path = os.path.abspath('')\n",
    "PROJECT_DIR = str(pathlib.Path(file_path).parent)\n",
    "sys.path.append(PROJECT_DIR)\n",
    "print(f\"Added {PROJECT_DIR} to PATH\")\n",
    "from athena import *\n",
    "\n",
    "# ult functions\n",
    "def reset_symbols():\n",
    "    global x, y, z, a, b, c, d, s, k, t, theta\n",
    "    x, y, z = sp.symbols('x y z', real=True)\n",
    "    a, b, c, d, s, k, t = sp.symbols('a b c d s k t', real=True)\n",
    "    theta = sp.Symbol('theta')"
   ]
  },
  {
   "cell_type": "code",
   "execution_count": 2,
   "id": "039b3196-d37c-4d79-b5ea-61339d0b4c65",
   "metadata": {},
   "outputs": [],
   "source": [
    "from sympy.vector import CoordSys3D, gradient"
   ]
  },
  {
   "cell_type": "code",
   "execution_count": 3,
   "id": "43f97e88-f954-4915-a9a9-43c14db60fb0",
   "metadata": {},
   "outputs": [
    {
     "data": {
      "text/latex": [
       "$\\displaystyle - 3 \\mathbf{{x}_{.}}^{3} \\mathbf{{y}_{.}} - 3 \\mathbf{{x}_{.}} \\mathbf{{y}_{.}}^{3} + 9$"
      ],
      "text/plain": [
       "-3*..x**3*..y - 3*..x*..y**3 + 9"
      ]
     },
     "execution_count": 3,
     "metadata": {},
     "output_type": "execute_result"
    }
   ],
   "source": [
    "C = CoordSys3D('.')\n",
    "f = 9 - 3 * C.x ** 3 * C.y - 3 * C.x * C.y ** 3\n",
    "f\n",
    "\n",
    "grad = gradient(f)"
   ]
  },
  {
   "cell_type": "code",
   "execution_count": 6,
   "id": "32fd9e71-2a04-4b7e-a6c6-405daa831d37",
   "metadata": {},
   "outputs": [
    {
     "data": {
      "text/latex": [
       "$\\displaystyle \\left[\\begin{matrix}- 9 \\mathbf{{x}_{.}}^{2} \\mathbf{{y}_{.}} - 3 \\mathbf{{y}_{.}}^{3}\\\\- 3 \\mathbf{{x}_{.}}^{3} - 9 \\mathbf{{x}_{.}} \\mathbf{{y}_{.}}^{2}\\\\0\\end{matrix}\\right]$"
      ],
      "text/plain": [
       "Matrix([\n",
       "[-9*..x**2*..y - 3*..y**3],\n",
       "[-3*..x**3 - 9*..x*..y**2],\n",
       "[                       0]])"
      ]
     },
     "execution_count": 6,
     "metadata": {},
     "output_type": "execute_result"
    }
   ],
   "source": [
    "grad.to_matrix(C)"
   ]
  },
  {
   "cell_type": "code",
   "execution_count": 16,
   "id": "7e883ca2-bf34-4217-9454-dbda176a5e79",
   "metadata": {},
   "outputs": [
    {
     "data": {
      "text/latex": [
       "$\\displaystyle \\left[\\begin{matrix}1 & 1 & 1 & 1\\\\1 & 1 & 2 & 3\\end{matrix}\\right]$"
      ],
      "text/plain": [
       "Matrix([\n",
       "[1, 1, 1, 1],\n",
       "[1, 1, 2, 3]])"
      ]
     },
     "execution_count": 16,
     "metadata": {},
     "output_type": "execute_result"
    }
   ],
   "source": [
    "M = sp.Matrix( \n",
    "    [(1, 1, 1, 1), (1, 1, 2, 3)]\n",
    ")\n",
    "M"
   ]
  },
  {
   "cell_type": "code",
   "execution_count": 19,
   "id": "9dfc16ca-2676-44fe-b95f-9eea18c79e30",
   "metadata": {},
   "outputs": [
    {
     "data": {
      "text/latex": [
       "$\\displaystyle - \\mathbf{{x}_{.}}^{4} + \\frac{\\mathbf{{x}_{.}}^{2}}{2} - \\mathbf{{y}_{.}}^{2} + 2 \\mathbf{{y}_{.}} + \\cos{\\left(\\mathbf{{x}_{.}} \\right)}$"
      ],
      "text/plain": [
       "-..x**4 + ..x**2/2 - ..y**2 + 2*..y + cos(..x)"
      ]
     },
     "execution_count": 19,
     "metadata": {},
     "output_type": "execute_result"
    },
    {
     "data": {
      "text/latex": [
       "$\\displaystyle \\left(- 4 \\mathbf{{x}_{.}}^{3} + \\mathbf{{x}_{.}} - \\sin{\\left(\\mathbf{{x}_{.}} \\right)}\\right)\\mathbf{\\hat{i}_{.}} + \\left(2 - 2 \\mathbf{{y}_{.}}\\right)\\mathbf{\\hat{j}_{.}}$"
      ],
      "text/plain": [
       "(-4*..x**3 + ..x - sin(..x))*..i + (2 - 2*..y)*..j"
      ]
     },
     "execution_count": 19,
     "metadata": {},
     "output_type": "execute_result"
    },
    {
     "data": {
      "text/latex": [
       "$\\displaystyle \\left[\\begin{matrix}- 4 \\mathbf{{x}_{.}}^{3} + \\mathbf{{x}_{.}} - \\sin{\\left(\\mathbf{{x}_{.}} \\right)}\\\\2 - 2 \\mathbf{{y}_{.}}\\\\0\\end{matrix}\\right]$"
      ],
      "text/plain": [
       "Matrix([\n",
       "[-4*..x**3 + ..x - sin(..x)],\n",
       "[                 2 - 2*..y],\n",
       "[                         0]])"
      ]
     },
     "execution_count": 19,
     "metadata": {},
     "output_type": "execute_result"
    }
   ],
   "source": [
    "C = CoordSys3D('.')\n",
    "f = (C.x ** 2 / 2) - C.x**4 + sp.cos(C.x) - C.y**2 + 2 * C.y\n",
    "f\n",
    "\n",
    "grad = gradient(f)\n",
    "grad\n",
    "grad.to_matrix(C)"
   ]
  },
  {
   "cell_type": "code",
   "execution_count": 35,
   "id": "c63d2d0f-8f8a-4e1c-917a-309cac2e904c",
   "metadata": {},
   "outputs": [],
   "source": [
    "from sympy.solvers import solve"
   ]
  },
  {
   "cell_type": "code",
   "execution_count": 44,
   "id": "b20f0b01-6f73-42ce-b142-9ee2ea296c38",
   "metadata": {},
   "outputs": [
    {
     "data": {
      "text/plain": [
       "[1]"
      ]
     },
     "execution_count": 44,
     "metadata": {},
     "output_type": "execute_result"
    }
   ],
   "source": [
    "# solve(grad.to_matrix(C)[0], C.x)\n",
    "solve(grad.to_matrix(C)[1], C.y)"
   ]
  },
  {
   "cell_type": "code",
   "execution_count": null,
   "id": "564cec78-0172-47c2-b372-f373505652d7",
   "metadata": {},
   "outputs": [],
   "source": []
  },
  {
   "cell_type": "code",
   "execution_count": 48,
   "id": "5ca215fd-dcae-4713-b013-07623dff5ed5",
   "metadata": {},
   "outputs": [
    {
     "data": {
      "text/latex": [
       "$\\displaystyle 4 \\mathbf{{x}_{.}} - \\mathbf{{y}_{.}} + \\cos{\\left(2 \\mathbf{{x}_{.}} \\right)}$"
      ],
      "text/plain": [
       "4*..x - ..y + cos(2*..x)"
      ]
     },
     "execution_count": 48,
     "metadata": {},
     "output_type": "execute_result"
    },
    {
     "data": {
      "text/latex": [
       "$\\displaystyle \\left(4 - 2 \\sin{\\left(2 \\mathbf{{x}_{.}} \\right)}\\right)\\mathbf{\\hat{i}_{.}} - \\mathbf{\\hat{j}_{.}}$"
      ],
      "text/plain": [
       "(4 - 2*sin(2*..x))*..i + (-1)*..j"
      ]
     },
     "execution_count": 48,
     "metadata": {},
     "output_type": "execute_result"
    },
    {
     "data": {
      "text/latex": [
       "$\\displaystyle \\left[\\begin{matrix}4 - 2 \\sin{\\left(2 \\mathbf{{x}_{.}} \\right)}\\\\-1\\\\0\\end{matrix}\\right]$"
      ],
      "text/plain": [
       "Matrix([\n",
       "[4 - 2*sin(2*..x)],\n",
       "[              -1],\n",
       "[               0]])"
      ]
     },
     "execution_count": 48,
     "metadata": {},
     "output_type": "execute_result"
    }
   ],
   "source": [
    "C = CoordSys3D('.')\n",
    "f = 4 * C.x - C.y + sp.cos(2*C.x)\n",
    "f\n",
    "\n",
    "grad = gradient(f)\n",
    "grad\n",
    "grad.to_matrix(C)"
   ]
  },
  {
   "cell_type": "code",
   "execution_count": null,
   "id": "570fcdd4-82f3-447a-9cc5-c7bf3f0012d8",
   "metadata": {},
   "outputs": [],
   "source": []
  }
 ],
 "metadata": {
  "kernelspec": {
   "display_name": "Math",
   "language": "python",
   "name": "math"
  },
  "language_info": {
   "codemirror_mode": {
    "name": "ipython",
    "version": 3
   },
   "file_extension": ".py",
   "mimetype": "text/x-python",
   "name": "python",
   "nbconvert_exporter": "python",
   "pygments_lexer": "ipython3",
   "version": "3.8.13"
  }
 },
 "nbformat": 4,
 "nbformat_minor": 5
}
