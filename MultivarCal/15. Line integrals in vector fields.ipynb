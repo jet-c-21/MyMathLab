{
 "cells": [
  {
   "cell_type": "code",
   "execution_count": 10,
   "id": "ec4424c0-2a24-4e92-82ec-028fd2914497",
   "metadata": {},
   "outputs": [
    {
     "name": "stdout",
     "output_type": "stream",
     "text": [
      "Added D:\\Dev\\Code\\MyMathLab to PATH\n"
     ]
    }
   ],
   "source": [
    "from IPython.core.interactiveshell import InteractiveShell\n",
    "InteractiveShell.ast_node_interactivity = 'all'\n",
    "\n",
    "# import self-made module\n",
    "import os, sys, pathlib\n",
    "file_path = os.path.abspath('')\n",
    "PROJECT_DIR = str(pathlib.Path(file_path).parent)\n",
    "sys.path.append(PROJECT_DIR)\n",
    "print(f\"Added {PROJECT_DIR} to PATH\")\n",
    "from athena import *\n",
    "from sympy.vector import CoordSys3D, gradient, curl, ParametricRegion, vector_integrate\n",
    "\n",
    "sp.init_printing()\n",
    "\n",
    "# ult functions\n",
    "def reset_symbols():\n",
    "    global x, y, z, a, b, c, d, e, f, g, h, s, k, t, theta, lmda\n",
    "    x, y, z = sp.symbols('x y z', real=True)\n",
    "    a, b, c, d, e, f, g, h, s, k, t = sp.symbols('a b c d e f g h s k t', real=True)\n",
    "    theta = sp.Symbol('theta')\n",
    "    lmda = sp.Symbol('lambda')\n",
    "\n",
    "reset_symbols()"
   ]
  },
  {
   "cell_type": "code",
   "execution_count": 12,
   "id": "bb5208cf-dac6-4501-b2e4-e3f409b4f509",
   "metadata": {},
   "outputs": [
    {
     "data": {
      "image/png": "[encoded data removed]",
      "text/latex": [
       "$\\displaystyle \\operatorname{Curve}\\left(\\left( 3 t, \\  1\\right), \\left( t, \\  -3, \\  1\\right)\\right)$"
      ],
      "text/plain": [
       "Curve((3*t, 1), (t, -3, 1))"
      ]
     },
     "execution_count": 12,
     "metadata": {},
     "output_type": "execute_result"
    },
    {
     "data": {
      "image/png": "[encoded data removed]",
      "text/latex": [
       "$\\displaystyle -60$"
      ],
      "text/plain": [
       "-60"
      ]
     },
     "execution_count": 12,
     "metadata": {},
     "output_type": "execute_result"
    }
   ],
   "source": [
    "C = CoordSys3D('.')\n",
    "\n",
    "curve = sp.Curve((3*t, 1), (t, -3, 1))\n",
    "curve\n",
    "\n",
    "f = (-5)*C.i + (y*sp.sin(x))*C.j\n",
    "vector_integrate(f, curve)"
   ]
  },
  {
   "cell_type": "code",
   "execution_count": 16,
   "id": "d43d72e6-05ba-4889-af11-7e8f9ce69f1a",
   "metadata": {},
   "outputs": [
    {
     "data": {
      "image/png": "[encoded data removed]",
      "text/latex": [
       "$\\displaystyle \\operatorname{ParametricRegion}\\left(\\left( t^{2}, \\  3 t\\right), \\left( t, \\  0, \\  2\\right)\\right)$"
      ],
      "text/plain": [
       "ParametricRegion((t**2, 3*t), (t, 0, 2))"
      ]
     },
     "execution_count": 16,
     "metadata": {},
     "output_type": "execute_result"
    },
    {
     "data": {
      "image/png": "[encoded data removed]",
      "text/latex": [
       "$\\displaystyle \\left(\\sqrt{x}\\right)\\mathbf{\\hat{i}_{.}} + \\left(2 y\\right)\\mathbf{\\hat{j}_{.}}$"
      ],
      "text/plain": [
       "(√x) i_. + (2⋅y) j_."
      ]
     },
     "execution_count": 16,
     "metadata": {},
     "output_type": "execute_result"
    },
    {
     "data": {
      "image/png": "[encoded data removed]",
      "text/latex": [
       "$\\displaystyle 4 \\sqrt{x} + 12 y$"
      ],
      "text/plain": [
       "4⋅√x + 12⋅y"
      ]
     },
     "execution_count": 16,
     "metadata": {},
     "output_type": "execute_result"
    }
   ],
   "source": [
    "C = CoordSys3D('.')\n",
    "\n",
    "curve = sp.Curve((t**2, 3*t), (t, 0, 2))\n",
    "curve = ParametricRegion((t**2, 3*t), (t, 0, 2))\n",
    "curve\n",
    "\n",
    "f = (sp.sqrt(x))*C.i + (2*y)*C.j\n",
    "f\n",
    "sp.vector.vector_integrate(f, curve)"
   ]
  },
  {
   "cell_type": "code",
   "execution_count": null,
   "id": "72e0a183-e265-4079-be77-7a2bcf6abb4e",
   "metadata": {},
   "outputs": [],
   "source": []
  }
 ],
 "metadata": {
  "kernelspec": {
   "display_name": "Math",
   "language": "python",
   "name": "math"
  },
  "language_info": {
   "codemirror_mode": {
    "name": "ipython",
    "version": 3
   },
   "file_extension": ".py",
   "mimetype": "text/x-python",
   "name": "python",
   "nbconvert_exporter": "python",
   "pygments_lexer": "ipython3",
   "version": "3.8.13"
  }
 },
 "nbformat": 4,
 "nbformat_minor": 5
}
