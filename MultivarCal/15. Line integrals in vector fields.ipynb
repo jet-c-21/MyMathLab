{
 "cells": [
  {
   "cell_type": "code",
   "execution_count": 1,
   "id": "ec4424c0-2a24-4e92-82ec-028fd2914497",
   "metadata": {},
   "outputs": [
    {
     "name": "stdout",
     "output_type": "stream",
     "text": [
      "Added D:\\Dev\\MyMathLab to PATH\n"
     ]
    }
   ],
   "source": [
    "from IPython.core.interactiveshell import InteractiveShell\n",
    "InteractiveShell.ast_node_interactivity = 'all'\n",
    "\n",
    "# import self-made module\n",
    "import os, sys, pathlib\n",
    "file_path = os.path.abspath('')\n",
    "PROJECT_DIR = str(pathlib.Path(file_path).parent)\n",
    "sys.path.append(PROJECT_DIR)\n",
    "print(f\"Added {PROJECT_DIR} to PATH\")\n",
    "from athena import *\n",
    "from sympy.vector import CoordSys3D, gradient, curl, ParametricRegion, vector_integrate\n",
    "from sympy.integrals.manualintegrate import integral_steps\n",
    "\n",
    "sp.init_printing()\n",
    "\n",
    "# ult functions\n",
    "def reset_symbols():\n",
    "    global x, y, z, a, b, c, d, e, f, g, h, s, k, t, theta, lmda\n",
    "    x, y, z = sp.symbols('x y z', real=True)\n",
    "    a, b, c, d, e, f, g, h, s, k, t = sp.symbols('a b c d e f g h s k t', real=True)\n",
    "    theta = sp.Symbol('theta')\n",
    "    lmda = sp.Symbol('lambda')\n",
    "\n",
    "reset_symbols()"
   ]
  },
  {
   "cell_type": "code",
   "execution_count": 2,
   "id": "bb5208cf-dac6-4501-b2e4-e3f409b4f509",
   "metadata": {},
   "outputs": [
    {
     "data": {
      "image/png": "[encoded data removed]",
      "text/latex": [
       "$\\displaystyle \\operatorname{Curve}\\left(\\left( 3 t, \\  1\\right), \\left( t, \\  -3, \\  1\\right)\\right)$"
      ],
      "text/plain": [
       "Curve((3*t, 1), (t, -3, 1))"
      ]
     },
     "execution_count": 2,
     "metadata": {},
     "output_type": "execute_result"
    },
    {
     "data": {
      "image/png": "[encoded data removed]",
      "text/latex": [
       "$\\displaystyle -60$"
      ],
      "text/plain": [
       "-60"
      ]
     },
     "execution_count": 2,
     "metadata": {},
     "output_type": "execute_result"
    }
   ],
   "source": [
    "C = CoordSys3D('.')\n",
    "\n",
    "curve = sp.Curve((3*t, 1), (t, -3, 1))\n",
    "curve\n",
    "\n",
    "f = (-5)*C.i + (C.y*sp.sin(C.x))*C.j\n",
    "vector_integrate(f, curve)"
   ]
  },
  {
   "cell_type": "code",
   "execution_count": 3,
   "id": "d43d72e6-05ba-4889-af11-7e8f9ce69f1a",
   "metadata": {},
   "outputs": [
    {
     "data": {
      "image/png": "[encoded data removed]",
      "text/latex": [
       "$\\displaystyle \\operatorname{Curve}\\left(\\left( t^{2}, \\  3 t\\right), \\left( t, \\  0, \\  2\\right)\\right)$"
      ],
      "text/plain": [
       "Curve((t**2, 3*t), (t, 0, 2))"
      ]
     },
     "execution_count": 3,
     "metadata": {},
     "output_type": "execute_result"
    },
    {
     "data": {
      "image/png": "[encoded data removed]",
      "text/latex": [
       "$\\displaystyle \\frac{124}{3}$"
      ],
      "text/plain": [
       "124/3"
      ]
     },
     "execution_count": 3,
     "metadata": {},
     "output_type": "execute_result"
    }
   ],
   "source": [
    "C = CoordSys3D('.')\n",
    "\n",
    "curve = sp.Curve((t**2, 3*t), (t, 0, 2))\n",
    "curve\n",
    "\n",
    "v_field = (sp.sqrt(C.x)) * C.i + (2*C.y) * C.j # f(x, y) = (sqrt(x), 2*y)\n",
    "vector_integrate(v_field, curve)"
   ]
  },
  {
   "cell_type": "code",
   "execution_count": 4,
   "id": "72e0a183-e265-4079-be77-7a2bcf6abb4e",
   "metadata": {},
   "outputs": [
    {
     "data": {
      "image/png": "[encoded data removed]",
      "text/latex": [
       "$\\displaystyle \\operatorname{Curve}\\left(\\left( \\cos{\\left(t \\right)}, \\  \\sin{\\left(t \\right)}\\right), \\left( t, \\  0, \\  2 \\pi\\right)\\right)$"
      ],
      "text/plain": [
       "Curve((cos(t), sin(t)), (t, 0, 2*pi))"
      ]
     },
     "execution_count": 4,
     "metadata": {},
     "output_type": "execute_result"
    },
    {
     "data": {
      "image/png": "[encoded data removed]",
      "text/latex": [
       "$\\displaystyle \\left(- \\mathbf{{y}_{.}}\\right)\\mathbf{\\hat{i}_{.}} + \\left(\\mathbf{{x}_{.}}\\right)\\mathbf{\\hat{j}_{.}}$"
      ],
      "text/plain": [
       "(-y_.) i_. + (x_.) j_."
      ]
     },
     "execution_count": 4,
     "metadata": {},
     "output_type": "execute_result"
    },
    {
     "data": {
      "image/png": "[encoded data removed]",
      "text/latex": [
       "$\\displaystyle 2 \\pi$"
      ],
      "text/plain": [
       "2⋅π"
      ]
     },
     "execution_count": 4,
     "metadata": {},
     "output_type": "execute_result"
    }
   ],
   "source": [
    "C = CoordSys3D('.')\n",
    "\n",
    "curve = sp.Curve(( sp.cos(t), sp.sin(t) ), (t, 0, 2*sp.pi))\n",
    "curve\n",
    "\n",
    "v_field = (-C.y) * C.i + (C.x) * C.j\n",
    "v_field\n",
    "\n",
    "vector_integrate(v_field, curve)"
   ]
  },
  {
   "cell_type": "code",
   "execution_count": 5,
   "id": "87882590-65e9-44b6-ad42-3ba7693591c4",
   "metadata": {},
   "outputs": [
    {
     "data": {
      "image/png": "[encoded data removed]",
      "text/latex": [
       "$\\displaystyle \\operatorname{Curve}\\left(\\left( t, \\  3 t + 3\\right), \\left( t, \\  0, \\  1\\right)\\right)$"
      ],
      "text/plain": [
       "Curve((t, 3*t + 3), (t, 0, 1))"
      ]
     },
     "execution_count": 5,
     "metadata": {},
     "output_type": "execute_result"
    },
    {
     "data": {
      "image/png": "[encoded data removed]",
      "text/latex": [
       "$\\displaystyle \\left(3\\right)\\mathbf{\\hat{i}_{.}} + \\left(\\mathbf{{x}_{.}} + \\mathbf{{y}_{.}}\\right)\\mathbf{\\hat{j}_{.}}$"
      ],
      "text/plain": [
       "(3) i_. + (x_. + y_.) j_."
      ]
     },
     "execution_count": 5,
     "metadata": {},
     "output_type": "execute_result"
    },
    {
     "data": {
      "image/png": "[encoded data removed]",
      "text/latex": [
       "$\\displaystyle 18$"
      ],
      "text/plain": [
       "18"
      ]
     },
     "execution_count": 5,
     "metadata": {},
     "output_type": "execute_result"
    }
   ],
   "source": [
    "C = CoordSys3D('.')\n",
    "\n",
    "curve = sp.Curve(( t, 3*t+3 ), (t, 0, 1))\n",
    "curve\n",
    "\n",
    "v_field = (3) * C.i + (C.x + C.y) * C.j\n",
    "v_field\n",
    "\n",
    "vector_integrate(v_field, curve)"
   ]
  },
  {
   "cell_type": "code",
   "execution_count": 6,
   "id": "ff8a528b-9c85-4625-a912-76e4e2bce1c1",
   "metadata": {},
   "outputs": [
    {
     "data": {
      "image/png": "[encoded data removed]",
      "text/latex": [
       "$\\displaystyle \\operatorname{Curve}\\left(\\left( \\cos{\\left(t \\right)}, \\  3 \\sin{\\left(t \\right)}\\right), \\left( t, \\  - \\pi, \\  \\pi\\right)\\right)$"
      ],
      "text/plain": [
       "Curve((cos(t), 3*sin(t)), (t, -pi, pi))"
      ]
     },
     "execution_count": 6,
     "metadata": {},
     "output_type": "execute_result"
    },
    {
     "name": "stdout",
     "output_type": "stream",
     "text": [
      "Is closed curve: True\n"
     ]
    },
    {
     "data": {
      "image/png": "[encoded data removed]",
      "text/latex": [
       "$\\displaystyle - \\mathbf{{x}_{.}}^{2} \\mathbf{{y}_{.}}^{2}$"
      ],
      "text/plain": [
       "    2    2\n",
       "-x_. ⋅y_. "
      ]
     },
     "execution_count": 6,
     "metadata": {},
     "output_type": "execute_result"
    },
    {
     "data": {
      "image/png": "[encoded data removed]",
      "text/latex": [
       "$\\displaystyle \\left(- 2 \\mathbf{{x}_{.}} \\mathbf{{y}_{.}}^{2}\\right)\\mathbf{\\hat{i}_{.}} + \\left(- 2 \\mathbf{{x}_{.}}^{2} \\mathbf{{y}_{.}}\\right)\\mathbf{\\hat{j}_{.}}$"
      ],
      "text/plain": [
       "⎛          2⎞        ⎛      2    ⎞     \n",
       "⎝-2⋅x_.⋅y_. ⎠ i_.  + ⎝-2⋅x_. ⋅y_.⎠ j_. "
      ]
     },
     "execution_count": 6,
     "metadata": {},
     "output_type": "execute_result"
    },
    {
     "data": {
      "image/png": "[encoded data removed]",
      "text/latex": [
       "$\\displaystyle 0$"
      ],
      "text/plain": [
       "0"
      ]
     },
     "execution_count": 6,
     "metadata": {},
     "output_type": "execute_result"
    }
   ],
   "source": [
    "C = CoordSys3D('.')\n",
    "\n",
    "curve = sp.Curve(( sp.cos(t), 3*sp.sin(t) ), (t, -sp.pi, sp.pi))\n",
    "curve\n",
    "\n",
    "print(f\"Is closed curve: {is_closed_curve(curve)}\")\n",
    "\n",
    "phi = -C.x**2 * C.y**2\n",
    "phi\n",
    "\n",
    "phi_grad = gradient(phi)\n",
    "phi_grad\n",
    "\n",
    "vector_integrate(phi_grad, curve)"
   ]
  },
  {
   "cell_type": "code",
   "execution_count": 7,
   "id": "2547d44c-15bb-440a-b415-60f862198056",
   "metadata": {},
   "outputs": [
    {
     "data": {
      "image/png": "[encoded data removed]",
      "text/latex": [
       "$\\displaystyle \\operatorname{Curve}\\left(\\left( t^{4} - 2 t^{2}, \\  - t^{3}\\right), \\left( t, \\  1, \\  2\\right)\\right)$"
      ],
      "text/plain": [
       "Curve((t**4 - 2*t**2, -t**3), (t, 1, 2))"
      ]
     },
     "execution_count": 7,
     "metadata": {},
     "output_type": "execute_result"
    },
    {
     "name": "stdout",
     "output_type": "stream",
     "text": [
      "Is closed curve: False\n"
     ]
    },
    {
     "data": {
      "image/png": "[encoded data removed]",
      "text/latex": [
       "$\\displaystyle \\mathbf{{x}_{.}}^{2} + \\mathbf{{y}_{.}}^{2}$"
      ],
      "text/plain": [
       "   2      2\n",
       "x_.  + y_. "
      ]
     },
     "execution_count": 7,
     "metadata": {},
     "output_type": "execute_result"
    },
    {
     "data": {
      "image/png": "[encoded data removed]",
      "text/latex": [
       "$\\displaystyle \\left(2 \\mathbf{{x}_{.}}\\right)\\mathbf{\\hat{i}_{.}} + \\left(2 \\mathbf{{y}_{.}}\\right)\\mathbf{\\hat{j}_{.}}$"
      ],
      "text/plain": [
       "(2⋅x_.) i_. + (2⋅y_.) j_."
      ]
     },
     "execution_count": 7,
     "metadata": {},
     "output_type": "execute_result"
    },
    {
     "data": {
      "image/png": "[encoded data removed]",
      "text/latex": [
       "$\\displaystyle 126$"
      ],
      "text/plain": [
       "126"
      ]
     },
     "execution_count": 7,
     "metadata": {},
     "output_type": "execute_result"
    }
   ],
   "source": [
    "C = CoordSys3D('.')\n",
    "\n",
    "curve = sp.Curve(( t**4 - 2*t**2, -t**3 ), (t, 1, 2))\n",
    "curve\n",
    "\n",
    "print(f\"Is closed curve: {is_closed_curve(curve)}\")\n",
    "\n",
    "phi = C.x**2 + C.y**2\n",
    "phi\n",
    "\n",
    "phi_grad = gradient(phi)\n",
    "phi_grad\n",
    "\n",
    "vector_integrate(phi_grad, curve)"
   ]
  },
  {
   "cell_type": "code",
   "execution_count": 8,
   "id": "e33c13d1-282a-4bc4-afd2-8ff77ae49615",
   "metadata": {},
   "outputs": [
    {
     "data": {
      "image/png": "[encoded data removed]",
      "text/latex": [
       "$\\displaystyle \\mathbf{{x}_{.}} + 2 \\sqrt{\\mathbf{{y}_{.}}}$"
      ],
      "text/plain": [
       "          _____\n",
       "x_. + 2⋅╲╱ y_. "
      ]
     },
     "execution_count": 8,
     "metadata": {},
     "output_type": "execute_result"
    },
    {
     "data": {
      "image/png": "[encoded data removed]",
      "text/latex": [
       "$\\displaystyle 2$"
      ],
      "text/plain": [
       "2"
      ]
     },
     "execution_count": 8,
     "metadata": {},
     "output_type": "execute_result"
    }
   ],
   "source": [
    "phi = C.x + 2*sp.sqrt(C.y)\n",
    "phi\n",
    "\n",
    "phi.subs({C.x:1, C.y:4}) - phi.subs({C.x:-1, C.y:4})"
   ]
  },
  {
   "cell_type": "code",
   "execution_count": 17,
   "id": "573d1345-dec9-4c71-bd04-3aa8ec5a315d",
   "metadata": {},
   "outputs": [
    {
     "data": {
      "image/png": "[encoded data removed]",
      "text/latex": [
       "$\\displaystyle \\operatorname{Curve}\\left(\\left( t, \\  \\sin{\\left(t \\right)}\\right), \\left( t, \\  0, \\  2 \\pi\\right)\\right)$"
      ],
      "text/plain": [
       "Curve((t, sin(t)), (t, 0, 2*pi))"
      ]
     },
     "execution_count": 17,
     "metadata": {},
     "output_type": "execute_result"
    },
    {
     "data": {
      "image/png": "[encoded data removed]",
      "text/latex": [
       "$\\displaystyle \\left(2 \\mathbf{{x}_{.}}\\right)\\mathbf{\\hat{i}_{.}} + \\left(2 \\mathbf{{y}_{.}}\\right)\\mathbf{\\hat{j}_{.}}$"
      ],
      "text/plain": [
       "(2⋅x_.) i_. + (2⋅y_.) j_."
      ]
     },
     "execution_count": 17,
     "metadata": {},
     "output_type": "execute_result"
    },
    {
     "data": {
      "image/png": "[encoded data removed]",
      "text/latex": [
       "$\\displaystyle 4 \\pi^{2}$"
      ],
      "text/plain": [
       "   2\n",
       "4⋅π "
      ]
     },
     "execution_count": 17,
     "metadata": {},
     "output_type": "execute_result"
    },
    {
     "data": {
      "image/png": "[encoded data removed]",
      "text/latex": [
       "$\\displaystyle 4 \\pi^{2}$"
      ],
      "text/plain": [
       "   2\n",
       "4⋅π "
      ]
     },
     "execution_count": 17,
     "metadata": {},
     "output_type": "execute_result"
    }
   ],
   "source": [
    "C = CoordSys3D('.')\n",
    "\n",
    "curve = sp.Curve(( t, sp.sin(t)), (t, 0, 2*sp.pi))\n",
    "curve\n",
    "\n",
    "f = C.x**2 + C.y**2\n",
    "f_grad = gradient(f)\n",
    "f_grad\n",
    "\n",
    "vector_integrate(f_grad, curve)\n",
    "\n",
    "f.subs({C.x : curve.subs(t, 2*sp.pi)[0], C.y: curve.subs(t, 2*sp.pi)[1]}) - f.subs({C.x : curve.subs(t, 0)[0], C.y: curve.subs(t, 0)[1]})"
   ]
  },
  {
   "cell_type": "code",
   "execution_count": null,
   "id": "b5960dfc-904d-4127-909f-1171e25e1178",
   "metadata": {},
   "outputs": [],
   "source": []
  }
 ],
 "metadata": {
  "kernelspec": {
   "display_name": "Math",
   "language": "python",
   "name": "math"
  },
  "language_info": {
   "codemirror_mode": {
    "name": "ipython",
    "version": 3
   },
   "file_extension": ".py",
   "mimetype": "text/x-python",
   "name": "python",
   "nbconvert_exporter": "python",
   "pygments_lexer": "ipython3",
   "version": "3.8.13"
  }
 },
 "nbformat": 4,
 "nbformat_minor": 5
}
