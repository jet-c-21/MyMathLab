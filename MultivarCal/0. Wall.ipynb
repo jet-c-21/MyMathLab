{
 "cells": [
  {
   "cell_type": "code",
   "execution_count": 1,
   "id": "f0d1a340-bb51-425f-a8e5-2841a5fdadc7",
   "metadata": {},
   "outputs": [],
   "source": [
    "import sympy as sp"
   ]
  },
  {
   "cell_type": "code",
   "execution_count": 4,
   "id": "90e15f30-c0e1-442f-bc3e-cd96e32af91d",
   "metadata": {},
   "outputs": [],
   "source": [
    "from sympy import vector"
   ]
  },
  {
   "cell_type": "code",
   "execution_count": 5,
   "id": "9f040b46-a27c-4720-8ad1-7b64a8262b34",
   "metadata": {},
   "outputs": [],
   "source": [
    "from sympy.vector import curl"
   ]
  },
  {
   "cell_type": "code",
   "execution_count": null,
   "id": "7fbc9994-ac5c-4854-a87b-de0e36e7b590",
   "metadata": {},
   "outputs": [],
   "source": []
  }
 ],
 "metadata": {
  "kernelspec": {
   "display_name": "Math",
   "language": "python",
   "name": "math"
  },
  "language_info": {
   "codemirror_mode": {
    "name": "ipython",
    "version": 3
   },
   "file_extension": ".py",
   "mimetype": "text/x-python",
   "name": "python",
   "nbconvert_exporter": "python",
   "pygments_lexer": "ipython3",
   "version": "3.8.13"
  }
 },
 "nbformat": 4,
 "nbformat_minor": 5
}
