{
 "cells": [
  {
   "cell_type": "code",
   "execution_count": 1,
   "id": "d347ee69-3fd2-45d4-b9eb-008e1116ed6c",
   "metadata": {},
   "outputs": [
    {
     "name": "stdout",
     "output_type": "stream",
     "text": [
      "Added /Users/puff/my_home/dev/Side_Projects/MyMathLab to PATH\n"
     ]
    }
   ],
   "source": [
    "from IPython.core.interactiveshell import InteractiveShell\n",
    "InteractiveShell.ast_node_interactivity = 'all'\n",
    "\n",
    "# import self-made module\n",
    "import os, sys, pathlib\n",
    "file_path = os.path.abspath('')\n",
    "PROJECT_DIR = str(pathlib.Path(file_path).parent)\n",
    "sys.path.append(PROJECT_DIR)\n",
    "print(f\"Added {PROJECT_DIR} to PATH\")\n",
    "from athena import *\n",
    "from sympy.vector import CoordSys3D, gradient, curl, ParametricRegion, vector_integrate, scalar_potential\n",
    "from sympy.integrals.manualintegrate import integral_steps\n",
    "\n",
    "sp.init_printing()\n",
    "\n",
    "# ult functions\n",
    "def reset_symbols():\n",
    "    global x, y, z, a, b, c, d, e, f, g, h, r, s, k, t, theta, lmda\n",
    "    x, y, z = sp.symbols('x y z', real=True)\n",
    "    a, b, c, d, e, f, g, h, r, s, k, t = sp.symbols('a b c d e f g h r s k t', real=True)\n",
    "    theta = sp.Symbol('theta')\n",
    "    lmda = sp.Symbol('lambda')\n",
    "\n",
    "reset_symbols()"
   ]
  },
  {
   "cell_type": "code",
   "execution_count": 2,
   "id": "b8783dcd-06dc-43e0-ad32-3e321ed61b2b",
   "metadata": {},
   "outputs": [
    {
     "data": {
      "image/png": "[encoded data removed]",
      "text/latex": [
       "$\\displaystyle x + z^{2}$"
      ],
      "text/plain": [
       "     2\n",
       "x + z "
      ]
     },
     "execution_count": 2,
     "metadata": {},
     "output_type": "execute_result"
    },
    {
     "data": {
      "image/png": "[encoded data removed]",
      "text/latex": [
       "$\\displaystyle 53$"
      ],
      "text/plain": [
       "53"
      ]
     },
     "execution_count": 2,
     "metadata": {},
     "output_type": "execute_result"
    }
   ],
   "source": [
    "integrand = z**2 + x\n",
    "integrand\n",
    "\n",
    "integrand.integrate((x, -2, 1), (y, 0, 1), (z, 2, 4))"
   ]
  },
  {
   "cell_type": "code",
   "execution_count": 3,
   "id": "91e46e69-4599-462b-867b-ede62ddad99a",
   "metadata": {},
   "outputs": [
    {
     "data": {
      "image/png": "[encoded data removed]",
      "text/latex": [
       "$\\displaystyle x + 2 y - 2 z$"
      ],
      "text/plain": [
       "x + 2⋅y - 2⋅z"
      ]
     },
     "execution_count": 3,
     "metadata": {},
     "output_type": "execute_result"
    },
    {
     "data": {
      "image/png": "[encoded data removed]",
      "text/latex": [
       "$\\displaystyle - \\frac{48}{5}$"
      ],
      "text/plain": [
       "-48/5"
      ]
     },
     "execution_count": 3,
     "metadata": {},
     "output_type": "execute_result"
    }
   ],
   "source": [
    "integrand = x + 2*y - 2*z\n",
    "integrand\n",
    "\n",
    "integrand.integrate((x, 0, z**2), (z, 0, 2), (y, -1, 1))"
   ]
  },
  {
   "cell_type": "code",
   "execution_count": 4,
   "id": "389fbbc2-0662-4844-99b1-476576301d8f",
   "metadata": {},
   "outputs": [
    {
     "data": {
      "image/png": "[encoded data removed]",
      "text/latex": [
       "$\\displaystyle 2 x - z$"
      ],
      "text/plain": [
       "2⋅x - z"
      ]
     },
     "execution_count": 4,
     "metadata": {},
     "output_type": "execute_result"
    },
    {
     "data": {
      "image/png": "[encoded data removed]",
      "text/latex": [
       "$\\displaystyle - \\frac{9}{4}$"
      ],
      "text/plain": [
       "-9/4"
      ]
     },
     "execution_count": 4,
     "metadata": {},
     "output_type": "execute_result"
    }
   ],
   "source": [
    "integrand = 2*x - z\n",
    "integrand\n",
    "\n",
    "integrand.integrate((x, -y, y), (y, 1, z), (z, 1, 2))"
   ]
  },
  {
   "cell_type": "code",
   "execution_count": 5,
   "id": "e095c8d1-ba94-48fd-b81a-4d95766f4b48",
   "metadata": {},
   "outputs": [
    {
     "data": {
      "image/png": "[encoded data removed]",
      "text/latex": [
       "$\\displaystyle x + 2 y + 3 z$"
      ],
      "text/plain": [
       "x + 2⋅y + 3⋅z"
      ]
     },
     "execution_count": 5,
     "metadata": {},
     "output_type": "execute_result"
    },
    {
     "data": {
      "image/png": "[encoded data removed]",
      "text/latex": [
       "$\\displaystyle 7$"
      ],
      "text/plain": [
       "7"
      ]
     },
     "execution_count": 5,
     "metadata": {},
     "output_type": "execute_result"
    }
   ],
   "source": [
    "integrand = x + 2*y + 3 *z\n",
    "integrand\n",
    "\n",
    "integrand.integrate((z, -1, 0), (y, 3, 4), (x, 1, 2))"
   ]
  },
  {
   "cell_type": "code",
   "execution_count": 6,
   "id": "c61c034b-20f0-432c-a141-fcc2a449b449",
   "metadata": {},
   "outputs": [
    {
     "data": {
      "image/png": "[encoded data removed]",
      "text/latex": [
       "$\\displaystyle \\frac{4 \\pi}{3}$"
      ],
      "text/plain": [
       "4⋅π\n",
       "───\n",
       " 3 "
      ]
     },
     "execution_count": 6,
     "metadata": {},
     "output_type": "execute_result"
    }
   ],
   "source": [
    "integrand = r\n",
    "\n",
    "integrand.integrate((z, -sp.sqrt(1-r**2), sp.sqrt(1-r**2)), (r, 0, 1), (theta, 0, 2*sp.pi))"
   ]
  },
  {
   "cell_type": "code",
   "execution_count": null,
   "id": "8efcac3c-aebf-4b57-a3cc-d0449f80f0a1",
   "metadata": {},
   "outputs": [],
   "source": []
  }
 ],
 "metadata": {
  "kernelspec": {
   "display_name": "Math",
   "language": "python",
   "name": "math"
  },
  "language_info": {
   "codemirror_mode": {
    "name": "ipython",
    "version": 3
   },
   "file_extension": ".py",
   "mimetype": "text/x-python",
   "name": "python",
   "nbconvert_exporter": "python",
   "pygments_lexer": "ipython3",
   "version": "3.8.13"
  }
 },
 "nbformat": 4,
 "nbformat_minor": 5
}
