{
 "cells": [
  {
   "cell_type": "code",
   "execution_count": 1,
   "id": "effff756-21e3-4911-96ec-8a201d531940",
   "metadata": {},
   "outputs": [
    {
     "name": "stdout",
     "output_type": "stream",
     "text": [
      "Added D:\\Dev\\MyMathLab to PATH\n"
     ]
    }
   ],
   "source": [
    "from IPython.core.interactiveshell import InteractiveShell\n",
    "InteractiveShell.ast_node_interactivity = 'all'\n",
    "\n",
    "# import self-made module\n",
    "import os, sys, pathlib\n",
    "file_path = os.path.abspath('')\n",
    "PROJECT_DIR = str(pathlib.Path(file_path).parent)\n",
    "sys.path.append(PROJECT_DIR)\n",
    "print(f\"Added {PROJECT_DIR} to PATH\")\n",
    "from athena import *\n",
    "from sympy.vector import CoordSys3D, gradient, curl, ParametricRegion, vector_integrate, scalar_potential\n",
    "from sympy.integrals.manualintegrate import integral_steps\n",
    "\n",
    "sp.init_printing()\n",
    "\n",
    "# ult functions\n",
    "def reset_symbols():\n",
    "    global x, y, z, a, b, c, d, e, f, g, h, s, k, t, theta, lmda\n",
    "    x, y, z = sp.symbols('x y z', real=True)\n",
    "    a, b, c, d, e, f, g, h, s, k, t = sp.symbols('a b c d e f g h s k t', real=True)\n",
    "    theta = sp.Symbol('theta')\n",
    "    lmda = sp.Symbol('lambda')\n",
    "\n",
    "reset_symbols()"
   ]
  },
  {
   "cell_type": "code",
   "execution_count": 32,
   "id": "ff83a31f-7a17-4137-94e9-4e69e56f77e1",
   "metadata": {},
   "outputs": [
    {
     "data": {
      "image/png": "[encoded data removed]",
      "text/latex": [
       "$\\displaystyle x < \\sqrt{1 - y^{2}} + 1 \\wedge 1 - \\sqrt{1 - y^{2}} < x$"
      ],
      "text/plain": [
       "       ________              ________    \n",
       "      ╱      2              ╱      2     \n",
       "x < ╲╱  1 - y   + 1 ∧ 1 - ╲╱  1 - y   < x"
      ]
     },
     "execution_count": 32,
     "metadata": {},
     "output_type": "execute_result"
    },
    {
     "data": {
      "image/png": "[encoded data removed]",
      "text/latex": [
       "$\\displaystyle y > -1 \\wedge y < 1$"
      ],
      "text/plain": [
       "y > -1 ∧ y < 1"
      ]
     },
     "execution_count": 32,
     "metadata": {},
     "output_type": "execute_result"
    }
   ],
   "source": [
    "x_bound = (1 - sp.sqrt(1-y**2) < x) & (x < 1 + sp.sqrt(1-y**2))\n",
    "x_bound\n",
    "\n",
    "y_bound = (-1 < y) & ( y < 1)\n",
    "y_bound\n",
    "\n",
    "# sp.solve([x_bound, y_bound], x)"
   ]
  },
  {
   "cell_type": "code",
   "execution_count": 39,
   "id": "f5591d13-b4ec-4725-8e5a-04971f633c30",
   "metadata": {},
   "outputs": [
    {
     "ename": "PolynomialError",
     "evalue": "only univariate polynomials are allowed",
     "output_type": "error",
     "traceback": [
      "\u001b[1;31m---------------------------------------------------------------------------\u001b[0m",
      "\u001b[1;31mPolynomialError\u001b[0m                           Traceback (most recent call last)",
      "Cell \u001b[1;32mIn [39], line 3\u001b[0m\n\u001b[0;32m      1\u001b[0m \u001b[38;5;28;01mfrom\u001b[39;00m \u001b[38;5;21;01msympy\u001b[39;00m \u001b[38;5;28;01mimport\u001b[39;00m solve_rational_inequalities, Poly\n\u001b[0;32m      2\u001b[0m \u001b[38;5;28;01mfrom\u001b[39;00m \u001b[38;5;21;01msympy\u001b[39;00m\u001b[38;5;21;01m.\u001b[39;00m\u001b[38;5;21;01msolvers\u001b[39;00m\u001b[38;5;21;01m.\u001b[39;00m\u001b[38;5;21;01minequalities\u001b[39;00m \u001b[38;5;28;01mimport\u001b[39;00m solve_poly_inequalities\n\u001b[1;32m----> 3\u001b[0m \u001b[43msolve_poly_inequalities\u001b[49m\u001b[43m(\u001b[49m\n\u001b[0;32m      4\u001b[0m \u001b[43m    \u001b[49m\u001b[43m[\u001b[49m\n\u001b[0;32m      5\u001b[0m \u001b[43m        \u001b[49m\u001b[43m(\u001b[49m\u001b[43msp\u001b[49m\u001b[38;5;241;43m.\u001b[39;49m\u001b[43mPoly\u001b[49m\u001b[43m(\u001b[49m\u001b[43mx\u001b[49m\u001b[43m \u001b[49m\u001b[38;5;241;43m+\u001b[39;49m\u001b[43m \u001b[49m\u001b[43msp\u001b[49m\u001b[38;5;241;43m.\u001b[39;49m\u001b[43msqrt\u001b[49m\u001b[43m(\u001b[49m\u001b[38;5;241;43m1\u001b[39;49m\u001b[38;5;241;43m-\u001b[39;49m\u001b[43my\u001b[49m\u001b[38;5;241;43m*\u001b[39;49m\u001b[38;5;241;43m*\u001b[39;49m\u001b[38;5;241;43m2\u001b[39;49m\u001b[43m)\u001b[49m\u001b[43m \u001b[49m\u001b[38;5;241;43m-\u001b[39;49m\u001b[43m \u001b[49m\u001b[38;5;241;43m1\u001b[39;49m\u001b[43m)\u001b[49m\u001b[43m,\u001b[49m\u001b[43m \u001b[49m\u001b[38;5;124;43m'\u001b[39;49m\u001b[38;5;124;43m>\u001b[39;49m\u001b[38;5;124;43m'\u001b[39;49m\u001b[43m)\u001b[49m\u001b[43m,\u001b[49m\u001b[43m \u001b[49m\n\u001b[0;32m      6\u001b[0m \u001b[43m        \u001b[49m\u001b[43m(\u001b[49m\u001b[43msp\u001b[49m\u001b[38;5;241;43m.\u001b[39;49m\u001b[43mPoly\u001b[49m\u001b[43m(\u001b[49m\u001b[43mx\u001b[49m\u001b[43m \u001b[49m\u001b[38;5;241;43m-\u001b[39;49m\u001b[43m \u001b[49m\u001b[43msp\u001b[49m\u001b[38;5;241;43m.\u001b[39;49m\u001b[43msqrt\u001b[49m\u001b[43m(\u001b[49m\u001b[38;5;241;43m1\u001b[39;49m\u001b[38;5;241;43m-\u001b[39;49m\u001b[43my\u001b[49m\u001b[38;5;241;43m*\u001b[39;49m\u001b[38;5;241;43m*\u001b[39;49m\u001b[38;5;241;43m2\u001b[39;49m\u001b[43m)\u001b[49m\u001b[43m \u001b[49m\u001b[38;5;241;43m-\u001b[39;49m\u001b[43m \u001b[49m\u001b[38;5;241;43m1\u001b[39;49m\u001b[43m)\u001b[49m\u001b[43m,\u001b[49m\u001b[43m \u001b[49m\u001b[38;5;124;43m'\u001b[39;49m\u001b[38;5;124;43m<\u001b[39;49m\u001b[38;5;124;43m'\u001b[39;49m\u001b[43m)\u001b[49m\u001b[43m,\u001b[49m\u001b[43m \u001b[49m\n\u001b[0;32m      7\u001b[0m \u001b[43m        \u001b[49m\u001b[43m(\u001b[49m\u001b[43msp\u001b[49m\u001b[38;5;241;43m.\u001b[39;49m\u001b[43mPoly\u001b[49m\u001b[43m(\u001b[49m\u001b[43my\u001b[49m\u001b[38;5;241;43m+\u001b[39;49m\u001b[38;5;241;43m1\u001b[39;49m\u001b[43m)\u001b[49m\u001b[43m,\u001b[49m\u001b[43m \u001b[49m\u001b[38;5;124;43m'\u001b[39;49m\u001b[38;5;124;43m>\u001b[39;49m\u001b[38;5;124;43m'\u001b[39;49m\u001b[43m)\u001b[49m\u001b[43m,\u001b[49m\u001b[43m \u001b[49m\n\u001b[0;32m      8\u001b[0m \u001b[43m        \u001b[49m\u001b[43m(\u001b[49m\u001b[43msp\u001b[49m\u001b[38;5;241;43m.\u001b[39;49m\u001b[43mPoly\u001b[49m\u001b[43m(\u001b[49m\u001b[43my\u001b[49m\u001b[38;5;241;43m-\u001b[39;49m\u001b[38;5;241;43m1\u001b[39;49m\u001b[43m)\u001b[49m\u001b[43m,\u001b[49m\u001b[43m \u001b[49m\u001b[38;5;124;43m'\u001b[39;49m\u001b[38;5;124;43m<\u001b[39;49m\u001b[38;5;124;43m'\u001b[39;49m\u001b[43m)\u001b[49m\u001b[43m,\u001b[49m\u001b[43m \u001b[49m\n\u001b[0;32m      9\u001b[0m \u001b[43m    \u001b[49m\u001b[43m]\u001b[49m\n\u001b[0;32m     10\u001b[0m \u001b[43m)\u001b[49m\n",
      "File \u001b[1;32m~\\Anaconda3\\envs\\math\\lib\\site-packages\\sympy\\solvers\\inequalities.py:126\u001b[0m, in \u001b[0;36msolve_poly_inequalities\u001b[1;34m(polys)\u001b[0m\n\u001b[0;32m    112\u001b[0m \u001b[38;5;28;01mdef\u001b[39;00m \u001b[38;5;21msolve_poly_inequalities\u001b[39m(polys):\n\u001b[0;32m    113\u001b[0m     \u001b[38;5;124;03m\"\"\"Solve polynomial inequalities with rational coefficients.\u001b[39;00m\n\u001b[0;32m    114\u001b[0m \n\u001b[0;32m    115\u001b[0m \u001b[38;5;124;03m    Examples\u001b[39;00m\n\u001b[1;32m   (...)\u001b[0m\n\u001b[0;32m    124\u001b[0m \u001b[38;5;124;03m    Union(Interval.open(-oo, -sqrt(3)), Interval.open(-1, 1), Interval.open(sqrt(3), oo))\u001b[39;00m\n\u001b[0;32m    125\u001b[0m \u001b[38;5;124;03m    \"\"\"\u001b[39;00m\n\u001b[1;32m--> 126\u001b[0m     \u001b[38;5;28;01mreturn\u001b[39;00m Union(\u001b[38;5;241m*\u001b[39m[s \u001b[38;5;28;01mfor\u001b[39;00m p \u001b[38;5;129;01min\u001b[39;00m polys \u001b[38;5;28;01mfor\u001b[39;00m s \u001b[38;5;129;01min\u001b[39;00m solve_poly_inequality(\u001b[38;5;241m*\u001b[39mp)])\n",
      "File \u001b[1;32m~\\Anaconda3\\envs\\math\\lib\\site-packages\\sympy\\solvers\\inequalities.py:126\u001b[0m, in \u001b[0;36m<listcomp>\u001b[1;34m(.0)\u001b[0m\n\u001b[0;32m    112\u001b[0m \u001b[38;5;28;01mdef\u001b[39;00m \u001b[38;5;21msolve_poly_inequalities\u001b[39m(polys):\n\u001b[0;32m    113\u001b[0m     \u001b[38;5;124;03m\"\"\"Solve polynomial inequalities with rational coefficients.\u001b[39;00m\n\u001b[0;32m    114\u001b[0m \n\u001b[0;32m    115\u001b[0m \u001b[38;5;124;03m    Examples\u001b[39;00m\n\u001b[1;32m   (...)\u001b[0m\n\u001b[0;32m    124\u001b[0m \u001b[38;5;124;03m    Union(Interval.open(-oo, -sqrt(3)), Interval.open(-1, 1), Interval.open(sqrt(3), oo))\u001b[39;00m\n\u001b[0;32m    125\u001b[0m \u001b[38;5;124;03m    \"\"\"\u001b[39;00m\n\u001b[1;32m--> 126\u001b[0m     \u001b[38;5;28;01mreturn\u001b[39;00m Union(\u001b[38;5;241m*\u001b[39m[s \u001b[38;5;28;01mfor\u001b[39;00m p \u001b[38;5;129;01min\u001b[39;00m polys \u001b[38;5;28;01mfor\u001b[39;00m s \u001b[38;5;129;01min\u001b[39;00m \u001b[43msolve_poly_inequality\u001b[49m\u001b[43m(\u001b[49m\u001b[38;5;241;43m*\u001b[39;49m\u001b[43mp\u001b[49m\u001b[43m)\u001b[49m])\n",
      "File \u001b[1;32m~\\Anaconda3\\envs\\math\\lib\\site-packages\\sympy\\solvers\\inequalities.py:56\u001b[0m, in \u001b[0;36msolve_poly_inequality\u001b[1;34m(poly, rel)\u001b[0m\n\u001b[0;32m     52\u001b[0m     \u001b[38;5;28;01melse\u001b[39;00m:\n\u001b[0;32m     53\u001b[0m         \u001b[38;5;28;01mraise\u001b[39;00m \u001b[38;5;167;01mNotImplementedError\u001b[39;00m(\n\u001b[0;32m     54\u001b[0m             \u001b[38;5;124m\"\u001b[39m\u001b[38;5;124mcould not determine truth value of \u001b[39m\u001b[38;5;132;01m%s\u001b[39;00m\u001b[38;5;124m\"\u001b[39m \u001b[38;5;241m%\u001b[39m t)\n\u001b[1;32m---> 56\u001b[0m reals, intervals \u001b[38;5;241m=\u001b[39m \u001b[43mpoly\u001b[49m\u001b[38;5;241;43m.\u001b[39;49m\u001b[43mreal_roots\u001b[49m\u001b[43m(\u001b[49m\u001b[43mmultiple\u001b[49m\u001b[38;5;241;43m=\u001b[39;49m\u001b[38;5;28;43;01mFalse\u001b[39;49;00m\u001b[43m)\u001b[49m, []\n\u001b[0;32m     58\u001b[0m \u001b[38;5;28;01mif\u001b[39;00m rel \u001b[38;5;241m==\u001b[39m \u001b[38;5;124m'\u001b[39m\u001b[38;5;124m==\u001b[39m\u001b[38;5;124m'\u001b[39m:\n\u001b[0;32m     59\u001b[0m     \u001b[38;5;28;01mfor\u001b[39;00m root, _ \u001b[38;5;129;01min\u001b[39;00m reals:\n",
      "File \u001b[1;32m~\\Anaconda3\\envs\\math\\lib\\site-packages\\sympy\\polys\\polytools.py:3606\u001b[0m, in \u001b[0;36mPoly.real_roots\u001b[1;34m(f, multiple, radicals)\u001b[0m\n\u001b[0;32m   3590\u001b[0m \u001b[38;5;28;01mdef\u001b[39;00m \u001b[38;5;21mreal_roots\u001b[39m(f, multiple\u001b[38;5;241m=\u001b[39m\u001b[38;5;28;01mTrue\u001b[39;00m, radicals\u001b[38;5;241m=\u001b[39m\u001b[38;5;28;01mTrue\u001b[39;00m):\n\u001b[0;32m   3591\u001b[0m     \u001b[38;5;124;03m\"\"\"\u001b[39;00m\n\u001b[0;32m   3592\u001b[0m \u001b[38;5;124;03m    Return a list of real roots with multiplicities.\u001b[39;00m\n\u001b[0;32m   3593\u001b[0m \n\u001b[1;32m   (...)\u001b[0m\n\u001b[0;32m   3604\u001b[0m \n\u001b[0;32m   3605\u001b[0m \u001b[38;5;124;03m    \"\"\"\u001b[39;00m\n\u001b[1;32m-> 3606\u001b[0m     reals \u001b[38;5;241m=\u001b[39m \u001b[43msympy\u001b[49m\u001b[38;5;241;43m.\u001b[39;49m\u001b[43mpolys\u001b[49m\u001b[38;5;241;43m.\u001b[39;49m\u001b[43mrootoftools\u001b[49m\u001b[38;5;241;43m.\u001b[39;49m\u001b[43mCRootOf\u001b[49m\u001b[38;5;241;43m.\u001b[39;49m\u001b[43mreal_roots\u001b[49m\u001b[43m(\u001b[49m\u001b[43mf\u001b[49m\u001b[43m,\u001b[49m\u001b[43m \u001b[49m\u001b[43mradicals\u001b[49m\u001b[38;5;241;43m=\u001b[39;49m\u001b[43mradicals\u001b[49m\u001b[43m)\u001b[49m\n\u001b[0;32m   3608\u001b[0m     \u001b[38;5;28;01mif\u001b[39;00m multiple:\n\u001b[0;32m   3609\u001b[0m         \u001b[38;5;28;01mreturn\u001b[39;00m reals\n",
      "File \u001b[1;32m~\\Anaconda3\\envs\\math\\lib\\site-packages\\sympy\\polys\\rootoftools.py:412\u001b[0m, in \u001b[0;36mComplexRootOf.real_roots\u001b[1;34m(cls, poly, radicals)\u001b[0m\n\u001b[0;32m    409\u001b[0m \u001b[38;5;129m@classmethod\u001b[39m\n\u001b[0;32m    410\u001b[0m \u001b[38;5;28;01mdef\u001b[39;00m \u001b[38;5;21mreal_roots\u001b[39m(\u001b[38;5;28mcls\u001b[39m, poly, radicals\u001b[38;5;241m=\u001b[39m\u001b[38;5;28;01mTrue\u001b[39;00m):\n\u001b[0;32m    411\u001b[0m     \u001b[38;5;124;03m\"\"\"Get real roots of a polynomial. \"\"\"\u001b[39;00m\n\u001b[1;32m--> 412\u001b[0m     \u001b[38;5;28;01mreturn\u001b[39;00m \u001b[38;5;28;43mcls\u001b[39;49m\u001b[38;5;241;43m.\u001b[39;49m\u001b[43m_get_roots\u001b[49m\u001b[43m(\u001b[49m\u001b[38;5;124;43m\"\u001b[39;49m\u001b[38;5;124;43m_real_roots\u001b[39;49m\u001b[38;5;124;43m\"\u001b[39;49m\u001b[43m,\u001b[49m\u001b[43m \u001b[49m\u001b[43mpoly\u001b[49m\u001b[43m,\u001b[49m\u001b[43m \u001b[49m\u001b[43mradicals\u001b[49m\u001b[43m)\u001b[49m\n",
      "File \u001b[1;32m~\\Anaconda3\\envs\\math\\lib\\site-packages\\sympy\\polys\\rootoftools.py:761\u001b[0m, in \u001b[0;36mComplexRootOf._get_roots\u001b[1;34m(cls, method, poly, radicals)\u001b[0m\n\u001b[0;32m    759\u001b[0m \u001b[38;5;124;03m\"\"\"Return postprocessed roots of specified kind. \"\"\"\u001b[39;00m\n\u001b[0;32m    760\u001b[0m \u001b[38;5;28;01mif\u001b[39;00m \u001b[38;5;129;01mnot\u001b[39;00m poly\u001b[38;5;241m.\u001b[39mis_univariate:\n\u001b[1;32m--> 761\u001b[0m     \u001b[38;5;28;01mraise\u001b[39;00m PolynomialError(\u001b[38;5;124m\"\u001b[39m\u001b[38;5;124monly univariate polynomials are allowed\u001b[39m\u001b[38;5;124m\"\u001b[39m)\n\u001b[0;32m    762\u001b[0m \u001b[38;5;66;03m# get rid of gen and it's free symbol\u001b[39;00m\n\u001b[0;32m    763\u001b[0m d \u001b[38;5;241m=\u001b[39m Dummy()\n",
      "\u001b[1;31mPolynomialError\u001b[0m: only univariate polynomials are allowed"
     ]
    }
   ],
   "source": [
    "from sympy import solve_rational_inequalities, Poly\n",
    "from sympy.solvers.inequalities import solve_poly_inequalities\n",
    "solve_poly_inequalities(\n",
    "    [\n",
    "        (sp.Poly(x + sp.sqrt(1-y**2) - 1), '>'), \n",
    "        (sp.Poly(x - sp.sqrt(1-y**2) - 1), '<'), \n",
    "        (sp.Poly(y+1), '>'), \n",
    "        (sp.Poly(y-1), '<'), \n",
    "    ]\n",
    ")"
   ]
  },
  {
   "cell_type": "code",
   "execution_count": 31,
   "id": "25d0c6c0-9d14-444c-982c-6b1b475b7569",
   "metadata": {},
   "outputs": [
    {
     "data": {
      "text/plain": [
       "(Poly(x**2, 3, domain='ZZ[x]'), '>')"
      ]
     },
     "execution_count": 31,
     "metadata": {},
     "output_type": "execute_result"
    }
   ],
   "source": [
    "(sp.Poly(x**2, sp.Number(3)), \">\")"
   ]
  },
  {
   "cell_type": "code",
   "execution_count": 35,
   "id": "1d0cb738-7a19-4073-a679-563564ca3465",
   "metadata": {},
   "outputs": [
    {
     "data": {
      "image/png": "[encoded data removed]",
      "text/latex": [
       "$\\displaystyle \\operatorname{Poly}{\\left( \\operatorname{Expr}\\left(1 - \\sqrt{1 - y^{2}} < x\\right), \\operatorname{Expr}\\left(1 - \\sqrt{1 - y^{2}} < x\\right), domain=\\mathbb{Z} \\right)}$"
      ],
      "text/plain": [
       "Poly(Expr(1 - sqrt(1 - y**2) < x), Expr(1 - sqrt(1 - y**2) < x), domain='ZZ')"
      ]
     },
     "execution_count": 35,
     "metadata": {},
     "output_type": "execute_result"
    }
   ],
   "source": [
    "sp.Expr((1 - sp.sqrt(1-y**2) < x)).as_poly()"
   ]
  },
  {
   "cell_type": "code",
   "execution_count": 36,
   "id": "4f4e91ab-6418-4024-bbb4-ebc5ffe4ba82",
   "metadata": {},
   "outputs": [
    {
     "data": {
      "text/plain": [
       "(Poly(x**2 - 3, x, domain='ZZ'), '>')"
      ]
     },
     "execution_count": 36,
     "metadata": {},
     "output_type": "execute_result"
    }
   ],
   "source": []
  },
  {
   "cell_type": "code",
   "execution_count": null,
   "id": "36235f35-cf1c-4948-a6c0-1b306ef16e22",
   "metadata": {},
   "outputs": [],
   "source": []
  }
 ],
 "metadata": {
  "kernelspec": {
   "display_name": "Math",
   "language": "python",
   "name": "math"
  },
  "language_info": {
   "codemirror_mode": {
    "name": "ipython",
    "version": 3
   },
   "file_extension": ".py",
   "mimetype": "text/x-python",
   "name": "python",
   "nbconvert_exporter": "python",
   "pygments_lexer": "ipython3",
   "version": "3.8.13"
  }
 },
 "nbformat": 4,
 "nbformat_minor": 5
}
