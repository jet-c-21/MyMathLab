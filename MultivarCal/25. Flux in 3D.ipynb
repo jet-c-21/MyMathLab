{
 "cells": [
  {
   "cell_type": "code",
   "execution_count": 1,
   "id": "0219b77c-e7b2-4e76-a25a-b34cbbd5a4eb",
   "metadata": {},
   "outputs": [
    {
     "name": "stdout",
     "output_type": "stream",
     "text": [
      "Added D:\\Dev\\Code\\MyMathLab to PATH\n"
     ]
    }
   ],
   "source": [
    "from IPython.core.interactiveshell import InteractiveShell\n",
    "InteractiveShell.ast_node_interactivity = 'all'\n",
    "\n",
    "# import self-made module\n",
    "import os, sys, pathlib\n",
    "file_path = os.path.abspath('')\n",
    "PROJECT_DIR = str(pathlib.Path(file_path).parent)\n",
    "sys.path.append(PROJECT_DIR)\n",
    "print(f\"Added {PROJECT_DIR} to PATH\")\n",
    "from athena import *\n",
    "from sympy.vector import CoordSys3D, gradient, curl, ParametricRegion, vector_integrate, scalar_potential\n",
    "from sympy.integrals.manualintegrate import integral_steps\n",
    "\n",
    "sp.init_printing()\n",
    "\n",
    "# ult functions\n",
    "def reset_symbols():\n",
    "    global x, y, z, a, b, c, d, e, f, g, h, r, s, k, t, u, v, theta, lmda, rho, phi\n",
    "    x, y, z = sp.symbols('x y z', real=True)\n",
    "    a, b, c, d, e, f, g, h, r, s, k, t, u, v = sp.symbols('a b c d e f g h r s k t u v', real=True)\n",
    "    theta = sp.Symbol('theta')\n",
    "    lmda = sp.Symbol('lambda')\n",
    "    rho = sp.Symbol('rho')\n",
    "    phi = sp.Symbol('phi')\n",
    "    \n",
    "\n",
    "reset_symbols()"
   ]
  },
  {
   "cell_type": "code",
   "execution_count": 6,
   "id": "4a9a1dbb-019c-46e8-a065-2979eb59355f",
   "metadata": {},
   "outputs": [
    {
     "data": {
      "image/png": "[encoded data removed]",
      "text/latex": [
       "$\\displaystyle \\left(2 t\\right)\\mathbf{\\hat{i}_{.}} + \\left(- 2 s\\right)\\mathbf{\\hat{j}_{.}} + \\mathbf{\\hat{k}_{.}}$"
      ],
      "text/plain": [
       "(2⋅t) i_. + (-2⋅s) j_. + k_."
      ]
     },
     "execution_count": 6,
     "metadata": {},
     "output_type": "execute_result"
    },
    {
     "data": {
      "image/png": "[encoded data removed]",
      "text/latex": [
       "$\\displaystyle \\left(\\frac{2 t}{\\sqrt{4 s^{2} + 4 t^{2} + 1}}\\right)\\mathbf{\\hat{i}_{.}} + \\left(- \\frac{2 s}{\\sqrt{4 s^{2} + 4 t^{2} + 1}}\\right)\\mathbf{\\hat{j}_{.}} + \\left(\\frac{1}{\\sqrt{4 s^{2} + 4 t^{2} + 1}}\\right)\\mathbf{\\hat{k}_{.}}$"
      ],
      "text/plain": [
       "⎛        2⋅t         ⎞       ⎛       -2⋅s         ⎞       ⎛         1         \n",
       "⎜────────────────────⎟ i_. + ⎜────────────────────⎟ j_. + ⎜───────────────────\n",
       "⎜   _________________⎟       ⎜   _________________⎟       ⎜   ________________\n",
       "⎜  ╱    2      2     ⎟       ⎜  ╱    2      2     ⎟       ⎜  ╱    2      2    \n",
       "⎝╲╱  4⋅s  + 4⋅t  + 1 ⎠       ⎝╲╱  4⋅s  + 4⋅t  + 1 ⎠       ⎝╲╱  4⋅s  + 4⋅t  + 1\n",
       "\n",
       " ⎞    \n",
       "─⎟ k_.\n",
       "_⎟    \n",
       " ⎟    \n",
       " ⎠    "
      ]
     },
     "execution_count": 6,
     "metadata": {},
     "output_type": "execute_result"
    },
    {
     "data": {
      "image/png": "[encoded data removed]",
      "text/latex": [
       "$\\displaystyle \\left(\\frac{2 \\sqrt{21}}{21}\\right)\\mathbf{\\hat{i}_{.}} + \\left(\\frac{4 \\sqrt{21}}{21}\\right)\\mathbf{\\hat{j}_{.}} + \\left(\\frac{\\sqrt{21}}{21}\\right)\\mathbf{\\hat{k}_{.}}$"
      ],
      "text/plain": [
       "⎛2⋅√21⎞       ⎛4⋅√21⎞       ⎛√21⎞    \n",
       "⎜─────⎟ i_. + ⎜─────⎟ j_. + ⎜───⎟ k_.\n",
       "⎝  21 ⎠       ⎝  21 ⎠       ⎝ 21⎠    "
      ]
     },
     "execution_count": 6,
     "metadata": {},
     "output_type": "execute_result"
    }
   ],
   "source": [
    "C = CoordSys3D('.')\n",
    "vf = (t+1) * C.i + (s) * C.j + (s**2 - t**2 + 1) * C.k\n",
    "\n",
    "vf_dt = vf.diff(t)\n",
    "vf_ds = vf.diff(s)\n",
    "cp = vf_dt.cross(vf_ds)\n",
    "cp\n",
    "\n",
    "uv = cp / (cp.magnitude())\n",
    "uv\n",
    "uv.subs({t:1, s:-2})"
   ]
  },
  {
   "cell_type": "code",
   "execution_count": null,
   "id": "1720cd7e-abc2-4fd8-8cd6-4f475a355912",
   "metadata": {},
   "outputs": [],
   "source": []
  },
  {
   "cell_type": "code",
   "execution_count": 20,
   "id": "74019df0-8cda-44c8-acdf-642971ca57a5",
   "metadata": {},
   "outputs": [
    {
     "data": {
      "image/png": "[encoded data removed]",
      "text/latex": [
       "$\\displaystyle \\mathbf{\\hat{i}_{.}} + \\left(- 2 t\\right)\\mathbf{\\hat{k}_{.}}$"
      ],
      "text/plain": [
       "i_. + (-2⋅t) k_."
      ]
     },
     "execution_count": 20,
     "metadata": {},
     "output_type": "execute_result"
    },
    {
     "data": {
      "image/png": "[encoded data removed]",
      "text/latex": [
       "$\\displaystyle \\mathbf{\\hat{j}_{.}} + \\left(- 2 s\\right)\\mathbf{\\hat{k}_{.}}$"
      ],
      "text/plain": [
       "j_. + (-2⋅s) k_."
      ]
     },
     "execution_count": 20,
     "metadata": {},
     "output_type": "execute_result"
    },
    {
     "data": {
      "image/png": "[encoded data removed]",
      "text/latex": [
       "$\\displaystyle \\left(2 t\\right)\\mathbf{\\hat{i}_{.}} + \\left(2 s\\right)\\mathbf{\\hat{j}_{.}} + \\mathbf{\\hat{k}_{.}}$"
      ],
      "text/plain": [
       "(2⋅t) i_. + (2⋅s) j_. + k_."
      ]
     },
     "execution_count": 20,
     "metadata": {},
     "output_type": "execute_result"
    },
    {
     "data": {
      "image/png": "[encoded data removed]",
      "text/latex": [
       "$\\displaystyle \\left(s t\\right)\\mathbf{\\hat{i}_{.}} + \\left(t \\left(- s^{2} - t^{2} + 4\\right)\\right)\\mathbf{\\hat{j}_{.}} + \\left(s \\left(- s^{2} - t^{2} + 4\\right)\\right)\\mathbf{\\hat{k}_{.}}$"
      ],
      "text/plain": [
       "            ⎛  ⎛   2    2    ⎞⎞        ⎛  ⎛   2    2    ⎞⎞     \n",
       "(s⋅t) i_. + ⎝t⋅⎝- s  - t  + 4⎠⎠ j_.  + ⎝s⋅⎝- s  - t  + 4⎠⎠ k_. "
      ]
     },
     "execution_count": 20,
     "metadata": {},
     "output_type": "execute_result"
    },
    {
     "data": {
      "image/png": "[encoded data removed]",
      "text/latex": [
       "$\\displaystyle 0$"
      ],
      "text/plain": [
       "0"
      ]
     },
     "execution_count": 20,
     "metadata": {},
     "output_type": "execute_result"
    }
   ],
   "source": [
    "C = CoordSys3D('.')\n",
    "vf = (t) * C.i + (s) * C.j + (4-t**2-s**2) * C.k\n",
    "\n",
    "vf_dt = vf.diff(t)\n",
    "vf_dt\n",
    "\n",
    "vf_ds = vf.diff(s)\n",
    "vf_ds\n",
    "\n",
    "cp = vf_dt.cross(vf_ds)\n",
    "cp\n",
    "\n",
    "ff = (x*y) * C.i + (x*z) * C.j + (y*z) * C.k\n",
    "ff_ts = ff.subs({x:vf.coeff(C.i), y:vf.coeff(C.j), z:vf.coeff(C.k)})\n",
    "ff_ts\n",
    "\n",
    "integrand = ff_ts.dot(cp)\n",
    "integrand.integrate((s, -sp.sqrt(4-t**2), sp.sqrt(4-t**2)), (t, 0, 2))"
   ]
  },
  {
   "cell_type": "code",
   "execution_count": null,
   "id": "afceed52-46aa-4db3-a56a-dfd7af6101f4",
   "metadata": {},
   "outputs": [],
   "source": []
  }
 ],
 "metadata": {
  "kernelspec": {
   "display_name": "Math",
   "language": "python",
   "name": "math"
  },
  "language_info": {
   "codemirror_mode": {
    "name": "ipython",
    "version": 3
   },
   "file_extension": ".py",
   "mimetype": "text/x-python",
   "name": "python",
   "nbconvert_exporter": "python",
   "pygments_lexer": "ipython3",
   "version": "3.8.13"
  }
 },
 "nbformat": 4,
 "nbformat_minor": 5
}
