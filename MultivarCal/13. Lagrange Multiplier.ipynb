{
 "cells": [
  {
   "cell_type": "code",
   "execution_count": 1,
   "id": "01d8ce39-bbc3-430d-92f0-cbe6515a1c77",
   "metadata": {},
   "outputs": [
    {
     "name": "stdout",
     "output_type": "stream",
     "text": [
      "Added D:\\Dev\\MyMathLab to PATH\n"
     ]
    }
   ],
   "source": [
    "from IPython.core.interactiveshell import InteractiveShell\n",
    "InteractiveShell.ast_node_interactivity = 'all'\n",
    "\n",
    "# import self-made module\n",
    "import os, sys, pathlib\n",
    "file_path = os.path.abspath('')\n",
    "PROJECT_DIR = str(pathlib.Path(file_path).parent)\n",
    "sys.path.append(PROJECT_DIR)\n",
    "print(f\"Added {PROJECT_DIR} to PATH\")\n",
    "from athena import *\n",
    "from sympy.vector import CoordSys3D, gradient, curl\n",
    "\n",
    "sp.init_printing()\n",
    "\n",
    "# ult functions\n",
    "def reset_symbols():\n",
    "    global x, y, z, a, b, c, d, e, f, g, h, s, k, t, theta, lmda\n",
    "    x, y, z = sp.symbols('x y z', real=True)\n",
    "    a, b, c, d, e, f, g, h, s, k, t = sp.symbols('a b c d e f g h s k t', real=True)\n",
    "    theta = sp.Symbol('theta')\n",
    "    lmda = sp.Symbol('lambda')\n",
    "\n",
    "reset_symbols()"
   ]
  },
  {
   "cell_type": "code",
   "execution_count": 28,
   "id": "53e6fb8e-21a8-42e8-be85-780065dd7689",
   "metadata": {},
   "outputs": [],
   "source": [
    "def print_sol(sol):\n",
    "    print('solution sets:')\n",
    "    for s in sol:\n",
    "        lh_mx_val = []\n",
    "        rh_mx_val = []\n",
    "        for k, v in s.items():\n",
    "            lh_mx_val.append(k)\n",
    "            rh_mx_val.append(v.simplify())\n",
    "    \n",
    "    ip_display(sp.Eq(sp.Matrix(lh_mx_val), sp.Matrix(rh_mx_val)))\n",
    "    print('='*30, '\\n')\n",
    "\n",
    "def eva_sol_val(sol):\n",
    "    for s in sol:\n",
    "        for k in s.keys():\n",
    "            s[k] = s[k].evalf()\n",
    "    \n",
    "            \n",
    "def get_gradient(f):\n",
    "    var_ls = sorted(list(f.free_symbols), key=lambda x: x.name)\n",
    "    f_smb = sp.Function('f')(*var_ls)\n",
    "    \n",
    "    lh_mx_ls = list()\n",
    "    rh_mx_ls = list()\n",
    "    \n",
    "    for v in var_ls:\n",
    "        lh_mx_ls.append(f_smb.diff(v))\n",
    "        rh_mx_ls.append(f.diff(v))\n",
    "    \n",
    "    lh_mx = sp.Matrix(lh_mx_ls)\n",
    "    rh_mx = sp.Matrix(rh_mx_ls)\n",
    "    \n",
    "    return sp.Eq(lh_mx, rh_mx)\n",
    "\n",
    "def find_max_sol_and_max_val(f, sol):\n",
    "    var_ls = sorted(list(f.free_symbols), key=lambda x: x.name)\n",
    "    \n",
    "    temp = list()\n",
    "    for s in sol:\n",
    "        sub_dict = dict((v,s[v]) for v in var_ls)\n",
    "        f_val = f.subs(sub_dict)\n",
    "        temp.append( (f_val, s) )\n",
    "    temp.sort(key=lambda x : x[0], reverse=True)\n",
    "    \n",
    "    \n",
    "    max_val, max_sol = temp[0]\n",
    "    \n",
    "    var_ls = sorted(list(max_sol.keys()), key=lambda x: x.name)\n",
    "    \n",
    "    max_sol_eq_lhs = sp.Matrix(var_ls)\n",
    "    max_sol_eq_rhs = sp.Matrix( [ max_sol[v] for v in var_ls] )\n",
    "    max_sol_eq = sp.Eq(max_sol_eq_lhs, max_sol_eq_rhs)\n",
    "    \n",
    "    return max_sol_eq, max_val"
   ]
  },
  {
   "cell_type": "code",
   "execution_count": 29,
   "id": "29883c29-8bbd-45ea-91b8-886e9a194c3d",
   "metadata": {},
   "outputs": [
    {
     "data": {
      "image/png": "[encoded data removed]",
      "text/latex": [
       "$\\displaystyle - \\lambda \\left(x^{2} + y^{2} - 1\\right) + 2 x + y$"
      ],
      "text/plain": [
       "    ⎛ 2    2    ⎞          \n",
       "- λ⋅⎝x  + y  - 1⎠ + 2⋅x + y"
      ]
     },
     "execution_count": 29,
     "metadata": {},
     "output_type": "execute_result"
    },
    {
     "data": {
      "text/latex": [
       "$\\displaystyle \\left[\\begin{matrix}\\frac{\\partial}{\\partial \\lambda} f{\\left(\\lambda,x,y \\right)}\\\\\\frac{\\partial}{\\partial x} f{\\left(\\lambda,x,y \\right)}\\\\\\frac{\\partial}{\\partial y} f{\\left(\\lambda,x,y \\right)}\\end{matrix}\\right] = \\left[\\begin{matrix}- x^{2} - y^{2} + 1\\\\- 2 \\lambda x + 2\\\\- 2 \\lambda y + 1\\end{matrix}\\right]$"
      ],
      "text/plain": [
       "⎡∂             ⎤                  \n",
       "⎢──(f(λ, x, y))⎥                  \n",
       "⎢∂λ            ⎥   ⎡   2    2    ⎤\n",
       "⎢              ⎥   ⎢- x  - y  + 1⎥\n",
       "⎢∂             ⎥   ⎢             ⎥\n",
       "⎢──(f(λ, x, y))⎥ = ⎢ -2⋅λ⋅x + 2  ⎥\n",
       "⎢∂x            ⎥   ⎢             ⎥\n",
       "⎢              ⎥   ⎣ -2⋅λ⋅y + 1  ⎦\n",
       "⎢∂             ⎥                  \n",
       "⎢──(f(λ, x, y))⎥                  \n",
       "⎣∂y            ⎦                  "
      ]
     },
     "execution_count": 29,
     "metadata": {},
     "output_type": "execute_result"
    },
    {
     "name": "stdout",
     "output_type": "stream",
     "text": [
      "solution sets:\n"
     ]
    },
    {
     "data": {
      "text/latex": [
       "$\\displaystyle \\left[\\begin{matrix}\\lambda\\\\x\\\\y\\end{matrix}\\right] = \\left[\\begin{matrix}\\frac{\\sqrt{5}}{2}\\\\\\frac{2 \\sqrt{5}}{5}\\\\\\frac{\\sqrt{5}}{5}\\end{matrix}\\right]$"
      ],
      "text/plain": [
       "      ⎡ √5 ⎤\n",
       "      ⎢ ── ⎥\n",
       "      ⎢ 2  ⎥\n",
       "⎡λ⎤   ⎢    ⎥\n",
       "⎢ ⎥   ⎢2⋅√5⎥\n",
       "⎢x⎥ = ⎢────⎥\n",
       "⎢ ⎥   ⎢ 5  ⎥\n",
       "⎣y⎦   ⎢    ⎥\n",
       "      ⎢ √5 ⎥\n",
       "      ⎢ ── ⎥\n",
       "      ⎣ 5  ⎦"
      ]
     },
     "metadata": {},
     "output_type": "display_data"
    },
    {
     "name": "stdout",
     "output_type": "stream",
     "text": [
      "============================== \n",
      "\n",
      "max sol:\n"
     ]
    },
    {
     "data": {
      "text/latex": [
       "$\\displaystyle \\left[\\begin{matrix}\\lambda\\\\x\\\\y\\end{matrix}\\right] = \\left[\\begin{matrix}\\frac{\\sqrt{5}}{2}\\\\\\frac{2 \\sqrt{5}}{5}\\\\\\frac{\\sqrt{5}}{5}\\end{matrix}\\right]$"
      ],
      "text/plain": [
       "      ⎡ √5 ⎤\n",
       "      ⎢ ── ⎥\n",
       "      ⎢ 2  ⎥\n",
       "⎡λ⎤   ⎢    ⎥\n",
       "⎢ ⎥   ⎢2⋅√5⎥\n",
       "⎢x⎥ = ⎢────⎥\n",
       "⎢ ⎥   ⎢ 5  ⎥\n",
       "⎣y⎦   ⎢    ⎥\n",
       "      ⎢ √5 ⎥\n",
       "      ⎢ ── ⎥\n",
       "      ⎣ 5  ⎦"
      ]
     },
     "execution_count": 29,
     "metadata": {},
     "output_type": "execute_result"
    },
    {
     "name": "stdout",
     "output_type": "stream",
     "text": [
      "max val:\n"
     ]
    },
    {
     "data": {
      "image/png": "[encoded data removed]",
      "text/latex": [
       "$\\displaystyle \\sqrt{5}$"
      ],
      "text/plain": [
       "√5"
      ]
     },
     "execution_count": 29,
     "metadata": {},
     "output_type": "execute_result"
    }
   ],
   "source": [
    "f = 2*x + y\n",
    "g = x**2 + y**2\n",
    "c = 1\n",
    "\n",
    "lag = f - lmda * (g - c)\n",
    "lag\n",
    "\n",
    "lag_eq = get_gradient(lag)\n",
    "lag_eq\n",
    "\n",
    "sol = sp.solve(lag_eq.rhs)\n",
    "print_sol(sol)\n",
    "\n",
    "max_sol, max_val = find_max_sol_and_max_val(f, sol)\n",
    "print('max sol:')\n",
    "max_sol\n",
    "\n",
    "print('max val:')\n",
    "max_val\n",
    "\n",
    "\n"
   ]
  },
  {
   "cell_type": "code",
   "execution_count": 30,
   "id": "cb3e64e3-d985-44df-875d-02cc2eba09e0",
   "metadata": {},
   "outputs": [
    {
     "data": {
      "image/png": "[encoded data removed]",
      "text/latex": [
       "$\\displaystyle 200 h^{\\frac{2}{3}} \\sqrt[3]{s} - \\lambda \\left(20 h + 170 s - 20000\\right)$"
      ],
      "text/plain": [
       "     2/3 3 ___                           \n",
       "200⋅h   ⋅╲╱ s  - λ⋅(20⋅h + 170⋅s - 20000)"
      ]
     },
     "execution_count": 30,
     "metadata": {},
     "output_type": "execute_result"
    },
    {
     "data": {
      "text/latex": [
       "$\\displaystyle \\left[\\begin{matrix}\\frac{\\partial}{\\partial h} f{\\left(h,\\lambda,s \\right)}\\\\\\frac{\\partial}{\\partial \\lambda} f{\\left(h,\\lambda,s \\right)}\\\\\\frac{\\partial}{\\partial s} f{\\left(h,\\lambda,s \\right)}\\end{matrix}\\right] = \\left[\\begin{matrix}- 20 \\lambda + \\frac{400 \\sqrt[3]{s}}{3 \\sqrt[3]{h}}\\\\- 20 h - 170 s + 20000\\\\\\frac{200 h^{\\frac{2}{3}}}{3 s^{\\frac{2}{3}}} - 170 \\lambda\\end{matrix}\\right]$"
      ],
      "text/plain": [
       "                   ⎡              3 ___  ⎤\n",
       "⎡∂             ⎤   ⎢          400⋅╲╱ s   ⎥\n",
       "⎢──(f(h, λ, s))⎥   ⎢  -20⋅λ + ─────────  ⎥\n",
       "⎢∂h            ⎥   ⎢             3 ___   ⎥\n",
       "⎢              ⎥   ⎢           3⋅╲╱ h    ⎥\n",
       "⎢∂             ⎥   ⎢                     ⎥\n",
       "⎢──(f(h, λ, s))⎥ = ⎢-20⋅h - 170⋅s + 20000⎥\n",
       "⎢∂λ            ⎥   ⎢                     ⎥\n",
       "⎢              ⎥   ⎢       2/3           ⎥\n",
       "⎢∂             ⎥   ⎢  200⋅h              ⎥\n",
       "⎢──(f(h, λ, s))⎥   ⎢  ──────── - 170⋅λ   ⎥\n",
       "⎣∂s            ⎦   ⎢      2/3            ⎥\n",
       "                   ⎣   3⋅s               ⎦"
      ]
     },
     "execution_count": 30,
     "metadata": {},
     "output_type": "execute_result"
    },
    {
     "name": "stdout",
     "output_type": "stream",
     "text": [
      "solution sets:\n"
     ]
    },
    {
     "data": {
      "text/latex": [
       "$\\displaystyle \\left[\\begin{matrix}h\\\\\\lambda\\\\s\\end{matrix}\\right] = \\left[\\begin{matrix}666.666666666667\\\\2.59274079155214\\\\39.2156862745098\\end{matrix}\\right]$"
      ],
      "text/plain": [
       "⎡h⎤   ⎡666.666666666667⎤\n",
       "⎢ ⎥   ⎢                ⎥\n",
       "⎢λ⎥ = ⎢2.59274079155214⎥\n",
       "⎢ ⎥   ⎢                ⎥\n",
       "⎣s⎦   ⎣39.2156862745098⎦"
      ]
     },
     "metadata": {},
     "output_type": "display_data"
    },
    {
     "name": "stdout",
     "output_type": "stream",
     "text": [
      "============================== \n",
      "\n",
      "max sol:\n"
     ]
    },
    {
     "data": {
      "text/latex": [
       "$\\displaystyle \\left[\\begin{matrix}h\\\\\\lambda\\\\s\\end{matrix}\\right] = \\left[\\begin{matrix}666.666666666667\\\\2.59274079155214\\\\39.2156862745098\\end{matrix}\\right]$"
      ],
      "text/plain": [
       "⎡h⎤   ⎡666.666666666667⎤\n",
       "⎢ ⎥   ⎢                ⎥\n",
       "⎢λ⎥ = ⎢2.59274079155214⎥\n",
       "⎢ ⎥   ⎢                ⎥\n",
       "⎣s⎦   ⎣39.2156862745098⎦"
      ]
     },
     "execution_count": 30,
     "metadata": {},
     "output_type": "execute_result"
    },
    {
     "name": "stdout",
     "output_type": "stream",
     "text": [
      "max val:\n"
     ]
    },
    {
     "data": {
      "image/png": "[encoded data removed]",
      "text/latex": [
       "$\\displaystyle 51854.8158310427$"
      ],
      "text/plain": [
       "51854.8158310427"
      ]
     },
     "execution_count": 30,
     "metadata": {},
     "output_type": "execute_result"
    }
   ],
   "source": [
    "f = 200 * (h ** (sp.Number(2) / 3)) * (s ** (sp.Number(1) / 3))\n",
    "g = 20 * h + 170 * s\n",
    "c = 20000\n",
    "\n",
    "lag = f - lmda * (g - c)\n",
    "lag\n",
    "\n",
    "lag_eq = get_gradient(lag)\n",
    "lag_eq\n",
    "\n",
    "sol = sp.solve(lag_eq.rhs)\n",
    "eva_sol_val(sol)\n",
    "print_sol(sol)\n",
    "\n",
    "max_sol, max_val = find_max_sol_and_max_val(f, sol)\n",
    "print('max sol:')\n",
    "max_sol\n",
    "\n",
    "print('max val:')\n",
    "max_val"
   ]
  },
  {
   "cell_type": "code",
   "execution_count": 34,
   "id": "434eb381-baed-47b0-8899-cbc35e820397",
   "metadata": {},
   "outputs": [
    {
     "data": {
      "image/png": "[encoded data removed]",
      "text/latex": [
       "$\\displaystyle - \\lambda \\left(x^{2} + y^{2} + z^{2} - 1\\right) + 2 x + 3 y + z$"
      ],
      "text/plain": [
       "    ⎛ 2    2    2    ⎞                \n",
       "- λ⋅⎝x  + y  + z  - 1⎠ + 2⋅x + 3⋅y + z"
      ]
     },
     "execution_count": 34,
     "metadata": {},
     "output_type": "execute_result"
    },
    {
     "data": {
      "text/latex": [
       "$\\displaystyle \\left[\\begin{matrix}\\frac{\\partial}{\\partial \\lambda} f{\\left(\\lambda,x,y,z \\right)}\\\\\\frac{\\partial}{\\partial x} f{\\left(\\lambda,x,y,z \\right)}\\\\\\frac{\\partial}{\\partial y} f{\\left(\\lambda,x,y,z \\right)}\\\\\\frac{\\partial}{\\partial z} f{\\left(\\lambda,x,y,z \\right)}\\end{matrix}\\right] = \\left[\\begin{matrix}- x^{2} - y^{2} - z^{2} + 1\\\\- 2 \\lambda x + 2\\\\- 2 \\lambda y + 3\\\\- 2 \\lambda z + 1\\end{matrix}\\right]$"
      ],
      "text/plain": [
       "⎡∂                ⎤                       \n",
       "⎢──(f(λ, x, y, z))⎥                       \n",
       "⎢∂λ               ⎥                       \n",
       "⎢                 ⎥   ⎡   2    2    2    ⎤\n",
       "⎢∂                ⎥   ⎢- x  - y  - z  + 1⎥\n",
       "⎢──(f(λ, x, y, z))⎥   ⎢                  ⎥\n",
       "⎢∂x               ⎥   ⎢    -2⋅λ⋅x + 2    ⎥\n",
       "⎢                 ⎥ = ⎢                  ⎥\n",
       "⎢∂                ⎥   ⎢    -2⋅λ⋅y + 3    ⎥\n",
       "⎢──(f(λ, x, y, z))⎥   ⎢                  ⎥\n",
       "⎢∂y               ⎥   ⎣    -2⋅λ⋅z + 1    ⎦\n",
       "⎢                 ⎥                       \n",
       "⎢∂                ⎥                       \n",
       "⎢──(f(λ, x, y, z))⎥                       \n",
       "⎣∂z               ⎦                       "
      ]
     },
     "execution_count": 34,
     "metadata": {},
     "output_type": "execute_result"
    },
    {
     "name": "stdout",
     "output_type": "stream",
     "text": [
      "solution sets:\n"
     ]
    },
    {
     "data": {
      "text/latex": [
       "$\\displaystyle \\left[\\begin{matrix}\\lambda\\\\x\\\\y\\\\z\\end{matrix}\\right] = \\left[\\begin{matrix}\\frac{\\sqrt{14}}{2}\\\\\\frac{\\sqrt{14}}{7}\\\\\\frac{3 \\sqrt{14}}{14}\\\\\\frac{\\sqrt{14}}{14}\\end{matrix}\\right]$"
      ],
      "text/plain": [
       "      ⎡ √14 ⎤\n",
       "      ⎢ ─── ⎥\n",
       "      ⎢  2  ⎥\n",
       "      ⎢     ⎥\n",
       "⎡λ⎤   ⎢ √14 ⎥\n",
       "⎢ ⎥   ⎢ ─── ⎥\n",
       "⎢x⎥   ⎢  7  ⎥\n",
       "⎢ ⎥ = ⎢     ⎥\n",
       "⎢y⎥   ⎢3⋅√14⎥\n",
       "⎢ ⎥   ⎢─────⎥\n",
       "⎣z⎦   ⎢  14 ⎥\n",
       "      ⎢     ⎥\n",
       "      ⎢ √14 ⎥\n",
       "      ⎢ ─── ⎥\n",
       "      ⎣  14 ⎦"
      ]
     },
     "metadata": {},
     "output_type": "display_data"
    },
    {
     "name": "stdout",
     "output_type": "stream",
     "text": [
      "============================== \n",
      "\n",
      "max sol:\n"
     ]
    },
    {
     "data": {
      "text/latex": [
       "$\\displaystyle \\left[\\begin{matrix}\\lambda\\\\x\\\\y\\\\z\\end{matrix}\\right] = \\left[\\begin{matrix}\\frac{\\sqrt{14}}{2}\\\\\\frac{\\sqrt{14}}{7}\\\\\\frac{3 \\sqrt{14}}{14}\\\\\\frac{\\sqrt{14}}{14}\\end{matrix}\\right]$"
      ],
      "text/plain": [
       "      ⎡ √14 ⎤\n",
       "      ⎢ ─── ⎥\n",
       "      ⎢  2  ⎥\n",
       "      ⎢     ⎥\n",
       "⎡λ⎤   ⎢ √14 ⎥\n",
       "⎢ ⎥   ⎢ ─── ⎥\n",
       "⎢x⎥   ⎢  7  ⎥\n",
       "⎢ ⎥ = ⎢     ⎥\n",
       "⎢y⎥   ⎢3⋅√14⎥\n",
       "⎢ ⎥   ⎢─────⎥\n",
       "⎣z⎦   ⎢  14 ⎥\n",
       "      ⎢     ⎥\n",
       "      ⎢ √14 ⎥\n",
       "      ⎢ ─── ⎥\n",
       "      ⎣  14 ⎦"
      ]
     },
     "execution_count": 34,
     "metadata": {},
     "output_type": "execute_result"
    },
    {
     "name": "stdout",
     "output_type": "stream",
     "text": [
      "max val:\n"
     ]
    },
    {
     "data": {
      "image/png": "[encoded data removed]",
      "text/latex": [
       "$\\displaystyle \\sqrt{14}$"
      ],
      "text/plain": [
       "√14"
      ]
     },
     "execution_count": 34,
     "metadata": {},
     "output_type": "execute_result"
    }
   ],
   "source": [
    "v = sp.Matrix([2,3,1])\n",
    "u = sp.Matrix([x,y,z])\n",
    "\n",
    "f = v.dot(u)\n",
    "g = u.dot(u)\n",
    "c = 1\n",
    "\n",
    "lag = f - lmda * (g - c)\n",
    "lag\n",
    "\n",
    "lag_eq = get_gradient(lag)\n",
    "lag_eq\n",
    "\n",
    "sol = sp.solve(lag_eq.rhs)\n",
    "# eva_sol_val(sol)\n",
    "print_sol(sol)\n",
    "\n",
    "max_sol, max_val = find_max_sol_and_max_val(f, sol)\n",
    "print('max sol:')\n",
    "max_sol\n",
    "\n",
    "print('max val:')\n",
    "max_val"
   ]
  },
  {
   "cell_type": "markdown",
   "id": "d2011f8a-8fc2-49b7-b54f-337ab5ec84e1",
   "metadata": {},
   "source": [
    "# Lagrang Multiplier"
   ]
  },
  {
   "cell_type": "code",
   "execution_count": 58,
   "id": "a5301dbc-05df-459c-a9e6-372b745bf314",
   "metadata": {},
   "outputs": [
    {
     "data": {
      "image/png": "[encoded data removed]",
      "text/latex": [
       "$\\displaystyle L{\\left(x^{*}{\\left(c \\right)},y^{*}{\\left(c \\right)},\\lambda^{*}{\\left(c \\right)},c \\right)}$"
      ],
      "text/plain": [
       "L(x__*(c), y__*(c), λ__*(c), c)"
      ]
     },
     "execution_count": 58,
     "metadata": {},
     "output_type": "execute_result"
    },
    {
     "data": {
      "text/latex": [
       "$\\displaystyle \\frac{d}{d \\lambda^{*}{\\left(c \\right)}} L{\\left(x^{*}{\\left(c \\right)},y^{*}{\\left(c \\right)},\\lambda^{*}{\\left(c \\right)},c \\right)} \\frac{d}{d c} \\lambda^{*}{\\left(c \\right)} + \\frac{d}{d x^{*}{\\left(c \\right)}} L{\\left(x^{*}{\\left(c \\right)},y^{*}{\\left(c \\right)},\\lambda^{*}{\\left(c \\right)},c \\right)} \\frac{d}{d c} x^{*}{\\left(c \\right)} + \\frac{d}{d y^{*}{\\left(c \\right)}} L{\\left(x^{*}{\\left(c \\right)},y^{*}{\\left(c \\right)},\\lambda^{*}{\\left(c \\right)},c \\right)} \\frac{d}{d c} y^{*}{\\left(c \\right)} + \\left. \\frac{\\partial}{\\partial \\xi_{4}} L{\\left(x^{*}{\\left(c \\right)},y^{*}{\\left(c \\right)},\\lambda^{*}{\\left(c \\right)},\\xi_{4} \\right)} \\right|_{\\substack{ \\xi_{4}=c }}$"
      ],
      "text/plain": [
       "   d                                      d                d                  \n",
       "────────(L(x__*(c), y__*(c), λ__*(c), c))⋅──(λ__*(c)) + ────────(L(x__*(c), y_\n",
       "dλ__*(c)                                  dc            dx__*(c)              \n",
       "\n",
       "                    d                d                                      d \n",
       "_*(c), λ__*(c), c))⋅──(x__*(c)) + ────────(L(x__*(c), y__*(c), λ__*(c), c))⋅──\n",
       "                    dc            dy__*(c)                                  dc\n",
       "\n",
       "            ⎛ ∂                                   ⎞│    \n",
       "(y__*(c)) + ⎜───(L(x__*(c), y__*(c), λ__*(c), ξ₄))⎟│    \n",
       "            ⎝∂ξ₄                                  ⎠│ξ₄=c"
      ]
     },
     "execution_count": 58,
     "metadata": {},
     "output_type": "execute_result"
    }
   ],
   "source": [
    "L, x_star, y_star, lmda_star, c = sp.symbols('L x^* y^* lambda^* c')\n",
    "\n",
    "x_star_f = sp.Function(x_star)(c)\n",
    "y_star_f = sp.Function(y_star)(c)\n",
    "lmda_star_f = sp.Function(lmda_star)(c)\n",
    "L_f = sp.Function(L)(x_star_f, y_star_f, lmda_star_f, c)\n",
    "L_f\n",
    "\n",
    "L_f.diff(c)"
   ]
  },
  {
   "cell_type": "code",
   "execution_count": 43,
   "id": "392cc8d4-db88-44d0-84a1-cf7edf1b0bf0",
   "metadata": {},
   "outputs": [],
   "source": []
  },
  {
   "cell_type": "code",
   "execution_count": null,
   "id": "77695d33-c8ca-4ef1-8481-716b10d8efc1",
   "metadata": {},
   "outputs": [],
   "source": []
  }
 ],
 "metadata": {
  "kernelspec": {
   "display_name": "Math",
   "language": "python",
   "name": "math"
  },
  "language_info": {
   "codemirror_mode": {
    "name": "ipython",
    "version": 3
   },
   "file_extension": ".py",
   "mimetype": "text/x-python",
   "name": "python",
   "nbconvert_exporter": "python",
   "pygments_lexer": "ipython3",
   "version": "3.8.13"
  }
 },
 "nbformat": 4,
 "nbformat_minor": 5
}
