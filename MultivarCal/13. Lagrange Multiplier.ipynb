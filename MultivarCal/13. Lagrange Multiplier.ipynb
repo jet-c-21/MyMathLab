{
 "cells": [
  {
   "cell_type": "code",
   "execution_count": 1,
   "id": "01d8ce39-bbc3-430d-92f0-cbe6515a1c77",
   "metadata": {},
   "outputs": [
    {
     "name": "stdout",
     "output_type": "stream",
     "text": [
      "Added D:\\Dev\\MyMathLab to PATH\n"
     ]
    }
   ],
   "source": [
    "from IPython.core.interactiveshell import InteractiveShell\n",
    "InteractiveShell.ast_node_interactivity = 'all'\n",
    "\n",
    "# import self-made module\n",
    "import os, sys, pathlib\n",
    "file_path = os.path.abspath('')\n",
    "PROJECT_DIR = str(pathlib.Path(file_path).parent)\n",
    "sys.path.append(PROJECT_DIR)\n",
    "print(f\"Added {PROJECT_DIR} to PATH\")\n",
    "from athena import *\n",
    "from sympy.vector import CoordSys3D, gradient, curl\n",
    "\n",
    "# ult functions\n",
    "def reset_symbols():\n",
    "    global x, y, z, a, b, c, d, s, k, t, theta\n",
    "    x, y, z = sp.symbols('x y z', real=True)\n",
    "    a, b, c, d, s, k, t = sp.symbols('a b c d s k t', real=True)\n",
    "    theta = sp.Symbol('theta')"
   ]
  },
  {
   "cell_type": "code",
   "execution_count": 64,
   "id": "dfc22c2a-d2b1-48a5-ad43-9cb7b3f177b4",
   "metadata": {},
   "outputs": [
    {
     "data": {
      "text/latex": [
       "$\\displaystyle \\left[\\begin{matrix}2 \\mathbf{{x}_{.}} \\mathbf{{y}_{.}}\\\\\\mathbf{{x}_{.}}^{2}\\\\0\\end{matrix}\\right]$"
      ],
      "text/plain": [
       "Matrix([\n",
       "[2*..x*..y],\n",
       "[   ..x**2],\n",
       "[        0]])"
      ]
     },
     "execution_count": 64,
     "metadata": {},
     "output_type": "execute_result"
    },
    {
     "data": {
      "text/latex": [
       "$\\displaystyle \\left[\\begin{matrix}2 \\mathbf{{x}_{.}}\\\\2 \\mathbf{{y}_{.}}\\\\0\\end{matrix}\\right]$"
      ],
      "text/plain": [
       "Matrix([\n",
       "[2*..x],\n",
       "[2*..y],\n",
       "[    0]])"
      ]
     },
     "execution_count": 64,
     "metadata": {},
     "output_type": "execute_result"
    },
    {
     "name": "stdout",
     "output_type": "stream",
     "text": [
      "solution sets:\n"
     ]
    },
    {
     "data": {
      "text/latex": [
       "$\\displaystyle \\left[\\begin{matrix}\\mathbf{{x}_{.}}\\\\\\mathbf{{y}_{.}}\\\\\\lambda\\end{matrix}\\right] = \\left[\\begin{matrix}0\\\\-1\\\\0\\end{matrix}\\right]$"
      ],
      "text/plain": [
       "Eq(Matrix([\n",
       "[   ..x],\n",
       "[   ..y],\n",
       "[lambda]]), Matrix([\n",
       "[ 0],\n",
       "[-1],\n",
       "[ 0]]))"
      ]
     },
     "execution_count": 64,
     "metadata": {},
     "output_type": "execute_result"
    },
    {
     "data": {
      "text/latex": [
       "$\\displaystyle \\left[\\begin{matrix}\\mathbf{{x}_{.}}\\\\\\mathbf{{y}_{.}}\\\\\\lambda\\end{matrix}\\right] = \\left[\\begin{matrix}0\\\\1\\\\0\\end{matrix}\\right]$"
      ],
      "text/plain": [
       "Eq(Matrix([\n",
       "[   ..x],\n",
       "[   ..y],\n",
       "[lambda]]), Matrix([\n",
       "[0],\n",
       "[1],\n",
       "[0]]))"
      ]
     },
     "execution_count": 64,
     "metadata": {},
     "output_type": "execute_result"
    },
    {
     "data": {
      "text/latex": [
       "$\\displaystyle \\left[\\begin{matrix}\\mathbf{{x}_{.}}\\\\\\mathbf{{y}_{.}}\\\\\\lambda\\end{matrix}\\right] = \\left[\\begin{matrix}- \\frac{\\sqrt{6}}{3}\\\\- \\frac{\\sqrt{3}}{3}\\\\- \\frac{\\sqrt{3}}{3}\\end{matrix}\\right]$"
      ],
      "text/plain": [
       "Eq(Matrix([\n",
       "[   ..x],\n",
       "[   ..y],\n",
       "[lambda]]), Matrix([\n",
       "[-sqrt(6)/3],\n",
       "[-sqrt(3)/3],\n",
       "[-sqrt(3)/3]]))"
      ]
     },
     "execution_count": 64,
     "metadata": {},
     "output_type": "execute_result"
    },
    {
     "data": {
      "text/latex": [
       "$\\displaystyle \\left[\\begin{matrix}\\mathbf{{x}_{.}}\\\\\\mathbf{{y}_{.}}\\\\\\lambda\\end{matrix}\\right] = \\left[\\begin{matrix}- \\frac{\\sqrt{6}}{3}\\\\\\frac{\\sqrt{3}}{3}\\\\\\frac{\\sqrt{3}}{3}\\end{matrix}\\right]$"
      ],
      "text/plain": [
       "Eq(Matrix([\n",
       "[   ..x],\n",
       "[   ..y],\n",
       "[lambda]]), Matrix([\n",
       "[-sqrt(6)/3],\n",
       "[ sqrt(3)/3],\n",
       "[ sqrt(3)/3]]))"
      ]
     },
     "execution_count": 64,
     "metadata": {},
     "output_type": "execute_result"
    },
    {
     "data": {
      "text/latex": [
       "$\\displaystyle \\left[\\begin{matrix}\\mathbf{{x}_{.}}\\\\\\mathbf{{y}_{.}}\\\\\\lambda\\end{matrix}\\right] = \\left[\\begin{matrix}\\frac{\\sqrt{6}}{3}\\\\- \\frac{\\sqrt{3}}{3}\\\\- \\frac{\\sqrt{3}}{3}\\end{matrix}\\right]$"
      ],
      "text/plain": [
       "Eq(Matrix([\n",
       "[   ..x],\n",
       "[   ..y],\n",
       "[lambda]]), Matrix([\n",
       "[ sqrt(6)/3],\n",
       "[-sqrt(3)/3],\n",
       "[-sqrt(3)/3]]))"
      ]
     },
     "execution_count": 64,
     "metadata": {},
     "output_type": "execute_result"
    },
    {
     "data": {
      "text/latex": [
       "$\\displaystyle \\left[\\begin{matrix}\\mathbf{{x}_{.}}\\\\\\mathbf{{y}_{.}}\\\\\\lambda\\end{matrix}\\right] = \\left[\\begin{matrix}\\frac{\\sqrt{6}}{3}\\\\\\frac{\\sqrt{3}}{3}\\\\\\frac{\\sqrt{3}}{3}\\end{matrix}\\right]$"
      ],
      "text/plain": [
       "Eq(Matrix([\n",
       "[   ..x],\n",
       "[   ..y],\n",
       "[lambda]]), Matrix([\n",
       "[sqrt(6)/3],\n",
       "[sqrt(3)/3],\n",
       "[sqrt(3)/3]]))"
      ]
     },
     "execution_count": 64,
     "metadata": {},
     "output_type": "execute_result"
    },
    {
     "name": "stdout",
     "output_type": "stream",
     "text": [
      "============================== \n",
      "\n"
     ]
    },
    {
     "data": {
      "text/latex": [
       "$\\displaystyle \\left( - \\frac{\\sqrt{6}}{3}, \\  \\frac{\\sqrt{3}}{3}, \\  \\frac{2 \\sqrt{3}}{9}\\right)$"
      ],
      "text/plain": [
       "(-sqrt(6)/3, sqrt(3)/3, 2*sqrt(3)/9)"
      ]
     },
     "execution_count": 64,
     "metadata": {},
     "output_type": "execute_result"
    }
   ],
   "source": [
    "C = CoordSys3D('.')\n",
    "f = C.x**2 * C.y\n",
    "g = C.x**2 + C.y**2\n",
    "c_eq = sp.Eq(g, 1)\n",
    "\n",
    "grad_f = gradient(f).to_matrix(C)\n",
    "grad_f\n",
    "\n",
    "grad_g = gradient(g).to_matrix(C)\n",
    "grad_g\n",
    "\n",
    "eq_ls = []\n",
    "for lh_exp, rh_exp in zip(grad_f, sp.symbols('lambda') * grad_g):\n",
    "    eq = sp.Eq(lh_exp, rh_exp)\n",
    "    if isinstance(eq, sp.core.relational.Equality):\n",
    "        eq_ls.append(eq)\n",
    "\n",
    "eq_ls.append(c_eq)\n",
    "\n",
    "\n",
    "#print solve in Matrix\n",
    "sol = sp.solve(eq_ls)\n",
    "\n",
    "print('solution sets:')\n",
    "for s in sol:\n",
    "    lh_mx_val = []\n",
    "    rh_mx_val = []\n",
    "    for k, v in s.items():\n",
    "        lh_mx_val.append(k)\n",
    "        rh_mx_val.append(v.simplify())\n",
    "    \n",
    "    sp.Eq(sp.Matrix(lh_mx_val), sp.Matrix(rh_mx_val))\n",
    "print('='*30, '\\n')\n",
    "\n",
    "\n",
    "max_val = f.subs({C.x:sol[0][C.x], C.y:sol[0][C.y]})\n",
    "max_val_tuple = sp.Tuple(sol[0][C.x], sol[0][C.y], max_val)\n",
    "for s in sol[1:]:\n",
    "    curr_val = f.subs({C.x:s[C.x], C.y:s[C.y]})\n",
    "    if curr_val > max_val:\n",
    "        max_val = curr_val\n",
    "        max_val_tuple = sp.Tuple(s[C.x], s[C.y], max_val)\n",
    "\n",
    "max_val_tuple\n"
   ]
  },
  {
   "cell_type": "code",
   "execution_count": 70,
   "id": "5ff55ef9-b15a-4860-858d-45b7d55b3108",
   "metadata": {},
   "outputs": [
    {
     "name": "stdout",
     "output_type": "stream",
     "text": [
      "f:\n"
     ]
    },
    {
     "data": {
      "text/latex": [
       "$\\displaystyle 100 \\mathbf{{x}_{.}}^{\\frac{2}{3}} \\sqrt[3]{\\mathbf{{y}_{.}}}$"
      ],
      "text/plain": [
       "100*..x**(2/3)*..y**(1/3)"
      ]
     },
     "execution_count": 70,
     "metadata": {},
     "output_type": "execute_result"
    },
    {
     "name": "stdout",
     "output_type": "stream",
     "text": [
      "g:\n"
     ]
    },
    {
     "data": {
      "text/latex": [
       "$\\displaystyle 20 \\mathbf{{x}_{.}} + 2000 \\mathbf{{y}_{.}}$"
      ],
      "text/plain": [
       "20*..x + 2000*..y"
      ]
     },
     "execution_count": 70,
     "metadata": {},
     "output_type": "execute_result"
    },
    {
     "name": "stdout",
     "output_type": "stream",
     "text": [
      "\n",
      "grad_f:\n"
     ]
    },
    {
     "data": {
      "text/latex": [
       "$\\displaystyle \\left[\\begin{matrix}\\frac{200 \\sqrt[3]{\\mathbf{{y}_{.}}}}{3 \\sqrt[3]{\\mathbf{{x}_{.}}}}\\\\\\frac{100 \\mathbf{{x}_{.}}^{\\frac{2}{3}}}{3 \\mathbf{{y}_{.}}^{\\frac{2}{3}}}\\\\0\\end{matrix}\\right]$"
      ],
      "text/plain": [
       "Matrix([\n",
       "[200*..y**(1/3)/(3*..x**(1/3))],\n",
       "[100*..x**(2/3)/(3*..y**(2/3))],\n",
       "[                            0]])"
      ]
     },
     "execution_count": 70,
     "metadata": {},
     "output_type": "execute_result"
    },
    {
     "name": "stdout",
     "output_type": "stream",
     "text": [
      "grad_g:\n"
     ]
    },
    {
     "data": {
      "text/latex": [
       "$\\displaystyle \\left[\\begin{matrix}20\\\\2000\\\\0\\end{matrix}\\right]$"
      ],
      "text/plain": [
       "Matrix([\n",
       "[  20],\n",
       "[2000],\n",
       "[   0]])"
      ]
     },
     "execution_count": 70,
     "metadata": {},
     "output_type": "execute_result"
    },
    {
     "name": "stdout",
     "output_type": "stream",
     "text": [
      "\n",
      "solution sets:\n"
     ]
    },
    {
     "data": {
      "text/latex": [
       "$\\displaystyle \\left[\\begin{matrix}\\mathbf{{x}_{.}}\\\\\\lambda\\\\\\mathbf{{y}_{.}}\\end{matrix}\\right] = \\left[\\begin{matrix}\\frac{2000}{3}\\\\\\frac{\\sqrt[3]{5}}{3}\\\\\\frac{10}{3}\\end{matrix}\\right]$"
      ],
      "text/plain": [
       "Eq(Matrix([\n",
       "[   ..x],\n",
       "[lambda],\n",
       "[   ..y]]), Matrix([\n",
       "[    2000/3],\n",
       "[5**(1/3)/3],\n",
       "[      10/3]]))"
      ]
     },
     "execution_count": 70,
     "metadata": {},
     "output_type": "execute_result"
    },
    {
     "name": "stdout",
     "output_type": "stream",
     "text": [
      "============================== \n",
      "\n"
     ]
    },
    {
     "data": {
      "text/latex": [
       "$\\displaystyle \\left( \\frac{2000}{3}, \\  \\frac{10}{3}, \\  \\frac{20000 \\cdot \\sqrt[3]{5}}{3}\\right)$"
      ],
      "text/plain": [
       "(2000/3, 10/3, 20000*5**(1/3)/3)"
      ]
     },
     "execution_count": 70,
     "metadata": {},
     "output_type": "execute_result"
    }
   ],
   "source": [
    "C = CoordSys3D('.')\n",
    "f = 100 * C.x ** (sp.Number(2)/3) * C.y ** (sp.Number(1)/3)\n",
    "print('f:')\n",
    "f\n",
    "\n",
    "g = 20 * C.x + 2000 * C.y\n",
    "print('g:')\n",
    "g\n",
    "\n",
    "c_eq = sp.Eq(g, 20000)\n",
    "print()\n",
    "\n",
    "grad_f = gradient(f).to_matrix(C)\n",
    "print('grad_f:')\n",
    "grad_f\n",
    "\n",
    "grad_g = gradient(g).to_matrix(C)\n",
    "print('grad_g:')\n",
    "grad_g\n",
    "print()\n",
    "\n",
    "eq_ls = []\n",
    "for lh_exp, rh_exp in zip(grad_f, sp.symbols('lambda') * grad_g):\n",
    "    eq = sp.Eq(lh_exp, rh_exp)\n",
    "    if isinstance(eq, sp.core.relational.Equality):\n",
    "        eq_ls.append(eq)\n",
    "\n",
    "eq_ls.append(c_eq)\n",
    "\n",
    "\n",
    "#print solve in Matrix\n",
    "sol = sp.solve(eq_ls)\n",
    "\n",
    "print('solution sets:')\n",
    "for s in sol:\n",
    "    lh_mx_val = []\n",
    "    rh_mx_val = []\n",
    "    for k, v in s.items():\n",
    "        lh_mx_val.append(k)\n",
    "        rh_mx_val.append(v.simplify())\n",
    "    \n",
    "    sp.Eq(sp.Matrix(lh_mx_val), sp.Matrix(rh_mx_val))\n",
    "print('='*30, '\\n')\n",
    "\n",
    "\n",
    "\n",
    "max_val = f.subs({C.x:sol[0][C.x], C.y:sol[0][C.y]})\n",
    "max_val_tuple = sp.Tuple(sol[0][C.x], sol[0][C.y], max_val)\n",
    "for s in sol[1:]:\n",
    "    curr_val = f.subs({C.x:s[C.x], C.y:s[C.y]})\n",
    "    if curr_val > max_val:\n",
    "        max_val = curr_val\n",
    "        max_val_tuple = sp.Tuple(s[C.x], s[C.y], max_val)\n",
    "\n",
    "max_val_tuple\n",
    "\n",
    "    \n"
   ]
  },
  {
   "cell_type": "code",
   "execution_count": null,
   "id": "149fd6d1-0a73-476b-ad3d-63a4c88fd49e",
   "metadata": {},
   "outputs": [],
   "source": []
  },
  {
   "cell_type": "code",
   "execution_count": null,
   "id": "4a69b0ba-5e99-4715-a5a0-fac9e278c875",
   "metadata": {},
   "outputs": [],
   "source": []
  },
  {
   "cell_type": "code",
   "execution_count": null,
   "id": "29cb306f-b267-4dbf-b2b4-0d8b9e4c339c",
   "metadata": {},
   "outputs": [],
   "source": []
  },
  {
   "cell_type": "code",
   "execution_count": null,
   "id": "53e6fb8e-21a8-42e8-be85-780065dd7689",
   "metadata": {},
   "outputs": [],
   "source": []
  }
 ],
 "metadata": {
  "kernelspec": {
   "display_name": "Math",
   "language": "python",
   "name": "math"
  },
  "language_info": {
   "codemirror_mode": {
    "name": "ipython",
    "version": 3
   },
   "file_extension": ".py",
   "mimetype": "text/x-python",
   "name": "python",
   "nbconvert_exporter": "python",
   "pygments_lexer": "ipython3",
   "version": "3.8.13"
  }
 },
 "nbformat": 4,
 "nbformat_minor": 5
}
