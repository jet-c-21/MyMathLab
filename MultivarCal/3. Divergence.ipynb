{
 "cells": [
  {
   "cell_type": "code",
   "execution_count": 1,
   "id": "74245489-5f0a-4db1-87ac-a4c1c4282425",
   "metadata": {},
   "outputs": [
    {
     "name": "stdout",
     "output_type": "stream",
     "text": [
      "Added D:\\Dev\\Code\\MyMathLab to PATH\n"
     ]
    }
   ],
   "source": [
    "from IPython.core.interactiveshell import InteractiveShell\n",
    "InteractiveShell.ast_node_interactivity = 'all'\n",
    "\n",
    "# import self-made module\n",
    "import os, sys, pathlib\n",
    "file_path = os.path.abspath('')\n",
    "PROJECT_DIR = str(pathlib.Path(file_path).parent)\n",
    "sys.path.append(PROJECT_DIR)\n",
    "print(f\"Added {PROJECT_DIR} to PATH\")\n",
    "from athena import *\n",
    "\n",
    "# ult functions\n",
    "def reset_symbols():\n",
    "    global x, y, z, a, b, c, d, s, k, t, theta\n",
    "    x, y, z = sp.symbols('x y z', real=True)\n",
    "    a, b, c, d, s, k, t = sp.symbols('a b c d s k t', real=True)\n",
    "    theta = sp.Symbol('theta')"
   ]
  },
  {
   "cell_type": "code",
   "execution_count": 5,
   "id": "07d6d34d-c1c9-4ea3-b84c-243ae92ebf5a",
   "metadata": {},
   "outputs": [
    {
     "data": {
      "text/latex": [
       "$\\displaystyle 2 x + 2 y$"
      ],
      "text/plain": [
       "2*x + 2*y"
      ]
     },
     "execution_count": 5,
     "metadata": {},
     "output_type": "execute_result"
    },
    {
     "data": {
      "text/latex": [
       "$\\displaystyle -2$"
      ],
      "text/plain": [
       "-2"
      ]
     },
     "execution_count": 5,
     "metadata": {},
     "output_type": "execute_result"
    }
   ],
   "source": [
    "p_comp = x**2\n",
    "q_comp = y**2\n",
    "\n",
    "p_comp_dx = p_comp.diff(x)\n",
    "q_comp_dy = q_comp.diff(y)\n",
    "\n",
    "divergence = p_comp_dx + q_comp_dy\n",
    "divergence\n",
    "divergence.subs({x: -2, y: 1})"
   ]
  },
  {
   "cell_type": "code",
   "execution_count": 6,
   "id": "8b2118ba-0646-4788-b578-3c27e3952ec8",
   "metadata": {},
   "outputs": [
    {
     "data": {
      "text/latex": [
       "$\\displaystyle e^{y} + 1$"
      ],
      "text/plain": [
       "exp(y) + 1"
      ]
     },
     "execution_count": 6,
     "metadata": {},
     "output_type": "execute_result"
    }
   ],
   "source": [
    "p_comp = x * (sp.E ** y)\n",
    "q_comp = sp.cos(x*z)\n",
    "r_comp = x + z\n",
    "\n",
    "p_comp_dx = p_comp.diff(x)\n",
    "q_comp_dy = q_comp.diff(y)\n",
    "r_comp_dz = r_comp.diff(z)\n",
    "\n",
    "divergence = p_comp_dx + q_comp_dy + r_comp_dz\n",
    "divergence"
   ]
  },
  {
   "cell_type": "code",
   "execution_count": 7,
   "id": "cb851992-9768-4f58-a96f-69f74ba93528",
   "metadata": {},
   "outputs": [
    {
     "data": {
      "text/latex": [
       "$\\displaystyle 3 - 2 z$"
      ],
      "text/plain": [
       "3 - 2*z"
      ]
     },
     "execution_count": 7,
     "metadata": {},
     "output_type": "execute_result"
    },
    {
     "data": {
      "text/latex": [
       "$\\displaystyle -3$"
      ],
      "text/plain": [
       "-3"
      ]
     },
     "execution_count": 7,
     "metadata": {},
     "output_type": "execute_result"
    }
   ],
   "source": [
    "p_comp = x\n",
    "q_comp = 2*y\n",
    "r_comp = -z**2\n",
    "\n",
    "p_comp_dx = p_comp.diff(x)\n",
    "q_comp_dy = q_comp.diff(y)\n",
    "r_comp_dz = r_comp.diff(z)\n",
    "\n",
    "divergence = p_comp_dx + q_comp_dy + r_comp_dz\n",
    "divergence\n",
    "divergence.subs({x: 0, y: 2, z: 3})"
   ]
  },
  {
   "cell_type": "code",
   "execution_count": 8,
   "id": "4ab1b7a3-cc49-4956-ad45-e88ca669e994",
   "metadata": {},
   "outputs": [
    {
     "data": {
      "text/latex": [
       "$\\displaystyle 2 y + 1$"
      ],
      "text/plain": [
       "2*y + 1"
      ]
     },
     "execution_count": 8,
     "metadata": {},
     "output_type": "execute_result"
    }
   ],
   "source": [
    "p_comp = x\n",
    "q_comp = y**2\n",
    "\n",
    "p_comp_dx = p_comp.diff(x)\n",
    "q_comp_dy = q_comp.diff(y)\n",
    "\n",
    "divergence = p_comp_dx + q_comp_dy\n",
    "divergence"
   ]
  },
  {
   "cell_type": "code",
   "execution_count": null,
   "id": "eaecc31a-3aeb-4caa-ac2e-a28ede3ed9a3",
   "metadata": {},
   "outputs": [],
   "source": []
  }
 ],
 "metadata": {
  "kernelspec": {
   "display_name": "Math",
   "language": "python",
   "name": "math"
  },
  "language_info": {
   "codemirror_mode": {
    "name": "ipython",
    "version": 3
   },
   "file_extension": ".py",
   "mimetype": "text/x-python",
   "name": "python",
   "nbconvert_exporter": "python",
   "pygments_lexer": "ipython3",
   "version": "3.8.13"
  }
 },
 "nbformat": 4,
 "nbformat_minor": 5
}
