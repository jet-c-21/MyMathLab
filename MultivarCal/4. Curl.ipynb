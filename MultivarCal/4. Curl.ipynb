{
 "cells": [
  {
   "cell_type": "code",
   "execution_count": 1,
   "id": "bbc41f99-9f40-4729-9aec-aaa7f464f60d",
   "metadata": {},
   "outputs": [
    {
     "name": "stdout",
     "output_type": "stream",
     "text": [
      "Added D:\\Dev\\Code\\MyMathLab to PATH\n"
     ]
    }
   ],
   "source": [
    "from IPython.core.interactiveshell import InteractiveShell\n",
    "InteractiveShell.ast_node_interactivity = 'all'\n",
    "\n",
    "# import self-made module\n",
    "import os, sys, pathlib\n",
    "file_path = os.path.abspath('')\n",
    "PROJECT_DIR = str(pathlib.Path(file_path).parent)\n",
    "sys.path.append(PROJECT_DIR)\n",
    "print(f\"Added {PROJECT_DIR} to PATH\")\n",
    "from athena import *\n",
    "\n",
    "# ult functions\n",
    "def reset_symbols():\n",
    "    global x, y, z, a, b, c, d, s, k, t, theta\n",
    "    x, y, z = sp.symbols('x y z', real=True)\n",
    "    a, b, c, d, s, k, t = sp.symbols('a b c d s k t', real=True)\n",
    "    theta = sp.Symbol('theta')"
   ]
  },
  {
   "cell_type": "code",
   "execution_count": 2,
   "id": "6ba061c7-d114-482c-9ce4-8de786f9de76",
   "metadata": {},
   "outputs": [
    {
     "data": {
      "text/latex": [
       "$\\displaystyle \\frac{y}{x + y}$"
      ],
      "text/plain": [
       "y/(x + y)"
      ]
     },
     "execution_count": 2,
     "metadata": {},
     "output_type": "execute_result"
    },
    {
     "data": {
      "text/latex": [
       "$\\displaystyle \\frac{2}{3}$"
      ],
      "text/plain": [
       "2/3"
      ]
     },
     "execution_count": 2,
     "metadata": {},
     "output_type": "execute_result"
    }
   ],
   "source": [
    "p_comp = 5+x\n",
    "q_comp = y*sp.ln(x+y)\n",
    "curl = q_comp.diff(x) - p_comp.diff(y)\n",
    "curl\n",
    "curl.subs({x:4, y:8})"
   ]
  },
  {
   "cell_type": "code",
   "execution_count": 3,
   "id": "dd460bb2-00fe-4427-948c-beceefbefe9e",
   "metadata": {},
   "outputs": [
    {
     "data": {
      "text/latex": [
       "$\\displaystyle - x \\cos{\\left(y \\right)}$"
      ],
      "text/plain": [
       "-x*cos(y)"
      ]
     },
     "execution_count": 3,
     "metadata": {},
     "output_type": "execute_result"
    }
   ],
   "source": [
    "p_comp = x*sp.sin(y)\n",
    "q_comp = (y**2) * (sp.E ** y)\n",
    "curl = q_comp.diff(x) - p_comp.diff(y)\n",
    "curl"
   ]
  },
  {
   "cell_type": "code",
   "execution_count": 4,
   "id": "9a4f8c71-3772-4854-82d2-3fcc2a9eabef",
   "metadata": {},
   "outputs": [
    {
     "data": {
      "text/latex": [
       "$\\displaystyle 4 x y^{4} - x^{1.5}$"
      ],
      "text/plain": [
       "4*x*y**4 - x**1.5"
      ]
     },
     "execution_count": 4,
     "metadata": {},
     "output_type": "execute_result"
    },
    {
     "data": {
      "text/latex": [
       "$\\displaystyle 8.0$"
      ],
      "text/plain": [
       "8.00000000000000"
      ]
     },
     "execution_count": 4,
     "metadata": {},
     "output_type": "execute_result"
    }
   ],
   "source": [
    "p_comp = (x**1.5) * y\n",
    "q_comp = 2*(x**2)*(y**4)\n",
    "curl = q_comp.diff(x) - p_comp.diff(y)\n",
    "curl\n",
    "curl.subs({x:4, y:1})"
   ]
  },
  {
   "cell_type": "code",
   "execution_count": 5,
   "id": "beb86943-0a68-4191-841f-a6d3ef13b97d",
   "metadata": {},
   "outputs": [
    {
     "data": {
      "text/latex": [
       "$\\displaystyle y - 5$"
      ],
      "text/plain": [
       "y - 5"
      ]
     },
     "execution_count": 5,
     "metadata": {},
     "output_type": "execute_result"
    }
   ],
   "source": [
    "p_comp = 5*y+9*x\n",
    "q_comp = y*x + 1\n",
    "curl = q_comp.diff(x) - p_comp.diff(y)\n",
    "curl"
   ]
  },
  {
   "cell_type": "code",
   "execution_count": 8,
   "id": "4e6d1545-5d21-41eb-b9ce-b277e128a09b",
   "metadata": {},
   "outputs": [
    {
     "data": {
      "text/latex": [
       "$\\displaystyle y \\cos{\\left(x y \\right)} + \\sin{\\left(x + y \\right)}$"
      ],
      "text/plain": [
       "y*cos(x*y) + sin(x + y)"
      ]
     },
     "execution_count": 8,
     "metadata": {},
     "output_type": "execute_result"
    },
    {
     "data": {
      "text/latex": [
       "$\\displaystyle 1 + \\frac{\\pi}{2}$"
      ],
      "text/plain": [
       "1 + pi/2"
      ]
     },
     "execution_count": 8,
     "metadata": {},
     "output_type": "execute_result"
    }
   ],
   "source": [
    "p_comp = sp.cos(x+y)\n",
    "q_comp = sp.sin(x*y)\n",
    "curl = q_comp.diff(x) - p_comp.diff(y)\n",
    "curl\n",
    "curl.subs({x:0, y:sp.pi/2})"
   ]
  },
  {
   "cell_type": "code",
   "execution_count": null,
   "id": "9da10d80-2ca5-45f4-be1d-70f2a6df5801",
   "metadata": {},
   "outputs": [],
   "source": []
  },
  {
   "cell_type": "markdown",
   "id": "f50ec833-383e-4d50-8681-869bf1492321",
   "metadata": {},
   "source": [
    "# curl in 3D"
   ]
  },
  {
   "cell_type": "code",
   "execution_count": 5,
   "id": "b214331b-cc77-41b4-a5fe-f96b4c15643d",
   "metadata": {},
   "outputs": [],
   "source": [
    "from sympy.vector import CoordSys3D, curl"
   ]
  },
  {
   "cell_type": "code",
   "execution_count": 6,
   "id": "ed386911-e15f-4922-a50a-10fe75de261c",
   "metadata": {},
   "outputs": [
    {
     "data": {
      "text/latex": [
       "$\\displaystyle \\left(2 \\mathbf{{x}_{R}} - 2 \\mathbf{{y}_{R}}\\right)\\mathbf{\\hat{k}_{R}}$"
      ],
      "text/plain": [
       "(2*R.x - 2*R.y)*R.k"
      ]
     },
     "execution_count": 6,
     "metadata": {},
     "output_type": "execute_result"
    }
   ],
   "source": [
    "R = CoordSys3D('R')\n",
    "v1 = ((R.y**2) * R.i) + ( (R.x**2 - R.y) * R.j) + (0 * R.k)\n",
    "curl(v1, R)"
   ]
  },
  {
   "cell_type": "code",
   "execution_count": 9,
   "id": "daed0d8d-39e5-44a1-9450-d511d0edfe0c",
   "metadata": {},
   "outputs": [],
   "source": [
    "from sympy.vector import CoordSys3D, Del"
   ]
  },
  {
   "cell_type": "code",
   "execution_count": 10,
   "id": "81be6e22-6917-4384-bd94-1c5c825aa105",
   "metadata": {},
   "outputs": [
    {
     "ename": "NameError",
     "evalue": "name 'sympy' is not defined",
     "output_type": "error",
     "traceback": [
      "\u001b[1;31m---------------------------------------------------------------------------\u001b[0m",
      "\u001b[1;31mNameError\u001b[0m                                 Traceback (most recent call last)",
      "Cell \u001b[1;32mIn [10], line 1\u001b[0m\n\u001b[1;32m----> 1\u001b[0m sympy\u001b[38;5;241m.\u001b[39mvector\n",
      "\u001b[1;31mNameError\u001b[0m: name 'sympy' is not defined"
     ]
    }
   ],
   "source": []
  },
  {
   "cell_type": "code",
   "execution_count": 45,
   "id": "4ac6aed4-7951-4f72-a724-808f7cc7a9b2",
   "metadata": {},
   "outputs": [
    {
     "data": {
      "text/latex": [
       "$\\displaystyle \\left(2 \\mathbf{{x}_{R}} - 2 \\mathbf{{y}_{R}}\\right)\\mathbf{\\hat{k}_{R}}$"
      ],
      "text/plain": [
       "(2*R.x - 2*R.y)*R.k"
      ]
     },
     "execution_count": 45,
     "metadata": {},
     "output_type": "execute_result"
    }
   ],
   "source": [
    "R = sp.vector.CoordSys3D('R')\n",
    "v1 = ((R.y**2) * R.i) + ( (R.x**2 - R.y) * R.j) + (0 * R.k)\n",
    "sp.vector.curl(v1, R)"
   ]
  },
  {
   "cell_type": "code",
   "execution_count": 48,
   "id": "0ee407f7-43c4-4e31-b0d0-68e888d07d4f",
   "metadata": {},
   "outputs": [
    {
     "data": {
      "text/latex": [
       "$\\displaystyle \\left(\\cos{\\left(\\mathbf{{z}_{R}} \\right)}\\right)\\mathbf{\\hat{i}_{R}} + \\left(\\sin{\\left(\\mathbf{{x}_{R}} + \\mathbf{{y}_{R}} \\right)}\\right)\\mathbf{\\hat{j}_{R}} + \\left(\\mathbf{{x}_{R}}\\right)\\mathbf{\\hat{k}_{R}}$"
      ],
      "text/plain": [
       "(cos(R.z))*R.i + (sin(R.x + R.y))*R.j + R.x*R.k"
      ]
     },
     "execution_count": 48,
     "metadata": {},
     "output_type": "execute_result"
    },
    {
     "data": {
      "text/latex": [
       "$\\displaystyle \\left(- \\sin{\\left(\\mathbf{{z}_{R}} \\right)} - 1\\right)\\mathbf{\\hat{j}_{R}} + \\left(\\cos{\\left(\\mathbf{{x}_{R}} + \\mathbf{{y}_{R}} \\right)}\\right)\\mathbf{\\hat{k}_{R}}$"
      ],
      "text/plain": [
       "(-sin(R.z) - 1)*R.j + (cos(R.x + R.y))*R.k"
      ]
     },
     "execution_count": 48,
     "metadata": {},
     "output_type": "execute_result"
    }
   ],
   "source": [
    "R = sp.vector.CoordSys3D('R')\n",
    "\n",
    "p_comp = sp.cos(R.z)\n",
    "q_comp = sp.sin(R.x + R.y)\n",
    "r_comp = R.x\n",
    "\n",
    "f = ((p_comp) * R.i) + ((q_comp) * R.j) + ((r_comp) * R.k)\n",
    "f\n",
    "\n",
    "sp.vector.curl(f, R)"
   ]
  },
  {
   "cell_type": "code",
   "execution_count": 51,
   "id": "f9990404-122b-4200-af63-ffd472d35470",
   "metadata": {},
   "outputs": [
    {
     "data": {
      "text/latex": [
       "$\\displaystyle \\left(\\mathbf{{x}_{R}} + \\mathbf{{y}_{R}} - \\mathbf{{z}_{R}}\\right)\\mathbf{\\hat{i}_{R}} + \\left(- 4 \\mathbf{{x}_{R}}\\right)\\mathbf{\\hat{j}_{R}} + \\left(2 \\mathbf{{y}_{R}} + z\\right)\\mathbf{\\hat{k}_{R}}$"
      ],
      "text/plain": [
       "(R.x + R.y - R.z)*R.i + (-4*R.x)*R.j + (2*R.y + z)*R.k"
      ]
     },
     "execution_count": 51,
     "metadata": {},
     "output_type": "execute_result"
    },
    {
     "data": {
      "text/latex": [
       "$\\displaystyle \\left(2\\right)\\mathbf{\\hat{i}_{R}} - \\mathbf{\\hat{j}_{R}} + \\left(-5\\right)\\mathbf{\\hat{k}_{R}}$"
      ],
      "text/plain": [
       "2*R.i + (-1)*R.j + (-5)*R.k"
      ]
     },
     "execution_count": 51,
     "metadata": {},
     "output_type": "execute_result"
    }
   ],
   "source": [
    "R = sp.vector.CoordSys3D('R')\n",
    "\n",
    "p_comp = R.x + R.y - R.z\n",
    "q_comp = -4 * R.x\n",
    "r_comp = 2*R.y + R.z\n",
    "\n",
    "f = ((p_comp) * R.i) + ((q_comp) * R.j) + ((r_comp) * R.k)\n",
    "f\n",
    "\n",
    "sp.vector.curl(f, R)"
   ]
  },
  {
   "cell_type": "code",
   "execution_count": null,
   "id": "1554de14-dccf-4a45-bb45-083345108640",
   "metadata": {},
   "outputs": [],
   "source": []
  },
  {
   "cell_type": "code",
   "execution_count": 53,
   "id": "dc4f355c-880d-4abe-9670-767acd8cabeb",
   "metadata": {},
   "outputs": [
    {
     "data": {
      "text/latex": [
       "$\\displaystyle \\left(\\mathbf{{x}_{R}}^{4} - \\mathbf{{y}_{R}}^{2}\\right)\\mathbf{\\hat{i}_{R}} + \\left(3 \\mathbf{{x}_{R}}^{4} + \\mathbf{{z}_{R}}^{2}\\right)\\mathbf{\\hat{j}_{R}} + \\left(2 \\mathbf{{y}_{R}}^{2} + 2\\right)\\mathbf{\\hat{k}_{R}}$"
      ],
      "text/plain": [
       "(R.x**4 - R.y**2)*R.i + (3*R.x**4 + R.z**2)*R.j + (2*R.y**2 + 2)*R.k"
      ]
     },
     "execution_count": 53,
     "metadata": {},
     "output_type": "execute_result"
    },
    {
     "data": {
      "text/latex": [
       "$\\displaystyle \\left(4 \\mathbf{{y}_{R}} - 2 \\mathbf{{z}_{R}}\\right)\\mathbf{\\hat{i}_{R}} + \\left(12 \\mathbf{{x}_{R}}^{3} + 2 \\mathbf{{y}_{R}}\\right)\\mathbf{\\hat{k}_{R}}$"
      ],
      "text/plain": [
       "(4*R.y - 2*R.z)*R.i + (12*R.x**3 + 2*R.y)*R.k"
      ]
     },
     "execution_count": 53,
     "metadata": {},
     "output_type": "execute_result"
    }
   ],
   "source": [
    "R = sp.vector.CoordSys3D('R')\n",
    "\n",
    "p_comp = R.x ** 4 - R.y ** 2\n",
    "q_comp = R.z**2 + 3 * R.x ** 4\n",
    "r_comp = 2*R.y**2 + 2\n",
    "\n",
    "f = ((p_comp) * R.i) + ((q_comp) * R.j) + ((r_comp) * R.k)\n",
    "f\n",
    "\n",
    "sp.vector.curl(f, R)"
   ]
  },
  {
   "cell_type": "code",
   "execution_count": 54,
   "id": "daad364a-1b4e-45ec-8019-a5e8051270c4",
   "metadata": {},
   "outputs": [
    {
     "data": {
      "text/plain": [
       "<module 'sympy.vector' from 'D:\\\\Dev\\\\anaconda3\\\\envs\\\\math\\\\lib\\\\site-packages\\\\sympy\\\\vector\\\\__init__.py'>"
      ]
     },
     "execution_count": 54,
     "metadata": {},
     "output_type": "execute_result"
    }
   ],
   "source": [
    "sp.vector"
   ]
  },
  {
   "cell_type": "code",
   "execution_count": null,
   "id": "e4e023bb-30fc-48e4-b504-4f3ccad38ec7",
   "metadata": {},
   "outputs": [],
   "source": []
  }
 ],
 "metadata": {
  "kernelspec": {
   "display_name": "Math",
   "language": "python",
   "name": "math"
  },
  "language_info": {
   "codemirror_mode": {
    "name": "ipython",
    "version": 3
   },
   "file_extension": ".py",
   "mimetype": "text/x-python",
   "name": "python",
   "nbconvert_exporter": "python",
   "pygments_lexer": "ipython3",
   "version": "3.8.13"
  }
 },
 "nbformat": 4,
 "nbformat_minor": 5
}
