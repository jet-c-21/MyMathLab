{
 "cells": [
  {
   "cell_type": "code",
   "execution_count": 1,
   "id": "5a72806b-48ae-4791-9946-f4b36cfd6aaa",
   "metadata": {},
   "outputs": [
    {
     "name": "stdout",
     "output_type": "stream",
     "text": [
      "Added D:\\Dev\\MyMathLab to PATH\n"
     ]
    }
   ],
   "source": [
    "from IPython.core.interactiveshell import InteractiveShell\n",
    "InteractiveShell.ast_node_interactivity = 'all'\n",
    "\n",
    "# import self-made module\n",
    "import os, sys, pathlib\n",
    "file_path = os.path.abspath('')\n",
    "PROJECT_DIR = str(pathlib.Path(file_path).parent)\n",
    "sys.path.append(PROJECT_DIR)\n",
    "print(f\"Added {PROJECT_DIR} to PATH\")\n",
    "from athena import *\n",
    "\n",
    "# ult functions\n",
    "def reset_symbols():\n",
    "    global x, y, z, a, b, c, d, s, k, t, theta\n",
    "    x, y, z = sp.symbols('x y z', real=True)\n",
    "    a, b, c, d, s, k, t = sp.symbols('a b c d s k t', real=True)\n",
    "    theta = sp.Symbol('theta')"
   ]
  },
  {
   "cell_type": "code",
   "execution_count": 23,
   "id": "bdfc8dd5-b1a1-4bfc-80f1-9dafdecaa5ae",
   "metadata": {},
   "outputs": [],
   "source": [
    "def get_gradient(f):\n",
    "    free_val_ls = list(f.free_symbols)\n",
    "    pf_dx = f.diff(free_val_ls[0])\n",
    "    pf_dy = f.diff(free_val_ls[1])\n",
    "    \n",
    "    grad = sp.Matrix([pf_dx, pf_dy])\n",
    "    \n",
    "    return grad"
   ]
  },
  {
   "cell_type": "code",
   "execution_count": 28,
   "id": "50450ca4-f653-4826-99c9-8530d6990aa4",
   "metadata": {},
   "outputs": [],
   "source": [
    "def get_gradient_ref(f):\n",
    "    return sp.Matrix([f]).jacobian(sp.Matrix(list(f.free_symbols))).T"
   ]
  },
  {
   "cell_type": "code",
   "execution_count": 29,
   "id": "f6db9d11-9e5a-4fa2-b1f5-937a17b75325",
   "metadata": {},
   "outputs": [
    {
     "data": {
      "text/latex": [
       "$\\displaystyle \\left[\\begin{matrix}\\frac{1}{2 \\sqrt{x + y}}\\\\\\frac{1}{2 \\sqrt{x + y}}\\end{matrix}\\right]$"
      ],
      "text/plain": [
       "Matrix([\n",
       "[1/(2*sqrt(x + y))],\n",
       "[1/(2*sqrt(x + y))]])"
      ]
     },
     "execution_count": 29,
     "metadata": {},
     "output_type": "execute_result"
    }
   ],
   "source": [
    "get_gradient_ref(expr)"
   ]
  },
  {
   "cell_type": "code",
   "execution_count": null,
   "id": "9b8dbe43-0597-4fb4-bd35-d5efef0848ff",
   "metadata": {},
   "outputs": [],
   "source": []
  },
  {
   "cell_type": "code",
   "execution_count": 31,
   "id": "cecc3818-e1c5-4139-a343-02524e78b11a",
   "metadata": {},
   "outputs": [
    {
     "data": {
      "text/latex": [
       "$\\displaystyle \\sqrt{x + y}$"
      ],
      "text/plain": [
       "sqrt(x + y)"
      ]
     },
     "execution_count": 31,
     "metadata": {},
     "output_type": "execute_result"
    },
    {
     "data": {
      "text/latex": [
       "$\\displaystyle \\left[\\begin{matrix}\\frac{1}{2 \\sqrt{x + y}}\\\\\\frac{1}{2 \\sqrt{x + y}}\\end{matrix}\\right]$"
      ],
      "text/plain": [
       "Matrix([\n",
       "[1/(2*sqrt(x + y))],\n",
       "[1/(2*sqrt(x + y))]])"
      ]
     },
     "execution_count": 31,
     "metadata": {},
     "output_type": "execute_result"
    },
    {
     "data": {
      "text/latex": [
       "$\\displaystyle \\left[\\begin{matrix}\\frac{1}{6}\\\\\\frac{1}{6}\\end{matrix}\\right]$"
      ],
      "text/plain": [
       "Matrix([\n",
       "[1/6],\n",
       "[1/6]])"
      ]
     },
     "execution_count": 31,
     "metadata": {},
     "output_type": "execute_result"
    }
   ],
   "source": [
    "x_val = 3\n",
    "y_val = 6\n",
    "expr = sp.sqrt(x+y)\n",
    "expr\n",
    "\n",
    "expr_grad = get_gradient_ref(expr)\n",
    "expr_grad\n",
    "expr_grad.subs({x:x_val, y: y_val})"
   ]
  },
  {
   "cell_type": "code",
   "execution_count": 42,
   "id": "1209129c-8d9d-410c-8d89-fb1525d41452",
   "metadata": {},
   "outputs": [
    {
     "data": {
      "text/latex": [
       "$\\displaystyle \\tan{\\left(x y z \\right)}$"
      ],
      "text/plain": [
       "tan(x*y*z)"
      ]
     },
     "execution_count": 42,
     "metadata": {},
     "output_type": "execute_result"
    },
    {
     "data": {
      "text/latex": [
       "$\\displaystyle \\left[\\begin{matrix}y z \\left(\\tan^{2}{\\left(x y z \\right)} + 1\\right)\\\\x z \\left(\\tan^{2}{\\left(x y z \\right)} + 1\\right)\\\\x y \\left(\\tan^{2}{\\left(x y z \\right)} + 1\\right)\\end{matrix}\\right]$"
      ],
      "text/plain": [
       "Matrix([\n",
       "[y*z*(tan(x*y*z)**2 + 1)],\n",
       "[x*z*(tan(x*y*z)**2 + 1)],\n",
       "[x*y*(tan(x*y*z)**2 + 1)]])"
      ]
     },
     "execution_count": 42,
     "metadata": {},
     "output_type": "execute_result"
    }
   ],
   "source": [
    "expr = sp.tan(x*y*z)\n",
    "expr\n",
    "\n",
    "expr_grad = get_gradient_ref(expr)\n",
    "expr_grad"
   ]
  },
  {
   "cell_type": "code",
   "execution_count": 43,
   "id": "7caf5a97-01d6-4530-a4c3-657033bb88ab",
   "metadata": {},
   "outputs": [
    {
     "data": {
      "text/latex": [
       "$\\displaystyle \\frac{1}{\\cos^{2}{\\left(x y z \\right)}}$"
      ],
      "text/plain": [
       "cos(x*y*z)**(-2)"
      ]
     },
     "execution_count": 43,
     "metadata": {},
     "output_type": "execute_result"
    }
   ],
   "source": [
    "expr = sp.tan(x*y*z)**2 + 1\n",
    "expr.simplify()"
   ]
  },
  {
   "cell_type": "code",
   "execution_count": 45,
   "id": "60a22a7e-c257-48b0-abff-8426732e1c0d",
   "metadata": {},
   "outputs": [
    {
     "data": {
      "text/latex": [
       "$\\displaystyle x y + \\sin{\\left(z \\right)}$"
      ],
      "text/plain": [
       "x*y + sin(z)"
      ]
     },
     "execution_count": 45,
     "metadata": {},
     "output_type": "execute_result"
    },
    {
     "data": {
      "text/latex": [
       "$\\displaystyle \\left[\\begin{matrix}y\\\\x\\\\\\cos{\\left(z \\right)}\\end{matrix}\\right]$"
      ],
      "text/plain": [
       "Matrix([\n",
       "[     y],\n",
       "[     x],\n",
       "[cos(z)]])"
      ]
     },
     "execution_count": 45,
     "metadata": {},
     "output_type": "execute_result"
    },
    {
     "data": {
      "text/latex": [
       "$\\displaystyle \\left[\\begin{matrix}2\\\\1\\\\-1\\end{matrix}\\right]$"
      ],
      "text/plain": [
       "Matrix([\n",
       "[ 2],\n",
       "[ 1],\n",
       "[-1]])"
      ]
     },
     "execution_count": 45,
     "metadata": {},
     "output_type": "execute_result"
    }
   ],
   "source": [
    "x_val = 1\n",
    "y_val = 2\n",
    "z_val = sp.pi\n",
    "expr = y*x + sp.sin(z)\n",
    "expr\n",
    "\n",
    "expr_grad = get_gradient_ref(expr)\n",
    "expr_grad\n",
    "expr_grad.subs({x:x_val, y: y_val, z:z_val})"
   ]
  },
  {
   "cell_type": "code",
   "execution_count": 46,
   "id": "21ed9f7b-326f-40d9-9875-f4e8ef376913",
   "metadata": {},
   "outputs": [
    {
     "data": {
      "text/latex": [
       "$\\displaystyle x^{2} + y^{2}$"
      ],
      "text/plain": [
       "x**2 + y**2"
      ]
     },
     "execution_count": 46,
     "metadata": {},
     "output_type": "execute_result"
    },
    {
     "data": {
      "text/latex": [
       "$\\displaystyle \\left[\\begin{matrix}2 x\\\\2 y\\end{matrix}\\right]$"
      ],
      "text/plain": [
       "Matrix([\n",
       "[2*x],\n",
       "[2*y]])"
      ]
     },
     "execution_count": 46,
     "metadata": {},
     "output_type": "execute_result"
    }
   ],
   "source": [
    "expr = x**2 + y ** 2\n",
    "expr\n",
    "\n",
    "expr_grad = get_gradient_ref(expr)\n",
    "expr_grad"
   ]
  },
  {
   "cell_type": "code",
   "execution_count": 51,
   "id": "785225ca-4d4a-4e44-93dd-a75e3a54d02f",
   "metadata": {},
   "outputs": [
    {
     "data": {
      "text/latex": [
       "$\\displaystyle x + y + z$"
      ],
      "text/plain": [
       "x + y + z"
      ]
     },
     "execution_count": 51,
     "metadata": {},
     "output_type": "execute_result"
    },
    {
     "data": {
      "text/latex": [
       "$\\displaystyle \\left[\\begin{matrix}1\\\\1\\\\1\\end{matrix}\\right]$"
      ],
      "text/plain": [
       "Matrix([\n",
       "[1],\n",
       "[1],\n",
       "[1]])"
      ]
     },
     "execution_count": 51,
     "metadata": {},
     "output_type": "execute_result"
    },
    {
     "data": {
      "text/latex": [
       "$\\displaystyle 0$"
      ],
      "text/plain": [
       "0"
      ]
     },
     "execution_count": 51,
     "metadata": {},
     "output_type": "execute_result"
    }
   ],
   "source": [
    "expr = x + y + z\n",
    "expr\n",
    "expr_grad = get_gradient_ref(expr)\n",
    "expr_grad\n",
    "v = sp.Matrix([-sp.sqrt(2)/2, 0, sp.sqrt(2)/2])\n",
    "v.dot(expr_grad)"
   ]
  },
  {
   "cell_type": "code",
   "execution_count": 54,
   "id": "184aaafe-fcbe-474d-96ba-917b8087c6bd",
   "metadata": {},
   "outputs": [
    {
     "data": {
      "text/latex": [
       "$\\displaystyle x^{2} - y^{2}$"
      ],
      "text/plain": [
       "x**2 - y**2"
      ]
     },
     "execution_count": 54,
     "metadata": {},
     "output_type": "execute_result"
    },
    {
     "data": {
      "text/latex": [
       "$\\displaystyle \\left[\\begin{matrix}2 x\\\\- 2 y\\end{matrix}\\right]$"
      ],
      "text/plain": [
       "Matrix([\n",
       "[ 2*x],\n",
       "[-2*y]])"
      ]
     },
     "execution_count": 54,
     "metadata": {},
     "output_type": "execute_result"
    },
    {
     "data": {
      "text/latex": [
       "$\\displaystyle - 2 \\sqrt{2}$"
      ],
      "text/plain": [
       "-2*sqrt(2)"
      ]
     },
     "execution_count": 54,
     "metadata": {},
     "output_type": "execute_result"
    }
   ],
   "source": [
    "expr = x**2 - y**2\n",
    "expr\n",
    "expr_grad = get_gradient_ref(expr)\n",
    "expr_grad\n",
    "v = sp.Matrix([sp.sqrt(2)/2, sp.sqrt(2)/2])\n",
    "v.dot(expr_grad).subs({x:-1, y:1})"
   ]
  },
  {
   "cell_type": "code",
   "execution_count": 55,
   "id": "416cbcf1-96ef-4dc7-96f1-d17aa113ba21",
   "metadata": {},
   "outputs": [
    {
     "data": {
      "text/latex": [
       "$\\displaystyle x y + e^{y}$"
      ],
      "text/plain": [
       "x*y + exp(y)"
      ]
     },
     "execution_count": 55,
     "metadata": {},
     "output_type": "execute_result"
    },
    {
     "data": {
      "text/latex": [
       "$\\displaystyle \\left[\\begin{matrix}y\\\\x + e^{y}\\end{matrix}\\right]$"
      ],
      "text/plain": [
       "Matrix([\n",
       "[         y],\n",
       "[x + exp(y)]])"
      ]
     },
     "execution_count": 55,
     "metadata": {},
     "output_type": "execute_result"
    },
    {
     "data": {
      "text/latex": [
       "$\\displaystyle 2 x - 3 y + 2 e^{y}$"
      ],
      "text/plain": [
       "2*x - 3*y + 2*exp(y)"
      ]
     },
     "execution_count": 55,
     "metadata": {},
     "output_type": "execute_result"
    },
    {
     "data": {
      "text/latex": [
       "$\\displaystyle -4 + 2 e^{2}$"
      ],
      "text/plain": [
       "-4 + 2*exp(2)"
      ]
     },
     "execution_count": 55,
     "metadata": {},
     "output_type": "execute_result"
    }
   ],
   "source": [
    "expr = sp.E ** y + x*y\n",
    "expr\n",
    "expr_grad = get_gradient_ref(expr)\n",
    "expr_grad\n",
    "v = sp.Matrix([-3, 2])\n",
    "dd = v.dot(expr_grad)\n",
    "dd\n",
    "dd.subs({x:1, y:2})"
   ]
  },
  {
   "cell_type": "code",
   "execution_count": null,
   "id": "d4f1bc23-abb8-476c-8f20-2230d6f1508d",
   "metadata": {},
   "outputs": [],
   "source": []
  }
 ],
 "metadata": {
  "kernelspec": {
   "display_name": "Math",
   "language": "python",
   "name": "math"
  },
  "language_info": {
   "codemirror_mode": {
    "name": "ipython",
    "version": 3
   },
   "file_extension": ".py",
   "mimetype": "text/x-python",
   "name": "python",
   "nbconvert_exporter": "python",
   "pygments_lexer": "ipython3",
   "version": "3.8.13"
  }
 },
 "nbformat": 4,
 "nbformat_minor": 5
}
