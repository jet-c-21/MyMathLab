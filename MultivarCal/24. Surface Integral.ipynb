{
 "cells": [
  {
   "cell_type": "code",
   "execution_count": 1,
   "id": "865d7d25-5d4b-4bf9-9d2d-eb383a58df05",
   "metadata": {},
   "outputs": [
    {
     "name": "stdout",
     "output_type": "stream",
     "text": [
      "Added D:\\Dev\\Code\\MyMathLab to PATH\n"
     ]
    }
   ],
   "source": [
    "from IPython.core.interactiveshell import InteractiveShell\n",
    "InteractiveShell.ast_node_interactivity = 'all'\n",
    "\n",
    "# import self-made module\n",
    "import os, sys, pathlib\n",
    "file_path = os.path.abspath('')\n",
    "PROJECT_DIR = str(pathlib.Path(file_path).parent)\n",
    "sys.path.append(PROJECT_DIR)\n",
    "print(f\"Added {PROJECT_DIR} to PATH\")\n",
    "from athena import *\n",
    "from sympy.vector import CoordSys3D, gradient, curl, ParametricRegion, vector_integrate, scalar_potential\n",
    "from sympy.integrals.manualintegrate import integral_steps\n",
    "\n",
    "sp.init_printing()\n",
    "\n",
    "# ult functions\n",
    "def reset_symbols():\n",
    "    global x, y, z, a, b, c, d, e, f, g, h, r, s, k, t, u, v, theta, lmda, rho, phi\n",
    "    x, y, z = sp.symbols('x y z', real=True)\n",
    "    a, b, c, d, e, f, g, h, r, s, k, t, u, v = sp.symbols('a b c d e f g h r s k t u v', real=True)\n",
    "    theta = sp.Symbol('theta')\n",
    "    lmda = sp.Symbol('lambda')\n",
    "    rho = sp.Symbol('rho')\n",
    "    phi = sp.Symbol('phi')\n",
    "    \n",
    "\n",
    "reset_symbols()"
   ]
  },
  {
   "cell_type": "code",
   "execution_count": 2,
   "id": "0ad12dcd-e124-4400-a2dc-2799b12a9762",
   "metadata": {},
   "outputs": [
    {
     "data": {
      "image/png": "[encoded data removed]",
      "text/latex": [
       "$\\displaystyle \\left(3\\right)\\mathbf{\\hat{i}_{.}} + \\left(- \\sqrt{3}\\right)\\mathbf{\\hat{k}_{.}}$"
      ],
      "text/plain": [
       "(3) i_. + (-√3) k_."
      ]
     },
     "execution_count": 2,
     "metadata": {},
     "output_type": "execute_result"
    }
   ],
   "source": [
    "C = CoordSys3D('.')\n",
    "\n",
    "alias_dict = {\n",
    "    C.x : theta,\n",
    "    C.y : phi,\n",
    "    C.z : r,\n",
    "}\n",
    "\n",
    "vf = (C.z * sp.cos(C.x) * sp.sin(C.y)) * C.i + (C.z * sp.sin(theta) * sp.sin(phi)) * C.j + (C.z * sp.cos(phi)) * C.k\n",
    "vf = vf.subs(alias_dict)\n",
    "\n",
    "vf.diff(theta).cross(vf.diff(phi)).subs({r: 2, theta:sp.pi, phi:sp.pi/3})"
   ]
  },
  {
   "cell_type": "code",
   "execution_count": 3,
   "id": "da1a3f56-747b-445f-be0a-5ea584715f74",
   "metadata": {},
   "outputs": [
    {
     "data": {
      "image/png": "[encoded data removed]",
      "text/latex": [
       "$\\displaystyle \\left(r \\sin{\\left(\\phi \\right)} \\cos{\\left(\\theta \\right)}\\right)\\mathbf{\\hat{i}_{.}} + \\left(r \\sin{\\left(\\phi \\right)} \\sin{\\left(\\theta \\right)}\\right)\\mathbf{\\hat{j}_{.}} + \\left(r \\cos{\\left(\\phi \\right)}\\right)\\mathbf{\\hat{k}_{.}}$"
      ],
      "text/plain": [
       "(r⋅sin(φ)⋅cos(θ)) i_. + (r⋅sin(φ)⋅sin(θ)) j_. + (r⋅cos(φ)) k_."
      ]
     },
     "execution_count": 3,
     "metadata": {},
     "output_type": "execute_result"
    },
    {
     "data": {
      "image/png": "[encoded data removed]",
      "text/latex": [
       "$\\displaystyle \\left(- r \\sin{\\left(\\phi \\right)} \\sin{\\left(\\theta \\right)}\\right)\\mathbf{\\hat{i}_{.}} + \\left(r \\sin{\\left(\\phi \\right)} \\cos{\\left(\\theta \\right)}\\right)\\mathbf{\\hat{j}_{.}}$"
      ],
      "text/plain": [
       "(-r⋅sin(φ)⋅sin(θ)) i_. + (r⋅sin(φ)⋅cos(θ)) j_."
      ]
     },
     "execution_count": 3,
     "metadata": {},
     "output_type": "execute_result"
    },
    {
     "data": {
      "image/png": "[encoded data removed]",
      "text/latex": [
       "$\\displaystyle \\left(r \\cos{\\left(\\phi \\right)} \\cos{\\left(\\theta \\right)}\\right)\\mathbf{\\hat{i}_{.}} + \\left(r \\sin{\\left(\\theta \\right)} \\cos{\\left(\\phi \\right)}\\right)\\mathbf{\\hat{j}_{.}} + \\left(- r \\sin{\\left(\\phi \\right)}\\right)\\mathbf{\\hat{k}_{.}}$"
      ],
      "text/plain": [
       "(r⋅cos(φ)⋅cos(θ)) i_. + (r⋅sin(θ)⋅cos(φ)) j_. + (-r⋅sin(φ)) k_."
      ]
     },
     "execution_count": 3,
     "metadata": {},
     "output_type": "execute_result"
    },
    {
     "data": {
      "image/png": "[encoded data removed]",
      "text/latex": [
       "$\\displaystyle \\left(- r^{2} \\sin^{2}{\\left(\\phi \\right)} \\cos{\\left(\\theta \\right)}\\right)\\mathbf{\\hat{i}_{.}} + \\left(- r^{2} \\sin^{2}{\\left(\\phi \\right)} \\sin{\\left(\\theta \\right)}\\right)\\mathbf{\\hat{j}_{.}} + \\left(- r^{2} \\sin{\\left(\\phi \\right)} \\sin^{2}{\\left(\\theta \\right)} \\cos{\\left(\\phi \\right)} - r^{2} \\sin{\\left(\\phi \\right)} \\cos{\\left(\\phi \\right)} \\cos^{2}{\\left(\\theta \\right)}\\right)\\mathbf{\\hat{k}_{.}}$"
      ],
      "text/plain": [
       "⎛  2    2          ⎞        ⎛  2    2          ⎞        ⎛   2           2     \n",
       "⎝-r ⋅sin (φ)⋅cos(θ)⎠ i_.  + ⎝-r ⋅sin (φ)⋅sin(θ)⎠ j_.  + ⎝- r ⋅sin(φ)⋅sin (θ)⋅c\n",
       "\n",
       "         2                  2   ⎞     \n",
       "os(φ) - r ⋅sin(φ)⋅cos(φ)⋅cos (θ)⎠ k_. "
      ]
     },
     "execution_count": 3,
     "metadata": {},
     "output_type": "execute_result"
    },
    {
     "data": {
      "image/png": "[encoded data removed]",
      "text/latex": [
       "$\\displaystyle \\left(3\\right)\\mathbf{\\hat{i}_{.}} + \\left(- \\sqrt{3}\\right)\\mathbf{\\hat{k}_{.}}$"
      ],
      "text/plain": [
       "(3) i_. + (-√3) k_."
      ]
     },
     "execution_count": 3,
     "metadata": {},
     "output_type": "execute_result"
    }
   ],
   "source": [
    "C = CoordSys3D('.')\n",
    "\n",
    "vf = (r * sp.cos(theta) * sp.sin(phi)) * C.i + (r * sp.sin(theta) * sp.sin(phi)) * C.j + (r * sp.cos(phi)) * C.k\n",
    "vf\n",
    "\n",
    "vf_dtheta = vf.diff(theta)\n",
    "vf_dphi = vf.diff(phi)\n",
    "\n",
    "vf_dtheta\n",
    "vf_dphi\n",
    "\n",
    "\n",
    "d_delta = vf_dtheta.cross(vf_dphi)\n",
    "d_delta\n",
    "\n",
    "d_delta.subs({r: 2, theta:sp.pi, phi:sp.pi/3})"
   ]
  },
  {
   "cell_type": "code",
   "execution_count": 4,
   "id": "adcbdb39-a4d1-4a8d-b846-c5c7d7443bee",
   "metadata": {},
   "outputs": [
    {
     "data": {
      "image/png": "[encoded data removed]",
      "text/latex": [
       "$\\displaystyle \\left(r \\cos{\\left(\\theta \\right)}\\right)\\mathbf{\\hat{i}_{.}} + \\left(r \\sin{\\left(\\theta \\right)}\\right)\\mathbf{\\hat{j}_{.}} + \\left(z\\right)\\mathbf{\\hat{k}_{.}}$"
      ],
      "text/plain": [
       "(r⋅cos(θ)) i_. + (r⋅sin(θ)) j_. + (z) k_."
      ]
     },
     "execution_count": 4,
     "metadata": {},
     "output_type": "execute_result"
    },
    {
     "data": {
      "image/png": "[encoded data removed]",
      "text/latex": [
       "$\\displaystyle \\left(- r \\sin{\\left(\\theta \\right)}\\right)\\mathbf{\\hat{i}_{.}} + \\left(r \\cos{\\left(\\theta \\right)}\\right)\\mathbf{\\hat{j}_{.}}$"
      ],
      "text/plain": [
       "(-r⋅sin(θ)) i_. + (r⋅cos(θ)) j_."
      ]
     },
     "execution_count": 4,
     "metadata": {},
     "output_type": "execute_result"
    },
    {
     "data": {
      "image/png": "[encoded data removed]",
      "text/latex": [
       "$\\displaystyle \\mathbf{\\hat{k}_{.}}$"
      ],
      "text/plain": [
       "k_."
      ]
     },
     "execution_count": 4,
     "metadata": {},
     "output_type": "execute_result"
    },
    {
     "data": {
      "image/png": "[encoded data removed]",
      "text/latex": [
       "$\\displaystyle \\left(r \\cos{\\left(\\theta \\right)}\\right)\\mathbf{\\hat{i}_{.}} + \\left(r \\sin{\\left(\\theta \\right)}\\right)\\mathbf{\\hat{j}_{.}}$"
      ],
      "text/plain": [
       "(r⋅cos(θ)) i_. + (r⋅sin(θ)) j_."
      ]
     },
     "execution_count": 4,
     "metadata": {},
     "output_type": "execute_result"
    },
    {
     "data": {
      "image/png": "[encoded data removed]",
      "text/latex": [
       "$\\displaystyle \\left(-5\\right)\\mathbf{\\hat{j}_{.}}$"
      ],
      "text/plain": [
       "(-5) j_."
      ]
     },
     "execution_count": 4,
     "metadata": {},
     "output_type": "execute_result"
    }
   ],
   "source": [
    "C = CoordSys3D('.')\n",
    "\n",
    "vf = (r * sp.cos(theta)) * C.i + (r * sp.sin(theta)) * C.j + (z) * C.k\n",
    "vf\n",
    "\n",
    "vf_dtheta = vf.diff(theta)\n",
    "vf_dphi = vf.diff(z)\n",
    "\n",
    "vf_dtheta\n",
    "vf_dphi\n",
    "\n",
    "\n",
    "d_delta = vf_dtheta.cross(vf_dphi)\n",
    "d_delta\n",
    "\n",
    "d_delta.subs({r: 5, theta:3*sp.pi/2, z:1})"
   ]
  },
  {
   "cell_type": "code",
   "execution_count": 5,
   "id": "4fbffcbd-1009-49a6-8fef-b024156d76e3",
   "metadata": {},
   "outputs": [
    {
     "data": {
      "image/png": "[encoded data removed]",
      "text/latex": [
       "$\\displaystyle \\left(- x + 2 y\\right)\\mathbf{\\hat{i}_{.}} + \\left(4 x + 3 y\\right)\\mathbf{\\hat{j}_{.}} + \\left(x - y\\right)\\mathbf{\\hat{k}_{.}}$"
      ],
      "text/plain": [
       "(-x + 2⋅y) i_. + (4⋅x + 3⋅y) j_. + (x - y) k_."
      ]
     },
     "execution_count": 5,
     "metadata": {},
     "output_type": "execute_result"
    },
    {
     "data": {
      "image/png": "[encoded data removed]",
      "text/latex": [
       "$\\displaystyle - \\mathbf{\\hat{i}_{.}} + \\left(4\\right)\\mathbf{\\hat{j}_{.}} + \\mathbf{\\hat{k}_{.}}$"
      ],
      "text/plain": [
       "(-1) i_. + (4) j_. + k_."
      ]
     },
     "execution_count": 5,
     "metadata": {},
     "output_type": "execute_result"
    },
    {
     "data": {
      "image/png": "[encoded data removed]",
      "text/latex": [
       "$\\displaystyle \\left(2\\right)\\mathbf{\\hat{i}_{.}} + \\left(3\\right)\\mathbf{\\hat{j}_{.}} - \\mathbf{\\hat{k}_{.}}$"
      ],
      "text/plain": [
       "(2) i_. + (3) j_. + (-1) k_."
      ]
     },
     "execution_count": 5,
     "metadata": {},
     "output_type": "execute_result"
    },
    {
     "data": {
      "image/png": "[encoded data removed]",
      "text/latex": [
       "$\\displaystyle \\left(-7\\right)\\mathbf{\\hat{i}_{.}} + \\mathbf{\\hat{j}_{.}} + \\left(-11\\right)\\mathbf{\\hat{k}_{.}}$"
      ],
      "text/plain": [
       "(-7) i_. + j_. + (-11) k_."
      ]
     },
     "execution_count": 5,
     "metadata": {},
     "output_type": "execute_result"
    }
   ],
   "source": [
    "C = CoordSys3D('.')\n",
    "\n",
    "vf = (2*y-x) * C.i + (4*x + 3*y) * C.j + (x - y) * C.k\n",
    "vf\n",
    "\n",
    "vf_dtheta = vf.diff(x)\n",
    "vf_dphi = vf.diff(y)\n",
    "\n",
    "vf_dtheta\n",
    "vf_dphi\n",
    "\n",
    "\n",
    "d_delta = vf_dtheta.cross(vf_dphi)\n",
    "d_delta\n",
    "\n",
    "# d_delta.subs({r: 5, theta:3*sp.pi/2, z:1})"
   ]
  },
  {
   "cell_type": "code",
   "execution_count": 6,
   "id": "8171c692-881e-4f09-8c26-d9f13643f5a6",
   "metadata": {},
   "outputs": [
    {
     "data": {
      "image/png": "[encoded data removed]",
      "text/latex": [
       "$\\displaystyle \\left(r \\sin{\\left(\\phi \\right)} \\cos{\\left(\\theta \\right)}\\right)\\mathbf{\\hat{i}_{.}} + \\left(r \\sin{\\left(\\phi \\right)} \\sin{\\left(\\theta \\right)}\\right)\\mathbf{\\hat{j}_{.}} + \\left(r \\cos{\\left(\\phi \\right)}\\right)\\mathbf{\\hat{k}_{.}}$"
      ],
      "text/plain": [
       "(r⋅sin(φ)⋅cos(θ)) i_. + (r⋅sin(φ)⋅sin(θ)) j_. + (r⋅cos(φ)) k_."
      ]
     },
     "execution_count": 6,
     "metadata": {},
     "output_type": "execute_result"
    },
    {
     "data": {
      "image/png": "[encoded data removed]",
      "text/latex": [
       "$\\displaystyle \\left(- r \\sin{\\left(\\phi \\right)} \\sin{\\left(\\theta \\right)}\\right)\\mathbf{\\hat{i}_{.}} + \\left(r \\sin{\\left(\\phi \\right)} \\cos{\\left(\\theta \\right)}\\right)\\mathbf{\\hat{j}_{.}}$"
      ],
      "text/plain": [
       "(-r⋅sin(φ)⋅sin(θ)) i_. + (r⋅sin(φ)⋅cos(θ)) j_."
      ]
     },
     "execution_count": 6,
     "metadata": {},
     "output_type": "execute_result"
    },
    {
     "data": {
      "image/png": "[encoded data removed]",
      "text/latex": [
       "$\\displaystyle \\left(r \\cos{\\left(\\phi \\right)} \\cos{\\left(\\theta \\right)}\\right)\\mathbf{\\hat{i}_{.}} + \\left(r \\sin{\\left(\\theta \\right)} \\cos{\\left(\\phi \\right)}\\right)\\mathbf{\\hat{j}_{.}} + \\left(- r \\sin{\\left(\\phi \\right)}\\right)\\mathbf{\\hat{k}_{.}}$"
      ],
      "text/plain": [
       "(r⋅cos(φ)⋅cos(θ)) i_. + (r⋅sin(θ)⋅cos(φ)) j_. + (-r⋅sin(φ)) k_."
      ]
     },
     "execution_count": 6,
     "metadata": {},
     "output_type": "execute_result"
    },
    {
     "data": {
      "image/png": "[encoded data removed]",
      "text/latex": [
       "$\\displaystyle \\left(- r^{2} \\sin^{2}{\\left(\\phi \\right)} \\cos{\\left(\\theta \\right)}\\right)\\mathbf{\\hat{i}_{.}} + \\left(- r^{2} \\sin^{2}{\\left(\\phi \\right)} \\sin{\\left(\\theta \\right)}\\right)\\mathbf{\\hat{j}_{.}} + \\left(- r^{2} \\sin{\\left(\\phi \\right)} \\sin^{2}{\\left(\\theta \\right)} \\cos{\\left(\\phi \\right)} - r^{2} \\sin{\\left(\\phi \\right)} \\cos{\\left(\\phi \\right)} \\cos^{2}{\\left(\\theta \\right)}\\right)\\mathbf{\\hat{k}_{.}}$"
      ],
      "text/plain": [
       "⎛  2    2          ⎞        ⎛  2    2          ⎞        ⎛   2           2     \n",
       "⎝-r ⋅sin (φ)⋅cos(θ)⎠ i_.  + ⎝-r ⋅sin (φ)⋅sin(θ)⎠ j_.  + ⎝- r ⋅sin(φ)⋅sin (θ)⋅c\n",
       "\n",
       "         2                  2   ⎞     \n",
       "os(φ) - r ⋅sin(φ)⋅cos(φ)⋅cos (θ)⎠ k_. "
      ]
     },
     "execution_count": 6,
     "metadata": {},
     "output_type": "execute_result"
    }
   ],
   "source": [
    "C = CoordSys3D('.')\n",
    "\n",
    "vf = (r*sp.cos(theta) * sp.sin(phi)) * C.i + (r * sp.sin(theta) * sp.sin(phi)) * C.j + (r * sp.cos(phi)) * C.k\n",
    "vf\n",
    "\n",
    "vf_dtheta = vf.diff(theta)\n",
    "vf_dphi = vf.diff(phi)\n",
    "\n",
    "vf_dtheta\n",
    "vf_dphi\n",
    "\n",
    "\n",
    "d_delta = vf_dtheta.cross(vf_dphi)\n",
    "d_delta\n",
    "\n",
    "# d_delta.subs({r: 5, theta:3*sp.pi/2, z:1})"
   ]
  },
  {
   "cell_type": "code",
   "execution_count": 7,
   "id": "a204d6fe-2f75-4047-80b6-7a24fc28cf14",
   "metadata": {},
   "outputs": [
    {
     "data": {
      "image/png": "[encoded data removed]",
      "text/latex": [
       "$\\displaystyle \\left(\\left(a \\cos{\\left(s \\right)} + b\\right) \\sin{\\left(t \\right)}\\right)\\mathbf{\\hat{i}_{.}} + \\left(\\left(a \\cos{\\left(s \\right)} + b\\right) \\cos{\\left(t \\right)}\\right)\\mathbf{\\hat{j}_{.}} + \\left(a \\sin{\\left(s \\right)}\\right)\\mathbf{\\hat{k}_{.}}$"
      ],
      "text/plain": [
       "((a⋅cos(s) + b)⋅sin(t)) i_. + ((a⋅cos(s) + b)⋅cos(t)) j_. + (a⋅sin(s)) k_."
      ]
     },
     "execution_count": 7,
     "metadata": {},
     "output_type": "execute_result"
    },
    {
     "data": {
      "image/png": "[encoded data removed]",
      "text/latex": [
       "$\\displaystyle \\left(- a \\sin{\\left(s \\right)} \\sin{\\left(t \\right)}\\right)\\mathbf{\\hat{i}_{.}} + \\left(- a \\sin{\\left(s \\right)} \\cos{\\left(t \\right)}\\right)\\mathbf{\\hat{j}_{.}} + \\left(a \\cos{\\left(s \\right)}\\right)\\mathbf{\\hat{k}_{.}}$"
      ],
      "text/plain": [
       "(-a⋅sin(s)⋅sin(t)) i_. + (-a⋅sin(s)⋅cos(t)) j_. + (a⋅cos(s)) k_."
      ]
     },
     "execution_count": 7,
     "metadata": {},
     "output_type": "execute_result"
    },
    {
     "data": {
      "image/png": "[encoded data removed]",
      "text/latex": [
       "$\\displaystyle \\left(\\left(a \\cos{\\left(s \\right)} + b\\right) \\cos{\\left(t \\right)}\\right)\\mathbf{\\hat{i}_{.}} + \\left(- \\left(a \\cos{\\left(s \\right)} + b\\right) \\sin{\\left(t \\right)}\\right)\\mathbf{\\hat{j}_{.}}$"
      ],
      "text/plain": [
       "((a⋅cos(s) + b)⋅cos(t)) i_. + (-(a⋅cos(s) + b)⋅sin(t)) j_."
      ]
     },
     "execution_count": 7,
     "metadata": {},
     "output_type": "execute_result"
    },
    {
     "data": {
      "image/png": "[encoded data removed]",
      "text/latex": [
       "$\\displaystyle \\left|{a^{2} \\cos{\\left(s \\right)} + a b}\\right|$"
      ],
      "text/plain": [
       "│ 2             │\n",
       "│a ⋅cos(s) + a⋅b│"
      ]
     },
     "execution_count": 7,
     "metadata": {},
     "output_type": "execute_result"
    },
    {
     "data": {
      "text/plain": [
       "<bound method Expr.coeff of Abs(a**2*cos(s) + a*b)>"
      ]
     },
     "execution_count": 7,
     "metadata": {},
     "output_type": "execute_result"
    },
    {
     "data": {
      "image/png": "[encoded data removed]",
      "text/latex": [
       "$\\displaystyle 4 \\pi^{2} a b$"
      ],
      "text/plain": [
       "   2    \n",
       "4⋅π ⋅a⋅b"
      ]
     },
     "execution_count": 7,
     "metadata": {},
     "output_type": "execute_result"
    }
   ],
   "source": [
    "vf = ((b + a * sp.cos(s)) * sp.sin(t)) * C.i + ((b + a*sp.cos(s)) * sp.cos(t)) * C.j + (a * sp.sin(s)) * C.k\n",
    "vf\n",
    "\n",
    "vf_ds = vf.diff(s)\n",
    "vf_ds\n",
    "\n",
    "vf_dt = vf.diff(t)\n",
    "vf_dt\n",
    "\n",
    "cross_product = vf_ds.cross(vf_dt).simplify()\n",
    "integrand = cross_product.magnitude().simplify().factor()\n",
    "integrand\n",
    "\n",
    "integrand.coeff\n",
    "\n",
    "integrand = a**2 * sp.cos(s) + a*b\n",
    "\n",
    "integrand.integrate((s, 0, sp.pi * 2), (t, 0, sp.pi * 2))"
   ]
  },
  {
   "cell_type": "code",
   "execution_count": 8,
   "id": "c5b35d62-9111-4ffc-b858-918502f843f7",
   "metadata": {},
   "outputs": [
    {
     "data": {
      "image/png": "[encoded data removed]",
      "text/latex": [
       "$\\displaystyle \\left(2 u + 3 v\\right)\\mathbf{\\hat{i}_{.}} + \\left(u - 5 v\\right)\\mathbf{\\hat{j}_{.}} + \\left(u + v\\right)\\mathbf{\\hat{k}_{.}}$"
      ],
      "text/plain": [
       "(2⋅u + 3⋅v) i_. + (u - 5⋅v) j_. + (u + v) k_."
      ]
     },
     "execution_count": 8,
     "metadata": {},
     "output_type": "execute_result"
    },
    {
     "data": {
      "image/png": "[encoded data removed]",
      "text/latex": [
       "$\\displaystyle \\left(2\\right)\\mathbf{\\hat{i}_{.}} + \\mathbf{\\hat{j}_{.}} + \\mathbf{\\hat{k}_{.}}$"
      ],
      "text/plain": [
       "(2) i_. + j_. + k_."
      ]
     },
     "execution_count": 8,
     "metadata": {},
     "output_type": "execute_result"
    },
    {
     "data": {
      "image/png": "[encoded data removed]",
      "text/latex": [
       "$\\displaystyle \\left(3\\right)\\mathbf{\\hat{i}_{.}} + \\left(-5\\right)\\mathbf{\\hat{j}_{.}} + \\mathbf{\\hat{k}_{.}}$"
      ],
      "text/plain": [
       "(3) i_. + (-5) j_. + k_."
      ]
     },
     "execution_count": 8,
     "metadata": {},
     "output_type": "execute_result"
    },
    {
     "data": {
      "image/png": "[encoded data removed]",
      "text/latex": [
       "$\\displaystyle \\sqrt{206}$"
      ],
      "text/plain": [
       "√206"
      ]
     },
     "execution_count": 8,
     "metadata": {},
     "output_type": "execute_result"
    },
    {
     "data": {
      "image/png": "[encoded data removed]",
      "text/latex": [
       "$\\displaystyle 8 \\sqrt{103}$"
      ],
      "text/plain": [
       "8⋅√103"
      ]
     },
     "execution_count": 8,
     "metadata": {},
     "output_type": "execute_result"
    }
   ],
   "source": [
    "vf = (2*u + 3*v) * C.i + (u - 5*v) * C.j + (u + v) * C.k\n",
    "vf\n",
    "\n",
    "vf_ds = vf.diff(u)\n",
    "vf_ds\n",
    "\n",
    "vf_dt = vf.diff(v)\n",
    "vf_dt\n",
    "\n",
    "cross_product = vf_ds.cross(vf_dt).simplify()\n",
    "\n",
    "integrand = cross_product.magnitude().simplify().factor()\n",
    "integrand\n",
    "\n",
    "integrand.integrate((u, -3, 1), (v, 0, sp.sqrt(2)))"
   ]
  },
  {
   "cell_type": "code",
   "execution_count": 9,
   "id": "8c4a1f38-cf50-459c-8cd5-bf2877c7a599",
   "metadata": {},
   "outputs": [
    {
     "data": {
      "image/png": "[encoded data removed]",
      "text/latex": [
       "$\\displaystyle \\left(\\cos{\\left(v \\right)}\\right)\\mathbf{\\hat{i}_{.}} + \\left(v + \\cos{\\left(u \\right)}\\right)\\mathbf{\\hat{j}_{.}} + \\left(\\sin{\\left(v \\right)}\\right)\\mathbf{\\hat{k}_{.}}$"
      ],
      "text/plain": [
       "(cos(v)) i_. + (v + cos(u)) j_. + (sin(v)) k_."
      ]
     },
     "execution_count": 9,
     "metadata": {},
     "output_type": "execute_result"
    },
    {
     "data": {
      "image/png": "[encoded data removed]",
      "text/latex": [
       "$\\displaystyle \\left(- \\sin{\\left(u \\right)}\\right)\\mathbf{\\hat{j}_{.}}$"
      ],
      "text/plain": [
       "(-sin(u)) j_."
      ]
     },
     "execution_count": 9,
     "metadata": {},
     "output_type": "execute_result"
    },
    {
     "data": {
      "image/png": "[encoded data removed]",
      "text/latex": [
       "$\\displaystyle \\left(- \\sin{\\left(v \\right)}\\right)\\mathbf{\\hat{i}_{.}} + \\mathbf{\\hat{j}_{.}} + \\left(\\cos{\\left(v \\right)}\\right)\\mathbf{\\hat{k}_{.}}$"
      ],
      "text/plain": [
       "(-sin(v)) i_. + j_. + (cos(v)) k_."
      ]
     },
     "execution_count": 9,
     "metadata": {},
     "output_type": "execute_result"
    },
    {
     "data": {
      "image/png": "[encoded data removed]",
      "text/latex": [
       "$\\displaystyle \\left|{\\sin{\\left(u \\right)}}\\right|$"
      ],
      "text/plain": [
       "│sin(u)│"
      ]
     },
     "execution_count": 9,
     "metadata": {},
     "output_type": "execute_result"
    },
    {
     "data": {
      "image/png": "[encoded data removed]",
      "text/latex": [
       "$\\displaystyle 4 \\pi$"
      ],
      "text/plain": [
       "4⋅π"
      ]
     },
     "execution_count": 9,
     "metadata": {},
     "output_type": "execute_result"
    }
   ],
   "source": [
    "vf = (sp.cos(v)) * C.i + (sp.cos(u) + v) * C.j + (sp.sin(v)) * C.k\n",
    "vf\n",
    "\n",
    "vf_ds = vf.diff(u)\n",
    "vf_ds\n",
    "\n",
    "vf_dt = vf.diff(v)\n",
    "vf_dt\n",
    "\n",
    "cross_product = vf_ds.cross(vf_dt).simplify()\n",
    "\n",
    "integrand = cross_product.magnitude().simplify().factor()\n",
    "integrand\n",
    "\n",
    "integrand.integrate((u, 0, sp.pi), (v, 0, 2*sp.pi))"
   ]
  },
  {
   "cell_type": "code",
   "execution_count": 10,
   "id": "e0150859-3194-496d-ad5d-05f8a68d06a7",
   "metadata": {},
   "outputs": [
    {
     "data": {
      "image/png": "[encoded data removed]",
      "text/latex": [
       "$\\displaystyle \\left(- 4 u + 3 v\\right)\\mathbf{\\hat{i}_{.}} + \\left(2 v\\right)\\mathbf{\\hat{j}_{.}} + \\left(u + 2 v\\right)\\mathbf{\\hat{k}_{.}}$"
      ],
      "text/plain": [
       "(-4⋅u + 3⋅v) i_. + (2⋅v) j_. + (u + 2⋅v) k_."
      ]
     },
     "execution_count": 10,
     "metadata": {},
     "output_type": "execute_result"
    },
    {
     "data": {
      "image/png": "[encoded data removed]",
      "text/latex": [
       "$\\displaystyle \\left(-4\\right)\\mathbf{\\hat{i}_{.}} + \\mathbf{\\hat{k}_{.}}$"
      ],
      "text/plain": [
       "(-4) i_. + k_."
      ]
     },
     "execution_count": 10,
     "metadata": {},
     "output_type": "execute_result"
    },
    {
     "data": {
      "image/png": "[encoded data removed]",
      "text/latex": [
       "$\\displaystyle \\left(3\\right)\\mathbf{\\hat{i}_{.}} + \\left(2\\right)\\mathbf{\\hat{j}_{.}} + \\left(2\\right)\\mathbf{\\hat{k}_{.}}$"
      ],
      "text/plain": [
       "(3) i_. + (2) j_. + (2) k_."
      ]
     },
     "execution_count": 10,
     "metadata": {},
     "output_type": "execute_result"
    },
    {
     "data": {
      "image/png": "[encoded data removed]",
      "text/latex": [
       "$\\displaystyle 3 \\sqrt{21}$"
      ],
      "text/plain": [
       "3⋅√21"
      ]
     },
     "execution_count": 10,
     "metadata": {},
     "output_type": "execute_result"
    },
    {
     "data": {
      "image/png": "[encoded data removed]",
      "text/latex": [
       "$\\displaystyle 60 \\sqrt{21}$"
      ],
      "text/plain": [
       "60⋅√21"
      ]
     },
     "execution_count": 10,
     "metadata": {},
     "output_type": "execute_result"
    }
   ],
   "source": [
    "vf = (-4*u + 3 * v) * C.i + (2*v) * C.j + (u + 2*v) * C.k\n",
    "vf\n",
    "\n",
    "vf_ds = vf.diff(u)\n",
    "vf_ds\n",
    "\n",
    "vf_dt = vf.diff(v)\n",
    "vf_dt\n",
    "\n",
    "cross_product = vf_ds.cross(vf_dt).simplify()\n",
    "\n",
    "integrand = cross_product.magnitude().simplify().factor()\n",
    "integrand\n",
    "\n",
    "integrand.integrate((u, -2, 2), (v, -1, 4))"
   ]
  },
  {
   "cell_type": "code",
   "execution_count": 11,
   "id": "a1f9ce60-ab38-4d96-8ff7-e2da53380c9a",
   "metadata": {},
   "outputs": [
    {
     "data": {
      "image/png": "[encoded data removed]",
      "text/latex": [
       "$\\displaystyle \\left(u\\right)\\mathbf{\\hat{i}_{.}} + \\left(\\cos{\\left(u \\right)}\\right)\\mathbf{\\hat{j}_{.}} + \\left(\\sin{\\left(v \\right)}\\right)\\mathbf{\\hat{k}_{.}}$"
      ],
      "text/plain": [
       "(u) i_. + (cos(u)) j_. + (sin(v)) k_."
      ]
     },
     "execution_count": 11,
     "metadata": {},
     "output_type": "execute_result"
    },
    {
     "data": {
      "image/png": "[encoded data removed]",
      "text/latex": [
       "$\\displaystyle \\mathbf{\\hat{i}_{.}} + \\left(- \\sin{\\left(u \\right)}\\right)\\mathbf{\\hat{j}_{.}}$"
      ],
      "text/plain": [
       "i_. + (-sin(u)) j_."
      ]
     },
     "execution_count": 11,
     "metadata": {},
     "output_type": "execute_result"
    },
    {
     "data": {
      "image/png": "[encoded data removed]",
      "text/latex": [
       "$\\displaystyle \\left(\\cos{\\left(v \\right)}\\right)\\mathbf{\\hat{k}_{.}}$"
      ],
      "text/plain": [
       "(cos(v)) k_."
      ]
     },
     "execution_count": 11,
     "metadata": {},
     "output_type": "execute_result"
    },
    {
     "data": {
      "image/png": "[encoded data removed]",
      "text/latex": [
       "$\\displaystyle \\sqrt{\\sin^{2}{\\left(u \\right)} + 1} \\left|{\\cos{\\left(v \\right)}}\\right|$"
      ],
      "text/plain": [
       "   _____________         \n",
       "  ╱    2                 \n",
       "╲╱  sin (u) + 1 ⋅│cos(v)│"
      ]
     },
     "execution_count": 11,
     "metadata": {},
     "output_type": "execute_result"
    },
    {
     "data": {
      "image/png": "[encoded data removed]",
      "text/latex": [
       "$\\displaystyle 4 E\\left(-1\\right)$"
      ],
      "text/plain": [
       "4⋅E(-1)"
      ]
     },
     "execution_count": 11,
     "metadata": {},
     "output_type": "execute_result"
    }
   ],
   "source": [
    "vf = (u) * C.i + (sp.cos(u)) * C.j + (sp.sin(v)) * C.k\n",
    "vf\n",
    "\n",
    "vf_ds = vf.diff(u)\n",
    "vf_ds\n",
    "\n",
    "vf_dt = vf.diff(v)\n",
    "vf_dt\n",
    "\n",
    "cross_product = vf_ds.cross(vf_dt).simplify()\n",
    "\n",
    "integrand = cross_product.magnitude().simplify().factor()\n",
    "integrand\n",
    "\n",
    "integrand.integrate((u, -sp.pi/2, sp.pi/2), (v, 0, sp.pi))"
   ]
  },
  {
   "cell_type": "code",
   "execution_count": 12,
   "id": "6007304b-bd24-48a2-802b-e4ba2510628b",
   "metadata": {},
   "outputs": [
    {
     "data": {
      "image/png": "[encoded data removed]",
      "text/latex": [
       "$\\displaystyle \\sqrt{s^{2} + 4 t^{4} + 4 t^{2}}$"
      ],
      "text/plain": [
       "   __________________\n",
       "  ╱  2      4      2 \n",
       "╲╱  s  + 4⋅t  + 4⋅t  "
      ]
     },
     "execution_count": 12,
     "metadata": {},
     "output_type": "execute_result"
    },
    {
     "data": {
      "image/png": "[encoded data removed]",
      "text/latex": [
       "$\\displaystyle \\int\\limits_{0}^{3}\\int\\limits_{-1}^{1} \\sqrt{s^{2} + 4 t^{4} + 4 t^{2}}\\, dt\\, ds$"
      ],
      "text/plain": [
       "3 1                             \n",
       "⌠ ⌠                             \n",
       "⎮ ⎮     __________________      \n",
       "⎮ ⎮    ╱  2      4      2       \n",
       "⎮ ⎮  ╲╱  s  + 4⋅t  + 4⋅t   dt ds\n",
       "⌡ ⌡                             \n",
       "0 -1                            "
      ]
     },
     "execution_count": 12,
     "metadata": {},
     "output_type": "execute_result"
    }
   ],
   "source": [
    "C = CoordSys3D('.')\n",
    "\n",
    "t, s = sp.symbols('t s', )\n",
    "\n",
    "v = (t**2) * C.i + (s*t) * C.j + (s) * C.k\n",
    "v_dt = v.diff(t)\n",
    "v_ds = v.diff(s)\n",
    "\n",
    "cp = v_dt.cross(v_ds).magnitude()\n",
    "cp\n",
    "\n",
    "cp.integrate((t, -1, 1), (s, 0, 3)).evalf()"
   ]
  },
  {
   "cell_type": "code",
   "execution_count": 14,
   "id": "cfcf03ec-d3d3-40eb-9060-ad3e41368119",
   "metadata": {},
   "outputs": [
    {
     "data": {
      "image/png": "[encoded data removed]",
      "text/latex": [
       "$\\displaystyle \\left( 12.6152679191863, \\  1.04227609391341 \\cdot 10^{-7}\\right)$"
      ],
      "text/plain": [
       "(12.615267919186262, 1.0422760939134096e-07)"
      ]
     },
     "execution_count": 14,
     "metadata": {},
     "output_type": "execute_result"
    }
   ],
   "source": [
    "from scipy import integrate\n",
    "import numpy as np\n",
    "\n",
    "integrand = lambda t, s: np.sqrt(s**2 + 4*t**4 + 4*t**2)\n",
    "integrate.dblquad(integrand, 0, 3, -1, 1)"
   ]
  },
  {
   "cell_type": "code",
   "execution_count": null,
   "id": "345de46f-ef39-4d99-a2c3-7d88e04f459b",
   "metadata": {},
   "outputs": [],
   "source": []
  }
 ],
 "metadata": {
  "kernelspec": {
   "display_name": "Math",
   "language": "python",
   "name": "math"
  },
  "language_info": {
   "codemirror_mode": {
    "name": "ipython",
    "version": 3
   },
   "file_extension": ".py",
   "mimetype": "text/x-python",
   "name": "python",
   "nbconvert_exporter": "python",
   "pygments_lexer": "ipython3",
   "version": "3.8.13"
  }
 },
 "nbformat": 4,
 "nbformat_minor": 5
}
