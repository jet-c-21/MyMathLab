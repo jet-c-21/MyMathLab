{
 "cells": [
  {
   "cell_type": "code",
   "execution_count": 1,
   "id": "865d7d25-5d4b-4bf9-9d2d-eb383a58df05",
   "metadata": {},
   "outputs": [
    {
     "name": "stdout",
     "output_type": "stream",
     "text": [
      "Added D:\\Dev\\MyMathLab to PATH\n"
     ]
    }
   ],
   "source": [
    "from IPython.core.interactiveshell import InteractiveShell\n",
    "InteractiveShell.ast_node_interactivity = 'all'\n",
    "\n",
    "# import self-made module\n",
    "import os, sys, pathlib\n",
    "file_path = os.path.abspath('')\n",
    "PROJECT_DIR = str(pathlib.Path(file_path).parent)\n",
    "sys.path.append(PROJECT_DIR)\n",
    "print(f\"Added {PROJECT_DIR} to PATH\")\n",
    "from athena import *\n",
    "from sympy.vector import CoordSys3D, gradient, curl, ParametricRegion, vector_integrate, scalar_potential\n",
    "from sympy.integrals.manualintegrate import integral_steps\n",
    "\n",
    "sp.init_printing()\n",
    "\n",
    "# ult functions\n",
    "def reset_symbols():\n",
    "    global x, y, z, a, b, c, d, e, f, g, h, r, s, k, t, u, v, theta, lmda, rho, phi\n",
    "    x, y, z = sp.symbols('x y z', real=True)\n",
    "    a, b, c, d, e, f, g, h, r, s, k, t, u, v = sp.symbols('a b c d e f g h r s k t u v', real=True)\n",
    "    theta = sp.Symbol('theta')\n",
    "    lmda = sp.Symbol('lambda')\n",
    "    rho = sp.Symbol('rho')\n",
    "    phi = sp.Symbol('phi')\n",
    "    \n",
    "\n",
    "reset_symbols()"
   ]
  },
  {
   "cell_type": "code",
   "execution_count": 6,
   "id": "0ad12dcd-e124-4400-a2dc-2799b12a9762",
   "metadata": {},
   "outputs": [
    {
     "data": {
      "image/png": "[encoded data removed]",
      "text/latex": [
       "$\\displaystyle \\left(3\\right)\\mathbf{\\hat{i}_{.}} + \\left(- \\sqrt{3}\\right)\\mathbf{\\hat{k}_{.}}$"
      ],
      "text/plain": [
       "(3) i_. + (-√3) k_."
      ]
     },
     "execution_count": 6,
     "metadata": {},
     "output_type": "execute_result"
    }
   ],
   "source": [
    "C = CoordSys3D('.')\n",
    "\n",
    "alias_dict = {\n",
    "    C.x : theta,\n",
    "    C.y : phi,\n",
    "    C.z : r,\n",
    "}\n",
    "\n",
    "vf = (C.z * sp.cos(C.x) * sp.sin(C.y)) * C.i + (C.z * sp.sin(theta) * sp.sin(phi)) * C.j + (C.z * sp.cos(phi)) * C.k\n",
    "vf = vf.subs(alias_dict)\n",
    "\n",
    "vf.diff(theta).cross(vf.diff(phi)).subs({r: 2, theta:sp.pi, phi:sp.pi/3})"
   ]
  },
  {
   "cell_type": "code",
   "execution_count": 10,
   "id": "da1a3f56-747b-445f-be0a-5ea584715f74",
   "metadata": {},
   "outputs": [
    {
     "data": {
      "image/png": "[encoded data removed]",
      "text/latex": [
       "$\\displaystyle \\left(r \\sin{\\left(\\phi \\right)} \\cos{\\left(\\theta \\right)}\\right)\\mathbf{\\hat{i}_{.}} + \\left(r \\sin{\\left(\\phi \\right)} \\sin{\\left(\\theta \\right)}\\right)\\mathbf{\\hat{j}_{.}} + \\left(r \\cos{\\left(\\phi \\right)}\\right)\\mathbf{\\hat{k}_{.}}$"
      ],
      "text/plain": [
       "(r⋅sin(φ)⋅cos(θ)) i_. + (r⋅sin(φ)⋅sin(θ)) j_. + (r⋅cos(φ)) k_."
      ]
     },
     "execution_count": 10,
     "metadata": {},
     "output_type": "execute_result"
    },
    {
     "data": {
      "image/png": "[encoded data removed]",
      "text/latex": [
       "$\\displaystyle \\left(- r \\sin{\\left(\\phi \\right)} \\sin{\\left(\\theta \\right)}\\right)\\mathbf{\\hat{i}_{.}} + \\left(r \\sin{\\left(\\phi \\right)} \\cos{\\left(\\theta \\right)}\\right)\\mathbf{\\hat{j}_{.}}$"
      ],
      "text/plain": [
       "(-r⋅sin(φ)⋅sin(θ)) i_. + (r⋅sin(φ)⋅cos(θ)) j_."
      ]
     },
     "execution_count": 10,
     "metadata": {},
     "output_type": "execute_result"
    },
    {
     "data": {
      "image/png": "[encoded data removed]",
      "text/latex": [
       "$\\displaystyle \\left(r \\cos{\\left(\\phi \\right)} \\cos{\\left(\\theta \\right)}\\right)\\mathbf{\\hat{i}_{.}} + \\left(r \\sin{\\left(\\theta \\right)} \\cos{\\left(\\phi \\right)}\\right)\\mathbf{\\hat{j}_{.}} + \\left(- r \\sin{\\left(\\phi \\right)}\\right)\\mathbf{\\hat{k}_{.}}$"
      ],
      "text/plain": [
       "(r⋅cos(φ)⋅cos(θ)) i_. + (r⋅sin(θ)⋅cos(φ)) j_. + (-r⋅sin(φ)) k_."
      ]
     },
     "execution_count": 10,
     "metadata": {},
     "output_type": "execute_result"
    },
    {
     "data": {
      "image/png": "[encoded data removed]",
      "text/latex": [
       "$\\displaystyle \\left(- r^{2} \\sin^{2}{\\left(\\phi \\right)} \\cos{\\left(\\theta \\right)}\\right)\\mathbf{\\hat{i}_{.}} + \\left(- r^{2} \\sin^{2}{\\left(\\phi \\right)} \\sin{\\left(\\theta \\right)}\\right)\\mathbf{\\hat{j}_{.}} + \\left(- r^{2} \\sin{\\left(\\phi \\right)} \\sin^{2}{\\left(\\theta \\right)} \\cos{\\left(\\phi \\right)} - r^{2} \\sin{\\left(\\phi \\right)} \\cos{\\left(\\phi \\right)} \\cos^{2}{\\left(\\theta \\right)}\\right)\\mathbf{\\hat{k}_{.}}$"
      ],
      "text/plain": [
       "⎛  2    2          ⎞        ⎛  2    2          ⎞        ⎛   2           2     \n",
       "⎝-r ⋅sin (φ)⋅cos(θ)⎠ i_.  + ⎝-r ⋅sin (φ)⋅sin(θ)⎠ j_.  + ⎝- r ⋅sin(φ)⋅sin (θ)⋅c\n",
       "\n",
       "         2                  2   ⎞     \n",
       "os(φ) - r ⋅sin(φ)⋅cos(φ)⋅cos (θ)⎠ k_. "
      ]
     },
     "execution_count": 10,
     "metadata": {},
     "output_type": "execute_result"
    },
    {
     "data": {
      "image/png": "[encoded data removed]",
      "text/latex": [
       "$\\displaystyle \\left(3\\right)\\mathbf{\\hat{i}_{.}} + \\left(- \\sqrt{3}\\right)\\mathbf{\\hat{k}_{.}}$"
      ],
      "text/plain": [
       "(3) i_. + (-√3) k_."
      ]
     },
     "execution_count": 10,
     "metadata": {},
     "output_type": "execute_result"
    }
   ],
   "source": [
    "C = CoordSys3D('.')\n",
    "\n",
    "vf = (r * sp.cos(theta) * sp.sin(phi)) * C.i + (r * sp.sin(theta) * sp.sin(phi)) * C.j + (r * sp.cos(phi)) * C.k\n",
    "vf\n",
    "\n",
    "vf_dtheta = vf.diff(theta)\n",
    "vf_dphi = vf.diff(phi)\n",
    "\n",
    "vf_dtheta\n",
    "vf_dphi\n",
    "\n",
    "\n",
    "d_delta = vf_dtheta.cross(vf_dphi)\n",
    "d_delta\n",
    "\n",
    "d_delta.subs({r: 2, theta:sp.pi, phi:sp.pi/3})"
   ]
  },
  {
   "cell_type": "code",
   "execution_count": 11,
   "id": "adcbdb39-a4d1-4a8d-b846-c5c7d7443bee",
   "metadata": {},
   "outputs": [
    {
     "data": {
      "image/png": "[encoded data removed]",
      "text/latex": [
       "$\\displaystyle \\left(r \\cos{\\left(\\theta \\right)}\\right)\\mathbf{\\hat{i}_{.}} + \\left(r \\sin{\\left(\\theta \\right)}\\right)\\mathbf{\\hat{j}_{.}} + \\left(z\\right)\\mathbf{\\hat{k}_{.}}$"
      ],
      "text/plain": [
       "(r⋅cos(θ)) i_. + (r⋅sin(θ)) j_. + (z) k_."
      ]
     },
     "execution_count": 11,
     "metadata": {},
     "output_type": "execute_result"
    },
    {
     "data": {
      "image/png": "[encoded data removed]",
      "text/latex": [
       "$\\displaystyle \\left(- r \\sin{\\left(\\theta \\right)}\\right)\\mathbf{\\hat{i}_{.}} + \\left(r \\cos{\\left(\\theta \\right)}\\right)\\mathbf{\\hat{j}_{.}}$"
      ],
      "text/plain": [
       "(-r⋅sin(θ)) i_. + (r⋅cos(θ)) j_."
      ]
     },
     "execution_count": 11,
     "metadata": {},
     "output_type": "execute_result"
    },
    {
     "data": {
      "image/png": "[encoded data removed]",
      "text/latex": [
       "$\\displaystyle \\mathbf{\\hat{k}_{.}}$"
      ],
      "text/plain": [
       "k_."
      ]
     },
     "execution_count": 11,
     "metadata": {},
     "output_type": "execute_result"
    },
    {
     "data": {
      "image/png": "[encoded data removed]",
      "text/latex": [
       "$\\displaystyle \\left(r \\cos{\\left(\\theta \\right)}\\right)\\mathbf{\\hat{i}_{.}} + \\left(r \\sin{\\left(\\theta \\right)}\\right)\\mathbf{\\hat{j}_{.}}$"
      ],
      "text/plain": [
       "(r⋅cos(θ)) i_. + (r⋅sin(θ)) j_."
      ]
     },
     "execution_count": 11,
     "metadata": {},
     "output_type": "execute_result"
    },
    {
     "data": {
      "image/png": "[encoded data removed]",
      "text/latex": [
       "$\\displaystyle \\left(-5\\right)\\mathbf{\\hat{j}_{.}}$"
      ],
      "text/plain": [
       "(-5) j_."
      ]
     },
     "execution_count": 11,
     "metadata": {},
     "output_type": "execute_result"
    }
   ],
   "source": [
    "C = CoordSys3D('.')\n",
    "\n",
    "vf = (r * sp.cos(theta)) * C.i + (r * sp.sin(theta)) * C.j + (z) * C.k\n",
    "vf\n",
    "\n",
    "vf_dtheta = vf.diff(theta)\n",
    "vf_dphi = vf.diff(z)\n",
    "\n",
    "vf_dtheta\n",
    "vf_dphi\n",
    "\n",
    "\n",
    "d_delta = vf_dtheta.cross(vf_dphi)\n",
    "d_delta\n",
    "\n",
    "d_delta.subs({r: 5, theta:3*sp.pi/2, z:1})"
   ]
  },
  {
   "cell_type": "code",
   "execution_count": 12,
   "id": "4fbffcbd-1009-49a6-8fef-b024156d76e3",
   "metadata": {},
   "outputs": [
    {
     "data": {
      "image/png": "[encoded data removed]",
      "text/latex": [
       "$\\displaystyle \\left(- x + 2 y\\right)\\mathbf{\\hat{i}_{.}} + \\left(4 x + 3 y\\right)\\mathbf{\\hat{j}_{.}} + \\left(x - y\\right)\\mathbf{\\hat{k}_{.}}$"
      ],
      "text/plain": [
       "(-x + 2⋅y) i_. + (4⋅x + 3⋅y) j_. + (x - y) k_."
      ]
     },
     "execution_count": 12,
     "metadata": {},
     "output_type": "execute_result"
    },
    {
     "data": {
      "image/png": "[encoded data removed]",
      "text/latex": [
       "$\\displaystyle - \\mathbf{\\hat{i}_{.}} + \\left(4\\right)\\mathbf{\\hat{j}_{.}} + \\mathbf{\\hat{k}_{.}}$"
      ],
      "text/plain": [
       "(-1) i_. + (4) j_. + k_."
      ]
     },
     "execution_count": 12,
     "metadata": {},
     "output_type": "execute_result"
    },
    {
     "data": {
      "image/png": "[encoded data removed]",
      "text/latex": [
       "$\\displaystyle \\left(2\\right)\\mathbf{\\hat{i}_{.}} + \\left(3\\right)\\mathbf{\\hat{j}_{.}} - \\mathbf{\\hat{k}_{.}}$"
      ],
      "text/plain": [
       "(2) i_. + (3) j_. + (-1) k_."
      ]
     },
     "execution_count": 12,
     "metadata": {},
     "output_type": "execute_result"
    },
    {
     "data": {
      "image/png": "[encoded data removed]",
      "text/latex": [
       "$\\displaystyle \\left(-7\\right)\\mathbf{\\hat{i}_{.}} + \\mathbf{\\hat{j}_{.}} + \\left(-11\\right)\\mathbf{\\hat{k}_{.}}$"
      ],
      "text/plain": [
       "(-7) i_. + j_. + (-11) k_."
      ]
     },
     "execution_count": 12,
     "metadata": {},
     "output_type": "execute_result"
    }
   ],
   "source": [
    "C = CoordSys3D('.')\n",
    "\n",
    "vf = (2*y-x) * C.i + (4*x + 3*y) * C.j + (x - y) * C.k\n",
    "vf\n",
    "\n",
    "vf_dtheta = vf.diff(x)\n",
    "vf_dphi = vf.diff(y)\n",
    "\n",
    "vf_dtheta\n",
    "vf_dphi\n",
    "\n",
    "\n",
    "d_delta = vf_dtheta.cross(vf_dphi)\n",
    "d_delta\n",
    "\n",
    "# d_delta.subs({r: 5, theta:3*sp.pi/2, z:1})"
   ]
  },
  {
   "cell_type": "code",
   "execution_count": 13,
   "id": "8171c692-881e-4f09-8c26-d9f13643f5a6",
   "metadata": {},
   "outputs": [
    {
     "data": {
      "image/png": "[encoded data removed]",
      "text/latex": [
       "$\\displaystyle \\left(r \\sin{\\left(\\phi \\right)} \\cos{\\left(\\theta \\right)}\\right)\\mathbf{\\hat{i}_{.}} + \\left(r \\sin{\\left(\\phi \\right)} \\sin{\\left(\\theta \\right)}\\right)\\mathbf{\\hat{j}_{.}} + \\left(r \\cos{\\left(\\phi \\right)}\\right)\\mathbf{\\hat{k}_{.}}$"
      ],
      "text/plain": [
       "(r⋅sin(φ)⋅cos(θ)) i_. + (r⋅sin(φ)⋅sin(θ)) j_. + (r⋅cos(φ)) k_."
      ]
     },
     "execution_count": 13,
     "metadata": {},
     "output_type": "execute_result"
    },
    {
     "data": {
      "image/png": "[encoded data removed]",
      "text/latex": [
       "$\\displaystyle \\mathbf{\\hat{0}}$"
      ],
      "text/plain": [
       "0"
      ]
     },
     "execution_count": 13,
     "metadata": {},
     "output_type": "execute_result"
    },
    {
     "data": {
      "image/png": "[encoded data removed]",
      "text/latex": [
       "$\\displaystyle \\mathbf{\\hat{0}}$"
      ],
      "text/plain": [
       "0"
      ]
     },
     "execution_count": 13,
     "metadata": {},
     "output_type": "execute_result"
    },
    {
     "data": {
      "image/png": "[encoded data removed]",
      "text/latex": [
       "$\\displaystyle \\mathbf{\\hat{0}}$"
      ],
      "text/plain": [
       "0"
      ]
     },
     "execution_count": 13,
     "metadata": {},
     "output_type": "execute_result"
    }
   ],
   "source": [
    "C = CoordSys3D('.')\n",
    "\n",
    "vf = (r*sp.cos(theta) * sp.sin(phi)) * C.i + (r * sp.sin(theta) * sp.sin(phi)) * C.j + (r * sp.cos(phi)) * C.k\n",
    "vf\n",
    "\n",
    "vf_dtheta = vf.diff(x)\n",
    "vf_dphi = vf.diff(y)\n",
    "\n",
    "vf_dtheta\n",
    "vf_dphi\n",
    "\n",
    "\n",
    "d_delta = vf_dtheta.cross(vf_dphi)\n",
    "d_delta\n",
    "\n",
    "# d_delta.subs({r: 5, theta:3*sp.pi/2, z:1})"
   ]
  },
  {
   "cell_type": "code",
   "execution_count": null,
   "id": "a204d6fe-2f75-4047-80b6-7a24fc28cf14",
   "metadata": {},
   "outputs": [],
   "source": []
  }
 ],
 "metadata": {
  "kernelspec": {
   "display_name": "Math",
   "language": "python",
   "name": "math"
  },
  "language_info": {
   "codemirror_mode": {
    "name": "ipython",
    "version": 3
   },
   "file_extension": ".py",
   "mimetype": "text/x-python",
   "name": "python",
   "nbconvert_exporter": "python",
   "pygments_lexer": "ipython3",
   "version": "3.8.13"
  }
 },
 "nbformat": 4,
 "nbformat_minor": 5
}
