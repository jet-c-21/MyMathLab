{
 "cells": [
  {
   "cell_type": "code",
   "execution_count": 1,
   "id": "bbc41f99-9f40-4729-9aec-aaa7f464f60d",
   "metadata": {},
   "outputs": [
    {
     "name": "stdout",
     "output_type": "stream",
     "text": [
      "Added D:\\Dev\\Code\\MyMathLab to PATH\n"
     ]
    }
   ],
   "source": [
    "from IPython.core.interactiveshell import InteractiveShell\n",
    "InteractiveShell.ast_node_interactivity = 'all'\n",
    "\n",
    "# import self-made module\n",
    "import os, sys, pathlib\n",
    "file_path = os.path.abspath('')\n",
    "PROJECT_DIR = str(pathlib.Path(file_path).parent)\n",
    "sys.path.append(PROJECT_DIR)\n",
    "print(f\"Added {PROJECT_DIR} to PATH\")\n",
    "from athena import *\n",
    "from sympy.vector import CoordSys3D, Del, gradient, divergence, curl, ParametricRegion, vector_integrate, scalar_potential\n",
    "from sympy.integrals.manualintegrate import integral_steps\n",
    "\n",
    "sp.init_printing()\n",
    "\n",
    "# ult functions\n",
    "def reset_symbols():\n",
    "    global x, y, z, a, b, c, d, e, f, g, h, r, s, k, t, u, v, theta, lmda, rho, phi\n",
    "    x, y, z = sp.symbols('x y z', real=True)\n",
    "    a, b, c, d, e, f, g, h, r, s, k, t, u, v = sp.symbols('a b c d e f g h r s k t u v', real=True)\n",
    "    theta = sp.Symbol('theta')\n",
    "    lmda = sp.Symbol('lambda')\n",
    "    rho = sp.Symbol('rho')\n",
    "    phi = sp.Symbol('phi')\n",
    "    \n",
    "\n",
    "reset_symbols()"
   ]
  },
  {
   "cell_type": "code",
   "execution_count": null,
   "id": "70155b47-1baf-4017-b79a-04778326412c",
   "metadata": {},
   "outputs": [],
   "source": []
  },
  {
   "cell_type": "code",
   "execution_count": 8,
   "id": "019bd0ff-1d03-467b-870c-8407534899f4",
   "metadata": {},
   "outputs": [
    {
     "data": {
      "image/png": "[encoded data removed]",
      "text/latex": [
       "$\\displaystyle \\left(\\cos{\\left(\\mathbf{{x}_{.}} + \\mathbf{{y}_{.}} \\right)}\\right)\\mathbf{\\hat{i}_{.}} + \\left(\\sin{\\left(\\mathbf{{x}_{.}} \\mathbf{{y}_{.}} \\right)}\\right)\\mathbf{\\hat{j}_{.}}$"
      ],
      "text/plain": [
       "(cos(x_. + y_.)) i_. + (sin(x_.⋅y_.)) j_."
      ]
     },
     "execution_count": 8,
     "metadata": {},
     "output_type": "execute_result"
    },
    {
     "data": {
      "image/png": "[encoded data removed]",
      "text/latex": [
       "$\\displaystyle \\left(1 + \\frac{\\pi}{2}\\right)\\mathbf{\\hat{k}_{.}}$"
      ],
      "text/plain": [
       "⎛    π⎞    \n",
       "⎜1 + ─⎟ k_.\n",
       "⎝    2⎠    "
      ]
     },
     "execution_count": 8,
     "metadata": {},
     "output_type": "execute_result"
    }
   ],
   "source": [
    "C = CoordSys3D('.')\n",
    "vf = (sp.cos(C.x + C.y)) * C.i + (sp.sin(C.x * C.y)) * C.j\n",
    "vf\n",
    "\n",
    "curl(vf, C).subs({C.x:0, C.y:sp.pi/2})"
   ]
  },
  {
   "cell_type": "code",
   "execution_count": 9,
   "id": "cd55f21e-9140-4d8a-b29e-16827431189f",
   "metadata": {},
   "outputs": [
    {
     "data": {
      "image/png": "[encoded data removed]",
      "text/latex": [
       "$\\displaystyle \\left(\\cos{\\left(x + y \\right)}\\right)\\mathbf{\\hat{i}_{.}} + \\left(\\sin{\\left(x y \\right)}\\right)\\mathbf{\\hat{j}_{.}}$"
      ],
      "text/plain": [
       "(cos(x + y)) i_. + (sin(x⋅y)) j_."
      ]
     },
     "execution_count": 9,
     "metadata": {},
     "output_type": "execute_result"
    },
    {
     "data": {
      "image/png": "[encoded data removed]",
      "text/latex": [
       "$\\displaystyle \\mathbf{\\hat{0}}$"
      ],
      "text/plain": [
       "0"
      ]
     },
     "execution_count": 9,
     "metadata": {},
     "output_type": "execute_result"
    }
   ],
   "source": [
    "# C = CoordSys3D('.')\n",
    "# vf = (sp.cos(x + y)) * C.i + (sp.sin(x * y)) * C.j\n",
    "# vf\n",
    "\n",
    "# curl(vf, C)"
   ]
  },
  {
   "cell_type": "code",
   "execution_count": 13,
   "id": "913654d9-9fac-491f-a26a-bdb9c2fedc4a",
   "metadata": {},
   "outputs": [
    {
     "data": {
      "image/png": "[encoded data removed]",
      "text/latex": [
       "$\\displaystyle \\left(\\mathbf{{y}_{.}}^{3} - 9 \\mathbf{{y}_{.}}\\right)\\mathbf{\\hat{i}_{.}} + \\left(\\mathbf{{x}_{.}}^{3} - 9 \\mathbf{{x}_{.}}\\right)\\mathbf{\\hat{j}_{.}}$"
      ],
      "text/plain": [
       "⎛   3        ⎞        ⎛   3        ⎞     \n",
       "⎝y_.  - 9⋅y_.⎠ i_.  + ⎝x_.  - 9⋅x_.⎠ j_. "
      ]
     },
     "execution_count": 13,
     "metadata": {},
     "output_type": "execute_result"
    },
    {
     "data": {
      "image/png": "[encoded data removed]",
      "text/latex": [
       "$\\displaystyle \\left(3 \\mathbf{{x}_{.}}^{2} - 3 \\mathbf{{y}_{.}}^{2}\\right)\\mathbf{\\hat{k}_{.}}$"
      ],
      "text/plain": [
       "⎛     2        2⎞     \n",
       "⎝3⋅x_.  - 3⋅y_. ⎠ k_. "
      ]
     },
     "execution_count": 13,
     "metadata": {},
     "output_type": "execute_result"
    }
   ],
   "source": [
    "C = CoordSys3D('.')\n",
    "vf = (C.y**3 - 9*C.y) * C.i + (C.x**3 - 9*C.x) * C.j\n",
    "vf\n",
    "\n",
    "curl(vf, C)"
   ]
  },
  {
   "cell_type": "code",
   "execution_count": 17,
   "id": "e6f64d5c-7418-49f5-b4c6-e75611608a8c",
   "metadata": {},
   "outputs": [
    {
     "data": {
      "image/png": "[encoded data removed]",
      "text/latex": [
       "$\\displaystyle \\left(\\mathbf{{x}_{.}}^{3} + \\mathbf{{y}_{.}}^{2} + \\mathbf{{z}_{.}}\\right)\\mathbf{\\hat{i}_{.}} + \\left(\\mathbf{{z}_{.}} e^{\\mathbf{{x}_{.}}}\\right)\\mathbf{\\hat{j}_{.}} + \\left(\\mathbf{{x}_{.}} \\mathbf{{y}_{.}} \\mathbf{{z}_{.}} - 9 \\mathbf{{x}_{.}} \\mathbf{{z}_{.}}\\right)\\mathbf{\\hat{k}_{.}}$"
      ],
      "text/plain": [
       "⎛   3      2      ⎞        ⎛     x_.⎞                                     \n",
       "⎝x_.  + y_.  + z_.⎠ i_.  + ⎝z_.⋅ℯ   ⎠ j_.  + (x_.⋅y_.⋅z_. - 9⋅x_.⋅z_.) k_."
      ]
     },
     "execution_count": 17,
     "metadata": {},
     "output_type": "execute_result"
    },
    {
     "data": {
      "image/png": "[encoded data removed]",
      "text/latex": [
       "$\\displaystyle \\left(\\mathbf{{x}_{.}} \\mathbf{{z}_{.}} - e^{\\mathbf{{x}_{.}}}\\right)\\mathbf{\\hat{i}_{.}} + \\left(- \\mathbf{{y}_{.}} \\mathbf{{z}_{.}} + 9 \\mathbf{{z}_{.}} + 1\\right)\\mathbf{\\hat{j}_{.}} + \\left(- 2 \\mathbf{{y}_{.}} + \\mathbf{{z}_{.}} e^{\\mathbf{{x}_{.}}}\\right)\\mathbf{\\hat{k}_{.}}$"
      ],
      "text/plain": [
       "⎛           x_.⎞                                     ⎛              x_.⎞     \n",
       "⎝x_.⋅z_. - ℯ   ⎠ i_.  + (-y_.⋅z_. + 9⋅z_. + 1) j_. + ⎝-2⋅y_. + z_.⋅ℯ   ⎠ k_. "
      ]
     },
     "execution_count": 17,
     "metadata": {},
     "output_type": "execute_result"
    },
    {
     "data": {
      "image/png": "[encoded data removed]",
      "text/latex": [
       "$\\displaystyle - \\mathbf{\\hat{i}_{.}} + \\left(17\\right)\\mathbf{\\hat{j}_{.}}$"
      ],
      "text/plain": [
       "(-1) i_. + (17) j_."
      ]
     },
     "execution_count": 17,
     "metadata": {},
     "output_type": "execute_result"
    },
    {
     "data": {
      "image/png": "[encoded data removed]",
      "text/latex": [
       "$\\displaystyle 8.5146931829632$"
      ],
      "text/plain": [
       "8.51469318296320"
      ]
     },
     "execution_count": 17,
     "metadata": {},
     "output_type": "execute_result"
    }
   ],
   "source": [
    "C = CoordSys3D('.')\n",
    "vf = (C.x ** 3 + C.y ** 2 + C.z) * C.i + (C.z * sp.E ** C.x) * C.j + (C.x * C.y * C.z - 9 * C.x * C.z) * C.k\n",
    "vf\n",
    "\n",
    "curl(vf, C)\n",
    "curl(vf, C).subs({C.x:0, C.y:1, C.z:2})\n",
    "curl(vf, C).subs({C.x:0, C.y:1, C.z:2}).magnitude().evalf() / 2"
   ]
  },
  {
   "cell_type": "code",
   "execution_count": null,
   "id": "6f0b8f39-e2fa-4992-888e-92b901e743fc",
   "metadata": {},
   "outputs": [],
   "source": []
  },
  {
   "cell_type": "code",
   "execution_count": null,
   "id": "dbb0b9b5-836e-477d-ae49-426bf6f6cf81",
   "metadata": {},
   "outputs": [],
   "source": []
  },
  {
   "cell_type": "code",
   "execution_count": null,
   "id": "02223803-2496-4f35-9fdd-44e9c26d0f4f",
   "metadata": {},
   "outputs": [],
   "source": []
  },
  {
   "cell_type": "code",
   "execution_count": 2,
   "id": "6ba061c7-d114-482c-9ce4-8de786f9de76",
   "metadata": {},
   "outputs": [
    {
     "data": {
      "text/latex": [
       "$\\displaystyle \\frac{y}{x + y}$"
      ],
      "text/plain": [
       "y/(x + y)"
      ]
     },
     "execution_count": 2,
     "metadata": {},
     "output_type": "execute_result"
    },
    {
     "data": {
      "text/latex": [
       "$\\displaystyle \\frac{2}{3}$"
      ],
      "text/plain": [
       "2/3"
      ]
     },
     "execution_count": 2,
     "metadata": {},
     "output_type": "execute_result"
    }
   ],
   "source": [
    "p_comp = 5+x\n",
    "q_comp = y*sp.ln(x+y)\n",
    "curl = q_comp.diff(x) - p_comp.diff(y)\n",
    "curl\n",
    "curl.subs({x:4, y:8})"
   ]
  },
  {
   "cell_type": "code",
   "execution_count": 3,
   "id": "dd460bb2-00fe-4427-948c-beceefbefe9e",
   "metadata": {},
   "outputs": [
    {
     "data": {
      "text/latex": [
       "$\\displaystyle - x \\cos{\\left(y \\right)}$"
      ],
      "text/plain": [
       "-x*cos(y)"
      ]
     },
     "execution_count": 3,
     "metadata": {},
     "output_type": "execute_result"
    }
   ],
   "source": [
    "p_comp = x*sp.sin(y)\n",
    "q_comp = (y**2) * (sp.E ** y)\n",
    "curl = q_comp.diff(x) - p_comp.diff(y)\n",
    "curl"
   ]
  },
  {
   "cell_type": "code",
   "execution_count": 4,
   "id": "9a4f8c71-3772-4854-82d2-3fcc2a9eabef",
   "metadata": {},
   "outputs": [
    {
     "data": {
      "text/latex": [
       "$\\displaystyle 4 x y^{4} - x^{1.5}$"
      ],
      "text/plain": [
       "4*x*y**4 - x**1.5"
      ]
     },
     "execution_count": 4,
     "metadata": {},
     "output_type": "execute_result"
    },
    {
     "data": {
      "text/latex": [
       "$\\displaystyle 8.0$"
      ],
      "text/plain": [
       "8.00000000000000"
      ]
     },
     "execution_count": 4,
     "metadata": {},
     "output_type": "execute_result"
    }
   ],
   "source": [
    "p_comp = (x**1.5) * y\n",
    "q_comp = 2*(x**2)*(y**4)\n",
    "curl = q_comp.diff(x) - p_comp.diff(y)\n",
    "curl\n",
    "curl.subs({x:4, y:1})"
   ]
  },
  {
   "cell_type": "code",
   "execution_count": 5,
   "id": "beb86943-0a68-4191-841f-a6d3ef13b97d",
   "metadata": {},
   "outputs": [
    {
     "data": {
      "text/latex": [
       "$\\displaystyle y - 5$"
      ],
      "text/plain": [
       "y - 5"
      ]
     },
     "execution_count": 5,
     "metadata": {},
     "output_type": "execute_result"
    }
   ],
   "source": [
    "p_comp = 5*y+9*x\n",
    "q_comp = y*x + 1\n",
    "curl = q_comp.diff(x) - p_comp.diff(y)\n",
    "curl"
   ]
  },
  {
   "cell_type": "code",
   "execution_count": 6,
   "id": "4e6d1545-5d21-41eb-b9ce-b277e128a09b",
   "metadata": {},
   "outputs": [
    {
     "data": {
      "text/latex": [
       "$\\displaystyle y \\cos{\\left(x y \\right)} + \\sin{\\left(x + y \\right)}$"
      ],
      "text/plain": [
       "y*cos(x*y) + sin(x + y)"
      ]
     },
     "execution_count": 6,
     "metadata": {},
     "output_type": "execute_result"
    },
    {
     "data": {
      "text/latex": [
       "$\\displaystyle 1 + \\frac{\\pi}{2}$"
      ],
      "text/plain": [
       "1 + pi/2"
      ]
     },
     "execution_count": 6,
     "metadata": {},
     "output_type": "execute_result"
    }
   ],
   "source": [
    "p_comp = sp.cos(x+y)\n",
    "q_comp = sp.sin(x*y)\n",
    "curl = q_comp.diff(x) - p_comp.diff(y)\n",
    "curl\n",
    "curl.subs({x:0, y:sp.pi/2})"
   ]
  },
  {
   "cell_type": "code",
   "execution_count": null,
   "id": "9da10d80-2ca5-45f4-be1d-70f2a6df5801",
   "metadata": {},
   "outputs": [],
   "source": []
  },
  {
   "cell_type": "markdown",
   "id": "f50ec833-383e-4d50-8681-869bf1492321",
   "metadata": {},
   "source": [
    "# curl in 3D"
   ]
  },
  {
   "cell_type": "code",
   "execution_count": 15,
   "id": "b214331b-cc77-41b4-a5fe-f96b4c15643d",
   "metadata": {},
   "outputs": [],
   "source": [
    "from sympy.vector import CoordSys3D, curl, Del"
   ]
  },
  {
   "cell_type": "code",
   "execution_count": 16,
   "id": "ed386911-e15f-4922-a50a-10fe75de261c",
   "metadata": {},
   "outputs": [
    {
     "data": {
      "text/latex": [
       "$\\displaystyle \\left(2 \\mathbf{{x}_{R}} - 2 \\mathbf{{y}_{R}}\\right)\\mathbf{\\hat{k}_{R}}$"
      ],
      "text/plain": [
       "(2*R.x - 2*R.y)*R.k"
      ]
     },
     "execution_count": 16,
     "metadata": {},
     "output_type": "execute_result"
    }
   ],
   "source": [
    "R = CoordSys3D('R')\n",
    "v1 = ((R.y**2) * R.i) + ( (R.x**2 - R.y) * R.j) + (0 * R.k)\n",
    "curl(v1, R)"
   ]
  },
  {
   "cell_type": "code",
   "execution_count": null,
   "id": "81be6e22-6917-4384-bd94-1c5c825aa105",
   "metadata": {},
   "outputs": [],
   "source": []
  },
  {
   "cell_type": "code",
   "execution_count": 20,
   "id": "4ac6aed4-7951-4f72-a724-808f7cc7a9b2",
   "metadata": {},
   "outputs": [
    {
     "data": {
      "text/latex": [
       "$\\displaystyle \\left(2 \\mathbf{{x}_{R}} - 2 \\mathbf{{y}_{R}}\\right)\\mathbf{\\hat{k}_{R}}$"
      ],
      "text/plain": [
       "(2*R.x - 2*R.y)*R.k"
      ]
     },
     "execution_count": 20,
     "metadata": {},
     "output_type": "execute_result"
    }
   ],
   "source": [
    "R = CoordSys3D('R')\n",
    "v1 = ((R.y**2) * R.i) + ( (R.x**2 - R.y) * R.j) + (0 * R.k)\n",
    "curl(v1, R)"
   ]
  },
  {
   "cell_type": "code",
   "execution_count": 21,
   "id": "0ee407f7-43c4-4e31-b0d0-68e888d07d4f",
   "metadata": {},
   "outputs": [
    {
     "data": {
      "text/latex": [
       "$\\displaystyle \\left(\\cos{\\left(\\mathbf{{z}_{r}} \\right)}\\right)\\mathbf{\\hat{i}_{r}} + \\left(\\sin{\\left(\\mathbf{{x}_{r}} + \\mathbf{{y}_{r}} \\right)}\\right)\\mathbf{\\hat{j}_{r}} + \\left(\\mathbf{{x}_{r}}\\right)\\mathbf{\\hat{k}_{r}}$"
      ],
      "text/plain": [
       "(cos(r.z))*r.i + (sin(r.x + r.y))*r.j + r.x*r.k"
      ]
     },
     "execution_count": 21,
     "metadata": {},
     "output_type": "execute_result"
    },
    {
     "data": {
      "text/latex": [
       "$\\displaystyle \\left(- \\sin{\\left(\\mathbf{{z}_{r}} \\right)} - 1\\right)\\mathbf{\\hat{j}_{r}} + \\left(\\cos{\\left(\\mathbf{{x}_{r}} + \\mathbf{{y}_{r}} \\right)}\\right)\\mathbf{\\hat{k}_{r}}$"
      ],
      "text/plain": [
       "(-sin(r.z) - 1)*r.j + (cos(r.x + r.y))*r.k"
      ]
     },
     "execution_count": 21,
     "metadata": {},
     "output_type": "execute_result"
    }
   ],
   "source": [
    "R = CoordSys3D('r')\n",
    "\n",
    "p_comp = sp.cos(R.z)\n",
    "q_comp = sp.sin(R.x + R.y)\n",
    "r_comp = R.x\n",
    "\n",
    "f = ((p_comp) * R.i) + ((q_comp) * R.j) + ((r_comp) * R.k)\n",
    "f\n",
    "\n",
    "curl(f, R)"
   ]
  },
  {
   "cell_type": "code",
   "execution_count": 22,
   "id": "f9990404-122b-4200-af63-ffd472d35470",
   "metadata": {},
   "outputs": [
    {
     "data": {
      "text/latex": [
       "$\\displaystyle \\left(\\mathbf{{x}_{r}} + \\mathbf{{y}_{r}} - \\mathbf{{z}_{r}}\\right)\\mathbf{\\hat{i}_{r}} + \\left(- 4 \\mathbf{{x}_{r}}\\right)\\mathbf{\\hat{j}_{r}} + \\left(2 \\mathbf{{y}_{r}} + \\mathbf{{z}_{r}}\\right)\\mathbf{\\hat{k}_{r}}$"
      ],
      "text/plain": [
       "(r.x + r.y - r.z)*r.i + (-4*r.x)*r.j + (2*r.y + r.z)*r.k"
      ]
     },
     "execution_count": 22,
     "metadata": {},
     "output_type": "execute_result"
    },
    {
     "data": {
      "text/latex": [
       "$\\displaystyle \\left(2\\right)\\mathbf{\\hat{i}_{r}} - \\mathbf{\\hat{j}_{r}} + \\left(-5\\right)\\mathbf{\\hat{k}_{r}}$"
      ],
      "text/plain": [
       "2*r.i + (-1)*r.j + (-5)*r.k"
      ]
     },
     "execution_count": 22,
     "metadata": {},
     "output_type": "execute_result"
    }
   ],
   "source": [
    "R = CoordSys3D('r')\n",
    "\n",
    "p_comp = R.x + R.y - R.z\n",
    "q_comp = -4 * R.x\n",
    "r_comp = 2*R.y + R.z\n",
    "\n",
    "f = ((p_comp) * R.i) + ((q_comp) * R.j) + ((r_comp) * R.k)\n",
    "f\n",
    "\n",
    "curl(f, R)"
   ]
  },
  {
   "cell_type": "code",
   "execution_count": null,
   "id": "1554de14-dccf-4a45-bb45-083345108640",
   "metadata": {},
   "outputs": [],
   "source": []
  },
  {
   "cell_type": "code",
   "execution_count": 23,
   "id": "dc4f355c-880d-4abe-9670-767acd8cabeb",
   "metadata": {},
   "outputs": [
    {
     "data": {
      "text/latex": [
       "$\\displaystyle \\left(\\mathbf{{x}_{r}}^{4} - \\mathbf{{y}_{r}}^{2}\\right)\\mathbf{\\hat{i}_{r}} + \\left(3 \\mathbf{{x}_{r}}^{4} + \\mathbf{{z}_{r}}^{2}\\right)\\mathbf{\\hat{j}_{r}} + \\left(2 \\mathbf{{y}_{r}}^{2} + 2\\right)\\mathbf{\\hat{k}_{r}}$"
      ],
      "text/plain": [
       "(r.x**4 - r.y**2)*r.i + (3*r.x**4 + r.z**2)*r.j + (2*r.y**2 + 2)*r.k"
      ]
     },
     "execution_count": 23,
     "metadata": {},
     "output_type": "execute_result"
    },
    {
     "data": {
      "text/latex": [
       "$\\displaystyle \\left(4 \\mathbf{{y}_{r}} - 2 \\mathbf{{z}_{r}}\\right)\\mathbf{\\hat{i}_{r}} + \\left(12 \\mathbf{{x}_{r}}^{3} + 2 \\mathbf{{y}_{r}}\\right)\\mathbf{\\hat{k}_{r}}$"
      ],
      "text/plain": [
       "(4*r.y - 2*r.z)*r.i + (12*r.x**3 + 2*r.y)*r.k"
      ]
     },
     "execution_count": 23,
     "metadata": {},
     "output_type": "execute_result"
    }
   ],
   "source": [
    "R = CoordSys3D('r')\n",
    "\n",
    "p_comp = R.x ** 4 - R.y ** 2\n",
    "q_comp = R.z**2 + 3 * R.x ** 4\n",
    "r_comp = 2*R.y**2 + 2\n",
    "\n",
    "f = ((p_comp) * R.i) + ((q_comp) * R.j) + ((r_comp) * R.k)\n",
    "f\n",
    "\n",
    "curl(f, R)"
   ]
  },
  {
   "cell_type": "code",
   "execution_count": 26,
   "id": "e4e023bb-30fc-48e4-b504-4f3ccad38ec7",
   "metadata": {},
   "outputs": [
    {
     "data": {
      "text/latex": [
       "$\\displaystyle \\left(\\mathbf{{x}_{c}}^{3} + \\mathbf{{y}_{c}}^{2} + \\mathbf{{z}_{c}}\\right)\\mathbf{\\hat{i}_{c}} + \\left(\\mathbf{{z}_{c}} e^{\\mathbf{{x}_{c}}}\\right)\\mathbf{\\hat{j}_{c}} + \\left(\\mathbf{{x}_{c}} \\mathbf{{y}_{c}} \\mathbf{{z}_{c}} - 9 \\mathbf{{x}_{c}} \\mathbf{{z}_{c}}\\right)\\mathbf{\\hat{k}_{c}}$"
      ],
      "text/plain": [
       "(c.x**3 + c.y**2 + c.z)*c.i + (c.z*exp(c.x))*c.j + (c.x*c.y*c.z - 9*c.x*c.z)*c.k"
      ]
     },
     "execution_count": 26,
     "metadata": {},
     "output_type": "execute_result"
    },
    {
     "data": {
      "text/latex": [
       "$\\displaystyle \\left(\\mathbf{{x}_{c}} \\mathbf{{z}_{c}} - e^{\\mathbf{{x}_{c}}}\\right)\\mathbf{\\hat{i}_{c}} + \\left(- \\mathbf{{y}_{c}} \\mathbf{{z}_{c}} + 9 \\mathbf{{z}_{c}} + 1\\right)\\mathbf{\\hat{j}_{c}} + \\left(- 2 \\mathbf{{y}_{c}} + \\mathbf{{z}_{c}} e^{\\mathbf{{x}_{c}}}\\right)\\mathbf{\\hat{k}_{c}}$"
      ],
      "text/plain": [
       "(c.x*c.z - exp(c.x))*c.i + (-c.y*c.z + 9*c.z + 1)*c.j + (-2*c.y + c.z*exp(c.x))*c.k"
      ]
     },
     "execution_count": 26,
     "metadata": {},
     "output_type": "execute_result"
    },
    {
     "data": {
      "text/latex": [
       "$\\displaystyle - \\mathbf{\\hat{i}_{c}} + \\left(17\\right)\\mathbf{\\hat{j}_{c}}$"
      ],
      "text/plain": [
       "(-1)*c.i + 17*c.j"
      ]
     },
     "execution_count": 26,
     "metadata": {},
     "output_type": "execute_result"
    }
   ],
   "source": [
    "C = CoordSys3D('c')\n",
    "\n",
    "p_comp = C.x ** 3 + C.y ** 2 + C.z\n",
    "q_comp = C.z * (sp.E ** C.x)\n",
    "r_comp = C.x * C.y * C.z - 9 * C.x * C.z\n",
    "\n",
    "f = ((p_comp) * C.i) + ((q_comp) * C.j) + ((r_comp) * C.k)\n",
    "f\n",
    "\n",
    "curl(f, C)\n",
    "curl(f, C).subs({C.x:0, C.y:1, C.z:2})"
   ]
  },
  {
   "cell_type": "code",
   "execution_count": null,
   "id": "fbd9efcd-4a0a-48d5-aa77-dc1afb4bd509",
   "metadata": {},
   "outputs": [],
   "source": []
  }
 ],
 "metadata": {
  "kernelspec": {
   "display_name": "Math",
   "language": "python",
   "name": "math"
  },
  "language_info": {
   "codemirror_mode": {
    "name": "ipython",
    "version": 3
   },
   "file_extension": ".py",
   "mimetype": "text/x-python",
   "name": "python",
   "nbconvert_exporter": "python",
   "pygments_lexer": "ipython3",
   "version": "3.8.13"
  }
 },
 "nbformat": 4,
 "nbformat_minor": 5
}
