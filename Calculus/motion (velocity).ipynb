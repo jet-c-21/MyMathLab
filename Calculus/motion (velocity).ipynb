{
 "cells": [
  {
   "cell_type": "code",
   "execution_count": 1,
   "id": "f325db58-4508-4a81-a0b6-205b6eea05ff",
   "metadata": {},
   "outputs": [
    {
     "name": "stdout",
     "output_type": "stream",
     "text": [
      "Added D:\\Dev\\MyMathLab to PATH\n"
     ]
    }
   ],
   "source": [
    "from IPython.core.interactiveshell import InteractiveShell\n",
    "InteractiveShell.ast_node_interactivity = 'all'\n",
    "\n",
    "# import self-made module\n",
    "import os, sys, pathlib\n",
    "file_path = os.path.abspath('')\n",
    "PROJECT_DIR = str(pathlib.Path(file_path).parent)\n",
    "sys.path.append(PROJECT_DIR)\n",
    "print(f\"Added {PROJECT_DIR} to PATH\")\n",
    "from athena import *\n",
    "from sympy.vector import CoordSys3D, gradient, curl\n",
    "\n",
    "sp.init_printing()\n",
    "\n",
    "# ult functions\n",
    "def reset_symbols():\n",
    "    global x, y, z, a, b, c, d, e, f, g, h, s, k, t, theta, lmda\n",
    "    x, y, z = sp.symbols('x y z', real=True)\n",
    "    a, b, c, d, e, f, g, h, s, k, t = sp.symbols('a b c d e f g h s k t', real=True)\n",
    "    theta = sp.Symbol('theta')\n",
    "    lmda = sp.Symbol('lambda')\n",
    "\n",
    "reset_symbols()"
   ]
  },
  {
   "cell_type": "markdown",
   "id": "640763b5-2093-463a-ab54-4280a45e044a",
   "metadata": {},
   "source": [
    "# Vector Value Function as Matrix"
   ]
  },
  {
   "cell_type": "code",
   "execution_count": 2,
   "id": "07e3a877-8f33-45fd-8a36-529f83dc9e37",
   "metadata": {},
   "outputs": [
    {
     "data": {
      "text/latex": [
       "$\\displaystyle \\left[\\begin{matrix}t^{2} - 1\\\\t^{4} - 2 t^{3}\\end{matrix}\\right]$"
      ],
      "text/plain": [
       "⎡  2      ⎤\n",
       "⎢ t  - 1  ⎥\n",
       "⎢         ⎥\n",
       "⎢ 4      3⎥\n",
       "⎣t  - 2⋅t ⎦"
      ]
     },
     "execution_count": 2,
     "metadata": {},
     "output_type": "execute_result"
    },
    {
     "data": {
      "text/latex": [
       "$\\displaystyle \\left[\\begin{matrix}2\\\\-2\\end{matrix}\\right]$"
      ],
      "text/plain": [
       "⎡2 ⎤\n",
       "⎢  ⎥\n",
       "⎣-2⎦"
      ]
     },
     "execution_count": 2,
     "metadata": {},
     "output_type": "execute_result"
    }
   ],
   "source": [
    "r = sp.Matrix([t**2 - 1, t**4 - 2*t**3])\n",
    "r\n",
    "vv = r.diff(t)\n",
    "vv.subs({t:1})"
   ]
  },
  {
   "cell_type": "code",
   "execution_count": 3,
   "id": "9cf406bd-c9a4-4d20-8b74-440c101830a1",
   "metadata": {},
   "outputs": [
    {
     "data": {
      "text/latex": [
       "$\\displaystyle \\left[\\begin{matrix}t^{3} - 4 t\\\\t^{4} - 2 t^{2}\\end{matrix}\\right]$"
      ],
      "text/plain": [
       "⎡ 3       ⎤\n",
       "⎢t  - 4⋅t ⎥\n",
       "⎢         ⎥\n",
       "⎢ 4      2⎥\n",
       "⎣t  - 2⋅t ⎦"
      ]
     },
     "execution_count": 3,
     "metadata": {},
     "output_type": "execute_result"
    },
    {
     "data": {
      "text/latex": [
       "$\\displaystyle \\left[\\begin{matrix}-1\\\\0\\end{matrix}\\right]$"
      ],
      "text/plain": [
       "⎡-1⎤\n",
       "⎢  ⎥\n",
       "⎣0 ⎦"
      ]
     },
     "execution_count": 3,
     "metadata": {},
     "output_type": "execute_result"
    }
   ],
   "source": [
    "r = sp.Matrix([t**3 - 4*t, t**4 - 2*t**2])\n",
    "r\n",
    "vv = r.diff(t)\n",
    "vv.subs({t:1})"
   ]
  },
  {
   "cell_type": "markdown",
   "id": "9402e33f-036a-4448-a358-82d446b76272",
   "metadata": {},
   "source": [
    "# Vector"
   ]
  },
  {
   "cell_type": "code",
   "execution_count": 4,
   "id": "0ba04be9-5372-45f2-a530-957f93f6b77f",
   "metadata": {},
   "outputs": [
    {
     "data": {
      "image/png": "[encoded data removed]",
      "text/latex": [
       "$\\displaystyle \\sqrt{73}$"
      ],
      "text/plain": [
       "√73"
      ]
     },
     "execution_count": 4,
     "metadata": {},
     "output_type": "execute_result"
    }
   ],
   "source": [
    "C = CoordSys3D('.')\n",
    "\n",
    "v = (2*t**2+6)*C.i + (-t**2+t)*C.j\n",
    "\n",
    "vv = v.diff(t)\n",
    "\n",
    "vv.magnitude().subs({t:2})"
   ]
  },
  {
   "cell_type": "code",
   "execution_count": 5,
   "id": "2229415a-5bd7-4b98-a076-72ca1791a388",
   "metadata": {},
   "outputs": [
    {
     "data": {
      "image/png": "[encoded data removed]",
      "text/latex": [
       "$\\displaystyle \\left(2 \\cdot \\left(4 - 9 t\\right)\\right)\\mathbf{\\hat{i}_{.}} + \\left(6 t\\right)\\mathbf{\\hat{j}_{.}}$"
      ],
      "text/plain": [
       "(2⋅(4 - 9⋅t)) i_. + (6⋅t) j_."
      ]
     },
     "execution_count": 5,
     "metadata": {},
     "output_type": "execute_result"
    },
    {
     "data": {
      "image/png": "[encoded data removed]",
      "text/latex": [
       "$\\displaystyle \\left(-46\\right)\\mathbf{\\hat{i}_{.}} + \\left(18\\right)\\mathbf{\\hat{j}_{.}}$"
      ],
      "text/plain": [
       "(-46) i_. + (18) j_."
      ]
     },
     "execution_count": 5,
     "metadata": {},
     "output_type": "execute_result"
    }
   ],
   "source": [
    "C = CoordSys3D('.')\n",
    "\n",
    "v = (-3*t**3 + 4*t**2) * C.i + (t**3+2) * C.j\n",
    "\n",
    "vv = v.diff(t,t)\n",
    "vv\n",
    "vv.subs({t:3})\n",
    "# vv.magnitude().subs({t:3})"
   ]
  },
  {
   "cell_type": "markdown",
   "id": "e346f198-00f1-4ed4-8d09-1b05766aff45",
   "metadata": {},
   "source": [
    "# find dy/dt of Curve"
   ]
  },
  {
   "cell_type": "code",
   "execution_count": 24,
   "id": "a251b413-26c1-4439-bcbe-88bb9f758f7f",
   "metadata": {},
   "outputs": [
    {
     "data": {
      "image/png": "[encoded data removed]",
      "text/latex": [
       "$\\displaystyle x^{2}{\\left(t \\right)} y^{2}{\\left(t \\right)} - 16$"
      ],
      "text/plain": [
       " 2     2        \n",
       "x (t)⋅y (t) - 16"
      ]
     },
     "execution_count": 24,
     "metadata": {},
     "output_type": "execute_result"
    },
    {
     "data": {
      "image/png": "[encoded data removed]",
      "text/latex": [
       "$\\displaystyle 2 x^{2}{\\left(t \\right)} y{\\left(t \\right)} \\frac{d}{d t} y{\\left(t \\right)} + 2 x{\\left(t \\right)} y^{2}{\\left(t \\right)} \\frac{d}{d t} x{\\left(t \\right)}$"
      ],
      "text/plain": [
       "   2         d                  2    d       \n",
       "2⋅x (t)⋅y(t)⋅──(y(t)) + 2⋅x(t)⋅y (t)⋅──(x(t))\n",
       "             dt                      dt      "
      ]
     },
     "execution_count": 24,
     "metadata": {},
     "output_type": "execute_result"
    },
    {
     "data": {
      "image/png": "[encoded data removed]",
      "text/latex": [
       "$\\displaystyle \\frac{d}{d t} y{\\left(t \\right)} = - \\frac{y{\\left(t \\right)} \\frac{d}{d t} x{\\left(t \\right)}}{x{\\left(t \\right)}}$"
      ],
      "text/plain": [
       "                 d        \n",
       "           -y(t)⋅──(x(t)) \n",
       "d                dt       \n",
       "──(y(t)) = ───────────────\n",
       "dt               x(t)     "
      ]
     },
     "execution_count": 24,
     "metadata": {},
     "output_type": "execute_result"
    },
    {
     "data": {
      "image/png": "[encoded data removed]",
      "text/latex": [
       "$\\displaystyle 8$"
      ],
      "text/plain": [
       "8"
      ]
     },
     "execution_count": 24,
     "metadata": {},
     "output_type": "execute_result"
    }
   ],
   "source": [
    "x_f = sp.Function('x')(t)\n",
    "y_f = sp.Function('y')(t)\n",
    "\n",
    "curve = x_f**2 * y_f**2 -16\n",
    "curve\n",
    "\n",
    "curve_dt = curve.diff(t)\n",
    "curve_dt \n",
    "\n",
    "# find dy/dt\n",
    "dy_dt = sp.Derivative(y_f, t)\n",
    "dx_dt = sp.Derivative(x_f, t)\n",
    "eq = sp.Eq(dy_dt, sp.solve(curve_dt, dy_dt)[0])\n",
    "eq\n",
    "\n",
    "eq.rhs.subs(dx_dt, -2).subs({x_f:1, y_f:4})"
   ]
  },
  {
   "cell_type": "code",
   "execution_count": null,
   "id": "365b04a3-cfeb-4728-9c94-080047fb8a01",
   "metadata": {},
   "outputs": [],
   "source": []
  },
  {
   "cell_type": "code",
   "execution_count": null,
   "id": "a3df9952-d8bf-4979-8bed-3a461a867433",
   "metadata": {},
   "outputs": [],
   "source": []
  },
  {
   "cell_type": "code",
   "execution_count": null,
   "id": "5943900b-1340-40fe-aa98-17979aaf6c2d",
   "metadata": {},
   "outputs": [],
   "source": []
  },
  {
   "cell_type": "code",
   "execution_count": null,
   "id": "1d251390-4698-4f50-9bf7-04e8ef3998b2",
   "metadata": {},
   "outputs": [],
   "source": []
  }
 ],
 "metadata": {
  "kernelspec": {
   "display_name": "Math",
   "language": "python",
   "name": "math"
  },
  "language_info": {
   "codemirror_mode": {
    "name": "ipython",
    "version": 3
   },
   "file_extension": ".py",
   "mimetype": "text/x-python",
   "name": "python",
   "nbconvert_exporter": "python",
   "pygments_lexer": "ipython3",
   "version": "3.8.13"
  }
 },
 "nbformat": 4,
 "nbformat_minor": 5
}
