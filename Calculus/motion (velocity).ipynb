{
 "cells": [
  {
   "cell_type": "code",
   "execution_count": 1,
   "id": "f325db58-4508-4a81-a0b6-205b6eea05ff",
   "metadata": {},
   "outputs": [
    {
     "name": "stdout",
     "output_type": "stream",
     "text": [
      "Added D:\\Dev\\MyMathLab to PATH\n"
     ]
    }
   ],
   "source": [
    "from IPython.core.interactiveshell import InteractiveShell\n",
    "InteractiveShell.ast_node_interactivity = 'all'\n",
    "\n",
    "# import self-made module\n",
    "import os, sys, pathlib\n",
    "file_path = os.path.abspath('')\n",
    "PROJECT_DIR = str(pathlib.Path(file_path).parent)\n",
    "sys.path.append(PROJECT_DIR)\n",
    "print(f\"Added {PROJECT_DIR} to PATH\")\n",
    "from athena import *\n",
    "from sympy.vector import CoordSys3D, gradient, curl\n",
    "\n",
    "sp.init_printing()\n",
    "\n",
    "# ult functions\n",
    "def reset_symbols():\n",
    "    global x, y, z, a, b, c, d, e, f, g, h, s, k, t, theta, lmda\n",
    "    x, y, z = sp.symbols('x y z', real=True)\n",
    "    a, b, c, d, e, f, g, h, s, k, t = sp.symbols('a b c d e f g h s k t', real=True)\n",
    "    theta = sp.Symbol('theta')\n",
    "    lmda = sp.Symbol('lambda')\n",
    "\n",
    "reset_symbols()"
   ]
  },
  {
   "cell_type": "markdown",
   "id": "640763b5-2093-463a-ab54-4280a45e044a",
   "metadata": {},
   "source": [
    "# Vector Value Function as Matrix"
   ]
  },
  {
   "cell_type": "code",
   "execution_count": 2,
   "id": "07e3a877-8f33-45fd-8a36-529f83dc9e37",
   "metadata": {},
   "outputs": [
    {
     "data": {
      "text/latex": [
       "$\\displaystyle \\left[\\begin{matrix}t^{2} - 1\\\\t^{4} - 2 t^{3}\\end{matrix}\\right]$"
      ],
      "text/plain": [
       "⎡  2      ⎤\n",
       "⎢ t  - 1  ⎥\n",
       "⎢         ⎥\n",
       "⎢ 4      3⎥\n",
       "⎣t  - 2⋅t ⎦"
      ]
     },
     "execution_count": 2,
     "metadata": {},
     "output_type": "execute_result"
    },
    {
     "data": {
      "text/latex": [
       "$\\displaystyle \\left[\\begin{matrix}2\\\\-2\\end{matrix}\\right]$"
      ],
      "text/plain": [
       "⎡2 ⎤\n",
       "⎢  ⎥\n",
       "⎣-2⎦"
      ]
     },
     "execution_count": 2,
     "metadata": {},
     "output_type": "execute_result"
    }
   ],
   "source": [
    "r = sp.Matrix([t**2 - 1, t**4 - 2*t**3])\n",
    "r\n",
    "vv = r.diff(t)\n",
    "vv.subs({t:1})"
   ]
  },
  {
   "cell_type": "code",
   "execution_count": 3,
   "id": "9cf406bd-c9a4-4d20-8b74-440c101830a1",
   "metadata": {},
   "outputs": [
    {
     "data": {
      "text/latex": [
       "$\\displaystyle \\left[\\begin{matrix}t^{3} - 4 t\\\\t^{4} - 2 t^{2}\\end{matrix}\\right]$"
      ],
      "text/plain": [
       "⎡ 3       ⎤\n",
       "⎢t  - 4⋅t ⎥\n",
       "⎢         ⎥\n",
       "⎢ 4      2⎥\n",
       "⎣t  - 2⋅t ⎦"
      ]
     },
     "execution_count": 3,
     "metadata": {},
     "output_type": "execute_result"
    },
    {
     "data": {
      "text/latex": [
       "$\\displaystyle \\left[\\begin{matrix}-1\\\\0\\end{matrix}\\right]$"
      ],
      "text/plain": [
       "⎡-1⎤\n",
       "⎢  ⎥\n",
       "⎣0 ⎦"
      ]
     },
     "execution_count": 3,
     "metadata": {},
     "output_type": "execute_result"
    }
   ],
   "source": [
    "r = sp.Matrix([t**3 - 4*t, t**4 - 2*t**2])\n",
    "r\n",
    "vv = r.diff(t)\n",
    "vv.subs({t:1})"
   ]
  },
  {
   "cell_type": "markdown",
   "id": "9402e33f-036a-4448-a358-82d446b76272",
   "metadata": {},
   "source": [
    "# Vector"
   ]
  },
  {
   "cell_type": "code",
   "execution_count": 4,
   "id": "0ba04be9-5372-45f2-a530-957f93f6b77f",
   "metadata": {},
   "outputs": [
    {
     "data": {
      "image/png": "[encoded data removed]",
      "text/latex": [
       "$\\displaystyle \\sqrt{73}$"
      ],
      "text/plain": [
       "√73"
      ]
     },
     "execution_count": 4,
     "metadata": {},
     "output_type": "execute_result"
    }
   ],
   "source": [
    "C = CoordSys3D('.')\n",
    "\n",
    "v = (2*t**2+6)*C.i + (-t**2+t)*C.j\n",
    "\n",
    "vv = v.diff(t)\n",
    "\n",
    "vv.magnitude().subs({t:2})"
   ]
  },
  {
   "cell_type": "code",
   "execution_count": 5,
   "id": "2229415a-5bd7-4b98-a076-72ca1791a388",
   "metadata": {},
   "outputs": [
    {
     "data": {
      "image/png": "[encoded data removed]",
      "text/latex": [
       "$\\displaystyle \\left(2 \\cdot \\left(4 - 9 t\\right)\\right)\\mathbf{\\hat{i}_{.}} + \\left(6 t\\right)\\mathbf{\\hat{j}_{.}}$"
      ],
      "text/plain": [
       "(2⋅(4 - 9⋅t)) i_. + (6⋅t) j_."
      ]
     },
     "execution_count": 5,
     "metadata": {},
     "output_type": "execute_result"
    },
    {
     "data": {
      "image/png": "[encoded data removed]",
      "text/latex": [
       "$\\displaystyle \\left(-46\\right)\\mathbf{\\hat{i}_{.}} + \\left(18\\right)\\mathbf{\\hat{j}_{.}}$"
      ],
      "text/plain": [
       "(-46) i_. + (18) j_."
      ]
     },
     "execution_count": 5,
     "metadata": {},
     "output_type": "execute_result"
    }
   ],
   "source": [
    "C = CoordSys3D('.')\n",
    "\n",
    "v = (-3*t**3 + 4*t**2) * C.i + (t**3+2) * C.j\n",
    "\n",
    "vv = v.diff(t,t)\n",
    "vv\n",
    "vv.subs({t:3})\n",
    "# vv.magnitude().subs({t:3})"
   ]
  },
  {
   "cell_type": "markdown",
   "id": "e346f198-00f1-4ed4-8d09-1b05766aff45",
   "metadata": {},
   "source": [
    "# find dy/dt of Curve"
   ]
  },
  {
   "cell_type": "code",
   "execution_count": 24,
   "id": "a251b413-26c1-4439-bcbe-88bb9f758f7f",
   "metadata": {},
   "outputs": [
    {
     "data": {
      "image/png": "[encoded data removed]",
      "text/latex": [
       "$\\displaystyle x^{2}{\\left(t \\right)} y^{2}{\\left(t \\right)} - 16$"
      ],
      "text/plain": [
       " 2     2        \n",
       "x (t)⋅y (t) - 16"
      ]
     },
     "execution_count": 24,
     "metadata": {},
     "output_type": "execute_result"
    },
    {
     "data": {
      "image/png": "[encoded data removed]",
      "text/latex": [
       "$\\displaystyle 2 x^{2}{\\left(t \\right)} y{\\left(t \\right)} \\frac{d}{d t} y{\\left(t \\right)} + 2 x{\\left(t \\right)} y^{2}{\\left(t \\right)} \\frac{d}{d t} x{\\left(t \\right)}$"
      ],
      "text/plain": [
       "   2         d                  2    d       \n",
       "2⋅x (t)⋅y(t)⋅──(y(t)) + 2⋅x(t)⋅y (t)⋅──(x(t))\n",
       "             dt                      dt      "
      ]
     },
     "execution_count": 24,
     "metadata": {},
     "output_type": "execute_result"
    },
    {
     "data": {
      "image/png": "[encoded data removed]",
      "text/latex": [
       "$\\displaystyle \\frac{d}{d t} y{\\left(t \\right)} = - \\frac{y{\\left(t \\right)} \\frac{d}{d t} x{\\left(t \\right)}}{x{\\left(t \\right)}}$"
      ],
      "text/plain": [
       "                 d        \n",
       "           -y(t)⋅──(x(t)) \n",
       "d                dt       \n",
       "──(y(t)) = ───────────────\n",
       "dt               x(t)     "
      ]
     },
     "execution_count": 24,
     "metadata": {},
     "output_type": "execute_result"
    },
    {
     "data": {
      "image/png": "[encoded data removed]",
      "text/latex": [
       "$\\displaystyle 8$"
      ],
      "text/plain": [
       "8"
      ]
     },
     "execution_count": 24,
     "metadata": {},
     "output_type": "execute_result"
    }
   ],
   "source": [
    "x_f = sp.Function('x')(t)\n",
    "y_f = sp.Function('y')(t)\n",
    "\n",
    "curve = x_f**2 * y_f**2 -16\n",
    "curve\n",
    "\n",
    "curve_dt = curve.diff(t)\n",
    "curve_dt \n",
    "\n",
    "# find dy/dt\n",
    "dy_dt = sp.Derivative(y_f, t)\n",
    "dx_dt = sp.Derivative(x_f, t)\n",
    "eq = sp.Eq(dy_dt, sp.solve(curve_dt, dy_dt)[0])\n",
    "eq\n",
    "\n",
    "eq.rhs.subs(dx_dt, -2).subs({x_f:1, y_f:4})"
   ]
  },
  {
   "cell_type": "code",
   "execution_count": 38,
   "id": "365b04a3-cfeb-4728-9c94-080047fb8a01",
   "metadata": {},
   "outputs": [
    {
     "data": {
      "image/png": "[encoded data removed]",
      "text/latex": [
       "$\\displaystyle x{\\left(t \\right)} y{\\left(t \\right)} - 16$"
      ],
      "text/plain": [
       "x(t)⋅y(t) - 16"
      ]
     },
     "execution_count": 38,
     "metadata": {},
     "output_type": "execute_result"
    },
    {
     "data": {
      "image/png": "[encoded data removed]",
      "text/latex": [
       "$\\displaystyle x{\\left(t \\right)} \\frac{d}{d t} y{\\left(t \\right)} + y{\\left(t \\right)} \\frac{d}{d t} x{\\left(t \\right)}$"
      ],
      "text/plain": [
       "     d               d       \n",
       "x(t)⋅──(y(t)) + y(t)⋅──(x(t))\n",
       "     dt              dt      "
      ]
     },
     "execution_count": 38,
     "metadata": {},
     "output_type": "execute_result"
    },
    {
     "data": {
      "image/png": "[encoded data removed]",
      "text/latex": [
       "$\\displaystyle dx_{dt} y{\\left(t \\right)} + dy_{dt} x{\\left(t \\right)}$"
      ],
      "text/plain": [
       "dx_dt⋅y(t) + dy_dt⋅x(t)"
      ]
     },
     "execution_count": 38,
     "metadata": {},
     "output_type": "execute_result"
    },
    {
     "data": {
      "image/png": "[encoded data removed]",
      "text/latex": [
       "$\\displaystyle -2$"
      ],
      "text/plain": [
       "-2"
      ]
     },
     "execution_count": 38,
     "metadata": {},
     "output_type": "execute_result"
    },
    {
     "data": {
      "image/png": "[encoded data removed]",
      "text/latex": [
       "$\\displaystyle 2 \\sqrt{2}$"
      ],
      "text/plain": [
       "2⋅√2"
      ]
     },
     "execution_count": 38,
     "metadata": {},
     "output_type": "execute_result"
    }
   ],
   "source": [
    "x_f = sp.Function('x')(t)\n",
    "y_f = sp.Function('y')(t)\n",
    "dy_dt = sp.Derivative(y_f, t)\n",
    "dx_dt = sp.Derivative(x_f, t)\n",
    "dx_dt_symbol, dy_dt_symbol = sp.symbols('dx_dt dy_dt')\n",
    "\n",
    "curve = x_f * y_f - 16\n",
    "curve\n",
    "\n",
    "curve_dt = curve.diff(t)\n",
    "curve_dt\n",
    "\n",
    "# replace dx/dt and dy/dt to symbols\n",
    "curve_dt = curve_dt.subs({dx_dt: dx_dt_symbol, dy_dt: dy_dt_symbol})\n",
    "curve_dt\n",
    "\n",
    "dy_dt_val = 2\n",
    "\n",
    "dx_dt, dy_dt = dx_dt_symbol, dy_dt_symbol\n",
    "curve_dt = curve_dt.subs(\n",
    "    {\n",
    "        dy_dt: dy_dt_val, \n",
    "        x_f:4, \n",
    "        y_f:4,\n",
    "    }\n",
    ")\n",
    "\n",
    "dx_dt_val = sp.solve(curve_dt, dx_dt)[0]\n",
    "dx_dt_val\n",
    "\n",
    "mag_of_vv = sp.sqrt(dx_dt_val**2 + dy_dt_val**2)\n",
    "mag_of_vv"
   ]
  },
  {
   "cell_type": "code",
   "execution_count": null,
   "id": "5943900b-1340-40fe-aa98-17979aaf6c2d",
   "metadata": {},
   "outputs": [],
   "source": []
  },
  {
   "cell_type": "code",
   "execution_count": 41,
   "id": "1d251390-4698-4f50-9bf7-04e8ef3998b2",
   "metadata": {},
   "outputs": [
    {
     "data": {
      "image/png": "[encoded data removed]",
      "text/latex": [
       "$\\displaystyle x^{2}{\\left(t \\right)} y^{2}{\\left(t \\right)} - 16$"
      ],
      "text/plain": [
       " 2     2        \n",
       "x (t)⋅y (t) - 16"
      ]
     },
     "execution_count": 41,
     "metadata": {},
     "output_type": "execute_result"
    },
    {
     "data": {
      "image/png": "[encoded data removed]",
      "text/latex": [
       "$\\displaystyle 2 x^{2}{\\left(t \\right)} y{\\left(t \\right)} \\frac{d}{d t} y{\\left(t \\right)} + 2 x{\\left(t \\right)} y^{2}{\\left(t \\right)} \\frac{d}{d t} x{\\left(t \\right)}$"
      ],
      "text/plain": [
       "   2         d                  2    d       \n",
       "2⋅x (t)⋅y(t)⋅──(y(t)) + 2⋅x(t)⋅y (t)⋅──(x(t))\n",
       "             dt                      dt      "
      ]
     },
     "execution_count": 41,
     "metadata": {},
     "output_type": "execute_result"
    },
    {
     "data": {
      "image/png": "[encoded data removed]",
      "text/latex": [
       "$\\displaystyle 2 dx_{dt} x{\\left(t \\right)} y^{2}{\\left(t \\right)} + 2 dy_{dt} x^{2}{\\left(t \\right)} y{\\left(t \\right)}$"
      ],
      "text/plain": [
       "              2               2        \n",
       "2⋅dx_dt⋅x(t)⋅y (t) + 2⋅dy_dt⋅x (t)⋅y(t)"
      ]
     },
     "execution_count": 41,
     "metadata": {},
     "output_type": "execute_result"
    },
    {
     "data": {
      "image/png": "[encoded data removed]",
      "text/latex": [
       "$\\displaystyle 8$"
      ],
      "text/plain": [
       "8"
      ]
     },
     "execution_count": 41,
     "metadata": {},
     "output_type": "execute_result"
    },
    {
     "data": {
      "image/png": "[encoded data removed]",
      "text/latex": [
       "$\\displaystyle 2 \\sqrt{17}$"
      ],
      "text/plain": [
       "2⋅√17"
      ]
     },
     "execution_count": 41,
     "metadata": {},
     "output_type": "execute_result"
    }
   ],
   "source": [
    "x_f = sp.Function('x')(t)\n",
    "y_f = sp.Function('y')(t)\n",
    "dy_dt = sp.Derivative(y_f, t)\n",
    "dx_dt = sp.Derivative(x_f, t)\n",
    "dx_dt_symbol, dy_dt_symbol = sp.symbols('dx_dt dy_dt')\n",
    "\n",
    "curve = x_f**2 * y_f**2 - 16\n",
    "curve\n",
    "\n",
    "curve_dt = curve.diff(t)\n",
    "curve_dt\n",
    "\n",
    "# replace dx/dt and dy/dt to symbols\n",
    "curve_dt = curve_dt.subs({dx_dt: dx_dt_symbol, dy_dt: dy_dt_symbol})\n",
    "curve_dt\n",
    "\n",
    "dx_dt_val = -2\n",
    "\n",
    "dx_dt, dy_dt = dx_dt_symbol, dy_dt_symbol\n",
    "curve_dt = curve_dt.subs(\n",
    "    {\n",
    "        dx_dt: dx_dt_val, \n",
    "        x_f:1, \n",
    "        y_f:4,\n",
    "    }\n",
    ")\n",
    "\n",
    "dy_dt_val = sp.solve(curve_dt, dy_dt)[0]\n",
    "dy_dt_val\n",
    "\n",
    "mag_of_vv = sp.sqrt(dx_dt_val**2 + dy_dt_val**2)\n",
    "mag_of_vv"
   ]
  },
  {
   "cell_type": "code",
   "execution_count": null,
   "id": "08ade3c1-c0cc-4790-825b-a763b9eaec2c",
   "metadata": {},
   "outputs": [],
   "source": []
  },
  {
   "cell_type": "code",
   "execution_count": 45,
   "id": "7810e669-de34-4b7f-b841-e1a9c0b9f2cb",
   "metadata": {},
   "outputs": [
    {
     "data": {
      "image/png": "[encoded data removed]",
      "text/latex": [
       "$\\displaystyle 2 x^{4}{\\left(t \\right)} + y{\\left(t \\right)} - 10$"
      ],
      "text/plain": [
       "   4               \n",
       "2⋅x (t) + y(t) - 10"
      ]
     },
     "execution_count": 45,
     "metadata": {},
     "output_type": "execute_result"
    },
    {
     "data": {
      "image/png": "[encoded data removed]",
      "text/latex": [
       "$\\displaystyle 8 x^{3}{\\left(t \\right)} \\frac{d}{d t} x{\\left(t \\right)} + \\frac{d}{d t} y{\\left(t \\right)}$"
      ],
      "text/plain": [
       "   3    d          d       \n",
       "8⋅x (t)⋅──(x(t)) + ──(y(t))\n",
       "        dt         dt      "
      ]
     },
     "execution_count": 45,
     "metadata": {},
     "output_type": "execute_result"
    },
    {
     "data": {
      "image/png": "[encoded data removed]",
      "text/latex": [
       "$\\displaystyle 8 dx_{dt} x^{3}{\\left(t \\right)} + dy_{dt}$"
      ],
      "text/plain": [
       "         3           \n",
       "8⋅dx_dt⋅x (t) + dy_dt"
      ]
     },
     "execution_count": 45,
     "metadata": {},
     "output_type": "execute_result"
    },
    {
     "data": {
      "image/png": "[encoded data removed]",
      "text/latex": [
       "$\\displaystyle 4$"
      ],
      "text/plain": [
       "4"
      ]
     },
     "execution_count": 45,
     "metadata": {},
     "output_type": "execute_result"
    },
    {
     "data": {
      "image/png": "[encoded data removed]",
      "text/latex": [
       "$\\displaystyle \\frac{\\sqrt{65}}{2}$"
      ],
      "text/plain": [
       "√65\n",
       "───\n",
       " 2 "
      ]
     },
     "execution_count": 45,
     "metadata": {},
     "output_type": "execute_result"
    }
   ],
   "source": [
    "x_f = sp.Function('x')(t)\n",
    "y_f = sp.Function('y')(t)\n",
    "dy_dt = sp.Derivative(y_f, t)\n",
    "dx_dt = sp.Derivative(x_f, t)\n",
    "dx_dt_symbol, dy_dt_symbol = sp.symbols('dx_dt dy_dt')\n",
    "\n",
    "curve = 2*x_f**4 + y_f-10\n",
    "curve\n",
    "\n",
    "curve_dt = curve.diff(t)\n",
    "curve_dt\n",
    "\n",
    "# replace dx/dt and dy/dt to symbols\n",
    "curve_dt = curve_dt.subs({dx_dt: dx_dt_symbol, dy_dt: dy_dt_symbol})\n",
    "curve_dt\n",
    "\n",
    "dx_dt_val = sp.Number(1) / 2\n",
    "\n",
    "dx_dt, dy_dt = dx_dt_symbol, dy_dt_symbol\n",
    "curve_dt = curve_dt.subs(\n",
    "    {\n",
    "        dx_dt: dx_dt_val, \n",
    "        x_f:-1, \n",
    "        y_f:8,\n",
    "    }\n",
    ")\n",
    "\n",
    "dy_dt_val = sp.solve(curve_dt, dy_dt)[0]\n",
    "dy_dt_val\n",
    "\n",
    "mag_of_vv = sp.sqrt(dx_dt_val**2 + dy_dt_val**2)\n",
    "mag_of_vv"
   ]
  },
  {
   "cell_type": "code",
   "execution_count": null,
   "id": "83e14492-1fa1-4f09-9a39-61a6bb8791f6",
   "metadata": {},
   "outputs": [],
   "source": []
  },
  {
   "cell_type": "code",
   "execution_count": 46,
   "id": "1930c085-11fb-4a10-be74-3363ca599024",
   "metadata": {},
   "outputs": [
    {
     "data": {
      "image/png": "[encoded data removed]",
      "text/latex": [
       "$\\displaystyle x{\\left(t \\right)} y{\\left(t \\right)} - 10$"
      ],
      "text/plain": [
       "x(t)⋅y(t) - 10"
      ]
     },
     "execution_count": 46,
     "metadata": {},
     "output_type": "execute_result"
    },
    {
     "data": {
      "image/png": "[encoded data removed]",
      "text/latex": [
       "$\\displaystyle x{\\left(t \\right)} \\frac{d}{d t} y{\\left(t \\right)} + y{\\left(t \\right)} \\frac{d}{d t} x{\\left(t \\right)}$"
      ],
      "text/plain": [
       "     d               d       \n",
       "x(t)⋅──(y(t)) + y(t)⋅──(x(t))\n",
       "     dt              dt      "
      ]
     },
     "execution_count": 46,
     "metadata": {},
     "output_type": "execute_result"
    },
    {
     "data": {
      "image/png": "[encoded data removed]",
      "text/latex": [
       "$\\displaystyle dx_{dt} y{\\left(t \\right)} + dy_{dt} x{\\left(t \\right)}$"
      ],
      "text/plain": [
       "dx_dt⋅y(t) + dy_dt⋅x(t)"
      ]
     },
     "execution_count": 46,
     "metadata": {},
     "output_type": "execute_result"
    },
    {
     "data": {
      "image/png": "[encoded data removed]",
      "text/latex": [
       "$\\displaystyle - \\frac{6}{5}$"
      ],
      "text/plain": [
       "-6/5"
      ]
     },
     "execution_count": 46,
     "metadata": {},
     "output_type": "execute_result"
    },
    {
     "data": {
      "image/png": "[encoded data removed]",
      "text/latex": [
       "$\\displaystyle \\frac{3 \\sqrt{29}}{5}$"
      ],
      "text/plain": [
       "3⋅√29\n",
       "─────\n",
       "  5  "
      ]
     },
     "execution_count": 46,
     "metadata": {},
     "output_type": "execute_result"
    }
   ],
   "source": [
    "x_f = sp.Function('x')(t)\n",
    "y_f = sp.Function('y')(t)\n",
    "dy_dt = sp.Derivative(y_f, t)\n",
    "dx_dt = sp.Derivative(x_f, t)\n",
    "dx_dt_symbol, dy_dt_symbol = sp.symbols('dx_dt dy_dt')\n",
    "\n",
    "curve = x_f * y_f - 10\n",
    "curve\n",
    "\n",
    "curve_dt = curve.diff(t)\n",
    "curve_dt\n",
    "\n",
    "# replace dx/dt and dy/dt to symbols\n",
    "curve_dt = curve_dt.subs({dx_dt: dx_dt_symbol, dy_dt: dy_dt_symbol})\n",
    "curve_dt\n",
    "\n",
    "dy_dt_val = 3\n",
    "\n",
    "dx_dt, dy_dt = dx_dt_symbol, dy_dt_symbol\n",
    "curve_dt = curve_dt.subs(\n",
    "    {\n",
    "        dy_dt: dy_dt_val, \n",
    "        x_f:2, \n",
    "        y_f:5,\n",
    "    }\n",
    ")\n",
    "\n",
    "dx_dt_val = sp.solve(curve_dt, dx_dt)[0]\n",
    "dx_dt_val\n",
    "\n",
    "mag_of_vv = sp.sqrt(dx_dt_val**2 + dy_dt_val**2)\n",
    "mag_of_vv"
   ]
  },
  {
   "cell_type": "code",
   "execution_count": null,
   "id": "d8b95f6e-3590-4eae-81fb-662071374dd3",
   "metadata": {},
   "outputs": [],
   "source": []
  },
  {
   "cell_type": "code",
   "execution_count": 72,
   "id": "3ecae208-5412-4c18-9a77-942f9331abda",
   "metadata": {},
   "outputs": [
    {
     "data": {
      "image/png": "[encoded data removed]",
      "text/latex": [
       "$\\displaystyle \\left(\\frac{1}{t + 7}\\right)\\mathbf{\\hat{i}_{.}} + \\left(t^{4}\\right)\\mathbf{\\hat{j}_{.}}$"
      ],
      "text/plain": [
       "⎛  1  ⎞       ⎛ 4⎞     \n",
       "⎜─────⎟ i_. + ⎝t ⎠ j_. \n",
       "⎝t + 7⎠                "
      ]
     },
     "execution_count": 72,
     "metadata": {},
     "output_type": "execute_result"
    },
    {
     "data": {
      "image/png": "[encoded data removed]",
      "text/latex": [
       "$\\displaystyle \\left(\\log{\\left(t + 7 \\right)}\\right)\\mathbf{\\hat{i}_{.}} + \\left(\\frac{t^{5}}{5}\\right)\\mathbf{\\hat{j}_{.}}$"
      ],
      "text/plain": [
       "                   ⎛ 5⎞    \n",
       "(log(t + 7)) i_. + ⎜t ⎟ j_.\n",
       "                   ⎜──⎟    \n",
       "                   ⎝5 ⎠    "
      ]
     },
     "execution_count": 72,
     "metadata": {},
     "output_type": "execute_result"
    },
    {
     "data": {
      "image/png": "[encoded data removed]",
      "text/latex": [
       "$\\displaystyle 48.4005143882221$"
      ],
      "text/plain": [
       "48.4005143882221"
      ]
     },
     "execution_count": 72,
     "metadata": {},
     "output_type": "execute_result"
    },
    {
     "data": {
      "image/png": "[encoded data removed]",
      "text/latex": [
       "$\\displaystyle \\left(\\log{\\left(10 \\right)}\\right)\\mathbf{\\hat{i}_{.}} + \\left(\\frac{243}{5}\\right)\\mathbf{\\hat{j}_{.}}$"
      ],
      "text/plain": [
       "(log(10)) i_. + (243/5) j_."
      ]
     },
     "execution_count": 72,
     "metadata": {},
     "output_type": "execute_result"
    }
   ],
   "source": [
    "C = CoordSys3D('.')\n",
    "\n",
    "v = (1 / (t+7)) * C.i + (t**4) * C.j\n",
    "v\n",
    "\n",
    "p = sp.integrate(v).doit()\n",
    "p\n",
    "\n",
    "(p.subs(t, 3) - p.subs(t, 1)).magnitude().evalf()\n",
    "\n",
    "p.subs(t, 3)"
   ]
  },
  {
   "cell_type": "code",
   "execution_count": null,
   "id": "a91974d8-20b8-4fb6-bee6-04d5a6bdf762",
   "metadata": {},
   "outputs": [],
   "source": []
  },
  {
   "cell_type": "code",
   "execution_count": 79,
   "id": "37948ce2-ea55-4958-a6f8-a25cf9d2290c",
   "metadata": {},
   "outputs": [
    {
     "data": {
      "image/png": "[encoded data removed]",
      "text/latex": [
       "$\\displaystyle \\left(2 t^{3}\\right)\\mathbf{\\hat{i}_{.}} + \\left(3 t^{2}\\right)\\mathbf{\\hat{j}_{.}}$"
      ],
      "text/plain": [
       "⎛   3⎞        ⎛   2⎞     \n",
       "⎝2⋅t ⎠ i_.  + ⎝3⋅t ⎠ j_. "
      ]
     },
     "execution_count": 79,
     "metadata": {},
     "output_type": "execute_result"
    },
    {
     "data": {
      "image/png": "[encoded data removed]",
      "text/latex": [
       "$\\displaystyle \\left(40\\right)\\mathbf{\\hat{i}_{.}} + \\left(26\\right)\\mathbf{\\hat{j}_{.}}$"
      ],
      "text/plain": [
       "(40) i_. + (26) j_."
      ]
     },
     "execution_count": 79,
     "metadata": {},
     "output_type": "execute_result"
    },
    {
     "data": {
      "image/png": "[encoded data removed]",
      "text/latex": [
       "$\\displaystyle \\left(40\\right)\\mathbf{\\hat{i}_{.}} + \\left(26\\right)\\mathbf{\\hat{j}_{.}}$"
      ],
      "text/plain": [
       "(40) i_. + (26) j_."
      ]
     },
     "execution_count": 79,
     "metadata": {},
     "output_type": "execute_result"
    },
    {
     "data": {
      "image/png": "[encoded data removed]",
      "text/latex": [
       "$\\displaystyle \\left(43\\right)\\mathbf{\\hat{i}_{.}} + \\left(30\\right)\\mathbf{\\hat{j}_{.}}$"
      ],
      "text/plain": [
       "(43) i_. + (30) j_."
      ]
     },
     "execution_count": 79,
     "metadata": {},
     "output_type": "execute_result"
    }
   ],
   "source": [
    "C = CoordSys3D('.')\n",
    "\n",
    "v = (2 * t**3) * C.i + (3*t**2) * C.j\n",
    "v\n",
    "\n",
    "p = sp.integrate(v, (t, 1,3)).doit()\n",
    "p\n",
    "\n",
    "p.subs(t, 3)\n",
    "\n",
    "p.subs(t, 3) + ((3)*C.i + (4)*C.j)"
   ]
  },
  {
   "cell_type": "code",
   "execution_count": null,
   "id": "a18f9422-8846-4768-a86f-79f9a90caeae",
   "metadata": {},
   "outputs": [],
   "source": []
  },
  {
   "cell_type": "code",
   "execution_count": 86,
   "id": "f6018f9a-f733-469d-950a-69e251b3e176",
   "metadata": {},
   "outputs": [
    {
     "data": {
      "image/png": "[encoded data removed]",
      "text/latex": [
       "$\\displaystyle \\left(3 t\\right)\\mathbf{\\hat{i}_{.}} + \\left(5 t^{2}\\right)\\mathbf{\\hat{j}_{.}}$"
      ],
      "text/plain": [
       "            ⎛   2⎞     \n",
       "(3⋅t) i_. + ⎝5⋅t ⎠ j_. "
      ]
     },
     "execution_count": 86,
     "metadata": {},
     "output_type": "execute_result"
    },
    {
     "data": {
      "image/png": "[encoded data removed]",
      "text/latex": [
       "$\\displaystyle \\left(\\frac{3 t^{2}}{2}\\right)\\mathbf{\\hat{i}_{.}} + \\left(\\frac{5 t^{3}}{3}\\right)\\mathbf{\\hat{j}_{.}}$"
      ],
      "text/plain": [
       "⎛   2⎞       ⎛   3⎞    \n",
       "⎜3⋅t ⎟ i_. + ⎜5⋅t ⎟ j_.\n",
       "⎜────⎟       ⎜────⎟    \n",
       "⎝ 2  ⎠       ⎝ 3  ⎠    "
      ]
     },
     "execution_count": 86,
     "metadata": {},
     "output_type": "execute_result"
    },
    {
     "data": {
      "image/png": "[encoded data removed]",
      "text/latex": [
       "$\\displaystyle \\frac{\\sqrt{5629}}{6}$"
      ],
      "text/plain": [
       "√5629\n",
       "─────\n",
       "  6  "
      ]
     },
     "execution_count": 86,
     "metadata": {},
     "output_type": "execute_result"
    },
    {
     "data": {
      "image/png": "[encoded data removed]",
      "text/latex": [
       "$\\displaystyle \\frac{\\sqrt{5629}}{6}$"
      ],
      "text/plain": [
       "√5629\n",
       "─────\n",
       "  6  "
      ]
     },
     "execution_count": 86,
     "metadata": {},
     "output_type": "execute_result"
    },
    {
     "data": {
      "image/png": "[encoded data removed]",
      "text/latex": [
       "$\\displaystyle 12.5044436546018$"
      ],
      "text/plain": [
       "12.5044436546018"
      ]
     },
     "execution_count": 86,
     "metadata": {},
     "output_type": "execute_result"
    }
   ],
   "source": [
    "C = CoordSys3D('.')\n",
    "\n",
    "v = (3*t) * C.i + (5*t**2) * C.j\n",
    "v\n",
    "\n",
    "p = sp.integrate(v).doit()\n",
    "p\n",
    "\n",
    "(p.subs(t, 2) - p.subs(t, 1)).magnitude()\n",
    "\n",
    "p = sp.integrate(v, (t, 1, 2)).doit()\n",
    "p.magnitude()\n",
    "p.magnitude().evalf()"
   ]
  },
  {
   "cell_type": "code",
   "execution_count": null,
   "id": "00ff2624-a2b0-4bff-8ac7-29826d8f6be1",
   "metadata": {},
   "outputs": [],
   "source": []
  },
  {
   "cell_type": "code",
   "execution_count": 90,
   "id": "d248c7e6-ad48-48fa-ba35-30b83ef140c9",
   "metadata": {},
   "outputs": [
    {
     "data": {
      "image/png": "[encoded data removed]",
      "text/latex": [
       "$\\displaystyle \\left(- 5 t^{4}\\right)\\mathbf{\\hat{i}_{.}} + \\left(- 11 t^{3}\\right)\\mathbf{\\hat{j}_{.}}$"
      ],
      "text/plain": [
       "⎛    4⎞        ⎛     3⎞     \n",
       "⎝-5⋅t ⎠ i_.  + ⎝-11⋅t ⎠ j_. "
      ]
     },
     "execution_count": 90,
     "metadata": {},
     "output_type": "execute_result"
    },
    {
     "data": {
      "image/png": "[encoded data removed]",
      "text/latex": [
       "$\\displaystyle \\left(-1023\\right)\\mathbf{\\hat{i}_{.}} + \\left(- \\frac{2805}{4}\\right)\\mathbf{\\hat{j}_{.}}$"
      ],
      "text/plain": [
       "(-1023) i_. + (-2805/4) j_."
      ]
     },
     "execution_count": 90,
     "metadata": {},
     "output_type": "execute_result"
    },
    {
     "data": {
      "image/png": "[encoded data removed]",
      "text/latex": [
       "$\\displaystyle \\left(-1018.0\\right)\\mathbf{\\hat{i}_{.}} + \\left(-706.25\\right)\\mathbf{\\hat{j}_{.}}$"
      ],
      "text/plain": [
       "(-1018.0) i_. + (-706.25) j_."
      ]
     },
     "execution_count": 90,
     "metadata": {},
     "output_type": "execute_result"
    }
   ],
   "source": [
    "C = CoordSys3D('.')\n",
    "\n",
    "v = (-5*t**4) * C.i + (-11*t**3) * C.j\n",
    "v\n",
    "\n",
    "p = sp.integrate(v, (t, 1, 4)).doit()\n",
    "p\n",
    "\n",
    "initial = (5) * C.i + (-5) * C.j\n",
    "(initial + p).evalf()"
   ]
  },
  {
   "cell_type": "code",
   "execution_count": null,
   "id": "64c61e36-de48-4eed-81ed-9e3882a434d5",
   "metadata": {},
   "outputs": [],
   "source": []
  }
 ],
 "metadata": {
  "kernelspec": {
   "display_name": "Math",
   "language": "python",
   "name": "math"
  },
  "language_info": {
   "codemirror_mode": {
    "name": "ipython",
    "version": 3
   },
   "file_extension": ".py",
   "mimetype": "text/x-python",
   "name": "python",
   "nbconvert_exporter": "python",
   "pygments_lexer": "ipython3",
   "version": "3.8.13"
  }
 },
 "nbformat": 4,
 "nbformat_minor": 5
}
