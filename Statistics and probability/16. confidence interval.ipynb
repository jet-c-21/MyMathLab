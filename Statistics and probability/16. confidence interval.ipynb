{
 "cells": [
  {
   "cell_type": "code",
   "execution_count": 1,
   "id": "91554f36-7e6f-438a-b9bf-bbfca9dc9aef",
   "metadata": {},
   "outputs": [
    {
     "name": "stdout",
     "output_type": "stream",
     "text": [
      "Added D:\\Dev\\Code\\MyMathLab to PATH\n"
     ]
    }
   ],
   "source": [
    "from IPython.core.interactiveshell import InteractiveShell\n",
    "InteractiveShell.ast_node_interactivity = 'all'\n",
    "\n",
    "# import self-made module\n",
    "import os, sys, pathlib\n",
    "file_path = os.path.abspath('')\n",
    "PROJECT_DIR = str(pathlib.Path(file_path).parent)\n",
    "sys.path.append(PROJECT_DIR)\n",
    "print(f\"Added {PROJECT_DIR} to PATH\")\n",
    "from athena import *\n",
    "from sympy.vector import CoordSys3D, gradient, curl, ParametricRegion, vector_integrate, scalar_potential\n",
    "from sympy.integrals.manualintegrate import integral_steps\n",
    "\n",
    "sp.init_printing()\n",
    "\n",
    "# ult functions\n",
    "def reset_symbols():\n",
    "    global x, y, z, a, b, c, d, e, f, g, h, r, s, k, t, u, v, theta, lmda, rho, phi\n",
    "    x, y, z = sp.symbols('x y z', real=True)\n",
    "    a, b, c, d, e, f, g, h, r, s, k, t, u, v = sp.symbols('a b c d e f g h r s k t u v', real=True)\n",
    "    theta = sp.Symbol('theta')\n",
    "    lmda = sp.Symbol('lambda')\n",
    "    rho = sp.Symbol('rho')\n",
    "    phi = sp.Symbol('phi')\n",
    "    \n",
    "\n",
    "reset_symbols()\n",
    "\n",
    "import statistics\n",
    "import math\n",
    "import numpy as np\n",
    "import scipy"
   ]
  },
  {
   "cell_type": "code",
   "execution_count": 2,
   "id": "6b46281f-42e8-4381-a88d-7380b0bf3418",
   "metadata": {},
   "outputs": [],
   "source": [
    "sample_n = 250\n",
    "sample_pn = 142\n",
    "sample_nn = sample_n - sample_pn\n",
    "sample_mean = (1 * sample_pn + 0 * sample_nn) / sample_n\n",
    "\n"
   ]
  },
  {
   "cell_type": "code",
   "execution_count": 3,
   "id": "eb6d35eb-8bb3-42cc-83b5-196d4c188d94",
   "metadata": {},
   "outputs": [
    {
     "data": {
      "image/png": "[encoded data removed]",
      "text/latex": [
       "$\\displaystyle 0.496348109478753$"
      ],
      "text/plain": [
       "0.49634810947875335"
      ]
     },
     "execution_count": 3,
     "metadata": {},
     "output_type": "execute_result"
    },
    {
     "data": {
      "image/png": "[encoded data removed]",
      "text/latex": [
       "$\\displaystyle 0.0313918107654294$"
      ],
      "text/plain": [
       "0.03139181076542941"
      ]
     },
     "execution_count": 3,
     "metadata": {},
     "output_type": "execute_result"
    }
   ],
   "source": [
    "sample_variance = (sample_pn * (1 - sample_mean)**2 + sample_nn * (0 - sample_mean) ** 2) / (sample_n - 1)\n",
    "sample_std = math.sqrt(sample_variance)\n",
    "sample_std\n",
    "\n",
    "std_of_sdist = math.sqrt(sample_variance / sample_n)\n",
    "std_of_sdist"
   ]
  },
  {
   "cell_type": "code",
   "execution_count": 4,
   "id": "1e617070-e7c0-4256-b8e3-1b00fad42b93",
   "metadata": {},
   "outputs": [
    {
     "data": {
      "image/png": "[encoded data removed]",
      "text/latex": [
       "$\\displaystyle 0.0313918107654294$"
      ],
      "text/plain": [
       "0.03139181076542941"
      ]
     },
     "execution_count": 4,
     "metadata": {},
     "output_type": "execute_result"
    }
   ],
   "source": [
    "sample_std / math.sqrt(250)"
   ]
  },
  {
   "cell_type": "code",
   "execution_count": 5,
   "id": "82840def-840b-4435-ab8c-f2b6d2f03958",
   "metadata": {},
   "outputs": [
    {
     "data": {
      "image/png": "[encoded data removed]",
      "text/latex": [
       "$\\displaystyle 0.568$"
      ],
      "text/plain": [
       "0.568"
      ]
     },
     "execution_count": 5,
     "metadata": {},
     "output_type": "execute_result"
    },
    {
     "data": {
      "image/png": "[encoded data removed]",
      "text/latex": [
       "$\\displaystyle 0.0313918107654294$"
      ],
      "text/plain": [
       "0.03139181076542941"
      ]
     },
     "execution_count": 5,
     "metadata": {},
     "output_type": "execute_result"
    }
   ],
   "source": [
    "p = 142 / 250\n",
    "p\n",
    "math.sqrt((p * (1 - p)) / 249)"
   ]
  },
  {
   "cell_type": "code",
   "execution_count": null,
   "id": "87ae0bf0-33d8-4d9b-b67a-09db1251cca0",
   "metadata": {},
   "outputs": [],
   "source": []
  },
  {
   "cell_type": "code",
   "execution_count": 9,
   "id": "f0778d55-ec90-42fe-939c-25c2209e38d2",
   "metadata": {},
   "outputs": [
    {
     "data": {
      "image/png": "[encoded data removed]",
      "text/latex": [
       "$\\displaystyle 1.55477359459685$"
      ],
      "text/plain": [
       "1.5547735945968535"
      ]
     },
     "execution_count": 9,
     "metadata": {},
     "output_type": "execute_result"
    }
   ],
   "source": [
    "get_z_star(0.88)"
   ]
  },
  {
   "cell_type": "code",
   "execution_count": 10,
   "id": "81fc4c41-1008-452f-b4e3-f0c8333292ec",
   "metadata": {},
   "outputs": [
    {
     "data": {
      "image/png": "[encoded data removed]",
      "text/latex": [
       "$\\displaystyle 1.64485362695147$"
      ],
      "text/plain": [
       "1.6448536269514722"
      ]
     },
     "execution_count": 10,
     "metadata": {},
     "output_type": "execute_result"
    }
   ],
   "source": [
    "get_z_star(0.9)"
   ]
  },
  {
   "cell_type": "code",
   "execution_count": 13,
   "id": "be90c04a-8f2d-4e1f-af28-16eeae8cddaa",
   "metadata": {},
   "outputs": [
    {
     "data": {
      "image/png": "[encoded data removed]",
      "text/latex": [
       "$\\displaystyle 15.0$"
      ],
      "text/plain": [
       "15.0"
      ]
     },
     "execution_count": 13,
     "metadata": {},
     "output_type": "execute_result"
    }
   ],
   "source": [
    "pop = list(range(31))\n",
    "sum(pop) / 31"
   ]
  },
  {
   "cell_type": "code",
   "execution_count": null,
   "id": "d2316e25-25b7-40e1-ae95-81ed07223ccf",
   "metadata": {},
   "outputs": [],
   "source": []
  }
 ],
 "metadata": {
  "kernelspec": {
   "display_name": "Math",
   "language": "python",
   "name": "math"
  },
  "language_info": {
   "codemirror_mode": {
    "name": "ipython",
    "version": 3
   },
   "file_extension": ".py",
   "mimetype": "text/x-python",
   "name": "python",
   "nbconvert_exporter": "python",
   "pygments_lexer": "ipython3",
   "version": "3.8.13"
  }
 },
 "nbformat": 4,
 "nbformat_minor": 5
}
