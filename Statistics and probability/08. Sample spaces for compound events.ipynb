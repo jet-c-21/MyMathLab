{
 "cells": [
  {
   "cell_type": "code",
   "execution_count": 1,
   "id": "ece5e48d-0441-4230-9b19-31f2d39314d8",
   "metadata": {},
   "outputs": [
    {
     "name": "stdout",
     "output_type": "stream",
     "text": [
      "Added D:\\Dev\\Code\\MyMathLab to PATH\n"
     ]
    }
   ],
   "source": [
    "from IPython.core.interactiveshell import InteractiveShell\n",
    "InteractiveShell.ast_node_interactivity = 'all'\n",
    "\n",
    "# import self-made module\n",
    "import os, sys, pathlib\n",
    "file_path = os.path.abspath('')\n",
    "PROJECT_DIR = str(pathlib.Path(file_path).parent)\n",
    "sys.path.append(PROJECT_DIR)\n",
    "print(f\"Added {PROJECT_DIR} to PATH\")\n",
    "from athena import *\n",
    "from sympy.vector import CoordSys3D, gradient, curl, ParametricRegion, vector_integrate, scalar_potential\n",
    "from sympy.integrals.manualintegrate import integral_steps\n",
    "\n",
    "sp.init_printing()\n",
    "\n",
    "# ult functions\n",
    "def reset_symbols():\n",
    "    global x, y, z, a, b, c, d, e, f, g, h, r, s, k, t, u, v, theta, lmda, rho, phi\n",
    "    x, y, z = sp.symbols('x y z', real=True)\n",
    "    a, b, c, d, e, f, g, h, r, s, k, t, u, v = sp.symbols('a b c d e f g h r s k t u v', real=True)\n",
    "    theta = sp.Symbol('theta')\n",
    "    lmda = sp.Symbol('lambda')\n",
    "    rho = sp.Symbol('rho')\n",
    "    phi = sp.Symbol('phi')\n",
    "    \n",
    "\n",
    "reset_symbols()\n",
    "\n",
    "import statistics\n",
    "import math\n",
    "import numpy as np\n",
    "import scipy\n"
   ]
  },
  {
   "cell_type": "code",
   "execution_count": 4,
   "id": "c5cd52bc-4695-4520-8293-76918802cec5",
   "metadata": {},
   "outputs": [],
   "source": [
    "chocolate, strawberry, vanilla = sp.symbols('🍫 🍓 🍦')\n",
    "S, M, L = sp.symbols('S M L')"
   ]
  },
  {
   "cell_type": "code",
   "execution_count": 10,
   "id": "8027755b-f722-4072-a395-ff206cfabb90",
   "metadata": {},
   "outputs": [
    {
     "data": {
      "text/latex": [
       "$\\displaystyle \\left[\\begin{matrix}🍫\\\\🍓\\\\🍦\\end{matrix}\\right]$"
      ],
      "text/plain": [
       "⎡🍫⎤\n",
       "⎢ ⎥\n",
       "⎢🍓⎥\n",
       "⎢ ⎥\n",
       "⎣🍦⎦"
      ]
     },
     "execution_count": 10,
     "metadata": {},
     "output_type": "execute_result"
    },
    {
     "data": {
      "text/latex": [
       "$\\displaystyle \\left[\\begin{matrix}S & M & L\\end{matrix}\\right]$"
      ],
      "text/plain": [
       "[S  M  L]"
      ]
     },
     "execution_count": 10,
     "metadata": {},
     "output_type": "execute_result"
    },
    {
     "data": {
      "text/latex": [
       "$\\displaystyle \\left[\\begin{matrix}S 🍫 & M 🍫 & L 🍫\\\\S 🍓 & M 🍓 & L 🍓\\\\S 🍦 & M 🍦 & L 🍦\\end{matrix}\\right]$"
      ],
      "text/plain": [
       "⎡S⋅🍫  M⋅🍫  L⋅🍫⎤\n",
       "⎢             ⎥\n",
       "⎢S⋅🍓  M⋅🍓  L⋅🍓⎥\n",
       "⎢             ⎥\n",
       "⎣S⋅🍦  M⋅🍦  L⋅🍦⎦"
      ]
     },
     "execution_count": 10,
     "metadata": {},
     "output_type": "execute_result"
    }
   ],
   "source": [
    "favor = sp.Matrix([chocolate, strawberry, vanilla])\n",
    "favor\n",
    "\n",
    "size = sp.Matrix([S, M, L]).T\n",
    "size\n",
    "\n",
    "favor * size"
   ]
  },
  {
   "cell_type": "code",
   "execution_count": 12,
   "id": "60dbb635-88f0-4f7b-b2c0-27074e3ec6f7",
   "metadata": {},
   "outputs": [
    {
     "data": {
      "image/png": "[encoded data removed]",
      "text/latex": [
       "$\\displaystyle 10$"
      ],
      "text/plain": [
       "10"
      ]
     },
     "execution_count": 12,
     "metadata": {},
     "output_type": "execute_result"
    }
   ],
   "source": [
    "c = 0\n",
    "for i in range(1, 7):\n",
    "    for j in range(1, 7):\n",
    "        s = i + j\n",
    "        if s >= 9 :\n",
    "            c += 1\n",
    "c"
   ]
  },
  {
   "cell_type": "code",
   "execution_count": null,
   "id": "82968e47-c362-49c7-b2b9-173b7f3f8f67",
   "metadata": {},
   "outputs": [],
   "source": []
  }
 ],
 "metadata": {
  "kernelspec": {
   "display_name": "Math",
   "language": "python",
   "name": "math"
  },
  "language_info": {
   "codemirror_mode": {
    "name": "ipython",
    "version": 3
   },
   "file_extension": ".py",
   "mimetype": "text/x-python",
   "name": "python",
   "nbconvert_exporter": "python",
   "pygments_lexer": "ipython3",
   "version": "3.8.13"
  }
 },
 "nbformat": 4,
 "nbformat_minor": 5
}
