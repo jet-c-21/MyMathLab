{
 "cells": [
  {
   "cell_type": "code",
   "execution_count": 1,
   "id": "f8be0fa1-7245-42f3-a412-bb71cc464cda",
   "metadata": {},
   "outputs": [
    {
     "name": "stdout",
     "output_type": "stream",
     "text": [
      "Added D:\\Dev\\MyMathLab to PATH\n"
     ]
    }
   ],
   "source": [
    "from IPython.core.interactiveshell import InteractiveShell\n",
    "InteractiveShell.ast_node_interactivity = 'all'\n",
    "\n",
    "# import self-made module\n",
    "import os, sys, pathlib\n",
    "file_path = os.path.abspath('')\n",
    "PROJECT_DIR = str(pathlib.Path(file_path).parent)\n",
    "sys.path.append(PROJECT_DIR)\n",
    "print(f\"Added {PROJECT_DIR} to PATH\")\n",
    "from athena import *\n",
    "from sympy.vector import CoordSys3D, gradient, curl, ParametricRegion, vector_integrate, scalar_potential\n",
    "from sympy.integrals.manualintegrate import integral_steps\n",
    "\n",
    "sp.init_printing()\n",
    "\n",
    "# ult functions\n",
    "def reset_symbols():\n",
    "    global x, y, z, a, b, c, d, e, f, g, h, r, s, k, t, u, v, theta, lmda, rho, phi\n",
    "    x, y, z = sp.symbols('x y z', real=True)\n",
    "    a, b, c, d, e, f, g, h, r, s, k, t, u, v = sp.symbols('a b c d e f g h r s k t u v', real=True)\n",
    "    theta = sp.Symbol('theta')\n",
    "    lmda = sp.Symbol('lambda')\n",
    "    rho = sp.Symbol('rho')\n",
    "    phi = sp.Symbol('phi')\n",
    "    \n",
    "\n",
    "reset_symbols()\n",
    "\n",
    "import statistics\n",
    "import math\n",
    "import numpy as np\n",
    "import scipy\n"
   ]
  },
  {
   "cell_type": "code",
   "execution_count": 2,
   "id": "6521aad5-3681-43ae-999f-0286a23e197f",
   "metadata": {},
   "outputs": [],
   "source": [
    "def get_z_score(x, mean, std) -> float:\n",
    "    return (x - mean) / std"
   ]
  },
  {
   "cell_type": "code",
   "execution_count": 6,
   "id": "08189749-7e12-4376-96f7-be9e60343d64",
   "metadata": {},
   "outputs": [
    {
     "data": {
      "image/png": "[encoded data removed]",
      "text/latex": [
       "$\\displaystyle 0.424654565265204$"
      ],
      "text/plain": [
       "0.42465456526520434"
      ]
     },
     "execution_count": 6,
     "metadata": {},
     "output_type": "execute_result"
    }
   ],
   "source": [
    "z_score = get_z_score(103.1, 105, 10)\n",
    "scipy.stats.norm.cdf(z_score)"
   ]
  },
  {
   "cell_type": "code",
   "execution_count": 10,
   "id": "5d01c8d1-803b-4bcd-b011-4dea592f07b7",
   "metadata": {},
   "outputs": [
    {
     "data": {
      "image/png": "[encoded data removed]",
      "text/latex": [
       "$\\displaystyle 0.150453478910408$"
      ],
      "text/plain": [
       "0.15045347891040756"
      ]
     },
     "execution_count": 10,
     "metadata": {},
     "output_type": "execute_result"
    }
   ],
   "source": [
    "h_score = 20.53\n",
    "l_score = 19.63\n",
    "mean = 21.25\n",
    "std = 2\n",
    "\n",
    "h_b = scipy.stats.norm.cdf(get_z_score(h_score, mean, std))\n",
    "l_b = scipy.stats.norm.cdf(get_z_score(l_score, mean, std))\n",
    "h_b - l_b"
   ]
  },
  {
   "cell_type": "code",
   "execution_count": 12,
   "id": "aa69d14b-c54e-42f0-a287-ab8d1bc5d5f6",
   "metadata": {},
   "outputs": [
    {
     "data": {
      "image/png": "[encoded data removed]",
      "text/latex": [
       "$\\displaystyle 0.524400512708041$"
      ],
      "text/plain": [
       "0.5244005127080407"
      ]
     },
     "execution_count": 12,
     "metadata": {},
     "output_type": "execute_result"
    },
    {
     "data": {
      "image/png": "[encoded data removed]",
      "text/latex": [
       "$\\displaystyle 84.7196046143724$"
      ],
      "text/plain": [
       "84.71960461437237"
      ]
     },
     "execution_count": 12,
     "metadata": {},
     "output_type": "execute_result"
    }
   ],
   "source": [
    "std_val = scipy.stats.norm.ppf(.7)\n",
    "std_val\n",
    "\n",
    "mean = 80\n",
    "std = 9\n",
    "res = mean + std * std_val\n",
    "res"
   ]
  },
  {
   "cell_type": "code",
   "execution_count": 17,
   "id": "12a88e50-a1db-4098-a400-cae01289744f",
   "metadata": {},
   "outputs": [
    {
     "data": {
      "image/png": "[encoded data removed]",
      "text/latex": [
       "$\\displaystyle -1.2815515655446$"
      ],
      "text/plain": [
       "-1.2815515655446004"
      ]
     },
     "execution_count": 17,
     "metadata": {},
     "output_type": "execute_result"
    },
    {
     "data": {
      "image/png": "[encoded data removed]",
      "text/latex": [
       "$\\displaystyle 170.902932779009$"
      ],
      "text/plain": [
       "170.9029327790094"
      ]
     },
     "execution_count": 17,
     "metadata": {},
     "output_type": "execute_result"
    }
   ],
   "source": [
    "std_val = scipy.stats.norm.ppf(.1)\n",
    "std_val\n",
    "\n",
    "mean = 185\n",
    "std = 11\n",
    "res = mean + std * std_val\n",
    "res"
   ]
  },
  {
   "cell_type": "code",
   "execution_count": 15,
   "id": "0ce7a298-db03-4cd2-ae47-1c83e32659a7",
   "metadata": {},
   "outputs": [
    {
     "data": {
      "image/png": "[encoded data removed]",
      "text/latex": [
       "$\\displaystyle -1.64485362695147$"
      ],
      "text/plain": [
       "-1.6448536269514729"
      ]
     },
     "execution_count": 15,
     "metadata": {},
     "output_type": "execute_result"
    },
    {
     "data": {
      "image/png": "[encoded data removed]",
      "text/latex": [
       "$\\displaystyle 37.2992448184073$"
      ],
      "text/plain": [
       "37.29924481840729"
      ]
     },
     "execution_count": 15,
     "metadata": {},
     "output_type": "execute_result"
    }
   ],
   "source": [
    "std_val = scipy.stats.norm.ppf(.05)\n",
    "std_val\n",
    "\n",
    "mean = 85\n",
    "std = 29\n",
    "res = mean + std * std_val\n",
    "res"
   ]
  },
  {
   "cell_type": "code",
   "execution_count": 16,
   "id": "766757fb-0ba2-4797-8241-cc43bfd0d801",
   "metadata": {},
   "outputs": [
    {
     "data": {
      "image/png": "[encoded data removed]",
      "text/latex": [
       "$\\displaystyle 1.64485362695147$"
      ],
      "text/plain": [
       "1.6448536269514722"
      ]
     },
     "execution_count": 16,
     "metadata": {},
     "output_type": "execute_result"
    },
    {
     "data": {
      "image/png": "[encoded data removed]",
      "text/latex": [
       "$\\displaystyle 102186.779792932$"
      ],
      "text/plain": [
       "102186.77979293239"
      ]
     },
     "execution_count": 16,
     "metadata": {},
     "output_type": "execute_result"
    }
   ],
   "source": [
    "std_val = scipy.stats.norm.ppf(.95)\n",
    "std_val\n",
    "\n",
    "mean = 66000\n",
    "std = 22000\n",
    "res = mean + std * std_val\n",
    "res"
   ]
  },
  {
   "cell_type": "code",
   "execution_count": null,
   "id": "8c1d4a4a-dc7f-4e0f-af7b-0f4e01b08872",
   "metadata": {},
   "outputs": [],
   "source": []
  }
 ],
 "metadata": {
  "kernelspec": {
   "display_name": "Math",
   "language": "python",
   "name": "math"
  },
  "language_info": {
   "codemirror_mode": {
    "name": "ipython",
    "version": 3
   },
   "file_extension": ".py",
   "mimetype": "text/x-python",
   "name": "python",
   "nbconvert_exporter": "python",
   "pygments_lexer": "ipython3",
   "version": "3.8.13"
  }
 },
 "nbformat": 4,
 "nbformat_minor": 5
}
