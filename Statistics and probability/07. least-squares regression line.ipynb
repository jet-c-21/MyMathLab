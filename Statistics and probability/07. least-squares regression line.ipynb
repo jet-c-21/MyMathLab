{
 "cells": [
  {
   "cell_type": "code",
   "execution_count": 1,
   "id": "dfcfa208-a1cf-4f73-8467-80cd850d1fa0",
   "metadata": {},
   "outputs": [
    {
     "name": "stdout",
     "output_type": "stream",
     "text": [
      "Added D:\\Dev\\Code\\MyMathLab to PATH\n"
     ]
    }
   ],
   "source": [
    "from IPython.core.interactiveshell import InteractiveShell\n",
    "InteractiveShell.ast_node_interactivity = 'all'\n",
    "\n",
    "# import self-made module\n",
    "import os, sys, pathlib\n",
    "file_path = os.path.abspath('')\n",
    "PROJECT_DIR = str(pathlib.Path(file_path).parent)\n",
    "sys.path.append(PROJECT_DIR)\n",
    "print(f\"Added {PROJECT_DIR} to PATH\")\n",
    "from athena import *\n",
    "from sympy.vector import CoordSys3D, gradient, curl, ParametricRegion, vector_integrate, scalar_potential\n",
    "from sympy.integrals.manualintegrate import integral_steps\n",
    "\n",
    "sp.init_printing()\n",
    "\n",
    "# ult functions\n",
    "def reset_symbols():\n",
    "    global x, y, z, a, b, c, d, e, f, g, h, r, s, k, t, u, v, theta, lmda, rho, phi\n",
    "    x, y, z = sp.symbols('x y z', real=True)\n",
    "    a, b, c, d, e, f, g, h, r, s, k, t, u, v = sp.symbols('a b c d e f g h r s k t u v', real=True)\n",
    "    theta = sp.Symbol('theta')\n",
    "    lmda = sp.Symbol('lambda')\n",
    "    rho = sp.Symbol('rho')\n",
    "    phi = sp.Symbol('phi')\n",
    "    \n",
    "\n",
    "reset_symbols()\n",
    "\n",
    "import statistics\n",
    "import math\n",
    "import numpy as np\n",
    "import scipy\n"
   ]
  },
  {
   "cell_type": "code",
   "execution_count": 2,
   "id": "8bb840f3-3e87-4268-8517-fe6e018c5414",
   "metadata": {},
   "outputs": [
    {
     "data": {
      "image/png": "[encoded data removed]",
      "text/latex": [
       "$\\displaystyle 0.231$"
      ],
      "text/plain": [
       "0.231000000000000"
      ]
     },
     "execution_count": 2,
     "metadata": {},
     "output_type": "execute_result"
    },
    {
     "data": {
      "image/png": "[encoded data removed]",
      "text/latex": [
       "$\\displaystyle 0.231 x + 1.7721$"
      ],
      "text/plain": [
       "0.231⋅x + 1.7721"
      ]
     },
     "execution_count": 2,
     "metadata": {},
     "output_type": "execute_result"
    }
   ],
   "source": [
    "x_mean = 20.9\n",
    "x_std = 3\n",
    "y_mean = 6.6\n",
    "y_std = 0.7\n",
    "r = 0.99\n",
    "m = sp.Number(r) * y_std / x_std\n",
    "m\n",
    "\n",
    "b = y - m * x\n",
    "b = b.subs({x:x_mean, y:y_mean})\n",
    "\n",
    "lsqr = m * x + b\n",
    "lsqr"
   ]
  },
  {
   "cell_type": "code",
   "execution_count": 3,
   "id": "a979f19b-224a-431d-b582-f88a78a134f7",
   "metadata": {},
   "outputs": [
    {
     "data": {
      "image/png": "[encoded data removed]",
      "text/latex": [
       "$\\displaystyle -10.78$"
      ],
      "text/plain": [
       "-10.7800000000000"
      ]
     },
     "execution_count": 3,
     "metadata": {},
     "output_type": "execute_result"
    },
    {
     "data": {
      "image/png": "[encoded data removed]",
      "text/latex": [
       "$\\displaystyle 147.556 - 10.78 x$"
      ],
      "text/plain": [
       "147.556 - 10.78⋅x"
      ]
     },
     "execution_count": 3,
     "metadata": {},
     "output_type": "execute_result"
    }
   ],
   "source": [
    "x_mean = 10.2\n",
    "x_std = 2.8\n",
    "y_mean = 37.6\n",
    "y_std = 30.8\n",
    "r = -0.98\n",
    "m = sp.Number(r) * y_std / x_std\n",
    "m\n",
    "\n",
    "b = y - m * x\n",
    "b = b.subs({x:x_mean, y:y_mean})\n",
    "\n",
    "lsqr = m * x + b\n",
    "lsqr"
   ]
  },
  {
   "cell_type": "code",
   "execution_count": 4,
   "id": "ca9938d0-e66b-467a-9a2a-60fa1512c6b2",
   "metadata": {},
   "outputs": [
    {
     "data": {
      "image/png": "[encoded data removed]",
      "text/latex": [
       "$\\displaystyle 0.1625$"
      ],
      "text/plain": [
       "0.162500000000000"
      ]
     },
     "execution_count": 4,
     "metadata": {},
     "output_type": "execute_result"
    },
    {
     "data": {
      "image/png": "[encoded data removed]",
      "text/latex": [
       "$\\displaystyle 0.1625 x - 0.8825$"
      ],
      "text/plain": [
       "0.1625⋅x - 0.8825"
      ]
     },
     "execution_count": 4,
     "metadata": {},
     "output_type": "execute_result"
    }
   ],
   "source": [
    "x_mean = 12.2\n",
    "x_std = 5.2\n",
    "y_mean = 1.1\n",
    "y_std = 1.3\n",
    "r = 0.65\n",
    "m = sp.Number(r) * y_std / x_std\n",
    "m\n",
    "\n",
    "b = y - m * x\n",
    "b = b.subs({x:x_mean, y:y_mean})\n",
    "\n",
    "lsqr = m * x + b\n",
    "lsqr"
   ]
  },
  {
   "cell_type": "code",
   "execution_count": 5,
   "id": "e3520e1c-e622-4d86-bd42-fee5cd5173b1",
   "metadata": {},
   "outputs": [
    {
     "data": {
      "image/png": "[encoded data removed]",
      "text/latex": [
       "$\\displaystyle 9.72$"
      ],
      "text/plain": [
       "9.72000000000000"
      ]
     },
     "execution_count": 5,
     "metadata": {},
     "output_type": "execute_result"
    },
    {
     "data": {
      "image/png": "[encoded data removed]",
      "text/latex": [
       "$\\displaystyle 9.72 x - 40.7759999999998$"
      ],
      "text/plain": [
       "9.72⋅x - 40.7759999999998"
      ]
     },
     "execution_count": 5,
     "metadata": {},
     "output_type": "execute_result"
    }
   ],
   "source": [
    "x_mean = 75.8\n",
    "x_std = 14.8\n",
    "y_mean = 696\n",
    "y_std = 177.6\n",
    "r = 0.81\n",
    "m = sp.Number(r) * y_std / x_std\n",
    "m\n",
    "\n",
    "b = y - m * x\n",
    "b = b.subs({x:x_mean, y:y_mean})\n",
    "\n",
    "lsqr = m * x + b\n",
    "lsqr"
   ]
  },
  {
   "cell_type": "code",
   "execution_count": 6,
   "id": "89df692c-e176-4755-af70-ea120927a77f",
   "metadata": {},
   "outputs": [
    {
     "data": {
      "image/png": "[encoded data removed]",
      "text/latex": [
       "$\\displaystyle 1.9$"
      ],
      "text/plain": [
       "1.90000000000000"
      ]
     },
     "execution_count": 6,
     "metadata": {},
     "output_type": "execute_result"
    },
    {
     "data": {
      "image/png": "[encoded data removed]",
      "text/latex": [
       "$\\displaystyle 1.9 x - 44.3$"
      ],
      "text/plain": [
       "1.9⋅x - 44.3"
      ]
     },
     "execution_count": 6,
     "metadata": {},
     "output_type": "execute_result"
    }
   ],
   "source": [
    "x_mean = 41\n",
    "x_std = 2.3\n",
    "y_mean = 33.6\n",
    "y_std = 4.6\n",
    "r = 0.95\n",
    "\n",
    "m = sp.Number(r) * y_std / x_std\n",
    "m\n",
    "\n",
    "b = y - m * x\n",
    "b = b.subs({x:x_mean, y:y_mean})\n",
    "\n",
    "lsqr = m * x + b\n",
    "lsqr"
   ]
  },
  {
   "cell_type": "code",
   "execution_count": null,
   "id": "817c51dd-62f2-477c-980a-c7e653e0ca05",
   "metadata": {},
   "outputs": [],
   "source": []
  }
 ],
 "metadata": {
  "kernelspec": {
   "display_name": "Math",
   "language": "python",
   "name": "math"
  },
  "language_info": {
   "codemirror_mode": {
    "name": "ipython",
    "version": 3
   },
   "file_extension": ".py",
   "mimetype": "text/x-python",
   "name": "python",
   "nbconvert_exporter": "python",
   "pygments_lexer": "ipython3",
   "version": "3.8.13"
  }
 },
 "nbformat": 4,
 "nbformat_minor": 5
}
