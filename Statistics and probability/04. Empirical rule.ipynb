{
 "cells": [
  {
   "cell_type": "code",
   "execution_count": 1,
   "id": "718d25b8-a9e8-4885-9617-e7b31869040d",
   "metadata": {},
   "outputs": [
    {
     "name": "stdout",
     "output_type": "stream",
     "text": [
      "Added /Users/puff/my_home/dev/Side_Projects/MyMathLab to PATH\n"
     ]
    }
   ],
   "source": [
    "from IPython.core.interactiveshell import InteractiveShell\n",
    "InteractiveShell.ast_node_interactivity = 'all'\n",
    "\n",
    "# import self-made module\n",
    "import os, sys, pathlib\n",
    "file_path = os.path.abspath('')\n",
    "PROJECT_DIR = str(pathlib.Path(file_path).parent)\n",
    "sys.path.append(PROJECT_DIR)\n",
    "print(f\"Added {PROJECT_DIR} to PATH\")\n",
    "from athena import *\n",
    "from sympy.vector import CoordSys3D, gradient, curl, ParametricRegion, vector_integrate, scalar_potential\n",
    "from sympy.integrals.manualintegrate import integral_steps\n",
    "\n",
    "sp.init_printing()\n",
    "\n",
    "# ult functions\n",
    "def reset_symbols():\n",
    "    global x, y, z, a, b, c, d, e, f, g, h, r, s, k, t, u, v, theta, lmda, rho, phi\n",
    "    x, y, z = sp.symbols('x y z', real=True)\n",
    "    a, b, c, d, e, f, g, h, r, s, k, t, u, v = sp.symbols('a b c d e f g h r s k t u v', real=True)\n",
    "    theta = sp.Symbol('theta')\n",
    "    lmda = sp.Symbol('lambda')\n",
    "    rho = sp.Symbol('rho')\n",
    "    phi = sp.Symbol('phi')\n",
    "    \n",
    "\n",
    "reset_symbols()\n",
    "\n",
    "import statistics\n",
    "import math\n",
    "import numpy as np\n",
    "import scipy\n"
   ]
  },
  {
   "cell_type": "code",
   "execution_count": 2,
   "id": "7ff07fad-618e-45fd-976c-5aec7d76d477",
   "metadata": {},
   "outputs": [],
   "source": [
    "def print_emprical_rule_interval(mean, std):\n",
    "    # mean = sp.N(mean)\n",
    "    n_m_3s = mean - 3 * std\n",
    "    n_m_2s = mean - 2 * std\n",
    "    n_m_1s = mean - 1 * std\n",
    "    \n",
    "    p_m_1s = mean + 1 * std\n",
    "    p_m_2s = mean + 2 * std\n",
    "    p_m_3s = mean + 3 * std\n",
    "    \n",
    "    print(f\"μ - 3σ = {n_m_3s}\")\n",
    "    print(f\"μ - 2σ = {n_m_2s}\")\n",
    "    print(f\"μ - 1σ = {n_m_1s}\")\n",
    "    print(f\"μ = {mean}\")\n",
    "    print(f\"μ + 1σ = {p_m_1s}\")\n",
    "    print(f\"μ + 2σ = {p_m_2s}\")\n",
    "    print(f\"μ + 3σ = {p_m_3s}\")"
   ]
  },
  {
   "cell_type": "code",
   "execution_count": 3,
   "id": "201beeeb-660f-412a-aadd-9322afb52ccf",
   "metadata": {},
   "outputs": [
    {
     "name": "stdout",
     "output_type": "stream",
     "text": [
      "μ - 3σ = 5.800000000000001\n",
      "μ - 2σ = 7.2\n",
      "μ - 1σ = 8.6\n",
      "μ = 10\n",
      "μ + 1σ = 11.4\n",
      "μ + 2σ = 12.8\n",
      "μ + 3σ = 14.2\n"
     ]
    }
   ],
   "source": [
    "print_emprical_rule_interval(10, 1.4)"
   ]
  },
  {
   "cell_type": "code",
   "execution_count": 4,
   "id": "dd76d6cb-4c1c-4aa8-87a7-60d8c8f3cc48",
   "metadata": {},
   "outputs": [
    {
     "name": "stdout",
     "output_type": "stream",
     "text": [
      "μ - 3σ = 4.700000000000001\n",
      "μ - 2σ = 6.6000000000000005\n",
      "μ - 1σ = 8.5\n",
      "μ = 10.4\n",
      "μ + 1σ = 12.3\n",
      "μ + 2σ = 14.2\n",
      "μ + 3σ = 16.1\n"
     ]
    }
   ],
   "source": [
    "print_emprical_rule_interval(10.4, 1.9)"
   ]
  },
  {
   "cell_type": "code",
   "execution_count": null,
   "id": "be57bf44-068f-4380-a38d-476f14d7baae",
   "metadata": {},
   "outputs": [],
   "source": []
  }
 ],
 "metadata": {
  "kernelspec": {
   "display_name": "Math",
   "language": "python",
   "name": "math"
  },
  "language_info": {
   "codemirror_mode": {
    "name": "ipython",
    "version": 3
   },
   "file_extension": ".py",
   "mimetype": "text/x-python",
   "name": "python",
   "nbconvert_exporter": "python",
   "pygments_lexer": "ipython3",
   "version": "3.8.13"
  }
 },
 "nbformat": 4,
 "nbformat_minor": 5
}
