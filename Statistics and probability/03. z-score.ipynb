{
 "cells": [
  {
   "cell_type": "code",
   "execution_count": 1,
   "id": "73788673-ff3e-4fcc-97ff-95c35312c0a5",
   "metadata": {},
   "outputs": [
    {
     "name": "stdout",
     "output_type": "stream",
     "text": [
      "Added D:\\Dev\\MyMathLab to PATH\n"
     ]
    }
   ],
   "source": [
    "from IPython.core.interactiveshell import InteractiveShell\n",
    "InteractiveShell.ast_node_interactivity = 'all'\n",
    "\n",
    "# import self-made module\n",
    "import os, sys, pathlib\n",
    "file_path = os.path.abspath('')\n",
    "PROJECT_DIR = str(pathlib.Path(file_path).parent)\n",
    "sys.path.append(PROJECT_DIR)\n",
    "print(f\"Added {PROJECT_DIR} to PATH\")\n",
    "from athena import *\n",
    "from sympy.vector import CoordSys3D, gradient, curl, ParametricRegion, vector_integrate, scalar_potential\n",
    "from sympy.integrals.manualintegrate import integral_steps\n",
    "\n",
    "sp.init_printing()\n",
    "\n",
    "# ult functions\n",
    "def reset_symbols():\n",
    "    global x, y, z, a, b, c, d, e, f, g, h, r, s, k, t, u, v, theta, lmda, rho, phi\n",
    "    x, y, z = sp.symbols('x y z', real=True)\n",
    "    a, b, c, d, e, f, g, h, r, s, k, t, u, v = sp.symbols('a b c d e f g h r s k t u v', real=True)\n",
    "    theta = sp.Symbol('theta')\n",
    "    lmda = sp.Symbol('lambda')\n",
    "    rho = sp.Symbol('rho')\n",
    "    phi = sp.Symbol('phi')\n",
    "    \n",
    "\n",
    "reset_symbols()\n",
    "\n",
    "import statistics\n",
    "import math\n",
    "import numpy as np\n",
    "import scipy\n"
   ]
  },
  {
   "cell_type": "code",
   "execution_count": 2,
   "id": "a5f188a8-360a-4fe0-b1d3-638d87ac3d94",
   "metadata": {},
   "outputs": [],
   "source": [
    "def get_z_score(score, mean, std):\n",
    "    return (score - mean) / std"
   ]
  },
  {
   "cell_type": "code",
   "execution_count": 6,
   "id": "cada961e-eb06-4588-b230-5efef0c1e16d",
   "metadata": {},
   "outputs": [
    {
     "data": {
      "image/png": "[encoded data removed]",
      "text/latex": [
       "$\\displaystyle 0.857142857142857$"
      ],
      "text/plain": [
       "0.8571428571428571"
      ]
     },
     "execution_count": 6,
     "metadata": {},
     "output_type": "execute_result"
    }
   ],
   "source": [
    "get_z_score(80, 77, 3.5)"
   ]
  },
  {
   "cell_type": "code",
   "execution_count": null,
   "id": "f7181c92-7f30-4d51-94d8-d6b6f65b115d",
   "metadata": {},
   "outputs": [],
   "source": []
  }
 ],
 "metadata": {
  "kernelspec": {
   "display_name": "Math",
   "language": "python",
   "name": "math"
  },
  "language_info": {
   "codemirror_mode": {
    "name": "ipython",
    "version": 3
   },
   "file_extension": ".py",
   "mimetype": "text/x-python",
   "name": "python",
   "nbconvert_exporter": "python",
   "pygments_lexer": "ipython3",
   "version": "3.8.13"
  }
 },
 "nbformat": 4,
 "nbformat_minor": 5
}
