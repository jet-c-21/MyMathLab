{
 "cells": [
  {
   "cell_type": "code",
   "execution_count": 1,
   "id": "04f797dc-c2f3-46cd-b63d-688cdc5311da",
   "metadata": {},
   "outputs": [
    {
     "name": "stdout",
     "output_type": "stream",
     "text": [
      "Added D:\\Dev\\Code\\MyMathLab to PATH\n"
     ]
    }
   ],
   "source": [
    "from IPython.core.interactiveshell import InteractiveShell\n",
    "InteractiveShell.ast_node_interactivity = 'all'\n",
    "\n",
    "# import self-made module\n",
    "import os, sys, pathlib\n",
    "file_path = os.path.abspath('')\n",
    "PROJECT_DIR = str(pathlib.Path(file_path).parent)\n",
    "sys.path.append(PROJECT_DIR)\n",
    "print(f\"Added {PROJECT_DIR} to PATH\")\n",
    "from athena import *\n",
    "from sympy.vector import CoordSys3D, gradient, curl, ParametricRegion, vector_integrate, scalar_potential\n",
    "from sympy.integrals.manualintegrate import integral_steps\n",
    "\n",
    "sp.init_printing()\n",
    "\n",
    "# ult functions\n",
    "def reset_symbols():\n",
    "    global x, y, z, a, b, c, d, e, f, g, h, r, s, k, t, u, v, theta, lmda, rho, phi\n",
    "    x, y, z = sp.symbols('x y z', real=True)\n",
    "    a, b, c, d, e, f, g, h, r, s, k, t, u, v = sp.symbols('a b c d e f g h r s k t u v', real=True)\n",
    "    theta = sp.Symbol('theta')\n",
    "    lmda = sp.Symbol('lambda')\n",
    "    rho = sp.Symbol('rho')\n",
    "    phi = sp.Symbol('phi')\n",
    "    \n",
    "\n",
    "reset_symbols()\n",
    "\n",
    "import statistics\n",
    "import math\n",
    "import numpy as np\n",
    "import scipy"
   ]
  },
  {
   "cell_type": "code",
   "execution_count": 3,
   "id": "45e18a35-d39e-426b-bafd-3704c91ba474",
   "metadata": {},
   "outputs": [
    {
     "data": {
      "image/png": "[encoded data removed]",
      "text/latex": [
       "$\\displaystyle 0.299691999513246$"
      ],
      "text/plain": [
       "0.2996919995132463"
      ]
     },
     "execution_count": 3,
     "metadata": {},
     "output_type": "execute_result"
    }
   ],
   "source": [
    "1 - scipy.stats.chi2.cdf(2.41, 2)"
   ]
  },
  {
   "cell_type": "code",
   "execution_count": 7,
   "id": "12d8906e-2226-4afe-97de-73e1826940af",
   "metadata": {},
   "outputs": [
    {
     "data": {
      "text/plain": [
       "Power_divergenceResult(statistic=11.441666666666666, pvalue=0.04329313031580497)"
      ]
     },
     "execution_count": 7,
     "metadata": {},
     "output_type": "execute_result"
    }
   ],
   "source": [
    "obs_ls = [30, 14, 34, 45, 57, 20]\n",
    "exp_ls = [20, 20, 30, 40, 60, 30]\n",
    "scipy.stats.chisquare(obs_ls, exp_ls)"
   ]
  },
  {
   "cell_type": "code",
   "execution_count": 8,
   "id": "dda1f8b0-8b88-4a44-8fa1-b2fdc07337a3",
   "metadata": {},
   "outputs": [
    {
     "data": {
      "text/plain": [
       "Power_divergenceResult(statistic=6.0, pvalue=0.11161022509471265)"
      ]
     },
     "execution_count": 8,
     "metadata": {},
     "output_type": "execute_result"
    }
   ],
   "source": [
    "obs_ls = [20,20,25,35]\n",
    "exp_ls = [25,25,25,25]\n",
    "scipy.stats.chisquare(obs_ls, exp_ls)"
   ]
  },
  {
   "cell_type": "code",
   "execution_count": 9,
   "id": "62c081c5-7a9b-4c24-8fba-6d9c0acf01d1",
   "metadata": {},
   "outputs": [
    {
     "data": {
      "text/plain": [
       "Power_divergenceResult(statistic=5.25, pvalue=0.07243975703425146)"
      ]
     },
     "execution_count": 9,
     "metadata": {},
     "output_type": "execute_result"
    }
   ],
   "source": [
    "obs_ls = [4,13,7]\n",
    "exp_ls = [8]*3\n",
    "scipy.stats.chisquare(obs_ls, exp_ls)"
   ]
  },
  {
   "cell_type": "code",
   "execution_count": 13,
   "id": "4d714b2f-1e7e-4ef6-87c0-1f83b9078927",
   "metadata": {},
   "outputs": [
    {
     "name": "stdout",
     "output_type": "stream",
     "text": [
      "obs_ls = [345, 125, 30]\n",
      "exp_ls = [330.0, 125.0, 45.0]\n"
     ]
    },
    {
     "data": {
      "text/plain": [
       "Power_divergenceResult(statistic=5.681818181818182, pvalue=0.058372575858237734)"
      ]
     },
     "execution_count": 13,
     "metadata": {},
     "output_type": "execute_result"
    }
   ],
   "source": [
    "obs_ls = [345, 125, 30]\n",
    "s_n = sum(obs_ls)\n",
    "exp_prop_ls = [0.66, 0.25, 0.09]\n",
    "assert sum(exp_prop_ls) == 1\n",
    "exp_ls = [expr_prop * s_n for expr_prop in exp_prop_ls]\n",
    "\n",
    "print(f\"obs_ls = {obs_ls}\")\n",
    "print(f\"exp_ls = {exp_ls}\")\n",
    "\n",
    "scipy.stats.chisquare(obs_ls, exp_ls)"
   ]
  },
  {
   "cell_type": "code",
   "execution_count": 14,
   "id": "895e7281-2984-486a-9ba0-da57947fd219",
   "metadata": {},
   "outputs": [
    {
     "name": "stdout",
     "output_type": "stream",
     "text": [
      "obs_ls = [75, 120, 90, 15]\n",
      "exp_ls = [75.0, 120.0, 75.0, 30.0]\n"
     ]
    },
    {
     "data": {
      "text/plain": [
       "Power_divergenceResult(statistic=10.5, pvalue=0.014760897143990665)"
      ]
     },
     "execution_count": 14,
     "metadata": {},
     "output_type": "execute_result"
    }
   ],
   "source": [
    "obs_ls = [75,120,90,15]\n",
    "s_n = sum(obs_ls)\n",
    "exp_prop_ls = [0.25,0.4,0.25,0.1]\n",
    "assert sum(exp_prop_ls) == 1\n",
    "exp_ls = [expr_prop * s_n for expr_prop in exp_prop_ls]\n",
    "\n",
    "print(f\"obs_ls = {obs_ls}\")\n",
    "print(f\"exp_ls = {exp_ls}\")\n",
    "\n",
    "scipy.stats.chisquare(obs_ls, exp_ls)"
   ]
  },
  {
   "cell_type": "code",
   "execution_count": 16,
   "id": "3b1370f6-2d3e-484f-9bb2-bd47088e68e0",
   "metadata": {},
   "outputs": [
    {
     "name": "stdout",
     "output_type": "stream",
     "text": [
      "obs_ls = [16, 11, 16, 18, 19]\n",
      "exp_ls = [16.0, 20.0, 16.0, 16.0, 12.0]\n"
     ]
    },
    {
     "data": {
      "text/plain": [
       "Power_divergenceResult(statistic=8.383333333333333, pvalue=0.07850351401595175)"
      ]
     },
     "execution_count": 16,
     "metadata": {},
     "output_type": "execute_result"
    }
   ],
   "source": [
    "obs_ls = [16,11,16,18,19]\n",
    "s_n = sum(obs_ls)\n",
    "exp_prop_ls = [0.2, 0.25, 0.2, 0.2, 0.15]\n",
    "assert sum(exp_prop_ls) == 1\n",
    "exp_ls = [expr_prop * s_n for expr_prop in exp_prop_ls]\n",
    "\n",
    "print(f\"obs_ls = {obs_ls}\")\n",
    "print(f\"exp_ls = {exp_ls}\")\n",
    "\n",
    "scipy.stats.chisquare(obs_ls, exp_ls)"
   ]
  },
  {
   "cell_type": "code",
   "execution_count": 18,
   "id": "5d84fb7c-a9a2-4595-afc8-e9419257be7c",
   "metadata": {},
   "outputs": [
    {
     "name": "stdout",
     "output_type": "stream",
     "text": [
      "obs_ls = [4, 13, 7]\n",
      "exp_ls = [8, 8, 8]\n"
     ]
    },
    {
     "data": {
      "text/plain": [
       "Power_divergenceResult(statistic=5.25, pvalue=0.07243975703425146)"
      ]
     },
     "execution_count": 18,
     "metadata": {},
     "output_type": "execute_result"
    }
   ],
   "source": [
    "obs_ls = [4,13,7]\n",
    "exp_ls = [8] * 3\n",
    "\n",
    "print(f\"obs_ls = {obs_ls}\")\n",
    "print(f\"exp_ls = {exp_ls}\")\n",
    "\n",
    "scipy.stats.chisquare(obs_ls, exp_ls)"
   ]
  },
  {
   "cell_type": "code",
   "execution_count": 35,
   "id": "ad000959-fb4e-4446-a3f9-760db9386ecf",
   "metadata": {},
   "outputs": [
    {
     "data": {
      "text/plain": [
       "array([[16, 30, 14],\n",
       "       [27, 23, 10],\n",
       "       [29, 16, 15]])"
      ]
     },
     "execution_count": 35,
     "metadata": {},
     "output_type": "execute_result"
    },
    {
     "data": {
      "text/plain": [
       "array([[24, 23, 13],\n",
       "       [24, 23, 13],\n",
       "       [24, 23, 13]])"
      ]
     },
     "execution_count": 35,
     "metadata": {},
     "output_type": "execute_result"
    },
    {
     "data": {
      "text/plain": [
       "Power_divergenceResult(statistic=9.421125975473801, pvalue=0.05139340757061303)"
      ]
     },
     "execution_count": 35,
     "metadata": {},
     "output_type": "execute_result"
    },
    {
     "data": {
      "image/png": "[encoded data removed]",
      "text/latex": [
       "$\\displaystyle 0.0513934075706131$"
      ],
      "text/plain": [
       "0.05139340757061306"
      ]
     },
     "execution_count": 35,
     "metadata": {},
     "output_type": "execute_result"
    }
   ],
   "source": [
    "obs_m = np.array(\n",
    "    [\n",
    "        [16,30,14],\n",
    "        [27,23,10],\n",
    "        [29,16,15],\n",
    "    ]\n",
    ")\n",
    "\n",
    "obs_m\n",
    "\n",
    "exp_m = np.array(\n",
    "    [\n",
    "        [24,23,13],\n",
    "        [24,23,13],\n",
    "        [24,23,13]\n",
    "    ]\n",
    ")\n",
    "\n",
    "exp_m\n",
    "\n",
    "df = (obs_m.shape[0] - 1) * (obs_m.shape[1] - 1)\n",
    "\n",
    "scipy.stats.chisquare(obs_m, exp_m, axis=None, ddof=df)\n",
    "1 - scipy.stats.chi2.cdf(scipy.stats.chisquare(obs_m, exp_m, axis=None).statistic, df=df)"
   ]
  },
  {
   "cell_type": "code",
   "execution_count": 36,
   "id": "b7f2c41b-af58-4810-a05b-06fa7c0d6c40",
   "metadata": {},
   "outputs": [
    {
     "data": {
      "text/plain": [
       "array([[  6,  78],\n",
       "       [  9,  55],\n",
       "       [ 15, 133],\n",
       "       [  6,  58]])"
      ]
     },
     "execution_count": 36,
     "metadata": {},
     "output_type": "execute_result"
    },
    {
     "data": {
      "text/plain": [
       "array([[  8.4,  75.6],\n",
       "       [  6.4,  57.6],\n",
       "       [ 14.8, 133.2],\n",
       "       [  6.4,  57.6]])"
      ]
     },
     "execution_count": 36,
     "metadata": {},
     "output_type": "execute_result"
    },
    {
     "name": "stdout",
     "output_type": "stream",
     "text": [
      "df = 3\n"
     ]
    },
    {
     "data": {
      "text/plain": [
       "Power_divergenceResult(statistic=1.9662966537966542, pvalue=0.7419579705258157)"
      ]
     },
     "execution_count": 36,
     "metadata": {},
     "output_type": "execute_result"
    },
    {
     "data": {
      "image/png": "[encoded data removed]",
      "text/latex": [
       "$\\displaystyle 0.57943134569961$"
      ],
      "text/plain": [
       "0.5794313456996103"
      ]
     },
     "execution_count": 36,
     "metadata": {},
     "output_type": "execute_result"
    }
   ],
   "source": [
    "obs_m = np.array(\n",
    "    [\n",
    "        [6,78],\n",
    "        [9,55],\n",
    "        [15,133],\n",
    "        [6,58],\n",
    "    ]\n",
    ")\n",
    "\n",
    "obs_m\n",
    "\n",
    "exp_m = np.array(\n",
    "    [\n",
    "        [8.4, 75.6],\n",
    "        [6.4,57.6],\n",
    "        [14.8,133.2],\n",
    "        [6.4,57.6],\n",
    "    ]\n",
    ")\n",
    "\n",
    "exp_m\n",
    "\n",
    "df = (obs_m.shape[0] - 1) * (obs_m.shape[1] - 1)\n",
    "print(f\"df = {df}\")\n",
    "\n",
    "scipy.stats.chisquare(obs_m, exp_m, axis=None, ddof=df)\n",
    "\n",
    "1 - scipy.stats.chi2.cdf(scipy.stats.chisquare(obs_m, exp_m, axis=None).statistic, df=df)"
   ]
  },
  {
   "cell_type": "code",
   "execution_count": 37,
   "id": "35dc1f39-c883-4033-8467-c93f3783f403",
   "metadata": {},
   "outputs": [
    {
     "data": {
      "text/plain": [
       "array([[  6,  20,  94],\n",
       "       [ 10,  13,  97],\n",
       "       [ 20,  33, 307]])"
      ]
     },
     "execution_count": 37,
     "metadata": {},
     "output_type": "execute_result"
    },
    {
     "data": {
      "text/plain": [
       "array([[  7.2,  13.2,  99.6],\n",
       "       [  7.2,  13.2,  99.6],\n",
       "       [ 21.6,  39.6, 298.8]])"
      ]
     },
     "execution_count": 37,
     "metadata": {},
     "output_type": "execute_result"
    },
    {
     "name": "stdout",
     "output_type": "stream",
     "text": [
      "df = 4\n"
     ]
    },
    {
     "data": {
      "text/plain": [
       "Power_divergenceResult(statistic=6.621232404364934, pvalue=0.1573102454361324)"
      ]
     },
     "execution_count": 37,
     "metadata": {},
     "output_type": "execute_result"
    },
    {
     "data": {
      "image/png": "[encoded data removed]",
      "text/latex": [
       "$\\displaystyle 0.157310245436132$"
      ],
      "text/plain": [
       "0.15731024543613237"
      ]
     },
     "execution_count": 37,
     "metadata": {},
     "output_type": "execute_result"
    }
   ],
   "source": [
    "obs_m = np.array(\n",
    "    [\n",
    "        [6,20,94],\n",
    "        [10,13,97],\n",
    "        [20,33,307],\n",
    "    ]\n",
    ")\n",
    "\n",
    "obs_m\n",
    "\n",
    "exp_m = np.array(\n",
    "    [\n",
    "        [7.2,13.2,99.6],\n",
    "        [7.2,13.2,99.6],\n",
    "        [21.6,39.6,298.8],\n",
    "    ]\n",
    ")\n",
    "\n",
    "exp_m\n",
    "\n",
    "df = (obs_m.shape[0] - 1) * (obs_m.shape[1] - 1)\n",
    "print(f\"df = {df}\")\n",
    "\n",
    "scipy.stats.chisquare(obs_m, exp_m, axis=None, ddof=df)\n",
    "\n",
    "1 - scipy.stats.chi2.cdf(scipy.stats.chisquare(obs_m, exp_m, axis=None).statistic, df=df)"
   ]
  },
  {
   "cell_type": "code",
   "execution_count": 38,
   "id": "f29649ca-9ddf-4138-a426-75c42f23fd05",
   "metadata": {},
   "outputs": [
    {
     "data": {
      "text/plain": [
       "array([[48, 64],\n",
       "       [33, 27],\n",
       "       [19,  9]])"
      ]
     },
     "execution_count": 38,
     "metadata": {},
     "output_type": "execute_result"
    },
    {
     "data": {
      "text/plain": [
       "array([[56, 56],\n",
       "       [30, 30],\n",
       "       [14, 14]])"
      ]
     },
     "execution_count": 38,
     "metadata": {},
     "output_type": "execute_result"
    },
    {
     "name": "stdout",
     "output_type": "stream",
     "text": [
      "df = 2\n"
     ]
    },
    {
     "data": {
      "text/plain": [
       "Power_divergenceResult(statistic=6.457142857142856, pvalue=0.09136809359628524)"
      ]
     },
     "execution_count": 38,
     "metadata": {},
     "output_type": "execute_result"
    },
    {
     "data": {
      "image/png": "[encoded data removed]",
      "text/latex": [
       "$\\displaystyle 0.0396140498849765$"
      ],
      "text/plain": [
       "0.03961404988497652"
      ]
     },
     "execution_count": 38,
     "metadata": {},
     "output_type": "execute_result"
    }
   ],
   "source": [
    "obs_m = np.array(\n",
    "    [\n",
    "        [48,64],\n",
    "        [33,27],\n",
    "        [19,9],\n",
    "    ]\n",
    ")\n",
    "\n",
    "obs_m\n",
    "\n",
    "exp_m = np.array(\n",
    "    [\n",
    "        [56,56],\n",
    "        [30,30],\n",
    "        [14,14],\n",
    "    ]\n",
    ")\n",
    "\n",
    "exp_m\n",
    "\n",
    "df = (obs_m.shape[0] - 1) * (obs_m.shape[1] - 1)\n",
    "print(f\"df = {df}\")\n",
    "\n",
    "scipy.stats.chisquare(obs_m, exp_m, axis=None, ddof=df)\n",
    "\n",
    "1 - scipy.stats.chi2.cdf(scipy.stats.chisquare(obs_m, exp_m, axis=None).statistic, df=df)"
   ]
  },
  {
   "cell_type": "code",
   "execution_count": null,
   "id": "f6f253e2-f127-41ad-9512-a492c515a28e",
   "metadata": {},
   "outputs": [],
   "source": []
  }
 ],
 "metadata": {
  "kernelspec": {
   "display_name": "Math",
   "language": "python",
   "name": "math"
  },
  "language_info": {
   "codemirror_mode": {
    "name": "ipython",
    "version": 3
   },
   "file_extension": ".py",
   "mimetype": "text/x-python",
   "name": "python",
   "nbconvert_exporter": "python",
   "pygments_lexer": "ipython3",
   "version": "3.8.13"
  }
 },
 "nbformat": 4,
 "nbformat_minor": 5
}
