{
 "cells": [
  {
   "cell_type": "code",
   "execution_count": 1,
   "id": "9e1b9336-71bc-4c3c-8cf0-40414d812ca0",
   "metadata": {},
   "outputs": [
    {
     "name": "stdout",
     "output_type": "stream",
     "text": [
      "Added D:\\Dev\\Code\\MyMathLab to PATH\n"
     ]
    }
   ],
   "source": [
    "from IPython.core.interactiveshell import InteractiveShell\n",
    "InteractiveShell.ast_node_interactivity = 'all'\n",
    "\n",
    "# import self-made module\n",
    "import os, sys, pathlib\n",
    "file_path = os.path.abspath('')\n",
    "PROJECT_DIR = str(pathlib.Path(file_path).parent)\n",
    "sys.path.append(PROJECT_DIR)\n",
    "print(f\"Added {PROJECT_DIR} to PATH\")\n",
    "from athena import *\n",
    "from sympy.vector import CoordSys3D, gradient, curl, ParametricRegion, vector_integrate, scalar_potential\n",
    "from sympy.integrals.manualintegrate import integral_steps\n",
    "\n",
    "sp.init_printing()\n",
    "\n",
    "# ult functions\n",
    "def reset_symbols():\n",
    "    global x, y, z, a, b, c, d, e, f, g, h, r, s, k, t, u, v, theta, lmda, rho, phi\n",
    "    x, y, z = sp.symbols('x y z', real=True)\n",
    "    a, b, c, d, e, f, g, h, r, s, k, t, u, v = sp.symbols('a b c d e f g h r s k t u v', real=True)\n",
    "    theta = sp.Symbol('theta')\n",
    "    lmda = sp.Symbol('lambda')\n",
    "    rho = sp.Symbol('rho')\n",
    "    phi = sp.Symbol('phi')\n",
    "    \n",
    "\n",
    "reset_symbols()\n",
    "\n",
    "import statistics\n",
    "import math\n",
    "import numpy as np\n",
    "import scipy"
   ]
  },
  {
   "cell_type": "code",
   "execution_count": 2,
   "id": "c342f4a7-a564-47f7-b48e-3e97963db47c",
   "metadata": {},
   "outputs": [],
   "source": [
    "def get_std_sample_dist(std_pop, n):\n",
    "    return std_pop / math.sqrt(n)"
   ]
  },
  {
   "cell_type": "code",
   "execution_count": 3,
   "id": "0b6c6fc1-9f07-49c0-b3a0-04d8c2a722f6",
   "metadata": {},
   "outputs": [
    {
     "data": {
      "image/png": "[encoded data removed]",
      "text/latex": [
       "$\\displaystyle 0.0216758756304313$"
      ],
      "text/plain": [
       "0.021675875630431274"
      ]
     },
     "execution_count": 3,
     "metadata": {},
     "output_type": "execute_result"
    }
   ],
   "source": [
    "n = 50\n",
    "std_pop = 0.7\n",
    "std_sample_mean = get_std_sample_dist(std_pop, n)\n",
    "mean_pop = 2\n",
    "mean_s_dist_s_mean = mean_pop\n",
    "\n",
    "1 - scipy.stats.norm.cdf(get_z_score(2.2, mean_s_dist_s_mean, std_sample_mean))"
   ]
  },
  {
   "cell_type": "code",
   "execution_count": 4,
   "id": "883b0216-0a37-4412-b740-64fe90e96c25",
   "metadata": {},
   "outputs": [
    {
     "data": {
      "image/png": "[encoded data removed]",
      "text/latex": [
       "$\\displaystyle 4.47213595499958$"
      ],
      "text/plain": [
       "4.47213595499958"
      ]
     },
     "execution_count": 4,
     "metadata": {},
     "output_type": "execute_result"
    }
   ],
   "source": [
    "get_std_sample_dist(10, 5)"
   ]
  },
  {
   "cell_type": "code",
   "execution_count": 5,
   "id": "55041404-b5f2-43a7-adb9-1f2287c597ff",
   "metadata": {},
   "outputs": [
    {
     "data": {
      "image/png": "[encoded data removed]",
      "text/latex": [
       "$\\displaystyle 1.25$"
      ],
      "text/plain": [
       "1.25"
      ]
     },
     "execution_count": 5,
     "metadata": {},
     "output_type": "execute_result"
    }
   ],
   "source": [
    "get_std_sample_dist(5, 16)"
   ]
  },
  {
   "cell_type": "code",
   "execution_count": 6,
   "id": "29cf3861-ef3f-48ea-a2a9-1178ab9da215",
   "metadata": {},
   "outputs": [
    {
     "data": {
      "image/png": "[encoded data removed]",
      "text/latex": [
       "$\\displaystyle 2.88675134594813$"
      ],
      "text/plain": [
       "2.886751345948129"
      ]
     },
     "execution_count": 6,
     "metadata": {},
     "output_type": "execute_result"
    }
   ],
   "source": [
    "get_std_sample_dist(5, 3)"
   ]
  },
  {
   "cell_type": "code",
   "execution_count": 7,
   "id": "4f3c8c6a-dc59-4394-9099-a6e8e8c57cb3",
   "metadata": {},
   "outputs": [
    {
     "name": "stdout",
     "output_type": "stream",
     "text": [
      "std sample mean 3.0\n"
     ]
    },
    {
     "data": {
      "image/png": "[encoded data removed]",
      "text/latex": [
       "$\\displaystyle 0.158655253931457$"
      ],
      "text/plain": [
       "0.15865525393145707"
      ]
     },
     "execution_count": 7,
     "metadata": {},
     "output_type": "execute_result"
    },
    {
     "data": {
      "image/png": "[encoded data removed]",
      "text/latex": [
       "$\\displaystyle 0.158655253931457$"
      ],
      "text/plain": [
       "0.15865525393145707"
      ]
     },
     "execution_count": 7,
     "metadata": {},
     "output_type": "execute_result"
    }
   ],
   "source": [
    "n = 16\n",
    "std_pop = 12\n",
    "std_sample_mean = get_std_sample_dist(std_pop, n)\n",
    "mean_pop = 200\n",
    "mean_s_dist_s_mean = mean_pop\n",
    "\n",
    "print(f\"std sample mean {std_sample_mean}\")\n",
    "\n",
    "1 - scipy.stats.norm.cdf(get_z_score(203, mean_s_dist_s_mean, std_sample_mean))\n",
    "scipy.stats.norm.cdf(get_z_score(197, mean_s_dist_s_mean, std_sample_mean))"
   ]
  },
  {
   "cell_type": "code",
   "execution_count": 8,
   "id": "11dfa3b0-6e5a-48b1-8357-84e1984d33a9",
   "metadata": {},
   "outputs": [
    {
     "name": "stdout",
     "output_type": "stream",
     "text": [
      "std sample mean 0.75\n"
     ]
    },
    {
     "data": {
      "image/png": "[encoded data removed]",
      "text/latex": [
       "$\\displaystyle 0.158655253931457$"
      ],
      "text/plain": [
       "0.15865525393145707"
      ]
     },
     "execution_count": 8,
     "metadata": {},
     "output_type": "execute_result"
    }
   ],
   "source": [
    "n = 4\n",
    "std_pop = 1.5\n",
    "std_sample_mean = get_std_sample_dist(std_pop, n)\n",
    "mean_pop = 30\n",
    "mean_s_dist_s_mean = mean_pop\n",
    "\n",
    "print(f\"std sample mean {std_sample_mean}\")\n",
    "\n",
    "1 - scipy.stats.norm.cdf(get_z_score(30.75, mean_s_dist_s_mean, std_sample_mean))"
   ]
  },
  {
   "cell_type": "code",
   "execution_count": 9,
   "id": "2ff24200-f015-4239-8d19-be6088f8675c",
   "metadata": {},
   "outputs": [
    {
     "name": "stdout",
     "output_type": "stream",
     "text": [
      "std sample mean 0.05\n"
     ]
    },
    {
     "data": {
      "image/png": "[encoded data removed]",
      "text/latex": [
       "$\\displaystyle 0.0227501319481791$"
      ],
      "text/plain": [
       "0.0227501319481791"
      ]
     },
     "execution_count": 9,
     "metadata": {},
     "output_type": "execute_result"
    },
    {
     "data": {
      "image/png": "[encoded data removed]",
      "text/latex": [
       "$\\displaystyle 0.0455002638963582$"
      ],
      "text/plain": [
       "0.0455002638963582"
      ]
     },
     "execution_count": 9,
     "metadata": {},
     "output_type": "execute_result"
    },
    {
     "data": {
      "image/png": "[encoded data removed]",
      "text/latex": [
       "$\\displaystyle 0.954499736103642$"
      ],
      "text/plain": [
       "0.9544997361036418"
      ]
     },
     "execution_count": 9,
     "metadata": {},
     "output_type": "execute_result"
    }
   ],
   "source": [
    "n = 100\n",
    "std_pop = 0.5\n",
    "std_sample_mean = get_std_sample_dist(std_pop, n)\n",
    "mean_pop = 2\n",
    "mean_s_dist_s_mean = mean_pop\n",
    "\n",
    "print(f\"std sample mean {std_sample_mean}\")\n",
    "\n",
    "scipy.stats.norm.cdf(get_z_score(1.9, mean_s_dist_s_mean, std_sample_mean))\n",
    "scipy.stats.norm.cdf(get_z_score(1.9, mean_s_dist_s_mean, std_sample_mean)) * 2\n",
    "scipy.stats.norm.cdf(get_z_score(2.1, mean_s_dist_s_mean, std_sample_mean)) - scipy.stats.norm.cdf(get_z_score(1.9, mean_s_dist_s_mean, std_sample_mean))"
   ]
  },
  {
   "cell_type": "code",
   "execution_count": 23,
   "id": "0a998364-2341-4178-b80f-ed80762d58ad",
   "metadata": {},
   "outputs": [
    {
     "name": "stdout",
     "output_type": "stream",
     "text": [
      "p = 0, numerator = 0\n",
      "p = 0.100000000000000, numerator = 0.0900000000000000\n",
      "p = 0.200000000000000, numerator = 0.160000000000000\n",
      "p = 0.300000000000000, numerator = 0.210000000000000\n",
      "p = 0.400000000000000, numerator = 0.240000000000000\n",
      "p = 0.500000000000000, numerator = 0.250000000000000\n",
      "p = 0.600000000000000, numerator = 0.240000000000000\n",
      "p = 0.700000000000000, numerator = 0.210000000000000\n",
      "p = 0.800000000000000, numerator = 0.160000000000000\n",
      "p = 0.900000000000000, numerator = 0.0900000000000000\n",
      "p = 1.00000000000000, numerator = 0\n"
     ]
    }
   ],
   "source": [
    "for i in range(0, 100 + 10, 10):\n",
    "    p = sp.Number(i) / 100\n",
    "    print(f\"p = {p.evalf()}, numerator = {(p * (1 - p)).evalf()}\")"
   ]
  },
  {
   "cell_type": "code",
   "execution_count": 20,
   "id": "4d598e3b-f644-4891-834b-9d4a198f38b1",
   "metadata": {},
   "outputs": [
    {
     "data": {
      "text/plain": [
       "<module 'sympy.core.evalf' from 'D:\\\\Dev\\\\anaconda3\\\\envs\\\\math\\\\lib\\\\site-packages\\\\sympy\\\\core\\\\evalf.py'>"
      ]
     },
     "execution_count": 20,
     "metadata": {},
     "output_type": "execute_result"
    }
   ],
   "source": []
  },
  {
   "cell_type": "code",
   "execution_count": null,
   "id": "b0df712f-696c-421e-9e12-f89b0f9f52a6",
   "metadata": {},
   "outputs": [],
   "source": []
  }
 ],
 "metadata": {
  "kernelspec": {
   "display_name": "Math",
   "language": "python",
   "name": "math"
  },
  "language_info": {
   "codemirror_mode": {
    "name": "ipython",
    "version": 3
   },
   "file_extension": ".py",
   "mimetype": "text/x-python",
   "name": "python",
   "nbconvert_exporter": "python",
   "pygments_lexer": "ipython3",
   "version": "3.8.13"
  }
 },
 "nbformat": 4,
 "nbformat_minor": 5
}
