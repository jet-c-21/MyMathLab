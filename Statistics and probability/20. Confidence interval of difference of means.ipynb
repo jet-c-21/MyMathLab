{
 "cells": [
  {
   "cell_type": "code",
   "execution_count": 1,
   "id": "62353d97-7c6f-4fa3-9bef-037b1f92292b",
   "metadata": {},
   "outputs": [
    {
     "name": "stdout",
     "output_type": "stream",
     "text": [
      "Added D:\\Dev\\Code\\MyMathLab to PATH\n"
     ]
    }
   ],
   "source": [
    "from IPython.core.interactiveshell import InteractiveShell\n",
    "InteractiveShell.ast_node_interactivity = 'all'\n",
    "\n",
    "# import self-made module\n",
    "import os, sys, pathlib\n",
    "file_path = os.path.abspath('')\n",
    "PROJECT_DIR = str(pathlib.Path(file_path).parent)\n",
    "sys.path.append(PROJECT_DIR)\n",
    "print(f\"Added {PROJECT_DIR} to PATH\")\n",
    "from athena import *\n",
    "from sympy.vector import CoordSys3D, gradient, curl, ParametricRegion, vector_integrate, scalar_potential\n",
    "from sympy.integrals.manualintegrate import integral_steps\n",
    "\n",
    "sp.init_printing()\n",
    "\n",
    "# ult functions\n",
    "def reset_symbols():\n",
    "    global x, y, z, a, b, c, d, e, f, g, h, r, s, k, t, u, v, theta, lmda, rho, phi\n",
    "    x, y, z = sp.symbols('x y z', real=True)\n",
    "    a, b, c, d, e, f, g, h, r, s, k, t, u, v = sp.symbols('a b c d e f g h r s k t u v', real=True)\n",
    "    theta = sp.Symbol('theta')\n",
    "    lmda = sp.Symbol('lambda')\n",
    "    rho = sp.Symbol('rho')\n",
    "    phi = sp.Symbol('phi')\n",
    "    \n",
    "\n",
    "reset_symbols()\n",
    "\n",
    "import statistics\n",
    "import math\n",
    "import numpy as np\n",
    "import scipy"
   ]
  },
  {
   "cell_type": "code",
   "execution_count": 8,
   "id": "e40ec89d-5ada-4907-8035-9c5e8bd8a003",
   "metadata": {},
   "outputs": [
    {
     "name": "stdout",
     "output_type": "stream",
     "text": [
      "diff std = 0.6174989878534215\n"
     ]
    },
    {
     "data": {
      "image/png": "[encoded data removed]",
      "text/latex": [
       "$\\displaystyle \\left( 0.699724223317358, \\  3.12027577668264\\right)$"
      ],
      "text/plain": [
       "(0.6997242233173577, 3.1202757766826426)"
      ]
     },
     "execution_count": 8,
     "metadata": {},
     "output_type": "execute_result"
    },
    {
     "data": {
      "image/png": "[encoded data removed]",
      "text/latex": [
       "$\\displaystyle 3.0931224788556$"
      ],
      "text/plain": [
       "3.0931224788556015"
      ]
     },
     "execution_count": 8,
     "metadata": {},
     "output_type": "execute_result"
    },
    {
     "data": {
      "image/png": "[encoded data removed]",
      "text/latex": [
       "$\\displaystyle 0.000990311869962124$"
      ],
      "text/plain": [
       "0.0009903118699621238"
      ]
     },
     "execution_count": 8,
     "metadata": {},
     "output_type": "execute_result"
    }
   ],
   "source": [
    "sa_n = 100\n",
    "sa_mean = 9.31\n",
    "sa_std = 4.67\n",
    "\n",
    "sb_n = 100\n",
    "sb_mean = 7.4\n",
    "sb_std = 4.04\n",
    "\n",
    "d_mean = sa_mean - sb_mean\n",
    "d_std = math.sqrt( (sa_std ** 2 / sa_n) + (sb_std ** 2 / sb_n) )\n",
    "print(f\"diff std = {d_std}\")\n",
    "\n",
    "z_star = get_z_star(.95)\n",
    "moe = z_star * d_std\n",
    "\n",
    "lower_bound = d_mean - moe\n",
    "higher_bound = d_mean + moe\n",
    "\n",
    "(lower_bound, higher_bound)\n",
    "\n",
    "z_stat = get_z_score(d_mean, 0, d_std)\n",
    "z_stat\n",
    "\n",
    "p_val = get_p_value_by_z(z_stat)\n",
    "p_val"
   ]
  },
  {
   "cell_type": "code",
   "execution_count": 5,
   "id": "ad3187ac-a431-4c03-84cf-a88051324c80",
   "metadata": {},
   "outputs": [
    {
     "data": {
      "text/plain": [
       "<function athena.stats.get_z_statistic(p0: float, s_n: int, s_p_n: int) -> float>"
      ]
     },
     "execution_count": 5,
     "metadata": {},
     "output_type": "execute_result"
    }
   ],
   "source": [
    "get_z_statistic"
   ]
  },
  {
   "cell_type": "code",
   "execution_count": null,
   "id": "c701b86d-442e-4c07-885a-2a895fe3c421",
   "metadata": {},
   "outputs": [],
   "source": []
  },
  {
   "cell_type": "code",
   "execution_count": null,
   "id": "adc63543-3c2a-42c2-819d-30a5b75b5385",
   "metadata": {},
   "outputs": [],
   "source": []
  }
 ],
 "metadata": {
  "kernelspec": {
   "display_name": "Math",
   "language": "python",
   "name": "math"
  },
  "language_info": {
   "codemirror_mode": {
    "name": "ipython",
    "version": 3
   },
   "file_extension": ".py",
   "mimetype": "text/x-python",
   "name": "python",
   "nbconvert_exporter": "python",
   "pygments_lexer": "ipython3",
   "version": "3.8.13"
  }
 },
 "nbformat": 4,
 "nbformat_minor": 5
}
