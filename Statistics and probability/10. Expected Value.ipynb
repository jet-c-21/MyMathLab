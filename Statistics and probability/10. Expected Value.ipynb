{
 "cells": [
  {
   "cell_type": "code",
   "execution_count": 1,
   "id": "2740b709-c0db-4f0e-bee6-3f0554e80c94",
   "metadata": {},
   "outputs": [
    {
     "name": "stdout",
     "output_type": "stream",
     "text": [
      "Added D:\\Dev\\Code\\MyMathLab to PATH\n"
     ]
    }
   ],
   "source": [
    "from IPython.core.interactiveshell import InteractiveShell\n",
    "InteractiveShell.ast_node_interactivity = 'all'\n",
    "\n",
    "# import self-made module\n",
    "import os, sys, pathlib\n",
    "file_path = os.path.abspath('')\n",
    "PROJECT_DIR = str(pathlib.Path(file_path).parent)\n",
    "sys.path.append(PROJECT_DIR)\n",
    "print(f\"Added {PROJECT_DIR} to PATH\")\n",
    "from athena import *\n",
    "from sympy.vector import CoordSys3D, gradient, curl, ParametricRegion, vector_integrate, scalar_potential\n",
    "from sympy.integrals.manualintegrate import integral_steps\n",
    "\n",
    "sp.init_printing()\n",
    "\n",
    "# ult functions\n",
    "def reset_symbols():\n",
    "    global x, y, z, a, b, c, d, e, f, g, h, r, s, k, t, u, v, theta, lmda, rho, phi\n",
    "    x, y, z = sp.symbols('x y z', real=True)\n",
    "    a, b, c, d, e, f, g, h, r, s, k, t, u, v = sp.symbols('a b c d e f g h r s k t u v', real=True)\n",
    "    theta = sp.Symbol('theta')\n",
    "    lmda = sp.Symbol('lambda')\n",
    "    rho = sp.Symbol('rho')\n",
    "    phi = sp.Symbol('phi')\n",
    "    \n",
    "\n",
    "reset_symbols()\n",
    "\n",
    "import statistics\n",
    "import math\n",
    "import numpy as np\n",
    "import pandas as pd\n",
    "import scipy\n"
   ]
  },
  {
   "cell_type": "code",
   "execution_count": 2,
   "id": "e02f5998-07ee-41df-9da4-07472b0ac833",
   "metadata": {},
   "outputs": [
    {
     "data": {
      "image/png": "[encoded data removed]",
      "text/latex": [
       "$\\displaystyle -15.0$"
      ],
      "text/plain": [
       "-15.0000000000000"
      ]
     },
     "execution_count": 2,
     "metadata": {},
     "output_type": "execute_result"
    }
   ],
   "source": [
    "xm = sp.Matrix(list(range(-50, 75, 25)))\n",
    "pm = sp.Matrix([0.35, 0.25, 0.15, 0.15, 0.1])\n",
    "\n",
    "xm.dot(pm)"
   ]
  },
  {
   "cell_type": "code",
   "execution_count": 3,
   "id": "128ea012-5bc0-4b06-b6b9-b7d06dd18c56",
   "metadata": {},
   "outputs": [
    {
     "data": {
      "image/png": "[encoded data removed]",
      "text/latex": [
       "$\\displaystyle 3.2$"
      ],
      "text/plain": [
       "3.20000000000000"
      ]
     },
     "execution_count": 3,
     "metadata": {},
     "output_type": "execute_result"
    }
   ],
   "source": [
    "xm = sp.Matrix([0,3,7,10])\n",
    "pm = sp.Matrix([0.3,0.5,0.1,0.1])\n",
    "\n",
    "xm.dot(pm)"
   ]
  },
  {
   "cell_type": "code",
   "execution_count": 4,
   "id": "01ebda05-bb24-4bba-af94-1c700dcb82cc",
   "metadata": {},
   "outputs": [
    {
     "data": {
      "image/png": "[encoded data removed]",
      "text/latex": [
       "$\\displaystyle -140.0$"
      ],
      "text/plain": [
       "-140.000000000000"
      ]
     },
     "execution_count": 4,
     "metadata": {},
     "output_type": "execute_result"
    }
   ],
   "source": [
    "xm = sp.Matrix([800 - 300, -300])\n",
    "pm = sp.Matrix([0.2, 0.8])\n",
    "\n",
    "xm.dot(pm)"
   ]
  },
  {
   "cell_type": "code",
   "execution_count": 5,
   "id": "2c7e9088-4d19-4b10-9027-7b00f78a3c94",
   "metadata": {},
   "outputs": [
    {
     "data": {
      "image/png": "[encoded data removed]",
      "text/latex": [
       "$\\displaystyle 0.25$"
      ],
      "text/plain": [
       "0.250000000000000"
      ]
     },
     "execution_count": 5,
     "metadata": {},
     "output_type": "execute_result"
    }
   ],
   "source": [
    "xm = sp.Matrix(list(range(-1, 2+1, 1)))\n",
    "pm = sp.Matrix([0.45, 0.05, 0.3, 0.2])\n",
    "\n",
    "xm.dot(pm)"
   ]
  },
  {
   "cell_type": "code",
   "execution_count": 6,
   "id": "bf5b892e-12f8-438a-8cd8-4b027b55b13c",
   "metadata": {},
   "outputs": [
    {
     "data": {
      "image/png": "[encoded data removed]",
      "text/latex": [
       "$\\displaystyle -0.5$"
      ],
      "text/plain": [
       "-0.500000000000000"
      ]
     },
     "execution_count": 6,
     "metadata": {},
     "output_type": "execute_result"
    }
   ],
   "source": [
    "xm = sp.Matrix([10, -11])\n",
    "pm = sp.Matrix([0.5, 0.5])\n",
    "\n",
    "xm.dot(pm)"
   ]
  },
  {
   "cell_type": "code",
   "execution_count": 7,
   "id": "3199c23b-d55b-4b62-8610-a9cf9d3ac4bd",
   "metadata": {},
   "outputs": [
    {
     "data": {
      "image/png": "[encoded data removed]",
      "text/latex": [
       "$\\displaystyle 3.27$"
      ],
      "text/plain": [
       "3.27000000000000"
      ]
     },
     "execution_count": 7,
     "metadata": {},
     "output_type": "execute_result"
    }
   ],
   "source": [
    "xm = sp.Matrix(list(range(1, 5+1, 1)))\n",
    "pm = sp.Matrix([0.09,0.03,0.52,0.24,0.12])\n",
    "\n",
    "xm.dot(pm)"
   ]
  },
  {
   "cell_type": "code",
   "execution_count": 8,
   "id": "5e92fe5d-8152-41a9-b6cb-427859fb1410",
   "metadata": {},
   "outputs": [
    {
     "data": {
      "image/png": "[encoded data removed]",
      "text/latex": [
       "$\\displaystyle 1.9$"
      ],
      "text/plain": [
       "1.90000000000000"
      ]
     },
     "execution_count": 8,
     "metadata": {},
     "output_type": "execute_result"
    }
   ],
   "source": [
    "xm = sp.Matrix(list(range(4)))\n",
    "pm = sp.Matrix([0.05,0.1,0.75,0.1])\n",
    "\n",
    "xm.dot(pm)"
   ]
  },
  {
   "cell_type": "code",
   "execution_count": 9,
   "id": "5c117912-76ff-4324-a986-10535b94b977",
   "metadata": {},
   "outputs": [
    {
     "data": {
      "image/png": "[encoded data removed]",
      "text/latex": [
       "$\\displaystyle 9.5$"
      ],
      "text/plain": [
       "9.50000000000000"
      ]
     },
     "execution_count": 9,
     "metadata": {},
     "output_type": "execute_result"
    }
   ],
   "source": [
    "xm = sp.Matrix(list(range(0,30+10,10)))\n",
    "pm = sp.Matrix([0.3,0.5,0.15,0.05])\n",
    "\n",
    "xm.dot(pm)"
   ]
  },
  {
   "cell_type": "code",
   "execution_count": 10,
   "id": "8f69653b-74a7-464b-babd-5c5297eb8d31",
   "metadata": {},
   "outputs": [
    {
     "data": {
      "image/png": "[encoded data removed]",
      "text/latex": [
       "$\\displaystyle -9.09494701772928 \\cdot 10^{-13}$"
      ],
      "text/plain": [
       "-9.09494701772928e-13"
      ]
     },
     "execution_count": 10,
     "metadata": {},
     "output_type": "execute_result"
    }
   ],
   "source": [
    "xm = sp.Matrix([sp.Number(-10000), sp.Number(40000), sp.Number(90000)])\n",
    "# for i in range(len(xm)):\n",
    "#     xm[i] = sp.Number(xm[i])\n",
    "\n",
    "pm = sp.Matrix([sp.Number(0.81), sp.Number(0.18), sp.Number(0.01)])\n",
    "# for i in range(len(pm)):\n",
    "    # pm[i] = sp.Number(pm[i])\n",
    "\n",
    "xm.dot(pm)"
   ]
  },
  {
   "cell_type": "code",
   "execution_count": 11,
   "id": "b8e75b3f-e279-4e55-b742-add1171976dc",
   "metadata": {},
   "outputs": [
    {
     "data": {
      "image/png": "[encoded data removed]",
      "text/latex": [
       "$\\displaystyle -8100.0$"
      ],
      "text/plain": [
       "-8100.000000000001"
      ]
     },
     "execution_count": 11,
     "metadata": {},
     "output_type": "execute_result"
    }
   ],
   "source": [
    "(-10000 * 0.81) "
   ]
  },
  {
   "cell_type": "code",
   "execution_count": 12,
   "id": "68c19d68-9cb7-4fb6-83be-3572107e5986",
   "metadata": {},
   "outputs": [
    {
     "data": {
      "image/png": "[encoded data removed]",
      "text/latex": [
       "$\\displaystyle 8100.0$"
      ],
      "text/plain": [
       "8100.0"
      ]
     },
     "execution_count": 12,
     "metadata": {},
     "output_type": "execute_result"
    }
   ],
   "source": [
    "(40000 * 0.18) + (90000 * 0.01)"
   ]
  },
  {
   "cell_type": "code",
   "execution_count": 13,
   "id": "a568ecc4-4410-4ef8-a411-ab323dfcaaa2",
   "metadata": {},
   "outputs": [
    {
     "data": {
      "image/png": "[encoded data removed]",
      "text/latex": [
       "$\\displaystyle 1.75$"
      ],
      "text/plain": [
       "1.75000000000000"
      ]
     },
     "execution_count": 13,
     "metadata": {},
     "output_type": "execute_result"
    }
   ],
   "source": [
    "xm = sp.Matrix([1, 2, 3])\n",
    "pm = sp.Matrix([0.5, 0.25, 0.25])\n",
    "\n",
    "xm.dot(pm)"
   ]
  },
  {
   "cell_type": "code",
   "execution_count": 14,
   "id": "bf2eddb9-34b5-4c86-9714-3892e39ef855",
   "metadata": {},
   "outputs": [
    {
     "data": {
      "image/png": "[encoded data removed]",
      "text/latex": [
       "$\\displaystyle 0.32$"
      ],
      "text/plain": [
       "0.32000000000000006"
      ]
     },
     "execution_count": 14,
     "metadata": {},
     "output_type": "execute_result"
    },
    {
     "data": {
      "image/png": "[encoded data removed]",
      "text/latex": [
       "$\\displaystyle 0.565685424949238$"
      ],
      "text/plain": [
       "0.5656854249492381"
      ]
     },
     "execution_count": 14,
     "metadata": {},
     "output_type": "execute_result"
    }
   ],
   "source": [
    "x_ls = [0,1,2]\n",
    "p_ls = [0.64, 0.32, 0.04]\n",
    "\n",
    "var = 0\n",
    "mean = 0.4\n",
    "for x, p in zip(x_ls, p_ls):\n",
    "    var += (x - mean) ** 2 * p\n",
    "\n",
    "var\n",
    "std = math.sqrt(var)\n",
    "std"
   ]
  },
  {
   "cell_type": "code",
   "execution_count": 15,
   "id": "4358ed4e-cc61-4fd9-abbe-3d7b1e969988",
   "metadata": {},
   "outputs": [
    {
     "data": {
      "image/png": "[encoded data removed]",
      "text/latex": [
       "$\\displaystyle 16.0$"
      ],
      "text/plain": [
       "16.0"
      ]
     },
     "execution_count": 15,
     "metadata": {},
     "output_type": "execute_result"
    },
    {
     "data": {
      "image/png": "[encoded data removed]",
      "text/latex": [
       "$\\displaystyle 4.0$"
      ],
      "text/plain": [
       "4.0"
      ]
     },
     "execution_count": 15,
     "metadata": {},
     "output_type": "execute_result"
    }
   ],
   "source": [
    "x_ls = [10, 20]\n",
    "p_ls = [.2, .8]\n",
    "\n",
    "var = 0\n",
    "mean = 18\n",
    "for x, p in zip(x_ls, p_ls):\n",
    "    var += (x - mean) ** 2 * p\n",
    "\n",
    "var\n",
    "std = math.sqrt(var)\n",
    "std"
   ]
  },
  {
   "cell_type": "code",
   "execution_count": 16,
   "id": "8c8e499b-af89-493c-b124-7454ca578db0",
   "metadata": {},
   "outputs": [
    {
     "data": {
      "image/png": "[encoded data removed]",
      "text/latex": [
       "$\\displaystyle 0.6875$"
      ],
      "text/plain": [
       "0.6875"
      ]
     },
     "execution_count": 16,
     "metadata": {},
     "output_type": "execute_result"
    },
    {
     "data": {
      "image/png": "[encoded data removed]",
      "text/latex": [
       "$\\displaystyle 0.82915619758885$"
      ],
      "text/plain": [
       "0.82915619758885"
      ]
     },
     "execution_count": 16,
     "metadata": {},
     "output_type": "execute_result"
    }
   ],
   "source": [
    "x_ls = [1, 2, 3]\n",
    "p_ls = [.5, .25, .25]\n",
    "\n",
    "var = 0\n",
    "mean = 1.75\n",
    "for x, p in zip(x_ls, p_ls):\n",
    "    var += (x - mean) ** 2 * p\n",
    "\n",
    "var\n",
    "std = math.sqrt(var)\n",
    "std"
   ]
  },
  {
   "cell_type": "code",
   "execution_count": 17,
   "id": "6307195d-6d34-4464-9341-b92d15698b21",
   "metadata": {},
   "outputs": [
    {
     "data": {
      "image/png": "[encoded data removed]",
      "text/latex": [
       "$\\displaystyle 576.0$"
      ],
      "text/plain": [
       "576.0"
      ]
     },
     "execution_count": 17,
     "metadata": {},
     "output_type": "execute_result"
    },
    {
     "data": {
      "image/png": "[encoded data removed]",
      "text/latex": [
       "$\\displaystyle 24.0$"
      ],
      "text/plain": [
       "24.0"
      ]
     },
     "execution_count": 17,
     "metadata": {},
     "output_type": "execute_result"
    }
   ],
   "source": [
    "x_ls = [20, 100]\n",
    "p_ls = [.9, .1]\n",
    "\n",
    "var = 0\n",
    "mean = 28\n",
    "for x, p in zip(x_ls, p_ls):\n",
    "    var += (x - mean) ** 2 * p\n",
    "\n",
    "var\n",
    "std = math.sqrt(var)\n",
    "std"
   ]
  },
  {
   "cell_type": "code",
   "execution_count": 23,
   "id": "94318e70-590f-41f1-ab88-4aa6fd419824",
   "metadata": {},
   "outputs": [
    {
     "data": {
      "text/html": [
       "<div>\n",
       "<style scoped>\n",
       "    .dataframe tbody tr th:only-of-type {\n",
       "        vertical-align: middle;\n",
       "    }\n",
       "\n",
       "    .dataframe tbody tr th {\n",
       "        vertical-align: top;\n",
       "    }\n",
       "\n",
       "    .dataframe thead th {\n",
       "        text-align: right;\n",
       "    }\n",
       "</style>\n",
       "<table border=\"1\" class=\"dataframe\">\n",
       "  <thead>\n",
       "    <tr style=\"text-align: right;\">\n",
       "      <th></th>\n",
       "      <th>legs</th>\n",
       "      <th>bug_count</th>\n",
       "      <th>bcp</th>\n",
       "      <th>leg_exp</th>\n",
       "    </tr>\n",
       "  </thead>\n",
       "  <tbody>\n",
       "    <tr>\n",
       "      <th>0</th>\n",
       "      <td>2</td>\n",
       "      <td>43</td>\n",
       "      <td>0.215</td>\n",
       "      <td>0.43</td>\n",
       "    </tr>\n",
       "    <tr>\n",
       "      <th>1</th>\n",
       "      <td>4</td>\n",
       "      <td>22</td>\n",
       "      <td>0.110</td>\n",
       "      <td>0.44</td>\n",
       "    </tr>\n",
       "    <tr>\n",
       "      <th>2</th>\n",
       "      <td>6</td>\n",
       "      <td>30</td>\n",
       "      <td>0.150</td>\n",
       "      <td>0.90</td>\n",
       "    </tr>\n",
       "    <tr>\n",
       "      <th>3</th>\n",
       "      <td>8</td>\n",
       "      <td>69</td>\n",
       "      <td>0.345</td>\n",
       "      <td>2.76</td>\n",
       "    </tr>\n",
       "    <tr>\n",
       "      <th>4</th>\n",
       "      <td>10</td>\n",
       "      <td>36</td>\n",
       "      <td>0.180</td>\n",
       "      <td>1.80</td>\n",
       "    </tr>\n",
       "  </tbody>\n",
       "</table>\n",
       "</div>"
      ],
      "text/plain": [
       "   legs  bug_count    bcp  leg_exp\n",
       "0     2         43  0.215     0.43\n",
       "1     4         22  0.110     0.44\n",
       "2     6         30  0.150     0.90\n",
       "3     8         69  0.345     2.76\n",
       "4    10         36  0.180     1.80"
      ]
     },
     "execution_count": 23,
     "metadata": {},
     "output_type": "execute_result"
    },
    {
     "data": {
      "image/png": "[encoded data removed]",
      "text/latex": [
       "$\\displaystyle 6.33$"
      ],
      "text/plain": [
       "6.329999999999999"
      ]
     },
     "execution_count": 23,
     "metadata": {},
     "output_type": "execute_result"
    }
   ],
   "source": [
    "data = {\n",
    "    'legs': [2,4,6,8,10],\n",
    "    'bug_count': [43,22,30,69,36],\n",
    "}\n",
    "df = pd.DataFrame(data)\n",
    "df['bcp'] = df['bug_count'] / df['bug_count'].sum()\n",
    "df['leg_exp'] = df['legs'] * df['bcp']\n",
    "df\n",
    "\n",
    "leg_exp = df['leg_exp'].sum()\n",
    "leg_exp"
   ]
  },
  {
   "cell_type": "code",
   "execution_count": 24,
   "id": "221efd18-2e29-4078-af68-7e1fd74ba402",
   "metadata": {},
   "outputs": [
    {
     "data": {
      "image/png": "[encoded data removed]",
      "text/latex": [
       "$\\displaystyle 189.9$"
      ],
      "text/plain": [
       "189.9"
      ]
     },
     "execution_count": 24,
     "metadata": {},
     "output_type": "execute_result"
    }
   ],
   "source": [
    "6.33 * 30"
   ]
  },
  {
   "cell_type": "code",
   "execution_count": 28,
   "id": "e174c298-3d80-47f9-9a6e-60a731f0086b",
   "metadata": {},
   "outputs": [
    {
     "data": {
      "image/png": "[encoded data removed]",
      "text/latex": [
       "$\\displaystyle 1.0$"
      ],
      "text/plain": [
       "1.0"
      ]
     },
     "execution_count": 28,
     "metadata": {},
     "output_type": "execute_result"
    }
   ],
   "source": [
    "data = {\n",
    "    'cube': [0,1,2,3],\n",
    "    'guests': [50,20,10,20],\n",
    "}\n",
    "df = pd.DataFrame(data)\n",
    "df['g_rf'] = df['guests'] / df['guests'].sum()\n",
    "df['cube_exp'] = df['cube'] * df['g_rf']\n",
    "\n",
    "cube_exp = df['cube_exp'].sum()\n",
    "cube_exp"
   ]
  },
  {
   "cell_type": "code",
   "execution_count": 33,
   "id": "9f2378f8-2213-49d8-8530-1297656dacf6",
   "metadata": {},
   "outputs": [
    {
     "data": {
      "image/png": "[encoded data removed]",
      "text/latex": [
       "$\\displaystyle 14 x + 60 = 11.6 x + 69.6$"
      ],
      "text/plain": [
       "14⋅x + 60 = 11.6⋅x + 69.6"
      ]
     },
     "execution_count": 33,
     "metadata": {},
     "output_type": "execute_result"
    },
    {
     "data": {
      "image/png": "[encoded data removed]",
      "text/latex": [
       "$\\displaystyle \\left[ 4.0\\right]$"
      ],
      "text/plain": [
       "[4.0]"
      ]
     },
     "execution_count": 33,
     "metadata": {},
     "output_type": "execute_result"
    }
   ],
   "source": [
    "reset_symbols()\n",
    "eq = sp.Eq(8*2 + 11 * 4 + 14 * x, 11.6 * (2+4+x))\n",
    "eq\n",
    "\n",
    "sp.solve(eq, x)"
   ]
  },
  {
   "cell_type": "code",
   "execution_count": 37,
   "id": "157f7fe7-5e5a-49eb-8f34-5d05290c7c33",
   "metadata": {},
   "outputs": [
    {
     "data": {
      "image/png": "[encoded data removed]",
      "text/latex": [
       "$\\displaystyle \\left[ 0.0625, \\  0.25, \\  0.375, \\  0.25, \\  0.0625\\right]$"
      ],
      "text/plain": [
       "[0.0625, 0.25, 0.375, 0.25000000000000006, 0.0625]"
      ]
     },
     "execution_count": 37,
     "metadata": {},
     "output_type": "execute_result"
    },
    {
     "data": {
      "image/png": "[encoded data removed]",
      "text/latex": [
       "$\\displaystyle \\left[ 0, \\  10, \\  50, \\  75, \\  150\\right]$"
      ],
      "text/plain": [
       "[0, 10, 50, 75, 150]"
      ]
     },
     "execution_count": 37,
     "metadata": {},
     "output_type": "execute_result"
    },
    {
     "data": {
      "image/png": "[encoded data removed]",
      "text/latex": [
       "$\\displaystyle 49.375$"
      ],
      "text/plain": [
       "49.375"
      ]
     },
     "execution_count": 37,
     "metadata": {},
     "output_type": "execute_result"
    }
   ],
   "source": [
    "p_ls = []\n",
    "for i in range(5):\n",
    "    p_ls.append(scipy.stats.binom.pmf(i, 4, 0.5))\n",
    "\n",
    "w_ls = [0, 10, 50, 75, 150]\n",
    "\n",
    "p_ls\n",
    "w_ls\n",
    "np.dot(p_ls, w_ls)"
   ]
  },
  {
   "cell_type": "code",
   "execution_count": 39,
   "id": "b7614489-112c-46b8-97a7-c025eabe4681",
   "metadata": {},
   "outputs": [
    {
     "data": {
      "image/png": "[encoded data removed]",
      "text/latex": [
       "$\\displaystyle 25.52$"
      ],
      "text/plain": [
       "25.52"
      ]
     },
     "execution_count": 39,
     "metadata": {},
     "output_type": "execute_result"
    }
   ],
   "source": [
    "evt_a = 0.6 ** 2 * 0.4\n",
    "evt_b = 0.4 - evt_a\n",
    "evt_c = 1 - evt_a - evt_b\n",
    "\n",
    "p_ls = [evt_a, evt_b, evt_c]\n",
    "r_ls = [100, 20, 10]\n",
    "np.dot(p_ls, r_ls)"
   ]
  },
  {
   "cell_type": "code",
   "execution_count": 40,
   "id": "9a1484e1-11f1-4da6-9253-ad8a997240c6",
   "metadata": {},
   "outputs": [
    {
     "data": {
      "image/png": "[encoded data removed]",
      "text/latex": [
       "$\\displaystyle 83.3333333333333$"
      ],
      "text/plain": [
       "83.33333333333331"
      ]
     },
     "execution_count": 40,
     "metadata": {},
     "output_type": "execute_result"
    }
   ],
   "source": [
    "p_ls = [3/18, 15/18]\n",
    "r_ls = [1000, -100]\n",
    "np.dot(p_ls, r_ls)"
   ]
  },
  {
   "cell_type": "code",
   "execution_count": 41,
   "id": "9af92624-7a54-4917-8da2-b8c2a60b3dfa",
   "metadata": {},
   "outputs": [
    {
     "data": {
      "image/png": "[encoded data removed]",
      "text/latex": [
       "$\\displaystyle \\left[ 0.09, \\  0.42, \\  0.49\\right]$"
      ],
      "text/plain": [
       "[0.09000000000000002, 0.42000000000000015, 0.48999999999999994]"
      ]
     },
     "execution_count": 41,
     "metadata": {},
     "output_type": "execute_result"
    },
    {
     "data": {
      "image/png": "[encoded data removed]",
      "text/latex": [
       "$\\displaystyle \\left[ 50, \\  20, \\  0\\right]$"
      ],
      "text/plain": [
       "[50, 20, 0]"
      ]
     },
     "execution_count": 41,
     "metadata": {},
     "output_type": "execute_result"
    },
    {
     "data": {
      "image/png": "[encoded data removed]",
      "text/latex": [
       "$\\displaystyle 12.9$"
      ],
      "text/plain": [
       "12.900000000000002"
      ]
     },
     "execution_count": 41,
     "metadata": {},
     "output_type": "execute_result"
    }
   ],
   "source": [
    "p_ls = []\n",
    "for i in range(3):\n",
    "    p_ls.append(scipy.stats.binom.pmf(i, 2, 0.7))\n",
    "\n",
    "w_ls = [50,20,0]\n",
    "\n",
    "p_ls\n",
    "w_ls\n",
    "np.dot(p_ls, w_ls)"
   ]
  },
  {
   "cell_type": "code",
   "execution_count": 42,
   "id": "f22130ae-8fe2-4479-9cf8-8cfa47e5677c",
   "metadata": {},
   "outputs": [
    {
     "data": {
      "image/png": "[encoded data removed]",
      "text/latex": [
       "$\\displaystyle 139500.0$"
      ],
      "text/plain": [
       "139500.0"
      ]
     },
     "execution_count": 42,
     "metadata": {},
     "output_type": "execute_result"
    },
    {
     "data": {
      "image/png": "[encoded data removed]",
      "text/latex": [
       "$\\displaystyle 97500.0$"
      ],
      "text/plain": [
       "97500.0"
      ]
     },
     "execution_count": 42,
     "metadata": {},
     "output_type": "execute_result"
    }
   ],
   "source": [
    "spotlight_rf = [15/800, 24/800, 761/800]\n",
    "spotlight_cost = [900, 600, 0]\n",
    "spotlight_exp = np.dot(spotlight_rf, spotlight_cost)\n",
    "spotlight_exp * 4000\n",
    "\n",
    "stop_sign_rf = [19/800, 31/800, 750/800]\n",
    "stop_sign_cost = [700,200,0]\n",
    "stop_sign_exp = np.dot(stop_sign_rf, stop_sign_cost)\n",
    "stop_sign_exp * 4000\n"
   ]
  },
  {
   "cell_type": "code",
   "execution_count": 43,
   "id": "df9e1b23-d978-4324-8761-f85511c95c97",
   "metadata": {},
   "outputs": [
    {
     "data": {
      "image/png": "[encoded data removed]",
      "text/latex": [
       "$\\displaystyle \\left[ 9.99999999999999 \\cdot 10^{-5}, \\  0.0036, \\  0.0486, \\  0.2916, \\  0.6561\\right]$"
      ],
      "text/plain": [
       "[9.99999999999999e-05, 0.003599999999999998, 0.04859999999999999, 0.2915999999\n",
       "9999997, 0.6561000000000001]"
      ]
     },
     "execution_count": 43,
     "metadata": {},
     "output_type": "execute_result"
    },
    {
     "data": {
      "image/png": "[encoded data removed]",
      "text/latex": [
       "$\\displaystyle \\left[ -3, \\  -3, \\  -3, \\  -3, \\  10\\right]$"
      ],
      "text/plain": [
       "[-3, -3, -3, -3, 10]"
      ]
     },
     "execution_count": 43,
     "metadata": {},
     "output_type": "execute_result"
    },
    {
     "data": {
      "image/png": "[encoded data removed]",
      "text/latex": [
       "$\\displaystyle 5.5293$"
      ],
      "text/plain": [
       "5.529300000000002"
      ]
     },
     "execution_count": 43,
     "metadata": {},
     "output_type": "execute_result"
    }
   ],
   "source": [
    "p_ls = []\n",
    "for i in range(5):\n",
    "    p_ls.append(scipy.stats.binom.pmf(i, 4, 0.9))\n",
    "\n",
    "w_ls = [-3, -3, -3, -3, 10]\n",
    "\n",
    "p_ls\n",
    "w_ls\n",
    "np.dot(p_ls, w_ls)"
   ]
  },
  {
   "cell_type": "code",
   "execution_count": 44,
   "id": "dcd682d1-64c9-4a17-b0c1-065f8f7b6de0",
   "metadata": {},
   "outputs": [
    {
     "data": {
      "image/png": "[encoded data removed]",
      "text/latex": [
       "$\\displaystyle \\left[ 0.64, \\  0.32, \\  0.04\\right]$"
      ],
      "text/plain": [
       "[0.6400000000000001, 0.31999999999999995, 0.04000000000000001]"
      ]
     },
     "execution_count": 44,
     "metadata": {},
     "output_type": "execute_result"
    },
    {
     "data": {
      "image/png": "[encoded data removed]",
      "text/latex": [
       "$\\displaystyle \\left[ -2, \\  -2, \\  20\\right]$"
      ],
      "text/plain": [
       "[-2, -2, 20]"
      ]
     },
     "execution_count": 44,
     "metadata": {},
     "output_type": "execute_result"
    },
    {
     "data": {
      "image/png": "[encoded data removed]",
      "text/latex": [
       "$\\displaystyle -1.12$"
      ],
      "text/plain": [
       "-1.12"
      ]
     },
     "execution_count": 44,
     "metadata": {},
     "output_type": "execute_result"
    }
   ],
   "source": [
    "p_ls = []\n",
    "for i in range(3):\n",
    "    p_ls.append(scipy.stats.binom.pmf(i, 2, 0.2))\n",
    "\n",
    "w_ls = [-2, -2, 20]\n",
    "\n",
    "p_ls\n",
    "w_ls\n",
    "np.dot(p_ls, w_ls)"
   ]
  },
  {
   "cell_type": "code",
   "execution_count": 46,
   "id": "b9984970-e42c-43c6-8ae0-39b68172f292",
   "metadata": {},
   "outputs": [
    {
     "data": {
      "image/png": "[encoded data removed]",
      "text/latex": [
       "$\\displaystyle 880.0$"
      ],
      "text/plain": [
       "880.0"
      ]
     },
     "execution_count": 46,
     "metadata": {},
     "output_type": "execute_result"
    },
    {
     "data": {
      "image/png": "[encoded data removed]",
      "text/latex": [
       "$\\displaystyle 2850.0$"
      ],
      "text/plain": [
       "2850.0"
      ]
     },
     "execution_count": 46,
     "metadata": {},
     "output_type": "execute_result"
    }
   ],
   "source": [
    "5000 * 0.05 + 3000 * 0.2 + 30\n",
    "5000 * 0.05 + 3000 * 0.2 + 8000 * 0.25"
   ]
  },
  {
   "cell_type": "code",
   "execution_count": 48,
   "id": "61344415-18de-4757-9d34-0e014525a3ee",
   "metadata": {},
   "outputs": [
    {
     "data": {
      "image/png": "[encoded data removed]",
      "text/latex": [
       "$\\displaystyle 388.0$"
      ],
      "text/plain": [
       "388.0"
      ]
     },
     "execution_count": 48,
     "metadata": {},
     "output_type": "execute_result"
    },
    {
     "data": {
      "image/png": "[encoded data removed]",
      "text/latex": [
       "$\\displaystyle 560.0$"
      ],
      "text/plain": [
       "560.0"
      ]
     },
     "execution_count": 48,
     "metadata": {},
     "output_type": "execute_result"
    }
   ],
   "source": [
    "reg_p_ls = [0.72, 0.28]\n",
    "reg_c_ls = [50, 10]\n",
    "np.dot(reg_p_ls, reg_c_ls) * 10\n",
    "\n",
    "sdb_p_ls = [0.65, 0.35]\n",
    "sdb_c_ls = [70, 30]\n",
    "np.dot(sdb_p_ls, sdb_c_ls) * 10"
   ]
  },
  {
   "cell_type": "code",
   "execution_count": null,
   "id": "aa900414-1fe2-4779-bf65-c68f2bee5c7a",
   "metadata": {},
   "outputs": [],
   "source": []
  }
 ],
 "metadata": {
  "kernelspec": {
   "display_name": "Math",
   "language": "python",
   "name": "math"
  },
  "language_info": {
   "codemirror_mode": {
    "name": "ipython",
    "version": 3
   },
   "file_extension": ".py",
   "mimetype": "text/x-python",
   "name": "python",
   "nbconvert_exporter": "python",
   "pygments_lexer": "ipython3",
   "version": "3.8.13"
  }
 },
 "nbformat": 4,
 "nbformat_minor": 5
}
