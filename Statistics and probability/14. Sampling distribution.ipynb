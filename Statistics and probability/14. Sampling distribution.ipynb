{
 "cells": [
  {
   "cell_type": "code",
   "execution_count": 1,
   "id": "588ec9af-79cd-4349-bacf-05f0db96e6a6",
   "metadata": {},
   "outputs": [
    {
     "name": "stdout",
     "output_type": "stream",
     "text": [
      "Added D:\\Dev\\Code\\MyMathLab to PATH\n"
     ]
    }
   ],
   "source": [
    "from IPython.core.interactiveshell import InteractiveShell\n",
    "InteractiveShell.ast_node_interactivity = 'all'\n",
    "\n",
    "# import self-made module\n",
    "import os, sys, pathlib\n",
    "file_path = os.path.abspath('')\n",
    "PROJECT_DIR = str(pathlib.Path(file_path).parent)\n",
    "sys.path.append(PROJECT_DIR)\n",
    "print(f\"Added {PROJECT_DIR} to PATH\")\n",
    "from athena import *\n",
    "from sympy.vector import CoordSys3D, gradient, curl, ParametricRegion, vector_integrate, scalar_potential\n",
    "from sympy.integrals.manualintegrate import integral_steps\n",
    "\n",
    "sp.init_printing()\n",
    "\n",
    "# ult functions\n",
    "def reset_symbols():\n",
    "    global x, y, z, a, b, c, d, e, f, g, h, r, s, k, t, u, v, theta, lmda, rho, phi\n",
    "    x, y, z = sp.symbols('x y z', real=True)\n",
    "    a, b, c, d, e, f, g, h, r, s, k, t, u, v = sp.symbols('a b c d e f g h r s k t u v', real=True)\n",
    "    theta = sp.Symbol('theta')\n",
    "    lmda = sp.Symbol('lambda')\n",
    "    rho = sp.Symbol('rho')\n",
    "    phi = sp.Symbol('phi')\n",
    "    \n",
    "\n",
    "reset_symbols()\n",
    "\n",
    "import statistics\n",
    "import math\n",
    "import numpy as np\n",
    "import scipy"
   ]
  },
  {
   "cell_type": "code",
   "execution_count": 2,
   "id": "a4c217f4-7c09-485a-9abe-bb94fa9af4fd",
   "metadata": {},
   "outputs": [],
   "source": [
    "def shape_of_sample_dist(n, p):\n",
    "    if n * p >= 10 and n * (1-p) >= 10:\n",
    "        print('normal')\n",
    "    else:\n",
    "        if p > 0.5:\n",
    "            print('left skew')\n",
    "        elif p == 0.5:\n",
    "            print('normal skew')\n",
    "        else:\n",
    "            print('right skew')\n",
    "\n",
    "\n",
    "def get_sample_std(n, p):\n",
    "    return math.sqrt(p * (1-p) / n)"
   ]
  },
  {
   "cell_type": "code",
   "execution_count": 3,
   "id": "894b36c1-2687-4d14-a07f-6ea2fb8ec89b",
   "metadata": {},
   "outputs": [
    {
     "name": "stdout",
     "output_type": "stream",
     "text": [
      "normal\n"
     ]
    }
   ],
   "source": [
    "shape_of_sample_dist(200, 0.11)"
   ]
  },
  {
   "cell_type": "code",
   "execution_count": 4,
   "id": "2b824e63-7e75-4e5b-b545-0f26d610fea4",
   "metadata": {},
   "outputs": [
    {
     "name": "stdout",
     "output_type": "stream",
     "text": [
      "right skew\n"
     ]
    }
   ],
   "source": [
    "shape_of_sample_dist(80, 0.09)"
   ]
  },
  {
   "cell_type": "code",
   "execution_count": 5,
   "id": "e82ecc83-e89d-4441-95dd-8b90d8e9ae75",
   "metadata": {},
   "outputs": [
    {
     "name": "stdout",
     "output_type": "stream",
     "text": [
      "normal\n"
     ]
    }
   ],
   "source": [
    "shape_of_sample_dist(75, 0.78)"
   ]
  },
  {
   "cell_type": "code",
   "execution_count": 6,
   "id": "8a23284b-493a-4336-948c-5b707b355566",
   "metadata": {},
   "outputs": [
    {
     "name": "stdout",
     "output_type": "stream",
     "text": [
      "left skew\n"
     ]
    }
   ],
   "source": [
    "shape_of_sample_dist(75, 0.9)"
   ]
  },
  {
   "cell_type": "code",
   "execution_count": 7,
   "id": "55f0fa14-44c2-40df-9057-3fd0fcabc712",
   "metadata": {},
   "outputs": [
    {
     "name": "stdout",
     "output_type": "stream",
     "text": [
      "normal\n"
     ]
    }
   ],
   "source": [
    "shape_of_sample_dist(160, 0.15)"
   ]
  },
  {
   "cell_type": "code",
   "execution_count": null,
   "id": "5626c73a-6c09-49fc-a59a-4af99b8760c2",
   "metadata": {},
   "outputs": [],
   "source": []
  },
  {
   "cell_type": "code",
   "execution_count": 10,
   "id": "f5015e4e-33e6-4223-9ced-9d23491e0c45",
   "metadata": {},
   "outputs": [
    {
     "data": {
      "image/png": "[encoded data removed]",
      "text/latex": [
       "$\\displaystyle 0.96173874976247$"
      ],
      "text/plain": [
       "0.9617387497624703"
      ]
     },
     "execution_count": 10,
     "metadata": {},
     "output_type": "execute_result"
    }
   ],
   "source": [
    "n = 160\n",
    "p = 0.15\n",
    "sample_maen = p\n",
    "sample_std = get_sample_std(n, p)\n",
    "\n",
    "1 - scipy.stats.norm.cdf(get_z_score(0.1, sample_maen, sample_std))\n"
   ]
  },
  {
   "cell_type": "code",
   "execution_count": 12,
   "id": "6016b44a-938f-4d1e-97ee-38b3d17dafe2",
   "metadata": {},
   "outputs": [
    {
     "data": {
      "image/png": "[encoded data removed]",
      "text/latex": [
       "$\\displaystyle 0.0544047150202729$"
      ],
      "text/plain": [
       "0.05440471502027289"
      ]
     },
     "execution_count": 12,
     "metadata": {},
     "output_type": "execute_result"
    }
   ],
   "source": [
    "n = 150\n",
    "p = 0.3\n",
    "sample_maen = p\n",
    "sample_std = get_sample_std(n, p)\n",
    "\n",
    "1 - scipy.stats.norm.cdf(get_z_score(0.36, sample_maen, sample_std))"
   ]
  },
  {
   "cell_type": "code",
   "execution_count": 13,
   "id": "c426e065-eef4-40d1-93a4-7f2a6bb4e272",
   "metadata": {},
   "outputs": [
    {
     "data": {
      "image/png": "[encoded data removed]",
      "text/latex": [
       "$\\displaystyle 0.0565754396601294$"
      ],
      "text/plain": [
       "0.05657543966012936"
      ]
     },
     "execution_count": 13,
     "metadata": {},
     "output_type": "execute_result"
    }
   ],
   "source": [
    "n = 650\n",
    "p = 0.63\n",
    "sample_maen = p\n",
    "sample_std = get_sample_std(n, p)\n",
    "\n",
    "scipy.stats.norm.cdf(get_z_score(0.6, sample_maen, sample_std))"
   ]
  },
  {
   "cell_type": "code",
   "execution_count": 14,
   "id": "e0c74642-88c8-4bf0-bae7-023d5bc6358b",
   "metadata": {},
   "outputs": [
    {
     "data": {
      "image/png": "[encoded data removed]",
      "text/latex": [
       "$\\displaystyle 0.689747607242582$"
      ],
      "text/plain": [
       "0.6897476072425817"
      ]
     },
     "execution_count": 14,
     "metadata": {},
     "output_type": "execute_result"
    }
   ],
   "source": [
    "n = 600\n",
    "p = 0.63\n",
    "sample_maen = p\n",
    "sample_std = get_sample_std(n, p)\n",
    "\n",
    "scipy.stats.norm.cdf(get_z_score(0.65, sample_maen, sample_std)) - scipy.stats.norm.cdf(get_z_score(0.61, sample_maen, sample_std))"
   ]
  },
  {
   "cell_type": "code",
   "execution_count": 15,
   "id": "7e3793a4-3c21-4dd6-bbd8-8c652639725b",
   "metadata": {},
   "outputs": [
    {
     "data": {
      "image/png": "[encoded data removed]",
      "text/latex": [
       "$\\displaystyle 0.96173874976247$"
      ],
      "text/plain": [
       "0.9617387497624703"
      ]
     },
     "execution_count": 15,
     "metadata": {},
     "output_type": "execute_result"
    }
   ],
   "source": [
    "n = 160\n",
    "p = 0.15\n",
    "sample_maen = p\n",
    "sample_std = get_sample_std(n, p)\n",
    "\n",
    "1 - scipy.stats.norm.cdf(get_z_score(0.1, sample_maen, sample_std))"
   ]
  },
  {
   "cell_type": "code",
   "execution_count": 17,
   "id": "76513e4f-27cb-4864-bc16-e4308f7a61f2",
   "metadata": {},
   "outputs": [
    {
     "name": "stdout",
     "output_type": "stream",
     "text": [
      "normal\n"
     ]
    }
   ],
   "source": [
    "shape_of_sample_dist(200, 0.87)"
   ]
  },
  {
   "cell_type": "code",
   "execution_count": 18,
   "id": "0a89166b-e061-4369-af10-391874ced75e",
   "metadata": {},
   "outputs": [
    {
     "data": {
      "image/png": "[encoded data removed]",
      "text/latex": [
       "$\\displaystyle 0.0237802439011882$"
      ],
      "text/plain": [
       "0.02378024390118823"
      ]
     },
     "execution_count": 18,
     "metadata": {},
     "output_type": "execute_result"
    }
   ],
   "source": [
    "get_sample_std(200, 0.87)"
   ]
  },
  {
   "cell_type": "code",
   "execution_count": 19,
   "id": "530a78c7-0874-444b-9238-2de91a43c9d8",
   "metadata": {},
   "outputs": [
    {
     "data": {
      "image/png": "[encoded data removed]",
      "text/latex": [
       "$\\displaystyle 0.200164368858124$"
      ],
      "text/plain": [
       "0.2001643688581236"
      ]
     },
     "execution_count": 19,
     "metadata": {},
     "output_type": "execute_result"
    }
   ],
   "source": [
    "n = 200\n",
    "p = 0.87\n",
    "sample_maen = p\n",
    "sample_std = get_sample_std(n, p)\n",
    "\n",
    "scipy.stats.norm.cdf(get_z_score(0.85, sample_maen, sample_std))"
   ]
  },
  {
   "cell_type": "code",
   "execution_count": null,
   "id": "a35b1e76-03ab-4318-a4ce-8904da7a9089",
   "metadata": {},
   "outputs": [],
   "source": []
  }
 ],
 "metadata": {
  "kernelspec": {
   "display_name": "Math",
   "language": "python",
   "name": "math"
  },
  "language_info": {
   "codemirror_mode": {
    "name": "ipython",
    "version": 3
   },
   "file_extension": ".py",
   "mimetype": "text/x-python",
   "name": "python",
   "nbconvert_exporter": "python",
   "pygments_lexer": "ipython3",
   "version": "3.8.13"
  }
 },
 "nbformat": 4,
 "nbformat_minor": 5
}
