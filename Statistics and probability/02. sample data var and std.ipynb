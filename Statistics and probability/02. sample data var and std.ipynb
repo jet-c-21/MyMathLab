{
 "cells": [
  {
   "cell_type": "code",
   "execution_count": 26,
   "id": "1c79e76c-e092-4c71-a421-db3f6b9b978c",
   "metadata": {},
   "outputs": [
    {
     "name": "stdout",
     "output_type": "stream",
     "text": [
      "Added D:\\Dev\\MyMathLab to PATH\n"
     ]
    }
   ],
   "source": [
    "from IPython.core.interactiveshell import InteractiveShell\n",
    "InteractiveShell.ast_node_interactivity = 'all'\n",
    "\n",
    "# import self-made module\n",
    "import os, sys, pathlib\n",
    "file_path = os.path.abspath('')\n",
    "PROJECT_DIR = str(pathlib.Path(file_path).parent)\n",
    "sys.path.append(PROJECT_DIR)\n",
    "print(f\"Added {PROJECT_DIR} to PATH\")\n",
    "from athena import *\n",
    "from sympy.vector import CoordSys3D, gradient, curl, ParametricRegion, vector_integrate, scalar_potential\n",
    "from sympy.integrals.manualintegrate import integral_steps\n",
    "\n",
    "sp.init_printing()\n",
    "\n",
    "# ult functions\n",
    "def reset_symbols():\n",
    "    global x, y, z, a, b, c, d, e, f, g, h, r, s, k, t, u, v, theta, lmda, rho, phi\n",
    "    x, y, z = sp.symbols('x y z', real=True)\n",
    "    a, b, c, d, e, f, g, h, r, s, k, t, u, v = sp.symbols('a b c d e f g h r s k t u v', real=True)\n",
    "    theta = sp.Symbol('theta')\n",
    "    lmda = sp.Symbol('lambda')\n",
    "    rho = sp.Symbol('rho')\n",
    "    phi = sp.Symbol('phi')\n",
    "    \n",
    "\n",
    "reset_symbols()\n",
    "\n",
    "import statistics\n",
    "import math\n",
    "import numpy as np\n",
    "import pandas as pd\n",
    "import scipy\n",
    "import statsmodels\n"
   ]
  },
  {
   "cell_type": "code",
   "execution_count": 27,
   "id": "a91d9570-7bec-44e7-9ea0-5af16280198d",
   "metadata": {},
   "outputs": [
    {
     "data": {
      "image/png": "[encoded data removed]",
      "text/latex": [
       "$\\displaystyle 12.4$"
      ],
      "text/plain": [
       "12.4"
      ]
     },
     "execution_count": 27,
     "metadata": {},
     "output_type": "execute_result"
    },
    {
     "data": {
      "image/png": "[encoded data removed]",
      "text/latex": [
       "$\\displaystyle 28.8$"
      ],
      "text/plain": [
       "28.8"
      ]
     },
     "execution_count": 27,
     "metadata": {},
     "output_type": "execute_result"
    }
   ],
   "source": [
    "statistics.mean([8,11,17,7,19])\n",
    "statistics.variance([8,11,17,7,19])"
   ]
  },
  {
   "cell_type": "code",
   "execution_count": 28,
   "id": "c7446e11-d881-4e38-9cee-fb31d8f06f53",
   "metadata": {},
   "outputs": [
    {
     "data": {
      "image/png": "[encoded data removed]",
      "text/latex": [
       "$\\displaystyle 13.5$"
      ],
      "text/plain": [
       "13.5"
      ]
     },
     "execution_count": 28,
     "metadata": {},
     "output_type": "execute_result"
    },
    {
     "data": {
      "image/png": "[encoded data removed]",
      "text/latex": [
       "$\\displaystyle 217.25$"
      ],
      "text/plain": [
       "217.25"
      ]
     },
     "execution_count": 28,
     "metadata": {},
     "output_type": "execute_result"
    }
   ],
   "source": [
    "seq = [5,4,6,39]\n",
    "statistics.mean(seq)\n",
    "statistics.pvariance(seq)"
   ]
  },
  {
   "cell_type": "code",
   "execution_count": 29,
   "id": "6080f088-9ca1-49e7-a3cf-1acdfddfd6a3",
   "metadata": {},
   "outputs": [
    {
     "data": {
      "image/png": "[encoded data removed]",
      "text/latex": [
       "$\\displaystyle 13.5$"
      ],
      "text/plain": [
       "13.5"
      ]
     },
     "execution_count": 29,
     "metadata": {},
     "output_type": "execute_result"
    },
    {
     "data": {
      "image/png": "[encoded data removed]",
      "text/latex": [
       "$\\displaystyle 289.666666666667$"
      ],
      "text/plain": [
       "289.6666666666667"
      ]
     },
     "execution_count": 29,
     "metadata": {},
     "output_type": "execute_result"
    }
   ],
   "source": [
    "seq = [5,4,6,39]\n",
    "statistics.mean(seq)\n",
    "statistics.variance(seq)"
   ]
  },
  {
   "cell_type": "code",
   "execution_count": 30,
   "id": "9b7231d1-d74f-4233-94d2-a0e5a4586c5f",
   "metadata": {},
   "outputs": [
    {
     "data": {
      "image/png": "[encoded data removed]",
      "text/latex": [
       "$\\displaystyle 10.2$"
      ],
      "text/plain": [
       "10.2"
      ]
     },
     "execution_count": 30,
     "metadata": {},
     "output_type": "execute_result"
    },
    {
     "data": {
      "image/png": "[encoded data removed]",
      "text/latex": [
       "$\\displaystyle 15.76$"
      ],
      "text/plain": [
       "15.76"
      ]
     },
     "execution_count": 30,
     "metadata": {},
     "output_type": "execute_result"
    }
   ],
   "source": [
    "seq = [16,10,5,7,13]\n",
    "statistics.mean(seq)\n",
    "statistics.pvariance(seq)"
   ]
  },
  {
   "cell_type": "code",
   "execution_count": 31,
   "id": "78139034-249c-4368-bfb9-27b2b7953e10",
   "metadata": {},
   "outputs": [
    {
     "data": {
      "image/png": "[encoded data removed]",
      "text/latex": [
       "$\\displaystyle 10.2$"
      ],
      "text/plain": [
       "10.2"
      ]
     },
     "execution_count": 31,
     "metadata": {},
     "output_type": "execute_result"
    },
    {
     "data": {
      "image/png": "[encoded data removed]",
      "text/latex": [
       "$\\displaystyle 3.96988664825584$"
      ],
      "text/plain": [
       "3.9698866482558417"
      ]
     },
     "execution_count": 31,
     "metadata": {},
     "output_type": "execute_result"
    }
   ],
   "source": [
    "seq = [16,10,5,7,13]\n",
    "statistics.mean(seq)\n",
    "statistics.pstdev(seq)"
   ]
  },
  {
   "cell_type": "code",
   "execution_count": 32,
   "id": "4ffe8425-a1d2-4dc0-b044-51b68e583657",
   "metadata": {},
   "outputs": [
    {
     "data": {
      "image/png": "[encoded data removed]",
      "text/latex": [
       "$\\displaystyle 10$"
      ],
      "text/plain": [
       "10"
      ]
     },
     "execution_count": 32,
     "metadata": {},
     "output_type": "execute_result"
    },
    {
     "data": {
      "image/png": "[encoded data removed]",
      "text/latex": [
       "$\\displaystyle 4.89897948556636$"
      ],
      "text/plain": [
       "4.898979485566356"
      ]
     },
     "execution_count": 32,
     "metadata": {},
     "output_type": "execute_result"
    }
   ],
   "source": [
    "seq = [8,4,14,16,8]\n",
    "statistics.mean(seq)\n",
    "statistics.stdev(seq)"
   ]
  },
  {
   "cell_type": "code",
   "execution_count": 33,
   "id": "0ce6c3ed-7847-440a-948c-8d3c64b700aa",
   "metadata": {},
   "outputs": [
    {
     "data": {
      "image/png": "[encoded data removed]",
      "text/latex": [
       "$\\displaystyle 13.5$"
      ],
      "text/plain": [
       "13.5"
      ]
     },
     "execution_count": 33,
     "metadata": {},
     "output_type": "execute_result"
    },
    {
     "data": {
      "image/png": "[encoded data removed]",
      "text/latex": [
       "$\\displaystyle 14.7394029729837$"
      ],
      "text/plain": [
       "14.739402972983676"
      ]
     },
     "execution_count": 33,
     "metadata": {},
     "output_type": "execute_result"
    }
   ],
   "source": [
    "seq = [5,4,6,39]\n",
    "statistics.mean(seq)\n",
    "statistics.pstdev(seq)"
   ]
  },
  {
   "cell_type": "code",
   "execution_count": 34,
   "id": "86edc983-2f4c-4ca1-adce-d448b6ddbc10",
   "metadata": {},
   "outputs": [
    {
     "data": {
      "image/png": "[encoded data removed]",
      "text/latex": [
       "$\\displaystyle 10.2$"
      ],
      "text/plain": [
       "10.2"
      ]
     },
     "execution_count": 34,
     "metadata": {},
     "output_type": "execute_result"
    },
    {
     "data": {
      "image/png": "[encoded data removed]",
      "text/latex": [
       "$\\displaystyle 4.43846820423443$"
      ],
      "text/plain": [
       "4.43846820423443"
      ]
     },
     "execution_count": 34,
     "metadata": {},
     "output_type": "execute_result"
    }
   ],
   "source": [
    "seq = [16,10,5,7,13]\n",
    "statistics.mean(seq)\n",
    "statistics.stdev(seq)"
   ]
  },
  {
   "cell_type": "code",
   "execution_count": 43,
   "id": "6acabac9-86a2-43ac-8277-3b6687c63dc5",
   "metadata": {},
   "outputs": [
    {
     "data": {
      "image/png": "[encoded data removed]",
      "text/latex": [
       "$\\displaystyle 4.5$"
      ],
      "text/plain": [
       "4.5"
      ]
     },
     "execution_count": 43,
     "metadata": {},
     "output_type": "execute_result"
    },
    {
     "data": {
      "image/png": "[encoded data removed]",
      "text/latex": [
       "$\\displaystyle 2.12132034355964$"
      ],
      "text/plain": [
       "2.1213203435596424"
      ]
     },
     "execution_count": 43,
     "metadata": {},
     "output_type": "execute_result"
    },
    {
     "name": "stderr",
     "output_type": "stream",
     "text": [
      "C:\\Users\\U121375064\\AppData\\Local\\Temp\\ipykernel_4196\\1083253555.py:4: FutureWarning: The 'mad' method is deprecated and will be removed in a future version. To compute the same result, you may do `(df - df.mean()).abs().mean()`.\n",
      "  pd.Series(seq).mad() # will get warning\n"
     ]
    },
    {
     "data": {
      "image/png": "[encoded data removed]",
      "text/latex": [
       "$\\displaystyle 2.0$"
      ],
      "text/plain": [
       "2.0"
      ]
     },
     "execution_count": 43,
     "metadata": {},
     "output_type": "execute_result"
    },
    {
     "data": {
      "image/png": "[encoded data removed]",
      "text/latex": [
       "$\\displaystyle 2.0$"
      ],
      "text/plain": [
       "2.0"
      ]
     },
     "execution_count": 43,
     "metadata": {},
     "output_type": "execute_result"
    }
   ],
   "source": [
    "seq = [1,1,6,4]\n",
    "statistics.pvariance(seq)\n",
    "statistics.pstdev(seq)\n",
    "pd.Series(seq).mad() # will get warning\n",
    "np.absolute(seq - np.mean(seq)).mean()"
   ]
  },
  {
   "cell_type": "code",
   "execution_count": 50,
   "id": "718ba0cc-bd86-405e-a549-a1ff4d38f991",
   "metadata": {},
   "outputs": [
    {
     "data": {
      "image/png": "[encoded data removed]",
      "text/latex": [
       "$\\displaystyle 2.0$"
      ],
      "text/plain": [
       "2.0"
      ]
     },
     "execution_count": 50,
     "metadata": {},
     "output_type": "execute_result"
    }
   ],
   "source": [
    "seq = [6,8,3,2,6]\n",
    "np.absolute(seq - np.mean(seq)).mean()"
   ]
  },
  {
   "cell_type": "code",
   "execution_count": 49,
   "id": "83baea69-7573-47a5-b2ba-be6fb4ea3e0c",
   "metadata": {},
   "outputs": [
    {
     "data": {
      "image/png": "[encoded data removed]",
      "text/latex": [
       "$\\displaystyle 2$"
      ],
      "text/plain": [
       "2"
      ]
     },
     "execution_count": 49,
     "metadata": {},
     "output_type": "execute_result"
    },
    {
     "data": {
      "image/png": "[encoded data removed]",
      "text/latex": [
       "$\\displaystyle 0.816496580927726$"
      ],
      "text/plain": [
       "0.816496580927726"
      ]
     },
     "execution_count": 49,
     "metadata": {},
     "output_type": "execute_result"
    }
   ],
   "source": [
    "seq = [1,2,2,1,3,3]\n",
    "statistics.mean(seq)\n",
    "statistics.pstdev(seq)"
   ]
  },
  {
   "cell_type": "code",
   "execution_count": null,
   "id": "766d779a-dd9c-4772-b5f5-2ad72b7dc151",
   "metadata": {},
   "outputs": [],
   "source": []
  }
 ],
 "metadata": {
  "kernelspec": {
   "display_name": "Math",
   "language": "python",
   "name": "math"
  },
  "language_info": {
   "codemirror_mode": {
    "name": "ipython",
    "version": 3
   },
   "file_extension": ".py",
   "mimetype": "text/x-python",
   "name": "python",
   "nbconvert_exporter": "python",
   "pygments_lexer": "ipython3",
   "version": "3.8.13"
  }
 },
 "nbformat": 4,
 "nbformat_minor": 5
}
