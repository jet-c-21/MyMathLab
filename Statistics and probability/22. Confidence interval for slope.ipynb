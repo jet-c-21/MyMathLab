{
 "cells": [
  {
   "cell_type": "code",
   "execution_count": 1,
   "id": "a2a1638c-fb58-4c85-a8e8-3d8382eb55b6",
   "metadata": {},
   "outputs": [
    {
     "name": "stdout",
     "output_type": "stream",
     "text": [
      "Added D:\\Dev\\Code\\MyMathLab to PATH\n"
     ]
    }
   ],
   "source": [
    "from IPython.core.interactiveshell import InteractiveShell\n",
    "InteractiveShell.ast_node_interactivity = 'all'\n",
    "\n",
    "# import self-made module\n",
    "import os, sys, pathlib\n",
    "file_path = os.path.abspath('')\n",
    "PROJECT_DIR = str(pathlib.Path(file_path).parent)\n",
    "sys.path.append(PROJECT_DIR)\n",
    "print(f\"Added {PROJECT_DIR} to PATH\")\n",
    "from athena import *\n",
    "from sympy.vector import CoordSys3D, gradient, curl, ParametricRegion, vector_integrate, scalar_potential\n",
    "from sympy.integrals.manualintegrate import integral_steps\n",
    "\n",
    "sp.init_printing()\n",
    "\n",
    "# ult functions\n",
    "def reset_symbols():\n",
    "    global x, y, z, a, b, c, d, e, f, g, h, r, s, k, t, u, v, theta, lmda, rho, phi\n",
    "    x, y, z = sp.symbols('x y z', real=True)\n",
    "    a, b, c, d, e, f, g, h, r, s, k, t, u, v = sp.symbols('a b c d e f g h r s k t u v', real=True)\n",
    "    theta = sp.Symbol('theta')\n",
    "    lmda = sp.Symbol('lambda')\n",
    "    rho = sp.Symbol('rho')\n",
    "    phi = sp.Symbol('phi')\n",
    "    \n",
    "\n",
    "reset_symbols()\n",
    "\n",
    "import statistics\n",
    "import math\n",
    "import numpy as np\n",
    "import scipy"
   ]
  },
  {
   "cell_type": "code",
   "execution_count": 2,
   "id": "447888ad-31fc-4f17-a449-1f6084704f98",
   "metadata": {},
   "outputs": [
    {
     "name": "stdout",
     "output_type": "stream",
     "text": [
      "0.0167 ± 2.0210753829953374 * 0.001\n"
     ]
    }
   ],
   "source": [
    "slope = 0.0167\n",
    "s_n = 42\n",
    "t_star = get_t_star(0.95, s_n - 2)\n",
    "std_error = 0.001\n",
    "\n",
    "moe = t_star * std_error\n",
    "\n",
    "print(f\"{slope} ± {t_star} * {std_error}\")"
   ]
  },
  {
   "cell_type": "code",
   "execution_count": 3,
   "id": "b61efeca-3e9c-4566-911a-0343975460c6",
   "metadata": {},
   "outputs": [
    {
     "name": "stdout",
     "output_type": "stream",
     "text": [
      "-0.442 ± 1.6955187891366656 * 0.037\n"
     ]
    }
   ],
   "source": [
    "slope = -0.442\n",
    "s_n = 33\n",
    "cl = 0.9\n",
    "t_star = get_t_star(cl, s_n - 2)\n",
    "std_error = 0.037\n",
    "\n",
    "moe = t_star * std_error\n",
    "\n",
    "print(f\"{slope} ± {t_star} * {std_error}\")"
   ]
  },
  {
   "cell_type": "code",
   "execution_count": 8,
   "id": "9a0697fe-8c26-4dc2-9b22-d1447bb8b5e6",
   "metadata": {},
   "outputs": [
    {
     "data": {
      "image/png": "[encoded data removed]",
      "text/latex": [
       "$\\displaystyle 2.99852143913258$"
      ],
      "text/plain": [
       "2.9985214391325776"
      ]
     },
     "execution_count": 8,
     "metadata": {},
     "output_type": "execute_result"
    },
    {
     "data": {
      "image/png": "[encoded data removed]",
      "text/latex": [
       "$\\displaystyle 0.00330862687142108$"
      ],
      "text/plain": [
       "0.003308626871421083"
      ]
     },
     "execution_count": 8,
     "metadata": {},
     "output_type": "execute_result"
    }
   ],
   "source": [
    "s_slope = 6.084\n",
    "p_slope = 0\n",
    "std_error_of_slope = 2.029\n",
    "\n",
    "t_stat = get_t_statistic_of_slope(p_slope, s_slope, std_error_of_slope)\n",
    "t_stat\n",
    "\n",
    "p_val = get_p_value_by_t(t_stat, 22)\n",
    "p_val"
   ]
  },
  {
   "cell_type": "code",
   "execution_count": null,
   "id": "14c1d082-7c75-46b0-b506-5602b8cf584d",
   "metadata": {},
   "outputs": [],
   "source": []
  }
 ],
 "metadata": {
  "kernelspec": {
   "display_name": "Math",
   "language": "python",
   "name": "math"
  },
  "language_info": {
   "codemirror_mode": {
    "name": "ipython",
    "version": 3
   },
   "file_extension": ".py",
   "mimetype": "text/x-python",
   "name": "python",
   "nbconvert_exporter": "python",
   "pygments_lexer": "ipython3",
   "version": "3.8.13"
  }
 },
 "nbformat": 4,
 "nbformat_minor": 5
}
