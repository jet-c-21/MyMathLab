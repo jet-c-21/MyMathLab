{
 "cells": [
  {
   "cell_type": "code",
   "execution_count": 48,
   "id": "f0c44c33-138f-4f00-a487-de1ef7fb36dd",
   "metadata": {},
   "outputs": [],
   "source": [
    "def factorial(n):\n",
    "    if n < 0:\n",
    "        raise Exception('n cannot be negative')    \n",
    "    if n == 0:\n",
    "        return 1\n",
    "    return n * factorial(n - 1)\n",
    "\n",
    "def permutation(n, r):\n",
    "    res = 1\n",
    "    for i in range(n, n-r, -1):\n",
    "        res *= i\n",
    "    return res\n",
    "\n",
    "def combination(n, r):\n",
    "    return permutation(n, r) // factorial(r)"
   ]
  },
  {
   "cell_type": "code",
   "execution_count": 49,
   "id": "bd465824-3b34-40aa-9165-f33b2000979d",
   "metadata": {},
   "outputs": [
    {
     "data": {
      "text/plain": [
       "720"
      ]
     },
     "execution_count": 49,
     "metadata": {},
     "output_type": "execute_result"
    }
   ],
   "source": [
    "factorial(6)"
   ]
  },
  {
   "cell_type": "code",
   "execution_count": 50,
   "id": "4407541f-8f9d-4406-8f93-1a436dca3f60",
   "metadata": {},
   "outputs": [
    {
     "data": {
      "text/plain": [
       "210"
      ]
     },
     "execution_count": 50,
     "metadata": {},
     "output_type": "execute_result"
    }
   ],
   "source": [
    "permutation(7,3)"
   ]
  },
  {
   "cell_type": "code",
   "execution_count": 51,
   "id": "4fef17ee-b551-4844-902f-5758518f23c1",
   "metadata": {},
   "outputs": [
    {
     "data": {
      "text/plain": [
       "15"
      ]
     },
     "execution_count": 51,
     "metadata": {},
     "output_type": "execute_result"
    }
   ],
   "source": [
    "combination(6,4)"
   ]
  },
  {
   "cell_type": "code",
   "execution_count": 52,
   "id": "f84f2b9d-8370-44d2-8b60-8b4ad1fe2fbd",
   "metadata": {},
   "outputs": [
    {
     "data": {
      "text/plain": [
       "126"
      ]
     },
     "execution_count": 52,
     "metadata": {},
     "output_type": "execute_result"
    }
   ],
   "source": [
    "combination(9,5)"
   ]
  },
  {
   "cell_type": "code",
   "execution_count": 53,
   "id": "2657722d-4a1f-4802-944c-f91f71f673a5",
   "metadata": {},
   "outputs": [
    {
     "data": {
      "text/plain": [
       "210"
      ]
     },
     "execution_count": 53,
     "metadata": {},
     "output_type": "execute_result"
    }
   ],
   "source": [
    "combination(10,4)"
   ]
  },
  {
   "cell_type": "code",
   "execution_count": 54,
   "id": "fce4c818-e7cd-459b-9c40-0107dc19b01c",
   "metadata": {},
   "outputs": [
    {
     "data": {
      "text/plain": [
       "34162713446400"
      ]
     },
     "execution_count": 54,
     "metadata": {},
     "output_type": "execute_result"
    }
   ],
   "source": [
    "permutation(36,9)"
   ]
  },
  {
   "cell_type": "code",
   "execution_count": 55,
   "id": "ddfa692a-083d-41ca-a5a6-864f6bfd4668",
   "metadata": {},
   "outputs": [],
   "source": [
    "import itertools"
   ]
  },
  {
   "cell_type": "code",
   "execution_count": 59,
   "id": "bc10ad04-9d39-4b14-87c8-e50c0e174772",
   "metadata": {},
   "outputs": [
    {
     "data": {
      "text/plain": [
       "60"
      ]
     },
     "execution_count": 59,
     "metadata": {},
     "output_type": "execute_result"
    }
   ],
   "source": [
    "x = itertools.permutations('PRIOR')\n",
    "len(set(x))"
   ]
  },
  {
   "cell_type": "code",
   "execution_count": 60,
   "id": "15f40a9b-6eec-4141-a488-04311fecd2ee",
   "metadata": {},
   "outputs": [
    {
     "data": {
      "text/plain": [
       "67"
      ]
     },
     "execution_count": 60,
     "metadata": {},
     "output_type": "execute_result"
    }
   ],
   "source": [
    "res = []\n",
    "for i in range(1, 100 + 1):\n",
    "    if i % 2 == 0 or i % 3 == 0:\n",
    "        res.append(i)\n",
    "len(res)"
   ]
  },
  {
   "cell_type": "code",
   "execution_count": 61,
   "id": "0a26832b-37c0-4a48-9ff6-cea9ad0b3cbb",
   "metadata": {},
   "outputs": [
    {
     "data": {
      "text/plain": [
       "20.0"
      ]
     },
     "execution_count": 61,
     "metadata": {},
     "output_type": "execute_result"
    }
   ],
   "source": [
    "factorial(5) / factorial(3)"
   ]
  },
  {
   "cell_type": "code",
   "execution_count": 62,
   "id": "ec3a2f61-9f81-41f1-aef5-62c5c6561fa0",
   "metadata": {},
   "outputs": [
    {
     "data": {
      "text/plain": [
       "48"
      ]
     },
     "execution_count": 62,
     "metadata": {},
     "output_type": "execute_result"
    }
   ],
   "source": [
    "factorial(4) * 2"
   ]
  },
  {
   "cell_type": "code",
   "execution_count": 63,
   "id": "e6c9457e-3540-4470-866f-0a5ec3bbc1cf",
   "metadata": {},
   "outputs": [
    {
     "data": {
      "text/plain": [
       "0.21875"
      ]
     },
     "execution_count": 63,
     "metadata": {},
     "output_type": "execute_result"
    }
   ],
   "source": [
    "combination(8, 3) * (0.5 ** 8)"
   ]
  },
  {
   "cell_type": "code",
   "execution_count": 67,
   "id": "02d584f8-5d0b-4e67-aa86-22ca253bb362",
   "metadata": {},
   "outputs": [
    {
     "data": {
      "text/plain": [
       "0.0021390374331550803"
      ]
     },
     "execution_count": 67,
     "metadata": {},
     "output_type": "execute_result"
    }
   ],
   "source": [
    "combination(32, 5) / combination(36, 9)"
   ]
  },
  {
   "cell_type": "code",
   "execution_count": 68,
   "id": "afcd33c9-4635-4499-93de-67151e2b4f44",
   "metadata": {},
   "outputs": [
    {
     "data": {
      "text/plain": [
       "10"
      ]
     },
     "execution_count": 68,
     "metadata": {},
     "output_type": "execute_result"
    }
   ],
   "source": [
    "combination(5,3)"
   ]
  },
  {
   "cell_type": "code",
   "execution_count": 69,
   "id": "734bb4e8-fb88-495c-89f8-ccacafd6884e",
   "metadata": {},
   "outputs": [
    {
     "data": {
      "text/plain": [
       "2.05071416120664e-06"
      ]
     },
     "execution_count": 69,
     "metadata": {},
     "output_type": "execute_result"
    }
   ],
   "source": [
    "1/combination(60,4)"
   ]
  },
  {
   "cell_type": "code",
   "execution_count": 70,
   "id": "79f7a34d-76ad-4482-87a5-513c0015f69b",
   "metadata": {},
   "outputs": [
    {
     "data": {
      "text/plain": [
       "487635"
      ]
     },
     "execution_count": 70,
     "metadata": {},
     "output_type": "execute_result"
    }
   ],
   "source": [
    "combination(60,4)"
   ]
  },
  {
   "cell_type": "code",
   "execution_count": 71,
   "id": "983bd708-b3d3-4355-af9d-3982ec79d07d",
   "metadata": {},
   "outputs": [
    {
     "data": {
      "text/plain": [
       "360"
      ]
     },
     "execution_count": 71,
     "metadata": {},
     "output_type": "execute_result"
    }
   ],
   "source": [
    "permutation(6,4)"
   ]
  },
  {
   "cell_type": "code",
   "execution_count": 75,
   "id": "9c86e058-6212-4fa3-b7ab-3304a72ea3fa",
   "metadata": {},
   "outputs": [
    {
     "data": {
      "text/plain": [
       "0.24196500000000007"
      ]
     },
     "execution_count": 75,
     "metadata": {},
     "output_type": "execute_result"
    }
   ],
   "source": [
    "(1/3) * combination(6,4) *(1/2)**6 + (2/3) * combination(6,4) * (.8**4) * (.2**2)"
   ]
  },
  {
   "cell_type": "code",
   "execution_count": 77,
   "id": "82e350ce-bd9c-49c0-b260-06bbf6d42e64",
   "metadata": {},
   "outputs": [
    {
     "data": {
      "text/plain": [
       "0.7063162427192686"
      ]
     },
     "execution_count": 77,
     "metadata": {},
     "output_type": "execute_result"
    }
   ],
   "source": [
    "1 -(permutation(365,30)/365**30)"
   ]
  },
  {
   "cell_type": "code",
   "execution_count": null,
   "id": "82b130fc-e831-4dcd-a43c-0af2cf8f49f3",
   "metadata": {},
   "outputs": [],
   "source": []
  }
 ],
 "metadata": {
  "kernelspec": {
   "display_name": "Math",
   "language": "python",
   "name": "math"
  },
  "language_info": {
   "codemirror_mode": {
    "name": "ipython",
    "version": 3
   },
   "file_extension": ".py",
   "mimetype": "text/x-python",
   "name": "python",
   "nbconvert_exporter": "python",
   "pygments_lexer": "ipython3",
   "version": "3.8.13"
  }
 },
 "nbformat": 4,
 "nbformat_minor": 5
}
