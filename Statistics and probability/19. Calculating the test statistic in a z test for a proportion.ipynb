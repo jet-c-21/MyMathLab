{
 "cells": [
  {
   "cell_type": "code",
   "execution_count": 1,
   "id": "bae4ae94-3307-4904-8677-5abfcffe1cef",
   "metadata": {},
   "outputs": [
    {
     "name": "stdout",
     "output_type": "stream",
     "text": [
      "Added D:\\Dev\\Code\\MyMathLab to PATH\n"
     ]
    }
   ],
   "source": [
    "from IPython.core.interactiveshell import InteractiveShell\n",
    "InteractiveShell.ast_node_interactivity = 'all'\n",
    "\n",
    "# import self-made module\n",
    "import os, sys, pathlib\n",
    "file_path = os.path.abspath('')\n",
    "PROJECT_DIR = str(pathlib.Path(file_path).parent)\n",
    "sys.path.append(PROJECT_DIR)\n",
    "print(f\"Added {PROJECT_DIR} to PATH\")\n",
    "from athena import *\n",
    "from sympy.vector import CoordSys3D, gradient, curl, ParametricRegion, vector_integrate, scalar_potential\n",
    "from sympy.integrals.manualintegrate import integral_steps\n",
    "\n",
    "sp.init_printing()\n",
    "\n",
    "# ult functions\n",
    "def reset_symbols():\n",
    "    global x, y, z, a, b, c, d, e, f, g, h, r, s, k, t, u, v, theta, lmda, rho, phi\n",
    "    x, y, z = sp.symbols('x y z', real=True)\n",
    "    a, b, c, d, e, f, g, h, r, s, k, t, u, v = sp.symbols('a b c d e f g h r s k t u v', real=True)\n",
    "    theta = sp.Symbol('theta')\n",
    "    lmda = sp.Symbol('lambda')\n",
    "    rho = sp.Symbol('rho')\n",
    "    phi = sp.Symbol('phi')\n",
    "    \n",
    "\n",
    "reset_symbols()\n",
    "\n",
    "import statistics\n",
    "import math\n",
    "import numpy as np\n",
    "import scipy"
   ]
  },
  {
   "cell_type": "code",
   "execution_count": 2,
   "id": "451b4a1e-eb4e-44de-9ce2-05652bfbffb2",
   "metadata": {},
   "outputs": [],
   "source": [
    "p0 = 0.26\n",
    "s_n = 120\n",
    "s_p_n = 40\n",
    "\n",
    "z_stat = get_z_statistic(p0, s_n, s_p_n)"
   ]
  },
  {
   "cell_type": "code",
   "execution_count": 3,
   "id": "3369001b-cc25-4737-8a04-bf581ba1a563",
   "metadata": {},
   "outputs": [
    {
     "data": {
      "image/png": "[encoded data removed]",
      "text/latex": [
       "$\\displaystyle -1.4$"
      ],
      "text/plain": [
       "-1.4000000000000001"
      ]
     },
     "execution_count": 3,
     "metadata": {},
     "output_type": "execute_result"
    }
   ],
   "source": [
    "p0 = 0.5\n",
    "s_n = 100\n",
    "s_p_n = 43\n",
    "\n",
    "z_stat = get_z_statistic(p0, s_n, s_p_n)\n",
    "z_stat"
   ]
  },
  {
   "cell_type": "code",
   "execution_count": 4,
   "id": "a38147bb-0120-4d17-9229-517412364dd8",
   "metadata": {},
   "outputs": [
    {
     "data": {
      "image/png": "[encoded data removed]",
      "text/latex": [
       "$\\displaystyle 0.0536989281481196$"
      ],
      "text/plain": [
       "0.05369892814811961"
      ]
     },
     "execution_count": 4,
     "metadata": {},
     "output_type": "execute_result"
    }
   ],
   "source": [
    "get_p_value_by_z(1.61)"
   ]
  },
  {
   "cell_type": "code",
   "execution_count": 5,
   "id": "9ca5de0a-00b6-4f62-822b-c0366d7a1ca4",
   "metadata": {},
   "outputs": [
    {
     "data": {
      "image/png": "[encoded data removed]",
      "text/latex": [
       "$\\displaystyle 0.133614402537716$"
      ],
      "text/plain": [
       "0.13361440253771611"
      ]
     },
     "execution_count": 5,
     "metadata": {},
     "output_type": "execute_result"
    }
   ],
   "source": [
    "2 * get_p_value_by_z(-1.5)"
   ]
  },
  {
   "cell_type": "code",
   "execution_count": 6,
   "id": "d2b37bd0-ab82-49ca-9cd5-3dae53223b83",
   "metadata": {},
   "outputs": [
    {
     "data": {
      "text/plain": [
       "<function athena.stats.get_t_statistic(p_mean, s_mean, s_std, s_n: int) -> float>"
      ]
     },
     "execution_count": 6,
     "metadata": {},
     "output_type": "execute_result"
    }
   ],
   "source": [
    "get_t_statistic"
   ]
  },
  {
   "cell_type": "code",
   "execution_count": 7,
   "id": "57b396e2-4ce8-4996-8270-d172046a122f",
   "metadata": {},
   "outputs": [
    {
     "data": {
      "image/png": "[encoded data removed]",
      "text/latex": [
       "$\\displaystyle -10.0$"
      ],
      "text/plain": [
       "-10.0"
      ]
     },
     "execution_count": 7,
     "metadata": {},
     "output_type": "execute_result"
    }
   ],
   "source": [
    "p_mean = 68\n",
    "s_mean = 67\n",
    "s_std = 1\n",
    "s_n = 100\n",
    "\n",
    "get_t_statistic(p_mean, s_mean, s_std, s_n)"
   ]
  },
  {
   "cell_type": "code",
   "execution_count": 8,
   "id": "a873eb66-e8e1-412e-8cc1-d4dbbb815359",
   "metadata": {},
   "outputs": [
    {
     "data": {
      "image/png": "[encoded data removed]",
      "text/latex": [
       "$\\displaystyle 0.0530849133458411$"
      ],
      "text/plain": [
       "0.05308491334584106"
      ]
     },
     "execution_count": 8,
     "metadata": {},
     "output_type": "execute_result"
    }
   ],
   "source": [
    "get_p_value_by_t(-1.9, 6)"
   ]
  },
  {
   "cell_type": "code",
   "execution_count": 11,
   "id": "4a338dae-67c8-42b4-bd19-c9d0b9d47b5e",
   "metadata": {},
   "outputs": [
    {
     "data": {
      "image/png": "[encoded data removed]",
      "text/latex": [
       "$\\displaystyle 0.100985729819063$"
      ],
      "text/plain": [
       "0.10098572981906298"
      ]
     },
     "execution_count": 11,
     "metadata": {},
     "output_type": "execute_result"
    }
   ],
   "source": [
    "2 * get_p_value_by_t(-1.79, 12-1)"
   ]
  },
  {
   "cell_type": "code",
   "execution_count": 14,
   "id": "496d3f34-09f8-4ca8-b84d-3c06ebca957c",
   "metadata": {},
   "outputs": [
    {
     "data": {
      "image/png": "[encoded data removed]",
      "text/latex": [
       "$\\displaystyle 0.00341550792157888$"
      ],
      "text/plain": [
       "0.0034155079215788834"
      ]
     },
     "execution_count": 14,
     "metadata": {},
     "output_type": "execute_result"
    }
   ],
   "source": [
    "p_mean = 1.2\n",
    "s_mean = 1.05\n",
    "s_std = 0.5\n",
    "s_n = 100\n",
    "\n",
    "t_stat = get_t_statistic(p_mean, s_mean, s_std, s_n)\n",
    "p_val = get_p_value_by_t(t_stat, s_n - 1)\n",
    "\n",
    "p_val * 2"
   ]
  },
  {
   "cell_type": "code",
   "execution_count": 17,
   "id": "79bf3217-8cc7-4141-a723-f137b04495b6",
   "metadata": {},
   "outputs": [
    {
     "data": {
      "image/png": "[encoded data removed]",
      "text/latex": [
       "$\\displaystyle 17.17$"
      ],
      "text/plain": [
       "17.169999999999998"
      ]
     },
     "execution_count": 17,
     "metadata": {},
     "output_type": "execute_result"
    },
    {
     "data": {
      "image/png": "[encoded data removed]",
      "text/latex": [
       "$\\displaystyle 2.9814426038413$"
      ],
      "text/plain": [
       "2.9814426038413013"
      ]
     },
     "execution_count": 17,
     "metadata": {},
     "output_type": "execute_result"
    },
    {
     "data": {
      "image/png": "[encoded data removed]",
      "text/latex": [
       "$\\displaystyle -3.00164952588599$"
      ],
      "text/plain": [
       "-3.0016495258859854"
      ]
     },
     "execution_count": 17,
     "metadata": {},
     "output_type": "execute_result"
    },
    {
     "data": {
      "image/png": "[encoded data removed]",
      "text/latex": [
       "$\\displaystyle 0.00745820712444876$"
      ],
      "text/plain": [
       "0.0074582071244487635"
      ]
     },
     "execution_count": 17,
     "metadata": {},
     "output_type": "execute_result"
    }
   ],
   "source": [
    "# H0: p_mean = 20\n",
    "# Ha: p_mean < 20\n",
    "\n",
    "sample = [15.6, 16.2, 22.5, 20.5, 16.4, 19.4, 16.6, 17.9, 12.7, 13.9]\n",
    "s_mean = statistics.mean(sample)\n",
    "s_mean\n",
    "\n",
    "s_std = statistics.stdev(sample)\n",
    "s_std\n",
    "\n",
    "p_mean = 20\n",
    "\n",
    "s_n = len(sample)\n",
    "t_stat = get_t_statistic(p_mean, s_mean, s_std, s_n)\n",
    "p_val = get_p_value_by_t(t_stat, s_n - 1)\n",
    "\n",
    "t_stat\n",
    "p_val\n"
   ]
  },
  {
   "cell_type": "code",
   "execution_count": 20,
   "id": "0c74c8f7-6aa6-47af-b4c8-217b1ab83f91",
   "metadata": {},
   "outputs": [
    {
     "data": {
      "image/png": "[encoded data removed]",
      "text/latex": [
       "$\\displaystyle 2.1380899352994$"
      ],
      "text/plain": [
       "2.138089935299395"
      ]
     },
     "execution_count": 20,
     "metadata": {},
     "output_type": "execute_result"
    },
    {
     "data": {
      "image/png": "[encoded data removed]",
      "text/latex": [
       "$\\displaystyle 0.0162547223228597$"
      ],
      "text/plain": [
       "0.016254722322859738"
      ]
     },
     "execution_count": 20,
     "metadata": {},
     "output_type": "execute_result"
    }
   ],
   "source": [
    "p0 = 0.3\n",
    "s_n = 150\n",
    "s_p_n = 57\n",
    "\n",
    "z_stat = get_z_statistic(p0, s_n, s_p_n)\n",
    "z_stat\n",
    "p_val = get_p_value_by_z(z_stat)\n",
    "p_val"
   ]
  },
  {
   "cell_type": "code",
   "execution_count": 21,
   "id": "c8248d3f-e10e-4318-b5b2-4c5f06f2354d",
   "metadata": {},
   "outputs": [
    {
     "data": {
      "image/png": "[encoded data removed]",
      "text/latex": [
       "$\\displaystyle 1.95996398454005$"
      ],
      "text/plain": [
       "1.959963984540054"
      ]
     },
     "execution_count": 21,
     "metadata": {},
     "output_type": "execute_result"
    }
   ],
   "source": [
    "get_z_star(0.95)"
   ]
  },
  {
   "cell_type": "code",
   "execution_count": null,
   "id": "acf3f832-5f8b-46d0-aac7-4e29d5b08966",
   "metadata": {},
   "outputs": [],
   "source": []
  }
 ],
 "metadata": {
  "kernelspec": {
   "display_name": "Math",
   "language": "python",
   "name": "math"
  },
  "language_info": {
   "codemirror_mode": {
    "name": "ipython",
    "version": 3
   },
   "file_extension": ".py",
   "mimetype": "text/x-python",
   "name": "python",
   "nbconvert_exporter": "python",
   "pygments_lexer": "ipython3",
   "version": "3.8.13"
  }
 },
 "nbformat": 4,
 "nbformat_minor": 5
}
