{
 "cells": [
  {
   "cell_type": "code",
   "execution_count": 1,
   "id": "c839c4f7-6fab-44b0-879d-6d3b14a36fe7",
   "metadata": {},
   "outputs": [
    {
     "name": "stdout",
     "output_type": "stream",
     "text": [
      "Added D:\\Dev\\Code\\MyMathLab to PATH\n"
     ]
    }
   ],
   "source": [
    "from IPython.core.interactiveshell import InteractiveShell\n",
    "InteractiveShell.ast_node_interactivity = 'all'\n",
    "\n",
    "# import self-made module\n",
    "import os, sys, pathlib\n",
    "file_path = os.path.abspath('')\n",
    "PROJECT_DIR = str(pathlib.Path(file_path).parent)\n",
    "sys.path.append(PROJECT_DIR)\n",
    "print(f\"Added {PROJECT_DIR} to PATH\")\n",
    "from athena import *\n",
    "from sympy.vector import CoordSys3D, gradient, curl, ParametricRegion, vector_integrate, scalar_potential\n",
    "from sympy.integrals.manualintegrate import integral_steps\n",
    "\n",
    "sp.init_printing()\n",
    "\n",
    "# ult functions\n",
    "def reset_symbols():\n",
    "    global x, y, z, a, b, c, d, e, f, g, h, r, s, k, t, u, v, theta, lmda, rho, phi\n",
    "    x, y, z = sp.symbols('x y z', real=True)\n",
    "    a, b, c, d, e, f, g, h, r, s, k, t, u, v = sp.symbols('a b c d e f g h r s k t u v', real=True)\n",
    "    theta = sp.Symbol('theta')\n",
    "    lmda = sp.Symbol('lambda')\n",
    "    rho = sp.Symbol('rho')\n",
    "    phi = sp.Symbol('phi')\n",
    "    \n",
    "\n",
    "reset_symbols()\n",
    "\n",
    "import statistics\n",
    "import math\n",
    "import numpy as np\n",
    "import scipy"
   ]
  },
  {
   "cell_type": "code",
   "execution_count": 2,
   "id": "382c02c9-2276-47b3-b15b-679b80bfeeb0",
   "metadata": {},
   "outputs": [
    {
     "data": {
      "image/png": "[encoded data removed]",
      "text/latex": [
       "$\\displaystyle 0.14423819921875$"
      ],
      "text/plain": [
       "0.14423819921874995"
      ]
     },
     "execution_count": 2,
     "metadata": {},
     "output_type": "execute_result"
    }
   ],
   "source": [
    "scipy.stats.binom.pmf(4, 7, 0.35) # pmf(k, n, p, loc=0)"
   ]
  },
  {
   "cell_type": "code",
   "execution_count": 3,
   "id": "78eb229e-e405-4ebc-a6a8-8fed90f6fe6f",
   "metadata": {},
   "outputs": [
    {
     "data": {
      "image/png": "[encoded data removed]",
      "text/latex": [
       "$\\displaystyle 0.94439246484375$"
      ],
      "text/plain": [
       "0.9443924648437501"
      ]
     },
     "execution_count": 3,
     "metadata": {},
     "output_type": "execute_result"
    }
   ],
   "source": [
    "scipy.stats.binom.cdf(4, 7, 0.35) # cdf(k, n, p, loc=0)"
   ]
  },
  {
   "cell_type": "code",
   "execution_count": 4,
   "id": "235fbb9c-7b8e-4959-bd2f-e628d6e7ffa1",
   "metadata": {},
   "outputs": [
    {
     "data": {
      "image/png": "[encoded data removed]",
      "text/latex": [
       "$\\displaystyle 0.1536$"
      ],
      "text/plain": [
       "0.1535999999999999"
      ]
     },
     "execution_count": 4,
     "metadata": {},
     "output_type": "execute_result"
    }
   ],
   "source": [
    "n = 4\n",
    "k = 2\n",
    "p = 0.2\n",
    "\n",
    "scipy.stats.binom.pmf(k, n, p) # pmf(k, n, p, loc=0)"
   ]
  },
  {
   "cell_type": "code",
   "execution_count": 5,
   "id": "bce74811-6ce6-4901-9a1a-8c003886bb01",
   "metadata": {},
   "outputs": [
    {
     "data": {
      "image/png": "[encoded data removed]",
      "text/latex": [
       "$\\displaystyle 0.0272$"
      ],
      "text/plain": [
       "0.027200000000000002"
      ]
     },
     "execution_count": 5,
     "metadata": {},
     "output_type": "execute_result"
    },
    {
     "data": {
      "image/png": "[encoded data removed]",
      "text/latex": [
       "$\\displaystyle 0.0272$"
      ],
      "text/plain": [
       "0.027200000000000002"
      ]
     },
     "execution_count": 5,
     "metadata": {},
     "output_type": "execute_result"
    }
   ],
   "source": [
    "n = 4\n",
    "hb_k = 4\n",
    "lb_k = 3 - 1\n",
    "p = 0.2\n",
    "\n",
    "scipy.stats.binom.cdf(hb_k, n, p) - scipy.stats.binom.cdf(lb_k, n, p) # 1 - x >= 2\n",
    "1 - scipy.stats.binom.cdf(lb_k, n, p) # 1 - x >= 2"
   ]
  },
  {
   "cell_type": "code",
   "execution_count": 6,
   "id": "1280820b-1dff-49d2-8924-e9c6df471107",
   "metadata": {},
   "outputs": [
    {
     "data": {
      "image/png": "[encoded data removed]",
      "text/latex": [
       "$\\displaystyle 1.0$"
      ],
      "text/plain": [
       "1.0"
      ]
     },
     "execution_count": 6,
     "metadata": {},
     "output_type": "execute_result"
    }
   ],
   "source": [
    "scipy.stats.binom.cdf(7, 7, 0.35) # cdf(k, n, p, loc=0)"
   ]
  },
  {
   "cell_type": "code",
   "execution_count": 7,
   "id": "92fa3467-315b-4208-9c54-5a43c9a94e0d",
   "metadata": {},
   "outputs": [
    {
     "data": {
      "image/png": "[encoded data removed]",
      "text/latex": [
       "$\\displaystyle 0.1536$"
      ],
      "text/plain": [
       "0.15360000000000001"
      ]
     },
     "execution_count": 7,
     "metadata": {},
     "output_type": "execute_result"
    }
   ],
   "source": [
    "n = 4\n",
    "k = 3\n",
    "p = 0.4\n",
    "\n",
    "scipy.stats.binom.pmf(k, n, p)"
   ]
  },
  {
   "cell_type": "code",
   "execution_count": 8,
   "id": "d3937e1d-0bf7-4cd5-8260-03314d7b2e3e",
   "metadata": {},
   "outputs": [
    {
     "data": {
      "image/png": "[encoded data removed]",
      "text/latex": [
       "$\\displaystyle 0.33696$"
      ],
      "text/plain": [
       "0.3369599999999999"
      ]
     },
     "execution_count": 8,
     "metadata": {},
     "output_type": "execute_result"
    }
   ],
   "source": [
    "n = 5\n",
    "k = 3\n",
    "p = 0.6\n",
    "\n",
    "1 - scipy.stats.binom.cdf(k, n, p)"
   ]
  },
  {
   "cell_type": "code",
   "execution_count": 9,
   "id": "67501b4d-9e49-481f-b352-a408243f8908",
   "metadata": {},
   "outputs": [
    {
     "data": {
      "image/png": "[encoded data removed]",
      "text/latex": [
       "$\\displaystyle 0.296630859375$"
      ],
      "text/plain": [
       "0.296630859375"
      ]
     },
     "execution_count": 9,
     "metadata": {},
     "output_type": "execute_result"
    }
   ],
   "source": [
    "n = 6\n",
    "k = 2\n",
    "p = 0.25\n",
    "\n",
    "scipy.stats.binom.pmf(k, n, p)"
   ]
  },
  {
   "cell_type": "code",
   "execution_count": 10,
   "id": "f26979c4-4b99-49a3-a286-afa3c3e72e61",
   "metadata": {},
   "outputs": [
    {
     "data": {
      "image/png": "[encoded data removed]",
      "text/latex": [
       "$\\displaystyle 0.533935546875$"
      ],
      "text/plain": [
       "0.533935546875"
      ]
     },
     "execution_count": 10,
     "metadata": {},
     "output_type": "execute_result"
    }
   ],
   "source": [
    "n = 6\n",
    "k = 1\n",
    "p = 0.25\n",
    "\n",
    "scipy.stats.binom.cdf(k, n, p)"
   ]
  },
  {
   "cell_type": "code",
   "execution_count": 11,
   "id": "4efa1fe3-a837-4aa5-bf0a-35a019550900",
   "metadata": {},
   "outputs": [
    {
     "data": {
      "image/png": "[encoded data removed]",
      "text/latex": [
       "$\\displaystyle 10.0$"
      ],
      "text/plain": [
       "10.0"
      ]
     },
     "execution_count": 11,
     "metadata": {},
     "output_type": "execute_result"
    },
    {
     "data": {
      "image/png": "[encoded data removed]",
      "text/latex": [
       "$\\displaystyle 3.13049516849971$"
      ],
      "text/plain": [
       "3.1304951684997055"
      ]
     },
     "execution_count": 11,
     "metadata": {},
     "output_type": "execute_result"
    }
   ],
   "source": [
    "n = 500\n",
    "p = 0.02\n",
    "scipy.stats.binom.mean(n, p)\n",
    "scipy.stats.binom.std(n, p)"
   ]
  },
  {
   "cell_type": "code",
   "execution_count": 12,
   "id": "5d253f1b-f144-4bf7-a2d3-622d2c26ff67",
   "metadata": {},
   "outputs": [
    {
     "data": {
      "image/png": "[encoded data removed]",
      "text/latex": [
       "$\\displaystyle 30.0$"
      ],
      "text/plain": [
       "30.0"
      ]
     },
     "execution_count": 12,
     "metadata": {},
     "output_type": "execute_result"
    },
    {
     "data": {
      "image/png": "[encoded data removed]",
      "text/latex": [
       "$\\displaystyle 5.19615242270663$"
      ],
      "text/plain": [
       "5.196152422706632"
      ]
     },
     "execution_count": 12,
     "metadata": {},
     "output_type": "execute_result"
    }
   ],
   "source": [
    "n = 300\n",
    "p = 0.1\n",
    "scipy.stats.binom.mean(n, p)\n",
    "scipy.stats.binom.std(n, p)"
   ]
  },
  {
   "cell_type": "code",
   "execution_count": 13,
   "id": "8409e66f-b611-4880-abf2-9eaddf1d825d",
   "metadata": {},
   "outputs": [
    {
     "data": {
      "image/png": "[encoded data removed]",
      "text/latex": [
       "$\\displaystyle 9.6$"
      ],
      "text/plain": [
       "9.6"
      ]
     },
     "execution_count": 13,
     "metadata": {},
     "output_type": "execute_result"
    },
    {
     "data": {
      "image/png": "[encoded data removed]",
      "text/latex": [
       "$\\displaystyle 1.95959179422654$"
      ],
      "text/plain": [
       "1.9595917942265424"
      ]
     },
     "execution_count": 13,
     "metadata": {},
     "output_type": "execute_result"
    }
   ],
   "source": [
    "n = 16\n",
    "p = 0.6\n",
    "scipy.stats.binom.mean(n, p)\n",
    "scipy.stats.binom.std(n, p)"
   ]
  },
  {
   "cell_type": "code",
   "execution_count": 14,
   "id": "0cc8bcd3-a7e6-4a78-b961-f1e27428d4ab",
   "metadata": {},
   "outputs": [
    {
     "data": {
      "image/png": "[encoded data removed]",
      "text/latex": [
       "$\\displaystyle 4.0$"
      ],
      "text/plain": [
       "4.0"
      ]
     },
     "execution_count": 14,
     "metadata": {},
     "output_type": "execute_result"
    },
    {
     "data": {
      "image/png": "[encoded data removed]",
      "text/latex": [
       "$\\displaystyle 1.78885438199983$"
      ],
      "text/plain": [
       "1.7888543819998317"
      ]
     },
     "execution_count": 14,
     "metadata": {},
     "output_type": "execute_result"
    }
   ],
   "source": [
    "n = 20\n",
    "p = 0.2\n",
    "scipy.stats.binom.mean(n, p)\n",
    "scipy.stats.binom.std(n, p)"
   ]
  },
  {
   "cell_type": "code",
   "execution_count": 15,
   "id": "50906b64-eef8-47c6-ae86-a0c1aaa40b49",
   "metadata": {},
   "outputs": [
    {
     "data": {
      "image/png": "[encoded data removed]",
      "text/latex": [
       "$\\displaystyle 20.0$"
      ],
      "text/plain": [
       "20.0"
      ]
     },
     "execution_count": 15,
     "metadata": {},
     "output_type": "execute_result"
    },
    {
     "data": {
      "image/png": "[encoded data removed]",
      "text/latex": [
       "$\\displaystyle 4.38178046004133$"
      ],
      "text/plain": [
       "4.381780460041329"
      ]
     },
     "execution_count": 15,
     "metadata": {},
     "output_type": "execute_result"
    }
   ],
   "source": [
    "n = 500\n",
    "p = 0.04\n",
    "scipy.stats.binom.mean(n, p)\n",
    "scipy.stats.binom.std(n, p)"
   ]
  },
  {
   "cell_type": "code",
   "execution_count": 22,
   "id": "b14bc44f-60d8-4f5e-a8ef-e1cf808981a8",
   "metadata": {},
   "outputs": [
    {
     "data": {
      "image/png": "[encoded data removed]",
      "text/latex": [
       "$\\displaystyle 0.366032341273229$"
      ],
      "text/plain": [
       "0.3660323412732289"
      ]
     },
     "execution_count": 22,
     "metadata": {},
     "output_type": "execute_result"
    },
    {
     "data": {
      "image/png": "[encoded data removed]",
      "text/latex": [
       "$\\displaystyle 0.369729637649727$"
      ],
      "text/plain": [
       "0.36972963764972655"
      ]
     },
     "execution_count": 22,
     "metadata": {},
     "output_type": "execute_result"
    }
   ],
   "source": [
    "scipy.stats.binom.pmf(100, 100, 0.99)\n",
    "scipy.stats.binom.pmf(99, 100, 0.99)"
   ]
  },
  {
   "cell_type": "code",
   "execution_count": null,
   "id": "aff8f760-5848-4dce-9e6f-5736a3235d27",
   "metadata": {},
   "outputs": [],
   "source": []
  },
  {
   "cell_type": "code",
   "execution_count": 23,
   "id": "af51bb2c-68e9-49fd-bfe3-8e5a352417aa",
   "metadata": {},
   "outputs": [
    {
     "data": {
      "image/png": "[encoded data removed]",
      "text/latex": [
       "$\\displaystyle 0.00289778712376149$"
      ],
      "text/plain": [
       "0.0028977871237614874"
      ]
     },
     "execution_count": 23,
     "metadata": {},
     "output_type": "execute_result"
    },
    {
     "data": {
      "image/png": "[encoded data removed]",
      "text/latex": [
       "$\\displaystyle 0.180017827270429$"
      ],
      "text/plain": [
       "0.18001782727042911"
      ]
     },
     "execution_count": 23,
     "metadata": {},
     "output_type": "execute_result"
    }
   ],
   "source": [
    "scipy.stats.binom.pmf(95, 100, 0.99)\n",
    "scipy.stats.binom.pmf(95, 100, 0.95)"
   ]
  },
  {
   "cell_type": "code",
   "execution_count": null,
   "id": "caa8be8f-26b5-4993-b4c4-97ebd3236d8b",
   "metadata": {},
   "outputs": [],
   "source": []
  }
 ],
 "metadata": {
  "kernelspec": {
   "display_name": "Math",
   "language": "python",
   "name": "math"
  },
  "language_info": {
   "codemirror_mode": {
    "name": "ipython",
    "version": 3
   },
   "file_extension": ".py",
   "mimetype": "text/x-python",
   "name": "python",
   "nbconvert_exporter": "python",
   "pygments_lexer": "ipython3",
   "version": "3.8.13"
  }
 },
 "nbformat": 4,
 "nbformat_minor": 5
}
