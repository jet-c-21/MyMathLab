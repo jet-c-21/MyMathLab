{
 "cells": [
  {
   "cell_type": "code",
   "execution_count": 1,
   "id": "9e40996a-87c0-4303-ab8d-8b76f49f68d9",
   "metadata": {},
   "outputs": [
    {
     "name": "stdout",
     "output_type": "stream",
     "text": [
      "Added D:\\Dev\\Code\\MyMathLab to PATH\n"
     ]
    }
   ],
   "source": [
    "from IPython.core.interactiveshell import InteractiveShell\n",
    "InteractiveShell.ast_node_interactivity = 'all'\n",
    "\n",
    "# import self-made module\n",
    "import os, sys, pathlib\n",
    "file_path = os.path.abspath('')\n",
    "PROJECT_DIR = str(pathlib.Path(file_path).parent)\n",
    "sys.path.append(PROJECT_DIR)\n",
    "print(f\"Added {PROJECT_DIR} to PATH\")\n",
    "from athena import *\n",
    "from sympy.vector import CoordSys3D, gradient, curl, ParametricRegion, vector_integrate, scalar_potential\n",
    "from sympy.integrals.manualintegrate import integral_steps\n",
    "\n",
    "sp.init_printing()\n",
    "\n",
    "# ult functions\n",
    "def reset_symbols():\n",
    "    global x, y, z, a, b, c, d, e, f, g, h, r, s, k, t, u, v, theta, lmda, rho, phi\n",
    "    x, y, z = sp.symbols('x y z', real=True)\n",
    "    a, b, c, d, e, f, g, h, r, s, k, t, u, v = sp.symbols('a b c d e f g h r s k t u v', real=True)\n",
    "    theta = sp.Symbol('theta')\n",
    "    lmda = sp.Symbol('lambda')\n",
    "    rho = sp.Symbol('rho')\n",
    "    phi = sp.Symbol('phi')\n",
    "    \n",
    "\n",
    "reset_symbols()\n",
    "\n",
    "import statistics\n",
    "import math\n",
    "import numpy as np\n",
    "import scipy"
   ]
  },
  {
   "cell_type": "code",
   "execution_count": 3,
   "id": "c6ba4a39-b9df-48cd-aaf9-090c3a2380dd",
   "metadata": {},
   "outputs": [
    {
     "data": {
      "image/png": "[encoded data removed]",
      "text/latex": [
       "$\\displaystyle 2.04081632653061$"
      ],
      "text/plain": [
       "2.0408163265306123"
      ]
     },
     "execution_count": 3,
     "metadata": {},
     "output_type": "execute_result"
    }
   ],
   "source": [
    "hyp_actual_p = 1/7\n",
    "scipy.stats.binom.pmf(2, 2, hyp_actual_p) * 100"
   ]
  },
  {
   "cell_type": "code",
   "execution_count": 21,
   "id": "22f38623-ee82-40db-965c-dc2e1f7ad88e",
   "metadata": {},
   "outputs": [
    {
     "data": {
      "image/png": "[encoded data removed]",
      "text/latex": [
       "$\\displaystyle 0.0231740595717936$"
      ],
      "text/plain": [
       "0.023174059571793564"
      ]
     },
     "execution_count": 21,
     "metadata": {},
     "output_type": "execute_result"
    }
   ],
   "source": [
    "s_n = 60\n",
    "s_p_n = 58\n",
    "p_hat = s_p_n / s_n\n",
    "p_val = math.sqrt((p_hat * (1 - p_hat)) / (s_n))\n",
    "\n",
    "p_val"
   ]
  },
  {
   "cell_type": "code",
   "execution_count": 14,
   "id": "ea17a1b4-385d-460f-b36e-6ec8d5b0164e",
   "metadata": {},
   "outputs": [
    {
     "name": "stdout",
     "output_type": "stream",
     "text": [
      "correct person: 00, p_val: 0.0\n",
      "correct person: 01, p_val: 0.016527\n",
      "correct person: 02, p_val: 0.023174\n",
      "correct person: 03, p_val: 0.028137\n",
      "correct person: 04, p_val: 0.032203\n",
      "correct person: 05, p_val: 0.035681\n",
      "correct person: 06, p_val: 0.03873\n",
      "correct person: 07, p_val: 0.041444\n",
      "correct person: 08, p_val: 0.043885\n",
      "correct person: 09, p_val: 0.046098\n",
      "correct person: 10, p_val: 0.048113\n",
      "correct person: 11, p_val: 0.049954\n",
      "correct person: 12, p_val: 0.05164\n",
      "correct person: 13, p_val: 0.053186\n",
      "correct person: 14, p_val: 0.054603\n",
      "correct person: 15, p_val: 0.055902\n",
      "correct person: 16, p_val: 0.05709\n",
      "correct person: 17, p_val: 0.058174\n",
      "correct person: 18, p_val: 0.059161\n",
      "correct person: 19, p_val: 0.060054\n",
      "correct person: 20, p_val: 0.060858\n",
      "correct person: 21, p_val: 0.061577\n",
      "correct person: 22, p_val: 0.062212\n",
      "correct person: 23, p_val: 0.062768\n",
      "correct person: 24, p_val: 0.063246\n",
      "correct person: 25, p_val: 0.063647\n",
      "correct person: 26, p_val: 0.063973\n",
      "correct person: 27, p_val: 0.064226\n",
      "correct person: 28, p_val: 0.064406\n",
      "correct person: 29, p_val: 0.064514\n",
      "correct person: 30, p_val: 0.06455\n",
      "correct person: 31, p_val: 0.064514\n",
      "correct person: 32, p_val: 0.064406\n",
      "correct person: 33, p_val: 0.064226\n",
      "correct person: 34, p_val: 0.063973\n",
      "correct person: 35, p_val: 0.063647\n",
      "correct person: 36, p_val: 0.063246\n",
      "correct person: 37, p_val: 0.062768\n",
      "correct person: 38, p_val: 0.062212\n",
      "correct person: 39, p_val: 0.061577\n",
      "correct person: 40, p_val: 0.060858\n",
      "correct person: 41, p_val: 0.060054\n",
      "correct person: 42, p_val: 0.059161\n",
      "correct person: 43, p_val: 0.058174\n",
      "correct person: 44, p_val: 0.05709\n",
      "correct person: 45, p_val: 0.055902\n",
      "correct person: 46, p_val: 0.054603\n",
      "correct person: 47, p_val: 0.053186\n",
      "correct person: 48, p_val: 0.05164\n",
      "correct person: 49, p_val: 0.049954\n",
      "correct person: 50, p_val: 0.048113\n",
      "correct person: 51, p_val: 0.046098\n",
      "correct person: 52, p_val: 0.043885\n",
      "correct person: 53, p_val: 0.041444\n",
      "correct person: 54, p_val: 0.03873\n",
      "correct person: 55, p_val: 0.035681\n",
      "correct person: 56, p_val: 0.032203\n",
      "correct person: 57, p_val: 0.028137\n",
      "correct person: 58, p_val: 0.023174\n",
      "correct person: 59, p_val: 0.016527\n",
      "correct person: 60, p_val: 0.0\n"
     ]
    }
   ],
   "source": [
    "s_n = 60\n",
    "for s_p_n in range(s_n + 1):\n",
    "    p_hat = s_p_n / s_n\n",
    "    p_val = math.sqrt((p_hat * (1 - p_hat)) / s_n )\n",
    "\n",
    "    print(f\"correct person: {str(s_p_n).zfill(2)}, p_val: {round(p_val, 6)}\")\n",
    "    "
   ]
  },
  {
   "cell_type": "code",
   "execution_count": 22,
   "id": "9abfabe3-b3e1-44ff-a41e-a2b5c3f8b95f",
   "metadata": {},
   "outputs": [
    {
     "data": {
      "text/plain": [
       "True"
      ]
     },
     "execution_count": 22,
     "metadata": {},
     "output_type": "execute_result"
    }
   ],
   "source": [
    "0.068 < 0.1"
   ]
  },
  {
   "cell_type": "code",
   "execution_count": null,
   "id": "8cb3398f-c5b4-4871-9cff-cf1d87698eec",
   "metadata": {},
   "outputs": [],
   "source": []
  }
 ],
 "metadata": {
  "kernelspec": {
   "display_name": "Math",
   "language": "python",
   "name": "math"
  },
  "language_info": {
   "codemirror_mode": {
    "name": "ipython",
    "version": 3
   },
   "file_extension": ".py",
   "mimetype": "text/x-python",
   "name": "python",
   "nbconvert_exporter": "python",
   "pygments_lexer": "ipython3",
   "version": "3.8.13"
  }
 },
 "nbformat": 4,
 "nbformat_minor": 5
}
