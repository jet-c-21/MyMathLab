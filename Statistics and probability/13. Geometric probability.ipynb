{
 "cells": [
  {
   "cell_type": "code",
   "execution_count": 3,
   "id": "411beb48-ac10-4a14-9a7a-fb6fa440bcb3",
   "metadata": {},
   "outputs": [
    {
     "name": "stdout",
     "output_type": "stream",
     "text": [
      "Added D:\\Dev\\Code\\MyMathLab to PATH\n"
     ]
    }
   ],
   "source": [
    "from IPython.core.interactiveshell import InteractiveShell\n",
    "InteractiveShell.ast_node_interactivity = 'all'\n",
    "\n",
    "# import self-made module\n",
    "import os, sys, pathlib\n",
    "file_path = os.path.abspath('')\n",
    "PROJECT_DIR = str(pathlib.Path(file_path).parent)\n",
    "sys.path.append(PROJECT_DIR)\n",
    "print(f\"Added {PROJECT_DIR} to PATH\")\n",
    "from athena import *\n",
    "from sympy.vector import CoordSys3D, gradient, curl, ParametricRegion, vector_integrate, scalar_potential\n",
    "from sympy.integrals.manualintegrate import integral_steps\n",
    "\n",
    "sp.init_printing()\n",
    "\n",
    "# ult functions\n",
    "def reset_symbols():\n",
    "    global x, y, z, a, b, c, d, e, f, g, h, r, s, k, t, u, v, theta, lmda, rho, phi\n",
    "    x, y, z = sp.symbols('x y z', real=True)\n",
    "    a, b, c, d, e, f, g, h, r, s, k, t, u, v = sp.symbols('a b c d e f g h r s k t u v', real=True)\n",
    "    theta = sp.Symbol('theta')\n",
    "    lmda = sp.Symbol('lambda')\n",
    "    rho = sp.Symbol('rho')\n",
    "    phi = sp.Symbol('phi')\n",
    "    \n",
    "\n",
    "reset_symbols()\n",
    "\n",
    "import statistics\n",
    "import math\n",
    "import numpy as np\n",
    "import scipy"
   ]
  },
  {
   "cell_type": "code",
   "execution_count": 4,
   "id": "e141cecd-a118-4088-a9bc-3a960639a59c",
   "metadata": {},
   "outputs": [
    {
     "data": {
      "image/png": "[encoded data removed]",
      "text/latex": [
       "$\\displaystyle 0.0173625106649344$"
      ],
      "text/plain": [
       "0.0173625106649344"
      ]
     },
     "execution_count": 4,
     "metadata": {},
     "output_type": "execute_result"
    }
   ],
   "source": [
    "k = 8\n",
    "p = 0.02\n",
    "\n",
    "scipy.stats.geom.pmf(k, p)"
   ]
  },
  {
   "cell_type": "code",
   "execution_count": 5,
   "id": "fa7ce826-e491-4f49-9b6a-bb2e13d746a7",
   "metadata": {},
   "outputs": [
    {
     "data": {
      "image/png": "[encoded data removed]",
      "text/latex": [
       "$\\displaystyle 0.0417454912680805$"
      ],
      "text/plain": [
       "0.041745491268080546"
      ]
     },
     "execution_count": 5,
     "metadata": {},
     "output_type": "execute_result"
    }
   ],
   "source": [
    "k = 6\n",
    "p = 1/18\n",
    "\n",
    "scipy.stats.geom.pmf(k, p)"
   ]
  },
  {
   "cell_type": "code",
   "execution_count": 6,
   "id": "30bee020-11e4-43f4-b6aa-ab6717b7a894",
   "metadata": {},
   "outputs": [
    {
     "data": {
      "image/png": "[encoded data removed]",
      "text/latex": [
       "$\\displaystyle 0.0729$"
      ],
      "text/plain": [
       "0.0729"
      ]
     },
     "execution_count": 6,
     "metadata": {},
     "output_type": "execute_result"
    }
   ],
   "source": [
    "k = 4\n",
    "p = 1/10\n",
    "\n",
    "scipy.stats.geom.pmf(k, p)"
   ]
  },
  {
   "cell_type": "code",
   "execution_count": 12,
   "id": "0083198a-027f-431b-93ec-0288f93fa574",
   "metadata": {},
   "outputs": [
    {
     "data": {
      "image/png": "[encoded data removed]",
      "text/latex": [
       "$\\displaystyle 0.59969536$"
      ],
      "text/plain": [
       "0.59969536"
      ]
     },
     "execution_count": 12,
     "metadata": {},
     "output_type": "execute_result"
    },
    {
     "data": {
      "image/png": "[encoded data removed]",
      "text/latex": [
       "$\\displaystyle 0.59969536$"
      ],
      "text/plain": [
       "0.59969536"
      ]
     },
     "execution_count": 12,
     "metadata": {},
     "output_type": "execute_result"
    }
   ],
   "source": [
    "k = 4\n",
    "p = 0.12\n",
    "\n",
    "1 - scipy.stats.geom.cdf(k, p)\n",
    "(1 - p) ** 4"
   ]
  },
  {
   "cell_type": "code",
   "execution_count": 13,
   "id": "e6a10114-c675-4400-a91d-e2ada183ea12",
   "metadata": {},
   "outputs": [
    {
     "data": {
      "image/png": "[encoded data removed]",
      "text/latex": [
       "$\\displaystyle 0.3439$"
      ],
      "text/plain": [
       "0.34390000000000004"
      ]
     },
     "execution_count": 13,
     "metadata": {},
     "output_type": "execute_result"
    }
   ],
   "source": [
    "k = 5 - 1\n",
    "p = 0.1\n",
    "\n",
    "scipy.stats.geom.cdf(k, p)"
   ]
  },
  {
   "cell_type": "code",
   "execution_count": 14,
   "id": "effb7697-20e8-45f4-989b-5cd2829ef524",
   "metadata": {},
   "outputs": [
    {
     "data": {
      "image/png": "[encoded data removed]",
      "text/latex": [
       "$\\displaystyle 0.0558480768557447$"
      ],
      "text/plain": [
       "0.055848076855744666"
      ]
     },
     "execution_count": 14,
     "metadata": {},
     "output_type": "execute_result"
    }
   ],
   "source": [
    "k = 5\n",
    "p = 4/52\n",
    "\n",
    "scipy.stats.geom.pmf(k, p)"
   ]
  },
  {
   "cell_type": "code",
   "execution_count": 15,
   "id": "8473c0c7-d943-4c50-87a7-cef913ae91cc",
   "metadata": {},
   "outputs": [
    {
     "data": {
      "image/png": "[encoded data removed]",
      "text/latex": [
       "$\\displaystyle 0.513434800596315$"
      ],
      "text/plain": [
       "0.5134348005963147"
      ]
     },
     "execution_count": 15,
     "metadata": {},
     "output_type": "execute_result"
    }
   ],
   "source": [
    "k = 10 - 1\n",
    "p = 4/52\n",
    "\n",
    "scipy.stats.geom.cdf(k, p)"
   ]
  },
  {
   "cell_type": "code",
   "execution_count": 17,
   "id": "df801cc3-4d97-4199-ac93-fa47081ec61b",
   "metadata": {},
   "outputs": [
    {
     "data": {
      "image/png": "[encoded data removed]",
      "text/latex": [
       "$\\displaystyle 0.382696706677091$"
      ],
      "text/plain": [
       "0.38269670667709066"
      ]
     },
     "execution_count": 17,
     "metadata": {},
     "output_type": "execute_result"
    }
   ],
   "source": [
    "k = 12\n",
    "p = 4/52\n",
    "\n",
    "1 - scipy.stats.geom.cdf(k, p)"
   ]
  },
  {
   "cell_type": "code",
   "execution_count": 19,
   "id": "1260dda5-e71c-4a81-b1a2-8e1a7854ab97",
   "metadata": {},
   "outputs": [
    {
     "data": {
      "image/png": "[encoded data removed]",
      "text/latex": [
       "$\\displaystyle 0.578125$"
      ],
      "text/plain": [
       "0.578125"
      ]
     },
     "execution_count": 19,
     "metadata": {},
     "output_type": "execute_result"
    }
   ],
   "source": [
    "k = 4 - 1\n",
    "p = 0.25\n",
    "\n",
    "scipy.stats.geom.cdf(k, p)"
   ]
  },
  {
   "cell_type": "code",
   "execution_count": 20,
   "id": "21bce63a-63a4-4e86-8ca0-263b476ca24f",
   "metadata": {},
   "outputs": [
    {
     "data": {
      "image/png": "[encoded data removed]",
      "text/latex": [
       "$\\displaystyle 0.027$"
      ],
      "text/plain": [
       "0.027000000000000024"
      ]
     },
     "execution_count": 20,
     "metadata": {},
     "output_type": "execute_result"
    }
   ],
   "source": [
    "k = 4 - 1\n",
    "p = 0.7\n",
    "\n",
    "1 - scipy.stats.geom.cdf(k, p)"
   ]
  },
  {
   "cell_type": "code",
   "execution_count": 21,
   "id": "fbf5e77e-3714-4594-9ad4-55f678fef433",
   "metadata": {},
   "outputs": [
    {
     "data": {
      "image/png": "[encoded data removed]",
      "text/latex": [
       "$\\displaystyle 0.169416$"
      ],
      "text/plain": [
       "0.16941599999999996"
      ]
     },
     "execution_count": 21,
     "metadata": {},
     "output_type": "execute_result"
    }
   ],
   "source": [
    "k = 3\n",
    "p = 0.06\n",
    "\n",
    "scipy.stats.geom.cdf(k, p)"
   ]
  },
  {
   "cell_type": "code",
   "execution_count": 22,
   "id": "7d6dd7f9-7453-49a2-89df-3d9220ec44e3",
   "metadata": {},
   "outputs": [
    {
     "data": {
      "image/png": "[encoded data removed]",
      "text/latex": [
       "$\\displaystyle 0.59969536$"
      ],
      "text/plain": [
       "0.59969536"
      ]
     },
     "execution_count": 22,
     "metadata": {},
     "output_type": "execute_result"
    }
   ],
   "source": [
    "k = 4\n",
    "p = 0.12\n",
    "\n",
    "1 - scipy.stats.geom.cdf(k, p)"
   ]
  },
  {
   "cell_type": "code",
   "execution_count": 26,
   "id": "1c44a883-e4fa-4b94-9b08-14b9a97a318d",
   "metadata": {},
   "outputs": [
    {
     "data": {
      "image/png": "[encoded data removed]",
      "text/latex": [
       "$\\displaystyle 5.0$"
      ],
      "text/plain": [
       "5.0"
      ]
     },
     "execution_count": 26,
     "metadata": {},
     "output_type": "execute_result"
    }
   ],
   "source": [
    "p = 0.5 ** 3\n",
    "exp = p * (-100) + (1 - p) * 20\n",
    "exp"
   ]
  },
  {
   "cell_type": "code",
   "execution_count": 30,
   "id": "555c0e8a-854b-4b87-b77a-b40f46f5e03b",
   "metadata": {},
   "outputs": [
    {
     "data": {
      "image/png": "[encoded data removed]",
      "text/latex": [
       "$\\displaystyle 0.5$"
      ],
      "text/plain": [
       "0.5"
      ]
     },
     "execution_count": 30,
     "metadata": {},
     "output_type": "execute_result"
    },
    {
     "data": {
      "image/png": "[encoded data removed]",
      "text/latex": [
       "$\\displaystyle 12.5$"
      ],
      "text/plain": [
       "12.5"
      ]
     },
     "execution_count": 30,
     "metadata": {},
     "output_type": "execute_result"
    }
   ],
   "source": [
    "p = 1 - scipy.stats.binom.cdf(1, 3, 0.5)\n",
    "p\n",
    "exp = p * (50) + (1 - p) * -25\n",
    "exp"
   ]
  },
  {
   "cell_type": "code",
   "execution_count": null,
   "id": "1e36226e-f437-4ea7-bebf-c6fa3f0aaf7d",
   "metadata": {},
   "outputs": [],
   "source": []
  }
 ],
 "metadata": {
  "kernelspec": {
   "display_name": "Math",
   "language": "python",
   "name": "math"
  },
  "language_info": {
   "codemirror_mode": {
    "name": "ipython",
    "version": 3
   },
   "file_extension": ".py",
   "mimetype": "text/x-python",
   "name": "python",
   "nbconvert_exporter": "python",
   "pygments_lexer": "ipython3",
   "version": "3.8.13"
  }
 },
 "nbformat": 4,
 "nbformat_minor": 5
}
