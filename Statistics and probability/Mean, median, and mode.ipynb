{
 "cells": [
  {
   "cell_type": "code",
   "execution_count": 1,
   "id": "82d6c08a-d94e-4bf6-960f-dc58d0640ca0",
   "metadata": {},
   "outputs": [
    {
     "name": "stdout",
     "output_type": "stream",
     "text": [
      "Added D:\\Dev\\MyMathLab to PATH\n"
     ]
    }
   ],
   "source": [
    "from IPython.core.interactiveshell import InteractiveShell\n",
    "InteractiveShell.ast_node_interactivity = 'all'\n",
    "\n",
    "# import self-made module\n",
    "import os, sys, pathlib\n",
    "file_path = os.path.abspath('')\n",
    "PROJECT_DIR = str(pathlib.Path(file_path).parent)\n",
    "sys.path.append(PROJECT_DIR)\n",
    "print(f\"Added {PROJECT_DIR} to PATH\")\n",
    "from athena import *\n",
    "from sympy.vector import CoordSys3D, gradient, curl, ParametricRegion, vector_integrate, scalar_potential\n",
    "from sympy.integrals.manualintegrate import integral_steps\n",
    "\n",
    "sp.init_printing()\n",
    "\n",
    "# ult functions\n",
    "def reset_symbols():\n",
    "    global x, y, z, a, b, c, d, e, f, g, h, r, s, k, t, u, v, theta, lmda, rho, phi\n",
    "    x, y, z = sp.symbols('x y z', real=True)\n",
    "    a, b, c, d, e, f, g, h, r, s, k, t, u, v = sp.symbols('a b c d e f g h r s k t u v', real=True)\n",
    "    theta = sp.Symbol('theta')\n",
    "    lmda = sp.Symbol('lambda')\n",
    "    rho = sp.Symbol('rho')\n",
    "    phi = sp.Symbol('phi')\n",
    "    \n",
    "\n",
    "reset_symbols()\n",
    "\n",
    "import statistics\n",
    "import math\n",
    "import numpy as np\n",
    "import scipy\n"
   ]
  },
  {
   "cell_type": "code",
   "execution_count": 2,
   "id": "43ade1fa-8440-49e0-a554-2d05858990c6",
   "metadata": {},
   "outputs": [
    {
     "data": {
      "image/png": "[encoded data removed]",
      "text/latex": [
       "$\\displaystyle 83.5$"
      ],
      "text/plain": [
       "83.5"
      ]
     },
     "execution_count": 2,
     "metadata": {},
     "output_type": "execute_result"
    }
   ],
   "source": [
    "statistics.median([81,82,83,83,84,84,85,85])"
   ]
  },
  {
   "cell_type": "code",
   "execution_count": 3,
   "id": "2f7cce15-3f77-4fc6-9568-b4d29bf777d9",
   "metadata": {},
   "outputs": [
    {
     "data": {
      "image/png": "[encoded data removed]",
      "text/latex": [
       "$\\displaystyle 1$"
      ],
      "text/plain": [
       "1"
      ]
     },
     "execution_count": 3,
     "metadata": {},
     "output_type": "execute_result"
    }
   ],
   "source": [
    "statistics.mode([8,1,2,6,1,4])"
   ]
  },
  {
   "cell_type": "code",
   "execution_count": 4,
   "id": "b91d48a8-6ddf-4ad1-b021-963b438820be",
   "metadata": {},
   "outputs": [
    {
     "data": {
      "image/png": "[encoded data removed]",
      "text/latex": [
       "$\\displaystyle 3.5$"
      ],
      "text/plain": [
       "3.5"
      ]
     },
     "execution_count": 4,
     "metadata": {},
     "output_type": "execute_result"
    }
   ],
   "source": [
    "statistics.mean([3, 3, 5, 3])"
   ]
  },
  {
   "cell_type": "code",
   "execution_count": 5,
   "id": "6a106a4d-9dc1-46b5-a5fb-7e0d8905f664",
   "metadata": {},
   "outputs": [],
   "source": [
    "def get_iqr(seq:list):\n",
    "    seq = sorted(seq)\n",
    "    n = len(seq)\n",
    "    if n == 0:\n",
    "        return None\n",
    "    \n",
    "    if n%2 == 1:\n",
    "        m_idx = n // 2\n",
    "        \n",
    "        q1 = statistics.median(seq[:m_idx])\n",
    "        q3 = statistics.median(seq[m_idx + 1:])\n",
    "    \n",
    "    else:\n",
    "        r_m_idx = n//2\n",
    "        l_m_idx = r_m_idx - 1\n",
    "        \n",
    "        # print(seq[:l_m_idx + 1])\n",
    "        # print(seq[r_m_idx:])\n",
    "        \n",
    "        q1 = statistics.median(seq[:l_m_idx + 1])\n",
    "        q3 = statistics.median(seq[r_m_idx:])\n",
    "    \n",
    "    return q3 - q1\n",
    "        \n",
    "        "
   ]
  },
  {
   "cell_type": "code",
   "execution_count": 6,
   "id": "30399823-96c6-4b40-a428-688c83d8b03f",
   "metadata": {},
   "outputs": [
    {
     "data": {
      "image/png": "[encoded data removed]",
      "text/latex": [
       "$\\displaystyle 3$"
      ],
      "text/plain": [
       "3"
      ]
     },
     "execution_count": 6,
     "metadata": {},
     "output_type": "execute_result"
    }
   ],
   "source": [
    "get_iqr([16,24,26,26,26,27,28])"
   ]
  },
  {
   "cell_type": "code",
   "execution_count": 7,
   "id": "7a98f86a-207a-4959-9d1a-fa7bb5eddf5b",
   "metadata": {},
   "outputs": [
    {
     "data": {
      "image/png": "[encoded data removed]",
      "text/latex": [
       "$\\displaystyle 2.0$"
      ],
      "text/plain": [
       "2.0"
      ]
     },
     "execution_count": 7,
     "metadata": {},
     "output_type": "execute_result"
    }
   ],
   "source": [
    "get_iqr([1,3,3,3,4,4,4,6,6])"
   ]
  },
  {
   "cell_type": "code",
   "execution_count": 8,
   "id": "b4dd7dd6-3046-478a-a659-e7a8a3981a04",
   "metadata": {},
   "outputs": [
    {
     "data": {
      "image/png": "[encoded data removed]",
      "text/latex": [
       "$\\displaystyle 3$"
      ],
      "text/plain": [
       "3"
      ]
     },
     "execution_count": 8,
     "metadata": {},
     "output_type": "execute_result"
    }
   ],
   "source": [
    "statistics.mean([6,2,3,1])"
   ]
  },
  {
   "cell_type": "code",
   "execution_count": 9,
   "id": "3f134ca8-f818-4942-bc4e-22652f9f68cc",
   "metadata": {},
   "outputs": [
    {
     "data": {
      "image/png": "[encoded data removed]",
      "text/latex": [
       "$\\displaystyle 4.66666666666667$"
      ],
      "text/plain": [
       "4.666666666666667"
      ]
     },
     "execution_count": 9,
     "metadata": {},
     "output_type": "execute_result"
    }
   ],
   "source": [
    "statistics.variance([6,2,3,1])"
   ]
  },
  {
   "cell_type": "code",
   "execution_count": 10,
   "id": "bfc461ff-e262-485a-a7a2-c041bfd42fe4",
   "metadata": {},
   "outputs": [
    {
     "data": {
      "image/png": "[encoded data removed]",
      "text/latex": [
       "$\\displaystyle 2.28035085019828$"
      ],
      "text/plain": [
       "2.280350850198276"
      ]
     },
     "execution_count": 10,
     "metadata": {},
     "output_type": "execute_result"
    }
   ],
   "source": [
    "np.std([1,4,7,2,6])"
   ]
  },
  {
   "cell_type": "code",
   "execution_count": 11,
   "id": "dcf98826-ac4b-4a87-b168-62db8aa0c59d",
   "metadata": {},
   "outputs": [
    {
     "data": {
      "image/png": "[encoded data removed]",
      "text/latex": [
       "$\\displaystyle 2.54950975679639$"
      ],
      "text/plain": [
       "2.5495097567963922"
      ]
     },
     "execution_count": 11,
     "metadata": {},
     "output_type": "execute_result"
    },
    {
     "data": {
      "image/png": "[encoded data removed]",
      "text/latex": [
       "$\\displaystyle 2.28035085019828$"
      ],
      "text/plain": [
       "2.280350850198276"
      ]
     },
     "execution_count": 11,
     "metadata": {},
     "output_type": "execute_result"
    },
    {
     "data": {
      "image/png": "[encoded data removed]",
      "text/latex": [
       "$\\displaystyle 2.28035085019828$"
      ],
      "text/plain": [
       "2.280350850198276"
      ]
     },
     "execution_count": 11,
     "metadata": {},
     "output_type": "execute_result"
    },
    {
     "data": {
      "image/png": "[encoded data removed]",
      "text/latex": [
       "$\\displaystyle 2.54950975679639$"
      ],
      "text/plain": [
       "2.5495097567963922"
      ]
     },
     "execution_count": 11,
     "metadata": {},
     "output_type": "execute_result"
    }
   ],
   "source": [
    "# 2.2803508502\n",
    "seq = [1,4,7,2,6]\n",
    "statistics.stdev(seq) # sample sd\n",
    "statistics.pstdev(seq)\n",
    "np.std(seq)\n",
    "scipy.stats.tstd(seq) # sample sd"
   ]
  },
  {
   "cell_type": "code",
   "execution_count": 15,
   "id": "67a7cd8a-5c99-4808-9734-0156470cb9fd",
   "metadata": {},
   "outputs": [
    {
     "data": {
      "image/png": "[encoded data removed]",
      "text/latex": [
       "$\\displaystyle 5.96657355607052$"
      ],
      "text/plain": [
       "5.966573556070519"
      ]
     },
     "execution_count": 15,
     "metadata": {},
     "output_type": "execute_result"
    }
   ],
   "source": [
    "np.std([4,21,11,6,8])"
   ]
  },
  {
   "cell_type": "code",
   "execution_count": null,
   "id": "2b9bfaca-40b0-487d-8f3d-f86ce9722fdd",
   "metadata": {},
   "outputs": [],
   "source": []
  }
 ],
 "metadata": {
  "kernelspec": {
   "display_name": "Math",
   "language": "python",
   "name": "math"
  },
  "language_info": {
   "codemirror_mode": {
    "name": "ipython",
    "version": 3
   },
   "file_extension": ".py",
   "mimetype": "text/x-python",
   "name": "python",
   "nbconvert_exporter": "python",
   "pygments_lexer": "ipython3",
   "version": "3.8.13"
  }
 },
 "nbformat": 4,
 "nbformat_minor": 5
}
